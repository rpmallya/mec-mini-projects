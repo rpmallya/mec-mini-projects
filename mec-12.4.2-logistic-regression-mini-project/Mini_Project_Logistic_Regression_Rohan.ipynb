{
  "cells": [
    {
      "cell_type": "markdown",
      "metadata": {
        "hide": true,
        "id": "8rAgA2pMofQx"
      },
      "source": [
        "# Classification\n",
        "$$\n",
        "\\renewcommand{\\like}{{\\cal L}}\n",
        "\\renewcommand{\\loglike}{{\\ell}}\n",
        "\\renewcommand{\\err}{{\\cal E}}\n",
        "\\renewcommand{\\dat}{{\\cal D}}\n",
        "\\renewcommand{\\hyp}{{\\cal H}}\n",
        "\\renewcommand{\\Ex}[2]{E_{#1}[#2]}\n",
        "\\renewcommand{\\x}{{\\mathbf x}}\n",
        "\\renewcommand{\\v}[1]{{\\mathbf #1}}\n",
        "$$"
      ]
    },
    {
      "cell_type": "markdown",
      "metadata": {
        "id": "DNzAWGjbofQz"
      },
      "source": [
        ""
      ]
    },
    {
      "cell_type": "markdown",
      "metadata": {
        "id": "WuNK8MNbofQz"
      },
      "source": [
        ""
      ]
    },
    {
      "cell_type": "markdown",
      "metadata": {
        "id": "Vk-LCacWofQz"
      },
      "source": [
        "**Note:** We've adapted this Mini Project from [Lab 5 in the CS109](https://github.com/cs109/2015lab5) course. Please feel free to check out the original lab, both for more exercises, as well as solutions."
      ]
    },
    {
      "cell_type": "markdown",
      "metadata": {
        "id": "_4x124WnofQ0"
      },
      "source": [
        "We turn our attention to **classification**. Classification tries to predict, which of a small set of classes, an observation belongs to. Mathematically, the aim is to find $y$, a **label** based on knowing a feature vector $\\x$. For instance, consider predicting gender from seeing a person's face, something we do fairly well as humans. To have a machine do this well, we would typically feed the machine a bunch of images of people which have been labelled \"male\" or \"female\" (the training set), and have it learn the gender of the person in the image from the labels and the *features* used to determine gender. Then, given a new photo, the trained algorithm returns us the gender of the person in the photo.\n",
        "\n",
        "There are different ways of making classifications. One idea is shown schematically in the image below, where we find a line that divides \"things\" of two different types in a 2-dimensional feature space. The classification show in the figure below is an example of a maximum-margin classifier where construct a decision boundary that is far as possible away from both classes of points. The fact that a line can be drawn to separate the two classes makes the problem *linearly separable*. Support Vector Machines (SVM) are an example of a maximum-margin classifier.\n",
        "\n",
        "![Splitting using a single line](images/onelinesplit.png)\n",
        "\n"
      ]
    },
    {
      "cell_type": "code",
      "execution_count": null,
      "metadata": {
        "hide": true,
        "id": "4Omjy1IkofQ0"
      },
      "outputs": [],
      "source": [
        "%matplotlib inline\n",
        "import numpy as np\n",
        "import scipy as sp\n",
        "import matplotlib as mpl\n",
        "import matplotlib.cm as cm\n",
        "from matplotlib.colors import ListedColormap\n",
        "import matplotlib.pyplot as plt\n",
        "import pandas as pd\n",
        "pd.set_option('display.width', 500)\n",
        "pd.set_option('display.max_columns', 100)\n",
        "pd.set_option('display.notebook_repr_html', True)\n",
        "import seaborn as sns\n",
        "sns.set_style(\"whitegrid\")\n",
        "sns.set_context(\"poster\")\n",
        "import sklearn.model_selection\n",
        "\n",
        "c0=sns.color_palette()[0]\n",
        "c1=sns.color_palette()[1]\n",
        "c2=sns.color_palette()[2]\n",
        "\n",
        "cmap_light = ListedColormap(['#FFAAAA', '#AAFFAA', '#AAAAFF'])\n",
        "cmap_bold = ListedColormap(['#FF0000', '#00FF00', '#0000FF'])\n",
        "cm = plt.cm.RdBu\n",
        "cm_bright = ListedColormap(['#FF0000', '#0000FF'])\n",
        "\n",
        "def points_plot(ax, Xtr, Xte, ytr, yte, clf, mesh=True, colorscale=cmap_light, \n",
        "                cdiscrete=cmap_bold, alpha=0.1, psize=10, zfunc=False, predicted=False):\n",
        "    h = .02\n",
        "    X=np.concatenate((Xtr, Xte))\n",
        "    x_min, x_max = X[:, 0].min() - .5, X[:, 0].max() + .5\n",
        "    y_min, y_max = X[:, 1].min() - .5, X[:, 1].max() + .5\n",
        "    xx, yy = np.meshgrid(np.linspace(x_min, x_max, 100),\n",
        "                         np.linspace(y_min, y_max, 100))\n",
        "\n",
        "    #plt.figure(figsize=(10,6))\n",
        "    if zfunc:\n",
        "        p0 = clf.predict_proba(np.c_[xx.ravel(), yy.ravel()])[:, 0]\n",
        "        p1 = clf.predict_proba(np.c_[xx.ravel(), yy.ravel()])[:, 1]\n",
        "        Z=zfunc(p0, p1)\n",
        "    else:\n",
        "        Z = clf.predict(np.c_[xx.ravel(), yy.ravel()])\n",
        "    ZZ = Z.reshape(xx.shape)\n",
        "    if mesh:\n",
        "        plt.pcolormesh(xx, yy, ZZ, cmap=cmap_light, alpha=alpha, axes=ax)\n",
        "    if predicted:\n",
        "        showtr = clf.predict(Xtr)\n",
        "        showte = clf.predict(Xte)\n",
        "    else:\n",
        "        showtr = ytr\n",
        "        showte = yte\n",
        "    ax.scatter(Xtr[:, 0], Xtr[:, 1], c=showtr-1, cmap=cmap_bold, \n",
        "               s=psize, alpha=alpha,edgecolor=\"k\")\n",
        "    # and testing points\n",
        "    ax.scatter(Xte[:, 0], Xte[:, 1], c=showte-1, cmap=cmap_bold, \n",
        "               alpha=alpha, marker=\"s\", s=psize+10)\n",
        "    ax.set_xlim(xx.min(), xx.max())\n",
        "    ax.set_ylim(yy.min(), yy.max())\n",
        "    return ax,xx,yy\n",
        "\n",
        "def points_plot_prob(ax, Xtr, Xte, ytr, yte, clf, colorscale=cmap_light, \n",
        "                     cdiscrete=cmap_bold, ccolor=cm, psize=10, alpha=0.1):\n",
        "    ax,xx,yy = points_plot(ax, Xtr, Xte, ytr, yte, clf, mesh=False, \n",
        "                           colorscale=colorscale, cdiscrete=cdiscrete, \n",
        "                           psize=psize, alpha=alpha, predicted=True) \n",
        "    Z = clf.predict_proba(np.c_[xx.ravel(), yy.ravel()])[:, 1]\n",
        "    Z = Z.reshape(xx.shape)\n",
        "    plt.contourf(xx, yy, Z, cmap=ccolor, alpha=.2, axes=ax)\n",
        "    cs2 = plt.contour(xx, yy, Z, cmap=ccolor, alpha=.6, axes=ax)\n",
        "    plt.clabel(cs2, fmt = '%2.1f', colors = 'k', fontsize=14)\n",
        "    return ax "
      ]
    },
    {
      "cell_type": "markdown",
      "metadata": {
        "id": "-604ezriofQ2"
      },
      "source": [
        "## A Motivating Example Using `sklearn`: Heights and Weights"
      ]
    },
    {
      "cell_type": "markdown",
      "metadata": {
        "id": "-NJ5gSC2ofQ3"
      },
      "source": [
        "We'll use a dataset of heights and weights of males and females to hone our understanding of classifiers. We load the data into a dataframe and plot it."
      ]
    },
    {
      "cell_type": "code",
      "execution_count": null,
      "metadata": {
        "colab": {
          "base_uri": "https://localhost:8080/",
          "height": 206
        },
        "id": "QzuJSTRhofQ3",
        "outputId": "a537705d-67b4-4600-ed59-07100be9d23c"
      },
      "outputs": [
        {
          "output_type": "execute_result",
          "data": {
            "text/html": [
              "\n",
              "  <div id=\"df-6e04821c-1fce-4ee5-a6d4-1f49e2383a97\">\n",
              "    <div class=\"colab-df-container\">\n",
              "      <div>\n",
              "<style scoped>\n",
              "    .dataframe tbody tr th:only-of-type {\n",
              "        vertical-align: middle;\n",
              "    }\n",
              "\n",
              "    .dataframe tbody tr th {\n",
              "        vertical-align: top;\n",
              "    }\n",
              "\n",
              "    .dataframe thead th {\n",
              "        text-align: right;\n",
              "    }\n",
              "</style>\n",
              "<table border=\"1\" class=\"dataframe\">\n",
              "  <thead>\n",
              "    <tr style=\"text-align: right;\">\n",
              "      <th></th>\n",
              "      <th>Gender</th>\n",
              "      <th>Height</th>\n",
              "      <th>Weight</th>\n",
              "    </tr>\n",
              "  </thead>\n",
              "  <tbody>\n",
              "    <tr>\n",
              "      <th>0</th>\n",
              "      <td>Male</td>\n",
              "      <td>73.847017</td>\n",
              "      <td>241.893563</td>\n",
              "    </tr>\n",
              "    <tr>\n",
              "      <th>1</th>\n",
              "      <td>Male</td>\n",
              "      <td>68.781904</td>\n",
              "      <td>162.310473</td>\n",
              "    </tr>\n",
              "    <tr>\n",
              "      <th>2</th>\n",
              "      <td>Male</td>\n",
              "      <td>74.110105</td>\n",
              "      <td>212.740856</td>\n",
              "    </tr>\n",
              "    <tr>\n",
              "      <th>3</th>\n",
              "      <td>Male</td>\n",
              "      <td>71.730978</td>\n",
              "      <td>220.042470</td>\n",
              "    </tr>\n",
              "    <tr>\n",
              "      <th>4</th>\n",
              "      <td>Male</td>\n",
              "      <td>69.881796</td>\n",
              "      <td>206.349801</td>\n",
              "    </tr>\n",
              "  </tbody>\n",
              "</table>\n",
              "</div>\n",
              "      <button class=\"colab-df-convert\" onclick=\"convertToInteractive('df-6e04821c-1fce-4ee5-a6d4-1f49e2383a97')\"\n",
              "              title=\"Convert this dataframe to an interactive table.\"\n",
              "              style=\"display:none;\">\n",
              "        \n",
              "  <svg xmlns=\"http://www.w3.org/2000/svg\" height=\"24px\"viewBox=\"0 0 24 24\"\n",
              "       width=\"24px\">\n",
              "    <path d=\"M0 0h24v24H0V0z\" fill=\"none\"/>\n",
              "    <path d=\"M18.56 5.44l.94 2.06.94-2.06 2.06-.94-2.06-.94-.94-2.06-.94 2.06-2.06.94zm-11 1L8.5 8.5l.94-2.06 2.06-.94-2.06-.94L8.5 2.5l-.94 2.06-2.06.94zm10 10l.94 2.06.94-2.06 2.06-.94-2.06-.94-.94-2.06-.94 2.06-2.06.94z\"/><path d=\"M17.41 7.96l-1.37-1.37c-.4-.4-.92-.59-1.43-.59-.52 0-1.04.2-1.43.59L10.3 9.45l-7.72 7.72c-.78.78-.78 2.05 0 2.83L4 21.41c.39.39.9.59 1.41.59.51 0 1.02-.2 1.41-.59l7.78-7.78 2.81-2.81c.8-.78.8-2.07 0-2.86zM5.41 20L4 18.59l7.72-7.72 1.47 1.35L5.41 20z\"/>\n",
              "  </svg>\n",
              "      </button>\n",
              "      \n",
              "  <style>\n",
              "    .colab-df-container {\n",
              "      display:flex;\n",
              "      flex-wrap:wrap;\n",
              "      gap: 12px;\n",
              "    }\n",
              "\n",
              "    .colab-df-convert {\n",
              "      background-color: #E8F0FE;\n",
              "      border: none;\n",
              "      border-radius: 50%;\n",
              "      cursor: pointer;\n",
              "      display: none;\n",
              "      fill: #1967D2;\n",
              "      height: 32px;\n",
              "      padding: 0 0 0 0;\n",
              "      width: 32px;\n",
              "    }\n",
              "\n",
              "    .colab-df-convert:hover {\n",
              "      background-color: #E2EBFA;\n",
              "      box-shadow: 0px 1px 2px rgba(60, 64, 67, 0.3), 0px 1px 3px 1px rgba(60, 64, 67, 0.15);\n",
              "      fill: #174EA6;\n",
              "    }\n",
              "\n",
              "    [theme=dark] .colab-df-convert {\n",
              "      background-color: #3B4455;\n",
              "      fill: #D2E3FC;\n",
              "    }\n",
              "\n",
              "    [theme=dark] .colab-df-convert:hover {\n",
              "      background-color: #434B5C;\n",
              "      box-shadow: 0px 1px 3px 1px rgba(0, 0, 0, 0.15);\n",
              "      filter: drop-shadow(0px 1px 2px rgba(0, 0, 0, 0.3));\n",
              "      fill: #FFFFFF;\n",
              "    }\n",
              "  </style>\n",
              "\n",
              "      <script>\n",
              "        const buttonEl =\n",
              "          document.querySelector('#df-6e04821c-1fce-4ee5-a6d4-1f49e2383a97 button.colab-df-convert');\n",
              "        buttonEl.style.display =\n",
              "          google.colab.kernel.accessAllowed ? 'block' : 'none';\n",
              "\n",
              "        async function convertToInteractive(key) {\n",
              "          const element = document.querySelector('#df-6e04821c-1fce-4ee5-a6d4-1f49e2383a97');\n",
              "          const dataTable =\n",
              "            await google.colab.kernel.invokeFunction('convertToInteractive',\n",
              "                                                     [key], {});\n",
              "          if (!dataTable) return;\n",
              "\n",
              "          const docLinkHtml = 'Like what you see? Visit the ' +\n",
              "            '<a target=\"_blank\" href=https://colab.research.google.com/notebooks/data_table.ipynb>data table notebook</a>'\n",
              "            + ' to learn more about interactive tables.';\n",
              "          element.innerHTML = '';\n",
              "          dataTable['output_type'] = 'display_data';\n",
              "          await google.colab.output.renderOutput(dataTable, element);\n",
              "          const docLink = document.createElement('div');\n",
              "          docLink.innerHTML = docLinkHtml;\n",
              "          element.appendChild(docLink);\n",
              "        }\n",
              "      </script>\n",
              "    </div>\n",
              "  </div>\n",
              "  "
            ],
            "text/plain": [
              "  Gender     Height      Weight\n",
              "0   Male  73.847017  241.893563\n",
              "1   Male  68.781904  162.310473\n",
              "2   Male  74.110105  212.740856\n",
              "3   Male  71.730978  220.042470\n",
              "4   Male  69.881796  206.349801"
            ]
          },
          "metadata": {},
          "execution_count": 3
        }
      ],
      "source": [
        "dflog = pd.read_csv(\"01_heights_weights_genders.csv.zip\")\n",
        "dflog.head()"
      ]
    },
    {
      "cell_type": "code",
      "source": [
        "print(dflog.shape)\n",
        "print(dflog.isna().sum())"
      ],
      "metadata": {
        "colab": {
          "base_uri": "https://localhost:8080/"
        },
        "id": "Qw9rBBzfpCpy",
        "outputId": "5185167a-ed0b-47fb-8598-01ae687ac937"
      },
      "execution_count": null,
      "outputs": [
        {
          "output_type": "stream",
          "name": "stdout",
          "text": [
            "(10000, 3)\n",
            "Gender    0\n",
            "Height    0\n",
            "Weight    0\n",
            "dtype: int64\n"
          ]
        }
      ]
    },
    {
      "cell_type": "markdown",
      "metadata": {
        "id": "93OO_WebofQ4"
      },
      "source": [
        "Remember that the form of data we will use always is\n",
        "\n",
        "![dataform](images/data.png)\n",
        "\n",
        "with the \"response\" or \"label\" $y$ as a plain array of 0s and 1s for binary classification. Sometimes we will also see -1 and +1 instead. There are also *multiclass* classifiers that can assign an observation to one of $K > 2$ classes and the labe may then be an integer, but we will not be discussing those here.\n",
        "\n",
        "`y = [1,1,0,0,0,1,0,1,0....]`."
      ]
    },
    {
      "cell_type": "markdown",
      "metadata": {
        "id": "a5jxEwf0ofQ5"
      },
      "source": [
        "<div class=\"span5 alert alert-info\">\n",
        "<h3>Checkup Exercise Set I</h3>\n",
        "\n",
        "<ul>\n",
        "  <li> <b>Exercise:</b> Create a scatter plot of Weight vs. Height\n",
        "  <li> <b>Exercise:</b> Color the points differently by Gender\n",
        "</ul>\n",
        "</div>"
      ]
    },
    {
      "cell_type": "code",
      "execution_count": null,
      "metadata": {
        "colab": {
          "base_uri": "https://localhost:8080/",
          "height": 329
        },
        "id": "tZmWH9_oofQ5",
        "outputId": "ef191410-2a87-4eee-9cee-62227f39acb4"
      },
      "outputs": [
        {
          "output_type": "execute_result",
          "data": {
            "text/plain": [
              "<matplotlib.axes._subplots.AxesSubplot at 0x7f4afad9bd90>"
            ]
          },
          "metadata": {},
          "execution_count": 19
        },
        {
          "output_type": "display_data",
          "data": {
            "image/png": "[encoded data removed]",
            "text/plain": [
              "<Figure size 432x288 with 1 Axes>"
            ]
          },
          "metadata": {
            "needs_background": "light"
          }
        }
      ],
      "source": [
        "# your turn\n",
        "sns.scatterplot(data=dflog, x=\"Height\", y=\"Weight\", hue=\"Gender\")"
      ]
    },
    {
      "cell_type": "markdown",
      "metadata": {
        "id": "laAtJBs1ofQ6"
      },
      "source": [
        "### Training and Test Datasets\n",
        "\n",
        "When fitting models, we would like to ensure two things:\n",
        "\n",
        "* We have found the best model (in terms of model parameters).\n",
        "* The model is highly likely to generalize i.e. perform well on unseen data.\n",
        "\n",
        "<br/>\n",
        "<div class=\"span5 alert alert-success\">\n",
        "<h4>Purpose of splitting data into Training/testing sets</h4>\n",
        "<ul>\n",
        "  <li> We built our model with the requirement that the model fit the data well. </li>\n",
        "  <li> As a side-effect, the model will fit <b>THIS</b> dataset well. What about new data? </li>\n",
        "    <ul>\n",
        "      <li> We wanted the model for predictions, right?</li>\n",
        "    </ul>\n",
        "  <li> One simple solution, leave out some data (for <b>testing</b>) and <b>train</b> the model on the rest </li>\n",
        "  <li> This also leads directly to the idea of cross-validation, next section. </li>  \n",
        "</ul>\n",
        "</div>"
      ]
    },
    {
      "cell_type": "markdown",
      "metadata": {
        "id": "83DYdKc_ofQ6"
      },
      "source": [
        "First, we try a basic Logistic Regression:\n",
        "\n",
        "* Split the data into a training and test (hold-out) set\n",
        "* Train on the training set, and test for accuracy on the testing set"
      ]
    },
    {
      "cell_type": "code",
      "execution_count": null,
      "metadata": {
        "colab": {
          "base_uri": "https://localhost:8080/"
        },
        "id": "dckpSgA-ofQ6",
        "outputId": "5069171d-2a4f-40c7-e37b-027f2bc37b4e"
      },
      "outputs": [
        {
          "output_type": "stream",
          "name": "stdout",
          "text": [
            "0.9252\n"
          ]
        }
      ],
      "source": [
        "from sklearn.model_selection import train_test_split\n",
        "from sklearn.linear_model import LogisticRegression\n",
        "from sklearn.metrics import accuracy_score\n",
        "\n",
        "# Split the data into a training and test set.\n",
        "Xlr, Xtestlr, ylr, ytestlr = train_test_split(dflog[['Height','Weight']].values, \n",
        "                                              (dflog.Gender == \"Male\").values,random_state=5)\n",
        "\n",
        "clf = LogisticRegression()\n",
        "# Fit the model on the trainng data.\n",
        "clf.fit(Xlr, ylr)\n",
        "# Print the accuracy from the testing data.\n",
        "print(accuracy_score(clf.predict(Xtestlr), ytestlr))"
      ]
    },
    {
      "cell_type": "markdown",
      "metadata": {
        "id": "NHEKm1X3ofQ7"
      },
      "source": [
        "### Tuning the Model"
      ]
    },
    {
      "cell_type": "markdown",
      "metadata": {
        "id": "KIzwqbL3ofQ7"
      },
      "source": [
        "The model has some hyperparameters we can tune for hopefully better performance. For tuning the parameters of your model, you will use a mix of *cross-validation* and *grid search*. In Logistic Regression, the most important parameter to tune is the *regularization parameter* `C`. Note that the regularization parameter is not always part of the logistic regression model. \n",
        "\n",
        "The regularization parameter is used to control for unlikely high regression coefficients, and in other cases can be used when data is sparse, as a method of feature selection.\n",
        "\n",
        "You will now implement some code to perform model tuning and selecting the regularization parameter $C$."
      ]
    },
    {
      "cell_type": "markdown",
      "metadata": {
        "id": "aa1HV810ofQ7"
      },
      "source": [
        "We use the following `cv_score` function to perform K-fold cross-validation and apply a scoring function to each test fold. In this incarnation we use accuracy score as the default scoring function."
      ]
    },
    {
      "cell_type": "code",
      "execution_count": null,
      "metadata": {
        "id": "YPwiFi2hofQ7"
      },
      "outputs": [],
      "source": [
        "from sklearn.model_selection import KFold\n",
        "from sklearn.metrics import accuracy_score\n",
        "\n",
        "def cv_score(clf, x, y, score_func=accuracy_score):\n",
        "    result = 0\n",
        "    nfold = 5\n",
        "    for train, test in KFold(nfold).split(x): # split data into train/test groups, 5 times\n",
        "        clf.fit(x[train], y[train]) # fit\n",
        "        result += score_func(clf.predict(x[test]), y[test]) # evaluate score function on held-out data\n",
        "    return result / nfold # average"
      ]
    },
    {
      "cell_type": "markdown",
      "metadata": {
        "id": "ltVqHxpJofQ8"
      },
      "source": [
        "Below is an example of using the `cv_score` function for a basic logistic regression model without regularization."
      ]
    },
    {
      "cell_type": "code",
      "execution_count": null,
      "metadata": {
        "colab": {
          "base_uri": "https://localhost:8080/"
        },
        "id": "4l7eWLDEofQ8",
        "outputId": "4b8cb3d9-55f1-4873-a5a4-e0f2308bc45e"
      },
      "outputs": [
        {
          "output_type": "stream",
          "name": "stdout",
          "text": [
            "0.9172\n"
          ]
        }
      ],
      "source": [
        "clf = LogisticRegression()\n",
        "score = cv_score(clf, Xlr, ylr)\n",
        "print(score)"
      ]
    },
    {
      "cell_type": "markdown",
      "metadata": {
        "id": "ptsqg4QVofQ8"
      },
      "source": [
        "<div class=\"span5 alert alert-info\">\n",
        "<h3>Checkup Exercise Set II</h3>\n",
        "\n",
        "<b>Exercise:</b> Implement the following search procedure to find a good model\n",
        "<ul>\n",
        "<li> You are given a list of possible values of `C` below\n",
        "<li> For each C:\n",
        "  <ol>\n",
        "  <li> Create a logistic regression model with that value of C\n",
        "  <li> Find the average score for this model using the `cv_score` function **only on the training set** `(Xlr, ylr)`\n",
        "  </ol>\n",
        "<li> Pick the C with the highest average score\n",
        "</ul>\n",
        "Your goal is to find the best model parameters based *only* on the training set, without showing the model test set at all (which is why the test set is also called a *hold-out* set).\n",
        "</div>"
      ]
    },
    {
      "cell_type": "code",
      "execution_count": null,
      "metadata": {
        "collapsed": true,
        "colab": {
          "base_uri": "https://localhost:8080/"
        },
        "id": "DH40t7tyofQ8",
        "outputId": "ef8e4d83-b980-40ca-8b4e-06a9e4f09bcc"
      },
      "outputs": [
        {
          "output_type": "stream",
          "name": "stdout",
          "text": [
            "0.001 0.9122666666666668\n",
            "0.1 0.9172\n",
            "1 0.9172\n",
            "10 0.9172\n",
            "100 0.9172\n",
            "C values  [0.001, 0.1, 1, 10, 100]\n",
            "Scores  [0.9122666666666668, 0.9172, 0.9172, 0.9172, 0.9172]\n",
            "Max_score=0.9172, C=0.1\n"
          ]
        }
      ],
      "source": [
        "#the grid of parameters to search over\n",
        "Cs = [0.001, 0.1, 1, 10, 100]\n",
        "# your turn\n",
        "Cscore=[]\n",
        "for item in Cs:\n",
        "  model=LogisticRegression(C=item)\n",
        "  score=cv_score(model,Xlr,ylr)\n",
        "  print(item,score)\n",
        "  Cscore.append(score)\n",
        "\n",
        "print(\"C values \",Cs)\n",
        "print(\"Scores \",Cscore)\n",
        "\n",
        "#use numpy bulit-ins to get max score and index of max score\n",
        "max_score= np.array(Cscore).max()\n",
        "max_c= Cs[np.array(Cscore).argmax()]\n",
        "\n",
        "#print the final results\n",
        "print(\"Max_score={}, C={}\".format(max_score,max_c))"
      ]
    },
    {
      "cell_type": "markdown",
      "metadata": {
        "id": "BeW643bAofQ9"
      },
      "source": [
        "<div class=\"span5 alert alert-info\">\n",
        "<h3>Checkup Exercise Set III</h3>\n",
        "**Exercise:** Now you want to estimate how this model will predict on unseen data in the following way:\n",
        "<ol>\n",
        "<li> Use the C you obtained from the procedure earlier and train a Logistic Regression on the training data\n",
        "<li> Calculate the accuracy on the test data\n",
        "</ol>\n",
        "\n",
        "<p>You may notice that this particular value of `C` may or may not do as well as simply running the default model on a random train-test split. </p>\n",
        "\n",
        "<ul>\n",
        "<li> Do you think that's a problem? \n",
        "<li> Why do we need to do this whole cross-validation and grid search stuff anyway?\n",
        "</ul>\n",
        "\n",
        "</div>"
      ]
    },
    {
      "cell_type": "code",
      "execution_count": null,
      "metadata": {
        "collapsed": true,
        "colab": {
          "base_uri": "https://localhost:8080/"
        },
        "id": "qJuWhHF4ofQ9",
        "outputId": "95f3b839-774e-4fe0-ece8-985a4c228d25"
      },
      "outputs": [
        {
          "output_type": "execute_result",
          "data": {
            "text/plain": [
              "0.9252"
            ]
          },
          "metadata": {},
          "execution_count": 45
        }
      ],
      "source": [
        "# your turn\n",
        "fmodel=LogisticRegression(C=max_c)\n",
        "fmodel.fit(Xlr,ylr)\n",
        "accuracy_score(ytestlr, fmodel.predict(Xtestlr))"
      ]
    },
    {
      "cell_type": "markdown",
      "metadata": {
        "id": "OuiHlt1GofQ9"
      },
      "source": [
        "### Black Box Grid Search in `sklearn`"
      ]
    },
    {
      "cell_type": "markdown",
      "metadata": {
        "id": "aRpltMe8ofQ9"
      },
      "source": [
        "Scikit-learn, as with many other Python packages, provides utilities to perform common operations so you do not have to do it manually. It is important to understand the mechanics of each operation, but at a certain point, you will want to use the utility instead to save time..."
      ]
    },
    {
      "cell_type": "markdown",
      "metadata": {
        "id": "vA52Am_dofQ9"
      },
      "source": [
        "<div class=\"span5 alert alert-info\">\n",
        "<h3>Checkup Exercise Set IV</h3>\n",
        "\n",
        "<b>Exercise:</b> Use scikit-learn's [GridSearchCV](http://scikit-learn.org/stable/modules/generated/sklearn.grid_search.GridSearchCV.html) tool to perform cross validation and grid search. \n",
        "\n",
        "* Instead of writing your own loops above to iterate over the model parameters, can you use GridSearchCV to find the best model over the training set? \n",
        "* Does it give you the same best value of `C`?\n",
        "* How does this model you've obtained perform on the test set?</div>"
      ]
    },
    {
      "cell_type": "code",
      "execution_count": null,
      "metadata": {
        "collapsed": true,
        "colab": {
          "base_uri": "https://localhost:8080/"
        },
        "id": "5w3sbLPRofQ-",
        "outputId": "94bf0eab-3fae-47f0-965b-e37e876d8a5a"
      },
      "outputs": [
        {
          "output_type": "stream",
          "name": "stdout",
          "text": [
            "dict_keys(['mean_fit_time', 'std_fit_time', 'mean_score_time', 'std_score_time', 'param_C', 'params', 'split0_test_score', 'split1_test_score', 'split2_test_score', 'split3_test_score', 'split4_test_score', 'mean_test_score', 'std_test_score', 'rank_test_score']) \n",
            "\n",
            "Params:  [{'C': 0.001}, {'C': 0.1}, {'C': 1}, {'C': 10}, {'C': 100}]\n",
            "Mean scores:  [0.912      0.91666667 0.9168     0.9168     0.9168    ]\n",
            "Final Eval Accuracy  0.9252\n"
          ]
        }
      ],
      "source": [
        "# your turn\n",
        "from sklearn.model_selection import GridSearchCV\n",
        "#Step 1 using Sklearn GridSearchCV to find best C\n",
        "parameters = {'C':[0.001, 0.1, 1 , 10, 100]}\n",
        "lin_reg= LogisticRegression()\n",
        "grid_result=GridSearchCV(lin_reg,param_grid=parameters,cv=5,scoring=\"accuracy\")\n",
        "\n",
        "grid_result.fit(Xlr, ylr)\n",
        "\n",
        "\n",
        "print(grid_result.cv_results_.keys(),\"\\n\")\n",
        "print(\"Params: \",grid_result.cv_results_[\"params\"])\n",
        "print(\"Mean scores: \",grid_result.cv_results_[\"mean_test_score\"])\n",
        "\n",
        "#Step 2 Evaluating the model\n",
        "print(\"Final Eval Accuracy \",accuracy_score(ytestlr,grid_result.predict(Xtestlr)))"
      ]
    },
    {
      "cell_type": "markdown",
      "metadata": {
        "id": "_23EkEPnofQ-"
      },
      "source": [
        "## A Walkthrough of the Math Behind Logistic Regression"
      ]
    },
    {
      "cell_type": "markdown",
      "metadata": {
        "id": "FLkQr1K6ofQ-"
      },
      "source": [
        "### Setting up Some Demo Code"
      ]
    },
    {
      "cell_type": "markdown",
      "metadata": {
        "id": "JMBqtwNGofQ-"
      },
      "source": [
        "Let's first set some code up for classification that we will need for further discussion on the math. We first set up a function `cv_optimize` which takes a classifier `clf`, a grid of hyperparameters (such as a complexity parameter or regularization parameter) implemented as a dictionary `parameters`, a training set (as a samples x features array) `Xtrain`, and a set of labels `ytrain`. The code takes the traning set, splits it into `n_folds` parts, sets up `n_folds` folds, and carries out a cross-validation by splitting the training set into a training and validation section for each foldfor us. It prints the best value of the parameters, and retuens the best classifier to us."
      ]
    },
    {
      "cell_type": "code",
      "execution_count": null,
      "metadata": {
        "collapsed": true,
        "id": "ga5fTciuofQ-"
      },
      "outputs": [],
      "source": [
        "def cv_optimize(clf, parameters, Xtrain, ytrain, n_folds=5):\n",
        "    gs = sklearn.model_selection.GridSearchCV(clf, param_grid=parameters, cv=n_folds)\n",
        "    gs.fit(Xtrain, ytrain)\n",
        "    print(\"BEST PARAMS\", gs.best_params_)\n",
        "    best = gs.best_estimator_\n",
        "    return best"
      ]
    },
    {
      "cell_type": "markdown",
      "metadata": {
        "id": "ViqyMWTjofQ-"
      },
      "source": [
        "We then use this best classifier to fit the entire training set. This is done inside the `do_classify` function which takes a dataframe `indf` as input. It takes the columns in the list `featurenames` as the features used to train the classifier. The column `targetname` sets the target. The classification is done by setting those samples for which `targetname` has value `target1val` to the value 1, and all others to 0. We split the dataframe into 80% training and 20% testing by default, standardizing the dataset if desired. (Standardizing a data set involves scaling the data so that it has 0 mean and is described in units of its standard deviation. We then train the model on the training set using cross-validation. Having obtained the best classifier using `cv_optimize`, we retrain on the entire training set and calculate the training and testing accuracy, which we print. We return the split data and the trained classifier."
      ]
    },
    {
      "cell_type": "code",
      "execution_count": null,
      "metadata": {
        "hide": true,
        "id": "ySsqDcAkofQ_"
      },
      "outputs": [],
      "source": [
        "from sklearn.model_selection import train_test_split\n",
        "\n",
        "def do_classify(clf, parameters, indf, featurenames, targetname, target1val, standardize=False, train_size=0.8):\n",
        "    subdf=indf[featurenames]\n",
        "    if standardize:\n",
        "        subdfstd=(subdf - subdf.mean())/subdf.std()\n",
        "    else:\n",
        "        subdfstd=subdf\n",
        "    X=subdfstd.values\n",
        "    y=(indf[targetname].values==target1val)*1\n",
        "    Xtrain, Xtest, ytrain, ytest = train_test_split(X, y, train_size=train_size)\n",
        "    clf = cv_optimize(clf, parameters, Xtrain, ytrain)\n",
        "    clf=clf.fit(Xtrain, ytrain)\n",
        "    training_accuracy = clf.score(Xtrain, ytrain)\n",
        "    test_accuracy = clf.score(Xtest, ytest)\n",
        "    print(\"Accuracy on training data: {:0.2f}\".format(training_accuracy))\n",
        "    print(\"Accuracy on test data:     {:0.2f}\".format(test_accuracy))\n",
        "    return clf, Xtrain, ytrain, Xtest, ytest"
      ]
    },
    {
      "cell_type": "markdown",
      "metadata": {
        "id": "haRWg0GIofQ_"
      },
      "source": [
        "## Logistic Regression: The Math"
      ]
    },
    {
      "cell_type": "markdown",
      "metadata": {
        "id": "afeDcy1iofQ_"
      },
      "source": [
        "We could approach classification as linear regression, there the class, 0 or 1, is the target variable $y$. But this ignores the fact that our output $y$ is discrete valued, and futhermore, the $y$ predicted by linear regression will in general take on values less than 0 and greater than 1. Additionally, the residuals from the linear regression model will *not* be normally distributed. This violation means we should not use linear regression.\n",
        "\n",
        "But what if we could change the form of our hypotheses $h(x)$ instead?\n",
        "\n",
        "The idea behind logistic regression is very simple. We want to draw a line in feature space that divides the '1' samples from the '0' samples, just like in the diagram above. In other words, we wish to find the \"regression\" line which divides the samples. Now, a line has the form $w_1 x_1 + w_2 x_2 + w_0 = 0$ in 2-dimensions. On one side of this line we have \n",
        "\n",
        "$$w_1 x_1 + w_2 x_2 + w_0 \\ge 0,$$\n",
        "\n",
        "and on the other side we have \n",
        "\n",
        "$$w_1 x_1 + w_2 x_2 + w_0 < 0.$$ \n",
        "\n",
        "Our classification rule then becomes:\n",
        "\n",
        "\\begin{eqnarray*}\n",
        "y = 1 &\\mbox{if}& \\v{w}\\cdot\\v{x} \\ge 0\\\\\n",
        "y = 0 &\\mbox{if}& \\v{w}\\cdot\\v{x} < 0\n",
        "\\end{eqnarray*}\n",
        "\n",
        "where $\\v{x}$ is the vector $\\{1,x_1, x_2,...,x_n\\}$ where we have also generalized to more than 2 features.\n",
        "\n",
        "What hypotheses $h$ can we use to achieve this? One way to do so is to use the **sigmoid** function:\n",
        "\n",
        "$$h(z) = \\frac{1}{1 + e^{-z}}.$$\n",
        "\n",
        "Notice that at $z=0$ this function has the value 0.5. If $z > 0$, $h > 0.5$ and as $z \\to \\infty$, $h \\to 1$. If $z < 0$, $h < 0.5$ and as $z \\to -\\infty$, $h \\to 0$. As long as we identify any value of $y > 0.5$ as 1, and any $y < 0.5$ as 0, we can achieve what we wished above.\n",
        "\n",
        "This function is plotted below:"
      ]
    },
    {
      "cell_type": "code",
      "execution_count": null,
      "metadata": {
        "colab": {
          "base_uri": "https://localhost:8080/",
          "height": 284
        },
        "id": "cTsdIKpmofQ_",
        "outputId": "63c48b3f-82cc-46cd-e12b-3e0c761b41e3"
      },
      "outputs": [
        {
          "output_type": "display_data",
          "data": {
            "image/png": "[encoded data removed]",
            "text/plain": [
              "<Figure size 432x288 with 1 Axes>"
            ]
          },
          "metadata": {
            "needs_background": "light"
          }
        }
      ],
      "source": [
        "h = lambda z: 1. / (1 + np.exp(-z))\n",
        "zs=np.arange(-5, 5, 0.1)\n",
        "plt.plot(zs, h(zs), alpha=0.5);"
      ]
    },
    {
      "cell_type": "markdown",
      "metadata": {
        "id": "ciD4Uz-4ofQ_"
      },
      "source": [
        "So we then come up with our rule by identifying:\n",
        "\n",
        "$$z = \\v{w}\\cdot\\v{x}.$$\n",
        "\n",
        "Then $h(\\v{w}\\cdot\\v{x}) \\ge 0.5$ if $\\v{w}\\cdot\\v{x} \\ge 0$ and $h(\\v{w}\\cdot\\v{x}) \\lt 0.5$ if $\\v{w}\\cdot\\v{x} \\lt 0$, and:\n",
        "\n",
        "\\begin{eqnarray*}\n",
        "y = 1 &if& h(\\v{w}\\cdot\\v{x}) \\ge 0.5\\\\\n",
        "y = 0 &if& h(\\v{w}\\cdot\\v{x}) \\lt 0.5.\n",
        "\\end{eqnarray*}\n",
        "\n",
        "We will show soon that this identification can be achieved by minimizing a loss in the ERM framework called the **log loss** :\n",
        "\n",
        "$$ R_{\\cal{D}}(\\v{w}) = - \\sum_{y_i \\in \\cal{D}} \\left ( y_i \\log(h(\\v{w}\\cdot\\v{x})) + ( 1 - y_i) \\log(1 - h(\\v{w}\\cdot\\v{x})) \\right )$$\n",
        "\n",
        "We will also add a regularization term:\n",
        "\n",
        "$$ R_{\\cal{D}}(\\v{w}) = - \\sum_{y_i \\in \\cal{D}} \\left ( y_i \\log(h(\\v{w}\\cdot\\v{x})) + ( 1 - y_i) \\log(1 - h(\\v{w}\\cdot\\v{x})) \\right ) + \\frac{1}{C} \\v{w}\\cdot\\v{w},$$\n",
        "\n",
        "where $C$ is the regularization strength (equivalent to $1/\\alpha$ from the Ridge case), and smaller values of $C$ mean stronger regularization. As before, the regularization tries to prevent features from having terribly high weights, thus implementing a form of feature selection. \n",
        "\n",
        "How did we come up with this loss? We'll come back to that, but let us see how logistic regression works out. \n"
      ]
    },
    {
      "cell_type": "code",
      "execution_count": null,
      "metadata": {
        "colab": {
          "base_uri": "https://localhost:8080/",
          "height": 206
        },
        "id": "TNyZZHL3ofRA",
        "outputId": "51663a8c-d33b-4437-fdb7-997b2f1f6035"
      },
      "outputs": [
        {
          "output_type": "execute_result",
          "data": {
            "text/html": [
              "\n",
              "  <div id=\"df-a96247ab-ffd4-4189-bd5d-e6c1e452438c\">\n",
              "    <div class=\"colab-df-container\">\n",
              "      <div>\n",
              "<style scoped>\n",
              "    .dataframe tbody tr th:only-of-type {\n",
              "        vertical-align: middle;\n",
              "    }\n",
              "\n",
              "    .dataframe tbody tr th {\n",
              "        vertical-align: top;\n",
              "    }\n",
              "\n",
              "    .dataframe thead th {\n",
              "        text-align: right;\n",
              "    }\n",
              "</style>\n",
              "<table border=\"1\" class=\"dataframe\">\n",
              "  <thead>\n",
              "    <tr style=\"text-align: right;\">\n",
              "      <th></th>\n",
              "      <th>Gender</th>\n",
              "      <th>Height</th>\n",
              "      <th>Weight</th>\n",
              "    </tr>\n",
              "  </thead>\n",
              "  <tbody>\n",
              "    <tr>\n",
              "      <th>0</th>\n",
              "      <td>Male</td>\n",
              "      <td>73.847017</td>\n",
              "      <td>241.893563</td>\n",
              "    </tr>\n",
              "    <tr>\n",
              "      <th>1</th>\n",
              "      <td>Male</td>\n",
              "      <td>68.781904</td>\n",
              "      <td>162.310473</td>\n",
              "    </tr>\n",
              "    <tr>\n",
              "      <th>2</th>\n",
              "      <td>Male</td>\n",
              "      <td>74.110105</td>\n",
              "      <td>212.740856</td>\n",
              "    </tr>\n",
              "    <tr>\n",
              "      <th>3</th>\n",
              "      <td>Male</td>\n",
              "      <td>71.730978</td>\n",
              "      <td>220.042470</td>\n",
              "    </tr>\n",
              "    <tr>\n",
              "      <th>4</th>\n",
              "      <td>Male</td>\n",
              "      <td>69.881796</td>\n",
              "      <td>206.349801</td>\n",
              "    </tr>\n",
              "  </tbody>\n",
              "</table>\n",
              "</div>\n",
              "      <button class=\"colab-df-convert\" onclick=\"convertToInteractive('df-a96247ab-ffd4-4189-bd5d-e6c1e452438c')\"\n",
              "              title=\"Convert this dataframe to an interactive table.\"\n",
              "              style=\"display:none;\">\n",
              "        \n",
              "  <svg xmlns=\"http://www.w3.org/2000/svg\" height=\"24px\"viewBox=\"0 0 24 24\"\n",
              "       width=\"24px\">\n",
              "    <path d=\"M0 0h24v24H0V0z\" fill=\"none\"/>\n",
              "    <path d=\"M18.56 5.44l.94 2.06.94-2.06 2.06-.94-2.06-.94-.94-2.06-.94 2.06-2.06.94zm-11 1L8.5 8.5l.94-2.06 2.06-.94-2.06-.94L8.5 2.5l-.94 2.06-2.06.94zm10 10l.94 2.06.94-2.06 2.06-.94-2.06-.94-.94-2.06-.94 2.06-2.06.94z\"/><path d=\"M17.41 7.96l-1.37-1.37c-.4-.4-.92-.59-1.43-.59-.52 0-1.04.2-1.43.59L10.3 9.45l-7.72 7.72c-.78.78-.78 2.05 0 2.83L4 21.41c.39.39.9.59 1.41.59.51 0 1.02-.2 1.41-.59l7.78-7.78 2.81-2.81c.8-.78.8-2.07 0-2.86zM5.41 20L4 18.59l7.72-7.72 1.47 1.35L5.41 20z\"/>\n",
              "  </svg>\n",
              "      </button>\n",
              "      \n",
              "  <style>\n",
              "    .colab-df-container {\n",
              "      display:flex;\n",
              "      flex-wrap:wrap;\n",
              "      gap: 12px;\n",
              "    }\n",
              "\n",
              "    .colab-df-convert {\n",
              "      background-color: #E8F0FE;\n",
              "      border: none;\n",
              "      border-radius: 50%;\n",
              "      cursor: pointer;\n",
              "      display: none;\n",
              "      fill: #1967D2;\n",
              "      height: 32px;\n",
              "      padding: 0 0 0 0;\n",
              "      width: 32px;\n",
              "    }\n",
              "\n",
              "    .colab-df-convert:hover {\n",
              "      background-color: #E2EBFA;\n",
              "      box-shadow: 0px 1px 2px rgba(60, 64, 67, 0.3), 0px 1px 3px 1px rgba(60, 64, 67, 0.15);\n",
              "      fill: #174EA6;\n",
              "    }\n",
              "\n",
              "    [theme=dark] .colab-df-convert {\n",
              "      background-color: #3B4455;\n",
              "      fill: #D2E3FC;\n",
              "    }\n",
              "\n",
              "    [theme=dark] .colab-df-convert:hover {\n",
              "      background-color: #434B5C;\n",
              "      box-shadow: 0px 1px 3px 1px rgba(0, 0, 0, 0.15);\n",
              "      filter: drop-shadow(0px 1px 2px rgba(0, 0, 0, 0.3));\n",
              "      fill: #FFFFFF;\n",
              "    }\n",
              "  </style>\n",
              "\n",
              "      <script>\n",
              "        const buttonEl =\n",
              "          document.querySelector('#df-a96247ab-ffd4-4189-bd5d-e6c1e452438c button.colab-df-convert');\n",
              "        buttonEl.style.display =\n",
              "          google.colab.kernel.accessAllowed ? 'block' : 'none';\n",
              "\n",
              "        async function convertToInteractive(key) {\n",
              "          const element = document.querySelector('#df-a96247ab-ffd4-4189-bd5d-e6c1e452438c');\n",
              "          const dataTable =\n",
              "            await google.colab.kernel.invokeFunction('convertToInteractive',\n",
              "                                                     [key], {});\n",
              "          if (!dataTable) return;\n",
              "\n",
              "          const docLinkHtml = 'Like what you see? Visit the ' +\n",
              "            '<a target=\"_blank\" href=https://colab.research.google.com/notebooks/data_table.ipynb>data table notebook</a>'\n",
              "            + ' to learn more about interactive tables.';\n",
              "          element.innerHTML = '';\n",
              "          dataTable['output_type'] = 'display_data';\n",
              "          await google.colab.output.renderOutput(dataTable, element);\n",
              "          const docLink = document.createElement('div');\n",
              "          docLink.innerHTML = docLinkHtml;\n",
              "          element.appendChild(docLink);\n",
              "        }\n",
              "      </script>\n",
              "    </div>\n",
              "  </div>\n",
              "  "
            ],
            "text/plain": [
              "  Gender     Height      Weight\n",
              "0   Male  73.847017  241.893563\n",
              "1   Male  68.781904  162.310473\n",
              "2   Male  74.110105  212.740856\n",
              "3   Male  71.730978  220.042470\n",
              "4   Male  69.881796  206.349801"
            ]
          },
          "metadata": {},
          "execution_count": 51
        }
      ],
      "source": [
        "dflog.head()"
      ]
    },
    {
      "cell_type": "code",
      "execution_count": null,
      "metadata": {
        "colab": {
          "base_uri": "https://localhost:8080/"
        },
        "id": "JlmALD94ofRA",
        "outputId": "86d0a312-3212-4fda-9ac0-1b353e785c2d"
      },
      "outputs": [
        {
          "output_type": "stream",
          "name": "stdout",
          "text": [
            "BEST PARAMS {'C': 1}\n",
            "Accuracy on training data: 0.92\n",
            "Accuracy on test data:     0.93\n"
          ]
        }
      ],
      "source": [
        "clf_l, Xtrain_l, ytrain_l, Xtest_l, ytest_l  = do_classify(LogisticRegression(), \n",
        "                                                           {\"C\": [0.01, 0.1, 1, 10, 100]}, \n",
        "                                                           dflog, ['Weight', 'Height'], 'Gender','Male')"
      ]
    },
    {
      "cell_type": "code",
      "execution_count": null,
      "metadata": {
        "colab": {
          "base_uri": "https://localhost:8080/",
          "height": 284
        },
        "id": "5am2bVhtofRA",
        "outputId": "cee256f6-3192-4606-aef7-00c4c536dc8f"
      },
      "outputs": [
        {
          "output_type": "display_data",
          "data": {
            "image/png": "[encoded data removed]",
            "text/plain": [
              "<Figure size 432x288 with 1 Axes>"
            ]
          },
          "metadata": {
            "needs_background": "light"
          }
        }
      ],
      "source": [
        "plt.figure()\n",
        "ax=plt.gca()\n",
        "points_plot(ax, Xtrain_l, Xtest_l, ytrain_l, ytest_l, clf_l, alpha=0.2);"
      ]
    },
    {
      "cell_type": "markdown",
      "metadata": {
        "id": "oRWVAinkofRA"
      },
      "source": [
        "In the figure here showing the results of the logistic regression, we plot the actual labels of both the training(circles) and test(squares) samples. The 0's (females) are plotted in red, the 1's (males) in blue. We also show the classification boundary, a line (to the resolution of a grid square). Every sample on the red background side of the line will be classified female, and every sample on the blue side, male. Notice that most of the samples are classified well, but there are misclassified people on both sides, as evidenced by leakage of dots or squares of one color ontothe side of the other color. Both test and traing accuracy are about 92%."
      ]
    },
    {
      "cell_type": "markdown",
      "metadata": {
        "id": "1D8uFa3ZofRA"
      },
      "source": [
        "### The Probabilistic Interpretaion"
      ]
    },
    {
      "cell_type": "markdown",
      "metadata": {
        "id": "fJCx5ROXofRA"
      },
      "source": [
        "Remember we said earlier that if $h > 0.5$ we ought to identify the sample with $y=1$? One way of thinking about this is to identify $h(\\v{w}\\cdot\\v{x})$ with the probability that the sample is a '1' ($y=1$). Then we have the intuitive notion that lets identify a sample as 1 if we find that the probabilty of being a '1' is $\\ge 0.5$.\n",
        "\n",
        "So suppose we say then that the probability of $y=1$ for a given $\\v{x}$ is given by $h(\\v{w}\\cdot\\v{x})$?\n",
        "\n",
        "Then, the conditional probabilities of $y=1$ or $y=0$ given a particular sample's features $\\v{x}$ are:\n",
        "\n",
        "\\begin{eqnarray*}\n",
        "P(y=1 | \\v{x}) &=& h(\\v{w}\\cdot\\v{x}) \\\\\n",
        "P(y=0 | \\v{x}) &=& 1 - h(\\v{w}\\cdot\\v{x}).\n",
        "\\end{eqnarray*}\n",
        "\n",
        "These two can be written together as\n",
        "\n",
        "$$P(y|\\v{x}, \\v{w}) = h(\\v{w}\\cdot\\v{x})^y \\left(1 - h(\\v{w}\\cdot\\v{x}) \\right)^{(1-y)} $$\n",
        "\n",
        "Then multiplying over the samples we get the probability of the training $y$ given $\\v{w}$ and the $\\v{x}$:\n",
        "\n",
        "$$P(y|\\v{x},\\v{w}) = P(\\{y_i\\} | \\{\\v{x}_i\\}, \\v{w}) = \\prod_{y_i \\in \\cal{D}} P(y_i|\\v{x_i}, \\v{w}) = \\prod_{y_i \\in \\cal{D}} h(\\v{w}\\cdot\\v{x_i})^{y_i} \\left(1 - h(\\v{w}\\cdot\\v{x_i}) \\right)^{(1-y_i)}$$\n",
        "\n",
        "Why use probabilities? Earlier, we talked about how the regression function $f(x)$ never gives us the $y$ exactly, because of noise. This hold for classification too. Even with identical features, a different sample may be classified differently. \n",
        "\n",
        "We said that another way to think about a noisy $y$ is to imagine that our data $\\dat$ was generated from  a joint probability distribution $P(x,y)$. Thus we need to model $y$ at a given $x$, written as $P(y|x)$, and since $P(x)$ is also a probability distribution, we have:\n",
        "\n",
        "$$P(x,y) = P(y | x) P(x)$$\n",
        "\n",
        "and can obtain our joint probability $P(x, y)$.\n",
        "\n",
        "Indeed its important to realize that a particular training set can be thought of as a draw from some \"true\" probability distribution (just as we did when showing the hairy variance diagram). If for example the probability of classifying a test sample as a '0' was 0.1, and it turns out that the test sample was a '0', it does not mean that this model was necessarily wrong. After all, in roughly a 10th of the draws, this new sample would be classified as a '0'! But, of-course its more unlikely than its likely, and having good probabilities means that we'll be likely right most of the time, which is what we want to achieve in classification. And furthermore, we can quantify this accuracy.\n",
        "\n",
        "Thus its desirable to have probabilistic, or at the very least, ranked models of classification where you can tell which sample is more likely to be classified as a '1'. There are business reasons for this too. Consider the example of customer \"churn\": you are a cell-phone company and want to know, based on some of my purchasing habit and characteristic \"features\" if I am a likely defector. If so, you'll offer me an incentive not to defect. In this scenario, you might want to know which customers are most likely to defect, or even more precisely, which are most likely to respond to incentives. Based on these probabilities, you could then spend a finite marketing budget wisely."
      ]
    },
    {
      "cell_type": "markdown",
      "metadata": {
        "id": "i-6BFO9DofRB"
      },
      "source": [
        "### Maximizing the Probability of the Training Set"
      ]
    },
    {
      "cell_type": "markdown",
      "metadata": {
        "id": "m52qspYGofRB"
      },
      "source": [
        "Now if we maximize $P(y|\\v{x},\\v{w})$, we will maximize the chance that each point is classified correctly, which is what we want to do. While this is not exactly the same thing as maximizing the 1-0 training risk, it is a principled way of obtaining the highest probability classification. This process is called **maximum likelihood** estimation since we are maximising the **likelihood of the training data y**, \n",
        "\n",
        "$$\\like = P(y|\\v{x},\\v{w}).$$ \n",
        "\n",
        "Maximum likelihood is one of the corenerstone methods in statistics, and is used to estimate probabilities of data. \n",
        "\n",
        "We can equivalently maximize \n",
        "\n",
        "$$\\loglike = \\log{P(y|\\v{x},\\v{w})}$$ \n",
        "\n",
        "since the natural logarithm $\\log$ is a monotonic function. This is known as maximizing the **log-likelihood**. Thus we can equivalently *minimize* a risk that is the negative of  $\\log(P(y|\\v{x},\\v{w}))$:\n",
        "\n",
        "$$R_{\\cal{D}}(h(x)) = -\\loglike = -\\log \\like = -\\log{P(y|\\v{x},\\v{w})}.$$\n",
        "\n",
        "\n",
        "Thus\n",
        "\n",
        "\\begin{eqnarray*}\n",
        "R_{\\cal{D}}(h(x)) &=& -\\log\\left(\\prod_{y_i \\in \\cal{D}} h(\\v{w}\\cdot\\v{x_i})^{y_i} \\left(1 - h(\\v{w}\\cdot\\v{x_i}) \\right)^{(1-y_i)}\\right)\\\\\n",
        "                  &=& -\\sum_{y_i \\in \\cal{D}} \\log\\left(h(\\v{w}\\cdot\\v{x_i})^{y_i} \\left(1 - h(\\v{w}\\cdot\\v{x_i}) \\right)^{(1-y_i)}\\right)\\\\                  \n",
        "                  &=& -\\sum_{y_i \\in \\cal{D}} \\log\\,h(\\v{w}\\cdot\\v{x_i})^{y_i} + \\log\\,\\left(1 - h(\\v{w}\\cdot\\v{x_i}) \\right)^{(1-y_i)}\\\\\n",
        "                  &=& - \\sum_{y_i \\in \\cal{D}} \\left ( y_i \\log(h(\\v{w}\\cdot\\v{x})) + ( 1 - y_i) \\log(1 - h(\\v{w}\\cdot\\v{x})) \\right )\n",
        "\\end{eqnarray*}\n",
        "                  \n",
        "This is exactly the risk we had above, leaving out the regularization term (which we shall return to later) and was the reason we chose it over the 1-0 risk. \n",
        "\n",
        "Notice that this little process we carried out above tells us something very interesting: **Probabilistic estimation using maximum likelihood is equivalent to Empiricial Risk Minimization using the negative log-likelihood**, since all we did was to minimize the negative log-likelihood over the training samples.\n",
        "\n",
        "`sklearn` will return the probabilities for our samples, or for that matter, for any input vector set $\\{\\v{x}_i\\}$, i.e. $P(y_i | \\v{x}_i, \\v{w})$:"
      ]
    },
    {
      "cell_type": "code",
      "execution_count": null,
      "metadata": {
        "colab": {
          "base_uri": "https://localhost:8080/"
        },
        "id": "yaEyTBzZofRB",
        "outputId": "3beed33e-2114-4841-b7df-b7445e070e52"
      },
      "outputs": [
        {
          "output_type": "execute_result",
          "data": {
            "text/plain": [
              "array([[0.31072318, 0.68927682],\n",
              "       [0.01190859, 0.98809141],\n",
              "       [0.98299306, 0.01700694],\n",
              "       ...,\n",
              "       [0.99886912, 0.00113088],\n",
              "       [0.00573071, 0.99426929],\n",
              "       [0.46197381, 0.53802619]])"
            ]
          },
          "metadata": {},
          "execution_count": 54
        }
      ],
      "source": [
        "clf_l.predict_proba(Xtest_l)"
      ]
    },
    {
      "cell_type": "markdown",
      "metadata": {
        "id": "YcRWQ9swofRB"
      },
      "source": [
        "### Discriminative vs Generative Classifier"
      ]
    },
    {
      "cell_type": "markdown",
      "metadata": {
        "id": "2MzFkO_fofRB"
      },
      "source": [
        "Logistic regression is what is known as a **discriminative classifier** as we learn a soft boundary between/among classes. Another paradigm is the **generative classifier** where we learn the distribution of each class. For more examples of generative classifiers, look [here](https://en.wikipedia.org/wiki/Generative_model). \n",
        "\n",
        "Let us plot the probabilities obtained from `predict_proba`, overlayed on the samples with their true labels:"
      ]
    },
    {
      "cell_type": "code",
      "execution_count": null,
      "metadata": {
        "colab": {
          "base_uri": "https://localhost:8080/",
          "height": 319
        },
        "id": "4iqmRMF5ofRB",
        "outputId": "4e11220e-56c0-4831-d50c-8f7aebf021f4"
      },
      "outputs": [
        {
          "output_type": "stream",
          "name": "stderr",
          "text": [
            "/usr/local/lib/python3.7/dist-packages/ipykernel_launcher.py:67: UserWarning: The following kwargs were not used by contour: 'axes'\n",
            "/usr/local/lib/python3.7/dist-packages/ipykernel_launcher.py:68: UserWarning: The following kwargs were not used by contour: 'axes'\n"
          ]
        },
        {
          "output_type": "display_data",
          "data": {
            "image/png": "[encoded data removed]",
            "text/plain": [
              "<Figure size 432x288 with 1 Axes>"
            ]
          },
          "metadata": {
            "needs_background": "light"
          }
        }
      ],
      "source": [
        "plt.figure()\n",
        "ax = plt.gca()\n",
        "points_plot_prob(ax, Xtrain_l, Xtest_l, ytrain_l, ytest_l, clf_l, psize=20, alpha=0.1);"
      ]
    },
    {
      "cell_type": "markdown",
      "metadata": {
        "id": "iScZfMgaofRC"
      },
      "source": [
        "Notice that lines of equal probability, as might be expected are stright lines. What the classifier does is very intuitive: if the probability is greater than 0.5, it classifies the sample as type '1' (male), otherwise it classifies the sample to be class '0'. Thus in the diagram above, where we have plotted predicted values rather than actual labels of samples, there is a clear demarcation at the 0.5 probability line.\n",
        "\n",
        "Again, this notion of trying to obtain the line or boundary of demarcation is what is called a **discriminative** classifier. The algorithm tries to find a decision boundary that separates the males from the females. To classify a new sample as male or female, it checks on which side of the decision boundary the sample falls, and makes a prediction. In other words we are asking, given $\\v{x}$, what is the probability of a given $y$, or, what is the likelihood $P(y|\\v{x},\\v{w})$?"
      ]
    },
    {
      "cell_type": "code",
      "execution_count": null,
      "metadata": {
        "collapsed": true,
        "id": "-G4Nj84NofRC"
      },
      "outputs": [],
      "source": [
        ""
      ]
    }
  ],
  "metadata": {
    "interpreter": {
      "hash": "4885f37acae9217c235118400878352aafa7b76e66df698a1f601374f86939a7"
    },
    "kernelspec": {
      "display_name": "Python 3",
      "language": "python",
      "name": "python3"
    },
    "language_info": {
      "codemirror_mode": {
        "name": "ipython",
        "version": 3
      },
      "file_extension": ".py",
      "mimetype": "text/x-python",
      "name": "python",
      "nbconvert_exporter": "python",
      "pygments_lexer": "ipython3",
      "version": "3.6.5"
    },
    "colab": {
      "name": "Mini_Project_Logistic_Regression.ipynb",
      "provenance": [],
      "collapsed_sections": []
    }
  },
  "nbformat": 4,
  "nbformat_minor": 0
}