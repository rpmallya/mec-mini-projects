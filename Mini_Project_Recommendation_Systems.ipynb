{
  "cells": [
    {
      "cell_type": "markdown",
      "metadata": {
        "id": "view-in-github",
        "colab_type": "text"
      },
      "source": [
        "<a href=\"https://colab.research.google.com/github/rpmallya/mec-mini-projects/blob/master/Mini_Project_Recommendation_Systems.ipynb\" target=\"_parent\"><img src=\"https://colab.research.google.com/assets/colab-badge.svg\" alt=\"Open In Colab\"/></a>"
      ]
    },
    {
      "cell_type": "markdown",
      "metadata": {
        "id": "KkqlbEEvsHuw"
      },
      "source": [
        "# Recommendation Systems"
      ]
    },
    {
      "cell_type": "markdown",
      "metadata": {
        "id": "JXCjew2ItepU"
      },
      "source": [
        "Companies like Amazon(books, items), Netflix(movies), Google(News,Search), and Pandora/Spotify(music) leverage recommendation systems to help users discover new and relevant items (products, videos, jobs, music), creating a delightful user experience while driving incremental revenue. \n",
        "\n",
        "The need to build robust recommendation systems is extremely important given the huge demand for personalized content of modern consumers.\n"
      ]
    },
    {
      "cell_type": "markdown",
      "metadata": {
        "id": "_lc420j2uhwZ"
      },
      "source": [
        "In this assignment, you will be applying your learning of recommendation systems in this Unit towards building the following four different types of recommendation systems:\n",
        "\n",
        "1.   Global Recommendation Systems (Statistical)   \n",
        "2.   Content-based Recommendation Systems\n",
        "3.   Collaborative Filtering (User-Item) Recommendation Systems\n",
        "4.   Hybrid Recommendation Systems\n",
        "\n",
        "The focus of the mini-project here would be to build a movie recommendation system.\n"
      ]
    },
    {
      "cell_type": "markdown",
      "metadata": {
        "id": "CL3nuM_Kv17_"
      },
      "source": [
        "## 1. Dataset Acquisition\n",
        "\n",
        "Following are the key descriptions of the datasets you will be using. The data used here has been compiled from various movie datasets like Netflix and IMDb.\n",
        "\n",
        "1. __Filename: `movie_titles.csv`:__\n",
        "\n",
        "  - __`MovieID`__: MovieID does not correspond to actual Netflix movie ids or IMDB movie ids\n",
        "  - __`YearOfRelease`__: YearOfRelease can range from 1890 to 2005 and may correspond to the release of corresponding DVD, not necessarily its theaterical release\n",
        "  - __`Title`__: Title is the Netflix movie title and may not correspond to titles used on other sites. Titles are in English\n",
        "\n",
        "\n",
        "2. __Combined User-Ratings Dataset Description - `combined_data.csv`:__\n",
        "\n",
        "  - The first line of the contains the movie id followed by a colon.    \n",
        "  - Each subsequent line in the file corresponds to a rating from a customer and its date in the following format:\n",
        "\n",
        "    - MovieIDs range from 1 to 17770 sequentially.\n",
        "    - CustomerIDs range from 1 to 2649429, with gaps. There are 480189 users. \n",
        "    - Ratings are on a five star (integral) scale from 1 to 5.\n",
        "    - Dates have the format YYYY-MM-DD.\n",
        "\n",
        "\n",
        "3. __Filename: `movies_metadata.csv`__\n",
        "\n",
        "The main Movies Metadata file. Contains information on 45,000 movies featured in the Full MovieLens dataset. Features include posters, backdrops, budget, revenue, release dates, languages, production countries and companies.\n"
      ]
    },
    {
      "cell_type": "markdown",
      "metadata": {
        "id": "aaic3a2Cw0T5"
      },
      "source": [
        "## 2: Import Necessary Dependencies\n",
        "\n",
        "We will be leveraging __`keras`__ on top of __`tensorflow`__ for building some of the collaborative filtering and hybrid models. There are compatibility issues with handling sparse layers with dense layers till now in TensorFlow 2 hence we are leveraging native Keras but in the long run once this issue is resolved we can leverage __`tf.keras`__ with minimal code updates."
      ]
    },
    {
      "cell_type": "code",
      "execution_count": 1,
      "metadata": {
        "id": "iX9t8rYaxVGh"
      },
      "outputs": [],
      "source": [
        "# filter out unncessary warnings\n",
        "import warnings\n",
        "warnings.filterwarnings('ignore')"
      ]
    },
    {
      "cell_type": "code",
      "execution_count": 2,
      "metadata": {
        "id": "JGWCPwAiP7vv"
      },
      "outputs": [],
      "source": [
        "# To store\\load the data\n",
        "import pandas as pd\n",
        "\n",
        "# To do linear algebra\n",
        "import numpy as np\n",
        "\n",
        "# To create plots\n",
        "import matplotlib.pyplot as plt\n",
        "import seaborn as sns\n",
        "\n",
        "\n",
        "# To compute similarities between vectors\n",
        "from sklearn.metrics import mean_squared_error\n",
        "from sklearn.metrics.pairwise import cosine_similarity\n",
        "from sklearn.feature_extraction.text import TfidfVectorizer\n",
        "\n",
        "# data load progress bars\n",
        "from tqdm import tqdm\n",
        "\n",
        "from collections import deque\n",
        "\n",
        "# To create deep learning models\n",
        "import tensorflow as tf\n",
        "import keras\n",
        "from keras.layers import Input, Embedding, Reshape, Dot, Concatenate, Dense, Dropout\n",
        "from keras.models import Model\n",
        "\n",
        "# To stack sparse matrices\n",
        "from scipy.sparse import vstack"
      ]
    },
    {
      "cell_type": "code",
      "execution_count": 3,
      "metadata": {
        "id": "whZc1FgzyPyY"
      },
      "outputs": [],
      "source": [
        "# remove unnecessary TF logs\n",
        "import logging\n",
        "tf.get_logger().setLevel(logging.ERROR)"
      ]
    },
    {
      "cell_type": "code",
      "execution_count": 4,
      "metadata": {
        "colab": {
          "base_uri": "https://localhost:8080/"
        },
        "id": "Ce2tjPHPzWFd",
        "outputId": "1839f34c-58dd-4a1d-8fa5-61f963e354b7"
      },
      "outputs": [
        {
          "output_type": "stream",
          "name": "stdout",
          "text": [
            "TF Version: 2.8.2\n",
            "Keras Version: 2.8.0\n"
          ]
        }
      ],
      "source": [
        "# check keras and TF version used\n",
        "print('TF Version:', tf.__version__)\n",
        "print('Keras Version:', keras.__version__)\n",
        "# TF Version: 1.15.0\n",
        "# Keras Version: 2.2.5"
      ]
    },
    {
      "cell_type": "markdown",
      "source": [
        "Extra-Step: Load Google Drive Location\n"
      ],
      "metadata": {
        "id": "h8gG4S9PigrH"
      }
    },
    {
      "cell_type": "code",
      "source": [
        "#connect google drive and read the worksheet from the same\n",
        "from google.colab import drive\n",
        "drive.mount('/content/drive')"
      ],
      "metadata": {
        "colab": {
          "base_uri": "https://localhost:8080/"
        },
        "id": "e5f7Up84ilvY",
        "outputId": "e3bfa136-a735-49f8-ca81-c8aac3bfdf5c"
      },
      "execution_count": 5,
      "outputs": [
        {
          "output_type": "stream",
          "name": "stdout",
          "text": [
            "Mounted at /content/drive\n"
          ]
        }
      ]
    },
    {
      "cell_type": "code",
      "source": [
        "gpath=\"/content/drive/MyDrive/Colab Notebooks/mec17/mec-17.4.1-recommendation-systems-mini-project/\""
      ],
      "metadata": {
        "id": "IpOvi0ONi6Nb"
      },
      "execution_count": 6,
      "outputs": []
    },
    {
      "cell_type": "markdown",
      "metadata": {
        "id": "lXXYudDD0Coy"
      },
      "source": [
        "Let's start loading data that will be used for building the recommendation systems"
      ]
    },
    {
      "cell_type": "markdown",
      "metadata": {
        "id": "6FJZmUvExOYt"
      },
      "source": [
        "# 3. Load Datasets"
      ]
    },
    {
      "cell_type": "markdown",
      "metadata": {
        "id": "AnAU78S7xz-H"
      },
      "source": [
        "## 3.1: Load Movie Metadata Datasets\n",
        "\n",
        "First, we will load the movie_titles.csv data from the Netflix prize data source"
      ]
    },
    {
      "cell_type": "code",
      "execution_count": 7,
      "metadata": {
        "colab": {
          "base_uri": "https://localhost:8080/",
          "height": 255
        },
        "id": "tgD9whbBfcWW",
        "outputId": "fd75a7b8-17fa-41b1-f46c-83aed810a293"
      },
      "outputs": [
        {
          "output_type": "stream",
          "name": "stdout",
          "text": [
            "Shape Movie-Titles:\t(17770, 2)\n"
          ]
        },
        {
          "output_type": "execute_result",
          "data": {
            "text/plain": [
              "         Year                           Name\n",
              "Id                                          \n",
              "8866   2003.0                        Tehzeeb\n",
              "8542   1999.0              Whatever It Takes\n",
              "12218  1958.0                     Run Silent\n",
              "5648   2004.0    Creature Comforts: Season 1\n",
              "8144   2004.0  Shawn Michaels: Boyhood Dream"
            ],
            "text/html": [
              "\n",
              "  <div id=\"df-a5c9dafe-4e42-4891-9545-3a65a66e4d51\">\n",
              "    <div class=\"colab-df-container\">\n",
              "      <div>\n",
              "<style scoped>\n",
              "    .dataframe tbody tr th:only-of-type {\n",
              "        vertical-align: middle;\n",
              "    }\n",
              "\n",
              "    .dataframe tbody tr th {\n",
              "        vertical-align: top;\n",
              "    }\n",
              "\n",
              "    .dataframe thead th {\n",
              "        text-align: right;\n",
              "    }\n",
              "</style>\n",
              "<table border=\"1\" class=\"dataframe\">\n",
              "  <thead>\n",
              "    <tr style=\"text-align: right;\">\n",
              "      <th></th>\n",
              "      <th>Year</th>\n",
              "      <th>Name</th>\n",
              "    </tr>\n",
              "    <tr>\n",
              "      <th>Id</th>\n",
              "      <th></th>\n",
              "      <th></th>\n",
              "    </tr>\n",
              "  </thead>\n",
              "  <tbody>\n",
              "    <tr>\n",
              "      <th>8866</th>\n",
              "      <td>2003.0</td>\n",
              "      <td>Tehzeeb</td>\n",
              "    </tr>\n",
              "    <tr>\n",
              "      <th>8542</th>\n",
              "      <td>1999.0</td>\n",
              "      <td>Whatever It Takes</td>\n",
              "    </tr>\n",
              "    <tr>\n",
              "      <th>12218</th>\n",
              "      <td>1958.0</td>\n",
              "      <td>Run Silent</td>\n",
              "    </tr>\n",
              "    <tr>\n",
              "      <th>5648</th>\n",
              "      <td>2004.0</td>\n",
              "      <td>Creature Comforts: Season 1</td>\n",
              "    </tr>\n",
              "    <tr>\n",
              "      <th>8144</th>\n",
              "      <td>2004.0</td>\n",
              "      <td>Shawn Michaels: Boyhood Dream</td>\n",
              "    </tr>\n",
              "  </tbody>\n",
              "</table>\n",
              "</div>\n",
              "      <button class=\"colab-df-convert\" onclick=\"convertToInteractive('df-a5c9dafe-4e42-4891-9545-3a65a66e4d51')\"\n",
              "              title=\"Convert this dataframe to an interactive table.\"\n",
              "              style=\"display:none;\">\n",
              "        \n",
              "  <svg xmlns=\"http://www.w3.org/2000/svg\" height=\"24px\"viewBox=\"0 0 24 24\"\n",
              "       width=\"24px\">\n",
              "    <path d=\"M0 0h24v24H0V0z\" fill=\"none\"/>\n",
              "    <path d=\"M18.56 5.44l.94 2.06.94-2.06 2.06-.94-2.06-.94-.94-2.06-.94 2.06-2.06.94zm-11 1L8.5 8.5l.94-2.06 2.06-.94-2.06-.94L8.5 2.5l-.94 2.06-2.06.94zm10 10l.94 2.06.94-2.06 2.06-.94-2.06-.94-.94-2.06-.94 2.06-2.06.94z\"/><path d=\"M17.41 7.96l-1.37-1.37c-.4-.4-.92-.59-1.43-.59-.52 0-1.04.2-1.43.59L10.3 9.45l-7.72 7.72c-.78.78-.78 2.05 0 2.83L4 21.41c.39.39.9.59 1.41.59.51 0 1.02-.2 1.41-.59l7.78-7.78 2.81-2.81c.8-.78.8-2.07 0-2.86zM5.41 20L4 18.59l7.72-7.72 1.47 1.35L5.41 20z\"/>\n",
              "  </svg>\n",
              "      </button>\n",
              "      \n",
              "  <style>\n",
              "    .colab-df-container {\n",
              "      display:flex;\n",
              "      flex-wrap:wrap;\n",
              "      gap: 12px;\n",
              "    }\n",
              "\n",
              "    .colab-df-convert {\n",
              "      background-color: #E8F0FE;\n",
              "      border: none;\n",
              "      border-radius: 50%;\n",
              "      cursor: pointer;\n",
              "      display: none;\n",
              "      fill: #1967D2;\n",
              "      height: 32px;\n",
              "      padding: 0 0 0 0;\n",
              "      width: 32px;\n",
              "    }\n",
              "\n",
              "    .colab-df-convert:hover {\n",
              "      background-color: #E2EBFA;\n",
              "      box-shadow: 0px 1px 2px rgba(60, 64, 67, 0.3), 0px 1px 3px 1px rgba(60, 64, 67, 0.15);\n",
              "      fill: #174EA6;\n",
              "    }\n",
              "\n",
              "    [theme=dark] .colab-df-convert {\n",
              "      background-color: #3B4455;\n",
              "      fill: #D2E3FC;\n",
              "    }\n",
              "\n",
              "    [theme=dark] .colab-df-convert:hover {\n",
              "      background-color: #434B5C;\n",
              "      box-shadow: 0px 1px 3px 1px rgba(0, 0, 0, 0.15);\n",
              "      filter: drop-shadow(0px 1px 2px rgba(0, 0, 0, 0.3));\n",
              "      fill: #FFFFFF;\n",
              "    }\n",
              "  </style>\n",
              "\n",
              "      <script>\n",
              "        const buttonEl =\n",
              "          document.querySelector('#df-a5c9dafe-4e42-4891-9545-3a65a66e4d51 button.colab-df-convert');\n",
              "        buttonEl.style.display =\n",
              "          google.colab.kernel.accessAllowed ? 'block' : 'none';\n",
              "\n",
              "        async function convertToInteractive(key) {\n",
              "          const element = document.querySelector('#df-a5c9dafe-4e42-4891-9545-3a65a66e4d51');\n",
              "          const dataTable =\n",
              "            await google.colab.kernel.invokeFunction('convertToInteractive',\n",
              "                                                     [key], {});\n",
              "          if (!dataTable) return;\n",
              "\n",
              "          const docLinkHtml = 'Like what you see? Visit the ' +\n",
              "            '<a target=\"_blank\" href=https://colab.research.google.com/notebooks/data_table.ipynb>data table notebook</a>'\n",
              "            + ' to learn more about interactive tables.';\n",
              "          element.innerHTML = '';\n",
              "          dataTable['output_type'] = 'display_data';\n",
              "          await google.colab.output.renderOutput(dataTable, element);\n",
              "          const docLink = document.createElement('div');\n",
              "          docLink.innerHTML = docLinkHtml;\n",
              "          element.appendChild(docLink);\n",
              "        }\n",
              "      </script>\n",
              "    </div>\n",
              "  </div>\n",
              "  "
            ]
          },
          "metadata": {},
          "execution_count": 7
        }
      ],
      "source": [
        "# Load data for all movies\n",
        "movie_titles = pd.read_csv(gpath+'/data/movie_titles.csv.zip', \n",
        "                           encoding = 'ISO-8859-1', \n",
        "                           header = None, \n",
        "                           names = ['Id', 'Year', 'Name']).set_index('Id')\n",
        "\n",
        "print('Shape Movie-Titles:\\t{}'.format(movie_titles.shape))\n",
        "movie_titles.sample(5)"
      ]
    },
    {
      "cell_type": "markdown",
      "metadata": {
        "id": "SYafEzcYxa09"
      },
      "source": [
        "There are approximately 18000 movies in the ratings dataset and the metadata information includes the year of release and movie title"
      ]
    },
    {
      "cell_type": "markdown",
      "metadata": {
        "id": "aE4QaObcyAup"
      },
      "source": [
        "Next, we will load the movie_metadata.csv from The movies dataset source. This is to get the metadata information like description etc. related to each movie."
      ]
    },
    {
      "cell_type": "code",
      "execution_count": 8,
      "metadata": {
        "colab": {
          "base_uri": "https://localhost:8080/",
          "height": 255
        },
        "id": "WWig4ePBqGSD",
        "outputId": "f17ecf2f-e500-42c2-884f-64e68f5dd4e1"
      },
      "outputs": [
        {
          "output_type": "stream",
          "name": "stdout",
          "text": [
            "Shape Movie-Metadata:\t(21604, 1)\n"
          ]
        },
        {
          "output_type": "execute_result",
          "data": {
            "text/plain": [
              "                                                                      overview\n",
              "original_title                                                                \n",
              "Toy Story                    Led by Woody, Andy's toys live happily in his ...\n",
              "Jumanji                      When siblings Judy and Peter discover an encha...\n",
              "Grumpier Old Men             A family wedding reignites the ancient feud be...\n",
              "Waiting to Exhale            Cheated on, mistreated and stepped on, the wom...\n",
              "Father of the Bride Part II  Just when George Banks has recovered from his ..."
            ],
            "text/html": [
              "\n",
              "  <div id=\"df-23cfcc89-226f-497d-a752-8201eb0d760f\">\n",
              "    <div class=\"colab-df-container\">\n",
              "      <div>\n",
              "<style scoped>\n",
              "    .dataframe tbody tr th:only-of-type {\n",
              "        vertical-align: middle;\n",
              "    }\n",
              "\n",
              "    .dataframe tbody tr th {\n",
              "        vertical-align: top;\n",
              "    }\n",
              "\n",
              "    .dataframe thead th {\n",
              "        text-align: right;\n",
              "    }\n",
              "</style>\n",
              "<table border=\"1\" class=\"dataframe\">\n",
              "  <thead>\n",
              "    <tr style=\"text-align: right;\">\n",
              "      <th></th>\n",
              "      <th>overview</th>\n",
              "    </tr>\n",
              "    <tr>\n",
              "      <th>original_title</th>\n",
              "      <th></th>\n",
              "    </tr>\n",
              "  </thead>\n",
              "  <tbody>\n",
              "    <tr>\n",
              "      <th>Toy Story</th>\n",
              "      <td>Led by Woody, Andy's toys live happily in his ...</td>\n",
              "    </tr>\n",
              "    <tr>\n",
              "      <th>Jumanji</th>\n",
              "      <td>When siblings Judy and Peter discover an encha...</td>\n",
              "    </tr>\n",
              "    <tr>\n",
              "      <th>Grumpier Old Men</th>\n",
              "      <td>A family wedding reignites the ancient feud be...</td>\n",
              "    </tr>\n",
              "    <tr>\n",
              "      <th>Waiting to Exhale</th>\n",
              "      <td>Cheated on, mistreated and stepped on, the wom...</td>\n",
              "    </tr>\n",
              "    <tr>\n",
              "      <th>Father of the Bride Part II</th>\n",
              "      <td>Just when George Banks has recovered from his ...</td>\n",
              "    </tr>\n",
              "  </tbody>\n",
              "</table>\n",
              "</div>\n",
              "      <button class=\"colab-df-convert\" onclick=\"convertToInteractive('df-23cfcc89-226f-497d-a752-8201eb0d760f')\"\n",
              "              title=\"Convert this dataframe to an interactive table.\"\n",
              "              style=\"display:none;\">\n",
              "        \n",
              "  <svg xmlns=\"http://www.w3.org/2000/svg\" height=\"24px\"viewBox=\"0 0 24 24\"\n",
              "       width=\"24px\">\n",
              "    <path d=\"M0 0h24v24H0V0z\" fill=\"none\"/>\n",
              "    <path d=\"M18.56 5.44l.94 2.06.94-2.06 2.06-.94-2.06-.94-.94-2.06-.94 2.06-2.06.94zm-11 1L8.5 8.5l.94-2.06 2.06-.94-2.06-.94L8.5 2.5l-.94 2.06-2.06.94zm10 10l.94 2.06.94-2.06 2.06-.94-2.06-.94-.94-2.06-.94 2.06-2.06.94z\"/><path d=\"M17.41 7.96l-1.37-1.37c-.4-.4-.92-.59-1.43-.59-.52 0-1.04.2-1.43.59L10.3 9.45l-7.72 7.72c-.78.78-.78 2.05 0 2.83L4 21.41c.39.39.9.59 1.41.59.51 0 1.02-.2 1.41-.59l7.78-7.78 2.81-2.81c.8-.78.8-2.07 0-2.86zM5.41 20L4 18.59l7.72-7.72 1.47 1.35L5.41 20z\"/>\n",
              "  </svg>\n",
              "      </button>\n",
              "      \n",
              "  <style>\n",
              "    .colab-df-container {\n",
              "      display:flex;\n",
              "      flex-wrap:wrap;\n",
              "      gap: 12px;\n",
              "    }\n",
              "\n",
              "    .colab-df-convert {\n",
              "      background-color: #E8F0FE;\n",
              "      border: none;\n",
              "      border-radius: 50%;\n",
              "      cursor: pointer;\n",
              "      display: none;\n",
              "      fill: #1967D2;\n",
              "      height: 32px;\n",
              "      padding: 0 0 0 0;\n",
              "      width: 32px;\n",
              "    }\n",
              "\n",
              "    .colab-df-convert:hover {\n",
              "      background-color: #E2EBFA;\n",
              "      box-shadow: 0px 1px 2px rgba(60, 64, 67, 0.3), 0px 1px 3px 1px rgba(60, 64, 67, 0.15);\n",
              "      fill: #174EA6;\n",
              "    }\n",
              "\n",
              "    [theme=dark] .colab-df-convert {\n",
              "      background-color: #3B4455;\n",
              "      fill: #D2E3FC;\n",
              "    }\n",
              "\n",
              "    [theme=dark] .colab-df-convert:hover {\n",
              "      background-color: #434B5C;\n",
              "      box-shadow: 0px 1px 3px 1px rgba(0, 0, 0, 0.15);\n",
              "      filter: drop-shadow(0px 1px 2px rgba(0, 0, 0, 0.3));\n",
              "      fill: #FFFFFF;\n",
              "    }\n",
              "  </style>\n",
              "\n",
              "      <script>\n",
              "        const buttonEl =\n",
              "          document.querySelector('#df-23cfcc89-226f-497d-a752-8201eb0d760f button.colab-df-convert');\n",
              "        buttonEl.style.display =\n",
              "          google.colab.kernel.accessAllowed ? 'block' : 'none';\n",
              "\n",
              "        async function convertToInteractive(key) {\n",
              "          const element = document.querySelector('#df-23cfcc89-226f-497d-a752-8201eb0d760f');\n",
              "          const dataTable =\n",
              "            await google.colab.kernel.invokeFunction('convertToInteractive',\n",
              "                                                     [key], {});\n",
              "          if (!dataTable) return;\n",
              "\n",
              "          const docLinkHtml = 'Like what you see? Visit the ' +\n",
              "            '<a target=\"_blank\" href=https://colab.research.google.com/notebooks/data_table.ipynb>data table notebook</a>'\n",
              "            + ' to learn more about interactive tables.';\n",
              "          element.innerHTML = '';\n",
              "          dataTable['output_type'] = 'display_data';\n",
              "          await google.colab.output.renderOutput(dataTable, element);\n",
              "          const docLink = document.createElement('div');\n",
              "          docLink.innerHTML = docLinkHtml;\n",
              "          element.appendChild(docLink);\n",
              "        }\n",
              "      </script>\n",
              "    </div>\n",
              "  </div>\n",
              "  "
            ]
          },
          "metadata": {},
          "execution_count": 8
        }
      ],
      "source": [
        "# Load a movie metadata dataset\n",
        "movie_metadata = (pd.read_csv(gpath+'/data/movies_metadata.csv.zip', \n",
        "                              low_memory=False)[['original_title', 'overview', 'vote_count']]\n",
        "                    .set_index('original_title')\n",
        "                    .dropna())\n",
        "\n",
        "# Remove the long tail of rarly rated moves\n",
        "movie_metadata = movie_metadata[movie_metadata['vote_count']>10].drop('vote_count', axis=1)\n",
        "\n",
        "print('Shape Movie-Metadata:\\t{}'.format(movie_metadata.shape))\n",
        "movie_metadata.head(5)"
      ]
    },
    {
      "cell_type": "code",
      "source": [
        "#Rohan-Some data exploration\n",
        "print(movie_titles.columns)\n",
        "print(movie_metadata.columns)\n",
        "print(movie_metadata.index)"
      ],
      "metadata": {
        "colab": {
          "base_uri": "https://localhost:8080/"
        },
        "id": "nVq_aNmTkRJN",
        "outputId": "e92aac44-87b7-45ba-e4b8-b91cff18a850"
      },
      "execution_count": 9,
      "outputs": [
        {
          "output_type": "stream",
          "name": "stdout",
          "text": [
            "Index(['Year', 'Name'], dtype='object')\n",
            "Index(['overview'], dtype='object')\n",
            "Index(['Toy Story', 'Jumanji', 'Grumpier Old Men', 'Waiting to Exhale',\n",
            "       'Father of the Bride Part II', 'Heat', 'Sabrina', 'Tom and Huck',\n",
            "       'Sudden Death', 'GoldenEye',\n",
            "       ...\n",
            "       'The Final Storm', 'In a Heartbeat', 'Bloed, Zweet en Tranen',\n",
            "       'To Be Fat Like Me', 'Cadet Kelly', 'L'Homme à la tête de caoutchouc',\n",
            "       'Le locataire diabolique', 'L'Homme orchestre', 'Maa', 'Robin Hood'],\n",
            "      dtype='object', name='original_title', length=21604)\n"
          ]
        }
      ]
    },
    {
      "cell_type": "markdown",
      "metadata": {
        "id": "dElmRUSWyYoh"
      },
      "source": [
        "Around 21,000 entries in the movies metadata dataset"
      ]
    },
    {
      "cell_type": "markdown",
      "metadata": {
        "id": "XJ3cHW1eyhwR"
      },
      "source": [
        "## 3.2: Load User-Movie-Rating Dataset"
      ]
    },
    {
      "cell_type": "code",
      "execution_count": 10,
      "metadata": {
        "colab": {
          "base_uri": "https://localhost:8080/"
        },
        "id": "YkW7mvtHiJI1",
        "outputId": "8a861c47-173c-41d5-842a-01eb99b82645"
      },
      "outputs": [
        {
          "output_type": "stream",
          "name": "stdout",
          "text": [
            "Looking in indexes: https://pypi.org/simple, https://us-python.pkg.dev/colab-wheels/public/simple/\n",
            "Requirement already satisfied: gdown in /usr/local/lib/python3.7/dist-packages (4.4.0)\n",
            "Requirement already satisfied: tqdm in /usr/local/lib/python3.7/dist-packages (from gdown) (4.64.0)\n",
            "Requirement already satisfied: filelock in /usr/local/lib/python3.7/dist-packages (from gdown) (3.7.1)\n",
            "Requirement already satisfied: requests[socks] in /usr/local/lib/python3.7/dist-packages (from gdown) (2.23.0)\n",
            "Requirement already satisfied: six in /usr/local/lib/python3.7/dist-packages (from gdown) (1.15.0)\n",
            "Requirement already satisfied: beautifulsoup4 in /usr/local/lib/python3.7/dist-packages (from gdown) (4.6.3)\n",
            "Requirement already satisfied: idna<3,>=2.5 in /usr/local/lib/python3.7/dist-packages (from requests[socks]->gdown) (2.10)\n",
            "Requirement already satisfied: chardet<4,>=3.0.2 in /usr/local/lib/python3.7/dist-packages (from requests[socks]->gdown) (3.0.4)\n",
            "Requirement already satisfied: certifi>=2017.4.17 in /usr/local/lib/python3.7/dist-packages (from requests[socks]->gdown) (2022.6.15)\n",
            "Requirement already satisfied: urllib3!=1.25.0,!=1.25.1,<1.26,>=1.21.1 in /usr/local/lib/python3.7/dist-packages (from requests[socks]->gdown) (1.24.3)\n",
            "Requirement already satisfied: PySocks!=1.5.7,>=1.5.6 in /usr/local/lib/python3.7/dist-packages (from requests[socks]->gdown) (1.7.1)\n",
            "Downloading...\n",
            "From: https://drive.google.com/uc?export=download&id=1z0O0fXuofdsbpL8fkCVgjeIwFP_LxGX2\n",
            "To: /content/data/combined_data.csv.zip\n",
            "100% 161M/161M [00:01<00:00, 107MB/s]\n"
          ]
        }
      ],
      "source": [
        "# Dowload large file from the shared GDrive folder\n",
        "!pip install gdown\n",
        "!gdown \"https://drive.google.com/uc?export=download&id=1z0O0fXuofdsbpL8fkCVgjeIwFP_LxGX2\" -O data/\n"
      ]
    },
    {
      "cell_type": "code",
      "execution_count": 11,
      "metadata": {
        "colab": {
          "base_uri": "https://localhost:8080/",
          "height": 380
        },
        "id": "4s_qbrIhqW31",
        "outputId": "53aa5fb4-8cd9-4ff2-b1db-8283e0e63689"
      },
      "outputs": [
        {
          "output_type": "stream",
          "name": "stdout",
          "text": [
            "Shape User-Ratings:\t(24053764, 4)\n"
          ]
        },
        {
          "output_type": "execute_result",
          "data": {
            "text/plain": [
              "             User  Rating        Date  Movie\n",
              "10869118   649027     4.0  2005-07-04   2122\n",
              "1585198     73997     5.0  2002-05-23    313\n",
              "6417058   1252798     3.0  2005-11-11   1255\n",
              "13764819   943436     3.0  2003-10-07   2617\n",
              "5036712   1935050     1.0  2004-01-23   1012\n",
              "19098884   122197     3.0  2004-08-11   3626\n",
              "6448240   1114884     4.0  2005-04-20   1262\n",
              "9919831   1667002     3.0  2004-11-03   1918\n",
              "12160867  2214251     5.0  2003-11-20   2360\n",
              "14583515   467885     2.0  2003-06-04   2800"
            ],
            "text/html": [
              "\n",
              "  <div id=\"df-3b78211e-5094-4efe-96ff-fee19dcf9862\">\n",
              "    <div class=\"colab-df-container\">\n",
              "      <div>\n",
              "<style scoped>\n",
              "    .dataframe tbody tr th:only-of-type {\n",
              "        vertical-align: middle;\n",
              "    }\n",
              "\n",
              "    .dataframe tbody tr th {\n",
              "        vertical-align: top;\n",
              "    }\n",
              "\n",
              "    .dataframe thead th {\n",
              "        text-align: right;\n",
              "    }\n",
              "</style>\n",
              "<table border=\"1\" class=\"dataframe\">\n",
              "  <thead>\n",
              "    <tr style=\"text-align: right;\">\n",
              "      <th></th>\n",
              "      <th>User</th>\n",
              "      <th>Rating</th>\n",
              "      <th>Date</th>\n",
              "      <th>Movie</th>\n",
              "    </tr>\n",
              "  </thead>\n",
              "  <tbody>\n",
              "    <tr>\n",
              "      <th>10869118</th>\n",
              "      <td>649027</td>\n",
              "      <td>4.0</td>\n",
              "      <td>2005-07-04</td>\n",
              "      <td>2122</td>\n",
              "    </tr>\n",
              "    <tr>\n",
              "      <th>1585198</th>\n",
              "      <td>73997</td>\n",
              "      <td>5.0</td>\n",
              "      <td>2002-05-23</td>\n",
              "      <td>313</td>\n",
              "    </tr>\n",
              "    <tr>\n",
              "      <th>6417058</th>\n",
              "      <td>1252798</td>\n",
              "      <td>3.0</td>\n",
              "      <td>2005-11-11</td>\n",
              "      <td>1255</td>\n",
              "    </tr>\n",
              "    <tr>\n",
              "      <th>13764819</th>\n",
              "      <td>943436</td>\n",
              "      <td>3.0</td>\n",
              "      <td>2003-10-07</td>\n",
              "      <td>2617</td>\n",
              "    </tr>\n",
              "    <tr>\n",
              "      <th>5036712</th>\n",
              "      <td>1935050</td>\n",
              "      <td>1.0</td>\n",
              "      <td>2004-01-23</td>\n",
              "      <td>1012</td>\n",
              "    </tr>\n",
              "    <tr>\n",
              "      <th>19098884</th>\n",
              "      <td>122197</td>\n",
              "      <td>3.0</td>\n",
              "      <td>2004-08-11</td>\n",
              "      <td>3626</td>\n",
              "    </tr>\n",
              "    <tr>\n",
              "      <th>6448240</th>\n",
              "      <td>1114884</td>\n",
              "      <td>4.0</td>\n",
              "      <td>2005-04-20</td>\n",
              "      <td>1262</td>\n",
              "    </tr>\n",
              "    <tr>\n",
              "      <th>9919831</th>\n",
              "      <td>1667002</td>\n",
              "      <td>3.0</td>\n",
              "      <td>2004-11-03</td>\n",
              "      <td>1918</td>\n",
              "    </tr>\n",
              "    <tr>\n",
              "      <th>12160867</th>\n",
              "      <td>2214251</td>\n",
              "      <td>5.0</td>\n",
              "      <td>2003-11-20</td>\n",
              "      <td>2360</td>\n",
              "    </tr>\n",
              "    <tr>\n",
              "      <th>14583515</th>\n",
              "      <td>467885</td>\n",
              "      <td>2.0</td>\n",
              "      <td>2003-06-04</td>\n",
              "      <td>2800</td>\n",
              "    </tr>\n",
              "  </tbody>\n",
              "</table>\n",
              "</div>\n",
              "      <button class=\"colab-df-convert\" onclick=\"convertToInteractive('df-3b78211e-5094-4efe-96ff-fee19dcf9862')\"\n",
              "              title=\"Convert this dataframe to an interactive table.\"\n",
              "              style=\"display:none;\">\n",
              "        \n",
              "  <svg xmlns=\"http://www.w3.org/2000/svg\" height=\"24px\"viewBox=\"0 0 24 24\"\n",
              "       width=\"24px\">\n",
              "    <path d=\"M0 0h24v24H0V0z\" fill=\"none\"/>\n",
              "    <path d=\"M18.56 5.44l.94 2.06.94-2.06 2.06-.94-2.06-.94-.94-2.06-.94 2.06-2.06.94zm-11 1L8.5 8.5l.94-2.06 2.06-.94-2.06-.94L8.5 2.5l-.94 2.06-2.06.94zm10 10l.94 2.06.94-2.06 2.06-.94-2.06-.94-.94-2.06-.94 2.06-2.06.94z\"/><path d=\"M17.41 7.96l-1.37-1.37c-.4-.4-.92-.59-1.43-.59-.52 0-1.04.2-1.43.59L10.3 9.45l-7.72 7.72c-.78.78-.78 2.05 0 2.83L4 21.41c.39.39.9.59 1.41.59.51 0 1.02-.2 1.41-.59l7.78-7.78 2.81-2.81c.8-.78.8-2.07 0-2.86zM5.41 20L4 18.59l7.72-7.72 1.47 1.35L5.41 20z\"/>\n",
              "  </svg>\n",
              "      </button>\n",
              "      \n",
              "  <style>\n",
              "    .colab-df-container {\n",
              "      display:flex;\n",
              "      flex-wrap:wrap;\n",
              "      gap: 12px;\n",
              "    }\n",
              "\n",
              "    .colab-df-convert {\n",
              "      background-color: #E8F0FE;\n",
              "      border: none;\n",
              "      border-radius: 50%;\n",
              "      cursor: pointer;\n",
              "      display: none;\n",
              "      fill: #1967D2;\n",
              "      height: 32px;\n",
              "      padding: 0 0 0 0;\n",
              "      width: 32px;\n",
              "    }\n",
              "\n",
              "    .colab-df-convert:hover {\n",
              "      background-color: #E2EBFA;\n",
              "      box-shadow: 0px 1px 2px rgba(60, 64, 67, 0.3), 0px 1px 3px 1px rgba(60, 64, 67, 0.15);\n",
              "      fill: #174EA6;\n",
              "    }\n",
              "\n",
              "    [theme=dark] .colab-df-convert {\n",
              "      background-color: #3B4455;\n",
              "      fill: #D2E3FC;\n",
              "    }\n",
              "\n",
              "    [theme=dark] .colab-df-convert:hover {\n",
              "      background-color: #434B5C;\n",
              "      box-shadow: 0px 1px 3px 1px rgba(0, 0, 0, 0.15);\n",
              "      filter: drop-shadow(0px 1px 2px rgba(0, 0, 0, 0.3));\n",
              "      fill: #FFFFFF;\n",
              "    }\n",
              "  </style>\n",
              "\n",
              "      <script>\n",
              "        const buttonEl =\n",
              "          document.querySelector('#df-3b78211e-5094-4efe-96ff-fee19dcf9862 button.colab-df-convert');\n",
              "        buttonEl.style.display =\n",
              "          google.colab.kernel.accessAllowed ? 'block' : 'none';\n",
              "\n",
              "        async function convertToInteractive(key) {\n",
              "          const element = document.querySelector('#df-3b78211e-5094-4efe-96ff-fee19dcf9862');\n",
              "          const dataTable =\n",
              "            await google.colab.kernel.invokeFunction('convertToInteractive',\n",
              "                                                     [key], {});\n",
              "          if (!dataTable) return;\n",
              "\n",
              "          const docLinkHtml = 'Like what you see? Visit the ' +\n",
              "            '<a target=\"_blank\" href=https://colab.research.google.com/notebooks/data_table.ipynb>data table notebook</a>'\n",
              "            + ' to learn more about interactive tables.';\n",
              "          element.innerHTML = '';\n",
              "          dataTable['output_type'] = 'display_data';\n",
              "          await google.colab.output.renderOutput(dataTable, element);\n",
              "          const docLink = document.createElement('div');\n",
              "          docLink.innerHTML = docLinkHtml;\n",
              "          element.appendChild(docLink);\n",
              "        }\n",
              "      </script>\n",
              "    </div>\n",
              "  </div>\n",
              "  "
            ]
          },
          "metadata": {},
          "execution_count": 11
        }
      ],
      "source": [
        "# Load single data-file\n",
        "df_raw = pd.read_csv('./data/combined_data.csv.zip', \n",
        "                     header=None, \n",
        "                     names=['User', 'Rating', 'Date'], \n",
        "                     usecols=[0, 1, 2])\n",
        "\n",
        "# Find empty rows to slice dataframe for each movie\n",
        "tmp_movies = df_raw[df_raw['Rating'].isna()]['User'].reset_index()\n",
        "movie_indices = [[index, int(movie[:-1])] for index, movie in tmp_movies.values]\n",
        "\n",
        "# Shift the movie_indices by one to get start and endpoints of all movies\n",
        "shifted_movie_indices = deque(movie_indices)\n",
        "shifted_movie_indices.rotate(-1)\n",
        "\n",
        "# Gather all dataframes\n",
        "user_data = []\n",
        "\n",
        "# Iterate over all movies\n",
        "for [df_id_1, movie_id], [df_id_2, next_movie_id] in zip(movie_indices, shifted_movie_indices):\n",
        "    \n",
        "    # Check if it is the last movie in the file\n",
        "    if df_id_1<df_id_2:\n",
        "        tmp_df = df_raw.loc[df_id_1+1:df_id_2-1].copy()\n",
        "    else:\n",
        "        tmp_df = df_raw.loc[df_id_1+1:].copy()\n",
        "        \n",
        "    # Create movie_id column\n",
        "    tmp_df['Movie'] = movie_id\n",
        "    \n",
        "    # Append dataframe to list\n",
        "    user_data.append(tmp_df)\n",
        "\n",
        "# Combine all dataframes\n",
        "df = pd.concat(user_data)\n",
        "del user_data, df_raw, tmp_movies, tmp_df, shifted_movie_indices, movie_indices, df_id_1, movie_id, df_id_2, next_movie_id\n",
        "print('Shape User-Ratings:\\t{}'.format(df.shape))\n",
        "df.sample(10)"
      ]
    },
    {
      "cell_type": "markdown",
      "metadata": {
        "id": "sg90OAW_zUwL"
      },
      "source": [
        "There are about 24 Million+ different rating records!"
      ]
    },
    {
      "cell_type": "markdown",
      "metadata": {
        "id": "xKIrEduYz6gh"
      },
      "source": [
        "We have taken the data required for building the system and now let's do some EDA on the dataset to better understand our data"
      ]
    },
    {
      "cell_type": "markdown",
      "metadata": {
        "id": "4wQzTRdm0tYg"
      },
      "source": [
        "# 4. Exploratory Data Analysis"
      ]
    },
    {
      "cell_type": "markdown",
      "metadata": {
        "id": "KVaYGLc94aGm"
      },
      "source": [
        "## 4.1: When were the movies released?\n"
      ]
    },
    {
      "cell_type": "code",
      "execution_count": 12,
      "metadata": {
        "colab": {
          "base_uri": "https://localhost:8080/",
          "height": 374
        },
        "id": "-iwB_2Cm24FL",
        "outputId": "cb997c49-e4ce-439f-8a83-796b112b425b"
      },
      "outputs": [
        {
          "output_type": "display_data",
          "data": {
            "text/plain": [
              "<Figure size 1008x432 with 1 Axes>"
            ],
            "image/png": "[encoded data removed]"
          },
          "metadata": {
            "needs_background": "light"
          }
        }
      ],
      "source": [
        "fig, ax = plt.subplots(1, 1, figsize=(14, 6))\n",
        "\n",
        "data = movie_titles['Year'].value_counts().sort_index()\n",
        "x = data.index.map(int)\n",
        "y = data.values\n",
        "\n",
        "sns.barplot(x, y)\n",
        "xmin, xmax = plt.xlim()\n",
        "xtick_labels = [x[0]] + list(x[10:-10:10]) + [x[-1]]\n",
        "plt.xticks(ticks=np.linspace(xmin, xmax, 10), labels=xtick_labels);"
      ]
    },
    {
      "cell_type": "markdown",
      "metadata": {
        "id": "lJ2mWAym5rBL"
      },
      "source": [
        "Many movies on Netflix have been released in this millennial. Whether Netflix prefers young movies or there are no old movies left can not be deduced from this plot.\n",
        "The decline for the rightmost point is probably caused by an incomplete last year."
      ]
    },
    {
      "cell_type": "markdown",
      "metadata": {
        "id": "QACzcP3w4z6j"
      },
      "source": [
        "## Q 4.2: How are The Ratings Distributed?\n",
        "\n",
        "__Your Turn:__ Build the visualization for rating distributions similar to the previous plot.\n"
      ]
    },
    {
      "cell_type": "code",
      "execution_count": 13,
      "metadata": {
        "colab": {
          "base_uri": "https://localhost:8080/"
        },
        "id": "16Mvv0w124FP",
        "outputId": "e708ee1f-2263-4076-be9a-1d6bcfbb4765"
      },
      "outputs": [
        {
          "output_type": "stream",
          "name": "stdout",
          "text": [
            "1.0    1118186\n",
            "2.0    2439073\n",
            "3.0    6904181\n",
            "4.0    8085741\n",
            "5.0    5506583\n",
            "Name: Rating, dtype: int64\n"
          ]
        }
      ],
      "source": [
        "\n",
        "\n",
        "data = df['Rating'].value_counts().sort_index()\n",
        "print(data)\n"
      ]
    },
    {
      "cell_type": "code",
      "source": [
        "x = data.index.map(int)\n",
        "y = data.values"
      ],
      "metadata": {
        "id": "RfD5oekemakA"
      },
      "execution_count": 14,
      "outputs": []
    },
    {
      "cell_type": "code",
      "source": [
        "fig, ax = plt.subplots(1, 1, figsize=(14, 6))\n",
        "plt.bar(x, y)\n",
        "plt.title(\"Bar plot of ratings\");\n",
        "plt.xlabel(\"Ratings\")\n",
        "plt.ylabel(\"Number\")\n",
        "#xmin, xmax = plt.xlim()\n",
        "#xtick_labels = [x[0]] + list(x[10:-10:10]) + [x[-1]]\n",
        "#plt.xticks(ticks=np.linspace(xmin, xmax, 10), labels=xtick_labels);"
      ],
      "metadata": {
        "colab": {
          "base_uri": "https://localhost:8080/",
          "height": 421
        },
        "id": "_mZ8qr8zmWA6",
        "outputId": "86bc6a4a-f235-4a4a-f096-b73ffdaf6491"
      },
      "execution_count": 15,
      "outputs": [
        {
          "output_type": "execute_result",
          "data": {
            "text/plain": [
              "Text(0, 0.5, 'Number')"
            ]
          },
          "metadata": {},
          "execution_count": 15
        },
        {
          "output_type": "display_data",
          "data": {
            "text/plain": [
              "<Figure size 1008x432 with 1 Axes>"
            ],
            "image/png": "[encoded data removed]"
          },
          "metadata": {
            "needs_background": "light"
          }
        }
      ]
    },
    {
      "cell_type": "markdown",
      "metadata": {
        "id": "Pn5uhmcu5xCE"
      },
      "source": [
        "Netflix movies rarely have a rating lower than three. Most ratings have between three and four stars.\n",
        "The distribution is probably biased, since only people liking the movies proceed to be customers and others presumably will leave the platform."
      ]
    },
    {
      "cell_type": "markdown",
      "metadata": {
        "id": "PQwkKk935eRl"
      },
      "source": [
        "## 4.3: Visualize the Distribution of Number of Movie Ratings \n",
        "\n",
        "This is to understand how many movies (y-axis) are receiving specific number of movie ratings (x-axis)"
      ]
    },
    {
      "cell_type": "code",
      "execution_count": 16,
      "metadata": {
        "colab": {
          "base_uri": "https://localhost:8080/",
          "height": 388
        },
        "id": "yatEt4eE24FS",
        "outputId": "638d71e6-1d13-4754-e010-bf2650eac554"
      },
      "outputs": [
        {
          "output_type": "display_data",
          "data": {
            "text/plain": [
              "<Figure size 1008x432 with 2 Axes>"
            ],
            "image/png": "[encoded data removed]"
          },
          "metadata": {
            "needs_background": "light"
          }
        }
      ],
      "source": [
        "fig, ax = plt.subplots(1, 2, figsize=(14, 6))\n",
        "\n",
        "data = df.groupby('Movie')['Rating'].count()\n",
        "sns.distplot(data[data  < 10000], kde=False, ax=ax[0]);\n",
        "sns.distplot(data[data  > 10000], kde=False, ax=ax[1]);"
      ]
    },
    {
      "cell_type": "markdown",
      "metadata": {
        "id": "lS5we5r4-nyV"
      },
      "source": [
        "## Q 4.4: Visualize the Distribution of Number of User Ratings \n",
        "\n",
        "This is to understand how many users (y-axis) are giving specific number of movie ratings (x-axis)\n",
        "\n",
        "__Your Turn:__ Try to find out an optimal threshold as in the previous example to split the data to form two understandable subplots!"
      ]
    },
    {
      "cell_type": "code",
      "source": [
        "df.head(5)"
      ],
      "metadata": {
        "colab": {
          "base_uri": "https://localhost:8080/",
          "height": 206
        },
        "id": "oV3CMwbBpX1X",
        "outputId": "d8c284df-952f-4ac2-cd26-c625a2dcd1d9"
      },
      "execution_count": 17,
      "outputs": [
        {
          "output_type": "execute_result",
          "data": {
            "text/plain": [
              "      User  Rating        Date  Movie\n",
              "1  1488844     3.0  2005-09-06      1\n",
              "2   822109     5.0  2005-05-13      1\n",
              "3   885013     4.0  2005-10-19      1\n",
              "4    30878     4.0  2005-12-26      1\n",
              "5   823519     3.0  2004-05-03      1"
            ],
            "text/html": [
              "\n",
              "  <div id=\"df-43278883-b2de-478f-a3bb-e58c2c2a96f9\">\n",
              "    <div class=\"colab-df-container\">\n",
              "      <div>\n",
              "<style scoped>\n",
              "    .dataframe tbody tr th:only-of-type {\n",
              "        vertical-align: middle;\n",
              "    }\n",
              "\n",
              "    .dataframe tbody tr th {\n",
              "        vertical-align: top;\n",
              "    }\n",
              "\n",
              "    .dataframe thead th {\n",
              "        text-align: right;\n",
              "    }\n",
              "</style>\n",
              "<table border=\"1\" class=\"dataframe\">\n",
              "  <thead>\n",
              "    <tr style=\"text-align: right;\">\n",
              "      <th></th>\n",
              "      <th>User</th>\n",
              "      <th>Rating</th>\n",
              "      <th>Date</th>\n",
              "      <th>Movie</th>\n",
              "    </tr>\n",
              "  </thead>\n",
              "  <tbody>\n",
              "    <tr>\n",
              "      <th>1</th>\n",
              "      <td>1488844</td>\n",
              "      <td>3.0</td>\n",
              "      <td>2005-09-06</td>\n",
              "      <td>1</td>\n",
              "    </tr>\n",
              "    <tr>\n",
              "      <th>2</th>\n",
              "      <td>822109</td>\n",
              "      <td>5.0</td>\n",
              "      <td>2005-05-13</td>\n",
              "      <td>1</td>\n",
              "    </tr>\n",
              "    <tr>\n",
              "      <th>3</th>\n",
              "      <td>885013</td>\n",
              "      <td>4.0</td>\n",
              "      <td>2005-10-19</td>\n",
              "      <td>1</td>\n",
              "    </tr>\n",
              "    <tr>\n",
              "      <th>4</th>\n",
              "      <td>30878</td>\n",
              "      <td>4.0</td>\n",
              "      <td>2005-12-26</td>\n",
              "      <td>1</td>\n",
              "    </tr>\n",
              "    <tr>\n",
              "      <th>5</th>\n",
              "      <td>823519</td>\n",
              "      <td>3.0</td>\n",
              "      <td>2004-05-03</td>\n",
              "      <td>1</td>\n",
              "    </tr>\n",
              "  </tbody>\n",
              "</table>\n",
              "</div>\n",
              "      <button class=\"colab-df-convert\" onclick=\"convertToInteractive('df-43278883-b2de-478f-a3bb-e58c2c2a96f9')\"\n",
              "              title=\"Convert this dataframe to an interactive table.\"\n",
              "              style=\"display:none;\">\n",
              "        \n",
              "  <svg xmlns=\"http://www.w3.org/2000/svg\" height=\"24px\"viewBox=\"0 0 24 24\"\n",
              "       width=\"24px\">\n",
              "    <path d=\"M0 0h24v24H0V0z\" fill=\"none\"/>\n",
              "    <path d=\"M18.56 5.44l.94 2.06.94-2.06 2.06-.94-2.06-.94-.94-2.06-.94 2.06-2.06.94zm-11 1L8.5 8.5l.94-2.06 2.06-.94-2.06-.94L8.5 2.5l-.94 2.06-2.06.94zm10 10l.94 2.06.94-2.06 2.06-.94-2.06-.94-.94-2.06-.94 2.06-2.06.94z\"/><path d=\"M17.41 7.96l-1.37-1.37c-.4-.4-.92-.59-1.43-.59-.52 0-1.04.2-1.43.59L10.3 9.45l-7.72 7.72c-.78.78-.78 2.05 0 2.83L4 21.41c.39.39.9.59 1.41.59.51 0 1.02-.2 1.41-.59l7.78-7.78 2.81-2.81c.8-.78.8-2.07 0-2.86zM5.41 20L4 18.59l7.72-7.72 1.47 1.35L5.41 20z\"/>\n",
              "  </svg>\n",
              "      </button>\n",
              "      \n",
              "  <style>\n",
              "    .colab-df-container {\n",
              "      display:flex;\n",
              "      flex-wrap:wrap;\n",
              "      gap: 12px;\n",
              "    }\n",
              "\n",
              "    .colab-df-convert {\n",
              "      background-color: #E8F0FE;\n",
              "      border: none;\n",
              "      border-radius: 50%;\n",
              "      cursor: pointer;\n",
              "      display: none;\n",
              "      fill: #1967D2;\n",
              "      height: 32px;\n",
              "      padding: 0 0 0 0;\n",
              "      width: 32px;\n",
              "    }\n",
              "\n",
              "    .colab-df-convert:hover {\n",
              "      background-color: #E2EBFA;\n",
              "      box-shadow: 0px 1px 2px rgba(60, 64, 67, 0.3), 0px 1px 3px 1px rgba(60, 64, 67, 0.15);\n",
              "      fill: #174EA6;\n",
              "    }\n",
              "\n",
              "    [theme=dark] .colab-df-convert {\n",
              "      background-color: #3B4455;\n",
              "      fill: #D2E3FC;\n",
              "    }\n",
              "\n",
              "    [theme=dark] .colab-df-convert:hover {\n",
              "      background-color: #434B5C;\n",
              "      box-shadow: 0px 1px 3px 1px rgba(0, 0, 0, 0.15);\n",
              "      filter: drop-shadow(0px 1px 2px rgba(0, 0, 0, 0.3));\n",
              "      fill: #FFFFFF;\n",
              "    }\n",
              "  </style>\n",
              "\n",
              "      <script>\n",
              "        const buttonEl =\n",
              "          document.querySelector('#df-43278883-b2de-478f-a3bb-e58c2c2a96f9 button.colab-df-convert');\n",
              "        buttonEl.style.display =\n",
              "          google.colab.kernel.accessAllowed ? 'block' : 'none';\n",
              "\n",
              "        async function convertToInteractive(key) {\n",
              "          const element = document.querySelector('#df-43278883-b2de-478f-a3bb-e58c2c2a96f9');\n",
              "          const dataTable =\n",
              "            await google.colab.kernel.invokeFunction('convertToInteractive',\n",
              "                                                     [key], {});\n",
              "          if (!dataTable) return;\n",
              "\n",
              "          const docLinkHtml = 'Like what you see? Visit the ' +\n",
              "            '<a target=\"_blank\" href=https://colab.research.google.com/notebooks/data_table.ipynb>data table notebook</a>'\n",
              "            + ' to learn more about interactive tables.';\n",
              "          element.innerHTML = '';\n",
              "          dataTable['output_type'] = 'display_data';\n",
              "          await google.colab.output.renderOutput(dataTable, element);\n",
              "          const docLink = document.createElement('div');\n",
              "          docLink.innerHTML = docLinkHtml;\n",
              "          element.appendChild(docLink);\n",
              "        }\n",
              "      </script>\n",
              "    </div>\n",
              "  </div>\n",
              "  "
            ]
          },
          "metadata": {},
          "execution_count": 17
        }
      ]
    },
    {
      "cell_type": "code",
      "execution_count": 18,
      "metadata": {
        "colab": {
          "base_uri": "https://localhost:8080/",
          "height": 388
        },
        "id": "hf-Q6jP-24FV",
        "outputId": "249a56ec-a965-4c89-ae52-2d1cdcdca4d2"
      },
      "outputs": [
        {
          "output_type": "display_data",
          "data": {
            "text/plain": [
              "<Figure size 1008x432 with 2 Axes>"
            ],
            "image/png": "[encoded data removed]"
          },
          "metadata": {
            "needs_background": "light"
          }
        }
      ],
      "source": [
        "fig, ax = plt.subplots(1, 2, figsize=(14, 6))\n",
        "mydata=df.groupby(\"User\")[\"Rating\"].count()\n",
        "sns.distplot(mydata[mydata<200], kde=False, ax=ax[0]);\n",
        "sns.distplot(mydata[mydata>=200],kde=False, ax=ax[1]);"
      ]
    },
    {
      "cell_type": "markdown",
      "metadata": {
        "id": "EMOY1tG75i24"
      },
      "source": [
        "The ratings per movie as well as the ratings per user both have nearly a perfect exponential decay. Only very few movies/users have many ratings."
      ]
    },
    {
      "cell_type": "markdown",
      "metadata": {
        "id": "p5S7Q14L_CL1"
      },
      "source": [
        "# 5. Dimensionality Reduction & Filtering"
      ]
    },
    {
      "cell_type": "markdown",
      "metadata": {
        "id": "h5YZwbcH7LzU"
      },
      "source": [
        "## Filter Sparse Movies And Users\n",
        "\n",
        "To reduce the dimensionality of the dataset I am filtering rarely rated movies and rarely rating users out.\n"
      ]
    },
    {
      "cell_type": "code",
      "execution_count": 19,
      "metadata": {
        "colab": {
          "base_uri": "https://localhost:8080/"
        },
        "id": "4nwtEkvSFFK5",
        "outputId": "d04312f5-129b-4afe-df46-8fd8ea2e5843"
      },
      "outputs": [
        {
          "output_type": "stream",
          "name": "stdout",
          "text": [
            "Shape User-Ratings unfiltered:\t(24053764, 4)\n",
            "Shape User-Ratings filtered:\t(5930581, 4)\n"
          ]
        }
      ],
      "source": [
        "# Filter sparse movies\n",
        "min_movie_ratings = 1000\n",
        "filter_movies = (df['Movie'].value_counts()>min_movie_ratings)\n",
        "filter_movies = filter_movies[filter_movies].index.tolist()\n",
        "\n",
        "# Filter sparse users\n",
        "min_user_ratings = 200\n",
        "filter_users = (df['User'].value_counts()>min_user_ratings)\n",
        "filter_users = filter_users[filter_users].index.tolist()\n",
        "\n",
        "# Actual filtering\n",
        "df_filtered = df[(df['Movie'].isin(filter_movies)) & (df['User'].isin(filter_users))]\n",
        "del filter_movies, filter_users, min_movie_ratings, min_user_ratings\n",
        "print('Shape User-Ratings unfiltered:\\t{}'.format(df.shape))\n",
        "print('Shape User-Ratings filtered:\\t{}'.format(df_filtered.shape))"
      ]
    },
    {
      "cell_type": "markdown",
      "metadata": {
        "id": "9GQ4JmM67TYQ"
      },
      "source": [
        "After filtering sparse movies and users about 5.9M rating records are present."
      ]
    },
    {
      "cell_type": "markdown",
      "metadata": {
        "id": "EI1CoJP9_kbF"
      },
      "source": [
        "# 6. Create Train and Test Datasets\n",
        "\n",
        "Do note this will be used for the statistical method based models and collaborative filtering.\n",
        "\n",
        "For content based filtering it is more of a model which recommends movies rather than predicting ratings and for the hybrid model we will need to recreate the train and test datasets later since we need to create a subset of movies-users-ratings which have movie text descriptions."
      ]
    },
    {
      "cell_type": "markdown",
      "metadata": {
        "id": "G7LX0sob7a2Z"
      },
      "source": [
        "## Create Train and Test datasets"
      ]
    },
    {
      "cell_type": "code",
      "execution_count": 20,
      "metadata": {
        "colab": {
          "base_uri": "https://localhost:8080/"
        },
        "id": "cyCrLAoFFHm4",
        "outputId": "a73739fb-5f34-420f-ff4e-9afa9816674f"
      },
      "outputs": [
        {
          "output_type": "execute_result",
          "data": {
            "text/plain": [
              "((5830581, 3), (100000, 3))"
            ]
          },
          "metadata": {},
          "execution_count": 20
        }
      ],
      "source": [
        "# Shuffle DataFrame\n",
        "df_filtered = df_filtered.drop('Date', axis=1).sample(frac=1).reset_index(drop=True)\n",
        "\n",
        "# Testingsize\n",
        "n = 100000\n",
        "\n",
        "# Split train- & testset\n",
        "df_train = df_filtered[:-n]\n",
        "df_test = df_filtered[-n:]\n",
        "df_train.shape, df_test.shape"
      ]
    },
    {
      "cell_type": "markdown",
      "metadata": {
        "id": "JjQjPE9-76iP"
      },
      "source": [
        "The train set will be used to train all models and the test set ensures we can compare model performance on unseen data using the RMSE metric."
      ]
    },
    {
      "cell_type": "markdown",
      "metadata": {
        "id": "ufn47cGh_wNC"
      },
      "source": [
        "# 7. Transformation"
      ]
    },
    {
      "cell_type": "markdown",
      "metadata": {
        "id": "mWkzhX-a792R"
      },
      "source": [
        "### Q 7.1: Transform The User-Movie-Ratings Data Frame to User-Movie Matrix"
      ]
    },
    {
      "cell_type": "markdown",
      "metadata": {
        "id": "qDeuv70i8NMQ"
      },
      "source": [
        "A large, sparse matrix will be created in this step. Each row will represent a user and its ratings and the columns are the movies.\n",
        "\n",
        "The movies already rated by users are the non-empty values in the matrix.\n",
        "\n",
        "Empty values are unrated movies and the main objective is to estimate the empty values to help our users.\n",
        "\n",
        "\n",
        "__Your turn:__ Create the User-Movie matrix leveraging the __`pivot_table()`__ function from pandas.\n",
        "\n",
        "Fill in the blanks in the code below by referencing the __`pivot_table()`__ function and invoking it on __`df_train`__. Feel free to check out the documentation.\n",
        "\n",
        "Remember, rows should be users, columns should be movies and the values in the matrix should be the movie ratings. All these should be available in the __`df_train`__ dataframe."
      ]
    },
    {
      "cell_type": "code",
      "source": [
        "df_train.head()"
      ],
      "metadata": {
        "colab": {
          "base_uri": "https://localhost:8080/",
          "height": 206
        },
        "id": "aOowB294s7fR",
        "outputId": "5189dbf8-6d25-4bd7-e859-c0b1a2b830ee"
      },
      "execution_count": 21,
      "outputs": [
        {
          "output_type": "execute_result",
          "data": {
            "text/plain": [
              "      User  Rating  Movie\n",
              "0   760924     3.0   4007\n",
              "1   586792     3.0   2372\n",
              "2   797705     4.0   4080\n",
              "3  2593204     4.0    401\n",
              "4   455711     4.0   4432"
            ],
            "text/html": [
              "\n",
              "  <div id=\"df-24ee40e7-5689-47f2-a660-834b61b6b9cc\">\n",
              "    <div class=\"colab-df-container\">\n",
              "      <div>\n",
              "<style scoped>\n",
              "    .dataframe tbody tr th:only-of-type {\n",
              "        vertical-align: middle;\n",
              "    }\n",
              "\n",
              "    .dataframe tbody tr th {\n",
              "        vertical-align: top;\n",
              "    }\n",
              "\n",
              "    .dataframe thead th {\n",
              "        text-align: right;\n",
              "    }\n",
              "</style>\n",
              "<table border=\"1\" class=\"dataframe\">\n",
              "  <thead>\n",
              "    <tr style=\"text-align: right;\">\n",
              "      <th></th>\n",
              "      <th>User</th>\n",
              "      <th>Rating</th>\n",
              "      <th>Movie</th>\n",
              "    </tr>\n",
              "  </thead>\n",
              "  <tbody>\n",
              "    <tr>\n",
              "      <th>0</th>\n",
              "      <td>760924</td>\n",
              "      <td>3.0</td>\n",
              "      <td>4007</td>\n",
              "    </tr>\n",
              "    <tr>\n",
              "      <th>1</th>\n",
              "      <td>586792</td>\n",
              "      <td>3.0</td>\n",
              "      <td>2372</td>\n",
              "    </tr>\n",
              "    <tr>\n",
              "      <th>2</th>\n",
              "      <td>797705</td>\n",
              "      <td>4.0</td>\n",
              "      <td>4080</td>\n",
              "    </tr>\n",
              "    <tr>\n",
              "      <th>3</th>\n",
              "      <td>2593204</td>\n",
              "      <td>4.0</td>\n",
              "      <td>401</td>\n",
              "    </tr>\n",
              "    <tr>\n",
              "      <th>4</th>\n",
              "      <td>455711</td>\n",
              "      <td>4.0</td>\n",
              "      <td>4432</td>\n",
              "    </tr>\n",
              "  </tbody>\n",
              "</table>\n",
              "</div>\n",
              "      <button class=\"colab-df-convert\" onclick=\"convertToInteractive('df-24ee40e7-5689-47f2-a660-834b61b6b9cc')\"\n",
              "              title=\"Convert this dataframe to an interactive table.\"\n",
              "              style=\"display:none;\">\n",
              "        \n",
              "  <svg xmlns=\"http://www.w3.org/2000/svg\" height=\"24px\"viewBox=\"0 0 24 24\"\n",
              "       width=\"24px\">\n",
              "    <path d=\"M0 0h24v24H0V0z\" fill=\"none\"/>\n",
              "    <path d=\"M18.56 5.44l.94 2.06.94-2.06 2.06-.94-2.06-.94-.94-2.06-.94 2.06-2.06.94zm-11 1L8.5 8.5l.94-2.06 2.06-.94-2.06-.94L8.5 2.5l-.94 2.06-2.06.94zm10 10l.94 2.06.94-2.06 2.06-.94-2.06-.94-.94-2.06-.94 2.06-2.06.94z\"/><path d=\"M17.41 7.96l-1.37-1.37c-.4-.4-.92-.59-1.43-.59-.52 0-1.04.2-1.43.59L10.3 9.45l-7.72 7.72c-.78.78-.78 2.05 0 2.83L4 21.41c.39.39.9.59 1.41.59.51 0 1.02-.2 1.41-.59l7.78-7.78 2.81-2.81c.8-.78.8-2.07 0-2.86zM5.41 20L4 18.59l7.72-7.72 1.47 1.35L5.41 20z\"/>\n",
              "  </svg>\n",
              "      </button>\n",
              "      \n",
              "  <style>\n",
              "    .colab-df-container {\n",
              "      display:flex;\n",
              "      flex-wrap:wrap;\n",
              "      gap: 12px;\n",
              "    }\n",
              "\n",
              "    .colab-df-convert {\n",
              "      background-color: #E8F0FE;\n",
              "      border: none;\n",
              "      border-radius: 50%;\n",
              "      cursor: pointer;\n",
              "      display: none;\n",
              "      fill: #1967D2;\n",
              "      height: 32px;\n",
              "      padding: 0 0 0 0;\n",
              "      width: 32px;\n",
              "    }\n",
              "\n",
              "    .colab-df-convert:hover {\n",
              "      background-color: #E2EBFA;\n",
              "      box-shadow: 0px 1px 2px rgba(60, 64, 67, 0.3), 0px 1px 3px 1px rgba(60, 64, 67, 0.15);\n",
              "      fill: #174EA6;\n",
              "    }\n",
              "\n",
              "    [theme=dark] .colab-df-convert {\n",
              "      background-color: #3B4455;\n",
              "      fill: #D2E3FC;\n",
              "    }\n",
              "\n",
              "    [theme=dark] .colab-df-convert:hover {\n",
              "      background-color: #434B5C;\n",
              "      box-shadow: 0px 1px 3px 1px rgba(0, 0, 0, 0.15);\n",
              "      filter: drop-shadow(0px 1px 2px rgba(0, 0, 0, 0.3));\n",
              "      fill: #FFFFFF;\n",
              "    }\n",
              "  </style>\n",
              "\n",
              "      <script>\n",
              "        const buttonEl =\n",
              "          document.querySelector('#df-24ee40e7-5689-47f2-a660-834b61b6b9cc button.colab-df-convert');\n",
              "        buttonEl.style.display =\n",
              "          google.colab.kernel.accessAllowed ? 'block' : 'none';\n",
              "\n",
              "        async function convertToInteractive(key) {\n",
              "          const element = document.querySelector('#df-24ee40e7-5689-47f2-a660-834b61b6b9cc');\n",
              "          const dataTable =\n",
              "            await google.colab.kernel.invokeFunction('convertToInteractive',\n",
              "                                                     [key], {});\n",
              "          if (!dataTable) return;\n",
              "\n",
              "          const docLinkHtml = 'Like what you see? Visit the ' +\n",
              "            '<a target=\"_blank\" href=https://colab.research.google.com/notebooks/data_table.ipynb>data table notebook</a>'\n",
              "            + ' to learn more about interactive tables.';\n",
              "          element.innerHTML = '';\n",
              "          dataTable['output_type'] = 'display_data';\n",
              "          await google.colab.output.renderOutput(dataTable, element);\n",
              "          const docLink = document.createElement('div');\n",
              "          docLink.innerHTML = docLinkHtml;\n",
              "          element.appendChild(docLink);\n",
              "        }\n",
              "      </script>\n",
              "    </div>\n",
              "  </div>\n",
              "  "
            ]
          },
          "metadata": {},
          "execution_count": 21
        }
      ]
    },
    {
      "cell_type": "code",
      "execution_count": 22,
      "metadata": {
        "colab": {
          "base_uri": "https://localhost:8080/",
          "height": 441
        },
        "id": "_ieAea92FJye",
        "outputId": "be4d4560-619f-4f21-c580-a0ec1709f25c"
      },
      "outputs": [
        {
          "output_type": "stream",
          "name": "stdout",
          "text": [
            "Shape User-Movie-Matrix:\t(20828, 1741)\n"
          ]
        },
        {
          "output_type": "execute_result",
          "data": {
            "text/plain": [
              "Movie    3     5     6     8     16    17    18    24    25    26    ...  \\\n",
              "User                                                                 ...   \n",
              "1000079   NaN   NaN   NaN   NaN   NaN   NaN   NaN   NaN   NaN   NaN  ...   \n",
              "1000192   NaN   NaN   NaN   NaN   NaN   NaN   NaN   NaN   NaN   NaN  ...   \n",
              "1000301   NaN   NaN   NaN   NaN   NaN   NaN   4.0   NaN   NaN   NaN  ...   \n",
              "1000387   NaN   NaN   NaN   NaN   NaN   NaN   NaN   NaN   NaN   NaN  ...   \n",
              "1000410   NaN   NaN   NaN   NaN   NaN   NaN   4.0   NaN   NaN   NaN  ...   \n",
              "1000527   NaN   NaN   NaN   NaN   NaN   NaN   NaN   NaN   NaN   NaN  ...   \n",
              "1000596   NaN   NaN   NaN   NaN   NaN   NaN   NaN   2.0   NaN   NaN  ...   \n",
              "1000634   NaN   NaN   NaN   NaN   3.0   NaN   NaN   NaN   NaN   NaN  ...   \n",
              "1000710   NaN   NaN   NaN   NaN   NaN   NaN   NaN   NaN   NaN   NaN  ...   \n",
              "1000779   NaN   NaN   NaN   NaN   NaN   NaN   NaN   NaN   NaN   NaN  ...   \n",
              "\n",
              "Movie    4482  4483  4484  4485  4488  4489  4490  4492  4493  4496  \n",
              "User                                                                 \n",
              "1000079   NaN   NaN   NaN   NaN   2.0   NaN   NaN   NaN   NaN   NaN  \n",
              "1000192   NaN   NaN   NaN   NaN   NaN   NaN   NaN   NaN   NaN   NaN  \n",
              "1000301   NaN   NaN   NaN   NaN   4.0   NaN   NaN   NaN   NaN   NaN  \n",
              "1000387   NaN   NaN   NaN   1.0   2.0   NaN   NaN   1.0   NaN   NaN  \n",
              "1000410   NaN   NaN   NaN   NaN   3.0   NaN   3.0   NaN   NaN   3.0  \n",
              "1000527   NaN   NaN   NaN   NaN   NaN   NaN   NaN   NaN   3.0   NaN  \n",
              "1000596   NaN   NaN   NaN   NaN   NaN   NaN   NaN   NaN   NaN   NaN  \n",
              "1000634   NaN   NaN   NaN   NaN   4.0   NaN   NaN   NaN   NaN   NaN  \n",
              "1000710   NaN   NaN   NaN   NaN   NaN   NaN   NaN   NaN   NaN   NaN  \n",
              "1000779   NaN   NaN   NaN   NaN   NaN   NaN   NaN   NaN   NaN   4.0  \n",
              "\n",
              "[10 rows x 1741 columns]"
            ],
            "text/html": [
              "\n",
              "  <div id=\"df-6ae3216c-3317-4900-bcf4-d0b021cb278a\">\n",
              "    <div class=\"colab-df-container\">\n",
              "      <div>\n",
              "<style scoped>\n",
              "    .dataframe tbody tr th:only-of-type {\n",
              "        vertical-align: middle;\n",
              "    }\n",
              "\n",
              "    .dataframe tbody tr th {\n",
              "        vertical-align: top;\n",
              "    }\n",
              "\n",
              "    .dataframe thead th {\n",
              "        text-align: right;\n",
              "    }\n",
              "</style>\n",
              "<table border=\"1\" class=\"dataframe\">\n",
              "  <thead>\n",
              "    <tr style=\"text-align: right;\">\n",
              "      <th>Movie</th>\n",
              "      <th>3</th>\n",
              "      <th>5</th>\n",
              "      <th>6</th>\n",
              "      <th>8</th>\n",
              "      <th>16</th>\n",
              "      <th>17</th>\n",
              "      <th>18</th>\n",
              "      <th>24</th>\n",
              "      <th>25</th>\n",
              "      <th>26</th>\n",
              "      <th>...</th>\n",
              "      <th>4482</th>\n",
              "      <th>4483</th>\n",
              "      <th>4484</th>\n",
              "      <th>4485</th>\n",
              "      <th>4488</th>\n",
              "      <th>4489</th>\n",
              "      <th>4490</th>\n",
              "      <th>4492</th>\n",
              "      <th>4493</th>\n",
              "      <th>4496</th>\n",
              "    </tr>\n",
              "    <tr>\n",
              "      <th>User</th>\n",
              "      <th></th>\n",
              "      <th></th>\n",
              "      <th></th>\n",
              "      <th></th>\n",
              "      <th></th>\n",
              "      <th></th>\n",
              "      <th></th>\n",
              "      <th></th>\n",
              "      <th></th>\n",
              "      <th></th>\n",
              "      <th></th>\n",
              "      <th></th>\n",
              "      <th></th>\n",
              "      <th></th>\n",
              "      <th></th>\n",
              "      <th></th>\n",
              "      <th></th>\n",
              "      <th></th>\n",
              "      <th></th>\n",
              "      <th></th>\n",
              "      <th></th>\n",
              "    </tr>\n",
              "  </thead>\n",
              "  <tbody>\n",
              "    <tr>\n",
              "      <th>1000079</th>\n",
              "      <td>NaN</td>\n",
              "      <td>NaN</td>\n",
              "      <td>NaN</td>\n",
              "      <td>NaN</td>\n",
              "      <td>NaN</td>\n",
              "      <td>NaN</td>\n",
              "      <td>NaN</td>\n",
              "      <td>NaN</td>\n",
              "      <td>NaN</td>\n",
              "      <td>NaN</td>\n",
              "      <td>...</td>\n",
              "      <td>NaN</td>\n",
              "      <td>NaN</td>\n",
              "      <td>NaN</td>\n",
              "      <td>NaN</td>\n",
              "      <td>2.0</td>\n",
              "      <td>NaN</td>\n",
              "      <td>NaN</td>\n",
              "      <td>NaN</td>\n",
              "      <td>NaN</td>\n",
              "      <td>NaN</td>\n",
              "    </tr>\n",
              "    <tr>\n",
              "      <th>1000192</th>\n",
              "      <td>NaN</td>\n",
              "      <td>NaN</td>\n",
              "      <td>NaN</td>\n",
              "      <td>NaN</td>\n",
              "      <td>NaN</td>\n",
              "      <td>NaN</td>\n",
              "      <td>NaN</td>\n",
              "      <td>NaN</td>\n",
              "      <td>NaN</td>\n",
              "      <td>NaN</td>\n",
              "      <td>...</td>\n",
              "      <td>NaN</td>\n",
              "      <td>NaN</td>\n",
              "      <td>NaN</td>\n",
              "      <td>NaN</td>\n",
              "      <td>NaN</td>\n",
              "      <td>NaN</td>\n",
              "      <td>NaN</td>\n",
              "      <td>NaN</td>\n",
              "      <td>NaN</td>\n",
              "      <td>NaN</td>\n",
              "    </tr>\n",
              "    <tr>\n",
              "      <th>1000301</th>\n",
              "      <td>NaN</td>\n",
              "      <td>NaN</td>\n",
              "      <td>NaN</td>\n",
              "      <td>NaN</td>\n",
              "      <td>NaN</td>\n",
              "      <td>NaN</td>\n",
              "      <td>4.0</td>\n",
              "      <td>NaN</td>\n",
              "      <td>NaN</td>\n",
              "      <td>NaN</td>\n",
              "      <td>...</td>\n",
              "      <td>NaN</td>\n",
              "      <td>NaN</td>\n",
              "      <td>NaN</td>\n",
              "      <td>NaN</td>\n",
              "      <td>4.0</td>\n",
              "      <td>NaN</td>\n",
              "      <td>NaN</td>\n",
              "      <td>NaN</td>\n",
              "      <td>NaN</td>\n",
              "      <td>NaN</td>\n",
              "    </tr>\n",
              "    <tr>\n",
              "      <th>1000387</th>\n",
              "      <td>NaN</td>\n",
              "      <td>NaN</td>\n",
              "      <td>NaN</td>\n",
              "      <td>NaN</td>\n",
              "      <td>NaN</td>\n",
              "      <td>NaN</td>\n",
              "      <td>NaN</td>\n",
              "      <td>NaN</td>\n",
              "      <td>NaN</td>\n",
              "      <td>NaN</td>\n",
              "      <td>...</td>\n",
              "      <td>NaN</td>\n",
              "      <td>NaN</td>\n",
              "      <td>NaN</td>\n",
              "      <td>1.0</td>\n",
              "      <td>2.0</td>\n",
              "      <td>NaN</td>\n",
              "      <td>NaN</td>\n",
              "      <td>1.0</td>\n",
              "      <td>NaN</td>\n",
              "      <td>NaN</td>\n",
              "    </tr>\n",
              "    <tr>\n",
              "      <th>1000410</th>\n",
              "      <td>NaN</td>\n",
              "      <td>NaN</td>\n",
              "      <td>NaN</td>\n",
              "      <td>NaN</td>\n",
              "      <td>NaN</td>\n",
              "      <td>NaN</td>\n",
              "      <td>4.0</td>\n",
              "      <td>NaN</td>\n",
              "      <td>NaN</td>\n",
              "      <td>NaN</td>\n",
              "      <td>...</td>\n",
              "      <td>NaN</td>\n",
              "      <td>NaN</td>\n",
              "      <td>NaN</td>\n",
              "      <td>NaN</td>\n",
              "      <td>3.0</td>\n",
              "      <td>NaN</td>\n",
              "      <td>3.0</td>\n",
              "      <td>NaN</td>\n",
              "      <td>NaN</td>\n",
              "      <td>3.0</td>\n",
              "    </tr>\n",
              "    <tr>\n",
              "      <th>1000527</th>\n",
              "      <td>NaN</td>\n",
              "      <td>NaN</td>\n",
              "      <td>NaN</td>\n",
              "      <td>NaN</td>\n",
              "      <td>NaN</td>\n",
              "      <td>NaN</td>\n",
              "      <td>NaN</td>\n",
              "      <td>NaN</td>\n",
              "      <td>NaN</td>\n",
              "      <td>NaN</td>\n",
              "      <td>...</td>\n",
              "      <td>NaN</td>\n",
              "      <td>NaN</td>\n",
              "      <td>NaN</td>\n",
              "      <td>NaN</td>\n",
              "      <td>NaN</td>\n",
              "      <td>NaN</td>\n",
              "      <td>NaN</td>\n",
              "      <td>NaN</td>\n",
              "      <td>3.0</td>\n",
              "      <td>NaN</td>\n",
              "    </tr>\n",
              "    <tr>\n",
              "      <th>1000596</th>\n",
              "      <td>NaN</td>\n",
              "      <td>NaN</td>\n",
              "      <td>NaN</td>\n",
              "      <td>NaN</td>\n",
              "      <td>NaN</td>\n",
              "      <td>NaN</td>\n",
              "      <td>NaN</td>\n",
              "      <td>2.0</td>\n",
              "      <td>NaN</td>\n",
              "      <td>NaN</td>\n",
              "      <td>...</td>\n",
              "      <td>NaN</td>\n",
              "      <td>NaN</td>\n",
              "      <td>NaN</td>\n",
              "      <td>NaN</td>\n",
              "      <td>NaN</td>\n",
              "      <td>NaN</td>\n",
              "      <td>NaN</td>\n",
              "      <td>NaN</td>\n",
              "      <td>NaN</td>\n",
              "      <td>NaN</td>\n",
              "    </tr>\n",
              "    <tr>\n",
              "      <th>1000634</th>\n",
              "      <td>NaN</td>\n",
              "      <td>NaN</td>\n",
              "      <td>NaN</td>\n",
              "      <td>NaN</td>\n",
              "      <td>3.0</td>\n",
              "      <td>NaN</td>\n",
              "      <td>NaN</td>\n",
              "      <td>NaN</td>\n",
              "      <td>NaN</td>\n",
              "      <td>NaN</td>\n",
              "      <td>...</td>\n",
              "      <td>NaN</td>\n",
              "      <td>NaN</td>\n",
              "      <td>NaN</td>\n",
              "      <td>NaN</td>\n",
              "      <td>4.0</td>\n",
              "      <td>NaN</td>\n",
              "      <td>NaN</td>\n",
              "      <td>NaN</td>\n",
              "      <td>NaN</td>\n",
              "      <td>NaN</td>\n",
              "    </tr>\n",
              "    <tr>\n",
              "      <th>1000710</th>\n",
              "      <td>NaN</td>\n",
              "      <td>NaN</td>\n",
              "      <td>NaN</td>\n",
              "      <td>NaN</td>\n",
              "      <td>NaN</td>\n",
              "      <td>NaN</td>\n",
              "      <td>NaN</td>\n",
              "      <td>NaN</td>\n",
              "      <td>NaN</td>\n",
              "      <td>NaN</td>\n",
              "      <td>...</td>\n",
              "      <td>NaN</td>\n",
              "      <td>NaN</td>\n",
              "      <td>NaN</td>\n",
              "      <td>NaN</td>\n",
              "      <td>NaN</td>\n",
              "      <td>NaN</td>\n",
              "      <td>NaN</td>\n",
              "      <td>NaN</td>\n",
              "      <td>NaN</td>\n",
              "      <td>NaN</td>\n",
              "    </tr>\n",
              "    <tr>\n",
              "      <th>1000779</th>\n",
              "      <td>NaN</td>\n",
              "      <td>NaN</td>\n",
              "      <td>NaN</td>\n",
              "      <td>NaN</td>\n",
              "      <td>NaN</td>\n",
              "      <td>NaN</td>\n",
              "      <td>NaN</td>\n",
              "      <td>NaN</td>\n",
              "      <td>NaN</td>\n",
              "      <td>NaN</td>\n",
              "      <td>...</td>\n",
              "      <td>NaN</td>\n",
              "      <td>NaN</td>\n",
              "      <td>NaN</td>\n",
              "      <td>NaN</td>\n",
              "      <td>NaN</td>\n",
              "      <td>NaN</td>\n",
              "      <td>NaN</td>\n",
              "      <td>NaN</td>\n",
              "      <td>NaN</td>\n",
              "      <td>4.0</td>\n",
              "    </tr>\n",
              "  </tbody>\n",
              "</table>\n",
              "<p>10 rows × 1741 columns</p>\n",
              "</div>\n",
              "      <button class=\"colab-df-convert\" onclick=\"convertToInteractive('df-6ae3216c-3317-4900-bcf4-d0b021cb278a')\"\n",
              "              title=\"Convert this dataframe to an interactive table.\"\n",
              "              style=\"display:none;\">\n",
              "        \n",
              "  <svg xmlns=\"http://www.w3.org/2000/svg\" height=\"24px\"viewBox=\"0 0 24 24\"\n",
              "       width=\"24px\">\n",
              "    <path d=\"M0 0h24v24H0V0z\" fill=\"none\"/>\n",
              "    <path d=\"M18.56 5.44l.94 2.06.94-2.06 2.06-.94-2.06-.94-.94-2.06-.94 2.06-2.06.94zm-11 1L8.5 8.5l.94-2.06 2.06-.94-2.06-.94L8.5 2.5l-.94 2.06-2.06.94zm10 10l.94 2.06.94-2.06 2.06-.94-2.06-.94-.94-2.06-.94 2.06-2.06.94z\"/><path d=\"M17.41 7.96l-1.37-1.37c-.4-.4-.92-.59-1.43-.59-.52 0-1.04.2-1.43.59L10.3 9.45l-7.72 7.72c-.78.78-.78 2.05 0 2.83L4 21.41c.39.39.9.59 1.41.59.51 0 1.02-.2 1.41-.59l7.78-7.78 2.81-2.81c.8-.78.8-2.07 0-2.86zM5.41 20L4 18.59l7.72-7.72 1.47 1.35L5.41 20z\"/>\n",
              "  </svg>\n",
              "      </button>\n",
              "      \n",
              "  <style>\n",
              "    .colab-df-container {\n",
              "      display:flex;\n",
              "      flex-wrap:wrap;\n",
              "      gap: 12px;\n",
              "    }\n",
              "\n",
              "    .colab-df-convert {\n",
              "      background-color: #E8F0FE;\n",
              "      border: none;\n",
              "      border-radius: 50%;\n",
              "      cursor: pointer;\n",
              "      display: none;\n",
              "      fill: #1967D2;\n",
              "      height: 32px;\n",
              "      padding: 0 0 0 0;\n",
              "      width: 32px;\n",
              "    }\n",
              "\n",
              "    .colab-df-convert:hover {\n",
              "      background-color: #E2EBFA;\n",
              "      box-shadow: 0px 1px 2px rgba(60, 64, 67, 0.3), 0px 1px 3px 1px rgba(60, 64, 67, 0.15);\n",
              "      fill: #174EA6;\n",
              "    }\n",
              "\n",
              "    [theme=dark] .colab-df-convert {\n",
              "      background-color: #3B4455;\n",
              "      fill: #D2E3FC;\n",
              "    }\n",
              "\n",
              "    [theme=dark] .colab-df-convert:hover {\n",
              "      background-color: #434B5C;\n",
              "      box-shadow: 0px 1px 3px 1px rgba(0, 0, 0, 0.15);\n",
              "      filter: drop-shadow(0px 1px 2px rgba(0, 0, 0, 0.3));\n",
              "      fill: #FFFFFF;\n",
              "    }\n",
              "  </style>\n",
              "\n",
              "      <script>\n",
              "        const buttonEl =\n",
              "          document.querySelector('#df-6ae3216c-3317-4900-bcf4-d0b021cb278a button.colab-df-convert');\n",
              "        buttonEl.style.display =\n",
              "          google.colab.kernel.accessAllowed ? 'block' : 'none';\n",
              "\n",
              "        async function convertToInteractive(key) {\n",
              "          const element = document.querySelector('#df-6ae3216c-3317-4900-bcf4-d0b021cb278a');\n",
              "          const dataTable =\n",
              "            await google.colab.kernel.invokeFunction('convertToInteractive',\n",
              "                                                     [key], {});\n",
              "          if (!dataTable) return;\n",
              "\n",
              "          const docLinkHtml = 'Like what you see? Visit the ' +\n",
              "            '<a target=\"_blank\" href=https://colab.research.google.com/notebooks/data_table.ipynb>data table notebook</a>'\n",
              "            + ' to learn more about interactive tables.';\n",
              "          element.innerHTML = '';\n",
              "          dataTable['output_type'] = 'display_data';\n",
              "          await google.colab.output.renderOutput(dataTable, element);\n",
              "          const docLink = document.createElement('div');\n",
              "          docLink.innerHTML = docLinkHtml;\n",
              "          element.appendChild(docLink);\n",
              "        }\n",
              "      </script>\n",
              "    </div>\n",
              "  </div>\n",
              "  "
            ]
          },
          "metadata": {},
          "execution_count": 22
        }
      ],
      "source": [
        "# Create a user-movie matrix with empty values\n",
        "df_p = pd.pivot_table(df_train, values=\"Rating\", index=\"User\", columns=\"Movie\")\n",
        "print('Shape User-Movie-Matrix:\\t{}'.format(df_p.shape))\n",
        "df_p.head(10)"
      ]
    },
    {
      "cell_type": "markdown",
      "metadata": {
        "id": "ojO2T5Ti_4TG"
      },
      "source": [
        "## 8. Building Recommendation Systems"
      ]
    },
    {
      "cell_type": "markdown",
      "metadata": {
        "id": "cOrqqL3KDn9L"
      },
      "source": [
        "## 8.1(a): Global Recommendation Systems (Mean Rating)\n",
        "\n",
        "Computing the mean rating for all movies creates a ranking. The recommendation will be the same for all users and can be used if there is no information on the user.\n",
        "Variations of this approach can be separate rankings for each country/year/gender/... and to use them individually to recommend movies/items to the user.\n",
        "\n",
        "It has to be noted that this approach is biased and favours movies with fewer ratings, since large numbers of ratings tend to be less extreme in its mean ratings."
      ]
    },
    {
      "cell_type": "markdown",
      "metadata": {
        "id": "zlIuNnXxONlb"
      },
      "source": [
        "### Additional Hint\n",
        "\n",
        "Predict model performance: [mean_squared_error](https://scikit-learn.org/stable/modules/generated/sklearn.metrics.mean_squared_error.html)"
      ]
    },
    {
      "cell_type": "code",
      "execution_count": 23,
      "metadata": {
        "colab": {
          "base_uri": "https://localhost:8080/",
          "height": 238
        },
        "id": "spUQbaIz24Fo",
        "outputId": "c4e9ce5f-4333-4411-fba3-9913473d179a"
      },
      "outputs": [
        {
          "output_type": "execute_result",
          "data": {
            "text/plain": [
              "       Rating-Mean  Rating-Freq    Year  \\\n",
              "Movie                                     \n",
              "3456      4.659231         1300  2004.0   \n",
              "2102      4.506624         2793  1994.0   \n",
              "3444      4.436480         2818  2004.0   \n",
              "2452      4.426705        18603  2001.0   \n",
              "2172      4.383871         6200  1991.0   \n",
              "\n",
              "                                                Name  \n",
              "Movie                                                 \n",
              "3456                                  Lost: Season 1  \n",
              "2102                          The Simpsons: Season 6  \n",
              "3444           Family Guy: Freakin' Sweet Collection  \n",
              "2452   Lord of the Rings: The Fellowship of the Ring  \n",
              "2172                          The Simpsons: Season 3  "
            ],
            "text/html": [
              "\n",
              "  <div id=\"df-f372a344-6775-4c94-8944-6236ea5c18f2\">\n",
              "    <div class=\"colab-df-container\">\n",
              "      <div>\n",
              "<style scoped>\n",
              "    .dataframe tbody tr th:only-of-type {\n",
              "        vertical-align: middle;\n",
              "    }\n",
              "\n",
              "    .dataframe tbody tr th {\n",
              "        vertical-align: top;\n",
              "    }\n",
              "\n",
              "    .dataframe thead th {\n",
              "        text-align: right;\n",
              "    }\n",
              "</style>\n",
              "<table border=\"1\" class=\"dataframe\">\n",
              "  <thead>\n",
              "    <tr style=\"text-align: right;\">\n",
              "      <th></th>\n",
              "      <th>Rating-Mean</th>\n",
              "      <th>Rating-Freq</th>\n",
              "      <th>Year</th>\n",
              "      <th>Name</th>\n",
              "    </tr>\n",
              "    <tr>\n",
              "      <th>Movie</th>\n",
              "      <th></th>\n",
              "      <th></th>\n",
              "      <th></th>\n",
              "      <th></th>\n",
              "    </tr>\n",
              "  </thead>\n",
              "  <tbody>\n",
              "    <tr>\n",
              "      <th>3456</th>\n",
              "      <td>4.659231</td>\n",
              "      <td>1300</td>\n",
              "      <td>2004.0</td>\n",
              "      <td>Lost: Season 1</td>\n",
              "    </tr>\n",
              "    <tr>\n",
              "      <th>2102</th>\n",
              "      <td>4.506624</td>\n",
              "      <td>2793</td>\n",
              "      <td>1994.0</td>\n",
              "      <td>The Simpsons: Season 6</td>\n",
              "    </tr>\n",
              "    <tr>\n",
              "      <th>3444</th>\n",
              "      <td>4.436480</td>\n",
              "      <td>2818</td>\n",
              "      <td>2004.0</td>\n",
              "      <td>Family Guy: Freakin' Sweet Collection</td>\n",
              "    </tr>\n",
              "    <tr>\n",
              "      <th>2452</th>\n",
              "      <td>4.426705</td>\n",
              "      <td>18603</td>\n",
              "      <td>2001.0</td>\n",
              "      <td>Lord of the Rings: The Fellowship of the Ring</td>\n",
              "    </tr>\n",
              "    <tr>\n",
              "      <th>2172</th>\n",
              "      <td>4.383871</td>\n",
              "      <td>6200</td>\n",
              "      <td>1991.0</td>\n",
              "      <td>The Simpsons: Season 3</td>\n",
              "    </tr>\n",
              "  </tbody>\n",
              "</table>\n",
              "</div>\n",
              "      <button class=\"colab-df-convert\" onclick=\"convertToInteractive('df-f372a344-6775-4c94-8944-6236ea5c18f2')\"\n",
              "              title=\"Convert this dataframe to an interactive table.\"\n",
              "              style=\"display:none;\">\n",
              "        \n",
              "  <svg xmlns=\"http://www.w3.org/2000/svg\" height=\"24px\"viewBox=\"0 0 24 24\"\n",
              "       width=\"24px\">\n",
              "    <path d=\"M0 0h24v24H0V0z\" fill=\"none\"/>\n",
              "    <path d=\"M18.56 5.44l.94 2.06.94-2.06 2.06-.94-2.06-.94-.94-2.06-.94 2.06-2.06.94zm-11 1L8.5 8.5l.94-2.06 2.06-.94-2.06-.94L8.5 2.5l-.94 2.06-2.06.94zm10 10l.94 2.06.94-2.06 2.06-.94-2.06-.94-.94-2.06-.94 2.06-2.06.94z\"/><path d=\"M17.41 7.96l-1.37-1.37c-.4-.4-.92-.59-1.43-.59-.52 0-1.04.2-1.43.59L10.3 9.45l-7.72 7.72c-.78.78-.78 2.05 0 2.83L4 21.41c.39.39.9.59 1.41.59.51 0 1.02-.2 1.41-.59l7.78-7.78 2.81-2.81c.8-.78.8-2.07 0-2.86zM5.41 20L4 18.59l7.72-7.72 1.47 1.35L5.41 20z\"/>\n",
              "  </svg>\n",
              "      </button>\n",
              "      \n",
              "  <style>\n",
              "    .colab-df-container {\n",
              "      display:flex;\n",
              "      flex-wrap:wrap;\n",
              "      gap: 12px;\n",
              "    }\n",
              "\n",
              "    .colab-df-convert {\n",
              "      background-color: #E8F0FE;\n",
              "      border: none;\n",
              "      border-radius: 50%;\n",
              "      cursor: pointer;\n",
              "      display: none;\n",
              "      fill: #1967D2;\n",
              "      height: 32px;\n",
              "      padding: 0 0 0 0;\n",
              "      width: 32px;\n",
              "    }\n",
              "\n",
              "    .colab-df-convert:hover {\n",
              "      background-color: #E2EBFA;\n",
              "      box-shadow: 0px 1px 2px rgba(60, 64, 67, 0.3), 0px 1px 3px 1px rgba(60, 64, 67, 0.15);\n",
              "      fill: #174EA6;\n",
              "    }\n",
              "\n",
              "    [theme=dark] .colab-df-convert {\n",
              "      background-color: #3B4455;\n",
              "      fill: #D2E3FC;\n",
              "    }\n",
              "\n",
              "    [theme=dark] .colab-df-convert:hover {\n",
              "      background-color: #434B5C;\n",
              "      box-shadow: 0px 1px 3px 1px rgba(0, 0, 0, 0.15);\n",
              "      filter: drop-shadow(0px 1px 2px rgba(0, 0, 0, 0.3));\n",
              "      fill: #FFFFFF;\n",
              "    }\n",
              "  </style>\n",
              "\n",
              "      <script>\n",
              "        const buttonEl =\n",
              "          document.querySelector('#df-f372a344-6775-4c94-8944-6236ea5c18f2 button.colab-df-convert');\n",
              "        buttonEl.style.display =\n",
              "          google.colab.kernel.accessAllowed ? 'block' : 'none';\n",
              "\n",
              "        async function convertToInteractive(key) {\n",
              "          const element = document.querySelector('#df-f372a344-6775-4c94-8944-6236ea5c18f2');\n",
              "          const dataTable =\n",
              "            await google.colab.kernel.invokeFunction('convertToInteractive',\n",
              "                                                     [key], {});\n",
              "          if (!dataTable) return;\n",
              "\n",
              "          const docLinkHtml = 'Like what you see? Visit the ' +\n",
              "            '<a target=\"_blank\" href=https://colab.research.google.com/notebooks/data_table.ipynb>data table notebook</a>'\n",
              "            + ' to learn more about interactive tables.';\n",
              "          element.innerHTML = '';\n",
              "          dataTable['output_type'] = 'display_data';\n",
              "          await google.colab.output.renderOutput(dataTable, element);\n",
              "          const docLink = document.createElement('div');\n",
              "          docLink.innerHTML = docLinkHtml;\n",
              "          element.appendChild(docLink);\n",
              "        }\n",
              "      </script>\n",
              "    </div>\n",
              "  </div>\n",
              "  "
            ]
          },
          "metadata": {},
          "execution_count": 23
        }
      ],
      "source": [
        "# Compute mean rating for all movies\n",
        "ratings_mean = df_p.mean(axis=0).sort_values(ascending=False).rename('Rating-Mean').to_frame()\n",
        "\n",
        "# Compute rating frequencies for all movies\n",
        "ratings_count = df_p.count(axis=0).rename('Rating-Freq').to_frame()\n",
        "\n",
        "# Combine the aggregated dataframes\n",
        "combined_df = ratings_mean.join(ratings_count).join(movie_titles)\n",
        "combined_df.head(5)"
      ]
    },
    {
      "cell_type": "code",
      "execution_count": 24,
      "metadata": {
        "colab": {
          "base_uri": "https://localhost:8080/",
          "height": 238
        },
        "id": "vf66eVE_24Fq",
        "outputId": "9b7c2ed9-83b0-43ef-d125-f1e95ec2ccb0"
      },
      "outputs": [
        {
          "output_type": "execute_result",
          "data": {
            "text/plain": [
              "          User  Rating  Rating-Mean\n",
              "Movie                              \n",
              "3         6460     5.0      3.45709\n",
              "3      1924500     2.0      3.45709\n",
              "3      2267950     4.0      3.45709\n",
              "3      1984315     3.0      3.45709\n",
              "3      2375867     3.0      3.45709"
            ],
            "text/html": [
              "\n",
              "  <div id=\"df-148f4e49-a65c-4d55-a824-d605ca93b913\">\n",
              "    <div class=\"colab-df-container\">\n",
              "      <div>\n",
              "<style scoped>\n",
              "    .dataframe tbody tr th:only-of-type {\n",
              "        vertical-align: middle;\n",
              "    }\n",
              "\n",
              "    .dataframe tbody tr th {\n",
              "        vertical-align: top;\n",
              "    }\n",
              "\n",
              "    .dataframe thead th {\n",
              "        text-align: right;\n",
              "    }\n",
              "</style>\n",
              "<table border=\"1\" class=\"dataframe\">\n",
              "  <thead>\n",
              "    <tr style=\"text-align: right;\">\n",
              "      <th></th>\n",
              "      <th>User</th>\n",
              "      <th>Rating</th>\n",
              "      <th>Rating-Mean</th>\n",
              "    </tr>\n",
              "    <tr>\n",
              "      <th>Movie</th>\n",
              "      <th></th>\n",
              "      <th></th>\n",
              "      <th></th>\n",
              "    </tr>\n",
              "  </thead>\n",
              "  <tbody>\n",
              "    <tr>\n",
              "      <th>3</th>\n",
              "      <td>6460</td>\n",
              "      <td>5.0</td>\n",
              "      <td>3.45709</td>\n",
              "    </tr>\n",
              "    <tr>\n",
              "      <th>3</th>\n",
              "      <td>1924500</td>\n",
              "      <td>2.0</td>\n",
              "      <td>3.45709</td>\n",
              "    </tr>\n",
              "    <tr>\n",
              "      <th>3</th>\n",
              "      <td>2267950</td>\n",
              "      <td>4.0</td>\n",
              "      <td>3.45709</td>\n",
              "    </tr>\n",
              "    <tr>\n",
              "      <th>3</th>\n",
              "      <td>1984315</td>\n",
              "      <td>3.0</td>\n",
              "      <td>3.45709</td>\n",
              "    </tr>\n",
              "    <tr>\n",
              "      <th>3</th>\n",
              "      <td>2375867</td>\n",
              "      <td>3.0</td>\n",
              "      <td>3.45709</td>\n",
              "    </tr>\n",
              "  </tbody>\n",
              "</table>\n",
              "</div>\n",
              "      <button class=\"colab-df-convert\" onclick=\"convertToInteractive('df-148f4e49-a65c-4d55-a824-d605ca93b913')\"\n",
              "              title=\"Convert this dataframe to an interactive table.\"\n",
              "              style=\"display:none;\">\n",
              "        \n",
              "  <svg xmlns=\"http://www.w3.org/2000/svg\" height=\"24px\"viewBox=\"0 0 24 24\"\n",
              "       width=\"24px\">\n",
              "    <path d=\"M0 0h24v24H0V0z\" fill=\"none\"/>\n",
              "    <path d=\"M18.56 5.44l.94 2.06.94-2.06 2.06-.94-2.06-.94-.94-2.06-.94 2.06-2.06.94zm-11 1L8.5 8.5l.94-2.06 2.06-.94-2.06-.94L8.5 2.5l-.94 2.06-2.06.94zm10 10l.94 2.06.94-2.06 2.06-.94-2.06-.94-.94-2.06-.94 2.06-2.06.94z\"/><path d=\"M17.41 7.96l-1.37-1.37c-.4-.4-.92-.59-1.43-.59-.52 0-1.04.2-1.43.59L10.3 9.45l-7.72 7.72c-.78.78-.78 2.05 0 2.83L4 21.41c.39.39.9.59 1.41.59.51 0 1.02-.2 1.41-.59l7.78-7.78 2.81-2.81c.8-.78.8-2.07 0-2.86zM5.41 20L4 18.59l7.72-7.72 1.47 1.35L5.41 20z\"/>\n",
              "  </svg>\n",
              "      </button>\n",
              "      \n",
              "  <style>\n",
              "    .colab-df-container {\n",
              "      display:flex;\n",
              "      flex-wrap:wrap;\n",
              "      gap: 12px;\n",
              "    }\n",
              "\n",
              "    .colab-df-convert {\n",
              "      background-color: #E8F0FE;\n",
              "      border: none;\n",
              "      border-radius: 50%;\n",
              "      cursor: pointer;\n",
              "      display: none;\n",
              "      fill: #1967D2;\n",
              "      height: 32px;\n",
              "      padding: 0 0 0 0;\n",
              "      width: 32px;\n",
              "    }\n",
              "\n",
              "    .colab-df-convert:hover {\n",
              "      background-color: #E2EBFA;\n",
              "      box-shadow: 0px 1px 2px rgba(60, 64, 67, 0.3), 0px 1px 3px 1px rgba(60, 64, 67, 0.15);\n",
              "      fill: #174EA6;\n",
              "    }\n",
              "\n",
              "    [theme=dark] .colab-df-convert {\n",
              "      background-color: #3B4455;\n",
              "      fill: #D2E3FC;\n",
              "    }\n",
              "\n",
              "    [theme=dark] .colab-df-convert:hover {\n",
              "      background-color: #434B5C;\n",
              "      box-shadow: 0px 1px 3px 1px rgba(0, 0, 0, 0.15);\n",
              "      filter: drop-shadow(0px 1px 2px rgba(0, 0, 0, 0.3));\n",
              "      fill: #FFFFFF;\n",
              "    }\n",
              "  </style>\n",
              "\n",
              "      <script>\n",
              "        const buttonEl =\n",
              "          document.querySelector('#df-148f4e49-a65c-4d55-a824-d605ca93b913 button.colab-df-convert');\n",
              "        buttonEl.style.display =\n",
              "          google.colab.kernel.accessAllowed ? 'block' : 'none';\n",
              "\n",
              "        async function convertToInteractive(key) {\n",
              "          const element = document.querySelector('#df-148f4e49-a65c-4d55-a824-d605ca93b913');\n",
              "          const dataTable =\n",
              "            await google.colab.kernel.invokeFunction('convertToInteractive',\n",
              "                                                     [key], {});\n",
              "          if (!dataTable) return;\n",
              "\n",
              "          const docLinkHtml = 'Like what you see? Visit the ' +\n",
              "            '<a target=\"_blank\" href=https://colab.research.google.com/notebooks/data_table.ipynb>data table notebook</a>'\n",
              "            + ' to learn more about interactive tables.';\n",
              "          element.innerHTML = '';\n",
              "          dataTable['output_type'] = 'display_data';\n",
              "          await google.colab.output.renderOutput(dataTable, element);\n",
              "          const docLink = document.createElement('div');\n",
              "          docLink.innerHTML = docLinkHtml;\n",
              "          element.appendChild(docLink);\n",
              "        }\n",
              "      </script>\n",
              "    </div>\n",
              "  </div>\n",
              "  "
            ]
          },
          "metadata": {},
          "execution_count": 24
        }
      ],
      "source": [
        "# Join labels and predictions based on mean movie rating\n",
        "predictions_df = df_test.set_index('Movie').join(ratings_mean)\n",
        "predictions_df.head(5)"
      ]
    },
    {
      "cell_type": "code",
      "execution_count": 25,
      "metadata": {
        "colab": {
          "base_uri": "https://localhost:8080/"
        },
        "id": "9W2txAub24Fs",
        "outputId": "382e9bbe-2897-43b5-e62f-0ff61f02b4fa"
      },
      "outputs": [
        {
          "output_type": "stream",
          "name": "stdout",
          "text": [
            "The RMSE Value for the Mean Rating Recommender: 1.009164008609825\n"
          ]
        }
      ],
      "source": [
        "# Compute RMSE\n",
        "y_true = predictions_df['Rating']\n",
        "y_pred = predictions_df['Rating-Mean']\n",
        "\n",
        "rmse = np.sqrt(mean_squared_error(y_true=y_true, y_pred=y_pred))\n",
        "print(\"The RMSE Value for the Mean Rating Recommender:\", rmse)"
      ]
    },
    {
      "cell_type": "code",
      "execution_count": 26,
      "metadata": {
        "colab": {
          "base_uri": "https://localhost:8080/",
          "height": 394
        },
        "id": "xda52K1m24Fu",
        "outputId": "09081cde-e252-46c7-a6cc-d7ff9abbb053"
      },
      "outputs": [
        {
          "output_type": "execute_result",
          "data": {
            "text/plain": [
              "                                                Name  Rating-Mean\n",
              "Movie                                                            \n",
              "3456                                  Lost: Season 1     4.659231\n",
              "2102                          The Simpsons: Season 6     4.506624\n",
              "3444           Family Guy: Freakin' Sweet Collection     4.436480\n",
              "2452   Lord of the Rings: The Fellowship of the Ring     4.426705\n",
              "2172                          The Simpsons: Season 3     4.383871\n",
              "1256                     The Best of Friends: Vol. 4     4.375850\n",
              "3962                       Finding Nemo (Widescreen)     4.369147\n",
              "4238                                       Inu-Yasha     4.348624\n",
              "3046               The Simpsons: Treehouse of Horror     4.346651\n",
              "1476                        Six Feet Under: Season 4     4.341728"
            ],
            "text/html": [
              "\n",
              "  <div id=\"df-fd873ce3-59f9-4944-b26c-7ebbda924bed\">\n",
              "    <div class=\"colab-df-container\">\n",
              "      <div>\n",
              "<style scoped>\n",
              "    .dataframe tbody tr th:only-of-type {\n",
              "        vertical-align: middle;\n",
              "    }\n",
              "\n",
              "    .dataframe tbody tr th {\n",
              "        vertical-align: top;\n",
              "    }\n",
              "\n",
              "    .dataframe thead th {\n",
              "        text-align: right;\n",
              "    }\n",
              "</style>\n",
              "<table border=\"1\" class=\"dataframe\">\n",
              "  <thead>\n",
              "    <tr style=\"text-align: right;\">\n",
              "      <th></th>\n",
              "      <th>Name</th>\n",
              "      <th>Rating-Mean</th>\n",
              "    </tr>\n",
              "    <tr>\n",
              "      <th>Movie</th>\n",
              "      <th></th>\n",
              "      <th></th>\n",
              "    </tr>\n",
              "  </thead>\n",
              "  <tbody>\n",
              "    <tr>\n",
              "      <th>3456</th>\n",
              "      <td>Lost: Season 1</td>\n",
              "      <td>4.659231</td>\n",
              "    </tr>\n",
              "    <tr>\n",
              "      <th>2102</th>\n",
              "      <td>The Simpsons: Season 6</td>\n",
              "      <td>4.506624</td>\n",
              "    </tr>\n",
              "    <tr>\n",
              "      <th>3444</th>\n",
              "      <td>Family Guy: Freakin' Sweet Collection</td>\n",
              "      <td>4.436480</td>\n",
              "    </tr>\n",
              "    <tr>\n",
              "      <th>2452</th>\n",
              "      <td>Lord of the Rings: The Fellowship of the Ring</td>\n",
              "      <td>4.426705</td>\n",
              "    </tr>\n",
              "    <tr>\n",
              "      <th>2172</th>\n",
              "      <td>The Simpsons: Season 3</td>\n",
              "      <td>4.383871</td>\n",
              "    </tr>\n",
              "    <tr>\n",
              "      <th>1256</th>\n",
              "      <td>The Best of Friends: Vol. 4</td>\n",
              "      <td>4.375850</td>\n",
              "    </tr>\n",
              "    <tr>\n",
              "      <th>3962</th>\n",
              "      <td>Finding Nemo (Widescreen)</td>\n",
              "      <td>4.369147</td>\n",
              "    </tr>\n",
              "    <tr>\n",
              "      <th>4238</th>\n",
              "      <td>Inu-Yasha</td>\n",
              "      <td>4.348624</td>\n",
              "    </tr>\n",
              "    <tr>\n",
              "      <th>3046</th>\n",
              "      <td>The Simpsons: Treehouse of Horror</td>\n",
              "      <td>4.346651</td>\n",
              "    </tr>\n",
              "    <tr>\n",
              "      <th>1476</th>\n",
              "      <td>Six Feet Under: Season 4</td>\n",
              "      <td>4.341728</td>\n",
              "    </tr>\n",
              "  </tbody>\n",
              "</table>\n",
              "</div>\n",
              "      <button class=\"colab-df-convert\" onclick=\"convertToInteractive('df-fd873ce3-59f9-4944-b26c-7ebbda924bed')\"\n",
              "              title=\"Convert this dataframe to an interactive table.\"\n",
              "              style=\"display:none;\">\n",
              "        \n",
              "  <svg xmlns=\"http://www.w3.org/2000/svg\" height=\"24px\"viewBox=\"0 0 24 24\"\n",
              "       width=\"24px\">\n",
              "    <path d=\"M0 0h24v24H0V0z\" fill=\"none\"/>\n",
              "    <path d=\"M18.56 5.44l.94 2.06.94-2.06 2.06-.94-2.06-.94-.94-2.06-.94 2.06-2.06.94zm-11 1L8.5 8.5l.94-2.06 2.06-.94-2.06-.94L8.5 2.5l-.94 2.06-2.06.94zm10 10l.94 2.06.94-2.06 2.06-.94-2.06-.94-.94-2.06-.94 2.06-2.06.94z\"/><path d=\"M17.41 7.96l-1.37-1.37c-.4-.4-.92-.59-1.43-.59-.52 0-1.04.2-1.43.59L10.3 9.45l-7.72 7.72c-.78.78-.78 2.05 0 2.83L4 21.41c.39.39.9.59 1.41.59.51 0 1.02-.2 1.41-.59l7.78-7.78 2.81-2.81c.8-.78.8-2.07 0-2.86zM5.41 20L4 18.59l7.72-7.72 1.47 1.35L5.41 20z\"/>\n",
              "  </svg>\n",
              "      </button>\n",
              "      \n",
              "  <style>\n",
              "    .colab-df-container {\n",
              "      display:flex;\n",
              "      flex-wrap:wrap;\n",
              "      gap: 12px;\n",
              "    }\n",
              "\n",
              "    .colab-df-convert {\n",
              "      background-color: #E8F0FE;\n",
              "      border: none;\n",
              "      border-radius: 50%;\n",
              "      cursor: pointer;\n",
              "      display: none;\n",
              "      fill: #1967D2;\n",
              "      height: 32px;\n",
              "      padding: 0 0 0 0;\n",
              "      width: 32px;\n",
              "    }\n",
              "\n",
              "    .colab-df-convert:hover {\n",
              "      background-color: #E2EBFA;\n",
              "      box-shadow: 0px 1px 2px rgba(60, 64, 67, 0.3), 0px 1px 3px 1px rgba(60, 64, 67, 0.15);\n",
              "      fill: #174EA6;\n",
              "    }\n",
              "\n",
              "    [theme=dark] .colab-df-convert {\n",
              "      background-color: #3B4455;\n",
              "      fill: #D2E3FC;\n",
              "    }\n",
              "\n",
              "    [theme=dark] .colab-df-convert:hover {\n",
              "      background-color: #434B5C;\n",
              "      box-shadow: 0px 1px 3px 1px rgba(0, 0, 0, 0.15);\n",
              "      filter: drop-shadow(0px 1px 2px rgba(0, 0, 0, 0.3));\n",
              "      fill: #FFFFFF;\n",
              "    }\n",
              "  </style>\n",
              "\n",
              "      <script>\n",
              "        const buttonEl =\n",
              "          document.querySelector('#df-fd873ce3-59f9-4944-b26c-7ebbda924bed button.colab-df-convert');\n",
              "        buttonEl.style.display =\n",
              "          google.colab.kernel.accessAllowed ? 'block' : 'none';\n",
              "\n",
              "        async function convertToInteractive(key) {\n",
              "          const element = document.querySelector('#df-fd873ce3-59f9-4944-b26c-7ebbda924bed');\n",
              "          const dataTable =\n",
              "            await google.colab.kernel.invokeFunction('convertToInteractive',\n",
              "                                                     [key], {});\n",
              "          if (!dataTable) return;\n",
              "\n",
              "          const docLinkHtml = 'Like what you see? Visit the ' +\n",
              "            '<a target=\"_blank\" href=https://colab.research.google.com/notebooks/data_table.ipynb>data table notebook</a>'\n",
              "            + ' to learn more about interactive tables.';\n",
              "          element.innerHTML = '';\n",
              "          dataTable['output_type'] = 'display_data';\n",
              "          await google.colab.output.renderOutput(dataTable, element);\n",
              "          const docLink = document.createElement('div');\n",
              "          docLink.innerHTML = docLinkHtml;\n",
              "          element.appendChild(docLink);\n",
              "        }\n",
              "      </script>\n",
              "    </div>\n",
              "  </div>\n",
              "  "
            ]
          },
          "metadata": {},
          "execution_count": 26
        }
      ],
      "source": [
        "# View top ten rated movies\n",
        "combined_df[['Name', 'Rating-Mean']].head(10)"
      ]
    },
    {
      "cell_type": "markdown",
      "metadata": {
        "id": "iFalvivYD1Is"
      },
      "source": [
        "## Q 8.1(b): Global Recommendation Systems (Weighted Rating)\n",
        "\n",
        "To tackle the problem of the unstable mean with few ratings e.g. IDMb uses a weighted rating. Many good ratings outweigh few in this algorithm.\n",
        "\n",
        "### Hint:\n",
        "\n",
        "Weighted Rating Formula\n",
        "\n",
        "weighted rating (𝑊𝑅)=(𝑣/(𝑣+𝑚))𝑅+(𝑚/(𝑣+𝑚))𝐶\n",
        "\n",
        "where:\n",
        "\n",
        "*𝑅* = average for the movie (mean) = (Rating)\n",
        "\n",
        "*𝑣* = number of votes for the movie = (votes)\n",
        "\n",
        "*𝑚* = minimum votes required \n",
        "\n",
        "*𝐶* = the mean vote across the whole report \n",
        "\n",
        "__Your Turn:__ Fill in the necessary code snippets below to build and test the model\n"
      ]
    },
    {
      "cell_type": "code",
      "execution_count": 27,
      "metadata": {
        "id": "GVfj7TPz24Fz"
      },
      "outputs": [],
      "source": [
        "# Number of minimum votes to be considered\n",
        "m = 1000\n",
        "\n",
        "# Mean rating for all movies\n",
        "C = df_p.stack().mean()\n",
        "\n",
        "# Mean rating for all movies separately\n",
        "R = df_p.mean(axis=0).values\n",
        "\n",
        "# Rating freqency for all movies separately\n",
        "v = df_p.count().values"
      ]
    },
    {
      "cell_type": "code",
      "execution_count": 28,
      "metadata": {
        "colab": {
          "base_uri": "https://localhost:8080/"
        },
        "id": "Ntm_D7Yl24F1",
        "outputId": "71002814-572c-4ef6-887d-3075136f5ff8"
      },
      "outputs": [
        {
          "output_type": "execute_result",
          "data": {
            "text/plain": [
              "array([3.46413008, 3.45838856, 3.37511997, ..., 2.913691  , 3.26579273,\n",
              "       3.6256893 ])"
            ]
          },
          "metadata": {},
          "execution_count": 28
        }
      ],
      "source": [
        "# Weighted formula to compute the weighted rating\n",
        "weighted_score = ((𝑣/(𝑣+𝑚))*𝑅+(𝑚/(𝑣+𝑚))*𝐶)\n",
        "weighted_score"
      ]
    },
    {
      "cell_type": "code",
      "execution_count": 29,
      "metadata": {
        "colab": {
          "base_uri": "https://localhost:8080/",
          "height": 359
        },
        "id": "YQe4smBk24F3",
        "outputId": "bb50b974-ec2c-446a-e576-2e9805d6074b"
      },
      "outputs": [
        {
          "output_type": "stream",
          "name": "stdout",
          "text": [
            "       weighted_score\n",
            "Movie                \n",
            "3            3.464130\n",
            "5            3.458389\n",
            "6            3.375120\n",
            "8            3.169462\n",
            "16           3.197060\n"
          ]
        },
        {
          "output_type": "execute_result",
          "data": {
            "text/plain": [
              "       weighted_score    Year                        Name\n",
              "Movie                                                    \n",
              "3            3.464130  1997.0                   Character\n",
              "5            3.458389  2004.0    The Rise and Fall of ECW\n",
              "6            3.375120  1997.0                        Sick\n",
              "8            3.169462  2004.0  What the #$*! Do We Know!?\n",
              "16           3.197060  1996.0                   Screamers"
            ],
            "text/html": [
              "\n",
              "  <div id=\"df-bf00422d-e6d9-4e6b-b6b3-f43210af2b3f\">\n",
              "    <div class=\"colab-df-container\">\n",
              "      <div>\n",
              "<style scoped>\n",
              "    .dataframe tbody tr th:only-of-type {\n",
              "        vertical-align: middle;\n",
              "    }\n",
              "\n",
              "    .dataframe tbody tr th {\n",
              "        vertical-align: top;\n",
              "    }\n",
              "\n",
              "    .dataframe thead th {\n",
              "        text-align: right;\n",
              "    }\n",
              "</style>\n",
              "<table border=\"1\" class=\"dataframe\">\n",
              "  <thead>\n",
              "    <tr style=\"text-align: right;\">\n",
              "      <th></th>\n",
              "      <th>weighted_score</th>\n",
              "      <th>Year</th>\n",
              "      <th>Name</th>\n",
              "    </tr>\n",
              "    <tr>\n",
              "      <th>Movie</th>\n",
              "      <th></th>\n",
              "      <th></th>\n",
              "      <th></th>\n",
              "    </tr>\n",
              "  </thead>\n",
              "  <tbody>\n",
              "    <tr>\n",
              "      <th>3</th>\n",
              "      <td>3.464130</td>\n",
              "      <td>1997.0</td>\n",
              "      <td>Character</td>\n",
              "    </tr>\n",
              "    <tr>\n",
              "      <th>5</th>\n",
              "      <td>3.458389</td>\n",
              "      <td>2004.0</td>\n",
              "      <td>The Rise and Fall of ECW</td>\n",
              "    </tr>\n",
              "    <tr>\n",
              "      <th>6</th>\n",
              "      <td>3.375120</td>\n",
              "      <td>1997.0</td>\n",
              "      <td>Sick</td>\n",
              "    </tr>\n",
              "    <tr>\n",
              "      <th>8</th>\n",
              "      <td>3.169462</td>\n",
              "      <td>2004.0</td>\n",
              "      <td>What the #$*! Do We Know!?</td>\n",
              "    </tr>\n",
              "    <tr>\n",
              "      <th>16</th>\n",
              "      <td>3.197060</td>\n",
              "      <td>1996.0</td>\n",
              "      <td>Screamers</td>\n",
              "    </tr>\n",
              "  </tbody>\n",
              "</table>\n",
              "</div>\n",
              "      <button class=\"colab-df-convert\" onclick=\"convertToInteractive('df-bf00422d-e6d9-4e6b-b6b3-f43210af2b3f')\"\n",
              "              title=\"Convert this dataframe to an interactive table.\"\n",
              "              style=\"display:none;\">\n",
              "        \n",
              "  <svg xmlns=\"http://www.w3.org/2000/svg\" height=\"24px\"viewBox=\"0 0 24 24\"\n",
              "       width=\"24px\">\n",
              "    <path d=\"M0 0h24v24H0V0z\" fill=\"none\"/>\n",
              "    <path d=\"M18.56 5.44l.94 2.06.94-2.06 2.06-.94-2.06-.94-.94-2.06-.94 2.06-2.06.94zm-11 1L8.5 8.5l.94-2.06 2.06-.94-2.06-.94L8.5 2.5l-.94 2.06-2.06.94zm10 10l.94 2.06.94-2.06 2.06-.94-2.06-.94-.94-2.06-.94 2.06-2.06.94z\"/><path d=\"M17.41 7.96l-1.37-1.37c-.4-.4-.92-.59-1.43-.59-.52 0-1.04.2-1.43.59L10.3 9.45l-7.72 7.72c-.78.78-.78 2.05 0 2.83L4 21.41c.39.39.9.59 1.41.59.51 0 1.02-.2 1.41-.59l7.78-7.78 2.81-2.81c.8-.78.8-2.07 0-2.86zM5.41 20L4 18.59l7.72-7.72 1.47 1.35L5.41 20z\"/>\n",
              "  </svg>\n",
              "      </button>\n",
              "      \n",
              "  <style>\n",
              "    .colab-df-container {\n",
              "      display:flex;\n",
              "      flex-wrap:wrap;\n",
              "      gap: 12px;\n",
              "    }\n",
              "\n",
              "    .colab-df-convert {\n",
              "      background-color: #E8F0FE;\n",
              "      border: none;\n",
              "      border-radius: 50%;\n",
              "      cursor: pointer;\n",
              "      display: none;\n",
              "      fill: #1967D2;\n",
              "      height: 32px;\n",
              "      padding: 0 0 0 0;\n",
              "      width: 32px;\n",
              "    }\n",
              "\n",
              "    .colab-df-convert:hover {\n",
              "      background-color: #E2EBFA;\n",
              "      box-shadow: 0px 1px 2px rgba(60, 64, 67, 0.3), 0px 1px 3px 1px rgba(60, 64, 67, 0.15);\n",
              "      fill: #174EA6;\n",
              "    }\n",
              "\n",
              "    [theme=dark] .colab-df-convert {\n",
              "      background-color: #3B4455;\n",
              "      fill: #D2E3FC;\n",
              "    }\n",
              "\n",
              "    [theme=dark] .colab-df-convert:hover {\n",
              "      background-color: #434B5C;\n",
              "      box-shadow: 0px 1px 3px 1px rgba(0, 0, 0, 0.15);\n",
              "      filter: drop-shadow(0px 1px 2px rgba(0, 0, 0, 0.3));\n",
              "      fill: #FFFFFF;\n",
              "    }\n",
              "  </style>\n",
              "\n",
              "      <script>\n",
              "        const buttonEl =\n",
              "          document.querySelector('#df-bf00422d-e6d9-4e6b-b6b3-f43210af2b3f button.colab-df-convert');\n",
              "        buttonEl.style.display =\n",
              "          google.colab.kernel.accessAllowed ? 'block' : 'none';\n",
              "\n",
              "        async function convertToInteractive(key) {\n",
              "          const element = document.querySelector('#df-bf00422d-e6d9-4e6b-b6b3-f43210af2b3f');\n",
              "          const dataTable =\n",
              "            await google.colab.kernel.invokeFunction('convertToInteractive',\n",
              "                                                     [key], {});\n",
              "          if (!dataTable) return;\n",
              "\n",
              "          const docLinkHtml = 'Like what you see? Visit the ' +\n",
              "            '<a target=\"_blank\" href=https://colab.research.google.com/notebooks/data_table.ipynb>data table notebook</a>'\n",
              "            + ' to learn more about interactive tables.';\n",
              "          element.innerHTML = '';\n",
              "          dataTable['output_type'] = 'display_data';\n",
              "          await google.colab.output.renderOutput(dataTable, element);\n",
              "          const docLink = document.createElement('div');\n",
              "          docLink.innerHTML = docLinkHtml;\n",
              "          element.appendChild(docLink);\n",
              "        }\n",
              "      </script>\n",
              "    </div>\n",
              "  </div>\n",
              "  "
            ]
          },
          "metadata": {},
          "execution_count": 29
        }
      ],
      "source": [
        "# convert weighted_score into a dataframe\n",
        "weighted_mean= pd.DataFrame(weighted_score, index=df_p.columns, columns=[\"weighted_score\"])\n",
        "print(weighted_mean.head())\n",
        "# Combine the aggregated dataframes (wighted_mean & movie_titles)\n",
        "combined_df = weighted_mean.join(movie_titles,on=\"Movie\")\n",
        "combined_df.head(5)"
      ]
    },
    {
      "cell_type": "code",
      "execution_count": 30,
      "metadata": {
        "colab": {
          "base_uri": "https://localhost:8080/",
          "height": 238
        },
        "id": "jMd68xuj24F5",
        "outputId": "a7f518ff-3a4b-4347-9045-506646de62ce"
      },
      "outputs": [
        {
          "output_type": "execute_result",
          "data": {
            "text/plain": [
              "          User  Rating  weighted_score    Year       Name\n",
              "Movie                                                    \n",
              "3         6460     5.0         3.46413  1997.0  Character\n",
              "3      1924500     2.0         3.46413  1997.0  Character\n",
              "3      2267950     4.0         3.46413  1997.0  Character\n",
              "3      1984315     3.0         3.46413  1997.0  Character\n",
              "3      2375867     3.0         3.46413  1997.0  Character"
            ],
            "text/html": [
              "\n",
              "  <div id=\"df-b6ae3b78-e7b7-4718-bd85-bf739e5261ba\">\n",
              "    <div class=\"colab-df-container\">\n",
              "      <div>\n",
              "<style scoped>\n",
              "    .dataframe tbody tr th:only-of-type {\n",
              "        vertical-align: middle;\n",
              "    }\n",
              "\n",
              "    .dataframe tbody tr th {\n",
              "        vertical-align: top;\n",
              "    }\n",
              "\n",
              "    .dataframe thead th {\n",
              "        text-align: right;\n",
              "    }\n",
              "</style>\n",
              "<table border=\"1\" class=\"dataframe\">\n",
              "  <thead>\n",
              "    <tr style=\"text-align: right;\">\n",
              "      <th></th>\n",
              "      <th>User</th>\n",
              "      <th>Rating</th>\n",
              "      <th>weighted_score</th>\n",
              "      <th>Year</th>\n",
              "      <th>Name</th>\n",
              "    </tr>\n",
              "    <tr>\n",
              "      <th>Movie</th>\n",
              "      <th></th>\n",
              "      <th></th>\n",
              "      <th></th>\n",
              "      <th></th>\n",
              "      <th></th>\n",
              "    </tr>\n",
              "  </thead>\n",
              "  <tbody>\n",
              "    <tr>\n",
              "      <th>3</th>\n",
              "      <td>6460</td>\n",
              "      <td>5.0</td>\n",
              "      <td>3.46413</td>\n",
              "      <td>1997.0</td>\n",
              "      <td>Character</td>\n",
              "    </tr>\n",
              "    <tr>\n",
              "      <th>3</th>\n",
              "      <td>1924500</td>\n",
              "      <td>2.0</td>\n",
              "      <td>3.46413</td>\n",
              "      <td>1997.0</td>\n",
              "      <td>Character</td>\n",
              "    </tr>\n",
              "    <tr>\n",
              "      <th>3</th>\n",
              "      <td>2267950</td>\n",
              "      <td>4.0</td>\n",
              "      <td>3.46413</td>\n",
              "      <td>1997.0</td>\n",
              "      <td>Character</td>\n",
              "    </tr>\n",
              "    <tr>\n",
              "      <th>3</th>\n",
              "      <td>1984315</td>\n",
              "      <td>3.0</td>\n",
              "      <td>3.46413</td>\n",
              "      <td>1997.0</td>\n",
              "      <td>Character</td>\n",
              "    </tr>\n",
              "    <tr>\n",
              "      <th>3</th>\n",
              "      <td>2375867</td>\n",
              "      <td>3.0</td>\n",
              "      <td>3.46413</td>\n",
              "      <td>1997.0</td>\n",
              "      <td>Character</td>\n",
              "    </tr>\n",
              "  </tbody>\n",
              "</table>\n",
              "</div>\n",
              "      <button class=\"colab-df-convert\" onclick=\"convertToInteractive('df-b6ae3b78-e7b7-4718-bd85-bf739e5261ba')\"\n",
              "              title=\"Convert this dataframe to an interactive table.\"\n",
              "              style=\"display:none;\">\n",
              "        \n",
              "  <svg xmlns=\"http://www.w3.org/2000/svg\" height=\"24px\"viewBox=\"0 0 24 24\"\n",
              "       width=\"24px\">\n",
              "    <path d=\"M0 0h24v24H0V0z\" fill=\"none\"/>\n",
              "    <path d=\"M18.56 5.44l.94 2.06.94-2.06 2.06-.94-2.06-.94-.94-2.06-.94 2.06-2.06.94zm-11 1L8.5 8.5l.94-2.06 2.06-.94-2.06-.94L8.5 2.5l-.94 2.06-2.06.94zm10 10l.94 2.06.94-2.06 2.06-.94-2.06-.94-.94-2.06-.94 2.06-2.06.94z\"/><path d=\"M17.41 7.96l-1.37-1.37c-.4-.4-.92-.59-1.43-.59-.52 0-1.04.2-1.43.59L10.3 9.45l-7.72 7.72c-.78.78-.78 2.05 0 2.83L4 21.41c.39.39.9.59 1.41.59.51 0 1.02-.2 1.41-.59l7.78-7.78 2.81-2.81c.8-.78.8-2.07 0-2.86zM5.41 20L4 18.59l7.72-7.72 1.47 1.35L5.41 20z\"/>\n",
              "  </svg>\n",
              "      </button>\n",
              "      \n",
              "  <style>\n",
              "    .colab-df-container {\n",
              "      display:flex;\n",
              "      flex-wrap:wrap;\n",
              "      gap: 12px;\n",
              "    }\n",
              "\n",
              "    .colab-df-convert {\n",
              "      background-color: #E8F0FE;\n",
              "      border: none;\n",
              "      border-radius: 50%;\n",
              "      cursor: pointer;\n",
              "      display: none;\n",
              "      fill: #1967D2;\n",
              "      height: 32px;\n",
              "      padding: 0 0 0 0;\n",
              "      width: 32px;\n",
              "    }\n",
              "\n",
              "    .colab-df-convert:hover {\n",
              "      background-color: #E2EBFA;\n",
              "      box-shadow: 0px 1px 2px rgba(60, 64, 67, 0.3), 0px 1px 3px 1px rgba(60, 64, 67, 0.15);\n",
              "      fill: #174EA6;\n",
              "    }\n",
              "\n",
              "    [theme=dark] .colab-df-convert {\n",
              "      background-color: #3B4455;\n",
              "      fill: #D2E3FC;\n",
              "    }\n",
              "\n",
              "    [theme=dark] .colab-df-convert:hover {\n",
              "      background-color: #434B5C;\n",
              "      box-shadow: 0px 1px 3px 1px rgba(0, 0, 0, 0.15);\n",
              "      filter: drop-shadow(0px 1px 2px rgba(0, 0, 0, 0.3));\n",
              "      fill: #FFFFFF;\n",
              "    }\n",
              "  </style>\n",
              "\n",
              "      <script>\n",
              "        const buttonEl =\n",
              "          document.querySelector('#df-b6ae3b78-e7b7-4718-bd85-bf739e5261ba button.colab-df-convert');\n",
              "        buttonEl.style.display =\n",
              "          google.colab.kernel.accessAllowed ? 'block' : 'none';\n",
              "\n",
              "        async function convertToInteractive(key) {\n",
              "          const element = document.querySelector('#df-b6ae3b78-e7b7-4718-bd85-bf739e5261ba');\n",
              "          const dataTable =\n",
              "            await google.colab.kernel.invokeFunction('convertToInteractive',\n",
              "                                                     [key], {});\n",
              "          if (!dataTable) return;\n",
              "\n",
              "          const docLinkHtml = 'Like what you see? Visit the ' +\n",
              "            '<a target=\"_blank\" href=https://colab.research.google.com/notebooks/data_table.ipynb>data table notebook</a>'\n",
              "            + ' to learn more about interactive tables.';\n",
              "          element.innerHTML = '';\n",
              "          dataTable['output_type'] = 'display_data';\n",
              "          await google.colab.output.renderOutput(dataTable, element);\n",
              "          const docLink = document.createElement('div');\n",
              "          docLink.innerHTML = docLinkHtml;\n",
              "          element.appendChild(docLink);\n",
              "        }\n",
              "      </script>\n",
              "    </div>\n",
              "  </div>\n",
              "  "
            ]
          },
          "metadata": {},
          "execution_count": 30
        }
      ],
      "source": [
        "# Join labels and predictions based on mean movie rating\n",
        "weighted_preds= df_test.set_index('Movie').join(combined_df)\n",
        "weighted_preds.head()"
      ]
    },
    {
      "cell_type": "code",
      "execution_count": 31,
      "metadata": {
        "colab": {
          "base_uri": "https://localhost:8080/"
        },
        "id": "HdCxHIO424F8",
        "outputId": "6c15f5b3-6a9e-494b-f59d-29bb9bf015b0"
      },
      "outputs": [
        {
          "output_type": "stream",
          "name": "stdout",
          "text": [
            "The RMSE Value for the Weighted-Mean Rating Recommender: 1.0143807988280371\n"
          ]
        }
      ],
      "source": [
        "# Compute RMSE\n",
        "y_true = weighted_preds['Rating']\n",
        "y_pred = weighted_preds['weighted_score']\n",
        "\n",
        "rmse = np.sqrt(mean_squared_error(y_true=y_true, y_pred=y_pred))\n",
        "print(\"The RMSE Value for the Weighted-Mean Rating Recommender:\", rmse)"
      ]
    },
    {
      "cell_type": "code",
      "execution_count": 32,
      "metadata": {
        "colab": {
          "base_uri": "https://localhost:8080/",
          "height": 394
        },
        "id": "gt1Q5Mh124F-",
        "outputId": "d87aa9a2-85c0-46c4-e9ab-9699cbefc397"
      },
      "outputs": [
        {
          "output_type": "execute_result",
          "data": {
            "text/plain": [
              "                                                Name  weighted_score\n",
              "Movie                                                               \n",
              "2452   Lord of the Rings: The Fellowship of the Ring        4.377794\n",
              "3962                       Finding Nemo (Widescreen)        4.320352\n",
              "4306                                 The Sixth Sense        4.289254\n",
              "2862                        The Silence of the Lambs        4.282212\n",
              "3290                                   The Godfather        4.264342\n",
              "2172                          The Simpsons: Season 3        4.256653\n",
              "2102                          The Simpsons: Season 6        4.232772\n",
              "2782                                      Braveheart        4.217968\n",
              "3046               The Simpsons: Treehouse of Horror        4.200946\n",
              "3444           Family Guy: Freakin' Sweet Collection        4.182793"
            ],
            "text/html": [
              "\n",
              "  <div id=\"df-7f87e117-a469-462d-8b2a-7f4bd962158b\">\n",
              "    <div class=\"colab-df-container\">\n",
              "      <div>\n",
              "<style scoped>\n",
              "    .dataframe tbody tr th:only-of-type {\n",
              "        vertical-align: middle;\n",
              "    }\n",
              "\n",
              "    .dataframe tbody tr th {\n",
              "        vertical-align: top;\n",
              "    }\n",
              "\n",
              "    .dataframe thead th {\n",
              "        text-align: right;\n",
              "    }\n",
              "</style>\n",
              "<table border=\"1\" class=\"dataframe\">\n",
              "  <thead>\n",
              "    <tr style=\"text-align: right;\">\n",
              "      <th></th>\n",
              "      <th>Name</th>\n",
              "      <th>weighted_score</th>\n",
              "    </tr>\n",
              "    <tr>\n",
              "      <th>Movie</th>\n",
              "      <th></th>\n",
              "      <th></th>\n",
              "    </tr>\n",
              "  </thead>\n",
              "  <tbody>\n",
              "    <tr>\n",
              "      <th>2452</th>\n",
              "      <td>Lord of the Rings: The Fellowship of the Ring</td>\n",
              "      <td>4.377794</td>\n",
              "    </tr>\n",
              "    <tr>\n",
              "      <th>3962</th>\n",
              "      <td>Finding Nemo (Widescreen)</td>\n",
              "      <td>4.320352</td>\n",
              "    </tr>\n",
              "    <tr>\n",
              "      <th>4306</th>\n",
              "      <td>The Sixth Sense</td>\n",
              "      <td>4.289254</td>\n",
              "    </tr>\n",
              "    <tr>\n",
              "      <th>2862</th>\n",
              "      <td>The Silence of the Lambs</td>\n",
              "      <td>4.282212</td>\n",
              "    </tr>\n",
              "    <tr>\n",
              "      <th>3290</th>\n",
              "      <td>The Godfather</td>\n",
              "      <td>4.264342</td>\n",
              "    </tr>\n",
              "    <tr>\n",
              "      <th>2172</th>\n",
              "      <td>The Simpsons: Season 3</td>\n",
              "      <td>4.256653</td>\n",
              "    </tr>\n",
              "    <tr>\n",
              "      <th>2102</th>\n",
              "      <td>The Simpsons: Season 6</td>\n",
              "      <td>4.232772</td>\n",
              "    </tr>\n",
              "    <tr>\n",
              "      <th>2782</th>\n",
              "      <td>Braveheart</td>\n",
              "      <td>4.217968</td>\n",
              "    </tr>\n",
              "    <tr>\n",
              "      <th>3046</th>\n",
              "      <td>The Simpsons: Treehouse of Horror</td>\n",
              "      <td>4.200946</td>\n",
              "    </tr>\n",
              "    <tr>\n",
              "      <th>3444</th>\n",
              "      <td>Family Guy: Freakin' Sweet Collection</td>\n",
              "      <td>4.182793</td>\n",
              "    </tr>\n",
              "  </tbody>\n",
              "</table>\n",
              "</div>\n",
              "      <button class=\"colab-df-convert\" onclick=\"convertToInteractive('df-7f87e117-a469-462d-8b2a-7f4bd962158b')\"\n",
              "              title=\"Convert this dataframe to an interactive table.\"\n",
              "              style=\"display:none;\">\n",
              "        \n",
              "  <svg xmlns=\"http://www.w3.org/2000/svg\" height=\"24px\"viewBox=\"0 0 24 24\"\n",
              "       width=\"24px\">\n",
              "    <path d=\"M0 0h24v24H0V0z\" fill=\"none\"/>\n",
              "    <path d=\"M18.56 5.44l.94 2.06.94-2.06 2.06-.94-2.06-.94-.94-2.06-.94 2.06-2.06.94zm-11 1L8.5 8.5l.94-2.06 2.06-.94-2.06-.94L8.5 2.5l-.94 2.06-2.06.94zm10 10l.94 2.06.94-2.06 2.06-.94-2.06-.94-.94-2.06-.94 2.06-2.06.94z\"/><path d=\"M17.41 7.96l-1.37-1.37c-.4-.4-.92-.59-1.43-.59-.52 0-1.04.2-1.43.59L10.3 9.45l-7.72 7.72c-.78.78-.78 2.05 0 2.83L4 21.41c.39.39.9.59 1.41.59.51 0 1.02-.2 1.41-.59l7.78-7.78 2.81-2.81c.8-.78.8-2.07 0-2.86zM5.41 20L4 18.59l7.72-7.72 1.47 1.35L5.41 20z\"/>\n",
              "  </svg>\n",
              "      </button>\n",
              "      \n",
              "  <style>\n",
              "    .colab-df-container {\n",
              "      display:flex;\n",
              "      flex-wrap:wrap;\n",
              "      gap: 12px;\n",
              "    }\n",
              "\n",
              "    .colab-df-convert {\n",
              "      background-color: #E8F0FE;\n",
              "      border: none;\n",
              "      border-radius: 50%;\n",
              "      cursor: pointer;\n",
              "      display: none;\n",
              "      fill: #1967D2;\n",
              "      height: 32px;\n",
              "      padding: 0 0 0 0;\n",
              "      width: 32px;\n",
              "    }\n",
              "\n",
              "    .colab-df-convert:hover {\n",
              "      background-color: #E2EBFA;\n",
              "      box-shadow: 0px 1px 2px rgba(60, 64, 67, 0.3), 0px 1px 3px 1px rgba(60, 64, 67, 0.15);\n",
              "      fill: #174EA6;\n",
              "    }\n",
              "\n",
              "    [theme=dark] .colab-df-convert {\n",
              "      background-color: #3B4455;\n",
              "      fill: #D2E3FC;\n",
              "    }\n",
              "\n",
              "    [theme=dark] .colab-df-convert:hover {\n",
              "      background-color: #434B5C;\n",
              "      box-shadow: 0px 1px 3px 1px rgba(0, 0, 0, 0.15);\n",
              "      filter: drop-shadow(0px 1px 2px rgba(0, 0, 0, 0.3));\n",
              "      fill: #FFFFFF;\n",
              "    }\n",
              "  </style>\n",
              "\n",
              "      <script>\n",
              "        const buttonEl =\n",
              "          document.querySelector('#df-7f87e117-a469-462d-8b2a-7f4bd962158b button.colab-df-convert');\n",
              "        buttonEl.style.display =\n",
              "          google.colab.kernel.accessAllowed ? 'block' : 'none';\n",
              "\n",
              "        async function convertToInteractive(key) {\n",
              "          const element = document.querySelector('#df-7f87e117-a469-462d-8b2a-7f4bd962158b');\n",
              "          const dataTable =\n",
              "            await google.colab.kernel.invokeFunction('convertToInteractive',\n",
              "                                                     [key], {});\n",
              "          if (!dataTable) return;\n",
              "\n",
              "          const docLinkHtml = 'Like what you see? Visit the ' +\n",
              "            '<a target=\"_blank\" href=https://colab.research.google.com/notebooks/data_table.ipynb>data table notebook</a>'\n",
              "            + ' to learn more about interactive tables.';\n",
              "          element.innerHTML = '';\n",
              "          dataTable['output_type'] = 'display_data';\n",
              "          await google.colab.output.renderOutput(dataTable, element);\n",
              "          const docLink = document.createElement('div');\n",
              "          docLink.innerHTML = docLinkHtml;\n",
              "          element.appendChild(docLink);\n",
              "        }\n",
              "      </script>\n",
              "    </div>\n",
              "  </div>\n",
              "  "
            ]
          },
          "metadata": {},
          "execution_count": 32
        }
      ],
      "source": [
        "# View top ten rated movies\n",
        "combined_df[['Name', 'weighted_score']].sort_values(by=\"weighted_score\", ascending=False).head(10)\n"
      ]
    },
    {
      "cell_type": "markdown",
      "metadata": {
        "id": "SXa7l21yE-eY"
      },
      "source": [
        "The variable \"m\" can be seen as regularizing parameter. Changing it determines how much weight is put onto the movies with many ratings.\n",
        "Even if there is a better ranking the RMSE decreased slightly. There is a trade-off between interpretability and predictive power."
      ]
    },
    {
      "cell_type": "markdown",
      "metadata": {
        "id": "0KRZO1u_24GB"
      },
      "source": [
        "## 8.2: Content Based Recommendation Systems\n",
        "\n",
        "\n",
        "The Content-Based Recommender relies on the similarity of the items being recommended. The basic idea is that if you like an item, then you will also like a “similar” item. It generally works well when it’s easy to determine the context/properties of each item. If there is no historical data for a user or there is reliable metadata for each movie, it can be useful to compare the metadata of the movies to find similar ones.\n",
        "\n",
        "![](./images/Content-based.png)"
      ]
    },
    {
      "cell_type": "markdown",
      "metadata": {
        "id": "5WovG-3YFSqo"
      },
      "source": [
        "### Cosine TFIDF Movie Description Similarity"
      ]
    },
    {
      "cell_type": "markdown",
      "metadata": {
        "id": "eldw_9lpNfUJ"
      },
      "source": [
        "#### TF-IDF \n",
        "\n",
        "This is a text vectorization technique which is used to determine the relative importance of a document / article / news item / movie etc.\n",
        "\n",
        "TF is simply the frequency of a word in a document. \n",
        "\n",
        "IDF is the inverse of the document frequency among the whole corpus of documents. \n",
        "\n",
        "TF-IDF is used mainly because of two reasons: Suppose we search for “the results of latest European Socccer games” on Google. It is certain that “the” will occur more frequently than “soccer games” but the relative importance of soccer games is higher than the search query point of view. \n",
        "\n",
        "In such cases, TF-IDF weighting negates the effect of high frequency words in determining the importance of an item (document).\n",
        "\n",
        "![](./images/TF-IDF-FORMULA.png)\n"
      ]
    },
    {
      "cell_type": "markdown",
      "metadata": {
        "id": "Trb9DlZxOYGO"
      },
      "source": [
        "#### Cosine Similarity \n",
        "After calculating TF-IDF scores, how do we determine which items are closer to each other, rather closer to the user profile? This is accomplished using the Vector Space Model which computes the proximity based on the angle between the vectors.\n",
        "\n",
        "Consider the following example\n",
        "\n",
        "![](./images/vector-space-model.png)\n",
        "\n",
        "Sentence 2 is more likely to be using Term 2 than using Term 1. Vice-versa for Sentence 1. \n",
        "\n",
        "The method of calculating this relative measure is calculated by taking the cosine of the angle between the sentences and the terms. \n",
        "\n",
        "The ultimate reason behind using cosine is that the value of cosine will increase with decreasing value of the angle between which signifies more similarity. \n",
        "\n",
        "The vectors are length normalized after which they become vectors of length 1 and then the cosine calculation is simply the sum-product of vectors."
      ]
    },
    {
      "cell_type": "markdown",
      "metadata": {
        "id": "4Cm9mjG-PSr3"
      },
      "source": [
        "In this approch we will use the movie description to create a TFIDF-matrix, which counts and weights words in all descriptions, and compute a cosine similarity between all of those sparse text-vectors. This can easily be extended to more or different features if you like.\n",
        "It is impossible for this model to compute a RMSE score, since the model does not recommend the movies directly.\n",
        "In this way it is possible to find movies closly related to each other.\n",
        "\n",
        "This approach of content based filtering can be extendend to increase the model performance by adding some more features like genres, cast, crew etc."
      ]
    },
    {
      "cell_type": "code",
      "execution_count": 33,
      "metadata": {
        "id": "AdEeBvSf24GE",
        "colab": {
          "base_uri": "https://localhost:8080/"
        },
        "outputId": "21daf99f-4202-443b-e8bd-dae503fc21a3"
      },
      "outputs": [
        {
          "output_type": "execute_result",
          "data": {
            "text/plain": [
              "original_title\n",
              "Toy Story                      Led by Woody, Andy's toys live happily in his ...\n",
              "Jumanji                        When siblings Judy and Peter discover an encha...\n",
              "Grumpier Old Men               A family wedding reignites the ancient feud be...\n",
              "Waiting to Exhale              Cheated on, mistreated and stepped on, the wom...\n",
              "Father of the Bride Part II    Just when George Banks has recovered from his ...\n",
              "Name: overview, dtype: object"
            ]
          },
          "metadata": {},
          "execution_count": 33
        }
      ],
      "source": [
        "# view sample movie descriptions\n",
        "movie_metadata['overview'].head(5)"
      ]
    },
    {
      "cell_type": "code",
      "execution_count": 34,
      "metadata": {
        "id": "DiiwYdQj24GG"
      },
      "outputs": [],
      "source": [
        "# Create tf-idf matrix for text comparison\n",
        "tfidf = TfidfVectorizer(stop_words='english')\n",
        "tfidf_matrix = tfidf.fit_transform(movie_metadata['overview'])"
      ]
    },
    {
      "cell_type": "code",
      "source": [
        "type(tfidf_matrix)"
      ],
      "metadata": {
        "colab": {
          "base_uri": "https://localhost:8080/"
        },
        "id": "N0tuj1Phk6Z1",
        "outputId": "75ebcb7f-2f6f-46da-8c00-b75754b8a817"
      },
      "execution_count": 35,
      "outputs": [
        {
          "output_type": "execute_result",
          "data": {
            "text/plain": [
              "scipy.sparse.csr.csr_matrix"
            ]
          },
          "metadata": {},
          "execution_count": 35
        }
      ]
    },
    {
      "cell_type": "code",
      "execution_count": 36,
      "metadata": {
        "id": "VU3Kr_OJ24GK",
        "colab": {
          "base_uri": "https://localhost:8080/",
          "height": 392
        },
        "outputId": "1ea0937e-55ed-4a81-ad88-abe1a7f68cc2"
      },
      "outputs": [
        {
          "output_type": "execute_result",
          "data": {
            "text/plain": [
              "                             Toy Story   Jumanji  Grumpier Old Men  \\\n",
              "Toy Story                     1.000000  0.015385          0.000000   \n",
              "Jumanji                       0.015385  1.000000          0.046854   \n",
              "Grumpier Old Men              0.000000  0.046854          1.000000   \n",
              "Waiting to Exhale             0.000000  0.000000          0.000000   \n",
              "Father of the Bride Part II   0.000000  0.000000          0.023903   \n",
              "Heat                          0.000000  0.047646          0.000000   \n",
              "Sabrina                       0.000000  0.000000          0.000000   \n",
              "Tom and Huck                  0.000000  0.000000          0.006463   \n",
              "Sudden Death                  0.000000  0.098488          0.000000   \n",
              "GoldenEye                     0.000000  0.000000          0.000000   \n",
              "\n",
              "                             Waiting to Exhale  Father of the Bride Part II  \\\n",
              "Toy Story                             0.000000                     0.000000   \n",
              "Jumanji                               0.000000                     0.000000   \n",
              "Grumpier Old Men                      0.000000                     0.023903   \n",
              "Waiting to Exhale                     1.000000                     0.000000   \n",
              "Father of the Bride Part II           0.000000                     1.000000   \n",
              "Heat                                  0.007417                     0.000000   \n",
              "Sabrina                               0.000000                     0.030866   \n",
              "Tom and Huck                          0.008592                     0.000000   \n",
              "Sudden Death                          0.000000                     0.033213   \n",
              "GoldenEye                             0.000000                     0.000000   \n",
              "\n",
              "                                 Heat   Sabrina  Tom and Huck  Sudden Death  \\\n",
              "Toy Story                    0.000000  0.000000      0.000000      0.000000   \n",
              "Jumanji                      0.047646  0.000000      0.000000      0.098488   \n",
              "Grumpier Old Men             0.000000  0.000000      0.006463      0.000000   \n",
              "Waiting to Exhale            0.007417  0.000000      0.008592      0.000000   \n",
              "Father of the Bride Part II  0.000000  0.030866      0.000000      0.033213   \n",
              "Heat                         1.000000  0.000000      0.000000      0.046349   \n",
              "Sabrina                      0.000000  1.000000      0.000000      0.000000   \n",
              "Tom and Huck                 0.000000  0.000000      1.000000      0.000000   \n",
              "Sudden Death                 0.046349  0.000000      0.000000      1.000000   \n",
              "GoldenEye                    0.000000  0.000000      0.000000      0.000000   \n",
              "\n",
              "                             GoldenEye  ...  The Final Storm  In a Heartbeat  \\\n",
              "Toy Story                          0.0  ...         0.000000        0.023356   \n",
              "Jumanji                            0.0  ...         0.000000        0.000000   \n",
              "Grumpier Old Men                   0.0  ...         0.000000        0.000000   \n",
              "Waiting to Exhale                  0.0  ...         0.028460        0.000000   \n",
              "Father of the Bride Part II        0.0  ...         0.000000        0.000000   \n",
              "Heat                               0.0  ...         0.000000        0.000000   \n",
              "Sabrina                            0.0  ...         0.000000        0.000000   \n",
              "Tom and Huck                       0.0  ...         0.164136        0.071019   \n",
              "Sudden Death                       0.0  ...         0.000000        0.000000   \n",
              "GoldenEye                          1.0  ...         0.043867        0.000000   \n",
              "\n",
              "                             Bloed, Zweet en Tranen  To Be Fat Like Me  \\\n",
              "Toy Story                                       0.0           0.000000   \n",
              "Jumanji                                         0.0           0.004192   \n",
              "Grumpier Old Men                                0.0           0.000000   \n",
              "Waiting to Exhale                               0.0           0.000000   \n",
              "Father of the Bride Part II                     0.0           0.022816   \n",
              "Heat                                            0.0           0.000000   \n",
              "Sabrina                                         0.0           0.028344   \n",
              "Tom and Huck                                    0.0           0.000000   \n",
              "Sudden Death                                    0.0           0.000000   \n",
              "GoldenEye                                       0.0           0.000000   \n",
              "\n",
              "                             Cadet Kelly  L'Homme à la tête de caoutchouc  \\\n",
              "Toy Story                            0.0                         0.000000   \n",
              "Jumanji                              0.0                         0.014642   \n",
              "Grumpier Old Men                     0.0                         0.015409   \n",
              "Waiting to Exhale                    0.0                         0.000000   \n",
              "Father of the Bride Part II          0.0                         0.000000   \n",
              "Heat                                 0.0                         0.000000   \n",
              "Sabrina                              0.0                         0.000000   \n",
              "Tom and Huck                         0.0                         0.000000   \n",
              "Sudden Death                         0.0                         0.000000   \n",
              "GoldenEye                            0.0                         0.076444   \n",
              "\n",
              "                             Le locataire diabolique  L'Homme orchestre  \\\n",
              "Toy Story                                   0.000000           0.000000   \n",
              "Jumanji                                     0.000000           0.000000   \n",
              "Grumpier Old Men                            0.000000           0.000000   \n",
              "Waiting to Exhale                           0.016324           0.006840   \n",
              "Father of the Bride Part II                 0.000000           0.000000   \n",
              "Heat                                        0.015837           0.000000   \n",
              "Sabrina                                     0.105139           0.000000   \n",
              "Tom and Huck                                0.000000           0.000000   \n",
              "Sudden Death                                0.000000           0.000000   \n",
              "GoldenEye                                   0.000000           0.016266   \n",
              "\n",
              "                                  Maa  Robin Hood  \n",
              "Toy Story                    0.000000         0.0  \n",
              "Jumanji                      0.000000         0.0  \n",
              "Grumpier Old Men             0.007101         0.0  \n",
              "Waiting to Exhale            0.000000         0.0  \n",
              "Father of the Bride Part II  0.012584         0.0  \n",
              "Heat                         0.000000         0.0  \n",
              "Sabrina                      0.000000         0.0  \n",
              "Tom and Huck                 0.006162         0.0  \n",
              "Sudden Death                 0.014963         0.0  \n",
              "GoldenEye                    0.000000         0.0  \n",
              "\n",
              "[10 rows x 21604 columns]"
            ],
            "text/html": [
              "\n",
              "  <div id=\"df-7907334b-f388-4e62-91c7-6077a78f1b1a\">\n",
              "    <div class=\"colab-df-container\">\n",
              "      <div>\n",
              "<style scoped>\n",
              "    .dataframe tbody tr th:only-of-type {\n",
              "        vertical-align: middle;\n",
              "    }\n",
              "\n",
              "    .dataframe tbody tr th {\n",
              "        vertical-align: top;\n",
              "    }\n",
              "\n",
              "    .dataframe thead th {\n",
              "        text-align: right;\n",
              "    }\n",
              "</style>\n",
              "<table border=\"1\" class=\"dataframe\">\n",
              "  <thead>\n",
              "    <tr style=\"text-align: right;\">\n",
              "      <th></th>\n",
              "      <th>Toy Story</th>\n",
              "      <th>Jumanji</th>\n",
              "      <th>Grumpier Old Men</th>\n",
              "      <th>Waiting to Exhale</th>\n",
              "      <th>Father of the Bride Part II</th>\n",
              "      <th>Heat</th>\n",
              "      <th>Sabrina</th>\n",
              "      <th>Tom and Huck</th>\n",
              "      <th>Sudden Death</th>\n",
              "      <th>GoldenEye</th>\n",
              "      <th>...</th>\n",
              "      <th>The Final Storm</th>\n",
              "      <th>In a Heartbeat</th>\n",
              "      <th>Bloed, Zweet en Tranen</th>\n",
              "      <th>To Be Fat Like Me</th>\n",
              "      <th>Cadet Kelly</th>\n",
              "      <th>L'Homme à la tête de caoutchouc</th>\n",
              "      <th>Le locataire diabolique</th>\n",
              "      <th>L'Homme orchestre</th>\n",
              "      <th>Maa</th>\n",
              "      <th>Robin Hood</th>\n",
              "    </tr>\n",
              "  </thead>\n",
              "  <tbody>\n",
              "    <tr>\n",
              "      <th>Toy Story</th>\n",
              "      <td>1.000000</td>\n",
              "      <td>0.015385</td>\n",
              "      <td>0.000000</td>\n",
              "      <td>0.000000</td>\n",
              "      <td>0.000000</td>\n",
              "      <td>0.000000</td>\n",
              "      <td>0.000000</td>\n",
              "      <td>0.000000</td>\n",
              "      <td>0.000000</td>\n",
              "      <td>0.0</td>\n",
              "      <td>...</td>\n",
              "      <td>0.000000</td>\n",
              "      <td>0.023356</td>\n",
              "      <td>0.0</td>\n",
              "      <td>0.000000</td>\n",
              "      <td>0.0</td>\n",
              "      <td>0.000000</td>\n",
              "      <td>0.000000</td>\n",
              "      <td>0.000000</td>\n",
              "      <td>0.000000</td>\n",
              "      <td>0.0</td>\n",
              "    </tr>\n",
              "    <tr>\n",
              "      <th>Jumanji</th>\n",
              "      <td>0.015385</td>\n",
              "      <td>1.000000</td>\n",
              "      <td>0.046854</td>\n",
              "      <td>0.000000</td>\n",
              "      <td>0.000000</td>\n",
              "      <td>0.047646</td>\n",
              "      <td>0.000000</td>\n",
              "      <td>0.000000</td>\n",
              "      <td>0.098488</td>\n",
              "      <td>0.0</td>\n",
              "      <td>...</td>\n",
              "      <td>0.000000</td>\n",
              "      <td>0.000000</td>\n",
              "      <td>0.0</td>\n",
              "      <td>0.004192</td>\n",
              "      <td>0.0</td>\n",
              "      <td>0.014642</td>\n",
              "      <td>0.000000</td>\n",
              "      <td>0.000000</td>\n",
              "      <td>0.000000</td>\n",
              "      <td>0.0</td>\n",
              "    </tr>\n",
              "    <tr>\n",
              "      <th>Grumpier Old Men</th>\n",
              "      <td>0.000000</td>\n",
              "      <td>0.046854</td>\n",
              "      <td>1.000000</td>\n",
              "      <td>0.000000</td>\n",
              "      <td>0.023903</td>\n",
              "      <td>0.000000</td>\n",
              "      <td>0.000000</td>\n",
              "      <td>0.006463</td>\n",
              "      <td>0.000000</td>\n",
              "      <td>0.0</td>\n",
              "      <td>...</td>\n",
              "      <td>0.000000</td>\n",
              "      <td>0.000000</td>\n",
              "      <td>0.0</td>\n",
              "      <td>0.000000</td>\n",
              "      <td>0.0</td>\n",
              "      <td>0.015409</td>\n",
              "      <td>0.000000</td>\n",
              "      <td>0.000000</td>\n",
              "      <td>0.007101</td>\n",
              "      <td>0.0</td>\n",
              "    </tr>\n",
              "    <tr>\n",
              "      <th>Waiting to Exhale</th>\n",
              "      <td>0.000000</td>\n",
              "      <td>0.000000</td>\n",
              "      <td>0.000000</td>\n",
              "      <td>1.000000</td>\n",
              "      <td>0.000000</td>\n",
              "      <td>0.007417</td>\n",
              "      <td>0.000000</td>\n",
              "      <td>0.008592</td>\n",
              "      <td>0.000000</td>\n",
              "      <td>0.0</td>\n",
              "      <td>...</td>\n",
              "      <td>0.028460</td>\n",
              "      <td>0.000000</td>\n",
              "      <td>0.0</td>\n",
              "      <td>0.000000</td>\n",
              "      <td>0.0</td>\n",
              "      <td>0.000000</td>\n",
              "      <td>0.016324</td>\n",
              "      <td>0.006840</td>\n",
              "      <td>0.000000</td>\n",
              "      <td>0.0</td>\n",
              "    </tr>\n",
              "    <tr>\n",
              "      <th>Father of the Bride Part II</th>\n",
              "      <td>0.000000</td>\n",
              "      <td>0.000000</td>\n",
              "      <td>0.023903</td>\n",
              "      <td>0.000000</td>\n",
              "      <td>1.000000</td>\n",
              "      <td>0.000000</td>\n",
              "      <td>0.030866</td>\n",
              "      <td>0.000000</td>\n",
              "      <td>0.033213</td>\n",
              "      <td>0.0</td>\n",
              "      <td>...</td>\n",
              "      <td>0.000000</td>\n",
              "      <td>0.000000</td>\n",
              "      <td>0.0</td>\n",
              "      <td>0.022816</td>\n",
              "      <td>0.0</td>\n",
              "      <td>0.000000</td>\n",
              "      <td>0.000000</td>\n",
              "      <td>0.000000</td>\n",
              "      <td>0.012584</td>\n",
              "      <td>0.0</td>\n",
              "    </tr>\n",
              "    <tr>\n",
              "      <th>Heat</th>\n",
              "      <td>0.000000</td>\n",
              "      <td>0.047646</td>\n",
              "      <td>0.000000</td>\n",
              "      <td>0.007417</td>\n",
              "      <td>0.000000</td>\n",
              "      <td>1.000000</td>\n",
              "      <td>0.000000</td>\n",
              "      <td>0.000000</td>\n",
              "      <td>0.046349</td>\n",
              "      <td>0.0</td>\n",
              "      <td>...</td>\n",
              "      <td>0.000000</td>\n",
              "      <td>0.000000</td>\n",
              "      <td>0.0</td>\n",
              "      <td>0.000000</td>\n",
              "      <td>0.0</td>\n",
              "      <td>0.000000</td>\n",
              "      <td>0.015837</td>\n",
              "      <td>0.000000</td>\n",
              "      <td>0.000000</td>\n",
              "      <td>0.0</td>\n",
              "    </tr>\n",
              "    <tr>\n",
              "      <th>Sabrina</th>\n",
              "      <td>0.000000</td>\n",
              "      <td>0.000000</td>\n",
              "      <td>0.000000</td>\n",
              "      <td>0.000000</td>\n",
              "      <td>0.030866</td>\n",
              "      <td>0.000000</td>\n",
              "      <td>1.000000</td>\n",
              "      <td>0.000000</td>\n",
              "      <td>0.000000</td>\n",
              "      <td>0.0</td>\n",
              "      <td>...</td>\n",
              "      <td>0.000000</td>\n",
              "      <td>0.000000</td>\n",
              "      <td>0.0</td>\n",
              "      <td>0.028344</td>\n",
              "      <td>0.0</td>\n",
              "      <td>0.000000</td>\n",
              "      <td>0.105139</td>\n",
              "      <td>0.000000</td>\n",
              "      <td>0.000000</td>\n",
              "      <td>0.0</td>\n",
              "    </tr>\n",
              "    <tr>\n",
              "      <th>Tom and Huck</th>\n",
              "      <td>0.000000</td>\n",
              "      <td>0.000000</td>\n",
              "      <td>0.006463</td>\n",
              "      <td>0.008592</td>\n",
              "      <td>0.000000</td>\n",
              "      <td>0.000000</td>\n",
              "      <td>0.000000</td>\n",
              "      <td>1.000000</td>\n",
              "      <td>0.000000</td>\n",
              "      <td>0.0</td>\n",
              "      <td>...</td>\n",
              "      <td>0.164136</td>\n",
              "      <td>0.071019</td>\n",
              "      <td>0.0</td>\n",
              "      <td>0.000000</td>\n",
              "      <td>0.0</td>\n",
              "      <td>0.000000</td>\n",
              "      <td>0.000000</td>\n",
              "      <td>0.000000</td>\n",
              "      <td>0.006162</td>\n",
              "      <td>0.0</td>\n",
              "    </tr>\n",
              "    <tr>\n",
              "      <th>Sudden Death</th>\n",
              "      <td>0.000000</td>\n",
              "      <td>0.098488</td>\n",
              "      <td>0.000000</td>\n",
              "      <td>0.000000</td>\n",
              "      <td>0.033213</td>\n",
              "      <td>0.046349</td>\n",
              "      <td>0.000000</td>\n",
              "      <td>0.000000</td>\n",
              "      <td>1.000000</td>\n",
              "      <td>0.0</td>\n",
              "      <td>...</td>\n",
              "      <td>0.000000</td>\n",
              "      <td>0.000000</td>\n",
              "      <td>0.0</td>\n",
              "      <td>0.000000</td>\n",
              "      <td>0.0</td>\n",
              "      <td>0.000000</td>\n",
              "      <td>0.000000</td>\n",
              "      <td>0.000000</td>\n",
              "      <td>0.014963</td>\n",
              "      <td>0.0</td>\n",
              "    </tr>\n",
              "    <tr>\n",
              "      <th>GoldenEye</th>\n",
              "      <td>0.000000</td>\n",
              "      <td>0.000000</td>\n",
              "      <td>0.000000</td>\n",
              "      <td>0.000000</td>\n",
              "      <td>0.000000</td>\n",
              "      <td>0.000000</td>\n",
              "      <td>0.000000</td>\n",
              "      <td>0.000000</td>\n",
              "      <td>0.000000</td>\n",
              "      <td>1.0</td>\n",
              "      <td>...</td>\n",
              "      <td>0.043867</td>\n",
              "      <td>0.000000</td>\n",
              "      <td>0.0</td>\n",
              "      <td>0.000000</td>\n",
              "      <td>0.0</td>\n",
              "      <td>0.076444</td>\n",
              "      <td>0.000000</td>\n",
              "      <td>0.016266</td>\n",
              "      <td>0.000000</td>\n",
              "      <td>0.0</td>\n",
              "    </tr>\n",
              "  </tbody>\n",
              "</table>\n",
              "<p>10 rows × 21604 columns</p>\n",
              "</div>\n",
              "      <button class=\"colab-df-convert\" onclick=\"convertToInteractive('df-7907334b-f388-4e62-91c7-6077a78f1b1a')\"\n",
              "              title=\"Convert this dataframe to an interactive table.\"\n",
              "              style=\"display:none;\">\n",
              "        \n",
              "  <svg xmlns=\"http://www.w3.org/2000/svg\" height=\"24px\"viewBox=\"0 0 24 24\"\n",
              "       width=\"24px\">\n",
              "    <path d=\"M0 0h24v24H0V0z\" fill=\"none\"/>\n",
              "    <path d=\"M18.56 5.44l.94 2.06.94-2.06 2.06-.94-2.06-.94-.94-2.06-.94 2.06-2.06.94zm-11 1L8.5 8.5l.94-2.06 2.06-.94-2.06-.94L8.5 2.5l-.94 2.06-2.06.94zm10 10l.94 2.06.94-2.06 2.06-.94-2.06-.94-.94-2.06-.94 2.06-2.06.94z\"/><path d=\"M17.41 7.96l-1.37-1.37c-.4-.4-.92-.59-1.43-.59-.52 0-1.04.2-1.43.59L10.3 9.45l-7.72 7.72c-.78.78-.78 2.05 0 2.83L4 21.41c.39.39.9.59 1.41.59.51 0 1.02-.2 1.41-.59l7.78-7.78 2.81-2.81c.8-.78.8-2.07 0-2.86zM5.41 20L4 18.59l7.72-7.72 1.47 1.35L5.41 20z\"/>\n",
              "  </svg>\n",
              "      </button>\n",
              "      \n",
              "  <style>\n",
              "    .colab-df-container {\n",
              "      display:flex;\n",
              "      flex-wrap:wrap;\n",
              "      gap: 12px;\n",
              "    }\n",
              "\n",
              "    .colab-df-convert {\n",
              "      background-color: #E8F0FE;\n",
              "      border: none;\n",
              "      border-radius: 50%;\n",
              "      cursor: pointer;\n",
              "      display: none;\n",
              "      fill: #1967D2;\n",
              "      height: 32px;\n",
              "      padding: 0 0 0 0;\n",
              "      width: 32px;\n",
              "    }\n",
              "\n",
              "    .colab-df-convert:hover {\n",
              "      background-color: #E2EBFA;\n",
              "      box-shadow: 0px 1px 2px rgba(60, 64, 67, 0.3), 0px 1px 3px 1px rgba(60, 64, 67, 0.15);\n",
              "      fill: #174EA6;\n",
              "    }\n",
              "\n",
              "    [theme=dark] .colab-df-convert {\n",
              "      background-color: #3B4455;\n",
              "      fill: #D2E3FC;\n",
              "    }\n",
              "\n",
              "    [theme=dark] .colab-df-convert:hover {\n",
              "      background-color: #434B5C;\n",
              "      box-shadow: 0px 1px 3px 1px rgba(0, 0, 0, 0.15);\n",
              "      filter: drop-shadow(0px 1px 2px rgba(0, 0, 0, 0.3));\n",
              "      fill: #FFFFFF;\n",
              "    }\n",
              "  </style>\n",
              "\n",
              "      <script>\n",
              "        const buttonEl =\n",
              "          document.querySelector('#df-7907334b-f388-4e62-91c7-6077a78f1b1a button.colab-df-convert');\n",
              "        buttonEl.style.display =\n",
              "          google.colab.kernel.accessAllowed ? 'block' : 'none';\n",
              "\n",
              "        async function convertToInteractive(key) {\n",
              "          const element = document.querySelector('#df-7907334b-f388-4e62-91c7-6077a78f1b1a');\n",
              "          const dataTable =\n",
              "            await google.colab.kernel.invokeFunction('convertToInteractive',\n",
              "                                                     [key], {});\n",
              "          if (!dataTable) return;\n",
              "\n",
              "          const docLinkHtml = 'Like what you see? Visit the ' +\n",
              "            '<a target=\"_blank\" href=https://colab.research.google.com/notebooks/data_table.ipynb>data table notebook</a>'\n",
              "            + ' to learn more about interactive tables.';\n",
              "          element.innerHTML = '';\n",
              "          dataTable['output_type'] = 'display_data';\n",
              "          await google.colab.output.renderOutput(dataTable, element);\n",
              "          const docLink = document.createElement('div');\n",
              "          docLink.innerHTML = docLinkHtml;\n",
              "          element.appendChild(docLink);\n",
              "        }\n",
              "      </script>\n",
              "    </div>\n",
              "  </div>\n",
              "  "
            ]
          },
          "metadata": {},
          "execution_count": 36
        }
      ],
      "source": [
        "# Compute cosine similarity between all movie-descriptions\n",
        "similarity = cosine_similarity(tfidf_matrix)\n",
        "similarity_df = pd.DataFrame(similarity, \n",
        "                             index=movie_metadata.index.values, \n",
        "                             columns=movie_metadata.index.values)\n",
        "similarity_df.head(10)"
      ]
    },
    {
      "cell_type": "code",
      "execution_count": 37,
      "metadata": {
        "id": "Tm2sEuOs24GN",
        "colab": {
          "base_uri": "https://localhost:8080/"
        },
        "outputId": "e2c04e68-d99a-485a-ccec-de63b8358e03"
      },
      "outputs": [
        {
          "output_type": "stream",
          "name": "stdout",
          "text": [
            "\n",
            "\n",
            "Top Recommended Movies for: Batman Begins are:-\n",
            " ['Batman Unmasked: The Psychology of the Dark Knight'\n",
            " 'Batman: The Dark Knight Returns, Part 1' 'Batman: Bad Blood'\n",
            " 'Batman: Year One' 'Batman: Under the Red Hood'\n",
            " 'Batman Beyond: The Movie' 'Batman Forever'\n",
            " 'Batman: Mask of the Phantasm' 'Batman & Bill' 'Batman']\n"
          ]
        }
      ],
      "source": [
        "# movie list \n",
        "movie_list = similarity_df.columns.values\n",
        "\n",
        "\n",
        "# sample movie\n",
        "movie = 'Batman Begins'\n",
        "\n",
        "# top recommendation movie count\n",
        "top_n = 10\n",
        "\n",
        "# get movie similarity records\n",
        "movie_sim = similarity_df[similarity_df.index == movie].values[0]\n",
        "\n",
        "# get movies sorted by similarity\n",
        "sorted_movie_ids = np.argsort(movie_sim)[::-1]\n",
        "\n",
        "# get recommended movie names\n",
        "recommended_movies = movie_list[sorted_movie_ids[1:top_n+1]]\n",
        "\n",
        "print('\\n\\nTop Recommended Movies for:', movie, 'are:-\\n', recommended_movies)"
      ]
    },
    {
      "cell_type": "markdown",
      "metadata": {
        "id": "50vzONVBqkTu"
      },
      "source": [
        "__Your turn:__ Create a function as defined below, __`content_movie_recommender()`__ which can take in sample movie names and print a list of top N recommended movies"
      ]
    },
    {
      "cell_type": "code",
      "execution_count": 38,
      "metadata": {
        "id": "t5cyFCvp24GT"
      },
      "outputs": [],
      "source": [
        "def content_movie_recommender(input_movie, similarity_database=similarity_df, movie_database_list=movie_list, top_n=10):\n",
        " movie=input_movie\n",
        " movie_list = similarity_database.columns.values\n",
        " movie_sim = similarity_database[similarity_database.index == movie].values[0]\n",
        " sorted_movie_ids = np.argsort(movie_sim)[::-1]\n",
        " recommended_movies = movie_list[sorted_movie_ids[1:top_n+1]]\n",
        " print('\\n\\nTop Recommended Movies for:', movie, 'are:-\\n', recommended_movies)"
      ]
    },
    {
      "cell_type": "markdown",
      "metadata": {
        "id": "gR0sKcxIqxql"
      },
      "source": [
        "__Your turn:__ Test your function below on the given sample movies"
      ]
    },
    {
      "cell_type": "code",
      "execution_count": 39,
      "metadata": {
        "id": "L0tUINS_24GV",
        "colab": {
          "base_uri": "https://localhost:8080/"
        },
        "outputId": "590f2a73-a870-4940-a479-a626f71c0651"
      },
      "outputs": [
        {
          "output_type": "stream",
          "name": "stdout",
          "text": [
            "\n",
            "\n",
            "Top Recommended Movies for: Captain America are:-\n",
            " ['Iron Man & Captain America: Heroes United'\n",
            " 'Captain America: The First Avenger' 'Team Thor' 'Education for Death'\n",
            " 'Captain America: The Winter Soldier' '49th Parallel' 'Ultimate Avengers'\n",
            " 'Philadelphia Experiment II' 'Vice Versa' 'The Lair of the White Worm']\n",
            "\n",
            "\n",
            "Top Recommended Movies for: The Terminator are:-\n",
            " ['Terminator 2: Judgment Day' 'Terminator Salvation'\n",
            " 'Terminator 3: Rise of the Machines' 'Silent House' 'They Wait'\n",
            " 'Another World' 'Teenage Caveman' 'Appleseed Alpha' 'Respire'\n",
            " 'Just Married']\n",
            "\n",
            "\n",
            "Top Recommended Movies for: The Exorcist are:-\n",
            " ['Exorcist II: The Heretic' 'Domestic Disturbance' 'Damien: Omen II'\n",
            " 'The Exorcist III' 'Like Sunday, Like Rain' 'People Like Us'\n",
            " 'Quand on a 17 Ans' \"Don't Knock Twice\" 'Zero Day' 'Brick Mansions']\n",
            "\n",
            "\n",
            "Top Recommended Movies for: The Hunger Games: Mockingjay - Part 1 are:-\n",
            " ['The Hunger Games: Catching Fire' 'The Hunger Games: Mockingjay - Part 2'\n",
            " 'Last Train from Gun Hill' 'The Hunger Games'\n",
            " 'Will Success Spoil Rock Hunter?' 'Circumstance' 'Man of Steel'\n",
            " 'The Amityville Horror' 'Pregnancy Pact' 'Bananas']\n",
            "\n",
            "\n",
            "Top Recommended Movies for: The Blair Witch Project are:-\n",
            " ['Book of Shadows: Blair Witch 2' 'Freakonomics' 'Le Bal des actrices'\n",
            " 'Greystone Park' 'Willow Creek' 'Addio zio Tom' 'The Conspiracy'\n",
            " 'A Haunted House' 'Tonight She Comes' 'Curse of the Blair Witch']\n"
          ]
        }
      ],
      "source": [
        "sample_movies = ['Captain America', 'The Terminator', 'The Exorcist', \n",
        "                 'The Hunger Games: Mockingjay - Part 1', 'The Blair Witch Project']\n",
        "                 \n",
        "for movie in sample_movies:\n",
        "  content_movie_recommender(movie)"
      ]
    },
    {
      "cell_type": "markdown",
      "metadata": {
        "id": "r3fofy8frA2k"
      },
      "source": [
        "## 8.3: Collaborative filtering Recommendation Systems"
      ]
    },
    {
      "cell_type": "markdown",
      "metadata": {
        "id": "j9Su_sBArKWX"
      },
      "source": [
        "### Collaborative Filtering\n",
        "Primarily recommends content to you based on inputs or actions from other people(say your friends).\n",
        "![collaborative filtering](./images/collaborative-filtering.png)\n",
        "\n"
      ]
    },
    {
      "cell_type": "markdown",
      "metadata": {
        "id": "YxRJfswzrN5A"
      },
      "source": [
        "### What is the intuition behind this?\n",
        "\n",
        "*   **Personal tastes are correlated**\n",
        "\n",
        "\n",
        "        1.   If Alice and Bob both like X and Alice likes Y then Bob is more likely to like Y\n",
        "        2.   especially (perhaps) if Bob knows Alice"
      ]
    },
    {
      "cell_type": "markdown",
      "metadata": {
        "id": "TUoI6lh6rSlG"
      },
      "source": [
        "Types of Collaborative Filtering:\n",
        "\n",
        "\n",
        "1.   Neighborhood methods\n",
        "2.   Matrix Factorization (Latent Factor) methods\n",
        "\n"
      ]
    },
    {
      "cell_type": "markdown",
      "metadata": {
        "id": "23PnmU-FraW8"
      },
      "source": [
        "Assume you dont have users. Rather you have users' characterisics and properties(as shown in image).![Latent Factor method](https://miro.medium.com/max/876/1*AQEx38Wdo5H0WTSjRfAWtA.png)\n",
        "\n",
        "For example, a person who is brave-hearted is more likely to be interested in dark, horrific movies rather than someone who is soft and compassionate.\n",
        "* ^This is just an example(not in any literal sense)"
      ]
    },
    {
      "cell_type": "markdown",
      "metadata": {
        "id": "fidNZWZXrdmt"
      },
      "source": [
        "So, once you have the properties and characteristics of each user, we call them as lower-dimensional features of the users. Similarly, we can have lower-dimensional features for movies(say its 10% action, 20% romance ...)\n",
        "\n",
        "With these features, we represent users and movies in a low dimensional space describing their properties. **This is called as the latent space.**\n",
        "\n",
        "We then recommend a movie based on its proximity to the user in the latent space."
      ]
    },
    {
      "cell_type": "markdown",
      "metadata": {
        "id": "InGsgab1rhVT"
      },
      "source": [
        "### The problem:\n",
        "\n",
        "The problem we try to address here is the rating prediction problem. \n",
        "Say, we try to guess how much Alice would rate a movie and suggest those movies that we think Alice will rate higher."
      ]
    },
    {
      "cell_type": "markdown",
      "metadata": {
        "id": "NUDZRCzhrijy"
      },
      "source": [
        "### Interesting...But, how do we predict how much Alice would rate a movie?\n",
        "\n",
        " The data we have is a rating history: ratings of users for items in the interval [1,5]. We can put all this data into a sparse matrix called R:\n",
        " \n",
        " $R = \n",
        " \\begin{pmatrix}\n",
        "  3 & ? &? \\\\ \n",
        "  ? & 4 & 5 \\\\\n",
        "  ? & ? & 2 \\\\\n",
        "  2 & 3 & ?\n",
        " \\end{pmatrix}\n",
        " \\begin{matrix}\n",
        "  Alice \\\\ \n",
        "  Bob \\\\\n",
        "  Chand \\\\\n",
        "  Deb\n",
        " \\end{matrix}\n",
        " $\n",
        "\n",
        " Each row of the matrix corresponds to a given user, and each column corresponds to a given item. For instance here, Alice has rated the first movie with a rating of 3, and Chand has rated the third item with a rating of 2.\n",
        "\n",
        " The matrix R is sparse (more than 99% of the entries are missing), and our goal is to predict the missing entries, i.e. predict the ?.\n"
      ]
    },
    {
      "cell_type": "markdown",
      "metadata": {
        "id": "i_MeURMvrniQ"
      },
      "source": [
        "### Anatomy of the Rating matrix: LATENT SPACE\n",
        "Before predicting ratings, lets step back and understand the latent space more! \\\\\n",
        " In this Rating matrix, Rows represent Users and Columns represent Movies.\n",
        " $R = \n",
        "  \\begin{pmatrix}\n",
        "  --Alice-- \\\\ \n",
        "  --Bob-- \\\\\n",
        "  --Chand-- \\\\\n",
        "  --Deb--\n",
        " \\end{pmatrix}\n",
        " $\n",
        "\n",
        " In latent space(low dimensional features - fanatics), for instance, Alice could be defined as a little bit of an action fan, a little bit of a comedy fan, a lot of a romance fan, etc. As for Bob, he could be more keen on action movies:\n",
        "\n",
        "```\n",
        "Alice = 10% Action fan + 10% Comedy fan + 50% Romance fan + ⋯ \\\\\n",
        "Bob = 50% Action fan + 30% Comedy fan + 10% Romance fan + ⋯ \\\\\n",
        ": \\\\\n",
        "Zoe = ⋯\n",
        "```\n",
        "\n",
        "What would happen if we transposed our rating matrix? Instead of having users in the rows, we would now have movies, defined as their ratings.\n",
        "\n",
        "$\n",
        "R ^ T = \n",
        "  \\begin{pmatrix}\n",
        "  --Avengers-- \\\\ \n",
        "  --Matrix-- \\\\\n",
        "  --Inception-- \\\\\n",
        "  --Sherlock--\n",
        " \\end{pmatrix}\n",
        "$\n",
        "\n",
        "In the latent space, we will associate a semantic meaning behind each of the  movies, and these semantic meanings(say movie characteristics) can build back all of our original movies."
      ]
    },
    {
      "cell_type": "markdown",
      "metadata": {
        "id": "vZ_r91x1rr65"
      },
      "source": [
        "### EXAMPLE\n",
        "In the below example, we convert users and movies to vectors(embeddings) and do dot-product to predict R\n",
        "\n",
        "user vector - U \\\\\n",
        "movies vector - V \\\\\n",
        "$\n",
        "R = U.V\n",
        "$"
      ]
    },
    {
      "cell_type": "markdown",
      "metadata": {
        "id": "_Ynl-aVuf3Dy"
      },
      "source": [
        "### Additional hints:\n",
        "\n",
        "use dataframe map - [map](https://pandas.pydata.org/pandas-docs/stable/reference/api/pandas.Series.map.html)\n",
        "\n",
        "Create tensor - [Input](https://www.tensorflow.org/api_docs/python/tf/keras/Input#view-aliases)\n",
        "\n",
        "Create Embedding - [Embedding](https://www.tensorflow.org/api_docs/python/tf/keras/layers/Embedding)\n",
        "\n",
        "Dot product - [Dot](https://www.tensorflow.org/api_docs/python/tf/keras/layers/Dot)\n",
        "\n",
        "Fit model : \n",
        "[fit](https://www.tensorflow.org/api_docs/python/tf/keras/Model#fit)\n",
        "\n",
        "Measure Performance: [mean_squared_error](https://scikit-learn.org/stable/modules/generated/sklearn.metrics.mean_squared_error.html)"
      ]
    },
    {
      "cell_type": "markdown",
      "metadata": {
        "id": "wpPZfOrDs-Qs"
      },
      "source": [
        "### Q8.3: Building a Deep Learning Matrix Factorization based Collaborative Filtering Recommendation System\n",
        "\n",
        "__Your Turn:__ Fill in the necessary blank code snippets in the following sections to train your own DL collaborative  filtering system\n",
        "\n",
        "#### Create Configuration Parameters"
      ]
    },
    {
      "cell_type": "code",
      "execution_count": 40,
      "metadata": {
        "id": "AUz12Y_Z24Gh"
      },
      "outputs": [],
      "source": [
        "# Create user and movie-id mapping to convert to numbers\n",
        "user_id_mapping = {id:i for i, id in enumerate(df_filtered['User'].unique())}\n",
        "movie_id_mapping = {id:i for i, id in enumerate(df_filtered['Movie'].unique())}"
      ]
    },
    {
      "cell_type": "code",
      "source": [
        "print(user_id_mapping)\n",
        "print(movie_id_mapping)"
      ],
      "metadata": {
        "colab": {
          "base_uri": "https://localhost:8080/"
        },
        "id": "w08Jwg7nwb5A",
        "outputId": "ed72dfd3-826d-4762-b057-f0cc29e8a536"
      },
      "execution_count": 41,
      "outputs": [
        {
          "output_type": "stream",
          "name": "stdout",
          "text": [
            "{'760924': 0, '586792': 1, '797705': 2, '2593204': 3, '455711': 4, '1760544': 5, '289710': 6, '1429068': 7, '96539': 8, '1634325': 9, '1125189': 10, '2343417': 11, '258319': 12, '914728': 13, '1181880': 14, '715339': 15, '2215021': 16, '574220': 17, '483361': 18, '1229252': 19, '1817718': 20, '1511901': 21, '1634095': 22, '516721': 23, '2116582': 24, '370736': 25, '259497': 26, '1576405': 27, '935413': 28, '247999': 29, '2105294': 30, '2422250': 31, '162641': 32, '965104': 33, '73103': 34, '998236': 35, '2101842': 36, '1538418': 37, '1951900': 38, '2639487': 39, '2349759': 40, '626050': 41, '868118': 42, '1323979': 43, '1834021': 44, '651625': 45, '1720424': 46, '1110164': 47, '1147208': 48, '787598': 49, '65972': 50, '1210904': 51, '1744593': 52, '1666057': 53, '528423': 54, '1159968': 55, '924399': 56, '656977': 57, '1668666': 58, '2454811': 59, '932949': 60, '151300': 61, '986049': 62, '48334': 63, '2259898': 64, '1978089': 65, '1874122': 66, '2502816': 67, '1485312': 68, '1082036': 69, '929407': 70, '935453': 71, '1153186': 72, '1123549': 73, '606144': 74, '1473192': 75, '880271': 76, '1088457': 77, '367706': 78, '446160': 79, '1818895': 80, '3039': 81, '942513': 82, '2068698': 83, '2350141': 84, '39297': 85, '567025': 86, '437239': 87, '45234': 88, '2138723': 89, '371300': 90, '1615638': 91, '1810588': 92, '4905': 93, '1987806': 94, '325451': 95, '2643806': 96, '953043': 97, '1211730': 98, '2311863': 99, '228820': 100, '4706': 101, '1464164': 102, '384245': 103, '1279971': 104, '539955': 105, '2073795': 106, '2589962': 107, '731685': 108, '1123618': 109, '1771405': 110, '1345754': 111, '1833221': 112, '699044': 113, '426070': 114, '291135': 115, '908626': 116, '550883': 117, '1038488': 118, '2396806': 119, '376881': 120, '1938340': 121, '2548453': 122, '1176077': 123, '1811676': 124, '886841': 125, '73023': 126, '754162': 127, '1738284': 128, '647216': 129, '2583311': 130, '2396118': 131, '1269877': 132, '1580069': 133, '2482738': 134, '1630882': 135, '2357186': 136, '2461071': 137, '1985504': 138, '1315201': 139, '1553532': 140, '1648640': 141, '1293451': 142, '796494': 143, '1154027': 144, '1849541': 145, '1480781': 146, '538735': 147, '1096479': 148, '2509631': 149, '214501': 150, '2144973': 151, '1134379': 152, '2556923': 153, '78014': 154, '593886': 155, '536967': 156, '596995': 157, '521890': 158, '1038880': 159, '1789382': 160, '525666': 161, '1599243': 162, '667375': 163, '1807774': 164, '1426373': 165, '779945': 166, '1307666': 167, '2218826': 168, '2021092': 169, '1559165': 170, '514774': 171, '1754267': 172, '1339423': 173, '2426088': 174, '462444': 175, '1172958': 176, '276617': 177, '2322250': 178, '1675680': 179, '2292909': 180, '1711016': 181, '1054626': 182, '2413320': 183, '2036752': 184, '1570077': 185, '2232041': 186, '187896': 187, '354269': 188, '1191362': 189, '764583': 190, '671697': 191, '2325040': 192, '180537': 193, '154869': 194, '52191': 195, '2360117': 196, '1865249': 197, '764945': 198, '1040397': 199, '1077783': 200, '1630361': 201, '690331': 202, '194096': 203, '351037': 204, '1838742': 205, '206761': 206, '2523426': 207, '1280053': 208, '407367': 209, '327783': 210, '974573': 211, '1011593': 212, '735400': 213, '1179646': 214, '2001197': 215, '947651': 216, '1181609': 217, '306658': 218, '1596727': 219, '2135939': 220, '2477414': 221, '1420371': 222, '1277779': 223, '2203834': 224, '1459323': 225, '1523836': 226, '2541531': 227, '709833': 228, '1333759': 229, '2013958': 230, '2199465': 231, '2337144': 232, '599147': 233, '398215': 234, '43751': 235, '1159376': 236, '104899': 237, '2126081': 238, '1152249': 239, '1575462': 240, '2541025': 241, '1423566': 242, '2484944': 243, '906893': 244, '2517938': 245, '755939': 246, '1606561': 247, '1576102': 248, '2581812': 249, '1927761': 250, '2270611': 251, '1603364': 252, '1432474': 253, '214955': 254, '1819462': 255, '2615444': 256, '165595': 257, '1508115': 258, '78222': 259, '1053871': 260, '632193': 261, '835281': 262, '212794': 263, '1721447': 264, '1180559': 265, '164468': 266, '1439762': 267, '2329786': 268, '874732': 269, '449335': 270, '2465236': 271, '2002499': 272, '2337776': 273, '1569593': 274, '1680230': 275, '1420006': 276, '1086168': 277, '16386': 278, '2240010': 279, '741340': 280, '1371764': 281, '525071': 282, '533749': 283, '1995052': 284, '33051': 285, '169054': 286, '733049': 287, '144836': 288, '474112': 289, '267780': 290, '1960295': 291, '2168506': 292, '1295603': 293, '1887043': 294, '419598': 295, '861533': 296, '66109': 297, '1674407': 298, '211010': 299, '517532': 300, '52263': 301, '2389101': 302, '1927048': 303, '492714': 304, '460446': 305, '203602': 306, '1277996': 307, '1451817': 308, '690426': 309, '269088': 310, '633570': 311, '397001': 312, '1178846': 313, '1555531': 314, '2637187': 315, '1267805': 316, '218016': 317, '342020': 318, '2540343': 319, '1337026': 320, '1465422': 321, '1221473': 322, '2133903': 323, '1642319': 324, '1690571': 325, '483851': 326, '812673': 327, '1820916': 328, '2043784': 329, '1612159': 330, '2131774': 331, '1114141': 332, '867788': 333, '2568366': 334, '340702': 335, '309333': 336, '1525070': 337, '1501018': 338, '431856': 339, '1356923': 340, '1558286': 341, '413885': 342, '1880766': 343, '1532684': 344, '1893117': 345, '2269039': 346, '1857639': 347, '2523231': 348, '1833607': 349, '688057': 350, '1309932': 351, '2609333': 352, '2433512': 353, '2444240': 354, '1028463': 355, '2156165': 356, '474106': 357, '854849': 358, '2316337': 359, '2160527': 360, '83926': 361, '356911': 362, '1803243': 363, '451096': 364, '144099': 365, '1426797': 366, '696845': 367, '1783142': 368, '479924': 369, '963663': 370, '1083688': 371, '747960': 372, '1115285': 373, '1905883': 374, '2626336': 375, '925611': 376, '1104959': 377, '2293062': 378, '1106378': 379, '492058': 380, '1560219': 381, '980987': 382, '1894049': 383, '1115632': 384, '716874': 385, '607560': 386, '497541': 387, '2583895': 388, '1144887': 389, '2119629': 390, '699493': 391, '1589834': 392, '2194079': 393, '91234': 394, '1944765': 395, '554929': 396, '266172': 397, '2397914': 398, '1837730': 399, '941624': 400, '1340530': 401, '2115977': 402, '2208125': 403, '2080549': 404, '1664010': 405, '1528530': 406, '524142': 407, '688217': 408, '364749': 409, '1511945': 410, '1644680': 411, '2162095': 412, '1429794': 413, '2222791': 414, '1423063': 415, '1705330': 416, '2223968': 417, '449155': 418, '279504': 419, '1416785': 420, '1376339': 421, '2538739': 422, '1911219': 423, '2334738': 424, '1207462': 425, '2067423': 426, '2265864': 427, '1495747': 428, '2622948': 429, '946972': 430, '119510': 431, '2428423': 432, '1181550': 433, '1684539': 434, '752867': 435, '249977': 436, '569271': 437, '2354740': 438, '21705': 439, '962019': 440, '2542635': 441, '1300982': 442, '339645': 443, '1763064': 444, '99939': 445, '1091467': 446, '2449788': 447, '1919448': 448, '2356870': 449, '1063035': 450, '1788009': 451, '2480287': 452, '1895403': 453, '2361520': 454, '2288460': 455, '1049142': 456, '408765': 457, '609629': 458, '671071': 459, '492513': 460, '183215': 461, '429045': 462, '2144081': 463, '2485566': 464, '465571': 465, '2202057': 466, '1899708': 467, '2408899': 468, '2219070': 469, '68979': 470, '1820859': 471, '2600927': 472, '2331306': 473, '69183': 474, '2607300': 475, '1527676': 476, '1679359': 477, '1057236': 478, '1617280': 479, '2404142': 480, '1593655': 481, '643182': 482, '2198129': 483, '575714': 484, '2627893': 485, '1648404': 486, '2314419': 487, '715898': 488, '73989': 489, '295393': 490, '477466': 491, '15402': 492, '10337': 493, '2219225': 494, '1863866': 495, '1010288': 496, '1558691': 497, '1851082': 498, '2529835': 499, '2153721': 500, '572864': 501, '1667283': 502, '315168': 503, '72607': 504, '2092609': 505, '527541': 506, '1003093': 507, '405837': 508, '1739597': 509, '2186084': 510, '2244394': 511, '1988524': 512, '30878': 513, '429876': 514, '2317746': 515, '270174': 516, '1602117': 517, '917414': 518, '2426066': 519, '2437021': 520, '648972': 521, '495542': 522, '152669': 523, '1827859': 524, '1483639': 525, '2357356': 526, '2331843': 527, '879028': 528, '778615': 529, '282390': 530, '2274193': 531, '1376350': 532, '129845': 533, '189387': 534, '1338312': 535, '1884816': 536, '961541': 537, '1859843': 538, '997243': 539, '2309341': 540, '1550650': 541, '289162': 542, '1859725': 543, '2341581': 544, '1235767': 545, '1300582': 546, '183674': 547, '74441': 548, '1727232': 549, '1105269': 550, '687648': 551, '354582': 552, '366233': 553, '430648': 554, '1777406': 555, '1161725': 556, '2332058': 557, '873976': 558, '2250546': 559, '247794': 560, '1741099': 561, '1229628': 562, '962384': 563, '2036662': 564, '412824': 565, '2425586': 566, '441361': 567, '964436': 568, '915193': 569, '2059620': 570, '111002': 571, '1791019': 572, '814740': 573, '2273316': 574, '1929765': 575, '2461686': 576, '940910': 577, '2508883': 578, '994269': 579, '799667': 580, '1271756': 581, '128311': 582, '1231842': 583, '303846': 584, '281729': 585, '390707': 586, '2472638': 587, '2638015': 588, '402743': 589, '604335': 590, '809033': 591, '1419750': 592, '955178': 593, '1863499': 594, '1174530': 595, '2311775': 596, '1674787': 597, '599809': 598, '1986034': 599, '1079613': 600, '970561': 601, '1622407': 602, '2610157': 603, '436275': 604, '706076': 605, '170551': 606, '703585': 607, '1069489': 608, '155159': 609, '1576726': 610, '1993442': 611, '712297': 612, '1079115': 613, '1640419': 614, '1254903': 615, '649770': 616, '2047141': 617, '1955703': 618, '2530263': 619, '1062600': 620, '2158968': 621, '752670': 622, '224373': 623, '1508976': 624, '486152': 625, '574834': 626, '1089873': 627, '2057529': 628, '896114': 629, '2052334': 630, '2094599': 631, '1309167': 632, '2207031': 633, '457326': 634, '719022': 635, '1548770': 636, '1176779': 637, '1078333': 638, '167848': 639, '2360747': 640, '1713267': 641, '1764923': 642, '897692': 643, '2066490': 644, '1018379': 645, '2130859': 646, '719294': 647, '1221563': 648, '2563771': 649, '2425137': 650, '1821855': 651, '2492268': 652, '2333987': 653, '1492392': 654, '662124': 655, '808847': 656, '2329196': 657, '1068988': 658, '984085': 659, '1331645': 660, '1778955': 661, '1763653': 662, '2182722': 663, '2341509': 664, '707630': 665, '182134': 666, '1150025': 667, '522534': 668, '623645': 669, '2598647': 670, '771467': 671, '2043149': 672, '1362105': 673, '1165121': 674, '2186920': 675, '20461': 676, '1717979': 677, '272854': 678, '85960': 679, '469713': 680, '1030733': 681, '2328511': 682, '541557': 683, '1874320': 684, '234606': 685, '922511': 686, '371492': 687, '89994': 688, '446469': 689, '2292140': 690, '185110': 691, '552107': 692, '1292165': 693, '2589332': 694, '306466': 695, '1296636': 696, '1784969': 697, '1202664': 698, '1102887': 699, '1952860': 700, '1684232': 701, '2089599': 702, '1527706': 703, '1065779': 704, '2315626': 705, '558537': 706, '1467298': 707, '2530840': 708, '1299368': 709, '268719': 710, '320177': 711, '2128825': 712, '1330841': 713, '1644686': 714, '853893': 715, '2128207': 716, '1797525': 717, '531175': 718, '2440601': 719, '869468': 720, '443189': 721, '2495256': 722, '1141912': 723, '426460': 724, '1543837': 725, '202558': 726, '1394988': 727, '1301132': 728, '830855': 729, '2571175': 730, '182445': 731, '1072699': 732, '1994646': 733, '520996': 734, '2630797': 735, '1626727': 736, '1856091': 737, '356035': 738, '2342120': 739, '8095': 740, '1014412': 741, '1667288': 742, '1753259': 743, '1664193': 744, '357482': 745, '314790': 746, '1477732': 747, '97578': 748, '165377': 749, '1310819': 750, '1623349': 751, '1084999': 752, '497457': 753, '814304': 754, '1580943': 755, '1621023': 756, '825002': 757, '912093': 758, '1741303': 759, '1806018': 760, '2120680': 761, '675390': 762, '1769834': 763, '1026860': 764, '2589856': 765, '1822241': 766, '1712684': 767, '1042055': 768, '1319661': 769, '576085': 770, '1517061': 771, '1741290': 772, '1596876': 773, '2086784': 774, '1009409': 775, '2643193': 776, '1009182': 777, '1794245': 778, '638657': 779, '1744528': 780, '2321519': 781, '2496492': 782, '348661': 783, '2079636': 784, '1774181': 785, '2234535': 786, '46716': 787, '1058842': 788, '77182': 789, '190249': 790, '1239283': 791, '2287580': 792, '1077044': 793, '563585': 794, '1141511': 795, '1789010': 796, '1200479': 797, '53243': 798, '2209618': 799, '25483': 800, '1866094': 801, '1737191': 802, '2623119': 803, '1244204': 804, '2617709': 805, '1546584': 806, '417641': 807, '1449738': 808, '926578': 809, '764785': 810, '7599': 811, '816504': 812, '1760132': 813, '2319365': 814, '675056': 815, '1709186': 816, '1701632': 817, '267841': 818, '2246923': 819, '1431808': 820, '745235': 821, '578455': 822, '789548': 823, '2229445': 824, '244630': 825, '410857': 826, '2217698': 827, '128040': 828, '486048': 829, '1114342': 830, '1098265': 831, '838652': 832, '551208': 833, '583875': 834, '1192958': 835, '543515': 836, '1639792': 837, '523688': 838, '203369': 839, '1207465': 840, '934693': 841, '2598485': 842, '704223': 843, '893014': 844, '2167214': 845, '591064': 846, '1147251': 847, '1533443': 848, '1788794': 849, '1854220': 850, '1490775': 851, '1042938': 852, '1486253': 853, '1747574': 854, '1014141': 855, '1625122': 856, '740929': 857, '829701': 858, '2534306': 859, '263823': 860, '46036': 861, '2588605': 862, '684587': 863, '2296193': 864, '542006': 865, '436424': 866, '486399': 867, '1582107': 868, '2451667': 869, '1738198': 870, '1367589': 871, '151416': 872, '627312': 873, '700083': 874, '1225682': 875, '522065': 876, '1676322': 877, '1760492': 878, '2490170': 879, '1277134': 880, '1711505': 881, '755584': 882, '1235306': 883, '1939384': 884, '2041854': 885, '1794311': 886, '156821': 887, '1942575': 888, '1247473': 889, '2015481': 890, '374380': 891, '2905': 892, '2006360': 893, '1226991': 894, '1880039': 895, '1223912': 896, '332698': 897, '1599161': 898, '1165305': 899, '1744426': 900, '2269901': 901, '957170': 902, '866475': 903, '1800405': 904, '2138987': 905, '2481859': 906, '2506724': 907, '1376322': 908, '434171': 909, '555509': 910, '2086623': 911, '1360897': 912, '378579': 913, '490057': 914, '1710762': 915, '645838': 916, '1406873': 917, '2083367': 918, '1673072': 919, '2645984': 920, '1137886': 921, '48607': 922, '209494': 923, '2489545': 924, '1454142': 925, '1083531': 926, '2011398': 927, '1526365': 928, '1451183': 929, '1574825': 930, '298298': 931, '1874239': 932, '1983493': 933, '336847': 934, '1056998': 935, '1771587': 936, '516110': 937, '2346240': 938, '749593': 939, '1712855': 940, '2637948': 941, '298221': 942, '159159': 943, '2154287': 944, '386418': 945, '880178': 946, '1867761': 947, '1731543': 948, '792568': 949, '208435': 950, '1242432': 951, '2573015': 952, '393740': 953, '2045846': 954, '1927703': 955, '1106518': 956, '478176': 957, '1850680': 958, '1372889': 959, '7576': 960, '1767523': 961, '590368': 962, '838584': 963, '382138': 964, '2555262': 965, '2469324': 966, '836261': 967, '1142130': 968, '790471': 969, '2079909': 970, '1531781': 971, '1558476': 972, '1026246': 973, '2491226': 974, '234275': 975, '810636': 976, '2439493': 977, '1879665': 978, '377907': 979, '280621': 980, '1118587': 981, '1218400': 982, '2370879': 983, '486750': 984, '2076208': 985, '1476006': 986, '719725': 987, '1613540': 988, '575464': 989, '1467955': 990, '2029858': 991, '930604': 992, '2509644': 993, '2362591': 994, '301086': 995, '1667739': 996, '1491763': 997, '1758289': 998, '318939': 999, '147386': 1000, '1122030': 1001, '980771': 1002, '879760': 1003, '1976585': 1004, '1587492': 1005, '2347771': 1006, '826696': 1007, '2548832': 1008, '1602153': 1009, '631874': 1010, '1457139': 1011, '1309057': 1012, '2182671': 1013, '936373': 1014, '896636': 1015, '294112': 1016, '911384': 1017, '1928597': 1018, '987785': 1019, '234141': 1020, '2173717': 1021, '2436179': 1022, '113774': 1023, '290182': 1024, '1894544': 1025, '2320697': 1026, '2405503': 1027, '1516350': 1028, '809955': 1029, '260810': 1030, '111824': 1031, '245369': 1032, '836435': 1033, '352258': 1034, '1047368': 1035, '1096854': 1036, '1976520': 1037, '367328': 1038, '774602': 1039, '2080458': 1040, '1073910': 1041, '10016': 1042, '1876520': 1043, '2135285': 1044, '628120': 1045, '2641580': 1046, '2490731': 1047, '2426928': 1048, '480604': 1049, '997467': 1050, '2376328': 1051, '1207170': 1052, '844526': 1053, '520740': 1054, '1918316': 1055, '1706645': 1056, '349572': 1057, '381828': 1058, '814951': 1059, '2178278': 1060, '2438449': 1061, '2440242': 1062, '1563245': 1063, '2634028': 1064, '1495111': 1065, '1512037': 1066, '1909216': 1067, '1232164': 1068, '1574597': 1069, '1492122': 1070, '657364': 1071, '71743': 1072, '2232693': 1073, '2496042': 1074, '1265763': 1075, '838552': 1076, '887059': 1077, '2338019': 1078, '2352698': 1079, '380878': 1080, '1297031': 1081, '1568774': 1082, '1984086': 1083, '1722514': 1084, '314418': 1085, '2147779': 1086, '1244123': 1087, '755340': 1088, '780444': 1089, '2618990': 1090, '1691893': 1091, '1266708': 1092, '218199': 1093, '1074378': 1094, '1133199': 1095, '833276': 1096, '2329026': 1097, '1258971': 1098, '952063': 1099, '1545940': 1100, '1035326': 1101, '679412': 1102, '333573': 1103, '255229': 1104, '735636': 1105, '174783': 1106, '203738': 1107, '1843168': 1108, '700005': 1109, '2233293': 1110, '2299152': 1111, '1339156': 1112, '1120497': 1113, '426301': 1114, '323101': 1115, '674323': 1116, '754161': 1117, '1522119': 1118, '1709384': 1119, '596267': 1120, '940310': 1121, '228978': 1122, '1340377': 1123, '1953636': 1124, '2570542': 1125, '2448660': 1126, '2537543': 1127, '2092076': 1128, '2145206': 1129, '639089': 1130, '35580': 1131, '780334': 1132, '1464750': 1133, '1892467': 1134, '409213': 1135, '1940324': 1136, '1308886': 1137, '699988': 1138, '29185': 1139, '491329': 1140, '432949': 1141, '2536450': 1142, '2286189': 1143, '1347912': 1144, '377808': 1145, '1877128': 1146, '1486878': 1147, '557502': 1148, '1649775': 1149, '2634074': 1150, '1310542': 1151, '622830': 1152, '137594': 1153, '556619': 1154, '2583580': 1155, '138106': 1156, '781151': 1157, '1798943': 1158, '954228': 1159, '6629': 1160, '1610435': 1161, '2110321': 1162, '244213': 1163, '314718': 1164, '1213178': 1165, '582829': 1166, '2605003': 1167, '1951144': 1168, '1998055': 1169, '196027': 1170, '345186': 1171, '2329800': 1172, '474631': 1173, '2103314': 1174, '2629127': 1175, '907097': 1176, '378857': 1177, '2060522': 1178, '1072193': 1179, '1054695': 1180, '1037182': 1181, '1888574': 1182, '1769985': 1183, '1476383': 1184, '1830096': 1185, '1594913': 1186, '1630967': 1187, '1460561': 1188, '792808': 1189, '564610': 1190, '1199611': 1191, '217747': 1192, '951329': 1193, '341806': 1194, '1794366': 1195, '616173': 1196, '2115145': 1197, '2387707': 1198, '1950890': 1199, '654022': 1200, '649017': 1201, '584352': 1202, '525597': 1203, '645373': 1204, '2269029': 1205, '2333763': 1206, '552639': 1207, '2534367': 1208, '210117': 1209, '355078': 1210, '2563546': 1211, '2434480': 1212, '1589197': 1213, '896927': 1214, '2541385': 1215, '93769': 1216, '2470021': 1217, '1456277': 1218, '1892183': 1219, '1671155': 1220, '387916': 1221, '852193': 1222, '667231': 1223, '1307699': 1224, '103968': 1225, '49355': 1226, '1302968': 1227, '1470420': 1228, '1517327': 1229, '1344086': 1230, '1447141': 1231, '1020688': 1232, '1821474': 1233, '1969945': 1234, '2648465': 1235, '702403': 1236, '1807199': 1237, '332300': 1238, '2083878': 1239, '1767388': 1240, '924960': 1241, '1889176': 1242, '493587': 1243, '2098138': 1244, '14690': 1245, '1502539': 1246, '2197243': 1247, '1646405': 1248, '757456': 1249, '832536': 1250, '1372201': 1251, '1246165': 1252, '1130133': 1253, '2073563': 1254, '1693179': 1255, '137602': 1256, '1751371': 1257, '124237': 1258, '961513': 1259, '923703': 1260, '2147545': 1261, '1007577': 1262, '2346006': 1263, '619705': 1264, '2438440': 1265, '2383871': 1266, '404652': 1267, '831346': 1268, '2034933': 1269, '1174162': 1270, '2324305': 1271, '95300': 1272, '1591085': 1273, '200177': 1274, '2516786': 1275, '278056': 1276, '1001928': 1277, '1502317': 1278, '2400584': 1279, '1832780': 1280, '1116987': 1281, '1318976': 1282, '54255': 1283, '156622': 1284, '2407926': 1285, '256796': 1286, '567909': 1287, '1398918': 1288, '408998': 1289, '519520': 1290, '1521272': 1291, '240748': 1292, '1846106': 1293, '2186938': 1294, '2171103': 1295, '1129687': 1296, '880635': 1297, '1794745': 1298, '1608066': 1299, '922231': 1300, '637185': 1301, '1295700': 1302, '1694423': 1303, '1771053': 1304, '941970': 1305, '970433': 1306, '1151711': 1307, '395098': 1308, '1710658': 1309, '1822496': 1310, '323253': 1311, '2408399': 1312, '504620': 1313, '387418': 1314, '81478': 1315, '2263748': 1316, '2584690': 1317, '306664': 1318, '955706': 1319, '1618112': 1320, '2593347': 1321, '11043': 1322, '554840': 1323, '1681133': 1324, '1857822': 1325, '2336981': 1326, '2296610': 1327, '2004371': 1328, '190474': 1329, '1337228': 1330, '406464': 1331, '606832': 1332, '2469970': 1333, '1036336': 1334, '175902': 1335, '2388555': 1336, '2082270': 1337, '1822020': 1338, '1385728': 1339, '2535238': 1340, '1295424': 1341, '2513873': 1342, '1335591': 1343, '1782465': 1344, '776187': 1345, '1079448': 1346, '1580437': 1347, '995154': 1348, '1997103': 1349, '543825': 1350, '434567': 1351, '706264': 1352, '2057604': 1353, '1462488': 1354, '524869': 1355, '1048939': 1356, '2432658': 1357, '99400': 1358, '2273448': 1359, '1698636': 1360, '340849': 1361, '370097': 1362, '1349907': 1363, '1292216': 1364, '223043': 1365, '1274870': 1366, '1734962': 1367, '637266': 1368, '838669': 1369, '400876': 1370, '530670': 1371, '751283': 1372, '35224': 1373, '1924500': 1374, '754724': 1375, '1461435': 1376, '7730': 1377, '249933': 1378, '2219187': 1379, '2077104': 1380, '382633': 1381, '2515643': 1382, '1589963': 1383, '617786': 1384, '1520904': 1385, '1765512': 1386, '1932832': 1387, '417247': 1388, '317429': 1389, '422879': 1390, '883478': 1391, '1809784': 1392, '1218225': 1393, '1842150': 1394, '991911': 1395, '1233335': 1396, '425238': 1397, '995939': 1398, '2098983': 1399, '196182': 1400, '235860': 1401, '1537898': 1402, '1189371': 1403, '1515591': 1404, '1252307': 1405, '962487': 1406, '242098': 1407, '805190': 1408, '904015': 1409, '2288496': 1410, '567573': 1411, '430318': 1412, '1443417': 1413, '1384344': 1414, '1370787': 1415, '2540698': 1416, '2171679': 1417, '380154': 1418, '1002249': 1419, '2301393': 1420, '646392': 1421, '120379': 1422, '530000': 1423, '671896': 1424, '2174688': 1425, '2584980': 1426, '169980': 1427, '463102': 1428, '61731': 1429, '2217557': 1430, '694422': 1431, '1327781': 1432, '2118461': 1433, '1443495': 1434, '1629574': 1435, '2523435': 1436, '1371337': 1437, '1497241': 1438, '1533807': 1439, '2420785': 1440, '137943': 1441, '1349711': 1442, '1318721': 1443, '1520052': 1444, '890675': 1445, '2114400': 1446, '635070': 1447, '857778': 1448, '1882379': 1449, '2602174': 1450, '1278941': 1451, '2469788': 1452, '635808': 1453, '1086665': 1454, '1772215': 1455, '1522324': 1456, '380808': 1457, '977551': 1458, '281851': 1459, '1516909': 1460, '1439097': 1461, '1188167': 1462, '1293173': 1463, '2416775': 1464, '819621': 1465, '2090715': 1466, '578191': 1467, '2551705': 1468, '9399': 1469, '998862': 1470, '1949010': 1471, '958956': 1472, '1835795': 1473, '1551419': 1474, '942568': 1475, '1841692': 1476, '395176': 1477, '1119442': 1478, '1190655': 1479, '269474': 1480, '2451907': 1481, '1801528': 1482, '909432': 1483, '1872532': 1484, '2556758': 1485, '684108': 1486, '1373445': 1487, '1618191': 1488, '2505593': 1489, '1659472': 1490, '682963': 1491, '931327': 1492, '1858770': 1493, '1410175': 1494, '1119113': 1495, '182780': 1496, '199518': 1497, '101842': 1498, '1818865': 1499, '2132254': 1500, '867800': 1501, '1854658': 1502, '1026926': 1503, '584839': 1504, '648871': 1505, '1581834': 1506, '1113485': 1507, '1791124': 1508, '250091': 1509, '2396772': 1510, '539189': 1511, '141745': 1512, '1503267': 1513, '1631334': 1514, '1025699': 1515, '771809': 1516, '2070798': 1517, '397948': 1518, '194528': 1519, '846314': 1520, '1006739': 1521, '2433649': 1522, '1034714': 1523, '1409104': 1524, '2431452': 1525, '1951157': 1526, '1129897': 1527, '1547032': 1528, '2459804': 1529, '1057021': 1530, '51247': 1531, '2165875': 1532, '2119716': 1533, '305604': 1534, '811104': 1535, '76023': 1536, '967163': 1537, '2510551': 1538, '1323861': 1539, '2473448': 1540, '2363390': 1541, '2047888': 1542, '343712': 1543, '154669': 1544, '924656': 1545, '319058': 1546, '758634': 1547, '84208': 1548, '1176800': 1549, '2042756': 1550, '705166': 1551, '1241060': 1552, '1049467': 1553, '2055243': 1554, '2632207': 1555, '1143911': 1556, '222993': 1557, '183007': 1558, '550309': 1559, '351559': 1560, '391850': 1561, '1963686': 1562, '1925957': 1563, '1652623': 1564, '527891': 1565, '698147': 1566, '844533': 1567, '2330735': 1568, '1997020': 1569, '1861074': 1570, '2389750': 1571, '2601604': 1572, '579352': 1573, '359255': 1574, '1799090': 1575, '2398368': 1576, '531010': 1577, '1921815': 1578, '2647197': 1579, '139297': 1580, '303002': 1581, '2197773': 1582, '1095815': 1583, '747550': 1584, '1704311': 1585, '1827937': 1586, '956739': 1587, '156183': 1588, '19106': 1589, '130159': 1590, '1928445': 1591, '1268171': 1592, '431646': 1593, '57347': 1594, '468079': 1595, '1084964': 1596, '236160': 1597, '2624128': 1598, '317325': 1599, '2356622': 1600, '1074260': 1601, '486644': 1602, '42064': 1603, '903579': 1604, '1887958': 1605, '2201715': 1606, '641364': 1607, '437485': 1608, '555136': 1609, '2577867': 1610, '1969285': 1611, '885087': 1612, '863302': 1613, '593949': 1614, '1480900': 1615, '1102173': 1616, '243940': 1617, '2076738': 1618, '260373': 1619, '149511': 1620, '1432623': 1621, '165288': 1622, '1592822': 1623, '1360042': 1624, '2021995': 1625, '977533': 1626, '2090127': 1627, '507603': 1628, '44434': 1629, '515114': 1630, '557167': 1631, '1389136': 1632, '2235414': 1633, '1298511': 1634, '1432772': 1635, '2576537': 1636, '136867': 1637, '1352747': 1638, '1688256': 1639, '595284': 1640, '1902621': 1641, '2474887': 1642, '531396': 1643, '522740': 1644, '868723': 1645, '2236144': 1646, '513933': 1647, '751145': 1648, '466778': 1649, '266289': 1650, '2075828': 1651, '1834123': 1652, '1429738': 1653, '796682': 1654, '123846': 1655, '2649267': 1656, '2510970': 1657, '41422': 1658, '1986937': 1659, '922812': 1660, '366901': 1661, '826270': 1662, '1607300': 1663, '1542628': 1664, '2024102': 1665, '461990': 1666, '2537473': 1667, '2556321': 1668, '609398': 1669, '847027': 1670, '1288336': 1671, '1034831': 1672, '1629456': 1673, '334643': 1674, '1617268': 1675, '1774623': 1676, '1760730': 1677, '160977': 1678, '2185534': 1679, '2642466': 1680, '1288835': 1681, '735560': 1682, '1327840': 1683, '748777': 1684, '2090313': 1685, '2344995': 1686, '1773264': 1687, '1761905': 1688, '1777474': 1689, '1888899': 1690, '921528': 1691, '1696775': 1692, '2211440': 1693, '901269': 1694, '1172232': 1695, '1320402': 1696, '1014098': 1697, '2220239': 1698, '1668044': 1699, '765860': 1700, '1066481': 1701, '1598950': 1702, '157357': 1703, '759737': 1704, '873713': 1705, '1397843': 1706, '254789': 1707, '1675194': 1708, '1534317': 1709, '2606835': 1710, '1375573': 1711, '2312349': 1712, '2237907': 1713, '1151752': 1714, '1712923': 1715, '640743': 1716, '872221': 1717, '1011386': 1718, '804602': 1719, '185347': 1720, '13432': 1721, '1376671': 1722, '1372678': 1723, '1852040': 1724, '304879': 1725, '1645904': 1726, '1257103': 1727, '1771242': 1728, '1116907': 1729, '2444362': 1730, '306569': 1731, '1036836': 1732, '626531': 1733, '150784': 1734, '826184': 1735, '247234': 1736, '1107588': 1737, '1966321': 1738, '2519181': 1739, '2514777': 1740, '447293': 1741, '1904865': 1742, '2171089': 1743, '35511': 1744, '680132': 1745, '19573': 1746, '1156852': 1747, '252119': 1748, '1188639': 1749, '1618291': 1750, '2633797': 1751, '2204299': 1752, '1563935': 1753, '432259': 1754, '844028': 1755, '17451': 1756, '112449': 1757, '633235': 1758, '391799': 1759, '1138496': 1760, '664683': 1761, '387633': 1762, '2488350': 1763, '1682851': 1764, '603277': 1765, '897867': 1766, '829401': 1767, '1806446': 1768, '2591003': 1769, '1509078': 1770, '629227': 1771, '1245709': 1772, '251043': 1773, '1207218': 1774, '2106009': 1775, '2153742': 1776, '2290352': 1777, '678911': 1778, '2035541': 1779, '1864909': 1780, '537270': 1781, '2259483': 1782, '1031610': 1783, '1192843': 1784, '640018': 1785, '198655': 1786, '1010489': 1787, '1575181': 1788, '1189426': 1789, '863309': 1790, '939439': 1791, '1347916': 1792, '149489': 1793, '2509293': 1794, '2242238': 1795, '1417406': 1796, '237672': 1797, '1998723': 1798, '962564': 1799, '1048069': 1800, '426362': 1801, '1710306': 1802, '1161915': 1803, '62285': 1804, '115682': 1805, '834412': 1806, '1766524': 1807, '2299661': 1808, '216534': 1809, '1297347': 1810, '2203889': 1811, '104544': 1812, '1344228': 1813, '2385481': 1814, '363845': 1815, '1599873': 1816, '779635': 1817, '946380': 1818, '51523': 1819, '2095922': 1820, '1930826': 1821, '428558': 1822, '2430483': 1823, '1496080': 1824, '1785838': 1825, '1600684': 1826, '2295594': 1827, '1288744': 1828, '1298187': 1829, '2601377': 1830, '830181': 1831, '2645828': 1832, '586456': 1833, '1416034': 1834, '1099404': 1835, '2087505': 1836, '1545441': 1837, '1446775': 1838, '2591198': 1839, '184705': 1840, '300136': 1841, '1685077': 1842, '2415196': 1843, '360005': 1844, '1681124': 1845, '2263064': 1846, '1686932': 1847, '1109700': 1848, '2486149': 1849, '2488357': 1850, '1520710': 1851, '43530': 1852, '1289515': 1853, '994370': 1854, '1564058': 1855, '1564191': 1856, '921658': 1857, '2010144': 1858, '2549238': 1859, '414791': 1860, '998185': 1861, '2264426': 1862, '446342': 1863, '1453267': 1864, '1253619': 1865, '661672': 1866, '255750': 1867, '897304': 1868, '578237': 1869, '128989': 1870, '2439370': 1871, '42630': 1872, '2623852': 1873, '350686': 1874, '27318': 1875, '811489': 1876, '1245018': 1877, '124699': 1878, '757767': 1879, '375046': 1880, '332079': 1881, '1908103': 1882, '2600868': 1883, '788395': 1884, '913814': 1885, '1718159': 1886, '2036610': 1887, '645522': 1888, '1765896': 1889, '731988': 1890, '1542510': 1891, '2229322': 1892, '979363': 1893, '2125852': 1894, '163288': 1895, '601317': 1896, '2156630': 1897, '1561964': 1898, '2364620': 1899, '1683198': 1900, '1618998': 1901, '1430920': 1902, '1743210': 1903, '361886': 1904, '424513': 1905, '191902': 1906, '2524933': 1907, '1123175': 1908, '811530': 1909, '2268800': 1910, '23354': 1911, '288971': 1912, '397923': 1913, '2056368': 1914, '1832599': 1915, '1838055': 1916, '2005241': 1917, '104721': 1918, '788643': 1919, '2119724': 1920, '694599': 1921, '87360': 1922, '2038926': 1923, '1269998': 1924, '2260281': 1925, '201254': 1926, '74320': 1927, '306199': 1928, '793754': 1929, '520283': 1930, '2371144': 1931, '347686': 1932, '1725155': 1933, '1216387': 1934, '2146536': 1935, '290700': 1936, '1512017': 1937, '2516156': 1938, '376576': 1939, '911304': 1940, '2240770': 1941, '1480734': 1942, '2362017': 1943, '682992': 1944, '530789': 1945, '1476054': 1946, '1273765': 1947, '328779': 1948, '853965': 1949, '802876': 1950, '1122804': 1951, '1592610': 1952, '458919': 1953, '1672204': 1954, '1636268': 1955, '1525786': 1956, '802944': 1957, '151666': 1958, '1856059': 1959, '968162': 1960, '1609975': 1961, '130650': 1962, '1549483': 1963, '247446': 1964, '2305082': 1965, '936713': 1966, '617376': 1967, '2318245': 1968, '841229': 1969, '1066571': 1970, '1683746': 1971, '2387919': 1972, '1896561': 1973, '1482497': 1974, '1452283': 1975, '633861': 1976, '1292631': 1977, '113062': 1978, '654019': 1979, '1219323': 1980, '432130': 1981, '2432862': 1982, '844049': 1983, '2601024': 1984, '356157': 1985, '2299517': 1986, '1753346': 1987, '1232734': 1988, '1973951': 1989, '1974267': 1990, '311122': 1991, '2568178': 1992, '277223': 1993, '2376121': 1994, '581399': 1995, '2039201': 1996, '1241676': 1997, '1497891': 1998, '2411453': 1999, '1015930': 2000, '1116080': 2001, '829258': 2002, '1081292': 2003, '951798': 2004, '145719': 2005, '614585': 2006, '1399249': 2007, '657582': 2008, '966478': 2009, '2460583': 2010, '125765': 2011, '2176957': 2012, '863458': 2013, '1930587': 2014, '2097995': 2015, '1772131': 2016, '1542754': 2017, '121324': 2018, '1642259': 2019, '423270': 2020, '2053910': 2021, '488350': 2022, '1469211': 2023, '1265054': 2024, '374741': 2025, '2634607': 2026, '1809046': 2027, '2556455': 2028, '1244890': 2029, '2317703': 2030, '105982': 2031, '2239360': 2032, '2387369': 2033, '1645555': 2034, '1638551': 2035, '608234': 2036, '2400234': 2037, '409104': 2038, '1538173': 2039, '2561741': 2040, '2283320': 2041, '8815': 2042, '2155916': 2043, '285975': 2044, '1258770': 2045, '924316': 2046, '2050911': 2047, '2339348': 2048, '2487298': 2049, '2491997': 2050, '1197233': 2051, '2097608': 2052, '1589608': 2053, '1092521': 2054, '405513': 2055, '2452367': 2056, '1021356': 2057, '136477': 2058, '2117799': 2059, '467182': 2060, '1721623': 2061, '1277678': 2062, '1278577': 2063, '206356': 2064, '1886809': 2065, '1294425': 2066, '1155747': 2067, '167447': 2068, '2433610': 2069, '1681299': 2070, '1463040': 2071, '1818507': 2072, '465167': 2073, '1584985': 2074, '282936': 2075, '2131029': 2076, '2460974': 2077, '1613378': 2078, '569432': 2079, '2209212': 2080, '1167144': 2081, '1837202': 2082, '492291': 2083, '1682277': 2084, '936891': 2085, '2593441': 2086, '461075': 2087, '178860': 2088, '828444': 2089, '2088834': 2090, '1469098': 2091, '1154641': 2092, '1363756': 2093, '776411': 2094, '40563': 2095, '2577898': 2096, '332558': 2097, '270694': 2098, '136058': 2099, '2085932': 2100, '2168178': 2101, '561184': 2102, '2593535': 2103, '1370506': 2104, '1030857': 2105, '996448': 2106, '1640132': 2107, '2035212': 2108, '2204694': 2109, '2226028': 2110, '2183370': 2111, '2482384': 2112, '557143': 2113, '621932': 2114, '1714902': 2115, '1023176': 2116, '1742103': 2117, '341649': 2118, '376600': 2119, '479327': 2120, '1718527': 2121, '2023357': 2122, '814989': 2123, '2255251': 2124, '2484834': 2125, '2274004': 2126, '1644034': 2127, '2453089': 2128, '2142281': 2129, '633738': 2130, '643374': 2131, '1120757': 2132, '654283': 2133, '1099977': 2134, '1037705': 2135, '2006192': 2136, '722591': 2137, '326225': 2138, '235466': 2139, '160092': 2140, '1602783': 2141, '1217853': 2142, '856875': 2143, '1493593': 2144, '2561536': 2145, '1572273': 2146, '1984315': 2147, '996140': 2148, '916412': 2149, '349295': 2150, '1988192': 2151, '1530363': 2152, '1128809': 2153, '1112372': 2154, '1000779': 2155, '1702681': 2156, '2534061': 2157, '1738046': 2158, '10273': 2159, '201707': 2160, '60183': 2161, '2468821': 2162, '715528': 2163, '648906': 2164, '855860': 2165, '386509': 2166, '1521914': 2167, '2174723': 2168, '327577': 2169, '1348610': 2170, '1692249': 2171, '848193': 2172, '231721': 2173, '984525': 2174, '447516': 2175, '1328243': 2176, '1380707': 2177, '1299887': 2178, '1243274': 2179, '1780005': 2180, '376013': 2181, '655601': 2182, '126216': 2183, '1706987': 2184, '1553659': 2185, '1425393': 2186, '2398923': 2187, '1842201': 2188, '1170335': 2189, '2120723': 2190, '1991038': 2191, '248435': 2192, '997813': 2193, '1367807': 2194, '1076140': 2195, '1244059': 2196, '2278766': 2197, '1492505': 2198, '1213587': 2199, '1814661': 2200, '2157783': 2201, '1954297': 2202, '1935714': 2203, '458766': 2204, '439926': 2205, '1367101': 2206, '2068218': 2207, '2070031': 2208, '1631168': 2209, '2148958': 2210, '538775': 2211, '887893': 2212, '2013867': 2213, '995925': 2214, '2082864': 2215, '1777952': 2216, '2637979': 2217, '1262782': 2218, '2542194': 2219, '1630419': 2220, '505171': 2221, '1825773': 2222, '835881': 2223, '982689': 2224, '1176462': 2225, '1428871': 2226, '2115337': 2227, '1036776': 2228, '1983891': 2229, '2615549': 2230, '2588755': 2231, '282427': 2232, '1341033': 2233, '1755534': 2234, '2406602': 2235, '288773': 2236, '847460': 2237, '2050233': 2238, '6504': 2239, '1195125': 2240, '697054': 2241, '1846515': 2242, '1962947': 2243, '1120026': 2244, '1719554': 2245, '1880009': 2246, '2530071': 2247, '2244849': 2248, '1716938': 2249, '618931': 2250, '222274': 2251, '353820': 2252, '1263008': 2253, '1663717': 2254, '1667019': 2255, '196494': 2256, '1708369': 2257, '386467': 2258, '1894853': 2259, '1101454': 2260, '2353376': 2261, '1811217': 2262, '1309505': 2263, '356103': 2264, '256656': 2265, '742107': 2266, '538221': 2267, '1096082': 2268, '168577': 2269, '2053064': 2270, '1480907': 2271, '700373': 2272, '2617574': 2273, '2605284': 2274, '49142': 2275, '1553153': 2276, '1290148': 2277, '741248': 2278, '1258560': 2279, '1567202': 2280, '664230': 2281, '2217808': 2282, '2071383': 2283, '2067462': 2284, '2610037': 2285, '1249577': 2286, '935732': 2287, '2519299': 2288, '1661583': 2289, '1053115': 2290, '249471': 2291, '1093671': 2292, '403915': 2293, '828349': 2294, '1071438': 2295, '369646': 2296, '1970922': 2297, '1960059': 2298, '468579': 2299, '232955': 2300, '1847393': 2301, '1385788': 2302, '1775922': 2303, '1558683': 2304, '1739440': 2305, '1983102': 2306, '2184619': 2307, '1333152': 2308, '1221897': 2309, '1009885': 2310, '2476251': 2311, '1769993': 2312, '821438': 2313, '1401233': 2314, '1230628': 2315, '1488926': 2316, '1174910': 2317, '59938': 2318, '1155319': 2319, '1766053': 2320, '1310250': 2321, '2509048': 2322, '334051': 2323, '2078245': 2324, '792277': 2325, '937813': 2326, '1322178': 2327, '1120985': 2328, '1673185': 2329, '1132650': 2330, '1509725': 2331, '2427512': 2332, '1095497': 2333, '2355382': 2334, '2400924': 2335, '1374905': 2336, '1244268': 2337, '1248353': 2338, '565161': 2339, '330265': 2340, '1173570': 2341, '1315249': 2342, '1459848': 2343, '1353855': 2344, '29236': 2345, '2319026': 2346, '235253': 2347, '1589111': 2348, '27753': 2349, '998010': 2350, '2138909': 2351, '2592723': 2352, '1485835': 2353, '795473': 2354, '1745107': 2355, '906307': 2356, '1093011': 2357, '1884565': 2358, '919245': 2359, '2284214': 2360, '1438031': 2361, '632347': 2362, '86379': 2363, '1315389': 2364, '2466211': 2365, '450731': 2366, '1781536': 2367, '2444087': 2368, '572481': 2369, '1120721': 2370, '1311888': 2371, '374474': 2372, '865622': 2373, '1689050': 2374, '965381': 2375, '2466682': 2376, '2550431': 2377, '2595888': 2378, '975522': 2379, '935060': 2380, '1948369': 2381, '1238395': 2382, '860626': 2383, '2082805': 2384, '1412189': 2385, '681188': 2386, '2435350': 2387, '1328723': 2388, '1014889': 2389, '2512235': 2390, '1973425': 2391, '2433768': 2392, '1605580': 2393, '308308': 2394, '621880': 2395, '753195': 2396, '2491645': 2397, '581517': 2398, '679414': 2399, '1693122': 2400, '1110296': 2401, '632028': 2402, '127676': 2403, '2159290': 2404, '1605430': 2405, '910295': 2406, '931316': 2407, '639257': 2408, '2036971': 2409, '1704412': 2410, '1649582': 2411, '817916': 2412, '259348': 2413, '2244891': 2414, '1579906': 2415, '661731': 2416, '2109208': 2417, '1162805': 2418, '1825620': 2419, '2105288': 2420, '1455446': 2421, '1935323': 2422, '2083947': 2423, '2125582': 2424, '1539849': 2425, '1810414': 2426, '2507559': 2427, '415762': 2428, '349331': 2429, '1206843': 2430, '607621': 2431, '2005741': 2432, '2198123': 2433, '1808985': 2434, '2534348': 2435, '2266166': 2436, '1781102': 2437, '1248029': 2438, '48915': 2439, '2639583': 2440, '1997656': 2441, '297901': 2442, '1455459': 2443, '971977': 2444, '1639014': 2445, '12812': 2446, '1130461': 2447, '970684': 2448, '2258880': 2449, '1532058': 2450, '1624075': 2451, '1847522': 2452, '1111748': 2453, '1481728': 2454, '386947': 2455, '1448522': 2456, '1332107': 2457, '1658010': 2458, '268978': 2459, '669523': 2460, '294826': 2461, '148670': 2462, '656323': 2463, '2581218': 2464, '1937187': 2465, '1973332': 2466, '1310425': 2467, '807327': 2468, '2576875': 2469, '933642': 2470, '2046268': 2471, '2352131': 2472, '497986': 2473, '716577': 2474, '64765': 2475, '741852': 2476, '1623353': 2477, '1254683': 2478, '2257503': 2479, '993550': 2480, '291676': 2481, '1061195': 2482, '1364103': 2483, '633647': 2484, '428168': 2485, '1775740': 2486, '1552084': 2487, '1276711': 2488, '1495055': 2489, '2526173': 2490, '1721134': 2491, '2553056': 2492, '1704130': 2493, '2360767': 2494, '2392770': 2495, '1973114': 2496, '1214824': 2497, '2485865': 2498, '1283346': 2499, '2217043': 2500, '2023084': 2501, '1609042': 2502, '1066819': 2503, '62691': 2504, '2300174': 2505, '430091': 2506, '1217933': 2507, '2253129': 2508, '2228818': 2509, '1279851': 2510, '279960': 2511, '2343970': 2512, '428831': 2513, '2339135': 2514, '1484157': 2515, '1581343': 2516, '2526414': 2517, '897732': 2518, '2042206': 2519, '505375': 2520, '97199': 2521, '2295235': 2522, '2382660': 2523, '200682': 2524, '1677588': 2525, '2302997': 2526, '391893': 2527, '401707': 2528, '2141136': 2529, '2577654': 2530, '972267': 2531, '803137': 2532, '551388': 2533, '1218030': 2534, '229617': 2535, '2331985': 2536, '467885': 2537, '2232579': 2538, '308307': 2539, '702085': 2540, '414604': 2541, '1970974': 2542, '376080': 2543, '277837': 2544, '83992': 2545, '1763788': 2546, '1832023': 2547, '1009033': 2548, '1906026': 2549, '2622042': 2550, '332619': 2551, '715542': 2552, '295398': 2553, '2169512': 2554, '88188': 2555, '1829617': 2556, '86288': 2557, '1195746': 2558, '652787': 2559, '1723385': 2560, '1471251': 2561, '1510380': 2562, '1785209': 2563, '2221806': 2564, '953110': 2565, '2390609': 2566, '1535401': 2567, '1744422': 2568, '831920': 2569, '286832': 2570, '1563727': 2571, '1737549': 2572, '350266': 2573, '2086999': 2574, '1534085': 2575, '298126': 2576, '2636960': 2577, '2532654': 2578, '1518269': 2579, '856992': 2580, '926462': 2581, '2181739': 2582, '850678': 2583, '1979497': 2584, '1338297': 2585, '1309838': 2586, '789969': 2587, '560944': 2588, '234672': 2589, '1789747': 2590, '1600015': 2591, '608648': 2592, '428610': 2593, '2412265': 2594, '819068': 2595, '1347033': 2596, '1364878': 2597, '2589669': 2598, '1007057': 2599, '1168424': 2600, '49585': 2601, '612786': 2602, '1547701': 2603, '964730': 2604, '2528590': 2605, '1756840': 2606, '1145636': 2607, '2205703': 2608, '889687': 2609, '2536362': 2610, '2056022': 2611, '1389990': 2612, '2055388': 2613, '1039555': 2614, '117386': 2615, '256278': 2616, '2227850': 2617, '1346326': 2618, '948733': 2619, '1014165': 2620, '109205': 2621, '634236': 2622, '1132514': 2623, '2390783': 2624, '1148389': 2625, '2535586': 2626, '37362': 2627, '587043': 2628, '1107303': 2629, '1627297': 2630, '1454488': 2631, '2157509': 2632, '175740': 2633, '728004': 2634, '1812275': 2635, '1812382': 2636, '2264371': 2637, '2387734': 2638, '138426': 2639, '202381': 2640, '470226': 2641, '1191617': 2642, '1662625': 2643, '1830763': 2644, '1708356': 2645, '1144942': 2646, '404654': 2647, '2315012': 2648, '2375713': 2649, '1642040': 2650, '1257450': 2651, '347276': 2652, '1889712': 2653, '1380302': 2654, '602149': 2655, '339547': 2656, '441579': 2657, '1006983': 2658, '328674': 2659, '668236': 2660, '591768': 2661, '226947': 2662, '2411840': 2663, '2212071': 2664, '1267783': 2665, '2237957': 2666, '1158424': 2667, '632664': 2668, '2487916': 2669, '165060': 2670, '2494005': 2671, '875723': 2672, '13843': 2673, '46650': 2674, '1718096': 2675, '2217779': 2676, '486822': 2677, '2466950': 2678, '1402813': 2679, '44516': 2680, '1272379': 2681, '168190': 2682, '284684': 2683, '2594016': 2684, '651230': 2685, '1125516': 2686, '1626829': 2687, '163205': 2688, '1611857': 2689, '127061': 2690, '839176': 2691, '170539': 2692, '1084538': 2693, '174350': 2694, '2386920': 2695, '1406633': 2696, '2245510': 2697, '909926': 2698, '1726438': 2699, '703959': 2700, '951578': 2701, '1509801': 2702, '2570079': 2703, '247660': 2704, '1481961': 2705, '2601112': 2706, '41701': 2707, '174615': 2708, '1704416': 2709, '1229269': 2710, '281216': 2711, '2303820': 2712, '2318617': 2713, '2307388': 2714, '439090': 2715, '689758': 2716, '687769': 2717, '2260472': 2718, '941600': 2719, '2033811': 2720, '258170': 2721, '2441383': 2722, '1059661': 2723, '1103178': 2724, '1430799': 2725, '312903': 2726, '382234': 2727, '1360421': 2728, '1782185': 2729, '80548': 2730, '545158': 2731, '1127876': 2732, '557562': 2733, '2570514': 2734, '1146551': 2735, '2574175': 2736, '1556831': 2737, '570686': 2738, '456445': 2739, '565700': 2740, '1835357': 2741, '1402149': 2742, '249029': 2743, '1262243': 2744, '2616401': 2745, '559114': 2746, '2105371': 2747, '1847613': 2748, '135215': 2749, '1059536': 2750, '1375880': 2751, '2248996': 2752, '1882992': 2753, '1732859': 2754, '2274312': 2755, '2280280': 2756, '1898804': 2757, '2331938': 2758, '268159': 2759, '1660783': 2760, '1636164': 2761, '1554430': 2762, '1013742': 2763, '420482': 2764, '392346': 2765, '16581': 2766, '1536171': 2767, '303948': 2768, '1325031': 2769, '1273979': 2770, '1139290': 2771, '2538248': 2772, '1300467': 2773, '2227804': 2774, '501428': 2775, '1940764': 2776, '2513621': 2777, '1724818': 2778, '2619756': 2779, '646323': 2780, '2156617': 2781, '1084484': 2782, '1187757': 2783, '759596': 2784, '2001119': 2785, '1915183': 2786, '276968': 2787, '984718': 2788, '2048686': 2789, '2513690': 2790, '1877934': 2791, '553787': 2792, '462011': 2793, '295520': 2794, '2456207': 2795, '1649070': 2796, '1890591': 2797, '1253634': 2798, '579707': 2799, '1004716': 2800, '2337681': 2801, '2420528': 2802, '1687095': 2803, '1507291': 2804, '920932': 2805, '2366001': 2806, '2330528': 2807, '1229656': 2808, '1520304': 2809, '2463846': 2810, '1208622': 2811, '1209220': 2812, '2181504': 2813, '1516678': 2814, '89853': 2815, '196113': 2816, '1919269': 2817, '378732': 2818, '1323236': 2819, '1266589': 2820, '1754338': 2821, '894519': 2822, '1121060': 2823, '761524': 2824, '271355': 2825, '10251': 2826, '417046': 2827, '415005': 2828, '912315': 2829, '1452396': 2830, '2206151': 2831, '592734': 2832, '1064665': 2833, '1562633': 2834, '1695436': 2835, '325844': 2836, '2632429': 2837, '991670': 2838, '1782115': 2839, '920724': 2840, '806605': 2841, '1061676': 2842, '2481504': 2843, '670416': 2844, '2411531': 2845, '952147': 2846, '2354764': 2847, '911745': 2848, '1226270': 2849, '270890': 2850, '2011043': 2851, '2167703': 2852, '2545523': 2853, '886671': 2854, '1630031': 2855, '2462935': 2856, '1405096': 2857, '2129174': 2858, '2631950': 2859, '1719966': 2860, '487031': 2861, '417597': 2862, '1668615': 2863, '2348786': 2864, '1899031': 2865, '2307786': 2866, '1829594': 2867, '1287575': 2868, '1990901': 2869, '1204018': 2870, '1202193': 2871, '1020730': 2872, '2002253': 2873, '1881746': 2874, '596255': 2875, '1977128': 2876, '1654594': 2877, '1047641': 2878, '441324': 2879, '2352972': 2880, '3321': 2881, '2604976': 2882, '349411': 2883, '349743': 2884, '1117198': 2885, '95194': 2886, '618392': 2887, '2583185': 2888, '78516': 2889, '979820': 2890, '1117923': 2891, '1333954': 2892, '2356911': 2893, '1158787': 2894, '2433426': 2895, '2306984': 2896, '1599561': 2897, '2573207': 2898, '2254922': 2899, '397607': 2900, '1599029': 2901, '954742': 2902, '2013478': 2903, '684531': 2904, '2106579': 2905, '1964531': 2906, '670794': 2907, '2536943': 2908, '794999': 2909, '288307': 2910, '371868': 2911, '2380973': 2912, '166345': 2913, '794215': 2914, '2119190': 2915, '316155': 2916, '1536492': 2917, '2609857': 2918, '832959': 2919, '512278': 2920, '1088988': 2921, '2255414': 2922, '720350': 2923, '2030287': 2924, '1582098': 2925, '1459059': 2926, '1439015': 2927, '1155253': 2928, '2634707': 2929, '1327480': 2930, '442963': 2931, '2508234': 2932, '2066475': 2933, '19117': 2934, '122057': 2935, '2289273': 2936, '2586558': 2937, '1777163': 2938, '2037693': 2939, '613805': 2940, '83756': 2941, '1759398': 2942, '1635582': 2943, '1081831': 2944, '2403601': 2945, '1787619': 2946, '1663467': 2947, '2528146': 2948, '1555558': 2949, '2218269': 2950, '376012': 2951, '756162': 2952, '1416190': 2953, '531748': 2954, '1119705': 2955, '478253': 2956, '2626507': 2957, '2602249': 2958, '1227773': 2959, '1617675': 2960, '2086265': 2961, '2455281': 2962, '2576843': 2963, '560579': 2964, '1453713': 2965, '2378918': 2966, '701678': 2967, '13266': 2968, '375726': 2969, '390912': 2970, '1578114': 2971, '1104884': 2972, '2018894': 2973, '785166': 2974, '2039673': 2975, '2251674': 2976, '763193': 2977, '927338': 2978, '1004390': 2979, '2215076': 2980, '924922': 2981, '1007809': 2982, '1236809': 2983, '1949178': 2984, '519545': 2985, '1165740': 2986, '1701322': 2987, '2051372': 2988, '1960381': 2989, '601778': 2990, '2557152': 2991, '2274199': 2992, '1894519': 2993, '152858': 2994, '1438269': 2995, '650227': 2996, '1546749': 2997, '199257': 2998, '1988873': 2999, '24344': 3000, '776389': 3001, '1220185': 3002, '823628': 3003, '289419': 3004, '232463': 3005, '578896': 3006, '2065684': 3007, '359063': 3008, '687010': 3009, '1911422': 3010, '2017214': 3011, '1139570': 3012, '1322292': 3013, '2587909': 3014, '1072312': 3015, '1638252': 3016, '2628763': 3017, '834612': 3018, '100712': 3019, '2455561': 3020, '2384454': 3021, '1704248': 3022, '1655237': 3023, '2485957': 3024, '1835142': 3025, '2592234': 3026, '439923': 3027, '2145961': 3028, '808435': 3029, '341468': 3030, '1460499': 3031, '1577480': 3032, '367933': 3033, '158785': 3034, '1840149': 3035, '2423473': 3036, '1730537': 3037, '1865216': 3038, '1515871': 3039, '953667': 3040, '1648342': 3041, '1189694': 3042, '178266': 3043, '846271': 3044, '990918': 3045, '874505': 3046, '1626200': 3047, '1761809': 3048, '1563698': 3049, '653361': 3050, '1816884': 3051, '2222874': 3052, '911828': 3053, '491531': 3054, '1648992': 3055, '1605513': 3056, '1551109': 3057, '594196': 3058, '1667659': 3059, '832661': 3060, '2096942': 3061, '2374004': 3062, '1493030': 3063, '788892': 3064, '1663295': 3065, '2487603': 3066, '1634324': 3067, '464504': 3068, '1878798': 3069, '1270901': 3070, '796122': 3071, '2213581': 3072, '1079408': 3073, '59178': 3074, '834267': 3075, '751141': 3076, '2266083': 3077, '2335061': 3078, '1625075': 3079, '2403533': 3080, '234639': 3081, '1757328': 3082, '409927': 3083, '1936582': 3084, '2143735': 3085, '1623333': 3086, '1624047': 3087, '1605715': 3088, '950078': 3089, '2556700': 3090, '1645455': 3091, '1600039': 3092, '921502': 3093, '1282507': 3094, '2523912': 3095, '2252343': 3096, '2598046': 3097, '301019': 3098, '618571': 3099, '1859573': 3100, '906871': 3101, '69368': 3102, '986794': 3103, '2150155': 3104, '1259374': 3105, '1718987': 3106, '348646': 3107, '2597973': 3108, '2374464': 3109, '1615548': 3110, '1376053': 3111, '694692': 3112, '2061176': 3113, '2577397': 3114, '486507': 3115, '1840584': 3116, '374238': 3117, '2482831': 3118, '285174': 3119, '1484825': 3120, '709542': 3121, '757828': 3122, '922922': 3123, '287566': 3124, '1436917': 3125, '826444': 3126, '431626': 3127, '831790': 3128, '1684416': 3129, '885929': 3130, '1692018': 3131, '1487011': 3132, '52540': 3133, '669340': 3134, '400440': 3135, '707563': 3136, '1808930': 3137, '689097': 3138, '1795110': 3139, '450423': 3140, '213750': 3141, '1553965': 3142, '553115': 3143, '1143068': 3144, '2050532': 3145, '837133': 3146, '2482502': 3147, '2521561': 3148, '742770': 3149, '609754': 3150, '874550': 3151, '1474282': 3152, '446078': 3153, '835473': 3154, '2059696': 3155, '1822751': 3156, '119691': 3157, '54325': 3158, '390729': 3159, '1153564': 3160, '1583994': 3161, '426942': 3162, '194631': 3163, '794657': 3164, '1387388': 3165, '2365049': 3166, '2223604': 3167, '920670': 3168, '936307': 3169, '1201678': 3170, '2198355': 3171, '1803438': 3172, '2293722': 3173, '298623': 3174, '2081461': 3175, '2032402': 3176, '2119135': 3177, '917355': 3178, '604856': 3179, '2289197': 3180, '439978': 3181, '417411': 3182, '1150035': 3183, '2112815': 3184, '2210360': 3185, '795446': 3186, '681961': 3187, '2420505': 3188, '214191': 3189, '275600': 3190, '208113': 3191, '1980603': 3192, '335572': 3193, '1970257': 3194, '928691': 3195, '1189139': 3196, '1652323': 3197, '10897': 3198, '1211787': 3199, '1135038': 3200, '2120543': 3201, '1384093': 3202, '1310071': 3203, '434101': 3204, '172118': 3205, '2089924': 3206, '1954061': 3207, '923084': 3208, '343252': 3209, '16287': 3210, '2576263': 3211, '1515242': 3212, '527843': 3213, '2126215': 3214, '1961980': 3215, '2233782': 3216, '2578120': 3217, '756209': 3218, '1881326': 3219, '2307943': 3220, '794738': 3221, '2367823': 3222, '306550': 3223, '1714874': 3224, '2561901': 3225, '1521868': 3226, '1932397': 3227, '662993': 3228, '43816': 3229, '1690399': 3230, '742710': 3231, '810392': 3232, '626090': 3233, '212867': 3234, '2410362': 3235, '2061241': 3236, '1808201': 3237, '732955': 3238, '414536': 3239, '1096568': 3240, '287408': 3241, '2258090': 3242, '2031645': 3243, '181549': 3244, '1838912': 3245, '2282510': 3246, '465497': 3247, '838612': 3248, '1905165': 3249, '1646964': 3250, '513501': 3251, '1660348': 3252, '1416204': 3253, '851874': 3254, '352167': 3255, '379350': 3256, '1163442': 3257, '1114387': 3258, '2199237': 3259, '1950023': 3260, '2120884': 3261, '1290092': 3262, '688455': 3263, '2243365': 3264, '1010964': 3265, '1864127': 3266, '1019190': 3267, '1584463': 3268, '2579734': 3269, '903666': 3270, '1106352': 3271, '57633': 3272, '333323': 3273, '1435822': 3274, '1435030': 3275, '1385044': 3276, '426397': 3277, '113535': 3278, '917559': 3279, '1706866': 3280, '1166912': 3281, '925414': 3282, '59913': 3283, '1035000': 3284, '769162': 3285, '1048199': 3286, '344861': 3287, '1859950': 3288, '819056': 3289, '2603460': 3290, '1215796': 3291, '1135480': 3292, '2504747': 3293, '2187053': 3294, '772009': 3295, '1079598': 3296, '477659': 3297, '240888': 3298, '2482256': 3299, '1515355': 3300, '525356': 3301, '2371105': 3302, '339616': 3303, '430715': 3304, '2136927': 3305, '541870': 3306, '2209835': 3307, '312299': 3308, '795105': 3309, '967442': 3310, '458143': 3311, '1194759': 3312, '2112383': 3313, '1489463': 3314, '1103080': 3315, '2305305': 3316, '983042': 3317, '2295922': 3318, '1400378': 3319, '1580159': 3320, '11796': 3321, '681435': 3322, '375770': 3323, '2526805': 3324, '505275': 3325, '2094877': 3326, '2160223': 3327, '2472682': 3328, '1498519': 3329, '673187': 3330, '1011250': 3331, '1227322': 3332, '688051': 3333, '2277540': 3334, '2512558': 3335, '2458647': 3336, '2446490': 3337, '2471978': 3338, '1707198': 3339, '290360': 3340, '57186': 3341, '740142': 3342, '1824061': 3343, '352620': 3344, '1596469': 3345, '1234163': 3346, '538677': 3347, '1702270': 3348, '2294332': 3349, '843971': 3350, '372743': 3351, '990851': 3352, '1116110': 3353, '2420828': 3354, '626377': 3355, '1830198': 3356, '2537089': 3357, '1421023': 3358, '187160': 3359, '1148409': 3360, '953170': 3361, '2000674': 3362, '181364': 3363, '2321416': 3364, '2332765': 3365, '906596': 3366, '515357': 3367, '1216843': 3368, '2215183': 3369, '1309827': 3370, '1932640': 3371, '1335559': 3372, '2143500': 3373, '1637683': 3374, '1696308': 3375, '20328': 3376, '672349': 3377, '1800377': 3378, '898511': 3379, '1125075': 3380, '1938992': 3381, '2516919': 3382, '1677862': 3383, '2322355': 3384, '585132': 3385, '1576723': 3386, '2602282': 3387, '988817': 3388, '2499884': 3389, '2228763': 3390, '1073396': 3391, '1640334': 3392, '383404': 3393, '67134': 3394, '867295': 3395, '2482428': 3396, '2627567': 3397, '208972': 3398, '271435': 3399, '826465': 3400, '776228': 3401, '747077': 3402, '169835': 3403, '2622129': 3404, '2051379': 3405, '2235104': 3406, '96831': 3407, '2000237': 3408, '1354742': 3409, '399170': 3410, '1583769': 3411, '1513550': 3412, '1434643': 3413, '1220431': 3414, '1225455': 3415, '2266421': 3416, '1106241': 3417, '844963': 3418, '1298173': 3419, '644088': 3420, '1279398': 3421, '824828': 3422, '720852': 3423, '1280761': 3424, '2553296': 3425, '1324057': 3426, '1577401': 3427, '1480821': 3428, '1073345': 3429, '1126697': 3430, '1201932': 3431, '1502195': 3432, '1819034': 3433, '1387522': 3434, '2318166': 3435, '2392339': 3436, '862596': 3437, '1163123': 3438, '935519': 3439, '2027967': 3440, '1306528': 3441, '1445547': 3442, '928262': 3443, '371897': 3444, '1671330': 3445, '2329139': 3446, '1393159': 3447, '1478657': 3448, '406375': 3449, '2022072': 3450, '2238574': 3451, '1693002': 3452, '2123994': 3453, '2152739': 3454, '256465': 3455, '1458854': 3456, '86275': 3457, '1428452': 3458, '518309': 3459, '2522960': 3460, '2072326': 3461, '771641': 3462, '412604': 3463, '2565354': 3464, '542323': 3465, '1110261': 3466, '2087298': 3467, '1371451': 3468, '2067849': 3469, '297682': 3470, '520374': 3471, '473748': 3472, '223526': 3473, '1641091': 3474, '783585': 3475, '347827': 3476, '1463153': 3477, '978881': 3478, '2018081': 3479, '35528': 3480, '900992': 3481, '319268': 3482, '284810': 3483, '937603': 3484, '1103410': 3485, '912433': 3486, '2481119': 3487, '2216856': 3488, '1769608': 3489, '2405169': 3490, '1342551': 3491, '70281': 3492, '2595820': 3493, '1052563': 3494, '1231605': 3495, '2358990': 3496, '2535512': 3497, '761458': 3498, '937001': 3499, '1603214': 3500, '1886379': 3501, '1627955': 3502, '2430062': 3503, '244266': 3504, '1769638': 3505, '17864': 3506, '1359432': 3507, '1221349': 3508, '444801': 3509, '297453': 3510, '2636781': 3511, '1108339': 3512, '894205': 3513, '427923': 3514, '1658662': 3515, '986993': 3516, '1519073': 3517, '599407': 3518, '803932': 3519, '1944012': 3520, '890310': 3521, '1690808': 3522, '2051278': 3523, '257923': 3524, '2570026': 3525, '1337153': 3526, '2012686': 3527, '116761': 3528, '2070937': 3529, '502429': 3530, '2181088': 3531, '2599223': 3532, '1580673': 3533, '2622076': 3534, '337793': 3535, '324475': 3536, '1928583': 3537, '1687975': 3538, '237175': 3539, '799300': 3540, '2342060': 3541, '461371': 3542, '1470123': 3543, '679947': 3544, '1054239': 3545, '122431': 3546, '2035310': 3547, '1433573': 3548, '560960': 3549, '2151793': 3550, '227799': 3551, '1341028': 3552, '2618819': 3553, '322009': 3554, '1349717': 3555, '1823645': 3556, '1739082': 3557, '1251910': 3558, '2630337': 3559, '1375808': 3560, '1458015': 3561, '1860956': 3562, '412805': 3563, '1553054': 3564, '11430': 3565, '2398295': 3566, '10954': 3567, '1829685': 3568, '277541': 3569, '970306': 3570, '1814832': 3571, '2508191': 3572, '1694142': 3573, '1884497': 3574, '895641': 3575, '1554601': 3576, '1260240': 3577, '17462': 3578, '847313': 3579, '1911260': 3580, '1275094': 3581, '1556884': 3582, '443447': 3583, '766133': 3584, '819314': 3585, '2645476': 3586, '2121655': 3587, '593770': 3588, '972914': 3589, '1171523': 3590, '2502988': 3591, '351328': 3592, '876074': 3593, '2641824': 3594, '829466': 3595, '1214125': 3596, '2444953': 3597, '19938': 3598, '441442': 3599, '1582952': 3600, '1995445': 3601, '2122850': 3602, '2072547': 3603, '2595011': 3604, '914457': 3605, '241607': 3606, '2075891': 3607, '1476852': 3608, '2099446': 3609, '1691661': 3610, '1181480': 3611, '875926': 3612, '2572962': 3613, '969879': 3614, '449967': 3615, '530868': 3616, '409968': 3617, '2619337': 3618, '2044772': 3619, '1356107': 3620, '2583029': 3621, '1943596': 3622, '2572409': 3623, '2413170': 3624, '139006': 3625, '2442131': 3626, '1277212': 3627, '811215': 3628, '2534058': 3629, '1299727': 3630, '1654617': 3631, '763496': 3632, '1992922': 3633, '1189269': 3634, '915168': 3635, '380199': 3636, '1494268': 3637, '2582552': 3638, '295708': 3639, '337915': 3640, '217665': 3641, '1251664': 3642, '1185017': 3643, '2504544': 3644, '1065402': 3645, '2584808': 3646, '347301': 3647, '1752856': 3648, '645523': 3649, '52000': 3650, '1420308': 3651, '402266': 3652, '1481617': 3653, '692235': 3654, '1798075': 3655, '1620983': 3656, '100495': 3657, '1306494': 3658, '1939066': 3659, '177770': 3660, '1805448': 3661, '1176201': 3662, '1456333': 3663, '2019240': 3664, '1883016': 3665, '1732388': 3666, '2468443': 3667, '770230': 3668, '1621754': 3669, '431074': 3670, '2613474': 3671, '428336': 3672, '1350489': 3673, '684876': 3674, '1742805': 3675, '1136132': 3676, '453585': 3677, '25533': 3678, '2602886': 3679, '328646': 3680, '689638': 3681, '1039641': 3682, '147093': 3683, '580231': 3684, '2331318': 3685, '109079': 3686, '2610420': 3687, '2324813': 3688, '1621546': 3689, '1809696': 3690, '1825531': 3691, '2359767': 3692, '2194798': 3693, '57332': 3694, '1192459': 3695, '948271': 3696, '1089865': 3697, '712568': 3698, '1395967': 3699, '517441': 3700, '2008854': 3701, '487153': 3702, '1284297': 3703, '2333850': 3704, '2235640': 3705, '269365': 3706, '2430041': 3707, '2371665': 3708, '1451137': 3709, '2137254': 3710, '2072798': 3711, '2338157': 3712, '398194': 3713, '644339': 3714, '1293903': 3715, '1571299': 3716, '1524964': 3717, '1423310': 3718, '49890': 3719, '1472668': 3720, '1312661': 3721, '291620': 3722, '2267322': 3723, '2205307': 3724, '1295669': 3725, '20392': 3726, '2550101': 3727, '1206353': 3728, '1197388': 3729, '1655662': 3730, '569379': 3731, '2434632': 3732, '1597178': 3733, '1138833': 3734, '23427': 3735, '17186': 3736, '844558': 3737, '340479': 3738, '30288': 3739, '2401372': 3740, '2166728': 3741, '282887': 3742, '2475820': 3743, '2198905': 3744, '2359103': 3745, '1457006': 3746, '419691': 3747, '2388935': 3748, '2102768': 3749, '1361618': 3750, '1447639': 3751, '66179': 3752, '2479060': 3753, '361141': 3754, '1546549': 3755, '642089': 3756, '273020': 3757, '973051': 3758, '914508': 3759, '555528': 3760, '2126379': 3761, '657606': 3762, '1328011': 3763, '2466475': 3764, '2454662': 3765, '2646207': 3766, '1900445': 3767, '1265764': 3768, '850901': 3769, '2627087': 3770, '534960': 3771, '1199011': 3772, '320314': 3773, '2517394': 3774, '1850091': 3775, '1915354': 3776, '1547747': 3777, '1361441': 3778, '2532783': 3779, '342510': 3780, '1483654': 3781, '1357598': 3782, '841782': 3783, '1160024': 3784, '2444202': 3785, '2389571': 3786, '188826': 3787, '1809573': 3788, '2464143': 3789, '196915': 3790, '581893': 3791, '2294397': 3792, '657521': 3793, '107198': 3794, '1724806': 3795, '940778': 3796, '1449107': 3797, '17890': 3798, '826193': 3799, '1174324': 3800, '1449229': 3801, '1013696': 3802, '718595': 3803, '743598': 3804, '2530159': 3805, '1065302': 3806, '1590157': 3807, '1567240': 3808, '68297': 3809, '1955408': 3810, '2327122': 3811, '2131287': 3812, '1246893': 3813, '1060393': 3814, '2429654': 3815, '2395304': 3816, '1109043': 3817, '1809912': 3818, '1049041': 3819, '1182702': 3820, '2004870': 3821, '2055183': 3822, '2081120': 3823, '1695976': 3824, '1549104': 3825, '1661655': 3826, '2383510': 3827, '48741': 3828, '1506005': 3829, '396400': 3830, '16272': 3831, '1117314': 3832, '177997': 3833, '1246772': 3834, '366608': 3835, '2554942': 3836, '1879179': 3837, '1412898': 3838, '104422': 3839, '1941862': 3840, '1448561': 3841, '1238991': 3842, '215948': 3843, '1914066': 3844, '1058639': 3845, '528190': 3846, '27061': 3847, '1267586': 3848, '2312280': 3849, '829075': 3850, '2552963': 3851, '1599231': 3852, '1397082': 3853, '1153750': 3854, '870885': 3855, '40851': 3856, '235077': 3857, '2511644': 3858, '2303319': 3859, '471880': 3860, '1483852': 3861, '733887': 3862, '910339': 3863, '171185': 3864, '1078800': 3865, '2288845': 3866, '1075030': 3867, '1755852': 3868, '311641': 3869, '162026': 3870, '419414': 3871, '765766': 3872, '2396898': 3873, '91007': 3874, '267611': 3875, '1492162': 3876, '1356239': 3877, '554137': 3878, '1565175': 3879, '246686': 3880, '1178902': 3881, '2152856': 3882, '2290508': 3883, '2542967': 3884, '1366054': 3885, '1655778': 3886, '1877143': 3887, '8200': 3888, '437599': 3889, '263213': 3890, '1426317': 3891, '1456866': 3892, '1122480': 3893, '1983441': 3894, '1029864': 3895, '357056': 3896, '1820960': 3897, '2568994': 3898, '372285': 3899, '1939763': 3900, '511847': 3901, '1434831': 3902, '2345454': 3903, '1731838': 3904, '345580': 3905, '1451792': 3906, '966058': 3907, '1717654': 3908, '2447368': 3909, '958687': 3910, '1063315': 3911, '2466231': 3912, '120341': 3913, '1126555': 3914, '1753870': 3915, '2038701': 3916, '475437': 3917, '1823259': 3918, '2187108': 3919, '2159419': 3920, '866531': 3921, '1823580': 3922, '2466899': 3923, '948801': 3924, '689488': 3925, '1072585': 3926, '234798': 3927, '1790831': 3928, '1168926': 3929, '8660': 3930, '1782189': 3931, '1761042': 3932, '1196269': 3933, '704069': 3934, '364236': 3935, '745471': 3936, '684850': 3937, '2330786': 3938, '2490545': 3939, '588285': 3940, '202678': 3941, '2587616': 3942, '1708281': 3943, '2618537': 3944, '1144139': 3945, '1040741': 3946, '1841531': 3947, '2165012': 3948, '92903': 3949, '1427380': 3950, '704117': 3951, '2419897': 3952, '705695': 3953, '1912002': 3954, '919823': 3955, '1103969': 3956, '361543': 3957, '1193636': 3958, '1300759': 3959, '2568908': 3960, '631075': 3961, '1922797': 3962, '229165': 3963, '507140': 3964, '1277240': 3965, '2060858': 3966, '1719990': 3967, '874253': 3968, '252230': 3969, '1872329': 3970, '151821': 3971, '725616': 3972, '2097548': 3973, '384255': 3974, '2560583': 3975, '590607': 3976, '1895929': 3977, '1517054': 3978, '763571': 3979, '1258876': 3980, '32754': 3981, '2170242': 3982, '1948838': 3983, '842341': 3984, '1334745': 3985, '2217027': 3986, '1662193': 3987, '1026933': 3988, '1459727': 3989, '966322': 3990, '2161938': 3991, '2221430': 3992, '1407388': 3993, '831103': 3994, '1450135': 3995, '1285927': 3996, '4597': 3997, '977415': 3998, '2019776': 3999, '75818': 4000, '1462866': 4001, '1207104': 4002, '1187000': 4003, '1405395': 4004, '2076954': 4005, '914155': 4006, '651142': 4007, '24801': 4008, '2452132': 4009, '2252978': 4010, '2250174': 4011, '380505': 4012, '1588506': 4013, '2299723': 4014, '2487809': 4015, '356536': 4016, '16029': 4017, '2379147': 4018, '54870': 4019, '2219287': 4020, '2636392': 4021, '902047': 4022, '1291455': 4023, '1564435': 4024, '255723': 4025, '210012': 4026, '569783': 4027, '2340228': 4028, '1199475': 4029, '2100574': 4030, '1516936': 4031, '161767': 4032, '2589230': 4033, '1435555': 4034, '315894': 4035, '1534945': 4036, '36598': 4037, '2058629': 4038, '2041252': 4039, '374858': 4040, '1057513': 4041, '157667': 4042, '530014': 4043, '2167895': 4044, '2641668': 4045, '24995': 4046, '1922925': 4047, '1932113': 4048, '2040853': 4049, '682970': 4050, '458675': 4051, '1799557': 4052, '144577': 4053, '1497566': 4054, '1327727': 4055, '2109681': 4056, '2332259': 4057, '1228568': 4058, '1371678': 4059, '2483683': 4060, '1443236': 4061, '2425195': 4062, '1147738': 4063, '1263952': 4064, '2512427': 4065, '1845777': 4066, '2252635': 4067, '1102302': 4068, '219888': 4069, '2087629': 4070, '1668401': 4071, '780768': 4072, '504245': 4073, '2388497': 4074, '1591210': 4075, '2147262': 4076, '63971': 4077, '550596': 4078, '1663888': 4079, '598781': 4080, '392859': 4081, '888801': 4082, '2389674': 4083, '2188443': 4084, '1056238': 4085, '1804811': 4086, '523517': 4087, '2254121': 4088, '1683615': 4089, '2029766': 4090, '1906240': 4091, '891923': 4092, '2356793': 4093, '266036': 4094, '310887': 4095, '1602924': 4096, '264120': 4097, '2023215': 4098, '582504': 4099, '2108307': 4100, '2234134': 4101, '1744075': 4102, '322064': 4103, '1589401': 4104, '1817781': 4105, '1759688': 4106, '1996108': 4107, '2330864': 4108, '1594764': 4109, '444229': 4110, '1797692': 4111, '1618268': 4112, '1734270': 4113, '2386868': 4114, '2169283': 4115, '1532775': 4116, '2283856': 4117, '2602942': 4118, '2368877': 4119, '1582294': 4120, '188725': 4121, '2242468': 4122, '59218': 4123, '129796': 4124, '680273': 4125, '2498592': 4126, '2487901': 4127, '134182': 4128, '654334': 4129, '639317': 4130, '1725226': 4131, '60538': 4132, '1620184': 4133, '1759886': 4134, '675468': 4135, '140498': 4136, '2205104': 4137, '1389451': 4138, '2393478': 4139, '2292987': 4140, '1796217': 4141, '2023200': 4142, '1543847': 4143, '1351603': 4144, '18415': 4145, '814408': 4146, '1054137': 4147, '2213': 4148, '432225': 4149, '2340706': 4150, '1122364': 4151, '851111': 4152, '1628403': 4153, '955050': 4154, '1902609': 4155, '1928599': 4156, '675283': 4157, '1037347': 4158, '881876': 4159, '164532': 4160, '860839': 4161, '1357786': 4162, '837258': 4163, '2560750': 4164, '411705': 4165, '1513514': 4166, '2337846': 4167, '119279': 4168, '1053421': 4169, '1949871': 4170, '1037924': 4171, '2561723': 4172, '2452802': 4173, '1492066': 4174, '1730716': 4175, '2641802': 4176, '2460347': 4177, '305344': 4178, '2026787': 4179, '948558': 4180, '922551': 4181, '860995': 4182, '1457134': 4183, '288420': 4184, '1176763': 4185, '158121': 4186, '915898': 4187, '286567': 4188, '1734419': 4189, '2429565': 4190, '1549725': 4191, '53694': 4192, '1391510': 4193, '897124': 4194, '251613': 4195, '1594542': 4196, '2644964': 4197, '1744093': 4198, '714725': 4199, '2530817': 4200, '806267': 4201, '774717': 4202, '2140707': 4203, '1374197': 4204, '2185798': 4205, '499257': 4206, '1420411': 4207, '2491423': 4208, '2025860': 4209, '244994': 4210, '1081910': 4211, '968184': 4212, '1814136': 4213, '322078': 4214, '1746058': 4215, '1926057': 4216, '795510': 4217, '1406649': 4218, '780850': 4219, '470369': 4220, '610915': 4221, '269913': 4222, '207251': 4223, '1832073': 4224, '1138678': 4225, '320939': 4226, '39147': 4227, '141034': 4228, '1863467': 4229, '737391': 4230, '2510433': 4231, '2465070': 4232, '2424328': 4233, '324510': 4234, '195059': 4235, '656614': 4236, '1703879': 4237, '2150451': 4238, '2001326': 4239, '1464943': 4240, '2525544': 4241, '161536': 4242, '546751': 4243, '720436': 4244, '2287036': 4245, '2275159': 4246, '1598717': 4247, '356664': 4248, '394194': 4249, '962774': 4250, '1950312': 4251, '38958': 4252, '1732365': 4253, '612111': 4254, '2645868': 4255, '1564651': 4256, '1220079': 4257, '559753': 4258, '1928860': 4259, '1024965': 4260, '1240094': 4261, '2378317': 4262, '318457': 4263, '2425210': 4264, '260347': 4265, '951800': 4266, '717555': 4267, '1935445': 4268, '2368627': 4269, '942523': 4270, '1278249': 4271, '2195910': 4272, '1717746': 4273, '539249': 4274, '69801': 4275, '2400645': 4276, '1553024': 4277, '1352422': 4278, '609280': 4279, '1305838': 4280, '2204563': 4281, '2603700': 4282, '308716': 4283, '896969': 4284, '128389': 4285, '1040475': 4286, '2640999': 4287, '1045053': 4288, '2226005': 4289, '1832308': 4290, '1592406': 4291, '239551': 4292, '1540779': 4293, '179489': 4294, '717338': 4295, '1963140': 4296, '1882485': 4297, '2269328': 4298, '1449358': 4299, '994077': 4300, '532579': 4301, '1756480': 4302, '1968862': 4303, '387262': 4304, '2152465': 4305, '2207798': 4306, '1392742': 4307, '2384855': 4308, '168892': 4309, '1417851': 4310, '1265131': 4311, '1283171': 4312, '567705': 4313, '2237185': 4314, '609236': 4315, '69860': 4316, '70976': 4317, '1037313': 4318, '2437174': 4319, '1379722': 4320, '2267735': 4321, '1202467': 4322, '541831': 4323, '1606520': 4324, '239928': 4325, '1134724': 4326, '1746668': 4327, '325552': 4328, '1001129': 4329, '1130649': 4330, '989264': 4331, '1840783': 4332, '2021377': 4333, '1316922': 4334, '2061180': 4335, '728891': 4336, '872924': 4337, '1616437': 4338, '135594': 4339, '962098': 4340, '1444338': 4341, '1878354': 4342, '411290': 4343, '2593317': 4344, '2558148': 4345, '1873379': 4346, '2119151': 4347, '1879137': 4348, '1616634': 4349, '1833446': 4350, '2411332': 4351, '2420260': 4352, '1423249': 4353, '1905498': 4354, '653906': 4355, '2115908': 4356, '1892684': 4357, '784208': 4358, '1863899': 4359, '1570999': 4360, '377937': 4361, '2387463': 4362, '2133714': 4363, '2205547': 4364, '213704': 4365, '104462': 4366, '1621025': 4367, '175445': 4368, '1460630': 4369, '2461508': 4370, '1870555': 4371, '290342': 4372, '1834546': 4373, '442813': 4374, '2589029': 4375, '169949': 4376, '1453877': 4377, '424470': 4378, '2095929': 4379, '1731221': 4380, '1197602': 4381, '219174': 4382, '1094132': 4383, '2013147': 4384, '21157': 4385, '2016747': 4386, '985414': 4387, '274365': 4388, '1899913': 4389, '1182475': 4390, '111693': 4391, '491554': 4392, '237585': 4393, '2127723': 4394, '640425': 4395, '1662735': 4396, '934606': 4397, '280260': 4398, '1274580': 4399, '2607433': 4400, '30274': 4401, '2254751': 4402, '1287892': 4403, '251520': 4404, '2003762': 4405, '99865': 4406, '1653468': 4407, '2566515': 4408, '892694': 4409, '213677': 4410, '784395': 4411, '316527': 4412, '2203225': 4413, '1122969': 4414, '2012897': 4415, '388514': 4416, '745651': 4417, '1275651': 4418, '407037': 4419, '663191': 4420, '1251357': 4421, '2149665': 4422, '1919580': 4423, '242681': 4424, '379701': 4425, '1821155': 4426, '1391206': 4427, '39490': 4428, '423522': 4429, '1191408': 4430, '2426395': 4431, '1791068': 4432, '1015237': 4433, '2398509': 4434, '1519729': 4435, '960733': 4436, '2268553': 4437, '1729739': 4438, '392651': 4439, '987295': 4440, '766629': 4441, '559741': 4442, '2056875': 4443, '1586067': 4444, '1961168': 4445, '1795511': 4446, '973784': 4447, '263291': 4448, '2300862': 4449, '162834': 4450, '175746': 4451, '437586': 4452, '492478': 4453, '1530606': 4454, '585412': 4455, '681577': 4456, '1648646': 4457, '2578830': 4458, '1814991': 4459, '16786': 4460, '1419882': 4461, '950733': 4462, '2634761': 4463, '1309672': 4464, '764040': 4465, '346506': 4466, '987736': 4467, '489458': 4468, '1478291': 4469, '2637760': 4470, '325210': 4471, '1045223': 4472, '2077564': 4473, '1771252': 4474, '2079932': 4475, '337681': 4476, '2264796': 4477, '134972': 4478, '894055': 4479, '2492984': 4480, '1184378': 4481, '1072766': 4482, '491513': 4483, '609231': 4484, '484675': 4485, '1217301': 4486, '1606064': 4487, '2145575': 4488, '2372364': 4489, '1986816': 4490, '97893': 4491, '1927420': 4492, '1001477': 4493, '1583424': 4494, '2308472': 4495, '361778': 4496, '1086481': 4497, '238740': 4498, '608538': 4499, '17691': 4500, '2395854': 4501, '1757056': 4502, '1409829': 4503, '38147': 4504, '1147370': 4505, '2329541': 4506, '1075444': 4507, '2544118': 4508, '1190685': 4509, '1141718': 4510, '2580072': 4511, '79799': 4512, '434585': 4513, '629389': 4514, '1936750': 4515, '350009': 4516, '825819': 4517, '1686134': 4518, '1629989': 4519, '530441': 4520, '1161691': 4521, '1782505': 4522, '1386053': 4523, '330376': 4524, '2316252': 4525, '1892942': 4526, '459277': 4527, '122503': 4528, '102919': 4529, '2060998': 4530, '177104': 4531, '1005185': 4532, '845136': 4533, '2578541': 4534, '198459': 4535, '1366497': 4536, '1101438': 4537, '2323358': 4538, '1098965': 4539, '942554': 4540, '2460229': 4541, '608501': 4542, '937847': 4543, '849369': 4544, '787352': 4545, '1009097': 4546, '2557596': 4547, '230211': 4548, '1697157': 4549, '1244810': 4550, '1585767': 4551, '2030708': 4552, '2305978': 4553, '1439261': 4554, '1301243': 4555, '581989': 4556, '894921': 4557, '360830': 4558, '1588471': 4559, '879487': 4560, '1633211': 4561, '1964514': 4562, '442485': 4563, '1982650': 4564, '655021': 4565, '326121': 4566, '901720': 4567, '1680732': 4568, '1110291': 4569, '2507129': 4570, '898629': 4571, '2318608': 4572, '1849174': 4573, '9850': 4574, '1871161': 4575, '1280120': 4576, '1945023': 4577, '1144950': 4578, '2329878': 4579, '874883': 4580, '2421912': 4581, '1553270': 4582, '2241971': 4583, '188630': 4584, '1511466': 4585, '768771': 4586, '830363': 4587, '1305384': 4588, '431116': 4589, '291728': 4590, '2137795': 4591, '1855394': 4592, '823802': 4593, '2498845': 4594, '1901665': 4595, '840996': 4596, '1312904': 4597, '97611': 4598, '398661': 4599, '1132093': 4600, '536598': 4601, '2178055': 4602, '485175': 4603, '2509840': 4604, '513026': 4605, '2425581': 4606, '1711223': 4607, '2240369': 4608, '2634195': 4609, '1316252': 4610, '1794738': 4611, '1084108': 4612, '2065448': 4613, '1545711': 4614, '2123456': 4615, '1338301': 4616, '2389729': 4617, '1952604': 4618, '579391': 4619, '1800459': 4620, '2388250': 4621, '2107119': 4622, '2155331': 4623, '1361614': 4624, '313260': 4625, '2184768': 4626, '2090902': 4627, '2062552': 4628, '1006406': 4629, '330314': 4630, '74533': 4631, '1390954': 4632, '2123669': 4633, '2592591': 4634, '1029530': 4635, '1347528': 4636, '759944': 4637, '1084137': 4638, '133129': 4639, '772825': 4640, '2535229': 4641, '2496628': 4642, '438340': 4643, '756226': 4644, '433651': 4645, '1605780': 4646, '623496': 4647, '1851346': 4648, '1346708': 4649, '1821646': 4650, '707528': 4651, '438200': 4652, '598757': 4653, '1258107': 4654, '1281882': 4655, '664443': 4656, '1313129': 4657, '416443': 4658, '479636': 4659, '2369316': 4660, '2167628': 4661, '2085421': 4662, '2624910': 4663, '406808': 4664, '39551': 4665, '1616707': 4666, '1329217': 4667, '366565': 4668, '1365170': 4669, '214593': 4670, '2487973': 4671, '1543171': 4672, '682873': 4673, '2481593': 4674, '1927110': 4675, '1280843': 4676, '852524': 4677, '1921706': 4678, '1516935': 4679, '37609': 4680, '745542': 4681, '1753001': 4682, '329555': 4683, '2344621': 4684, '1854660': 4685, '691808': 4686, '460747': 4687, '426352': 4688, '85562': 4689, '2559471': 4690, '2252455': 4691, '2526309': 4692, '737385': 4693, '1002509': 4694, '1030634': 4695, '957896': 4696, '2023168': 4697, '2166018': 4698, '1271040': 4699, '1227238': 4700, '2024800': 4701, '1018901': 4702, '933168': 4703, '1639598': 4704, '1665054': 4705, '2349571': 4706, '2124555': 4707, '1486851': 4708, '2160334': 4709, '1763645': 4710, '824157': 4711, '1171236': 4712, '734172': 4713, '1918750': 4714, '1731009': 4715, '436436': 4716, '2512814': 4717, '15233': 4718, '853170': 4719, '461799': 4720, '1525844': 4721, '862852': 4722, '2532407': 4723, '2291457': 4724, '57012': 4725, '1478933': 4726, '280112': 4727, '2294830': 4728, '1363298': 4729, '2586387': 4730, '2599863': 4731, '1286998': 4732, '299165': 4733, '769756': 4734, '436122': 4735, '466121': 4736, '1670329': 4737, '816213': 4738, '1252521': 4739, '1472689': 4740, '36629': 4741, '2614568': 4742, '563264': 4743, '2358799': 4744, '2129407': 4745, '486205': 4746, '547341': 4747, '1309839': 4748, '624987': 4749, '172217': 4750, '753283': 4751, '1612996': 4752, '1398397': 4753, '1357894': 4754, '1107858': 4755, '1047147': 4756, '892513': 4757, '2520513': 4758, '70565': 4759, '95084': 4760, '981199': 4761, '1756796': 4762, '2643057': 4763, '2537764': 4764, '1338823': 4765, '391012': 4766, '1755138': 4767, '659526': 4768, '1469603': 4769, '1588457': 4770, '2228660': 4771, '2057248': 4772, '685687': 4773, '1922155': 4774, '758850': 4775, '1916105': 4776, '991497': 4777, '1232103': 4778, '2466146': 4779, '385268': 4780, '329958': 4781, '682739': 4782, '1410965': 4783, '312937': 4784, '1645377': 4785, '686204': 4786, '301665': 4787, '1949220': 4788, '206272': 4789, '612384': 4790, '1532984': 4791, '733245': 4792, '1384113': 4793, '199769': 4794, '1215094': 4795, '2483246': 4796, '2174151': 4797, '1629440': 4798, '777750': 4799, '480075': 4800, '1900854': 4801, '1469659': 4802, '346340': 4803, '2328701': 4804, '70476': 4805, '1819758': 4806, '1408280': 4807, '878889': 4808, '2241486': 4809, '1084598': 4810, '338210': 4811, '728171': 4812, '1258349': 4813, '1294548': 4814, '1829704': 4815, '2589198': 4816, '609742': 4817, '2579012': 4818, '1022671': 4819, '2217731': 4820, '2289798': 4821, '4057': 4822, '2292823': 4823, '2596310': 4824, '490232': 4825, '191869': 4826, '772658': 4827, '749818': 4828, '2555117': 4829, '2380603': 4830, '494150': 4831, '1783491': 4832, '1957786': 4833, '157094': 4834, '178645': 4835, '617603': 4836, '1769206': 4837, '1556097': 4838, '614930': 4839, '1152362': 4840, '1275275': 4841, '1766693': 4842, '40450': 4843, '1508633': 4844, '638020': 4845, '779144': 4846, '2063030': 4847, '2227681': 4848, '128863': 4849, '152955': 4850, '524672': 4851, '435567': 4852, '2059197': 4853, '1441540': 4854, '285547': 4855, '1078644': 4856, '197025': 4857, '1519929': 4858, '328516': 4859, '1988633': 4860, '2634967': 4861, '10470': 4862, '1507253': 4863, '371750': 4864, '2233590': 4865, '1165045': 4866, '1599816': 4867, '1922670': 4868, '1725567': 4869, '977681': 4870, '2553545': 4871, '2398061': 4872, '1916082': 4873, '134068': 4874, '720503': 4875, '1753633': 4876, '579326': 4877, '511428': 4878, '706198': 4879, '2599761': 4880, '2196246': 4881, '1425971': 4882, '1800301': 4883, '36123': 4884, '1442187': 4885, '760534': 4886, '886442': 4887, '576990': 4888, '1087944': 4889, '2485642': 4890, '1819620': 4891, '2175546': 4892, '2248698': 4893, '2064889': 4894, '2271702': 4895, '469137': 4896, '2064424': 4897, '2155681': 4898, '2207893': 4899, '2008298': 4900, '1950336': 4901, '1583631': 4902, '2487127': 4903, '286684': 4904, '1345779': 4905, '158498': 4906, '1239654': 4907, '1964903': 4908, '977703': 4909, '733913': 4910, '1644750': 4911, '785931': 4912, '2495253': 4913, '877320': 4914, '1557598': 4915, '940516': 4916, '1955367': 4917, '1440251': 4918, '2111055': 4919, '587590': 4920, '79380': 4921, '1671431': 4922, '1633009': 4923, '682697': 4924, '1740297': 4925, '734544': 4926, '2310027': 4927, '1733289': 4928, '742796': 4929, '900455': 4930, '1291364': 4931, '2345122': 4932, '2396765': 4933, '1658790': 4934, '342274': 4935, '1226844': 4936, '1743850': 4937, '969785': 4938, '1818524': 4939, '1412075': 4940, '766670': 4941, '592277': 4942, '1400125': 4943, '660962': 4944, '706349': 4945, '227387': 4946, '1107860': 4947, '2468325': 4948, '399772': 4949, '1223664': 4950, '1365790': 4951, '1201884': 4952, '1093564': 4953, '1349191': 4954, '1365319': 4955, '504709': 4956, '1720041': 4957, '1547173': 4958, '775020': 4959, '630153': 4960, '672941': 4961, '2084925': 4962, '1842072': 4963, '2585017': 4964, '2438169': 4965, '402413': 4966, '872408': 4967, '2044807': 4968, '1578281': 4969, '2610423': 4970, '291682': 4971, '1995059': 4972, '2510709': 4973, '2518947': 4974, '1815129': 4975, '278223': 4976, '2604442': 4977, '375606': 4978, '55675': 4979, '2170831': 4980, '1348118': 4981, '1644255': 4982, '1988375': 4983, '2527831': 4984, '563447': 4985, '1500112': 4986, '2465337': 4987, '1240730': 4988, '200713': 4989, '1573438': 4990, '768749': 4991, '1581139': 4992, '1497505': 4993, '1661485': 4994, '351141': 4995, '1655211': 4996, '953357': 4997, '2641206': 4998, '521074': 4999, '775171': 5000, '2170243': 5001, '2648589': 5002, '160160': 5003, '1944684': 5004, '302425': 5005, '915138': 5006, '150525': 5007, '746375': 5008, '2489070': 5009, '993544': 5010, '1756407': 5011, '222956': 5012, '1195863': 5013, '1018296': 5014, '1146632': 5015, '1653464': 5016, '2535601': 5017, '2590679': 5018, '1662714': 5019, '1129737': 5020, '1270980': 5021, '712609': 5022, '1025593': 5023, '2253124': 5024, '760072': 5025, '1682916': 5026, '782316': 5027, '1792263': 5028, '1274035': 5029, '2038707': 5030, '307427': 5031, '1085991': 5032, '2511730': 5033, '1894043': 5034, '1279360': 5035, '2124351': 5036, '2544532': 5037, '1487730': 5038, '1028737': 5039, '408966': 5040, '2498427': 5041, '886452': 5042, '1200886': 5043, '1215043': 5044, '2210272': 5045, '1258191': 5046, '647792': 5047, '1999678': 5048, '1078339': 5049, '1779180': 5050, '2425260': 5051, '1515048': 5052, '707496': 5053, '441723': 5054, '2397057': 5055, '1758770': 5056, '1255070': 5057, '1883703': 5058, '1567095': 5059, '1162743': 5060, '1602857': 5061, '1625247': 5062, '1097620': 5063, '1316604': 5064, '1591103': 5065, '2446246': 5066, '990639': 5067, '1796588': 5068, '700939': 5069, '2297673': 5070, '1377637': 5071, '2521051': 5072, '1033053': 5073, '505317': 5074, '582405': 5075, '2380329': 5076, '349726': 5077, '1532399': 5078, '2115299': 5079, '1652478': 5080, '1265965': 5081, '1872591': 5082, '1017068': 5083, '1475817': 5084, '107787': 5085, '1116377': 5086, '1987234': 5087, '2445569': 5088, '539112': 5089, '2527516': 5090, '2471527': 5091, '1931100': 5092, '404437': 5093, '763287': 5094, '1115010': 5095, '692048': 5096, '2420298': 5097, '1975483': 5098, '124728': 5099, '1964248': 5100, '637929': 5101, '2280493': 5102, '335839': 5103, '536239': 5104, '747695': 5105, '1370564': 5106, '1056827': 5107, '1786541': 5108, '1463939': 5109, '82700': 5110, '1646777': 5111, '2378363': 5112, '874948': 5113, '1385988': 5114, '2186505': 5115, '21983': 5116, '2632868': 5117, '2648853': 5118, '1147641': 5119, '1643961': 5120, '808604': 5121, '2114015': 5122, '806909': 5123, '1794015': 5124, '1886585': 5125, '2233186': 5126, '211845': 5127, '260080': 5128, '931475': 5129, '853491': 5130, '69090': 5131, '1872980': 5132, '1197260': 5133, '2079664': 5134, '1688557': 5135, '1153777': 5136, '1669360': 5137, '860599': 5138, '2221050': 5139, '749353': 5140, '2284783': 5141, '1681193': 5142, '1803311': 5143, '1497344': 5144, '768710': 5145, '729393': 5146, '779811': 5147, '271453': 5148, '2405303': 5149, '487796': 5150, '1758525': 5151, '1702903': 5152, '413855': 5153, '138835': 5154, '2150831': 5155, '1204327': 5156, '1073300': 5157, '2063973': 5158, '1892408': 5159, '226696': 5160, '694871': 5161, '2097445': 5162, '1614626': 5163, '2548965': 5164, '487949': 5165, '849959': 5166, '1493361': 5167, '841135': 5168, '2478523': 5169, '1288745': 5170, '2089577': 5171, '877585': 5172, '66540': 5173, '641013': 5174, '227151': 5175, '871348': 5176, '471023': 5177, '2487919': 5178, '1852784': 5179, '1624150': 5180, '2601416': 5181, '1576028': 5182, '1333': 5183, '2048294': 5184, '342877': 5185, '2014531': 5186, '2491745': 5187, '28658': 5188, '2301767': 5189, '1349437': 5190, '1095791': 5191, '945621': 5192, '206564': 5193, '1293845': 5194, '1911337': 5195, '923631': 5196, '826503': 5197, '1160224': 5198, '564403': 5199, '1119267': 5200, '794835': 5201, '2178365': 5202, '528808': 5203, '2343409': 5204, '2492756': 5205, '779492': 5206, '1287490': 5207, '482035': 5208, '152178': 5209, '1646693': 5210, '492357': 5211, '1434713': 5212, '998865': 5213, '311070': 5214, '548695': 5215, '2222576': 5216, '930199': 5217, '2455878': 5218, '2407157': 5219, '152583': 5220, '1433812': 5221, '1762296': 5222, '134703': 5223, '1427387': 5224, '2542130': 5225, '1187192': 5226, '2515812': 5227, '510438': 5228, '294040': 5229, '1552874': 5230, '1336786': 5231, '215911': 5232, '998229': 5233, '1341505': 5234, '442865': 5235, '1029163': 5236, '2234943': 5237, '1664442': 5238, '2157611': 5239, '165374': 5240, '1386516': 5241, '708307': 5242, '2158667': 5243, '827380': 5244, '776939': 5245, '1876156': 5246, '656811': 5247, '455024': 5248, '2341852': 5249, '1321126': 5250, '58485': 5251, '540803': 5252, '882006': 5253, '512101': 5254, '2646766': 5255, '1509395': 5256, '456205': 5257, '1155797': 5258, '1354129': 5259, '1489474': 5260, '2059716': 5261, '2463409': 5262, '2136083': 5263, '1006269': 5264, '1578594': 5265, '420191': 5266, '2237467': 5267, '1339784': 5268, '1980305': 5269, '2456767': 5270, '1160597': 5271, '367186': 5272, '2308912': 5273, '1834839': 5274, '654401': 5275, '186445': 5276, '1833866': 5277, '1186815': 5278, '1219206': 5279, '1612706': 5280, '563186': 5281, '2630671': 5282, '1472025': 5283, '2356682': 5284, '2532737': 5285, '1093740': 5286, '1741931': 5287, '537600': 5288, '2387212': 5289, '1478381': 5290, '2085110': 5291, '1885459': 5292, '1213114': 5293, '448879': 5294, '1851951': 5295, '606105': 5296, '2257731': 5297, '611729': 5298, '294155': 5299, '2465313': 5300, '273945': 5301, '2385239': 5302, '290951': 5303, '584100': 5304, '1637403': 5305, '803330': 5306, '1200461': 5307, '1273304': 5308, '889674': 5309, '2176780': 5310, '895732': 5311, '1013856': 5312, '656460': 5313, '530740': 5314, '1368650': 5315, '2043184': 5316, '579596': 5317, '380236': 5318, '408873': 5319, '2592269': 5320, '2110107': 5321, '2087711': 5322, '2247667': 5323, '1007245': 5324, '755976': 5325, '611360': 5326, '1723456': 5327, '52029': 5328, '2028123': 5329, '2416290': 5330, '2121379': 5331, '1214122': 5332, '2359497': 5333, '1259082': 5334, '863227': 5335, '2483121': 5336, '1296498': 5337, '762260': 5338, '832780': 5339, '805018': 5340, '2591364': 5341, '2136217': 5342, '699662': 5343, '2464081': 5344, '1492086': 5345, '1769444': 5346, '2076079': 5347, '1125890': 5348, '1584314': 5349, '552468': 5350, '738964': 5351, '1457172': 5352, '1234398': 5353, '1121106': 5354, '2395020': 5355, '299370': 5356, '2070186': 5357, '1228057': 5358, '2156368': 5359, '1753194': 5360, '844459': 5361, '1388216': 5362, '2588947': 5363, '1140387': 5364, '2398212': 5365, '1396036': 5366, '2207951': 5367, '2064033': 5368, '728508': 5369, '122197': 5370, '2444478': 5371, '1276355': 5372, '2436583': 5373, '1489576': 5374, '2637755': 5375, '642551': 5376, '721414': 5377, '1397103': 5378, '2019773': 5379, '173086': 5380, '186604': 5381, '1109861': 5382, '2500094': 5383, '696076': 5384, '1977612': 5385, '870098': 5386, '1478444': 5387, '813316': 5388, '771888': 5389, '657712': 5390, '176896': 5391, '2562588': 5392, '2256485': 5393, '1190512': 5394, '483981': 5395, '1316605': 5396, '835265': 5397, '2072858': 5398, '1269656': 5399, '2129787': 5400, '1169361': 5401, '2538567': 5402, '721369': 5403, '1121380': 5404, '2297654': 5405, '174753': 5406, '576751': 5407, '47411': 5408, '292269': 5409, '2339332': 5410, '147404': 5411, '542817': 5412, '610780': 5413, '1270358': 5414, '116858': 5415, '2096950': 5416, '746150': 5417, '885358': 5418, '226326': 5419, '847232': 5420, '1891612': 5421, '1093688': 5422, '1022601': 5423, '588956': 5424, '209736': 5425, '173755': 5426, '2113542': 5427, '526568': 5428, '544571': 5429, '1317671': 5430, '415589': 5431, '1820564': 5432, '300962': 5433, '1933832': 5434, '2281080': 5435, '1800701': 5436, '2558741': 5437, '2509303': 5438, '2308200': 5439, '393278': 5440, '402547': 5441, '87113': 5442, '876475': 5443, '1787323': 5444, '1407998': 5445, '1398761': 5446, '323005': 5447, '403536': 5448, '2128': 5449, '1257336': 5450, '129766': 5451, '2099899': 5452, '2417245': 5453, '145941': 5454, '1453873': 5455, '2307511': 5456, '324326': 5457, '916421': 5458, '253275': 5459, '1700782': 5460, '1137666': 5461, '190197': 5462, '2183130': 5463, '1681382': 5464, '2113596': 5465, '640323': 5466, '844207': 5467, '1526688': 5468, '848994': 5469, '1890622': 5470, '699495': 5471, '1037245': 5472, '2561713': 5473, '1641798': 5474, '1555917': 5475, '2526278': 5476, '2295321': 5477, '854201': 5478, '817339': 5479, '930282': 5480, '1367948': 5481, '2502098': 5482, '1747859': 5483, '1284109': 5484, '848443': 5485, '1545694': 5486, '210185': 5487, '1475970': 5488, '1722413': 5489, '2456542': 5490, '1857968': 5491, '1592086': 5492, '962631': 5493, '749010': 5494, '1151461': 5495, '450020': 5496, '1377657': 5497, '2131536': 5498, '529687': 5499, '2385226': 5500, '1970653': 5501, '1367906': 5502, '745607': 5503, '2640009': 5504, '259431': 5505, '2085981': 5506, '716831': 5507, '398239': 5508, '957334': 5509, '2522005': 5510, '1784645': 5511, '1443678': 5512, '1830000': 5513, '1448369': 5514, '522615': 5515, '17189': 5516, '1789065': 5517, '2135802': 5518, '2391124': 5519, '2503546': 5520, '2360244': 5521, '1995099': 5522, '907490': 5523, '1533540': 5524, '1132764': 5525, '380354': 5526, '1979921': 5527, '123988': 5528, '1387521': 5529, '18786': 5530, '1079142': 5531, '150663': 5532, '974823': 5533, '470500': 5534, '798524': 5535, '2150982': 5536, '2449001': 5537, '2105990': 5538, '2630286': 5539, '642543': 5540, '2055810': 5541, '243612': 5542, '1608757': 5543, '752642': 5544, '607188': 5545, '117581': 5546, '1743858': 5547, '2570444': 5548, '2349538': 5549, '413150': 5550, '1515117': 5551, '789014': 5552, '1163702': 5553, '634569': 5554, '1606812': 5555, '679869': 5556, '1273429': 5557, '1299355': 5558, '1488400': 5559, '1546809': 5560, '1130956': 5561, '799442': 5562, '1475409': 5563, '899034': 5564, '1858421': 5565, '1761229': 5566, '1961675': 5567, '1189397': 5568, '718379': 5569, '790116': 5570, '1661999': 5571, '297269': 5572, '1800430': 5573, '1748002': 5574, '2283319': 5575, '1698770': 5576, '1351594': 5577, '801513': 5578, '1070197': 5579, '1727531': 5580, '503051': 5581, '1841056': 5582, '1756111': 5583, '2572690': 5584, '1240865': 5585, '1733406': 5586, '402789': 5587, '2012412': 5588, '2230222': 5589, '1377251': 5590, '273054': 5591, '453217': 5592, '183880': 5593, '61176': 5594, '1176322': 5595, '538178': 5596, '486946': 5597, '1134816': 5598, '836150': 5599, '1728944': 5600, '2268019': 5601, '1580032': 5602, '1776870': 5603, '1179769': 5604, '571538': 5605, '762369': 5606, '1979083': 5607, '2601892': 5608, '1119063': 5609, '2095910': 5610, '530763': 5611, '2535914': 5612, '557600': 5613, '857478': 5614, '1397841': 5615, '2136526': 5616, '1473641': 5617, '1254452': 5618, '2289363': 5619, '2476202': 5620, '2257890': 5621, '1267008': 5622, '2178514': 5623, '567198': 5624, '2068409': 5625, '1765230': 5626, '1332122': 5627, '2628220': 5628, '1145956': 5629, '1102175': 5630, '1112889': 5631, '496631': 5632, '1364702': 5633, '1658953': 5634, '2330287': 5635, '425394': 5636, '826062': 5637, '902372': 5638, '44490': 5639, '2432917': 5640, '1545791': 5641, '2604824': 5642, '696400': 5643, '1439882': 5644, '1130380': 5645, '2284110': 5646, '1908523': 5647, '415253': 5648, '2120767': 5649, '1364974': 5650, '1385895': 5651, '1362091': 5652, '837636': 5653, '679277': 5654, '566628': 5655, '927462': 5656, '2621862': 5657, '540417': 5658, '2103029': 5659, '1763197': 5660, '1465445': 5661, '2057826': 5662, '209200': 5663, '1645514': 5664, '1592339': 5665, '1255081': 5666, '1150537': 5667, '1036991': 5668, '1193872': 5669, '1539017': 5670, '1232251': 5671, '1156578': 5672, '2260739': 5673, '862057': 5674, '2282493': 5675, '464621': 5676, '767590': 5677, '165653': 5678, '2615244': 5679, '2093403': 5680, '1103874': 5681, '1476304': 5682, '664562': 5683, '717972': 5684, '1780909': 5685, '799542': 5686, '863081': 5687, '2644238': 5688, '534933': 5689, '791775': 5690, '2064432': 5691, '732122': 5692, '763551': 5693, '2021271': 5694, '890573': 5695, '402287': 5696, '1377989': 5697, '1928019': 5698, '1251306': 5699, '373557': 5700, '706638': 5701, '2303456': 5702, '2043195': 5703, '1466323': 5704, '1036692': 5705, '361070': 5706, '1066555': 5707, '520817': 5708, '2070036': 5709, '1521960': 5710, '1375374': 5711, '1568621': 5712, '893701': 5713, '162756': 5714, '722798': 5715, '1538659': 5716, '1597861': 5717, '397212': 5718, '2287480': 5719, '1508279': 5720, '317779': 5721, '352812': 5722, '759018': 5723, '1843005': 5724, '2151359': 5725, '1727342': 5726, '2552618': 5727, '38946': 5728, '2051123': 5729, '533352': 5730, '1523109': 5731, '678908': 5732, '1612558': 5733, '358182': 5734, '1172667': 5735, '2190625': 5736, '148371': 5737, '290301': 5738, '1069347': 5739, '492394': 5740, '244977': 5741, '322191': 5742, '1188774': 5743, '1293788': 5744, '1932785': 5745, '1364926': 5746, '1616870': 5747, '1400154': 5748, '770945': 5749, '262410': 5750, '753231': 5751, '98586': 5752, '992512': 5753, '732775': 5754, '1999791': 5755, '2625371': 5756, '2254919': 5757, '293708': 5758, '1871358': 5759, '2233486': 5760, '2241897': 5761, '1487119': 5762, '504051': 5763, '1881328': 5764, '765129': 5765, '2640264': 5766, '2537646': 5767, '486798': 5768, '2502112': 5769, '1809269': 5770, '1851758': 5771, '2585513': 5772, '954353': 5773, '1206512': 5774, '2245579': 5775, '2550095': 5776, '2171299': 5777, '1991674': 5778, '1425382': 5779, '465238': 5780, '2374109': 5781, '2049414': 5782, '808020': 5783, '770133': 5784, '1203991': 5785, '525354': 5786, '951906': 5787, '2609372': 5788, '200805': 5789, '1661344': 5790, '729527': 5791, '237449': 5792, '1118103': 5793, '769887': 5794, '674590': 5795, '2412383': 5796, '1946303': 5797, '280120': 5798, '381565': 5799, '99844': 5800, '2038137': 5801, '1482441': 5802, '1178384': 5803, '1104107': 5804, '2633733': 5805, '1846462': 5806, '2031917': 5807, '410446': 5808, '2599262': 5809, '608694': 5810, '2224734': 5811, '1778238': 5812, '1899578': 5813, '940434': 5814, '458017': 5815, '2054421': 5816, '1965634': 5817, '1375610': 5818, '874451': 5819, '2349595': 5820, '648874': 5821, '2193323': 5822, '1851283': 5823, '791026': 5824, '561636': 5825, '2609870': 5826, '1363333': 5827, '493842': 5828, '1656130': 5829, '2214494': 5830, '1494153': 5831, '1628506': 5832, '1187765': 5833, '2615152': 5834, '2420384': 5835, '1687961': 5836, '2446506': 5837, '2127829': 5838, '598699': 5839, '2069944': 5840, '2124888': 5841, '1538355': 5842, '622994': 5843, '2015498': 5844, '42275': 5845, '272173': 5846, '1788130': 5847, '514829': 5848, '393928': 5849, '1036918': 5850, '968242': 5851, '1204865': 5852, '1169732': 5853, '47344': 5854, '2023883': 5855, '2340098': 5856, '915959': 5857, '841955': 5858, '112215': 5859, '1802059': 5860, '621908': 5861, '526361': 5862, '467381': 5863, '1540724': 5864, '1453928': 5865, '439078': 5866, '1112998': 5867, '331341': 5868, '1062852': 5869, '1949018': 5870, '286912': 5871, '459772': 5872, '840737': 5873, '2375033': 5874, '2040946': 5875, '662832': 5876, '1944505': 5877, '406992': 5878, '2113709': 5879, '1472772': 5880, '938931': 5881, '1830717': 5882, '2468281': 5883, '108871': 5884, '2327743': 5885, '97895': 5886, '255470': 5887, '1357072': 5888, '264988': 5889, '2303683': 5890, '2596061': 5891, '1527246': 5892, '2410252': 5893, '2240905': 5894, '42072': 5895, '2638748': 5896, '927777': 5897, '2587481': 5898, '1803723': 5899, '2073753': 5900, '2138757': 5901, '2461079': 5902, '591238': 5903, '2043344': 5904, '290588': 5905, '794805': 5906, '1411831': 5907, '2509976': 5908, '622194': 5909, '550802': 5910, '835847': 5911, '63786': 5912, '1771516': 5913, '318718': 5914, '1422883': 5915, '129428': 5916, '505713': 5917, '1803747': 5918, '1743756': 5919, '2346264': 5920, '2584676': 5921, '2468305': 5922, '1988492': 5923, '2554745': 5924, '1403686': 5925, '2208519': 5926, '287695': 5927, '413615': 5928, '685718': 5929, '163875': 5930, '1546371': 5931, '1569859': 5932, '2124347': 5933, '1107986': 5934, '49144': 5935, '2110645': 5936, '2386321': 5937, '2364551': 5938, '2034654': 5939, '145615': 5940, '2213625': 5941, '189443': 5942, '1981151': 5943, '1561960': 5944, '2110677': 5945, '351882': 5946, '1290993': 5947, '1541780': 5948, '2324555': 5949, '2408145': 5950, '1515495': 5951, '1749925': 5952, '813694': 5953, '2610029': 5954, '197070': 5955, '110472': 5956, '216893': 5957, '759289': 5958, '2337494': 5959, '202114': 5960, '1138359': 5961, '1444057': 5962, '2368442': 5963, '1998465': 5964, '394803': 5965, '1382872': 5966, '1663694': 5967, '296555': 5968, '636262': 5969, '730856': 5970, '558243': 5971, '1746056': 5972, '170446': 5973, '2367141': 5974, '235782': 5975, '2126890': 5976, '1395778': 5977, '1670875': 5978, '2079367': 5979, '1210935': 5980, '798296': 5981, '381326': 5982, '2614125': 5983, '1946021': 5984, '2247402': 5985, '2176465': 5986, '2385309': 5987, '2575175': 5988, '1787994': 5989, '1003840': 5990, '1246721': 5991, '1642330': 5992, '2622843': 5993, '1580014': 5994, '1365840': 5995, '480567': 5996, '1945863': 5997, '1508638': 5998, '1934260': 5999, '748028': 6000, '1239634': 6001, '2321435': 6002, '423990': 6003, '1461717': 6004, '591336': 6005, '719246': 6006, '2051681': 6007, '945666': 6008, '593252': 6009, '2445646': 6010, '1936110': 6011, '480612': 6012, '307231': 6013, '515952': 6014, '760702': 6015, '1549828': 6016, '2120912': 6017, '652389': 6018, '2590895': 6019, '1620566': 6020, '635196': 6021, '1486389': 6022, '2537745': 6023, '808873': 6024, '1017698': 6025, '2039415': 6026, '1314842': 6027, '2400904': 6028, '1709076': 6029, '224856': 6030, '502274': 6031, '2363627': 6032, '1178938': 6033, '2402945': 6034, '1980593': 6035, '903779': 6036, '2398894': 6037, '552356': 6038, '678212': 6039, '1708823': 6040, '561447': 6041, '845653': 6042, '1186746': 6043, '1715879': 6044, '1183223': 6045, '790348': 6046, '2049734': 6047, '782075': 6048, '1054564': 6049, '1431636': 6050, '2296658': 6051, '1918987': 6052, '14817': 6053, '1144968': 6054, '1275703': 6055, '341961': 6056, '289278': 6057, '2298339': 6058, '2107839': 6059, '2483096': 6060, '1131695': 6061, '908205': 6062, '1094019': 6063, '2237988': 6064, '2184621': 6065, '1935981': 6066, '350145': 6067, '971138': 6068, '2133849': 6069, '1831550': 6070, '1448787': 6071, '1354434': 6072, '2439009': 6073, '1249692': 6074, '371349': 6075, '1200520': 6076, '2032798': 6077, '1197972': 6078, '406841': 6079, '1353371': 6080, '667438': 6081, '363169': 6082, '2161899': 6083, '1177875': 6084, '2418086': 6085, '2405311': 6086, '1932946': 6087, '595095': 6088, '2115174': 6089, '731592': 6090, '2224673': 6091, '1983938': 6092, '306311': 6093, '1172676': 6094, '1313714': 6095, '1843816': 6096, '876961': 6097, '2547458': 6098, '2069740': 6099, '1385316': 6100, '1468138': 6101, '1024568': 6102, '475645': 6103, '1523710': 6104, '2558268': 6105, '2092746': 6106, '2283695': 6107, '1886161': 6108, '2416619': 6109, '1114821': 6110, '994458': 6111, '2590830': 6112, '1238258': 6113, '272840': 6114, '2506974': 6115, '541295': 6116, '798248': 6117, '1252558': 6118, '2171936': 6119, '1766660': 6120, '2127784': 6121, '899412': 6122, '2259557': 6123, '1939632': 6124, '2530297': 6125, '1042614': 6126, '560909': 6127, '188678': 6128, '966591': 6129, '1540380': 6130, '617390': 6131, '2117724': 6132, '1793777': 6133, '1414878': 6134, '225934': 6135, '318291': 6136, '2577726': 6137, '1079746': 6138, '523130': 6139, '1057992': 6140, '1933255': 6141, '958382': 6142, '3363': 6143, '646009': 6144, '491623': 6145, '694620': 6146, '308487': 6147, '887523': 6148, '1714580': 6149, '1230390': 6150, '2104033': 6151, '825779': 6152, '52639': 6153, '443353': 6154, '547052': 6155, '274062': 6156, '2593478': 6157, '2117432': 6158, '1360119': 6159, '1379015': 6160, '1242044': 6161, '1379923': 6162, '2014322': 6163, '2568589': 6164, '2617170': 6165, '2084362': 6166, '1233831': 6167, '1235191': 6168, '1047788': 6169, '364739': 6170, '149028': 6171, '137765': 6172, '2384070': 6173, '384027': 6174, '324162': 6175, '1694750': 6176, '2274584': 6177, '448894': 6178, '2407994': 6179, '1795694': 6180, '1863119': 6181, '1044851': 6182, '1320374': 6183, '329471': 6184, '285330': 6185, '2631660': 6186, '291914': 6187, '1205174': 6188, '326567': 6189, '1057722': 6190, '2312725': 6191, '914602': 6192, '1777917': 6193, '2283211': 6194, '946528': 6195, '396029': 6196, '920065': 6197, '1247208': 6198, '1748612': 6199, '152063': 6200, '1982465': 6201, '2337133': 6202, '1320147': 6203, '1855975': 6204, '2426498': 6205, '1755092': 6206, '2549746': 6207, '271840': 6208, '1390458': 6209, '2323957': 6210, '1473595': 6211, '1862911': 6212, '133119': 6213, '1144671': 6214, '1262887': 6215, '2326007': 6216, '27434': 6217, '1150431': 6218, '2004274': 6219, '2409280': 6220, '2341756': 6221, '1257291': 6222, '1229545': 6223, '1293986': 6224, '2222535': 6225, '2385134': 6226, '1405556': 6227, '2265729': 6228, '1848938': 6229, '311144': 6230, '1288554': 6231, '2278527': 6232, '363170': 6233, '397077': 6234, '2145072': 6235, '2088813': 6236, '164845': 6237, '2239067': 6238, '2273695': 6239, '1766191': 6240, '1875019': 6241, '1172177': 6242, '2502395': 6243, '1262523': 6244, '1868998': 6245, '2355384': 6246, '2379437': 6247, '2398440': 6248, '2081090': 6249, '923606': 6250, '78846': 6251, '1296679': 6252, '2480035': 6253, '404751': 6254, '2265867': 6255, '148860': 6256, '2394704': 6257, '2219063': 6258, '401624': 6259, '2567172': 6260, '521315': 6261, '1116538': 6262, '894886': 6263, '1152594': 6264, '1942723': 6265, '1010516': 6266, '1362974': 6267, '2524282': 6268, '1925115': 6269, '765484': 6270, '2416829': 6271, '1370842': 6272, '1504759': 6273, '928208': 6274, '1132822': 6275, '1698123': 6276, '2382512': 6277, '1060623': 6278, '1156180': 6279, '2596426': 6280, '935010': 6281, '1775706': 6282, '1095823': 6283, '2539735': 6284, '1882738': 6285, '730027': 6286, '215281': 6287, '2575145': 6288, '2130443': 6289, '159328': 6290, '2575417': 6291, '318920': 6292, '614672': 6293, '2427410': 6294, '2498939': 6295, '42147': 6296, '1229969': 6297, '94668': 6298, '2112235': 6299, '1657342': 6300, '680334': 6301, '1356381': 6302, '1500017': 6303, '1236924': 6304, '120579': 6305, '1820855': 6306, '1903324': 6307, '1611284': 6308, '1966750': 6309, '1505330': 6310, '1309043': 6311, '1686464': 6312, '200255': 6313, '393966': 6314, '146851': 6315, '2426964': 6316, '2188684': 6317, '1043805': 6318, '1667347': 6319, '2214251': 6320, '550615': 6321, '512995': 6322, '1971798': 6323, '288101': 6324, '2242333': 6325, '1754146': 6326, '1783938': 6327, '1092228': 6328, '1401487': 6329, '146765': 6330, '1502423': 6331, '2101060': 6332, '1412392': 6333, '665252': 6334, '184199': 6335, '406160': 6336, '1579413': 6337, '2069473': 6338, '2605702': 6339, '1173267': 6340, '1100528': 6341, '936093': 6342, '2430662': 6343, '1319449': 6344, '1322957': 6345, '1070554': 6346, '1934538': 6347, '1264313': 6348, '1576491': 6349, '2480084': 6350, '1583282': 6351, '589571': 6352, '1433792': 6353, '1587640': 6354, '382906': 6355, '2246826': 6356, '2506843': 6357, '2081171': 6358, '1096051': 6359, '949240': 6360, '1926651': 6361, '1031767': 6362, '106873': 6363, '1647196': 6364, '2219709': 6365, '2157606': 6366, '1662658': 6367, '1507631': 6368, '81881': 6369, '1900823': 6370, '163951': 6371, '118244': 6372, '2078947': 6373, '596918': 6374, '85169': 6375, '1939029': 6376, '2076358': 6377, '1460008': 6378, '342695': 6379, '8212': 6380, '2445581': 6381, '1100906': 6382, '1606779': 6383, '1389968': 6384, '1432549': 6385, '1242367': 6386, '2395648': 6387, '991964': 6388, '2120968': 6389, '1044742': 6390, '825554': 6391, '540458': 6392, '685310': 6393, '1253043': 6394, '1326341': 6395, '1705392': 6396, '2432340': 6397, '968808': 6398, '1336618': 6399, '2508312': 6400, '1424040': 6401, '1701442': 6402, '1033433': 6403, '256057': 6404, '1592816': 6405, '2442104': 6406, '75214': 6407, '411053': 6408, '1804819': 6409, '1692897': 6410, '466763': 6411, '417516': 6412, '674469': 6413, '2332556': 6414, '2158839': 6415, '2218750': 6416, '2597077': 6417, '1740166': 6418, '1281460': 6419, '1480209': 6420, '1398256': 6421, '1349959': 6422, '394895': 6423, '990036': 6424, '794345': 6425, '1389799': 6426, '726823': 6427, '1788023': 6428, '1992341': 6429, '318409': 6430, '2093590': 6431, '452667': 6432, '522180': 6433, '1552183': 6434, '1956690': 6435, '540807': 6436, '9321': 6437, '397216': 6438, '566604': 6439, '1122179': 6440, '996577': 6441, '1731121': 6442, '1363820': 6443, '2075525': 6444, '865254': 6445, '585968': 6446, '2239537': 6447, '602861': 6448, '461344': 6449, '1349619': 6450, '1827421': 6451, '1409555': 6452, '1622963': 6453, '2099651': 6454, '1392942': 6455, '941431': 6456, '1658467': 6457, '1089687': 6458, '610997': 6459, '269850': 6460, '1539617': 6461, '762999': 6462, '235691': 6463, '1467035': 6464, '61765': 6465, '1791615': 6466, '1153492': 6467, '1739296': 6468, '300435': 6469, '74427': 6470, '1211016': 6471, '1001461': 6472, '2475562': 6473, '855309': 6474, '2266721': 6475, '576723': 6476, '1553030': 6477, '651973': 6478, '773694': 6479, '1389633': 6480, '608204': 6481, '2614156': 6482, '1600960': 6483, '2566231': 6484, '1372226': 6485, '1788180': 6486, '644429': 6487, '2061245': 6488, '2556523': 6489, '1021583': 6490, '1288346': 6491, '2580969': 6492, '1995832': 6493, '840763': 6494, '1122106': 6495, '1866446': 6496, '562803': 6497, '620714': 6498, '1262713': 6499, '1073935': 6500, '1192313': 6501, '1248145': 6502, '2026477': 6503, '1149153': 6504, '2167896': 6505, '901684': 6506, '743216': 6507, '139810': 6508, '2466889': 6509, '1622041': 6510, '74831': 6511, '1470255': 6512, '1952473': 6513, '439871': 6514, '876005': 6515, '1513680': 6516, '427186': 6517, '1424177': 6518, '1765381': 6519, '1396694': 6520, '112349': 6521, '1387049': 6522, '400909': 6523, '2051135': 6524, '623240': 6525, '1048389': 6526, '2638856': 6527, '1028890': 6528, '662624': 6529, '942007': 6530, '119727': 6531, '1833897': 6532, '1662118': 6533, '378784': 6534, '528772': 6535, '213486': 6536, '1880477': 6537, '848753': 6538, '2128440': 6539, '2456787': 6540, '520507': 6541, '2151468': 6542, '1813076': 6543, '91979': 6544, '183205': 6545, '882359': 6546, '927007': 6547, '227463': 6548, '2336079': 6549, '1295898': 6550, '862040': 6551, '126230': 6552, '1917946': 6553, '363772': 6554, '2220646': 6555, '2512128': 6556, '558634': 6557, '932927': 6558, '2358148': 6559, '1593530': 6560, '1380947': 6561, '1148329': 6562, '1155404': 6563, '1947378': 6564, '1450660': 6565, '2442646': 6566, '1415024': 6567, '636273': 6568, '2566204': 6569, '212227': 6570, '2583754': 6571, '2378393': 6572, '1029561': 6573, '999504': 6574, '496645': 6575, '252915': 6576, '1551814': 6577, '1995942': 6578, '2372839': 6579, '1640822': 6580, '2143797': 6581, '1500479': 6582, '1963419': 6583, '1868586': 6584, '554192': 6585, '416130': 6586, '1600210': 6587, '616758': 6588, '693771': 6589, '1964597': 6590, '1569103': 6591, '255357': 6592, '482971': 6593, '2550506': 6594, '123333': 6595, '337186': 6596, '770860': 6597, '1584352': 6598, '2276627': 6599, '545026': 6600, '1945809': 6601, '2014748': 6602, '508652': 6603, '2369453': 6604, '198000': 6605, '493637': 6606, '308751': 6607, '1876574': 6608, '2270666': 6609, '1363315': 6610, '105864': 6611, '1564095': 6612, '2301856': 6613, '478932': 6614, '1357667': 6615, '2183402': 6616, '2493786': 6617, '1446909': 6618, '1248467': 6619, '1640519': 6620, '2145905': 6621, '1873377': 6622, '95186': 6623, '1087416': 6624, '1275277': 6625, '1459526': 6626, '1314869': 6627, '2134226': 6628, '1586533': 6629, '751829': 6630, '1333911': 6631, '1951741': 6632, '2594995': 6633, '606249': 6634, '2311867': 6635, '1043112': 6636, '2556992': 6637, '111086': 6638, '1930649': 6639, '2276649': 6640, '355095': 6641, '485083': 6642, '1932594': 6643, '2371791': 6644, '1592222': 6645, '45207': 6646, '369756': 6647, '1510489': 6648, '390067': 6649, '2270963': 6650, '944044': 6651, '2319023': 6652, '696901': 6653, '894553': 6654, '748702': 6655, '1614714': 6656, '2433978': 6657, '1515439': 6658, '1249773': 6659, '423969': 6660, '1526115': 6661, '579549': 6662, '2307940': 6663, '287439': 6664, '1510130': 6665, '1956679': 6666, '1054053': 6667, '247846': 6668, '1705134': 6669, '1170130': 6670, '1496291': 6671, '912738': 6672, '842841': 6673, '750677': 6674, '1637253': 6675, '1198785': 6676, '341418': 6677, '2564111': 6678, '2075925': 6679, '641754': 6680, '918735': 6681, '978734': 6682, '1099833': 6683, '783570': 6684, '588623': 6685, '29706': 6686, '390371': 6687, '1434786': 6688, '2327365': 6689, '122188': 6690, '504211': 6691, '2051520': 6692, '2331421': 6693, '691919': 6694, '2226525': 6695, '467910': 6696, '2213550': 6697, '1523029': 6698, '976534': 6699, '1150125': 6700, '723545': 6701, '2129120': 6702, '262633': 6703, '383451': 6704, '1500614': 6705, '1765862': 6706, '398468': 6707, '664203': 6708, '827136': 6709, '2496250': 6710, '2640943': 6711, '577103': 6712, '2216056': 6713, '88280': 6714, '2358820': 6715, '1077806': 6716, '2147714': 6717, '1846348': 6718, '146587': 6719, '1740681': 6720, '1802972': 6721, '2296189': 6722, '858298': 6723, '1637804': 6724, '1806146': 6725, '815418': 6726, '2046124': 6727, '475797': 6728, '714802': 6729, '1083131': 6730, '1106982': 6731, '989859': 6732, '2588107': 6733, '1672251': 6734, '521166': 6735, '1882180': 6736, '2379296': 6737, '196846': 6738, '2341845': 6739, '1511076': 6740, '204568': 6741, '1930443': 6742, '1634780': 6743, '1982495': 6744, '595870': 6745, '2491366': 6746, '400086': 6747, '2480664': 6748, '2534690': 6749, '843201': 6750, '449632': 6751, '1059927': 6752, '1961777': 6753, '1517471': 6754, '856563': 6755, '2490049': 6756, '982829': 6757, '1406872': 6758, '1818241': 6759, '1945559': 6760, '25354': 6761, '291396': 6762, '1700131': 6763, '750646': 6764, '2339129': 6765, '1812378': 6766, '2135424': 6767, '788617': 6768, '1706873': 6769, '1649034': 6770, '2167290': 6771, '1422758': 6772, '2229308': 6773, '2108672': 6774, '14642': 6775, '1403658': 6776, '934339': 6777, '107840': 6778, '1617448': 6779, '1211709': 6780, '2203451': 6781, '1851429': 6782, '2500583': 6783, '1411663': 6784, '1429631': 6785, '1837470': 6786, '751725': 6787, '1759422': 6788, '1218004': 6789, '1570738': 6790, '2271496': 6791, '1026507': 6792, '311711': 6793, '1922072': 6794, '2010666': 6795, '279786': 6796, '2597230': 6797, '555841': 6798, '202435': 6799, '90281': 6800, '125493': 6801, '698818': 6802, '566016': 6803, '936998': 6804, '943538': 6805, '2141681': 6806, '251967': 6807, '770268': 6808, '756987': 6809, '1210147': 6810, '1790576': 6811, '2553792': 6812, '487996': 6813, '2606799': 6814, '668939': 6815, '2312124': 6816, '155850': 6817, '2636126': 6818, '2608542': 6819, '1811832': 6820, '1768341': 6821, '2164772': 6822, '1602984': 6823, '2569992': 6824, '1076511': 6825, '1117152': 6826, '760481': 6827, '2490540': 6828, '2597802': 6829, '1116129': 6830, '156401': 6831, '153237': 6832, '1974726': 6833, '869845': 6834, '1626388': 6835, '1650616': 6836, '2283870': 6837, '1201695': 6838, '1475543': 6839, '298981': 6840, '2026928': 6841, '877613': 6842, '68384': 6843, '112987': 6844, '118416': 6845, '2493423': 6846, '2259064': 6847, '392077': 6848, '1814941': 6849, '1179117': 6850, '1064540': 6851, '1933656': 6852, '1916555': 6853, '813382': 6854, '407877': 6855, '1137642': 6856, '2211187': 6857, '150344': 6858, '573802': 6859, '2123534': 6860, '2278224': 6861, '181207': 6862, '2279609': 6863, '2127497': 6864, '163893': 6865, '92786': 6866, '1623050': 6867, '581948': 6868, '2121765': 6869, '1912781': 6870, '524390': 6871, '1725003': 6872, '152807': 6873, '1637720': 6874, '2366063': 6875, '2133545': 6876, '675111': 6877, '921587': 6878, '2481214': 6879, '399971': 6880, '991385': 6881, '1193468': 6882, '2061733': 6883, '625067': 6884, '200427': 6885, '1234392': 6886, '2495094': 6887, '290215': 6888, '363980': 6889, '2288889': 6890, '1053731': 6891, '1311777': 6892, '993657': 6893, '1282217': 6894, '600160': 6895, '1621703': 6896, '1902838': 6897, '203576': 6898, '178886': 6899, '479781': 6900, '1024066': 6901, '1965893': 6902, '1401744': 6903, '1742931': 6904, '1245143': 6905, '1679129': 6906, '2602674': 6907, '2212841': 6908, '580817': 6909, '1340811': 6910, '1332684': 6911, '2195240': 6912, '1331862': 6913, '610014': 6914, '2396324': 6915, '1602759': 6916, '1546259': 6917, '1299338': 6918, '2396388': 6919, '932047': 6920, '2613898': 6921, '2347565': 6922, '1036167': 6923, '918897': 6924, '1510728': 6925, '1776625': 6926, '1174779': 6927, '581952': 6928, '2407208': 6929, '588392': 6930, '2608886': 6931, '1931285': 6932, '2139217': 6933, '2648885': 6934, '1143837': 6935, '1210065': 6936, '2481883': 6937, '1684328': 6938, '2159495': 6939, '2101124': 6940, '757756': 6941, '2193570': 6942, '1740238': 6943, '121182': 6944, '959785': 6945, '2238060': 6946, '1228324': 6947, '1494683': 6948, '1023512': 6949, '1368151': 6950, '2569320': 6951, '1566425': 6952, '394501': 6953, '2079810': 6954, '2263991': 6955, '1318303': 6956, '500440': 6957, '1763220': 6958, '1980604': 6959, '1855317': 6960, '818416': 6961, '1690279': 6962, '1419757': 6963, '1915501': 6964, '812796': 6965, '2325413': 6966, '1287203': 6967, '1351064': 6968, '1984978': 6969, '2100003': 6970, '2401147': 6971, '537912': 6972, '2128219': 6973, '977973': 6974, '781014': 6975, '2124994': 6976, '1757132': 6977, '778283': 6978, '2105883': 6979, '2598035': 6980, '2076863': 6981, '553908': 6982, '1296087': 6983, '976059': 6984, '1394516': 6985, '752668': 6986, '2629996': 6987, '1226928': 6988, '75086': 6989, '947661': 6990, '1517889': 6991, '1720731': 6992, '1631433': 6993, '1409469': 6994, '371701': 6995, '2033070': 6996, '617409': 6997, '2143489': 6998, '1322587': 6999, '1528326': 7000, '619690': 7001, '2320264': 7002, '734541': 7003, '221776': 7004, '1019536': 7005, '858666': 7006, '937905': 7007, '1532433': 7008, '105532': 7009, '1087004': 7010, '769789': 7011, '1310177': 7012, '791266': 7013, '599328': 7014, '1672902': 7015, '1630714': 7016, '1466320': 7017, '346189': 7018, '476512': 7019, '1709177': 7020, '1330537': 7021, '2185058': 7022, '1581512': 7023, '2397374': 7024, '108936': 7025, '1474480': 7026, '1096917': 7027, '1111312': 7028, '753663': 7029, '946075': 7030, '1070519': 7031, '847863': 7032, '2470844': 7033, '2083951': 7034, '2037342': 7035, '2516525': 7036, '2079484': 7037, '1257939': 7038, '1505182': 7039, '933837': 7040, '899410': 7041, '93355': 7042, '319368': 7043, '1178715': 7044, '2074629': 7045, '1706831': 7046, '2282499': 7047, '2030888': 7048, '2464431': 7049, '2223033': 7050, '2015946': 7051, '1107099': 7052, '408037': 7053, '687445': 7054, '469021': 7055, '2048985': 7056, '827056': 7057, '697116': 7058, '227469': 7059, '2212144': 7060, '1238184': 7061, '1062416': 7062, '53503': 7063, '2337855': 7064, '967190': 7065, '2492047': 7066, '78404': 7067, '1132940': 7068, '2430257': 7069, '734269': 7070, '680045': 7071, '2339191': 7072, '2214880': 7073, '2452476': 7074, '2246248': 7075, '1959760': 7076, '292654': 7077, '1492520': 7078, '2438708': 7079, '1258916': 7080, '728560': 7081, '92394': 7082, '912661': 7083, '401917': 7084, '1475417': 7085, '556458': 7086, '1488032': 7087, '128792': 7088, '1167931': 7089, '1300036': 7090, '1914553': 7091, '1914525': 7092, '617717': 7093, '23713': 7094, '1538415': 7095, '2468774': 7096, '1970437': 7097, '2047577': 7098, '1597207': 7099, '766840': 7100, '573533': 7101, '1357209': 7102, '2282041': 7103, '1160232': 7104, '1774516': 7105, '837993': 7106, '519891': 7107, '786787': 7108, '2625649': 7109, '1332725': 7110, '1991699': 7111, '701514': 7112, '1638987': 7113, '2439640': 7114, '494486': 7115, '376197': 7116, '96124': 7117, '634280': 7118, '2468881': 7119, '1641072': 7120, '417323': 7121, '1227649': 7122, '1167873': 7123, '2200634': 7124, '2231930': 7125, '1690697': 7126, '1895059': 7127, '1424084': 7128, '2543231': 7129, '1448246': 7130, '331154': 7131, '1173289': 7132, '2515276': 7133, '2149357': 7134, '2500870': 7135, '445227': 7136, '2503632': 7137, '1348088': 7138, '834611': 7139, '1048152': 7140, '1557013': 7141, '437182': 7142, '1333236': 7143, '732590': 7144, '2075711': 7145, '1712165': 7146, '2525542': 7147, '1640067': 7148, '2389367': 7149, '1813197': 7150, '2221499': 7151, '145873': 7152, '1122985': 7153, '1413367': 7154, '1807097': 7155, '1315963': 7156, '2248484': 7157, '410206': 7158, '1894721': 7159, '568434': 7160, '2604057': 7161, '2248854': 7162, '1738753': 7163, '1134871': 7164, '2030523': 7165, '420622': 7166, '1386737': 7167, '712405': 7168, '207017': 7169, '1658716': 7170, '2354626': 7171, '1902747': 7172, '1027280': 7173, '625300': 7174, '880688': 7175, '1916244': 7176, '582815': 7177, '543279': 7178, '141839': 7179, '42487': 7180, '1445236': 7181, '1456837': 7182, '917857': 7183, '1991613': 7184, '762835': 7185, '1426220': 7186, '620741': 7187, '625095': 7188, '2377643': 7189, '831839': 7190, '925446': 7191, '2141037': 7192, '2592025': 7193, '1295097': 7194, '271346': 7195, '1513103': 7196, '19970': 7197, '1494275': 7198, '1324891': 7199, '1250817': 7200, '1138747': 7201, '1617329': 7202, '2448620': 7203, '1725588': 7204, '894805': 7205, '1831014': 7206, '2145288': 7207, '1866912': 7208, '2260023': 7209, '1008754': 7210, '1866164': 7211, '1153256': 7212, '1098510': 7213, '1320587': 7214, '1312016': 7215, '2141089': 7216, '1902220': 7217, '445152': 7218, '2522681': 7219, '1907667': 7220, '2524668': 7221, '1899375': 7222, '1459710': 7223, '1011888': 7224, '2360401': 7225, '1104589': 7226, '646757': 7227, '1327896': 7228, '429260': 7229, '928463': 7230, '1041851': 7231, '1187924': 7232, '204552': 7233, '2604699': 7234, '1717534': 7235, '794040': 7236, '939845': 7237, '2263985': 7238, '2210387': 7239, '181941': 7240, '2198443': 7241, '1407746': 7242, '452299': 7243, '216059': 7244, '671319': 7245, '2291306': 7246, '1965257': 7247, '1019827': 7248, '1995860': 7249, '1417402': 7250, '2493354': 7251, '522176': 7252, '1183642': 7253, '221694': 7254, '2415929': 7255, '1848170': 7256, '397596': 7257, '28277': 7258, '2364377': 7259, '2375058': 7260, '1077945': 7261, '1458172': 7262, '1499958': 7263, '2585641': 7264, '54348': 7265, '1710643': 7266, '291446': 7267, '1561857': 7268, '489220': 7269, '1305872': 7270, '480115': 7271, '1158822': 7272, '768309': 7273, '1100863': 7274, '1550207': 7275, '1257537': 7276, '1119128': 7277, '1072679': 7278, '1192830': 7279, '482921': 7280, '1374884': 7281, '2376892': 7282, '995437': 7283, '8121': 7284, '1059101': 7285, '2438294': 7286, '2088599': 7287, '2420257': 7288, '608114': 7289, '459615': 7290, '1050789': 7291, '1187113': 7292, '1146649': 7293, '2337014': 7294, '2127108': 7295, '2514164': 7296, '1152342': 7297, '1234576': 7298, '1968035': 7299, '141370': 7300, '15846': 7301, '1848945': 7302, '1586148': 7303, '419176': 7304, '48210': 7305, '2415838': 7306, '2293692': 7307, '1939074': 7308, '2564688': 7309, '2375380': 7310, '1458868': 7311, '2114300': 7312, '1952500': 7313, '2040676': 7314, '1961159': 7315, '1182503': 7316, '2000906': 7317, '2152492': 7318, '113983': 7319, '2463441': 7320, '423302': 7321, '310101': 7322, '1416254': 7323, '2643695': 7324, '2295501': 7325, '1836545': 7326, '245808': 7327, '262134': 7328, '1327900': 7329, '2449356': 7330, '2340654': 7331, '2232581': 7332, '1497593': 7333, '1626928': 7334, '471654': 7335, '2152805': 7336, '310178': 7337, '1004481': 7338, '807768': 7339, '1175391': 7340, '573077': 7341, '272845': 7342, '189887': 7343, '1778317': 7344, '236815': 7345, '1564200': 7346, '599145': 7347, '406365': 7348, '2068909': 7349, '771516': 7350, '2084213': 7351, '2414663': 7352, '1725751': 7353, '1662098': 7354, '1647244': 7355, '319119': 7356, '1987400': 7357, '50465': 7358, '2522393': 7359, '669921': 7360, '1567792': 7361, '1751572': 7362, '1397902': 7363, '881457': 7364, '2238483': 7365, '352622': 7366, '831494': 7367, '1423100': 7368, '2554035': 7369, '2508065': 7370, '1867238': 7371, '424851': 7372, '37797': 7373, '1673965': 7374, '1681954': 7375, '2226510': 7376, '1476102': 7377, '408457': 7378, '2179859': 7379, '755163': 7380, '1237971': 7381, '1498641': 7382, '620938': 7383, '129798': 7384, '471662': 7385, '625957': 7386, '1114362': 7387, '1328585': 7388, '2582726': 7389, '2033571': 7390, '647979': 7391, '980993': 7392, '119790': 7393, '1947413': 7394, '2225743': 7395, '1017411': 7396, '308990': 7397, '643058': 7398, '1716427': 7399, '16558': 7400, '1123243': 7401, '1928776': 7402, '1961161': 7403, '762318': 7404, '1452127': 7405, '2432474': 7406, '2079894': 7407, '2418869': 7408, '1924377': 7409, '2485434': 7410, '1850241': 7411, '1216860': 7412, '2566033': 7413, '1898932': 7414, '187062': 7415, '1108856': 7416, '2370719': 7417, '2179353': 7418, '2027486': 7419, '1658098': 7420, '2438621': 7421, '1874499': 7422, '2375687': 7423, '552559': 7424, '551176': 7425, '1993625': 7426, '1109711': 7427, '1293202': 7428, '79556': 7429, '2190996': 7430, '290874': 7431, '2309509': 7432, '2455': 7433, '1563429': 7434, '1194381': 7435, '962164': 7436, '1730369': 7437, '2259050': 7438, '651849': 7439, '538214': 7440, '857273': 7441, '495271': 7442, '2254090': 7443, '1930074': 7444, '1628552': 7445, '406948': 7446, '2107198': 7447, '1221336': 7448, '1634668': 7449, '2216721': 7450, '2236896': 7451, '1972112': 7452, '1944305': 7453, '713108': 7454, '707875': 7455, '4983': 7456, '132277': 7457, '868874': 7458, '2568217': 7459, '1528604': 7460, '1153770': 7461, '262880': 7462, '513210': 7463, '1910620': 7464, '2308706': 7465, '1642678': 7466, '1824444': 7467, '1973956': 7468, '206903': 7469, '1957148': 7470, '2327386': 7471, '264234': 7472, '2203568': 7473, '714664': 7474, '1645486': 7475, '1322507': 7476, '973453': 7477, '115097': 7478, '928057': 7479, '205023': 7480, '1493889': 7481, '1258738': 7482, '955885': 7483, '2366006': 7484, '2081751': 7485, '500249': 7486, '1586221': 7487, '2261255': 7488, '1255703': 7489, '2487269': 7490, '935820': 7491, '1043117': 7492, '2575940': 7493, '1343413': 7494, '2185396': 7495, '810370': 7496, '277786': 7497, '327122': 7498, '2575399': 7499, '406717': 7500, '1190829': 7501, '805207': 7502, '1385011': 7503, '1769866': 7504, '782308': 7505, '1355647': 7506, '424184': 7507, '353477': 7508, '2428259': 7509, '16273': 7510, '2597822': 7511, '1558352': 7512, '2502462': 7513, '936290': 7514, '30873': 7515, '1220170': 7516, '1514667': 7517, '563019': 7518, '1010690': 7519, '15732': 7520, '2142234': 7521, '1936844': 7522, '1849621': 7523, '1262307': 7524, '2636654': 7525, '284399': 7526, '2561009': 7527, '1545709': 7528, '830745': 7529, '508584': 7530, '2103047': 7531, '716091': 7532, '1835306': 7533, '1430108': 7534, '2500432': 7535, '1670839': 7536, '1551351': 7537, '2342874': 7538, '2203244': 7539, '414994': 7540, '2364099': 7541, '2062350': 7542, '1284912': 7543, '297100': 7544, '2578732': 7545, '312695': 7546, '1617915': 7547, '1048629': 7548, '1230729': 7549, '1581954': 7550, '2210523': 7551, '1295473': 7552, '1498526': 7553, '1036139': 7554, '1910320': 7555, '2419242': 7556, '2257458': 7557, '2241004': 7558, '2627800': 7559, '918708': 7560, '1385823': 7561, '1629801': 7562, '166980': 7563, '914283': 7564, '2319377': 7565, '1360072': 7566, '1447381': 7567, '2521856': 7568, '1230248': 7569, '388122': 7570, '1818447': 7571, '2580353': 7572, '936760': 7573, '790183': 7574, '138549': 7575, '1257921': 7576, '1202962': 7577, '2257441': 7578, '1688076': 7579, '935230': 7580, '1333129': 7581, '1806407': 7582, '1120781': 7583, '35994': 7584, '1788268': 7585, '1899679': 7586, '861874': 7587, '1688444': 7588, '1756501': 7589, '720145': 7590, '2100684': 7591, '1412245': 7592, '2199258': 7593, '767816': 7594, '445900': 7595, '1136724': 7596, '2262890': 7597, '1164175': 7598, '282953': 7599, '243736': 7600, '1766159': 7601, '2396075': 7602, '1507611': 7603, '85824': 7604, '2415052': 7605, '617654': 7606, '308495': 7607, '1154807': 7608, '2516788': 7609, '2488790': 7610, '1979787': 7611, '960023': 7612, '1242211': 7613, '180858': 7614, '1823245': 7615, '281537': 7616, '2598608': 7617, '681348': 7618, '994838': 7619, '1008085': 7620, '535510': 7621, '1759820': 7622, '1379553': 7623, '619729': 7624, '448155': 7625, '570159': 7626, '2162641': 7627, '2363387': 7628, '2127755': 7629, '2641801': 7630, '803468': 7631, '1163151': 7632, '1513643': 7633, '2028737': 7634, '2571972': 7635, '2525160': 7636, '2234889': 7637, '403674': 7638, '2035299': 7639, '1597736': 7640, '1057247': 7641, '86246': 7642, '1594650': 7643, '972986': 7644, '326512': 7645, '534237': 7646, '1522328': 7647, '1472073': 7648, '1245081': 7649, '1548363': 7650, '2490379': 7651, '462171': 7652, '2370740': 7653, '100922': 7654, '382817': 7655, '781453': 7656, '2196426': 7657, '1659398': 7658, '2140883': 7659, '2358975': 7660, '784796': 7661, '1561553': 7662, '1438518': 7663, '2049525': 7664, '2451020': 7665, '555388': 7666, '2158545': 7667, '2327693': 7668, '1262753': 7669, '2375962': 7670, '1970390': 7671, '1564649': 7672, '1850353': 7673, '1142278': 7674, '954973': 7675, '705714': 7676, '313419': 7677, '2276962': 7678, '1175759': 7679, '2103116': 7680, '2501391': 7681, '2002198': 7682, '1214181': 7683, '786731': 7684, '1392880': 7685, '2061336': 7686, '727175': 7687, '1014679': 7688, '1672014': 7689, '200469': 7690, '1490544': 7691, '733409': 7692, '1089800': 7693, '504063': 7694, '2636046': 7695, '1332388': 7696, '854454': 7697, '1454516': 7698, '664509': 7699, '519965': 7700, '943436': 7701, '957716': 7702, '2033032': 7703, '1418569': 7704, '2325684': 7705, '2556552': 7706, '1397857': 7707, '2128893': 7708, '2055178': 7709, '856273': 7710, '712460': 7711, '1550718': 7712, '21823': 7713, '2392799': 7714, '633317': 7715, '112320': 7716, '1650301': 7717, '436806': 7718, '1332228': 7719, '76604': 7720, '1423956': 7721, '1026162': 7722, '813213': 7723, '727449': 7724, '40445': 7725, '505816': 7726, '2432162': 7727, '1510806': 7728, '892254': 7729, '680554': 7730, '753596': 7731, '1684543': 7732, '1141606': 7733, '1242336': 7734, '1136172': 7735, '2534532': 7736, '2043085': 7737, '753480': 7738, '1078630': 7739, '2253797': 7740, '962537': 7741, '1271456': 7742, '1630194': 7743, '1388741': 7744, '2174660': 7745, '2552178': 7746, '2526250': 7747, '1382479': 7748, '1225628': 7749, '2326969': 7750, '1466742': 7751, '344549': 7752, '1556712': 7753, '1676513': 7754, '2164462': 7755, '766895': 7756, '1279798': 7757, '1823065': 7758, '2257323': 7759, '1560137': 7760, '1917540': 7761, '1511683': 7762, '1490642': 7763, '2034428': 7764, '1106280': 7765, '1793717': 7766, '613758': 7767, '60856': 7768, '591288': 7769, '1513841': 7770, '2604264': 7771, '1910165': 7772, '1230594': 7773, '1661600': 7774, '1628484': 7775, '2417914': 7776, '47075': 7777, '1788627': 7778, '2341304': 7779, '1010370': 7780, '1074305': 7781, '1661216': 7782, '1739230': 7783, '992021': 7784, '99614': 7785, '65286': 7786, '2098006': 7787, '594805': 7788, '1777527': 7789, '237161': 7790, '2096648': 7791, '1406473': 7792, '2238629': 7793, '1072055': 7794, '846426': 7795, '43608': 7796, '312706': 7797, '1428930': 7798, '2463585': 7799, '1846930': 7800, '719366': 7801, '536334': 7802, '2299612': 7803, '1267957': 7804, '926579': 7805, '1710035': 7806, '1334279': 7807, '933003': 7808, '1273272': 7809, '2431536': 7810, '383858': 7811, '436984': 7812, '1125226': 7813, '1437304': 7814, '2577467': 7815, '744875': 7816, '509496': 7817, '2312645': 7818, '383024': 7819, '439489': 7820, '1431104': 7821, '1922052': 7822, '1302981': 7823, '1775187': 7824, '659285': 7825, '352609': 7826, '2333714': 7827, '39809': 7828, '613651': 7829, '2068022': 7830, '1140255': 7831, '539868': 7832, '2219926': 7833, '2320879': 7834, '2342244': 7835, '137131': 7836, '1898315': 7837, '576943': 7838, '2595747': 7839, '2020877': 7840, '1897386': 7841, '1644520': 7842, '1203892': 7843, '2172710': 7844, '2525493': 7845, '273814': 7846, '2598477': 7847, '754781': 7848, '1278390': 7849, '2375169': 7850, '2082318': 7851, '1842734': 7852, '121369': 7853, '18856': 7854, '2136032': 7855, '2120303': 7856, '34408': 7857, '1380250': 7858, '1065000': 7859, '372239': 7860, '351213': 7861, '2506062': 7862, '1737149': 7863, '2152692': 7864, '2327309': 7865, '1940143': 7866, '1452061': 7867, '1759189': 7868, '2256731': 7869, '2639772': 7870, '1503647': 7871, '660434': 7872, '504243': 7873, '1391647': 7874, '116140': 7875, '1549954': 7876, '1464011': 7877, '1716604': 7878, '741840': 7879, '1395295': 7880, '2310410': 7881, '766450': 7882, '2593882': 7883, '1686270': 7884, '2584374': 7885, '660061': 7886, '1676869': 7887, '974375': 7888, '776905': 7889, '2095882': 7890, '1995265': 7891, '2474839': 7892, '648729': 7893, '1129076': 7894, '2039272': 7895, '2214803': 7896, '2161399': 7897, '1303306': 7898, '1511575': 7899, '385593': 7900, '940583': 7901, '2277114': 7902, '1235099': 7903, '932638': 7904, '1570952': 7905, '2621229': 7906, '2098963': 7907, '249030': 7908, '1839219': 7909, '2539101': 7910, '1546186': 7911, '779476': 7912, '1791461': 7913, '1185499': 7914, '1306676': 7915, '2588432': 7916, '901520': 7917, '1395688': 7918, '1425723': 7919, '252054': 7920, '169391': 7921, '717542': 7922, '187288': 7923, '1321145': 7924, '1641063': 7925, '1769920': 7926, '135625': 7927, '2338453': 7928, '1428028': 7929, '676587': 7930, '2204671': 7931, '221631': 7932, '1417705': 7933, '697045': 7934, '1763979': 7935, '1002943': 7936, '592445': 7937, '1218163': 7938, '2238860': 7939, '2588416': 7940, '2225326': 7941, '457011': 7942, '1126892': 7943, '2183302': 7944, '699783': 7945, '2494071': 7946, '1825647': 7947, '2074458': 7948, '48285': 7949, '444860': 7950, '381753': 7951, '2268901': 7952, '738657': 7953, '1797427': 7954, '1233297': 7955, '630863': 7956, '1055714': 7957, '1877958': 7958, '2303885': 7959, '1532839': 7960, '8135': 7961, '1385356': 7962, '2463759': 7963, '446163': 7964, '902050': 7965, '2287836': 7966, '1594535': 7967, '18108': 7968, '415098': 7969, '134431': 7970, '2171685': 7971, '2457095': 7972, '1626539': 7973, '26592': 7974, '2463081': 7975, '605616': 7976, '1098639': 7977, '1734505': 7978, '2180134': 7979, '415641': 7980, '2457710': 7981, '39968': 7982, '2472440': 7983, '2020353': 7984, '1744594': 7985, '1104756': 7986, '1441961': 7987, '1725009': 7988, '1990271': 7989, '1388044': 7990, '1589575': 7991, '209041': 7992, '685627': 7993, '324403': 7994, '1551543': 7995, '230966': 7996, '469003': 7997, '2049584': 7998, '873478': 7999, '41068': 8000, '2390188': 8001, '2486445': 8002, '657195': 8003, '1678272': 8004, '2267077': 8005, '2109649': 8006, '2132124': 8007, '547118': 8008, '2023416': 8009, '1625343': 8010, '2253226': 8011, '1933317': 8012, '517454': 8013, '1697754': 8014, '2227353': 8015, '1629289': 8016, '219481': 8017, '1494367': 8018, '751091': 8019, '1652711': 8020, '591612': 8021, '2547935': 8022, '737556': 8023, '2648869': 8024, '1695098': 8025, '1594618': 8026, '1735222': 8027, '2589121': 8028, '183227': 8029, '1428788': 8030, '1841991': 8031, '267163': 8032, '1151066': 8033, '339560': 8034, '2120359': 8035, '2230377': 8036, '694745': 8037, '962945': 8038, '1708554': 8039, '2536114': 8040, '2533753': 8041, '168263': 8042, '1210419': 8043, '2153837': 8044, '1413526': 8045, '2494857': 8046, '133707': 8047, '1176698': 8048, '1857889': 8049, '478815': 8050, '162854': 8051, '1562632': 8052, '281396': 8053, '833381': 8054, '1970006': 8055, '2166735': 8056, '873299': 8057, '2368686': 8058, '319526': 8059, '2273951': 8060, '2101632': 8061, '785608': 8062, '2290711': 8063, '273251': 8064, '239158': 8065, '102028': 8066, '2390205': 8067, '561531': 8068, '989579': 8069, '2240828': 8070, '1117062': 8071, '752619': 8072, '1917585': 8073, '2274712': 8074, '1474408': 8075, '1467195': 8076, '1316754': 8077, '1638580': 8078, '1860150': 8079, '2533336': 8080, '394784': 8081, '1614939': 8082, '1592126': 8083, '267880': 8084, '1484853': 8085, '1691484': 8086, '907650': 8087, '969772': 8088, '1310748': 8089, '1177340': 8090, '1302590': 8091, '1741126': 8092, '855103': 8093, '1403184': 8094, '1698900': 8095, '734448': 8096, '1169771': 8097, '1523169': 8098, '2519865': 8099, '2551641': 8100, '2512986': 8101, '2413595': 8102, '2600739': 8103, '428070': 8104, '974878': 8105, '765331': 8106, '265043': 8107, '1481171': 8108, '916727': 8109, '489962': 8110, '1529851': 8111, '1593617': 8112, '905334': 8113, '1789629': 8114, '960137': 8115, '978309': 8116, '489259': 8117, '1344394': 8118, '721771': 8119, '566017': 8120, '2144655': 8121, '345953': 8122, '393650': 8123, '1114801': 8124, '541796': 8125, '2157060': 8126, '2182331': 8127, '1396960': 8128, '998506': 8129, '2347696': 8130, '2615679': 8131, '1955076': 8132, '1130261': 8133, '1384422': 8134, '415672': 8135, '2325440': 8136, '2519993': 8137, '1313211': 8138, '2068936': 8139, '2523125': 8140, '1873281': 8141, '677031': 8142, '226048': 8143, '1420493': 8144, '2290314': 8145, '33612': 8146, '598877': 8147, '397929': 8148, '1198556': 8149, '491739': 8150, '816942': 8151, '1445821': 8152, '1772284': 8153, '33758': 8154, '2048340': 8155, '135973': 8156, '1417435': 8157, '604173': 8158, '2028530': 8159, '1478543': 8160, '1519667': 8161, '1514852': 8162, '2537719': 8163, '28656': 8164, '1395543': 8165, '835271': 8166, '829825': 8167, '46784': 8168, '124504': 8169, '2014204': 8170, '612823': 8171, '98428': 8172, '1521774': 8173, '2495613': 8174, '2633357': 8175, '1280268': 8176, '1514999': 8177, '1220542': 8178, '842026': 8179, '1851033': 8180, '902413': 8181, '761220': 8182, '1637138': 8183, '1021737': 8184, '1204995': 8185, '1391691': 8186, '1952862': 8187, '650771': 8188, '2239892': 8189, '2000681': 8190, '477892': 8191, '2378998': 8192, '2082635': 8193, '1786112': 8194, '1652105': 8195, '1027550': 8196, '301047': 8197, '1291562': 8198, '1245222': 8199, '1916224': 8200, '1174811': 8201, '491331': 8202, '2342718': 8203, '2259279': 8204, '787316': 8205, '2432433': 8206, '1347991': 8207, '2284803': 8208, '1093403': 8209, '1407028': 8210, '690313': 8211, '2243394': 8212, '931232': 8213, '845356': 8214, '2201882': 8215, '1717060': 8216, '637631': 8217, '2029744': 8218, '2475146': 8219, '357087': 8220, '1325977': 8221, '560599': 8222, '966695': 8223, '2521994': 8224, '1782533': 8225, '430459': 8226, '1352115': 8227, '2297698': 8228, '2401585': 8229, '2563498': 8230, '2415589': 8231, '712091': 8232, '627172': 8233, '2149827': 8234, '544180': 8235, '2053250': 8236, '2001296': 8237, '462128': 8238, '1954578': 8239, '1907859': 8240, '2255950': 8241, '2101973': 8242, '622419': 8243, '1473666': 8244, '1434637': 8245, '2190401': 8246, '526238': 8247, '2162424': 8248, '1911845': 8249, '78819': 8250, '834682': 8251, '7921': 8252, '1480807': 8253, '1593175': 8254, '1557477': 8255, '2451973': 8256, '2299868': 8257, '2102030': 8258, '1080872': 8259, '2380866': 8260, '1053026': 8261, '1670664': 8262, '589444': 8263, '1516496': 8264, '611315': 8265, '2269100': 8266, '21591': 8267, '1806454': 8268, '2095586': 8269, '2186436': 8270, '438189': 8271, '1281114': 8272, '2145249': 8273, '475734': 8274, '1739532': 8275, '1418514': 8276, '1114349': 8277, '1869116': 8278, '858899': 8279, '2602083': 8280, '722678': 8281, '2594535': 8282, '1033930': 8283, '1937532': 8284, '2339734': 8285, '2079983': 8286, '2138216': 8287, '2526662': 8288, '2618211': 8289, '2111332': 8290, '2471102': 8291, '1932270': 8292, '332471': 8293, '620771': 8294, '341266': 8295, '2055639': 8296, '279120': 8297, '454808': 8298, '946393': 8299, '732567': 8300, '2243423': 8301, '539844': 8302, '946101': 8303, '2637831': 8304, '1103863': 8305, '293284': 8306, '2381792': 8307, '308422': 8308, '1157850': 8309, '2467393': 8310, '1589788': 8311, '2103916': 8312, '2519696': 8313, '1675624': 8314, '1597177': 8315, '2523257': 8316, '422864': 8317, '197482': 8318, '1110479': 8319, '1831058': 8320, '2621201': 8321, '515436': 8322, '1051070': 8323, '1719288': 8324, '2566598': 8325, '2405523': 8326, '1780330': 8327, '2342016': 8328, '2559719': 8329, '2340639': 8330, '2307569': 8331, '341814': 8332, '355597': 8333, '2313013': 8334, '2227880': 8335, '167041': 8336, '2154672': 8337, '1421919': 8338, '2406094': 8339, '242896': 8340, '1989562': 8341, '1272223': 8342, '2522946': 8343, '697038': 8344, '586430': 8345, '392312': 8346, '1399457': 8347, '2028581': 8348, '1687642': 8349, '2585665': 8350, '1749656': 8351, '2044991': 8352, '2499000': 8353, '1570161': 8354, '933819': 8355, '1965252': 8356, '1510943': 8357, '2146697': 8358, '566727': 8359, '797342': 8360, '857975': 8361, '207586': 8362, '2501878': 8363, '1354076': 8364, '732635': 8365, '735346': 8366, '1388746': 8367, '169311': 8368, '1839500': 8369, '634268': 8370, '1432524': 8371, '1135399': 8372, '1958604': 8373, '334185': 8374, '867068': 8375, '858574': 8376, '563942': 8377, '1518071': 8378, '1478655': 8379, '1023470': 8380, '2228750': 8381, '1144771': 8382, '2422555': 8383, '832894': 8384, '578263': 8385, '1495562': 8386, '2299951': 8387, '370806': 8388, '1228929': 8389, '1070547': 8390, '1618060': 8391, '2270315': 8392, '706832': 8393, '1719610': 8394, '704058': 8395, '1278338': 8396, '456090': 8397, '2265139': 8398, '1173459': 8399, '1619065': 8400, '426198': 8401, '1338746': 8402, '311027': 8403, '2013504': 8404, '1268699': 8405, '2556305': 8406, '2117562': 8407, '2124931': 8408, '1703544': 8409, '1247574': 8410, '1872933': 8411, '2022007': 8412, '1575323': 8413, '817464': 8414, '561533': 8415, '2510270': 8416, '1691656': 8417, '2360906': 8418, '2080562': 8419, '328125': 8420, '762998': 8421, '1931026': 8422, '2230286': 8423, '2427575': 8424, '1412213': 8425, '724224': 8426, '2559676': 8427, '1013527': 8428, '1329786': 8429, '934647': 8430, '1241958': 8431, '1943753': 8432, '1213041': 8433, '1351373': 8434, '488119': 8435, '1236413': 8436, '1083666': 8437, '2490507': 8438, '562156': 8439, '2150746': 8440, '1893856': 8441, '1928290': 8442, '1058508': 8443, '2399842': 8444, '1457892': 8445, '2336203': 8446, '385781': 8447, '961389': 8448, '452860': 8449, '2508565': 8450, '973313': 8451, '2157004': 8452, '1493780': 8453, '2365398': 8454, '1171959': 8455, '2150689': 8456, '1336367': 8457, '1359075': 8458, '1167521': 8459, '418190': 8460, '726342': 8461, '1317580': 8462, '1484680': 8463, '340106': 8464, '1475461': 8465, '1703083': 8466, '883684': 8467, '2229690': 8468, '1091772': 8469, '613438': 8470, '336578': 8471, '615257': 8472, '211704': 8473, '2614527': 8474, '522221': 8475, '805637': 8476, '590003': 8477, '1746378': 8478, '2636989': 8479, '781778': 8480, '1972705': 8481, '1542002': 8482, '2332377': 8483, '1285230': 8484, '1000527': 8485, '2034589': 8486, '2249958': 8487, '2385435': 8488, '2590072': 8489, '443193': 8490, '1537983': 8491, '1462959': 8492, '2081462': 8493, '1233877': 8494, '2648287': 8495, '1987569': 8496, '2394024': 8497, '915103': 8498, '1400108': 8499, '1830265': 8500, '2520364': 8501, '1789683': 8502, '1195616': 8503, '1343237': 8504, '1557557': 8505, '1490538': 8506, '293766': 8507, '974864': 8508, '1175090': 8509, '1280149': 8510, '2122285': 8511, '2467457': 8512, '81912': 8513, '934993': 8514, '736927': 8515, '543339': 8516, '612653': 8517, '1702035': 8518, '1554161': 8519, '1956081': 8520, '110938': 8521, '268846': 8522, '1024768': 8523, '1267394': 8524, '1547886': 8525, '1083968': 8526, '2437983': 8527, '2056554': 8528, '2535470': 8529, '2001263': 8530, '765869': 8531, '528560': 8532, '820624': 8533, '1381683': 8534, '1911099': 8535, '2206663': 8536, '2489377': 8537, '465885': 8538, '50214': 8539, '2591832': 8540, '1035041': 8541, '2554058': 8542, '1949399': 8543, '453239': 8544, '170758': 8545, '1713439': 8546, '2169856': 8547, '1008097': 8548, '241634': 8549, '245837': 8550, '951682': 8551, '611049': 8552, '2631565': 8553, '104724': 8554, '2551589': 8555, '42477': 8556, '153539': 8557, '447930': 8558, '1679462': 8559, '335178': 8560, '256033': 8561, '1820824': 8562, '2513559': 8563, '943920': 8564, '813594': 8565, '2302920': 8566, '1128178': 8567, '1366860': 8568, '2490151': 8569, '1043885': 8570, '1409687': 8571, '2179904': 8572, '501823': 8573, '1479499': 8574, '1403217': 8575, '46140': 8576, '516240': 8577, '2373453': 8578, '682560': 8579, '1195392': 8580, '2210112': 8581, '1840146': 8582, '795341': 8583, '56371': 8584, '2365581': 8585, '1192767': 8586, '396140': 8587, '1044160': 8588, '2574484': 8589, '622712': 8590, '1020745': 8591, '620147': 8592, '1341813': 8593, '528666': 8594, '2008700': 8595, '598256': 8596, '2451319': 8597, '2204991': 8598, '2005146': 8599, '2363863': 8600, '2191675': 8601, '376992': 8602, '483018': 8603, '981753': 8604, '1753963': 8605, '838773': 8606, '75976': 8607, '2244916': 8608, '157631': 8609, '35111': 8610, '1690559': 8611, '2221396': 8612, '109177': 8613, '528522': 8614, '2061499': 8615, '136970': 8616, '298689': 8617, '2038372': 8618, '444566': 8619, '2227629': 8620, '1315654': 8621, '303087': 8622, '1024554': 8623, '1877370': 8624, '1219057': 8625, '889439': 8626, '1416947': 8627, '851262': 8628, '807890': 8629, '1825379': 8630, '524110': 8631, '1550961': 8632, '1954597': 8633, '606809': 8634, '782551': 8635, '199023': 8636, '2419814': 8637, '1048594': 8638, '648585': 8639, '1511623': 8640, '2253160': 8641, '2171565': 8642, '2384779': 8643, '1482002': 8644, '2008166': 8645, '2209110': 8646, '1141848': 8647, '217262': 8648, '1591307': 8649, '429034': 8650, '279521': 8651, '2489482': 8652, '518542': 8653, '999456': 8654, '266320': 8655, '1294790': 8656, '1370255': 8657, '345636': 8658, '2074594': 8659, '224795': 8660, '511613': 8661, '2473070': 8662, '380150': 8663, '2376375': 8664, '379952': 8665, '1426178': 8666, '2344901': 8667, '210595': 8668, '2316426': 8669, '1315754': 8670, '852400': 8671, '2303393': 8672, '1287017': 8673, '1675676': 8674, '2032944': 8675, '321679': 8676, '1866789': 8677, '2605347': 8678, '1528418': 8679, '1725181': 8680, '2565182': 8681, '811357': 8682, '1558180': 8683, '1282240': 8684, '1577495': 8685, '2067896': 8686, '1162556': 8687, '272280': 8688, '1475571': 8689, '723135': 8690, '128348': 8691, '1095461': 8692, '1612901': 8693, '550777': 8694, '1373027': 8695, '781670': 8696, '824825': 8697, '2224112': 8698, '769314': 8699, '2388479': 8700, '1418260': 8701, '1311438': 8702, '1094767': 8703, '2412566': 8704, '1346943': 8705, '1798758': 8706, '101564': 8707, '1402224': 8708, '2376860': 8709, '2585864': 8710, '1029833': 8711, '294406': 8712, '781021': 8713, '1191002': 8714, '2142754': 8715, '2634182': 8716, '733746': 8717, '917187': 8718, '2148160': 8719, '543824': 8720, '451056': 8721, '2118863': 8722, '1740800': 8723, '895935': 8724, '305765': 8725, '2493079': 8726, '1468812': 8727, '795856': 8728, '82103': 8729, '1749706': 8730, '979155': 8731, '2139885': 8732, '1787357': 8733, '1874298': 8734, '1125570': 8735, '945089': 8736, '1575065': 8737, '123823': 8738, '1693658': 8739, '1792238': 8740, '2232378': 8741, '270523': 8742, '2326306': 8743, '1307565': 8744, '1783814': 8745, '2052702': 8746, '185039': 8747, '442234': 8748, '1925397': 8749, '1907278': 8750, '1886300': 8751, '824459': 8752, '753901': 8753, '511112': 8754, '1956010': 8755, '1878120': 8756, '1219818': 8757, '511883': 8758, '297896': 8759, '2546942': 8760, '679042': 8761, '2625065': 8762, '1794722': 8763, '1604238': 8764, '993341': 8765, '918021': 8766, '1757577': 8767, '2120652': 8768, '1959049': 8769, '2008228': 8770, '1619747': 8771, '785433': 8772, '1113177': 8773, '500629': 8774, '331157': 8775, '2194022': 8776, '1165236': 8777, '921783': 8778, '2587732': 8779, '1436668': 8780, '2494753': 8781, '95100': 8782, '1398928': 8783, '1337310': 8784, '2039521': 8785, '178603': 8786, '467255': 8787, '1352912': 8788, '2170453': 8789, '1874535': 8790, '2521955': 8791, '1763289': 8792, '2518715': 8793, '2139777': 8794, '2221416': 8795, '879196': 8796, '507301': 8797, '50057': 8798, '2253616': 8799, '1662883': 8800, '979197': 8801, '319611': 8802, '1722187': 8803, '1281478': 8804, '371382': 8805, '1462208': 8806, '2492121': 8807, '705534': 8808, '2580482': 8809, '2446249': 8810, '111033': 8811, '2098084': 8812, '1291667': 8813, '1838074': 8814, '2254502': 8815, '995620': 8816, '583086': 8817, '910244': 8818, '6460': 8819, '88909': 8820, '578248': 8821, '330038': 8822, '1527713': 8823, '2019266': 8824, '1509566': 8825, '1371422': 8826, '1621427': 8827, '1871627': 8828, '940264': 8829, '1824009': 8830, '2040859': 8831, '2286388': 8832, '539743': 8833, '745950': 8834, '1824936': 8835, '1016403': 8836, '1376923': 8837, '558042': 8838, '1203925': 8839, '1392518': 8840, '297809': 8841, '2165353': 8842, '237263': 8843, '2541550': 8844, '2255117': 8845, '2530108': 8846, '897125': 8847, '1970337': 8848, '2625420': 8849, '133706': 8850, '2151845': 8851, '2347699': 8852, '1316977': 8853, '261053': 8854, '1902434': 8855, '1358681': 8856, '268739': 8857, '2006914': 8858, '1498815': 8859, '275282': 8860, '661407': 8861, '1938258': 8862, '2497321': 8863, '691878': 8864, '343719': 8865, '1052076': 8866, '1104415': 8867, '898642': 8868, '2469': 8869, '2606279': 8870, '403769': 8871, '2229666': 8872, '31259': 8873, '1833576': 8874, '939816': 8875, '1785367': 8876, '1258385': 8877, '530118': 8878, '160247': 8879, '1704223': 8880, '70125': 8881, '1169171': 8882, '2257189': 8883, '550128': 8884, '1312530': 8885, '2604668': 8886, '1066926': 8887, '1298190': 8888, '1091721': 8889, '2296816': 8890, '1559989': 8891, '747497': 8892, '549094': 8893, '610397': 8894, '2464924': 8895, '13333': 8896, '321138': 8897, '625012': 8898, '235302': 8899, '1020214': 8900, '2278178': 8901, '853918': 8902, '763240': 8903, '1083037': 8904, '1071141': 8905, '391543': 8906, '2102700': 8907, '206453': 8908, '651541': 8909, '1015048': 8910, '2130003': 8911, '2360137': 8912, '1045879': 8913, '230154': 8914, '147644': 8915, '2541565': 8916, '230112': 8917, '318100': 8918, '2421395': 8919, '2183347': 8920, '108891': 8921, '2385389': 8922, '437978': 8923, '1732840': 8924, '2460025': 8925, '2205998': 8926, '554078': 8927, '1719421': 8928, '672012': 8929, '1271907': 8930, '1678976': 8931, '1299822': 8932, '655297': 8933, '1851609': 8934, '1952102': 8935, '1343332': 8936, '1494821': 8937, '2272187': 8938, '1993440': 8939, '1869907': 8940, '589682': 8941, '1361167': 8942, '2197278': 8943, '173220': 8944, '1192771': 8945, '1558912': 8946, '1455126': 8947, '371074': 8948, '943256': 8949, '2595864': 8950, '1468007': 8951, '768270': 8952, '1976839': 8953, '1342785': 8954, '559470': 8955, '2534215': 8956, '221882': 8957, '84389': 8958, '1244949': 8959, '1206380': 8960, '1595693': 8961, '2344564': 8962, '2242958': 8963, '1273296': 8964, '1547655': 8965, '1606438': 8966, '2541447': 8967, '420703': 8968, '2635011': 8969, '310187': 8970, '865027': 8971, '323614': 8972, '1383987': 8973, '15104': 8974, '709342': 8975, '1937311': 8976, '1778378': 8977, '885859': 8978, '2185614': 8979, '736578': 8980, '544925': 8981, '2043109': 8982, '101123': 8983, '2106970': 8984, '794765': 8985, '1826290': 8986, '596648': 8987, '1216880': 8988, '486258': 8989, '167763': 8990, '983069': 8991, '1801483': 8992, '134784': 8993, '1578366': 8994, '1042784': 8995, '361189': 8996, '1869926': 8997, '2406034': 8998, '80176': 8999, '1003201': 9000, '2199854': 9001, '2450203': 9002, '2511278': 9003, '327947': 9004, '713559': 9005, '700049': 9006, '296319': 9007, '137987': 9008, '44734': 9009, '863778': 9010, '2569369': 9011, '805988': 9012, '1184925': 9013, '920168': 9014, '1295902': 9015, '639194': 9016, '311875': 9017, '206893': 9018, '653300': 9019, '942442': 9020, '2345195': 9021, '2420259': 9022, '412439': 9023, '2276333': 9024, '14164': 9025, '784305': 9026, '1223427': 9027, '850652': 9028, '1543281': 9029, '779328': 9030, '5980': 9031, '2565719': 9032, '2584252': 9033, '1227603': 9034, '353335': 9035, '2318311': 9036, '2263800': 9037, '683671': 9038, '1575939': 9039, '538668': 9040, '1463088': 9041, '440960': 9042, '1573228': 9043, '1489566': 9044, '2420001': 9045, '2090015': 9046, '122752': 9047, '292582': 9048, '1746477': 9049, '568605': 9050, '1207990': 9051, '2158495': 9052, '349653': 9053, '1421402': 9054, '245825': 9055, '1679741': 9056, '2010173': 9057, '1236332': 9058, '668855': 9059, '1198632': 9060, '362622': 9061, '110989': 9062, '1790903': 9063, '1160858': 9064, '1080875': 9065, '1762897': 9066, '621274': 9067, '2156178': 9068, '90051': 9069, '2215240': 9070, '1451734': 9071, '1863664': 9072, '836050': 9073, '2049560': 9074, '610803': 9075, '383702': 9076, '1436780': 9077, '2157854': 9078, '1322556': 9079, '2065164': 9080, '1168921': 9081, '2316081': 9082, '1334853': 9083, '1782687': 9084, '2053953': 9085, '647691': 9086, '1400320': 9087, '2506950': 9088, '838950': 9089, '1643146': 9090, '1085863': 9091, '868881': 9092, '2509609': 9093, '654304': 9094, '1390768': 9095, '1906305': 9096, '385974': 9097, '2008457': 9098, '134640': 9099, '2376301': 9100, '1593194': 9101, '1560099': 9102, '2017112': 9103, '1696241': 9104, '1534700': 9105, '2119358': 9106, '211233': 9107, '491294': 9108, '500428': 9109, '2269486': 9110, '2093105': 9111, '1527527': 9112, '2522548': 9113, '1582905': 9114, '505967': 9115, '1044034': 9116, '316131': 9117, '1085320': 9118, '499293': 9119, '2048785': 9120, '566255': 9121, '2527066': 9122, '477502': 9123, '2502100': 9124, '1039536': 9125, '931664': 9126, '316591': 9127, '1745577': 9128, '2228441': 9129, '693720': 9130, '417997': 9131, '1934860': 9132, '2077352': 9133, '2455567': 9134, '723448': 9135, '496087': 9136, '2091461': 9137, '1966884': 9138, '1654464': 9139, '219410': 9140, '43177': 9141, '356615': 9142, '458177': 9143, '1209343': 9144, '2472066': 9145, '2554750': 9146, '1027819': 9147, '1598457': 9148, '1073729': 9149, '1538522': 9150, '755549': 9151, '926173': 9152, '1434295': 9153, '2510054': 9154, '961310': 9155, '512352': 9156, '962359': 9157, '1617676': 9158, '1168789': 9159, '71765': 9160, '2633465': 9161, '586249': 9162, '1486956': 9163, '1723621': 9164, '2416180': 9165, '243304': 9166, '2025153': 9167, '1280311': 9168, '2294110': 9169, '108484': 9170, '1400327': 9171, '117535': 9172, '574499': 9173, '542729': 9174, '2276394': 9175, '2146779': 9176, '145916': 9177, '1215460': 9178, '1107022': 9179, '2476026': 9180, '869426': 9181, '451011': 9182, '409239': 9183, '1388228': 9184, '1549225': 9185, '311548': 9186, '2344669': 9187, '1965439': 9188, '2621962': 9189, '1482393': 9190, '57193': 9191, '2253953': 9192, '2202279': 9193, '1646639': 9194, '360737': 9195, '1416989': 9196, '941661': 9197, '952582': 9198, '1928698': 9199, '2415382': 9200, '2503749': 9201, '1049239': 9202, '204504': 9203, '1314890': 9204, '1519378': 9205, '1556093': 9206, '1483664': 9207, '2289283': 9208, '1109293': 9209, '546017': 9210, '2102685': 9211, '342616': 9212, '2139083': 9213, '2162676': 9214, '1532527': 9215, '182203': 9216, '1504229': 9217, '2176304': 9218, '1056078': 9219, '998433': 9220, '90362': 9221, '2110341': 9222, '2429554': 9223, '1727111': 9224, '860520': 9225, '812726': 9226, '1082163': 9227, '223160': 9228, '109898': 9229, '2491620': 9230, '1413747': 9231, '323450': 9232, '1346269': 9233, '1671223': 9234, '964916': 9235, '1188163': 9236, '107776': 9237, '639873': 9238, '1546115': 9239, '2024230': 9240, '605274': 9241, '2300163': 9242, '1611900': 9243, '1401465': 9244, '63170': 9245, '1979447': 9246, '2050529': 9247, '454329': 9248, '810953': 9249, '662707': 9250, '1674112': 9251, '576763': 9252, '1636243': 9253, '2562858': 9254, '1728924': 9255, '812339': 9256, '1806515': 9257, '408830': 9258, '1269960': 9259, '497052': 9260, '2484060': 9261, '1664146': 9262, '1138870': 9263, '373898': 9264, '1112779': 9265, '997772': 9266, '219903': 9267, '1231291': 9268, '393945': 9269, '1701487': 9270, '2108491': 9271, '701615': 9272, '501511': 9273, '1525586': 9274, '2521396': 9275, '300777': 9276, '1046634': 9277, '45243': 9278, '35206': 9279, '1602649': 9280, '1808648': 9281, '2430300': 9282, '1128164': 9283, '211166': 9284, '104237': 9285, '549534': 9286, '2543978': 9287, '2529138': 9288, '959443': 9289, '928664': 9290, '151004': 9291, '842458': 9292, '510719': 9293, '2148675': 9294, '1906611': 9295, '1373866': 9296, '574947': 9297, '2036838': 9298, '1029578': 9299, '1648423': 9300, '2455107': 9301, '201633': 9302, '1831361': 9303, '1977959': 9304, '2209153': 9305, '2063452': 9306, '1974577': 9307, '119776': 9308, '1208059': 9309, '322878': 9310, '953604': 9311, '2512828': 9312, '981995': 9313, '660821': 9314, '570428': 9315, '550905': 9316, '1628912': 9317, '996461': 9318, '773040': 9319, '253434': 9320, '2551112': 9321, '2052789': 9322, '2472640': 9323, '230393': 9324, '894232': 9325, '1608683': 9326, '2132252': 9327, '1453623': 9328, '47400': 9329, '1794933': 9330, '1118819': 9331, '1491583': 9332, '213427': 9333, '676123': 9334, '2492323': 9335, '1603022': 9336, '1407892': 9337, '540732': 9338, '1212585': 9339, '1156403': 9340, '1854226': 9341, '1003341': 9342, '888630': 9343, '2467784': 9344, '2154669': 9345, '2627366': 9346, '29875': 9347, '1317457': 9348, '1040388': 9349, '2180924': 9350, '2091892': 9351, '438674': 9352, '1382328': 9353, '2619718': 9354, '2166362': 9355, '1197141': 9356, '1312066': 9357, '1324068': 9358, '2018247': 9359, '951446': 9360, '665030': 9361, '839232': 9362, '877349': 9363, '754567': 9364, '2116230': 9365, '2070875': 9366, '1760594': 9367, '554171': 9368, '1107217': 9369, '2433729': 9370, '1998128': 9371, '2441066': 9372, '2258984': 9373, '926292': 9374, '662412': 9375, '1923216': 9376, '1912542': 9377, '1028857': 9378, '1739732': 9379, '2645579': 9380, '265257': 9381, '1667622': 9382, '1832243': 9383, '2284890': 9384, '2093771': 9385, '2236255': 9386, '1660482': 9387, '31503': 9388, '1993796': 9389, '2518195': 9390, '2005487': 9391, '50259': 9392, '2192288': 9393, '867366': 9394, '2419640': 9395, '432405': 9396, '2490784': 9397, '2613456': 9398, '708630': 9399, '2066039': 9400, '317829': 9401, '288282': 9402, '836233': 9403, '1776654': 9404, '1826465': 9405, '945258': 9406, '1621282': 9407, '466916': 9408, '2086711': 9409, '1921466': 9410, '237738': 9411, '1003967': 9412, '59270': 9413, '1239121': 9414, '1981733': 9415, '1918206': 9416, '2459251': 9417, '1610230': 9418, '1272479': 9419, '652592': 9420, '313694': 9421, '1634219': 9422, '1218493': 9423, '463834': 9424, '421901': 9425, '193560': 9426, '712134': 9427, '2221951': 9428, '279724': 9429, '825353': 9430, '1035378': 9431, '872882': 9432, '2529630': 9433, '1586276': 9434, '53936': 9435, '1266847': 9436, '931384': 9437, '378481': 9438, '949121': 9439, '721603': 9440, '575786': 9441, '1674254': 9442, '262862': 9443, '849373': 9444, '739313': 9445, '2200487': 9446, '2618308': 9447, '1877868': 9448, '2404750': 9449, '582315': 9450, '2195071': 9451, '224457': 9452, '661663': 9453, '239569': 9454, '402389': 9455, '1074677': 9456, '926900': 9457, '2186270': 9458, '1173887': 9459, '767571': 9460, '2251582': 9461, '101807': 9462, '493009': 9463, '1896647': 9464, '2407154': 9465, '1541549': 9466, '106239': 9467, '1240334': 9468, '1863844': 9469, '345657': 9470, '1213386': 9471, '1111757': 9472, '842431': 9473, '494440': 9474, '1188978': 9475, '1333494': 9476, '193011': 9477, '1853431': 9478, '979219': 9479, '1611056': 9480, '423952': 9481, '2299436': 9482, '800683': 9483, '1949968': 9484, '481049': 9485, '1089505': 9486, '1348335': 9487, '209486': 9488, '193953': 9489, '926054': 9490, '16074': 9491, '1562255': 9492, '1988854': 9493, '927786': 9494, '1899788': 9495, '314043': 9496, '1287177': 9497, '1096430': 9498, '737758': 9499, '1938835': 9500, '2557067': 9501, '2340361': 9502, '1200504': 9503, '2296924': 9504, '1932079': 9505, '2464375': 9506, '165856': 9507, '1380915': 9508, '2098310': 9509, '2261989': 9510, '2445266': 9511, '827459': 9512, '2412372': 9513, '298900': 9514, '122786': 9515, '2333948': 9516, '529889': 9517, '1039760': 9518, '1273651': 9519, '503235': 9520, '1217133': 9521, '1769330': 9522, '2095338': 9523, '98918': 9524, '1998547': 9525, '477387': 9526, '1124753': 9527, '884640': 9528, '594462': 9529, '897925': 9530, '566819': 9531, '405075': 9532, '813424': 9533, '2162665': 9534, '2289721': 9535, '2104443': 9536, '885051': 9537, '1825128': 9538, '175337': 9539, '830262': 9540, '735859': 9541, '721036': 9542, '288956': 9543, '274975': 9544, '622382': 9545, '2386059': 9546, '1493697': 9547, '1935592': 9548, '2232563': 9549, '734355': 9550, '332923': 9551, '956401': 9552, '1406309': 9553, '2160022': 9554, '597873': 9555, '2308850': 9556, '275338': 9557, '1988325': 9558, '2634610': 9559, '518137': 9560, '1833119': 9561, '1889702': 9562, '851848': 9563, '1156244': 9564, '1130863': 9565, '1556617': 9566, '628380': 9567, '2081775': 9568, '1279037': 9569, '2588966': 9570, '1440607': 9571, '1123324': 9572, '19915': 9573, '1933406': 9574, '805379': 9575, '451151': 9576, '1804362': 9577, '2370089': 9578, '459468': 9579, '2243558': 9580, '2603059': 9581, '2505894': 9582, '1300793': 9583, '2046079': 9584, '15217': 9585, '2476668': 9586, '2366524': 9587, '2376306': 9588, '2484715': 9589, '2253274': 9590, '880786': 9591, '2160085': 9592, '2502736': 9593, '1333975': 9594, '1339269': 9595, '220183': 9596, '1287752': 9597, '2159478': 9598, '1114324': 9599, '2134111': 9600, '1553715': 9601, '931626': 9602, '364247': 9603, '504401': 9604, '2522503': 9605, '1358685': 9606, '845634': 9607, '2564120': 9608, '2029743': 9609, '801128': 9610, '953653': 9611, '2629365': 9612, '1002780': 9613, '648173': 9614, '1605124': 9615, '1583664': 9616, '482951': 9617, '1776455': 9618, '117085': 9619, '1196022': 9620, '1044050': 9621, '539044': 9622, '1050714': 9623, '2082428': 9624, '732363': 9625, '2080585': 9626, '242209': 9627, '1048793': 9628, '1169480': 9629, '110049': 9630, '152134': 9631, '1500397': 9632, '2032601': 9633, '2111039': 9634, '685513': 9635, '1473602': 9636, '1903337': 9637, '1797678': 9638, '1114617': 9639, '1232582': 9640, '1846674': 9641, '60706': 9642, '1382766': 9643, '632738': 9644, '2636478': 9645, '438491': 9646, '2349412': 9647, '2160787': 9648, '1424768': 9649, '2479857': 9650, '1184071': 9651, '1743212': 9652, '1452969': 9653, '1834137': 9654, '1781160': 9655, '964622': 9656, '1562856': 9657, '2059738': 9658, '1720844': 9659, '992739': 9660, '751367': 9661, '622945': 9662, '15458': 9663, '1387099': 9664, '1516199': 9665, '773045': 9666, '2222864': 9667, '465967': 9668, '309424': 9669, '64996': 9670, '2636678': 9671, '399620': 9672, '2280025': 9673, '665905': 9674, '2169713': 9675, '1771108': 9676, '2314956': 9677, '2355266': 9678, '586694': 9679, '2433847': 9680, '2595469': 9681, '868680': 9682, '868990': 9683, '2170255': 9684, '1413219': 9685, '858814': 9686, '2320706': 9687, '1141769': 9688, '2363481': 9689, '1434507': 9690, '669035': 9691, '1504360': 9692, '1084524': 9693, '515313': 9694, '2133771': 9695, '1691090': 9696, '1756244': 9697, '2497991': 9698, '478827': 9699, '78271': 9700, '1549174': 9701, '2206008': 9702, '1082078': 9703, '1144710': 9704, '1421792': 9705, '853459': 9706, '2129672': 9707, '1972929': 9708, '1462949': 9709, '2620590': 9710, '1252629': 9711, '2085211': 9712, '1439577': 9713, '500325': 9714, '1885932': 9715, '294118': 9716, '1153562': 9717, '825831': 9718, '43729': 9719, '1022711': 9720, '740724': 9721, '1571988': 9722, '2293836': 9723, '1546588': 9724, '2424999': 9725, '1430656': 9726, '1999825': 9727, '1825087': 9728, '129839': 9729, '684220': 9730, '848872': 9731, '1270238': 9732, '1991666': 9733, '2218735': 9734, '241068': 9735, '1258099': 9736, '1226073': 9737, '816237': 9738, '1191455': 9739, '516736': 9740, '2138746': 9741, '2452430': 9742, '1172778': 9743, '1927580': 9744, '381512': 9745, '124810': 9746, '2268573': 9747, '1143750': 9748, '508968': 9749, '1846387': 9750, '381518': 9751, '452106': 9752, '2064172': 9753, '2368644': 9754, '876783': 9755, '21677': 9756, '248039': 9757, '813730': 9758, '2120864': 9759, '1280428': 9760, '1033224': 9761, '2546737': 9762, '307612': 9763, '1459851': 9764, '888617': 9765, '822140': 9766, '1883721': 9767, '959020': 9768, '2635483': 9769, '1280119': 9770, '2086035': 9771, '1711346': 9772, '173337': 9773, '382773': 9774, '635758': 9775, '1080272': 9776, '1750007': 9777, '1937280': 9778, '775794': 9779, '1617685': 9780, '1163933': 9781, '510535': 9782, '1125596': 9783, '2631649': 9784, '1162706': 9785, '2089742': 9786, '355103': 9787, '1608329': 9788, '592122': 9789, '2394211': 9790, '2544637': 9791, '223803': 9792, '2040254': 9793, '407140': 9794, '1359730': 9795, '202273': 9796, '1213065': 9797, '1181331': 9798, '1941703': 9799, '1223807': 9800, '1450883': 9801, '2445689': 9802, '1875549': 9803, '716173': 9804, '17433': 9805, '755557': 9806, '2473261': 9807, '1044457': 9808, '1482921': 9809, '1530118': 9810, '2169359': 9811, '1300124': 9812, '2311296': 9813, '959444': 9814, '593867': 9815, '1942739': 9816, '847774': 9817, '2539243': 9818, '1629795': 9819, '1144740': 9820, '806013': 9821, '2031909': 9822, '829575': 9823, '416536': 9824, '712664': 9825, '1251017': 9826, '1646449': 9827, '805343': 9828, '812027': 9829, '2047013': 9830, '716761': 9831, '1964735': 9832, '2024111': 9833, '2096352': 9834, '185372': 9835, '340859': 9836, '389581': 9837, '1627581': 9838, '1007328': 9839, '1644335': 9840, '976064': 9841, '320474': 9842, '2596083': 9843, '1663569': 9844, '2344684': 9845, '391661': 9846, '578311': 9847, '859907': 9848, '2015597': 9849, '2535089': 9850, '2358256': 9851, '104851': 9852, '405351': 9853, '786312': 9854, '1419253': 9855, '1810670': 9856, '1126516': 9857, '154009': 9858, '2131794': 9859, '2344483': 9860, '2403156': 9861, '982026': 9862, '630964': 9863, '2011405': 9864, '752853': 9865, '2352463': 9866, '2080006': 9867, '1837636': 9868, '1125150': 9869, '988917': 9870, '2162603': 9871, '1903900': 9872, '321612': 9873, '2191674': 9874, '902913': 9875, '1367834': 9876, '810093': 9877, '1990523': 9878, '585121': 9879, '753107': 9880, '430738': 9881, '991359': 9882, '96519': 9883, '477133': 9884, '2339981': 9885, '2269323': 9886, '454171': 9887, '2203809': 9888, '2391686': 9889, '1072466': 9890, '382891': 9891, '1310736': 9892, '1433701': 9893, '2194719': 9894, '317108': 9895, '1051757': 9896, '2480412': 9897, '1578801': 9898, '1742740': 9899, '1848647': 9900, '381704': 9901, '2294868': 9902, '2048858': 9903, '1442150': 9904, '2642350': 9905, '2424839': 9906, '1055009': 9907, '1010609': 9908, '2374726': 9909, '1698718': 9910, '2409465': 9911, '1239467': 9912, '458475': 9913, '520472': 9914, '990297': 9915, '256676': 9916, '2295156': 9917, '1609999': 9918, '167227': 9919, '1482775': 9920, '1446944': 9921, '2430950': 9922, '900096': 9923, '1702841': 9924, '2238785': 9925, '847780': 9926, '824478': 9927, '2094693': 9928, '822126': 9929, '2111071': 9930, '2243703': 9931, '952156': 9932, '2599606': 9933, '2158747': 9934, '1669420': 9935, '1437183': 9936, '826567': 9937, '1121577': 9938, '601868': 9939, '2647888': 9940, '484943': 9941, '1032165': 9942, '927849': 9943, '784283': 9944, '2329565': 9945, '1349706': 9946, '2181770': 9947, '200734': 9948, '718938': 9949, '603466': 9950, '1286550': 9951, '1098765': 9952, '334004': 9953, '2248543': 9954, '2473973': 9955, '2602480': 9956, '271128': 9957, '1494765': 9958, '1885268': 9959, '1905393': 9960, '2432362': 9961, '1477153': 9962, '2645399': 9963, '575399': 9964, '2420748': 9965, '399933': 9966, '615066': 9967, '1173493': 9968, '726897': 9969, '1951577': 9970, '2051165': 9971, '1579340': 9972, '2609871': 9973, '1305946': 9974, '728801': 9975, '2528840': 9976, '1314409': 9977, '1599850': 9978, '330566': 9979, '1286051': 9980, '2430230': 9981, '834752': 9982, '548064': 9983, '24059': 9984, '77989': 9985, '1170093': 9986, '1085610': 9987, '1414159': 9988, '1288244': 9989, '1772651': 9990, '201681': 9991, '1181649': 9992, '797038': 9993, '1028716': 9994, '1422763': 9995, '881356': 9996, '1980663': 9997, '711569': 9998, '255112': 9999, '760943': 10000, '91701': 10001, '495388': 10002, '2314898': 10003, '1793530': 10004, '2177085': 10005, '1053165': 10006, '131910': 10007, '477388': 10008, '972630': 10009, '1955706': 10010, '2044724': 10011, '1154184': 10012, '1605212': 10013, '1041638': 10014, '1028987': 10015, '506346': 10016, '790913': 10017, '1928315': 10018, '250509': 10019, '1607163': 10020, '590311': 10021, '1561764': 10022, '1942793': 10023, '826409': 10024, '654316': 10025, '610471': 10026, '1483328': 10027, '652972': 10028, '2299957': 10029, '1932377': 10030, '1297706': 10031, '2091752': 10032, '2495043': 10033, '524295': 10034, '460795': 10035, '1151483': 10036, '827096': 10037, '217762': 10038, '878148': 10039, '441206': 10040, '2470054': 10041, '1216755': 10042, '666611': 10043, '2353276': 10044, '2648351': 10045, '2442028': 10046, '586128': 10047, '838366': 10048, '232549': 10049, '2447868': 10050, '769702': 10051, '686685': 10052, '1071775': 10053, '1779681': 10054, '1555872': 10055, '1550627': 10056, '2020252': 10057, '663627': 10058, '1631698': 10059, '135749': 10060, '2254800': 10061, '2478700': 10062, '1227780': 10063, '388472': 10064, '552739': 10065, '740199': 10066, '772573': 10067, '2580917': 10068, '834896': 10069, '546578': 10070, '682169': 10071, '210762': 10072, '1432466': 10073, '2325794': 10074, '2216150': 10075, '2485818': 10076, '1633016': 10077, '2387695': 10078, '1502997': 10079, '439830': 10080, '639533': 10081, '645873': 10082, '583208': 10083, '1295471': 10084, '2090343': 10085, '342103': 10086, '1024854': 10087, '1064977': 10088, '2112089': 10089, '149575': 10090, '625420': 10091, '81074': 10092, '1534444': 10093, '137546': 10094, '1895930': 10095, '123097': 10096, '1724821': 10097, '328862': 10098, '1225406': 10099, '97166': 10100, '892545': 10101, '375989': 10102, '2568886': 10103, '1078285': 10104, '2519570': 10105, '653059': 10106, '1933604': 10107, '1139903': 10108, '1964931': 10109, '1532220': 10110, '1403088': 10111, '2296108': 10112, '376097': 10113, '1840900': 10114, '1620201': 10115, '1666213': 10116, '1196131': 10117, '1717184': 10118, '2196599': 10119, '434633': 10120, '1876297': 10121, '679429': 10122, '964327': 10123, '770583': 10124, '1617787': 10125, '2252912': 10126, '535765': 10127, '1987434': 10128, '385553': 10129, '2180255': 10130, '632060': 10131, '2188949': 10132, '460419': 10133, '508335': 10134, '685926': 10135, '360412': 10136, '2431353': 10137, '1352530': 10138, '2241806': 10139, '197897': 10140, '1375565': 10141, '530226': 10142, '2261959': 10143, '741851': 10144, '374423': 10145, '162303': 10146, '206152': 10147, '735850': 10148, '924352': 10149, '2047178': 10150, '73834': 10151, '1077794': 10152, '868634': 10153, '2202671': 10154, '2403598': 10155, '2264244': 10156, '2303856': 10157, '1335436': 10158, '2164729': 10159, '148394': 10160, '1003143': 10161, '1685548': 10162, '1725008': 10163, '1766397': 10164, '303270': 10165, '1514780': 10166, '324253': 10167, '906509': 10168, '2338545': 10169, '1392356': 10170, '282102': 10171, '2408422': 10172, '1951560': 10173, '521825': 10174, '2492392': 10175, '1145000': 10176, '524218': 10177, '103619': 10178, '1121136': 10179, '1996307': 10180, '1249961': 10181, '1183823': 10182, '629075': 10183, '56298': 10184, '2563107': 10185, '2419406': 10186, '2429396': 10187, '1821967': 10188, '2202365': 10189, '2007593': 10190, '1456579': 10191, '738437': 10192, '91893': 10193, '2454469': 10194, '1991655': 10195, '2042985': 10196, '867886': 10197, '1078406': 10198, '2464495': 10199, '2189626': 10200, '1458665': 10201, '2210727': 10202, '432983': 10203, '111832': 10204, '131873': 10205, '2438141': 10206, '726079': 10207, '1460800': 10208, '1260854': 10209, '2255880': 10210, '387819': 10211, '1208146': 10212, '1632784': 10213, '784456': 10214, '1435383': 10215, '2293736': 10216, '806798': 10217, '1014132': 10218, '1025261': 10219, '2173196': 10220, '1685089': 10221, '1817678': 10222, '871675': 10223, '1684795': 10224, '904848': 10225, '685113': 10226, '139107': 10227, '1527206': 10228, '306350': 10229, '933895': 10230, '156848': 10231, '869446': 10232, '1863477': 10233, '1116290': 10234, '1424172': 10235, '2614179': 10236, '2581672': 10237, '2290578': 10238, '1691201': 10239, '396153': 10240, '1484561': 10241, '1313694': 10242, '591184': 10243, '1159608': 10244, '1068821': 10245, '541822': 10246, '1703742': 10247, '1992205': 10248, '2073799': 10249, '682093': 10250, '1013077': 10251, '1365356': 10252, '257622': 10253, '1772050': 10254, '1045221': 10255, '1378562': 10256, '1731825': 10257, '389391': 10258, '277099': 10259, '520080': 10260, '484407': 10261, '125296': 10262, '2376396': 10263, '594164': 10264, '2026792': 10265, '2290616': 10266, '1191417': 10267, '1181013': 10268, '1910693': 10269, '956271': 10270, '184162': 10271, '167586': 10272, '2306038': 10273, '888450': 10274, '50400': 10275, '779377': 10276, '330058': 10277, '1149582': 10278, '205752': 10279, '1152933': 10280, '2209992': 10281, '2583705': 10282, '922345': 10283, '545689': 10284, '1825395': 10285, '1749637': 10286, '2201507': 10287, '2450621': 10288, '2476422': 10289, '1493965': 10290, '152903': 10291, '1284016': 10292, '2361556': 10293, '1892264': 10294, '562540': 10295, '574843': 10296, '669659': 10297, '730855': 10298, '316931': 10299, '2038196': 10300, '831475': 10301, '2026133': 10302, '828654': 10303, '225381': 10304, '541135': 10305, '395747': 10306, '823520': 10307, '1142880': 10308, '80683': 10309, '1365379': 10310, '2160087': 10311, '664105': 10312, '1334284': 10313, '106592': 10314, '1567048': 10315, '1218946': 10316, '2325330': 10317, '1996688': 10318, '865391': 10319, '1791768': 10320, '470645': 10321, '1084694': 10322, '981582': 10323, '696970': 10324, '2090369': 10325, '1184537': 10326, '418403': 10327, '121699': 10328, '853261': 10329, '259799': 10330, '214254': 10331, '2199685': 10332, '548581': 10333, '1746599': 10334, '1316671': 10335, '672919': 10336, '22718': 10337, '1792974': 10338, '1228781': 10339, '931565': 10340, '1765047': 10341, '517370': 10342, '1120091': 10343, '1632503': 10344, '1513215': 10345, '380894': 10346, '1361282': 10347, '2203675': 10348, '428170': 10349, '2109386': 10350, '423167': 10351, '719598': 10352, '867001': 10353, '473233': 10354, '1137509': 10355, '676989': 10356, '815953': 10357, '1990990': 10358, '524841': 10359, '1464103': 10360, '1896167': 10361, '1253309': 10362, '1814516': 10363, '1744939': 10364, '882429': 10365, '704342': 10366, '520704': 10367, '2629599': 10368, '80354': 10369, '1574599': 10370, '204537': 10371, '2270392': 10372, '402377': 10373, '276869': 10374, '1055226': 10375, '962837': 10376, '2205125': 10377, '1524551': 10378, '927129': 10379, '851479': 10380, '1942005': 10381, '119287': 10382, '1969251': 10383, '679946': 10384, '2250843': 10385, '1956276': 10386, '1475221': 10387, '923889': 10388, '602053': 10389, '1194815': 10390, '169281': 10391, '1937233': 10392, '2200358': 10393, '326502': 10394, '1882748': 10395, '516614': 10396, '1675280': 10397, '1720068': 10398, '18907': 10399, '1072294': 10400, '2614953': 10401, '1666084': 10402, '2517833': 10403, '1450484': 10404, '2637832': 10405, '1658806': 10406, '2456635': 10407, '2209351': 10408, '798262': 10409, '599529': 10410, '1332983': 10411, '441196': 10412, '677371': 10413, '1987201': 10414, '200645': 10415, '1036908': 10416, '1720746': 10417, '2031576': 10418, '756299': 10419, '1900382': 10420, '1859236': 10421, '906476': 10422, '364064': 10423, '1549284': 10424, '1439253': 10425, '519761': 10426, '766982': 10427, '1737824': 10428, '1387720': 10429, '2029705': 10430, '1837276': 10431, '2261394': 10432, '465414': 10433, '2114455': 10434, '2003876': 10435, '1065445': 10436, '504297': 10437, '338723': 10438, '1740380': 10439, '1386910': 10440, '1570292': 10441, '209024': 10442, '1070896': 10443, '1416480': 10444, '1675643': 10445, '972873': 10446, '284970': 10447, '1381392': 10448, '738747': 10449, '1302609': 10450, '1816177': 10451, '1390282': 10452, '1428560': 10453, '230917': 10454, '1964566': 10455, '2064672': 10456, '2629660': 10457, '1198962': 10458, '364376': 10459, '2602396': 10460, '2290732': 10461, '1435891': 10462, '21364': 10463, '1237321': 10464, '551783': 10465, '113694': 10466, '550302': 10467, '1132431': 10468, '1301819': 10469, '1041295': 10470, '1813272': 10471, '2204746': 10472, '1383426': 10473, '708507': 10474, '2235183': 10475, '2048191': 10476, '1973503': 10477, '1219733': 10478, '277109': 10479, '498716': 10480, '871698': 10481, '1872204': 10482, '1122711': 10483, '721591': 10484, '2023030': 10485, '1102418': 10486, '195107': 10487, '729894': 10488, '2122667': 10489, '2204673': 10490, '879551': 10491, '2156708': 10492, '705770': 10493, '44573': 10494, '1111844': 10495, '264047': 10496, '232984': 10497, '2242413': 10498, '297262': 10499, '790459': 10500, '876375': 10501, '1890844': 10502, '1413434': 10503, '350294': 10504, '1753201': 10505, '1359758': 10506, '1585108': 10507, '1684516': 10508, '2361408': 10509, '2011258': 10510, '2270835': 10511, '510180': 10512, '2111693': 10513, '1773226': 10514, '1327885': 10515, '1183856': 10516, '36104': 10517, '222381': 10518, '489454': 10519, '748874': 10520, '396132': 10521, '1463862': 10522, '345035': 10523, '490992': 10524, '398488': 10525, '62361': 10526, '1599855': 10527, '2554933': 10528, '648186': 10529, '925282': 10530, '1461864': 10531, '1214640': 10532, '561715': 10533, '1610877': 10534, '1824459': 10535, '2571860': 10536, '455662': 10537, '204154': 10538, '2239241': 10539, '1268666': 10540, '766064': 10541, '496887': 10542, '2285616': 10543, '770099': 10544, '599880': 10545, '1353162': 10546, '1216109': 10547, '2502145': 10548, '1851625': 10549, '906574': 10550, '1669465': 10551, '1468972': 10552, '1702473': 10553, '1299826': 10554, '935285': 10555, '713769': 10556, '1865721': 10557, '256065': 10558, '2097766': 10559, '2205259': 10560, '2020475': 10561, '2114250': 10562, '1550976': 10563, '2066932': 10564, '2206659': 10565, '1409759': 10566, '114130': 10567, '1024189': 10568, '380963': 10569, '1163868': 10570, '1443041': 10571, '213863': 10572, '127903': 10573, '524528': 10574, '1835511': 10575, '915571': 10576, '1954340': 10577, '2536922': 10578, '1140036': 10579, '1640731': 10580, '1144168': 10581, '1967445': 10582, '1444271': 10583, '980292': 10584, '326587': 10585, '801512': 10586, '2575825': 10587, '1834472': 10588, '2090953': 10589, '1757843': 10590, '734458': 10591, '1213950': 10592, '1634461': 10593, '1349680': 10594, '1970957': 10595, '1244273': 10596, '1242585': 10597, '934230': 10598, '2012039': 10599, '2457720': 10600, '2207914': 10601, '542848': 10602, '1536967': 10603, '1559022': 10604, '472452': 10605, '1812834': 10606, '657543': 10607, '905074': 10608, '1328524': 10609, '2407568': 10610, '2266857': 10611, '2201323': 10612, '268962': 10613, '2505740': 10614, '1629301': 10615, '2147472': 10616, '323118': 10617, '674749': 10618, '988097': 10619, '380992': 10620, '1517586': 10621, '1142380': 10622, '1295263': 10623, '2469956': 10624, '2297386': 10625, '1079964': 10626, '1659647': 10627, '1121319': 10628, '2041150': 10629, '2562487': 10630, '1778011': 10631, '1696428': 10632, '1802819': 10633, '1838526': 10634, '1018303': 10635, '653174': 10636, '1551980': 10637, '1140903': 10638, '25825': 10639, '1694970': 10640, '1950710': 10641, '2051329': 10642, '1538953': 10643, '266867': 10644, '1848916': 10645, '901801': 10646, '797640': 10647, '23051': 10648, '303643': 10649, '642036': 10650, '441401': 10651, '757005': 10652, '1608960': 10653, '49129': 10654, '973206': 10655, '508480': 10656, '494514': 10657, '2444710': 10658, '2319442': 10659, '860647': 10660, '2406259': 10661, '1209557': 10662, '917008': 10663, '333426': 10664, '2061495': 10665, '117959': 10666, '652324': 10667, '1036009': 10668, '8748': 10669, '2567000': 10670, '1364146': 10671, '1137400': 10672, '2273034': 10673, '1079165': 10674, '2203332': 10675, '916708': 10676, '110521': 10677, '1540655': 10678, '1582303': 10679, '123105': 10680, '2172463': 10681, '1737862': 10682, '2349872': 10683, '624388': 10684, '1745870': 10685, '2552589': 10686, '2640278': 10687, '2024833': 10688, '1288714': 10689, '232877': 10690, '1179803': 10691, '2568738': 10692, '408189': 10693, '684488': 10694, '2314733': 10695, '1399335': 10696, '1010725': 10697, '1851769': 10698, '1344791': 10699, '2000': 10700, '697601': 10701, '2504241': 10702, '1537868': 10703, '2474624': 10704, '2095812': 10705, '689309': 10706, '1559840': 10707, '1562502': 10708, '2069200': 10709, '2460659': 10710, '1379159': 10711, '2441155': 10712, '139358': 10713, '1504503': 10714, '1360550': 10715, '512966': 10716, '799765': 10717, '18830': 10718, '1145387': 10719, '631636': 10720, '2375964': 10721, '1971183': 10722, '1104997': 10723, '116563': 10724, '1813607': 10725, '1325506': 10726, '1255543': 10727, '110562': 10728, '163848': 10729, '2251835': 10730, '652121': 10731, '549416': 10732, '2503887': 10733, '2053984': 10734, '2408493': 10735, '2508315': 10736, '2258315': 10737, '1684165': 10738, '745163': 10739, '492993': 10740, '754884': 10741, '2132231': 10742, '1189649': 10743, '901325': 10744, '578076': 10745, '2551764': 10746, '1689922': 10747, '390062': 10748, '260415': 10749, '47312': 10750, '2364018': 10751, '735078': 10752, '1947662': 10753, '586724': 10754, '1179982': 10755, '1479653': 10756, '1022653': 10757, '356100': 10758, '2586810': 10759, '1400056': 10760, '956229': 10761, '2223935': 10762, '2361804': 10763, '2229453': 10764, '1229752': 10765, '624336': 10766, '2125368': 10767, '285092': 10768, '2405506': 10769, '2227455': 10770, '1990957': 10771, '1680398': 10772, '616750': 10773, '504047': 10774, '84454': 10775, '1326886': 10776, '1215709': 10777, '183689': 10778, '6785': 10779, '769': 10780, '2567276': 10781, '87118': 10782, '1662695': 10783, '1772964': 10784, '2301000': 10785, '2426539': 10786, '1152975': 10787, '674963': 10788, '1057251': 10789, '305111': 10790, '1560395': 10791, '1348456': 10792, '2553495': 10793, '1829014': 10794, '1217576': 10795, '1124099': 10796, '2340947': 10797, '2040324': 10798, '273019': 10799, '467596': 10800, '1602952': 10801, '1978844': 10802, '1858305': 10803, '394528': 10804, '2555055': 10805, '2220742': 10806, '1978543': 10807, '651050': 10808, '741179': 10809, '1338171': 10810, '1742648': 10811, '331472': 10812, '1009622': 10813, '992346': 10814, '2369705': 10815, '1964327': 10816, '1013603': 10817, '488900': 10818, '2267431': 10819, '26674': 10820, '1920318': 10821, '364238': 10822, '1489031': 10823, '1389295': 10824, '1443700': 10825, '327874': 10826, '2389847': 10827, '1139925': 10828, '1032704': 10829, '574055': 10830, '1742759': 10831, '1746949': 10832, '1315701': 10833, '2350588': 10834, '612534': 10835, '829708': 10836, '1172502': 10837, '2175611': 10838, '1889371': 10839, '2023244': 10840, '1695864': 10841, '115328': 10842, '624038': 10843, '1793062': 10844, '1242653': 10845, '1747154': 10846, '386668': 10847, '925486': 10848, '1160300': 10849, '444169': 10850, '1222903': 10851, '236384': 10852, '630691': 10853, '2319282': 10854, '1000410': 10855, '2507781': 10856, '734328': 10857, '675410': 10858, '982594': 10859, '904391': 10860, '183237': 10861, '2640760': 10862, '1065598': 10863, '1146000': 10864, '1498208': 10865, '2489039': 10866, '618832': 10867, '1890809': 10868, '1978379': 10869, '969304': 10870, '24600': 10871, '2361318': 10872, '1660384': 10873, '1764745': 10874, '640098': 10875, '2351580': 10876, '201405': 10877, '2111228': 10878, '2366462': 10879, '2460470': 10880, '2389860': 10881, '1263021': 10882, '267378': 10883, '15737': 10884, '2537083': 10885, '490101': 10886, '2474804': 10887, '75384': 10888, '612634': 10889, '1510503': 10890, '2436744': 10891, '2523030': 10892, '2404769': 10893, '1075509': 10894, '310027': 10895, '227076': 10896, '1124126': 10897, '1273985': 10898, '8757': 10899, '807551': 10900, '1253689': 10901, '2568360': 10902, '2281754': 10903, '2604473': 10904, '1869082': 10905, '2170295': 10906, '1324830': 10907, '1919060': 10908, '2514202': 10909, '142270': 10910, '1144870': 10911, '1578405': 10912, '1624556': 10913, '852275': 10914, '2361743': 10915, '1692302': 10916, '2237178': 10917, '494014': 10918, '1210199': 10919, '538495': 10920, '1378890': 10921, '1500471': 10922, '2647559': 10923, '705758': 10924, '2088489': 10925, '1546273': 10926, '1459464': 10927, '357883': 10928, '124829': 10929, '1441086': 10930, '1879369': 10931, '36478': 10932, '85747': 10933, '927953': 10934, '1188248': 10935, '255278': 10936, '1767952': 10937, '724590': 10938, '1471593': 10939, '1756620': 10940, '2629184': 10941, '2617354': 10942, '2468830': 10943, '2425741': 10944, '1209453': 10945, '1996418': 10946, '1585165': 10947, '440626': 10948, '2445183': 10949, '567298': 10950, '2162855': 10951, '1961066': 10952, '722341': 10953, '940066': 10954, '704089': 10955, '2596404': 10956, '2167828': 10957, '2259598': 10958, '1902573': 10959, '1474031': 10960, '321089': 10961, '1713238': 10962, '2048420': 10963, '911710': 10964, '2402136': 10965, '179995': 10966, '1293001': 10967, '2334283': 10968, '609087': 10969, '109541': 10970, '1637761': 10971, '2381246': 10972, '70483': 10973, '2472537': 10974, '181592': 10975, '2186820': 10976, '2616948': 10977, '1606419': 10978, '472734': 10979, '776014': 10980, '1016510': 10981, '2479648': 10982, '2001318': 10983, '847496': 10984, '423361': 10985, '1000387': 10986, '355203': 10987, '2352563': 10988, '2631102': 10989, '2051538': 10990, '157806': 10991, '1272375': 10992, '1421913': 10993, '874065': 10994, '1758002': 10995, '361630': 10996, '1081980': 10997, '861862': 10998, '1643901': 10999, '1412559': 11000, '369912': 11001, '1834394': 11002, '2279742': 11003, '616093': 11004, '1421298': 11005, '642384': 11006, '301272': 11007, '645846': 11008, '295928': 11009, '982098': 11010, '2233998': 11011, '2027294': 11012, '2278035': 11013, '2406150': 11014, '442739': 11015, '1119278': 11016, '1146626': 11017, '106933': 11018, '1859991': 11019, '2400911': 11020, '431019': 11021, '1913696': 11022, '1093500': 11023, '982709': 11024, '1757916': 11025, '1178332': 11026, '2414149': 11027, '1648775': 11028, '1865329': 11029, '1041757': 11030, '359287': 11031, '959685': 11032, '1421498': 11033, '2204336': 11034, '1938964': 11035, '1907966': 11036, '1284515': 11037, '202572': 11038, '1488957': 11039, '980043': 11040, '1563555': 11041, '2163438': 11042, '602139': 11043, '1100765': 11044, '614137': 11045, '2091247': 11046, '2234845': 11047, '61928': 11048, '2217548': 11049, '431732': 11050, '254097': 11051, '332627': 11052, '1764804': 11053, '1554196': 11054, '2019921': 11055, '2598028': 11056, '770469': 11057, '909167': 11058, '1743381': 11059, '2172649': 11060, '1071582': 11061, '617970': 11062, '804027': 11063, '2453706': 11064, '514495': 11065, '2066003': 11066, '1846681': 11067, '1524620': 11068, '2468476': 11069, '359343': 11070, '1340285': 11071, '2501249': 11072, '136939': 11073, '1401742': 11074, '2400183': 11075, '779744': 11076, '1258802': 11077, '1802392': 11078, '1298036': 11079, '2626223': 11080, '206808': 11081, '2308593': 11082, '2010849': 11083, '343139': 11084, '1194594': 11085, '2394335': 11086, '595778': 11087, '2226757': 11088, '2280393': 11089, '2551686': 11090, '2378112': 11091, '469318': 11092, '132562': 11093, '1351706': 11094, '2286785': 11095, '490606': 11096, '1218115': 11097, '1649068': 11098, '2387526': 11099, '1282557': 11100, '1802288': 11101, '1163477': 11102, '1416235': 11103, '2344221': 11104, '1884698': 11105, '1993633': 11106, '1779014': 11107, '2545730': 11108, '295196': 11109, '1090296': 11110, '1227662': 11111, '596550': 11112, '1134222': 11113, '1666400': 11114, '1682053': 11115, '324728': 11116, '2134527': 11117, '1484938': 11118, '1580834': 11119, '1903582': 11120, '2395490': 11121, '2092505': 11122, '2630478': 11123, '1470710': 11124, '816549': 11125, '2646574': 11126, '1634443': 11127, '328844': 11128, '501068': 11129, '1389855': 11130, '2243707': 11131, '68845': 11132, '923517': 11133, '875771': 11134, '270495': 11135, '839123': 11136, '2581467': 11137, '1450860': 11138, '1059719': 11139, '489363': 11140, '1518289': 11141, '120113': 11142, '919479': 11143, '1460343': 11144, '1825866': 11145, '629383': 11146, '752094': 11147, '557801': 11148, '2050389': 11149, '2017438': 11150, '1453309': 11151, '1037807': 11152, '2524267': 11153, '650828': 11154, '1755550': 11155, '1410742': 11156, '1217751': 11157, '1313126': 11158, '2182050': 11159, '659029': 11160, '1811452': 11161, '248982': 11162, '723328': 11163, '351357': 11164, '771125': 11165, '2289469': 11166, '13197': 11167, '692018': 11168, '1109553': 11169, '1878780': 11170, '464774': 11171, '2249750': 11172, '1076515': 11173, '758383': 11174, '1586695': 11175, '1264009': 11176, '1420709': 11177, '672097': 11178, '2418528': 11179, '100943': 11180, '1757417': 11181, '1967145': 11182, '2479320': 11183, '1586613': 11184, '1149569': 11185, '2049319': 11186, '1551751': 11187, '1080854': 11188, '1189678': 11189, '95062': 11190, '723631': 11191, '942215': 11192, '153576': 11193, '2585997': 11194, '1740987': 11195, '1531344': 11196, '1182116': 11197, '16479': 11198, '1687562': 11199, '391708': 11200, '672153': 11201, '1425453': 11202, '550573': 11203, '2060260': 11204, '1398222': 11205, '1892218': 11206, '2281769': 11207, '1216096': 11208, '1189462': 11209, '1446497': 11210, '168017': 11211, '2319265': 11212, '1587311': 11213, '2186235': 11214, '1347847': 11215, '877394': 11216, '328212': 11217, '2282186': 11218, '1997127': 11219, '486529': 11220, '1086736': 11221, '30245': 11222, '2636378': 11223, '1139937': 11224, '5530': 11225, '1551312': 11226, '1049975': 11227, '1097970': 11228, '1490728': 11229, '701774': 11230, '1939431': 11231, '1618396': 11232, '2552047': 11233, '151136': 11234, '401148': 11235, '2409746': 11236, '571332': 11237, '2637879': 11238, '1771677': 11239, '1261473': 11240, '68685': 11241, '1561134': 11242, '124342': 11243, '2047597': 11244, '1120853': 11245, '1845249': 11246, '541376': 11247, '1588002': 11248, '2023518': 11249, '1792741': 11250, '1765193': 11251, '1777614': 11252, '1553158': 11253, '1954817': 11254, '1714672': 11255, '339962': 11256, '1796532': 11257, '211008': 11258, '781610': 11259, '1783226': 11260, '1713873': 11261, '886615': 11262, '1419935': 11263, '205569': 11264, '172377': 11265, '2612664': 11266, '979196': 11267, '158197': 11268, '50282': 11269, '2529214': 11270, '915926': 11271, '1845472': 11272, '536037': 11273, '1520166': 11274, '220010': 11275, '1819434': 11276, '2010923': 11277, '102721': 11278, '379499': 11279, '222518': 11280, '2367323': 11281, '2338320': 11282, '1933447': 11283, '2538506': 11284, '1877676': 11285, '1063663': 11286, '1485833': 11287, '1448656': 11288, '1310510': 11289, '2200718': 11290, '2341640': 11291, '2281485': 11292, '1330147': 11293, '487866': 11294, '1055289': 11295, '207793': 11296, '765640': 11297, '551937': 11298, '2203248': 11299, '1685449': 11300, '965050': 11301, '1138216': 11302, '146044': 11303, '1408249': 11304, '1855673': 11305, '1900514': 11306, '78885': 11307, '2045949': 11308, '2345215': 11309, '2632436': 11310, '2022092': 11311, '1980782': 11312, '1491358': 11313, '551984': 11314, '823370': 11315, '720151': 11316, '2325714': 11317, '2527484': 11318, '1431911': 11319, '2415253': 11320, '1170245': 11321, '707987': 11322, '1992894': 11323, '2424335': 11324, '1653368': 11325, '2017088': 11326, '553202': 11327, '2114260': 11328, '1522555': 11329, '2147894': 11330, '1326993': 11331, '2359820': 11332, '1475526': 11333, '155342': 11334, '1035019': 11335, '1059771': 11336, '809329': 11337, '2394623': 11338, '440463': 11339, '123665': 11340, '881355': 11341, '1055117': 11342, '969042': 11343, '1025008': 11344, '677583': 11345, '206243': 11346, '1442154': 11347, '884354': 11348, '315833': 11349, '1416836': 11350, '1270431': 11351, '1809679': 11352, '1605711': 11353, '1613664': 11354, '924765': 11355, '1162007': 11356, '1067376': 11357, '1378386': 11358, '1713333': 11359, '705603': 11360, '2081709': 11361, '1877483': 11362, '2034703': 11363, '1548339': 11364, '630175': 11365, '1519722': 11366, '736013': 11367, '1908728': 11368, '1567783': 11369, '2583140': 11370, '1647020': 11371, '1634710': 11372, '1851629': 11373, '969461': 11374, '663654': 11375, '2496874': 11376, '2562859': 11377, '2401493': 11378, '918157': 11379, '1444028': 11380, '1460659': 11381, '1829748': 11382, '2438293': 11383, '43141': 11384, '314618': 11385, '1000192': 11386, '2444873': 11387, '1996893': 11388, '311622': 11389, '79524': 11390, '2229377': 11391, '38464': 11392, '2646634': 11393, '2631815': 11394, '714349': 11395, '1703380': 11396, '1510547': 11397, '626444': 11398, '1765595': 11399, '25049': 11400, '1640271': 11401, '754267': 11402, '1427025': 11403, '142115': 11404, '2202373': 11405, '2396089': 11406, '1522766': 11407, '926921': 11408, '2545709': 11409, '360264': 11410, '1875533': 11411, '1619362': 11412, '1866323': 11413, '1452669': 11414, '1814824': 11415, '589079': 11416, '1299497': 11417, '1980314': 11418, '1807245': 11419, '564647': 11420, '1036350': 11421, '801010': 11422, '691983': 11423, '1053310': 11424, '2311049': 11425, '1256620': 11426, '303969': 11427, '795592': 11428, '2535359': 11429, '455334': 11430, '1802098': 11431, '1650580': 11432, '1615850': 11433, '296232': 11434, '2064995': 11435, '2266372': 11436, '1243789': 11437, '1573486': 11438, '1966042': 11439, '1342357': 11440, '139852': 11441, '480181': 11442, '457773': 11443, '609895': 11444, '2356471': 11445, '1466743': 11446, '233761': 11447, '1737176': 11448, '483029': 11449, '1290593': 11450, '444798': 11451, '1582794': 11452, '1553406': 11453, '523779': 11454, '921732': 11455, '559119': 11456, '115821': 11457, '2579439': 11458, '650323': 11459, '908540': 11460, '1187749': 11461, '1127117': 11462, '219343': 11463, '2069442': 11464, '1840535': 11465, '984439': 11466, '2559608': 11467, '1856085': 11468, '1085207': 11469, '1138840': 11470, '1924354': 11471, '2479307': 11472, '1951053': 11473, '898403': 11474, '2041697': 11475, '1078129': 11476, '1977824': 11477, '106870': 11478, '1225936': 11479, '247774': 11480, '2164441': 11481, '876510': 11482, '1935654': 11483, '874700': 11484, '549262': 11485, '2193044': 11486, '1293631': 11487, '2057375': 11488, '1694402': 11489, '1003084': 11490, '2592938': 11491, '2283366': 11492, '526970': 11493, '1860587': 11494, '184311': 11495, '2080195': 11496, '1867416': 11497, '1744601': 11498, '1279110': 11499, '2408416': 11500, '998142': 11501, '1504990': 11502, '1519692': 11503, '661149': 11504, '2063104': 11505, '1983863': 11506, '672643': 11507, '825637': 11508, '1766112': 11509, '197101': 11510, '2604364': 11511, '1943141': 11512, '2105602': 11513, '1293514': 11514, '428653': 11515, '2604217': 11516, '767958': 11517, '114551': 11518, '1396299': 11519, '939653': 11520, '212846': 11521, '2365140': 11522, '596474': 11523, '1723381': 11524, '1362770': 11525, '553931': 11526, '1707884': 11527, '983389': 11528, '986015': 11529, '2262335': 11530, '1523524': 11531, '1453242': 11532, '1154287': 11533, '1224296': 11534, '1195633': 11535, '1088035': 11536, '522647': 11537, '1209635': 11538, '50123': 11539, '1653637': 11540, '2035994': 11541, '283468': 11542, '1704016': 11543, '1360936': 11544, '669635': 11545, '901694': 11546, '384941': 11547, '1683621': 11548, '676660': 11549, '1424487': 11550, '2506048': 11551, '2284436': 11552, '755320': 11553, '2071819': 11554, '1860025': 11555, '1876208': 11556, '2589277': 11557, '2621150': 11558, '2540418': 11559, '1114884': 11560, '1520179': 11561, '2188937': 11562, '268567': 11563, '196349': 11564, '1502648': 11565, '193838': 11566, '2139353': 11567, '948541': 11568, '818025': 11569, '2323668': 11570, '1846827': 11571, '1035352': 11572, '50075': 11573, '2012563': 11574, '922539': 11575, '2643418': 11576, '853135': 11577, '2339841': 11578, '586642': 11579, '149011': 11580, '1925280': 11581, '36217': 11582, '484113': 11583, '2591450': 11584, '756648': 11585, '190136': 11586, '2344229': 11587, '2260788': 11588, '1642316': 11589, '2193771': 11590, '1439806': 11591, '1618005': 11592, '1435335': 11593, '1341079': 11594, '1323507': 11595, '1467079': 11596, '458414': 11597, '2458372': 11598, '2569684': 11599, '869553': 11600, '1035969': 11601, '1909214': 11602, '1203467': 11603, '1076126': 11604, '1316286': 11605, '414800': 11606, '960208': 11607, '1486829': 11608, '1727193': 11609, '2319565': 11610, '1462537': 11611, '1646699': 11612, '1976522': 11613, '2007221': 11614, '2135038': 11615, '1508625': 11616, '798402': 11617, '1772901': 11618, '1126513': 11619, '1978271': 11620, '2316963': 11621, '89915': 11622, '150038': 11623, '1486501': 11624, '2085599': 11625, '1064554': 11626, '1505732': 11627, '1228066': 11628, '2241247': 11629, '1716910': 11630, '397815': 11631, '807237': 11632, '127581': 11633, '1116065': 11634, '1856602': 11635, '2397231': 11636, '346937': 11637, '1119513': 11638, '1515877': 11639, '1573062': 11640, '891618': 11641, '295718': 11642, '1193533': 11643, '1087693': 11644, '1692335': 11645, '1250320': 11646, '2243435': 11647, '767492': 11648, '62655': 11649, '2463816': 11650, '2464456': 11651, '158086': 11652, '1115567': 11653, '1733123': 11654, '1674777': 11655, '2284862': 11656, '302223': 11657, '536065': 11658, '1115828': 11659, '1530425': 11660, '1925969': 11661, '10947': 11662, '2286568': 11663, '1127410': 11664, '2160024': 11665, '2524669': 11666, '1988310': 11667, '329534': 11668, '173930': 11669, '904898': 11670, '1407758': 11671, '513120': 11672, '1568841': 11673, '786695': 11674, '782611': 11675, '1996328': 11676, '837170': 11677, '2225682': 11678, '1182779': 11679, '1488719': 11680, '1659196': 11681, '1125733': 11682, '2245883': 11683, '1759205': 11684, '1915206': 11685, '1758120': 11686, '2111120': 11687, '987066': 11688, '2481491': 11689, '168523': 11690, '261107': 11691, '589563': 11692, '1800320': 11693, '424144': 11694, '1465967': 11695, '927240': 11696, '1191122': 11697, '1240794': 11698, '3798': 11699, '948457': 11700, '259275': 11701, '1883039': 11702, '845921': 11703, '1725868': 11704, '2407606': 11705, '991263': 11706, '2389578': 11707, '176774': 11708, '433661': 11709, '151330': 11710, '1827071': 11711, '111736': 11712, '161013': 11713, '1867548': 11714, '221926': 11715, '1372554': 11716, '2550711': 11717, '2554555': 11718, '2512391': 11719, '743344': 11720, '888773': 11721, '884944': 11722, '1583566': 11723, '2228502': 11724, '164016': 11725, '2633543': 11726, '384710': 11727, '1750812': 11728, '1485848': 11729, '362038': 11730, '2274438': 11731, '1601970': 11732, '2147527': 11733, '1106767': 11734, '2231559': 11735, '2367301': 11736, '440752': 11737, '607063': 11738, '643254': 11739, '873556': 11740, '1121663': 11741, '679222': 11742, '488267': 11743, '674346': 11744, '2417983': 11745, '1935388': 11746, '1318951': 11747, '736962': 11748, '12253': 11749, '38514': 11750, '1605122': 11751, '56225': 11752, '1755612': 11753, '1262628': 11754, '2556070': 11755, '1028078': 11756, '548256': 11757, '1345921': 11758, '1661774': 11759, '803979': 11760, '1373956': 11761, '2547943': 11762, '2293072': 11763, '2640550': 11764, '1514717': 11765, '279966': 11766, '1571565': 11767, '929308': 11768, '1910383': 11769, '1609651': 11770, '17227': 11771, '555831': 11772, '1553047': 11773, '1903175': 11774, '1304749': 11775, '1129340': 11776, '220512': 11777, '335348': 11778, '1826093': 11779, '104821': 11780, '1075977': 11781, '2047862': 11782, '1713226': 11783, '2607183': 11784, '1792137': 11785, '871915': 11786, '589847': 11787, '1474260': 11788, '1114552': 11789, '2223273': 11790, '1133946': 11791, '1405557': 11792, '1945567': 11793, '388643': 11794, '295220': 11795, '605392': 11796, '1289999': 11797, '2442796': 11798, '2594623': 11799, '843523': 11800, '43279': 11801, '1797765': 11802, '2250323': 11803, '590429': 11804, '2065242': 11805, '1724142': 11806, '2002671': 11807, '1881843': 11808, '2494075': 11809, '268585': 11810, '1535722': 11811, '1796943': 11812, '2515047': 11813, '2550838': 11814, '2536028': 11815, '365119': 11816, '1135679': 11817, '2091625': 11818, '950189': 11819, '2471865': 11820, '1743613': 11821, '1749238': 11822, '1401815': 11823, '1753560': 11824, '993775': 11825, '340807': 11826, '760211': 11827, '969239': 11828, '264900': 11829, '2536066': 11830, '831222': 11831, '1729096': 11832, '285881': 11833, '1801389': 11834, '1166271': 11835, '990831': 11836, '2393719': 11837, '2388128': 11838, '1396046': 11839, '247474': 11840, '986631': 11841, '1013177': 11842, '1891024': 11843, '911514': 11844, '905156': 11845, '251004': 11846, '1386457': 11847, '1664726': 11848, '1224299': 11849, '2646058': 11850, '1521076': 11851, '871574': 11852, '1777895': 11853, '2366722': 11854, '1044403': 11855, '568832': 11856, '1754362': 11857, '1524307': 11858, '2205594': 11859, '1885016': 11860, '1892097': 11861, '2328825': 11862, '2399478': 11863, '1426662': 11864, '734347': 11865, '2059274': 11866, '2019396': 11867, '1629176': 11868, '22663': 11869, '539487': 11870, '2100741': 11871, '2552315': 11872, '205371': 11873, '1564978': 11874, '1069413': 11875, '188190': 11876, '1309088': 11877, '2359778': 11878, '1189241': 11879, '2544311': 11880, '1080430': 11881, '1391523': 11882, '1801141': 11883, '1312635': 11884, '2330519': 11885, '299489': 11886, '636724': 11887, '1498236': 11888, '1460906': 11889, '198955': 11890, '71148': 11891, '1226957': 11892, '1212375': 11893, '327179': 11894, '2220847': 11895, '582092': 11896, '2606334': 11897, '371849': 11898, '2536547': 11899, '2054068': 11900, '597776': 11901, '1372463': 11902, '1441546': 11903, '1180066': 11904, '176377': 11905, '454519': 11906, '300451': 11907, '1615957': 11908, '11462': 11909, '499768': 11910, '2124138': 11911, '1278961': 11912, '2309637': 11913, '716943': 11914, '2202863': 11915, '2046340': 11916, '2020033': 11917, '2247454': 11918, '471414': 11919, '1157288': 11920, '1446093': 11921, '785917': 11922, '394370': 11923, '2195642': 11924, '1966153': 11925, '118341': 11926, '165369': 11927, '1566134': 11928, '644453': 11929, '2353350': 11930, '166041': 11931, '2586623': 11932, '1783202': 11933, '282654': 11934, '1075362': 11935, '1903822': 11936, '2251831': 11937, '116252': 11938, '1697790': 11939, '306809': 11940, '1793274': 11941, '1067986': 11942, '1739615': 11943, '2576196': 11944, '345238': 11945, '850900': 11946, '312180': 11947, '575767': 11948, '593225': 11949, '1498712': 11950, '2294328': 11951, '2250261': 11952, '1465522': 11953, '1734105': 11954, '287897': 11955, '2450942': 11956, '1572525': 11957, '1318289': 11958, '735296': 11959, '1836095': 11960, '139212': 11961, '1618915': 11962, '1418739': 11963, '2048072': 11964, '1976116': 11965, '1801373': 11966, '725903': 11967, '1071266': 11968, '1606739': 11969, '874293': 11970, '710534': 11971, '1534677': 11972, '133462': 11973, '2030564': 11974, '1807053': 11975, '1691501': 11976, '2537933': 11977, '1185149': 11978, '2403449': 11979, '863644': 11980, '586835': 11981, '1166090': 11982, '2192517': 11983, '511234': 11984, '876661': 11985, '1436054': 11986, '2132655': 11987, '919160': 11988, '2278230': 11989, '325073': 11990, '1708366': 11991, '55018': 11992, '1735589': 11993, '903296': 11994, '1867391': 11995, '1163189': 11996, '2191844': 11997, '1523159': 11998, '923450': 11999, '1553126': 12000, '2244258': 12001, '1005606': 12002, '1150705': 12003, '615750': 12004, '1648695': 12005, '1380235': 12006, '2566950': 12007, '364618': 12008, '1794938': 12009, '2482518': 12010, '2145441': 12011, '76444': 12012, '133670': 12013, '1068777': 12014, '1190391': 12015, '1744889': 12016, '539310': 12017, '2369955': 12018, '1921443': 12019, '738430': 12020, '1860673': 12021, '535419': 12022, '1628622': 12023, '458190': 12024, '507519': 12025, '1631898': 12026, '290716': 12027, '834131': 12028, '272299': 12029, '1576227': 12030, '872323': 12031, '535886': 12032, '509864': 12033, '2006505': 12034, '1643995': 12035, '1799734': 12036, '1754537': 12037, '447836': 12038, '2218289': 12039, '768810': 12040, '2374451': 12041, '868973': 12042, '2114680': 12043, '219033': 12044, '329475': 12045, '2482204': 12046, '749662': 12047, '891561': 12048, '178800': 12049, '1762316': 12050, '1952492': 12051, '2637974': 12052, '1229707': 12053, '2460374': 12054, '1824021': 12055, '1487437': 12056, '2341389': 12057, '2546946': 12058, '207326': 12059, '2178729': 12060, '1649964': 12061, '1992636': 12062, '2018908': 12063, '583554': 12064, '1608147': 12065, '322451': 12066, '880035': 12067, '2310672': 12068, '1495252': 12069, '1942483': 12070, '1518104': 12071, '1437948': 12072, '2330371': 12073, '2247982': 12074, '445423': 12075, '101408': 12076, '863285': 12077, '301466': 12078, '2537401': 12079, '1600629': 12080, '1473033': 12081, '1689179': 12082, '2020448': 12083, '2544428': 12084, '1529578': 12085, '780160': 12086, '2435795': 12087, '1442': 12088, '716107': 12089, '487471': 12090, '98044': 12091, '1401922': 12092, '4421': 12093, '1659075': 12094, '455285': 12095, '1341649': 12096, '2090477': 12097, '1020195': 12098, '2379776': 12099, '2372021': 12100, '591622': 12101, '309662': 12102, '65300': 12103, '253659': 12104, '2481068': 12105, '1020476': 12106, '1934347': 12107, '1407665': 12108, '1807578': 12109, '2122377': 12110, '1068435': 12111, '2522831': 12112, '1796167': 12113, '2130480': 12114, '163515': 12115, '1472304': 12116, '200216': 12117, '1940995': 12118, '491766': 12119, '630026': 12120, '850499': 12121, '743123': 12122, '1692007': 12123, '1851867': 12124, '981800': 12125, '2290263': 12126, '577593': 12127, '1076087': 12128, '2569071': 12129, '2473986': 12130, '202039': 12131, '2126068': 12132, '1902140': 12133, '1902417': 12134, '272222': 12135, '607943': 12136, '482590': 12137, '1750020': 12138, '392731': 12139, '1669517': 12140, '761379': 12141, '1359770': 12142, '32902': 12143, '170248': 12144, '2504674': 12145, '1249490': 12146, '687379': 12147, '2422525': 12148, '2275040': 12149, '827526': 12150, '1059382': 12151, '1919197': 12152, '2022945': 12153, '2607155': 12154, '2157302': 12155, '2357567': 12156, '2406705': 12157, '2518972': 12158, '322874': 12159, '1319012': 12160, '1071510': 12161, '1276353': 12162, '1951711': 12163, '1935793': 12164, '637475': 12165, '1828803': 12166, '1062070': 12167, '1835080': 12168, '2409398': 12169, '2404972': 12170, '1718989': 12171, '2251669': 12172, '1449285': 12173, '1502511': 12174, '1033629': 12175, '2298301': 12176, '2434527': 12177, '1319737': 12178, '1232740': 12179, '2133752': 12180, '1398142': 12181, '638998': 12182, '987078': 12183, '423540': 12184, '2472771': 12185, '1378126': 12186, '30751': 12187, '98579': 12188, '791692': 12189, '1523788': 12190, '1055424': 12191, '745125': 12192, '1316762': 12193, '1992642': 12194, '1691319': 12195, '1300029': 12196, '1001912': 12197, '2222077': 12198, '933082': 12199, '701443': 12200, '1976745': 12201, '907023': 12202, '1999176': 12203, '2300312': 12204, '1282822': 12205, '1719477': 12206, '765633': 12207, '814660': 12208, '2593295': 12209, '2138793': 12210, '1893554': 12211, '1809161': 12212, '667526': 12213, '1494196': 12214, '1194698': 12215, '2374631': 12216, '2225288': 12217, '1496865': 12218, '2021814': 12219, '2372856': 12220, '2190628': 12221, '2551806': 12222, '1833140': 12223, '1562484': 12224, '2305040': 12225, '109831': 12226, '194044': 12227, '1477723': 12228, '717024': 12229, '1953066': 12230, '1601857': 12231, '228614': 12232, '982661': 12233, '986502': 12234, '156853': 12235, '341330': 12236, '1711294': 12237, '244969': 12238, '2241291': 12239, '995459': 12240, '2166690': 12241, '422485': 12242, '1415865': 12243, '1115666': 12244, '1329904': 12245, '481812': 12246, '2438832': 12247, '285925': 12248, '2558262': 12249, '462806': 12250, '1955660': 12251, '1975103': 12252, '492111': 12253, '291248': 12254, '1480841': 12255, '1836777': 12256, '1083720': 12257, '418550': 12258, '1194467': 12259, '650960': 12260, '2310889': 12261, '1727813': 12262, '1603995': 12263, '1730740': 12264, '269962': 12265, '2325737': 12266, '190213': 12267, '1952708': 12268, '676450': 12269, '594870': 12270, '2597191': 12271, '1919975': 12272, '1121725': 12273, '1535537': 12274, '2130811': 12275, '248239': 12276, '438733': 12277, '1255812': 12278, '2265995': 12279, '102383': 12280, '510590': 12281, '1133611': 12282, '170870': 12283, '2568756': 12284, '1204886': 12285, '680004': 12286, '811704': 12287, '2417957': 12288, '1771589': 12289, '2133551': 12290, '1820313': 12291, '1359953': 12292, '2356860': 12293, '2516611': 12294, '1762434': 12295, '2638601': 12296, '972204': 12297, '1242327': 12298, '1666920': 12299, '592951': 12300, '1094953': 12301, '1137186': 12302, '1013013': 12303, '1148740': 12304, '711263': 12305, '89256': 12306, '1983362': 12307, '1100241': 12308, '1594251': 12309, '708047': 12310, '975488': 12311, '2630072': 12312, '423681': 12313, '454758': 12314, '297607': 12315, '115240': 12316, '1347949': 12317, '1232733': 12318, '1633923': 12319, '1793899': 12320, '923069': 12321, '20774': 12322, '1282169': 12323, '2409015': 12324, '1903604': 12325, '730016': 12326, '2606685': 12327, '2222815': 12328, '287545': 12329, '118224': 12330, '710110': 12331, '1436486': 12332, '2045508': 12333, '1111007': 12334, '1406700': 12335, '2583202': 12336, '2615678': 12337, '781131': 12338, '2092470': 12339, '646676': 12340, '1320774': 12341, '1871937': 12342, '1217643': 12343, '675407': 12344, '942334': 12345, '325503': 12346, '1775114': 12347, '2177507': 12348, '2497577': 12349, '517186': 12350, '1025888': 12351, '118137': 12352, '598790': 12353, '988972': 12354, '16475': 12355, '1187026': 12356, '1415903': 12357, '1596858': 12358, '1845705': 12359, '69809': 12360, '735623': 12361, '2613973': 12362, '2151303': 12363, '1925985': 12364, '1002407': 12365, '982211': 12366, '2440793': 12367, '2304924': 12368, '2276790': 12369, '2170930': 12370, '1187949': 12371, '1622945': 12372, '1165562': 12373, '1449101': 12374, '1775437': 12375, '962848': 12376, '2417320': 12377, '2220732': 12378, '1044686': 12379, '1672386': 12380, '366695': 12381, '877060': 12382, '628670': 12383, '1072721': 12384, '2199355': 12385, '1336941': 12386, '2036646': 12387, '1427360': 12388, '1938727': 12389, '155620': 12390, '2260480': 12391, '929208': 12392, '2108527': 12393, '2051579': 12394, '2507981': 12395, '706897': 12396, '447759': 12397, '1354209': 12398, '2554084': 12399, '1328954': 12400, '850067': 12401, '184660': 12402, '1846965': 12403, '1374515': 12404, '1827533': 12405, '2616470': 12406, '1184498': 12407, '1568315': 12408, '568177': 12409, '1404704': 12410, '1682169': 12411, '803610': 12412, '2065028': 12413, '76196': 12414, '2215598': 12415, '1351898': 12416, '2197473': 12417, '2511366': 12418, '2150322': 12419, '1825371': 12420, '1958323': 12421, '428568': 12422, '1602339': 12423, '1177636': 12424, '1036823': 12425, '81608': 12426, '2379858': 12427, '735278': 12428, '1669116': 12429, '2384478': 12430, '923268': 12431, '1388257': 12432, '1285593': 12433, '253704': 12434, '1676467': 12435, '1774409': 12436, '2307374': 12437, '93325': 12438, '735103': 12439, '1435361': 12440, '1458453': 12441, '1085488': 12442, '1467197': 12443, '778246': 12444, '974402': 12445, '1954166': 12446, '521153': 12447, '2498386': 12448, '1811688': 12449, '1812039': 12450, '1233953': 12451, '1065511': 12452, '2069036': 12453, '349181': 12454, '1912034': 12455, '1514200': 12456, '1765712': 12457, '2513271': 12458, '326810': 12459, '2487812': 12460, '1158474': 12461, '1793313': 12462, '1574646': 12463, '2627190': 12464, '1412844': 12465, '673526': 12466, '608149': 12467, '1736217': 12468, '1384702': 12469, '770567': 12470, '659697': 12471, '725220': 12472, '1127274': 12473, '2622195': 12474, '1501028': 12475, '1964758': 12476, '157711': 12477, '1400085': 12478, '1430431': 12479, '1601656': 12480, '1654627': 12481, '803605': 12482, '2406002': 12483, '1324460': 12484, '319647': 12485, '1432790': 12486, '476043': 12487, '268592': 12488, '1612701': 12489, '10374': 12490, '1726364': 12491, '1008130': 12492, '1089664': 12493, '2222177': 12494, '796093': 12495, '2360796': 12496, '1419103': 12497, '1157302': 12498, '1640123': 12499, '596185': 12500, '2441687': 12501, '2432893': 12502, '539631': 12503, '1567867': 12504, '2297074': 12505, '1526116': 12506, '542153': 12507, '920143': 12508, '292049': 12509, '90821': 12510, '190547': 12511, '529849': 12512, '2126686': 12513, '1655656': 12514, '274191': 12515, '1518164': 12516, '2156074': 12517, '729432': 12518, '535268': 12519, '1991863': 12520, '1489356': 12521, '1054783': 12522, '476695': 12523, '599592': 12524, '838679': 12525, '342330': 12526, '1124822': 12527, '1920565': 12528, '1577578': 12529, '242425': 12530, '2075165': 12531, '1191964': 12532, '2542131': 12533, '1538119': 12534, '2252217': 12535, '456367': 12536, '2269875': 12537, '387106': 12538, '35996': 12539, '1247506': 12540, '216359': 12541, '1633863': 12542, '258046': 12543, '2247813': 12544, '1526354': 12545, '1997474': 12546, '2262372': 12547, '798730': 12548, '1110906': 12549, '1931966': 12550, '2503676': 12551, '1242406': 12552, '1819877': 12553, '610760': 12554, '2561682': 12555, '1683527': 12556, '1794682': 12557, '1707476': 12558, '2054241': 12559, '1725635': 12560, '2401140': 12561, '1744702': 12562, '990773': 12563, '2256870': 12564, '1167572': 12565, '760837': 12566, '2397061': 12567, '1622462': 12568, '837071': 12569, '328651': 12570, '2048038': 12571, '517619': 12572, '1354470': 12573, '2108102': 12574, '548376': 12575, '2426167': 12576, '156430': 12577, '789894': 12578, '391521': 12579, '1474466': 12580, '2427026': 12581, '2380338': 12582, '1838238': 12583, '768724': 12584, '997666': 12585, '2242128': 12586, '1343658': 12587, '2013153': 12588, '958604': 12589, '2156560': 12590, '341108': 12591, '1224756': 12592, '1770738': 12593, '1644320': 12594, '1648347': 12595, '2477588': 12596, '476873': 12597, '91408': 12598, '607220': 12599, '1169138': 12600, '2036365': 12601, '2038901': 12602, '314110': 12603, '282618': 12604, '2343379': 12605, '1610234': 12606, '2486520': 12607, '476669': 12608, '542001': 12609, '1497396': 12610, '1887920': 12611, '907089': 12612, '1705149': 12613, '1377190': 12614, '2612083': 12615, '799733': 12616, '1772667': 12617, '690000': 12618, '1242697': 12619, '2225': 12620, '401047': 12621, '2580792': 12622, '2387990': 12623, '2439534': 12624, '407314': 12625, '1485959': 12626, '84248': 12627, '1647714': 12628, '368786': 12629, '248976': 12630, '2393632': 12631, '399693': 12632, '2316326': 12633, '964630': 12634, '55432': 12635, '843399': 12636, '1172446': 12637, '2232616': 12638, '497953': 12639, '1297899': 12640, '2054908': 12641, '605116': 12642, '251123': 12643, '2072167': 12644, '1346630': 12645, '336239': 12646, '2417531': 12647, '1323985': 12648, '4679': 12649, '2397204': 12650, '2250552': 12651, '1467105': 12652, '2360158': 12653, '2582971': 12654, '2538680': 12655, '2374782': 12656, '1464380': 12657, '1784308': 12658, '2200976': 12659, '321276': 12660, '2582384': 12661, '652618': 12662, '1733203': 12663, '2324287': 12664, '1232194': 12665, '439688': 12666, '2300816': 12667, '1923732': 12668, '2047761': 12669, '1047830': 12670, '1921845': 12671, '1475204': 12672, '2440392': 12673, '482902': 12674, '1610646': 12675, '2551486': 12676, '2435240': 12677, '1374049': 12678, '1773858': 12679, '690615': 12680, '2250951': 12681, '1437519': 12682, '2025463': 12683, '1314083': 12684, '2505962': 12685, '385287': 12686, '746419': 12687, '2633985': 12688, '2096145': 12689, '135932': 12690, '2040484': 12691, '1210427': 12692, '1784935': 12693, '188870': 12694, '1207913': 12695, '1761842': 12696, '621003': 12697, '1148500': 12698, '838868': 12699, '65841': 12700, '646427': 12701, '1422346': 12702, '728626': 12703, '624145': 12704, '786415': 12705, '1818527': 12706, '1295115': 12707, '2096620': 12708, '1695799': 12709, '2579306': 12710, '1256752': 12711, '402568': 12712, '1294583': 12713, '1631087': 12714, '532948': 12715, '1462799': 12716, '1926272': 12717, '2491070': 12718, '605128': 12719, '1184029': 12720, '1149811': 12721, '721406': 12722, '165337': 12723, '990789': 12724, '1176119': 12725, '1824028': 12726, '2223706': 12727, '227437': 12728, '1574266': 12729, '1588845': 12730, '2467814': 12731, '2538880': 12732, '1926837': 12733, '515441': 12734, '1276983': 12735, '2241241': 12736, '544448': 12737, '964322': 12738, '1302376': 12739, '522710': 12740, '809207': 12741, '2570496': 12742, '2627263': 12743, '1527895': 12744, '1832225': 12745, '2390291': 12746, '1283137': 12747, '1157892': 12748, '1260731': 12749, '1149601': 12750, '1985315': 12751, '1517010': 12752, '317504': 12753, '481668': 12754, '2115386': 12755, '573364': 12756, '768176': 12757, '2523584': 12758, '727242': 12759, '1698802': 12760, '1436357': 12761, '248904': 12762, '461065': 12763, '2557491': 12764, '2409913': 12765, '1354717': 12766, '2109155': 12767, '1136740': 12768, '2496050': 12769, '697536': 12770, '1760008': 12771, '1469999': 12772, '1652573': 12773, '1219960': 12774, '1387650': 12775, '1783085': 12776, '2498949': 12777, '302785': 12778, '341109': 12779, '849580': 12780, '857132': 12781, '2519310': 12782, '1106198': 12783, '1351421': 12784, '551459': 12785, '408193': 12786, '52352': 12787, '139989': 12788, '2141635': 12789, '2121920': 12790, '978771': 12791, '1491312': 12792, '2489480': 12793, '2351316': 12794, '1905069': 12795, '2470884': 12796, '898239': 12797, '2371607': 12798, '1369971': 12799, '1836356': 12800, '967062': 12801, '1024806': 12802, '793027': 12803, '275687': 12804, '2602667': 12805, '1920218': 12806, '2204903': 12807, '895691': 12808, '300316': 12809, '2242472': 12810, '507498': 12811, '383952': 12812, '64120': 12813, '989327': 12814, '2272654': 12815, '466862': 12816, '363180': 12817, '2035595': 12818, '1791361': 12819, '2597551': 12820, '1411327': 12821, '2027196': 12822, '518765': 12823, '1437431': 12824, '1240206': 12825, '1747640': 12826, '749827': 12827, '1905594': 12828, '449053': 12829, '1725453': 12830, '2383662': 12831, '452192': 12832, '603543': 12833, '714635': 12834, '1241482': 12835, '1590926': 12836, '228919': 12837, '1420020': 12838, '294301': 12839, '1909788': 12840, '481813': 12841, '420266': 12842, '472729': 12843, '343490': 12844, '1431160': 12845, '685565': 12846, '1629943': 12847, '2009329': 12848, '60529': 12849, '2567682': 12850, '1242529': 12851, '1614636': 12852, '2518289': 12853, '2384355': 12854, '2314776': 12855, '845991': 12856, '1131009': 12857, '151625': 12858, '1366162': 12859, '680736': 12860, '1252011': 12861, '1680684': 12862, '2265316': 12863, '2341871': 12864, '1666483': 12865, '876083': 12866, '640174': 12867, '545732': 12868, '18432': 12869, '2494497': 12870, '818816': 12871, '1637067': 12872, '1326195': 12873, '2593093': 12874, '1351529': 12875, '800136': 12876, '2410720': 12877, '1341214': 12878, '1321396': 12879, '146194': 12880, '2334757': 12881, '211205': 12882, '314635': 12883, '1020314': 12884, '1630669': 12885, '1927597': 12886, '123616': 12887, '327691': 12888, '288343': 12889, '2264638': 12890, '2113683': 12891, '1674931': 12892, '2073766': 12893, '628251': 12894, '1230680': 12895, '289736': 12896, '2058978': 12897, '646765': 12898, '2301648': 12899, '2531920': 12900, '2255608': 12901, '2492154': 12902, '2179335': 12903, '2358651': 12904, '928636': 12905, '1565082': 12906, '1091251': 12907, '2503129': 12908, '1860298': 12909, '1085566': 12910, '416214': 12911, '2077664': 12912, '1278882': 12913, '1811259': 12914, '766158': 12915, '879967': 12916, '1559797': 12917, '109112': 12918, '2495157': 12919, '1720661': 12920, '1560283': 12921, '2124342': 12922, '2611783': 12923, '514519': 12924, '2107068': 12925, '1449277': 12926, '1460828': 12927, '800445': 12928, '64330': 12929, '1033971': 12930, '802326': 12931, '2380197': 12932, '2169183': 12933, '2545618': 12934, '315205': 12935, '2505334': 12936, '2302115': 12937, '1875140': 12938, '1828311': 12939, '642898': 12940, '1097350': 12941, '794246': 12942, '1778714': 12943, '124440': 12944, '1257454': 12945, '633722': 12946, '913920': 12947, '525679': 12948, '923325': 12949, '1705359': 12950, '1501869': 12951, '2002421': 12952, '1630842': 12953, '1751103': 12954, '1522685': 12955, '1687310': 12956, '1098431': 12957, '149359': 12958, '697010': 12959, '101692': 12960, '2308965': 12961, '2597335': 12962, '1948046': 12963, '354023': 12964, '1712201': 12965, '200938': 12966, '1533313': 12967, '880685': 12968, '1391246': 12969, '634388': 12970, '1891149': 12971, '1155493': 12972, '1488844': 12973, '2382060': 12974, '1906860': 12975, '309038': 12976, '215384': 12977, '1033815': 12978, '382224': 12979, '1728094': 12980, '268143': 12981, '1771365': 12982, '2270699': 12983, '761998': 12984, '930687': 12985, '1526244': 12986, '360923': 12987, '1685829': 12988, '688266': 12989, '641719': 12990, '196091': 12991, '2624234': 12992, '2635599': 12993, '2491575': 12994, '2244580': 12995, '1587985': 12996, '1118220': 12997, '1510091': 12998, '1181558': 12999, '1242266': 13000, '1792303': 13001, '76638': 13002, '1088005': 13003, '57342': 13004, '633890': 13005, '1195601': 13006, '1869725': 13007, '2521079': 13008, '1596074': 13009, '1055699': 13010, '1607762': 13011, '424505': 13012, '551743': 13013, '363192': 13014, '1632290': 13015, '2143764': 13016, '241107': 13017, '1110156': 13018, '1648316': 13019, '2135531': 13020, '66885': 13021, '1250989': 13022, '2312938': 13023, '1549730': 13024, '1387766': 13025, '1287388': 13026, '400462': 13027, '912340': 13028, '690131': 13029, '903799': 13030, '1807136': 13031, '7748': 13032, '1030186': 13033, '230252': 13034, '738725': 13035, '1702561': 13036, '706870': 13037, '1054416': 13038, '2404088': 13039, '2397185': 13040, '846786': 13041, '1887046': 13042, '1419286': 13043, '1093724': 13044, '150869': 13045, '375341': 13046, '929377': 13047, '2226098': 13048, '1160577': 13049, '1875225': 13050, '117112': 13051, '1716677': 13052, '1370323': 13053, '2251190': 13054, '1069088': 13055, '882300': 13056, '2544124': 13057, '1418477': 13058, '807361': 13059, '881120': 13060, '380673': 13061, '1268697': 13062, '193303': 13063, '2152273': 13064, '33711': 13065, '1213299': 13066, '2199837': 13067, '954289': 13068, '1850088': 13069, '2118885': 13070, '2569115': 13071, '235789': 13072, '1022127': 13073, '650517': 13074, '2570844': 13075, '2457240': 13076, '2573464': 13077, '103867': 13078, '2091736': 13079, '2057915': 13080, '1742222': 13081, '2322224': 13082, '1142168': 13083, '1150238': 13084, '1322233': 13085, '652797': 13086, '1401974': 13087, '2135891': 13088, '2604897': 13089, '2307995': 13090, '108780': 13091, '686173': 13092, '705075': 13093, '715533': 13094, '1000634': 13095, '190286': 13096, '338047': 13097, '88959': 13098, '327821': 13099, '1544073': 13100, '686510': 13101, '1061353': 13102, '1200256': 13103, '2198070': 13104, '2209480': 13105, '668106': 13106, '950677': 13107, '1199912': 13108, '1219679': 13109, '937784': 13110, '1203347': 13111, '1791707': 13112, '1196093': 13113, '476765': 13114, '2504904': 13115, '1317566': 13116, '1450747': 13117, '1346257': 13118, '1120126': 13119, '826049': 13120, '1501943': 13121, '698438': 13122, '944752': 13123, '2107866': 13124, '2289265': 13125, '151153': 13126, '1172980': 13127, '305733': 13128, '1626060': 13129, '2442597': 13130, '2323490': 13131, '110726': 13132, '921255': 13133, '2435015': 13134, '845597': 13135, '1532735': 13136, '1285431': 13137, '332487': 13138, '258627': 13139, '1684977': 13140, '1677064': 13141, '2328632': 13142, '2183192': 13143, '2254872': 13144, '1522957': 13145, '1550359': 13146, '1915014': 13147, '1329110': 13148, '901167': 13149, '1934709': 13150, '1329474': 13151, '1357619': 13152, '2040306': 13153, '1373951': 13154, '2565022': 13155, '1466332': 13156, '504624': 13157, '2097976': 13158, '735018': 13159, '264856': 13160, '1412309': 13161, '1457991': 13162, '198559': 13163, '754104': 13164, '476098': 13165, '1093643': 13166, '872591': 13167, '2646712': 13168, '867394': 13169, '1548039': 13170, '587812': 13171, '321819': 13172, '2282751': 13173, '1648869': 13174, '373990': 13175, '300241': 13176, '654630': 13177, '1730974': 13178, '2443690': 13179, '2536720': 13180, '84213': 13181, '775416': 13182, '984992': 13183, '1169855': 13184, '2087499': 13185, '3604': 13186, '2590741': 13187, '2510262': 13188, '746258': 13189, '2263041': 13190, '2509695': 13191, '1880925': 13192, '2121758': 13193, '880471': 13194, '551489': 13195, '1170779': 13196, '1515113': 13197, '387897': 13198, '1751912': 13199, '948572': 13200, '59143': 13201, '2258288': 13202, '1845415': 13203, '1636145': 13204, '1887035': 13205, '600949': 13206, '660279': 13207, '2624159': 13208, '1038978': 13209, '345800': 13210, '1339740': 13211, '1204294': 13212, '1405888': 13213, '79141': 13214, '389985': 13215, '1362065': 13216, '1390057': 13217, '691775': 13218, '793892': 13219, '2204961': 13220, '933206': 13221, '1872709': 13222, '1383642': 13223, '913581': 13224, '2098046': 13225, '905964': 13226, '1816535': 13227, '2577597': 13228, '1175001': 13229, '1089070': 13230, '230265': 13231, '1224275': 13232, '981808': 13233, '41724': 13234, '1248827': 13235, '266493': 13236, '2246066': 13237, '950518': 13238, '2555614': 13239, '969572': 13240, '315561': 13241, '240121': 13242, '865481': 13243, '2624537': 13244, '2037731': 13245, '2120970': 13246, '1329886': 13247, '1436407': 13248, '1410753': 13249, '2204444': 13250, '108311': 13251, '1242806': 13252, '1887657': 13253, '1233312': 13254, '2475058': 13255, '355742': 13256, '2388773': 13257, '947574': 13258, '753836': 13259, '1351821': 13260, '759902': 13261, '2241438': 13262, '421433': 13263, '2465288': 13264, '551156': 13265, '1750785': 13266, '1611417': 13267, '152228': 13268, '131016': 13269, '2007573': 13270, '777347': 13271, '514618': 13272, '70950': 13273, '612817': 13274, '1444777': 13275, '712361': 13276, '2054186': 13277, '532653': 13278, '108360': 13279, '679390': 13280, '54040': 13281, '1398364': 13282, '621244': 13283, '859354': 13284, '686362': 13285, '970590': 13286, '1127936': 13287, '415540': 13288, '263031': 13289, '2303590': 13290, '186806': 13291, '2055550': 13292, '695091': 13293, '862644': 13294, '954924': 13295, '225527': 13296, '2442925': 13297, '676812': 13298, '2001820': 13299, '1661469': 13300, '1913414': 13301, '2295636': 13302, '1953616': 13303, '2148744': 13304, '299857': 13305, '360287': 13306, '324080': 13307, '125569': 13308, '1296959': 13309, '577109': 13310, '1115451': 13311, '896309': 13312, '3458': 13313, '1727737': 13314, '408645': 13315, '501420': 13316, '1747369': 13317, '1128816': 13318, '1518964': 13319, '1446054': 13320, '688590': 13321, '827373': 13322, '1664458': 13323, '1561695': 13324, '2112141': 13325, '463810': 13326, '2223524': 13327, '806188': 13328, '1897107': 13329, '1337293': 13330, '512303': 13331, '498214': 13332, '26517': 13333, '1425274': 13334, '775895': 13335, '2331863': 13336, '2315130': 13337, '361327': 13338, '2150751': 13339, '1058309': 13340, '1378848': 13341, '2285688': 13342, '978567': 13343, '2116041': 13344, '2367508': 13345, '2447465': 13346, '697780': 13347, '2284358': 13348, '2616793': 13349, '1228534': 13350, '1234128': 13351, '2250528': 13352, '676135': 13353, '71114': 13354, '2486844': 13355, '1590697': 13356, '978708': 13357, '840207': 13358, '1312412': 13359, '870526': 13360, '1854193': 13361, '2114550': 13362, '1135948': 13363, '1811201': 13364, '1154813': 13365, '1950604': 13366, '113549': 13367, '1372345': 13368, '1902510': 13369, '255552': 13370, '936396': 13371, '1767524': 13372, '793736': 13373, '21117': 13374, '1498767': 13375, '355612': 13376, '313087': 13377, '2301246': 13378, '479481': 13379, '1344536': 13380, '133690': 13381, '378591': 13382, '394442': 13383, '1000710': 13384, '264451': 13385, '1896000': 13386, '320708': 13387, '1059961': 13388, '718692': 13389, '1364293': 13390, '333844': 13391, '2381413': 13392, '1455086': 13393, '2562888': 13394, '957143': 13395, '628307': 13396, '2412874': 13397, '820785': 13398, '1927527': 13399, '1946983': 13400, '1374435': 13401, '2550058': 13402, '1363781': 13403, '2613921': 13404, '2350917': 13405, '795665': 13406, '1556715': 13407, '957447': 13408, '128611': 13409, '389017': 13410, '1877497': 13411, '348634': 13412, '2301473': 13413, '1764962': 13414, '1096159': 13415, '702106': 13416, '1575810': 13417, '508927': 13418, '695590': 13419, '1311189': 13420, '561013': 13421, '2548281': 13422, '180151': 13423, '923103': 13424, '1233695': 13425, '2547219': 13426, '1928532': 13427, '2090850': 13428, '1256816': 13429, '2076631': 13430, '2316429': 13431, '1719439': 13432, '2223102': 13433, '830370': 13434, '715516': 13435, '1713608': 13436, '516260': 13437, '2506564': 13438, '1762633': 13439, '2591100': 13440, '125713': 13441, '1709175': 13442, '2478364': 13443, '1692674': 13444, '1995214': 13445, '1474958': 13446, '271988': 13447, '2419975': 13448, '291018': 13449, '1882563': 13450, '2313362': 13451, '1062260': 13452, '1769515': 13453, '152484': 13454, '480305': 13455, '507873': 13456, '1183174': 13457, '473516': 13458, '2144594': 13459, '1249060': 13460, '1819879': 13461, '227829': 13462, '516276': 13463, '2015182': 13464, '2270275': 13465, '2495459': 13466, '1732585': 13467, '667035': 13468, '2507653': 13469, '2129864': 13470, '1910767': 13471, '2581032': 13472, '899577': 13473, '1054341': 13474, '2470313': 13475, '1536111': 13476, '793113': 13477, '743813': 13478, '1743431': 13479, '453105': 13480, '1316924': 13481, '1437853': 13482, '1343107': 13483, '2569227': 13484, '2555277': 13485, '645138': 13486, '169533': 13487, '360846': 13488, '476470': 13489, '2382912': 13490, '2576648': 13491, '2388205': 13492, '2070952': 13493, '1840542': 13494, '1276884': 13495, '758353': 13496, '465878': 13497, '1156054': 13498, '206839': 13499, '956846': 13500, '226010': 13501, '172102': 13502, '2533480': 13503, '1428848': 13504, '464478': 13505, '1559083': 13506, '740515': 13507, '282156': 13508, '2322383': 13509, '2441126': 13510, '865926': 13511, '2418129': 13512, '1912012': 13513, '2285176': 13514, '929327': 13515, '546802': 13516, '1122818': 13517, '2391817': 13518, '1119468': 13519, '1731259': 13520, '1990657': 13521, '1072072': 13522, '554063': 13523, '1616215': 13524, '916342': 13525, '476743': 13526, '2032679': 13527, '1887120': 13528, '2436557': 13529, '771653': 13530, '207637': 13531, '496432': 13532, '2351276': 13533, '1014939': 13534, '795638': 13535, '7134': 13536, '70893': 13537, '875719': 13538, '1791594': 13539, '2151938': 13540, '1329779': 13541, '757796': 13542, '1058034': 13543, '2614122': 13544, '1631999': 13545, '1517590': 13546, '1856275': 13547, '1760637': 13548, '2156497': 13549, '1689683': 13550, '224582': 13551, '2190100': 13552, '2320177': 13553, '728123': 13554, '1555643': 13555, '722983': 13556, '1214543': 13557, '337743': 13558, '838130': 13559, '2590509': 13560, '439970': 13561, '1366995': 13562, '1765963': 13563, '2387950': 13564, '280280': 13565, '2501912': 13566, '53629': 13567, '1587431': 13568, '1417392': 13569, '1378727': 13570, '369706': 13571, '2162729': 13572, '2379827': 13573, '103761': 13574, '9964': 13575, '2056672': 13576, '627975': 13577, '1371031': 13578, '2213131': 13579, '2152707': 13580, '503398': 13581, '2071210': 13582, '1825515': 13583, '1220726': 13584, '2115128': 13585, '2440639': 13586, '554587': 13587, '1182857': 13588, '1951576': 13589, '1323821': 13590, '2087093': 13591, '1634649': 13592, '2394277': 13593, '2148252': 13594, '45656': 13595, '2597040': 13596, '654455': 13597, '2558357': 13598, '1924957': 13599, '450111': 13600, '1516834': 13601, '366809': 13602, '1973744': 13603, '2460130': 13604, '2608047': 13605, '1112565': 13606, '870097': 13607, '2494707': 13608, '2574126': 13609, '2411610': 13610, '2287442': 13611, '433647': 13612, '2059267': 13613, '2497520': 13614, '2173557': 13615, '232994': 13616, '596250': 13617, '124598': 13618, '1475760': 13619, '2101845': 13620, '969530': 13621, '2364980': 13622, '2474607': 13623, '277726': 13624, '885257': 13625, '326006': 13626, '1331144': 13627, '533771': 13628, '135161': 13629, '363868': 13630, '2340119': 13631, '1502298': 13632, '199435': 13633, '112991': 13634, '1992646': 13635, '1637793': 13636, '2447769': 13637, '330221': 13638, '980393': 13639, '2106057': 13640, '2090210': 13641, '1328996': 13642, '409192': 13643, '1389127': 13644, '2414992': 13645, '554096': 13646, '247932': 13647, '195032': 13648, '1042795': 13649, '2347632': 13650, '20658': 13651, '405572': 13652, '119624': 13653, '2151488': 13654, '1000851': 13655, '1145939': 13656, '526043': 13657, '1287593': 13658, '279265': 13659, '737728': 13660, '649547': 13661, '648238': 13662, '1105686': 13663, '1187063': 13664, '2386179': 13665, '1695600': 13666, '428688': 13667, '1876459': 13668, '2179833': 13669, '2130244': 13670, '369978': 13671, '460980': 13672, '1860339': 13673, '108592': 13674, '803964': 13675, '1003874': 13676, '340492': 13677, '1165353': 13678, '1419370': 13679, '1225150': 13680, '2503691': 13681, '173301': 13682, '774398': 13683, '1889855': 13684, '440606': 13685, '2054694': 13686, '2426587': 13687, '1556692': 13688, '655385': 13689, '928481': 13690, '416560': 13691, '2501068': 13692, '1221268': 13693, '229439': 13694, '2248080': 13695, '60582': 13696, '2214885': 13697, '268872': 13698, '1032488': 13699, '2604392': 13700, '1658172': 13701, '2424911': 13702, '2226693': 13703, '916101': 13704, '1165873': 13705, '1422484': 13706, '2355625': 13707, '1013793': 13708, '1270297': 13709, '148719': 13710, '2193455': 13711, '373013': 13712, '1975681': 13713, '843387': 13714, '2634682': 13715, '1214583': 13716, '2350500': 13717, '2303680': 13718, '1805932': 13719, '1140048': 13720, '1327340': 13721, '580199': 13722, '917679': 13723, '318235': 13724, '1830031': 13725, '221936': 13726, '2632548': 13727, '2111672': 13728, '1181111': 13729, '1813329': 13730, '914940': 13731, '6056': 13732, '1167962': 13733, '2337931': 13734, '1794216': 13735, '1372014': 13736, '1423788': 13737, '695907': 13738, '710783': 13739, '2332009': 13740, '788067': 13741, '204096': 13742, '940885': 13743, '1343495': 13744, '860700': 13745, '1839934': 13746, '718012': 13747, '431067': 13748, '512633': 13749, '1011627': 13750, '595054': 13751, '261806': 13752, '2440605': 13753, '2170900': 13754, '898603': 13755, '11540': 13756, '1354545': 13757, '199780': 13758, '490031': 13759, '1018465': 13760, '2305067': 13761, '1688176': 13762, '1984604': 13763, '1932325': 13764, '1275790': 13765, '332086': 13766, '651629': 13767, '239285': 13768, '309934': 13769, '1777233': 13770, '1089692': 13771, '2161965': 13772, '1291186': 13773, '609451': 13774, '1437139': 13775, '2393981': 13776, '519699': 13777, '2105661': 13778, '474691': 13779, '1321779': 13780, '214986': 13781, '1275089': 13782, '2397008': 13783, '2443626': 13784, '643778': 13785, '1707271': 13786, '1616135': 13787, '1299970': 13788, '770339': 13789, '1105029': 13790, '1054140': 13791, '1978244': 13792, '1220707': 13793, '1597459': 13794, '1731449': 13795, '1882384': 13796, '10679': 13797, '2204513': 13798, '563339': 13799, '1214262': 13800, '1152692': 13801, '665967': 13802, '376047': 13803, '892472': 13804, '2560533': 13805, '970031': 13806, '718158': 13807, '1851400': 13808, '861035': 13809, '1875017': 13810, '181843': 13811, '614278': 13812, '1686401': 13813, '934387': 13814, '1788137': 13815, '1637997': 13816, '709755': 13817, '2413875': 13818, '2434289': 13819, '2327355': 13820, '1344268': 13821, '1147585': 13822, '1594839': 13823, '2495474': 13824, '1235769': 13825, '53521': 13826, '476205': 13827, '182016': 13828, '408636': 13829, '2387672': 13830, '2086515': 13831, '360496': 13832, '2552515': 13833, '363195': 13834, '2204979': 13835, '1747111': 13836, '1292658': 13837, '299799': 13838, '789517': 13839, '827986': 13840, '774749': 13841, '2612104': 13842, '433641': 13843, '1223949': 13844, '2646347': 13845, '2385925': 13846, '1456270': 13847, '331278': 13848, '620072': 13849, '263150': 13850, '1043309': 13851, '519866': 13852, '439729': 13853, '1926450': 13854, '1454964': 13855, '2058194': 13856, '267231': 13857, '137781': 13858, '2467136': 13859, '1631281': 13860, '1296163': 13861, '1730413': 13862, '2276659': 13863, '308257': 13864, '867381': 13865, '964472': 13866, '1388677': 13867, '518327': 13868, '1024036': 13869, '1357936': 13870, '367344': 13871, '204164': 13872, '1720861': 13873, '265848': 13874, '1818059': 13875, '186266': 13876, '1868345': 13877, '1171469': 13878, '2080822': 13879, '2108314': 13880, '2276849': 13881, '1332585': 13882, '1478117': 13883, '2478643': 13884, '2331293': 13885, '2477751': 13886, '1166644': 13887, '199673': 13888, '775247': 13889, '273292': 13890, '2464325': 13891, '973959': 13892, '654043': 13893, '430011': 13894, '2590515': 13895, '1993756': 13896, '2570992': 13897, '1582151': 13898, '2186779': 13899, '748141': 13900, '110288': 13901, '2511049': 13902, '61810': 13903, '1335061': 13904, '592394': 13905, '2524353': 13906, '860836': 13907, '1961753': 13908, '1289343': 13909, '730961': 13910, '961675': 13911, '1521143': 13912, '2004175': 13913, '239518': 13914, '1079644': 13915, '1641213': 13916, '872973': 13917, '1250515': 13918, '1009110': 13919, '1402114': 13920, '2626891': 13921, '2376898': 13922, '1990362': 13923, '1116876': 13924, '1447641': 13925, '2584725': 13926, '1483838': 13927, '1344624': 13928, '1871337': 13929, '241801': 13930, '2249634': 13931, '2091589': 13932, '2392051': 13933, '975188': 13934, '879912': 13935, '610335': 13936, '2156505': 13937, '936928': 13938, '433120': 13939, '292205': 13940, '253582': 13941, '14682': 13942, '2171824': 13943, '1010200': 13944, '783797': 13945, '310400': 13946, '2358855': 13947, '713797': 13948, '1960710': 13949, '485181': 13950, '2284891': 13951, '804785': 13952, '1697865': 13953, '666500': 13954, '1611206': 13955, '187251': 13956, '620010': 13957, '1190158': 13958, '729150': 13959, '1717675': 13960, '1906808': 13961, '253217': 13962, '2557650': 13963, '783137': 13964, '2189452': 13965, '2364842': 13966, '2469176': 13967, '54864': 13968, '307505': 13969, '509987': 13970, '635044': 13971, '1441442': 13972, '165247': 13973, '2268851': 13974, '370222': 13975, '1005202': 13976, '1414501': 13977, '345704': 13978, '826722': 13979, '2375388': 13980, '2400635': 13981, '412211': 13982, '908401': 13983, '1203445': 13984, '1991491': 13985, '284227': 13986, '1444489': 13987, '979053': 13988, '446517': 13989, '1538160': 13990, '46263': 13991, '1083252': 13992, '2104457': 13993, '521985': 13994, '1147908': 13995, '1909219': 13996, '1705674': 13997, '245371': 13998, '866000': 13999, '2511584': 14000, '1669107': 14001, '1586184': 14002, '896753': 14003, '1296627': 14004, '2545922': 14005, '903036': 14006, '287901': 14007, '682501': 14008, '700490': 14009, '673837': 14010, '1586546': 14011, '724330': 14012, '1139610': 14013, '1637213': 14014, '2032162': 14015, '828672': 14016, '2598561': 14017, '2415034': 14018, '798852': 14019, '1954411': 14020, '758589': 14021, '85915': 14022, '1672832': 14023, '1252571': 14024, '320226': 14025, '485301': 14026, '506161': 14027, '676564': 14028, '192889': 14029, '2265021': 14030, '2151973': 14031, '2648502': 14032, '202607': 14033, '2500869': 14034, '1725451': 14035, '1334775': 14036, '447521': 14037, '1190964': 14038, '778465': 14039, '567105': 14040, '1400206': 14041, '1120476': 14042, '1466453': 14043, '2118269': 14044, '418717': 14045, '1550823': 14046, '2061246': 14047, '981953': 14048, '1376939': 14049, '722287': 14050, '892252': 14051, '2068042': 14052, '440220': 14053, '1865100': 14054, '1327822': 14055, '1317086': 14056, '113369': 14057, '536085': 14058, '715661': 14059, '1438606': 14060, '830300': 14061, '1288627': 14062, '1837942': 14063, '1528122': 14064, '1724102': 14065, '973870': 14066, '184888': 14067, '649226': 14068, '2042132': 14069, '1071403': 14070, '1897166': 14071, '755921': 14072, '1707646': 14073, '2416772': 14074, '969948': 14075, '2014644': 14076, '1732841': 14077, '2158880': 14078, '1623132': 14079, '2235166': 14080, '2475053': 14081, '2597964': 14082, '295983': 14083, '1694632': 14084, '2628143': 14085, '605082': 14086, '2407177': 14087, '2047339': 14088, '2136912': 14089, '63452': 14090, '848655': 14091, '1625448': 14092, '1971298': 14093, '1491102': 14094, '1934293': 14095, '1734109': 14096, '1702389': 14097, '1928574': 14098, '1996154': 14099, '14704': 14100, '896630': 14101, '1369468': 14102, '671338': 14103, '1187676': 14104, '371245': 14105, '2630890': 14106, '1068656': 14107, '1576896': 14108, '1033845': 14109, '813521': 14110, '667484': 14111, '2483353': 14112, '2517682': 14113, '2644448': 14114, '945540': 14115, '1785160': 14116, '2517390': 14117, '359681': 14118, '1326994': 14119, '261976': 14120, '360556': 14121, '121943': 14122, '123750': 14123, '631315': 14124, '2138857': 14125, '30893': 14126, '2455789': 14127, '246880': 14128, '627445': 14129, '79224': 14130, '2520941': 14131, '705904': 14132, '1300172': 14133, '2037890': 14134, '2352586': 14135, '2105033': 14136, '1551926': 14137, '193930': 14138, '780390': 14139, '579190': 14140, '1584593': 14141, '2429759': 14142, '328654': 14143, '2378867': 14144, '1326640': 14145, '2049602': 14146, '237286': 14147, '2336005': 14148, '258675': 14149, '824465': 14150, '1593551': 14151, '2539534': 14152, '1369078': 14153, '517790': 14154, '2195565': 14155, '734508': 14156, '867311': 14157, '1250802': 14158, '2531844': 14159, '1232404': 14160, '39242': 14161, '1394420': 14162, '2147223': 14163, '2559157': 14164, '1491101': 14165, '326894': 14166, '567822': 14167, '977932': 14168, '2090792': 14169, '864172': 14170, '1779118': 14171, '453321': 14172, '2636398': 14173, '2518672': 14174, '2007166': 14175, '1360090': 14176, '1761530': 14177, '1621533': 14178, '1310756': 14179, '910059': 14180, '1256482': 14181, '603092': 14182, '2308436': 14183, '887741': 14184, '1498221': 14185, '632313': 14186, '2578697': 14187, '657095': 14188, '2644264': 14189, '1298147': 14190, '39526': 14191, '2279797': 14192, '2593402': 14193, '1677782': 14194, '1561126': 14195, '22842': 14196, '1317124': 14197, '2312452': 14198, '372233': 14199, '1078536': 14200, '379411': 14201, '2156280': 14202, '653399': 14203, '1076412': 14204, '2495347': 14205, '2368488': 14206, '1041529': 14207, '167100': 14208, '950398': 14209, '1266206': 14210, '801295': 14211, '1797483': 14212, '170178': 14213, '565401': 14214, '2562786': 14215, '2633486': 14216, '2181518': 14217, '1134085': 14218, '2011242': 14219, '2480676': 14220, '1907556': 14221, '240869': 14222, '1751977': 14223, '2116966': 14224, '2203425': 14225, '693157': 14226, '1657195': 14227, '1225759': 14228, '2227576': 14229, '413104': 14230, '1403975': 14231, '2173870': 14232, '1000301': 14233, '2401693': 14234, '2387205': 14235, '947104': 14236, '1836871': 14237, '1839424': 14238, '952381': 14239, '1586463': 14240, '277916': 14241, '1476557': 14242, '1372915': 14243, '2279048': 14244, '2212303': 14245, '539602': 14246, '566847': 14247, '1431356': 14248, '1473980': 14249, '90900': 14250, '2636145': 14251, '637473': 14252, '460092': 14253, '1658101': 14254, '2534832': 14255, '1165490': 14256, '607897': 14257, '307154': 14258, '2407453': 14259, '217619': 14260, '1989573': 14261, '2442434': 14262, '1989121': 14263, '106997': 14264, '2124083': 14265, '2260332': 14266, '8117': 14267, '674065': 14268, '2109666': 14269, '2094114': 14270, '1946921': 14271, '1353566': 14272, '211086': 14273, '518123': 14274, '2260833': 14275, '564016': 14276, '2143870': 14277, '1517168': 14278, '129538': 14279, '966426': 14280, '94821': 14281, '259202': 14282, '426005': 14283, '1207601': 14284, '601147': 14285, '2574258': 14286, '1532087': 14287, '2316025': 14288, '2329945': 14289, '654591': 14290, '786127': 14291, '1867384': 14292, '1321465': 14293, '2600419': 14294, '1233627': 14295, '1477783': 14296, '269827': 14297, '1549491': 14298, '424202': 14299, '516686': 14300, '1878057': 14301, '909399': 14302, '776127': 14303, '1567051': 14304, '1194439': 14305, '2619115': 14306, '134743': 14307, '131752': 14308, '780253': 14309, '1788305': 14310, '178089': 14311, '2469479': 14312, '1933952': 14313, '1222252': 14314, '520803': 14315, '826871': 14316, '1430587': 14317, '2071037': 14318, '1669018': 14319, '1115274': 14320, '1866838': 14321, '2291972': 14322, '687967': 14323, '287825': 14324, '1909121': 14325, '94869': 14326, '2568295': 14327, '621092': 14328, '1668072': 14329, '622214': 14330, '742086': 14331, '2111014': 14332, '1189210': 14333, '1600381': 14334, '370904': 14335, '1935050': 14336, '1823920': 14337, '1778851': 14338, '292335': 14339, '1343679': 14340, '1179235': 14341, '294908': 14342, '2502208': 14343, '606271': 14344, '1891825': 14345, '566587': 14346, '2200675': 14347, '1481308': 14348, '1341247': 14349, '1257698': 14350, '2034101': 14351, '857880': 14352, '1629446': 14353, '746775': 14354, '897838': 14355, '1429041': 14356, '2077046': 14357, '2332110': 14358, '1341267': 14359, '2548032': 14360, '1554241': 14361, '397392': 14362, '1709304': 14363, '2246857': 14364, '2211028': 14365, '1972040': 14366, '1112365': 14367, '587610': 14368, '2286380': 14369, '385136': 14370, '661551': 14371, '2503103': 14372, '1626390': 14373, '1704966': 14374, '2005521': 14375, '2161158': 14376, '1843690': 14377, '2556921': 14378, '889036': 14379, '775785': 14380, '2604811': 14381, '2528088': 14382, '1456376': 14383, '2025236': 14384, '2492695': 14385, '369036': 14386, '749139': 14387, '502406': 14388, '2252640': 14389, '254222': 14390, '2647396': 14391, '985009': 14392, '1630992': 14393, '2148197': 14394, '514787': 14395, '2522148': 14396, '799826': 14397, '1583564': 14398, '80250': 14399, '302344': 14400, '1654495': 14401, '1035650': 14402, '230967': 14403, '1869491': 14404, '1696725': 14405, '1020669': 14406, '1337699': 14407, '1338011': 14408, '1277391': 14409, '1790092': 14410, '452001': 14411, '1506186': 14412, '2552144': 14413, '1921654': 14414, '1445724': 14415, '2419225': 14416, '401315': 14417, '699566': 14418, '600251': 14419, '2490243': 14420, '612641': 14421, '904842': 14422, '1444509': 14423, '2429230': 14424, '2617911': 14425, '1342369': 14426, '532583': 14427, '1172510': 14428, '1746121': 14429, '1302846': 14430, '1116031': 14431, '1264995': 14432, '476539': 14433, '152090': 14434, '2408604': 14435, '329670': 14436, '1227848': 14437, '2095101': 14438, '42128': 14439, '1886175': 14440, '2341658': 14441, '239178': 14442, '908324': 14443, '1987073': 14444, '47589': 14445, '122524': 14446, '1631730': 14447, '1838859': 14448, '719094': 14449, '2074813': 14450, '61472': 14451, '1327787': 14452, '2331112': 14453, '2609677': 14454, '1769229': 14455, '262411': 14456, '1685961': 14457, '973538': 14458, '611616': 14459, '1445536': 14460, '2242346': 14461, '499956': 14462, '898303': 14463, '561708': 14464, '4315': 14465, '5618': 14466, '1214342': 14467, '2564142': 14468, '669122': 14469, '72451': 14470, '2564306': 14471, '537788': 14472, '1507905': 14473, '2534672': 14474, '1950809': 14475, '1363670': 14476, '1326154': 14477, '602642': 14478, '1357085': 14479, '575029': 14480, '1939137': 14481, '2521112': 14482, '678157': 14483, '330922': 14484, '1895746': 14485, '858362': 14486, '496267': 14487, '1323848': 14488, '411512': 14489, '1520703': 14490, '2235641': 14491, '117567': 14492, '2317868': 14493, '1325452': 14494, '2310461': 14495, '673591': 14496, '1431311': 14497, '357588': 14498, '498648': 14499, '959509': 14500, '2354601': 14501, '891527': 14502, '1331155': 14503, '573928': 14504, '2461835': 14505, '2304298': 14506, '2006046': 14507, '2009653': 14508, '1983065': 14509, '643308': 14510, '2532721': 14511, '1359882': 14512, '859453': 14513, '1855590': 14514, '1348653': 14515, '2322463': 14516, '1498881': 14517, '116502': 14518, '995497': 14519, '2427272': 14520, '594244': 14521, '1666140': 14522, '531117': 14523, '650326': 14524, '2159724': 14525, '437672': 14526, '1326146': 14527, '896339': 14528, '2419256': 14529, '1335582': 14530, '2142405': 14531, '2565487': 14532, '2135410': 14533, '1910719': 14534, '804482': 14535, '2540263': 14536, '187322': 14537, '823101': 14538, '1002695': 14539, '136381': 14540, '2450983': 14541, '1286689': 14542, '1225947': 14543, '774250': 14544, '2171187': 14545, '1593063': 14546, '2476470': 14547, '107909': 14548, '933207': 14549, '2490508': 14550, '803911': 14551, '2075584': 14552, '805082': 14553, '2353991': 14554, '1891748': 14555, '1206842': 14556, '881431': 14557, '1783225': 14558, '1448959': 14559, '2358416': 14560, '485249': 14561, '406090': 14562, '819822': 14563, '1679839': 14564, '2490130': 14565, '2411855': 14566, '1990616': 14567, '1001004': 14568, '1338932': 14569, '2608766': 14570, '924192': 14571, '104583': 14572, '2575319': 14573, '716649': 14574, '2474060': 14575, '1108724': 14576, '1856609': 14577, '1273680': 14578, '1262403': 14579, '2130888': 14580, '1008517': 14581, '1872071': 14582, '2391620': 14583, '1172719': 14584, '261348': 14585, '1778599': 14586, '1792064': 14587, '677888': 14588, '1203779': 14589, '129179': 14590, '1273549': 14591, '229507': 14592, '1459910': 14593, '1396680': 14594, '1665685': 14595, '101722': 14596, '583070': 14597, '2562900': 14598, '1227739': 14599, '154591': 14600, '3694': 14601, '1271816': 14602, '480033': 14603, '1054182': 14604, '393226': 14605, '1265524': 14606, '1491118': 14607, '860566': 14608, '485601': 14609, '2639728': 14610, '493082': 14611, '2508428': 14612, '1842197': 14613, '407311': 14614, '979424': 14615, '1276913': 14616, '1395584': 14617, '2042154': 14618, '936746': 14619, '1414278': 14620, '2069524': 14621, '1898907': 14622, '1934002': 14623, '1711470': 14624, '1757639': 14625, '2540684': 14626, '376277': 14627, '93695': 14628, '2280081': 14629, '86966': 14630, '680979': 14631, '750641': 14632, '1838480': 14633, '941279': 14634, '96133': 14635, '291883': 14636, '2026180': 14637, '985995': 14638, '1107635': 14639, '2355630': 14640, '1773695': 14641, '2539578': 14642, '1914535': 14643, '2152930': 14644, '508323': 14645, '1630930': 14646, '2031286': 14647, '1880844': 14648, '1270144': 14649, '2519403': 14650, '338416': 14651, '901648': 14652, '1486735': 14653, '2494633': 14654, '381346': 14655, '1729139': 14656, '1403378': 14657, '1294445': 14658, '623709': 14659, '95146': 14660, '1752463': 14661, '2197203': 14662, '1523658': 14663, '2550595': 14664, '462857': 14665, '406359': 14666, '2229124': 14667, '610024': 14668, '1628880': 14669, '2360851': 14670, '38879': 14671, '1731527': 14672, '2035438': 14673, '1589698': 14674, '2102677': 14675, '2538608': 14676, '1364473': 14677, '828344': 14678, '1484284': 14679, '2105834': 14680, '2003550': 14681, '2123401': 14682, '1474084': 14683, '1709208': 14684, '1141463': 14685, '1882719': 14686, '1795822': 14687, '2401635': 14688, '1593815': 14689, '497679': 14690, '727655': 14691, '2059141': 14692, '2525813': 14693, '2365141': 14694, '358552': 14695, '871687': 14696, '760129': 14697, '1770331': 14698, '1788733': 14699, '1154038': 14700, '747810': 14701, '1847158': 14702, '2506955': 14703, '1207618': 14704, '455688': 14705, '839182': 14706, '1095085': 14707, '660487': 14708, '2512258': 14709, '2073629': 14710, '1371238': 14711, '2137371': 14712, '2260832': 14713, '1962325': 14714, '1895592': 14715, '616944': 14716, '2397383': 14717, '2341591': 14718, '501211': 14719, '1361278': 14720, '1405644': 14721, '1082342': 14722, '1480571': 14723, '2639627': 14724, '297554': 14725, '1111943': 14726, '2343385': 14727, '1580481': 14728, '1399571': 14729, '2081789': 14730, '586854': 14731, '1050232': 14732, '1924968': 14733, '598548': 14734, '1926967': 14735, '1595299': 14736, '1645535': 14737, '1389360': 14738, '557578': 14739, '2524692': 14740, '1574264': 14741, '2602720': 14742, '517794': 14743, '3998': 14744, '1254561': 14745, '500512': 14746, '496913': 14747, '1714428': 14748, '1459096': 14749, '2278186': 14750, '1764247': 14751, '2087152': 14752, '1964767': 14753, '787977': 14754, '2420083': 14755, '2001061': 14756, '1664306': 14757, '1332214': 14758, '2147047': 14759, '2219553': 14760, '1455234': 14761, '859380': 14762, '372095': 14763, '1316775': 14764, '2556131': 14765, '2080674': 14766, '1655236': 14767, '1011918': 14768, '1757738': 14769, '517392': 14770, '1044319': 14771, '1717532': 14772, '481980': 14773, '922332': 14774, '990533': 14775, '1977244': 14776, '1344349': 14777, '2385469': 14778, '1542885': 14779, '1316174': 14780, '2639115': 14781, '1891362': 14782, '1718022': 14783, '585272': 14784, '1379339': 14785, '1882227': 14786, '682688': 14787, '1885290': 14788, '1624667': 14789, '734722': 14790, '2206710': 14791, '673043': 14792, '1481210': 14793, '1536328': 14794, '2309807': 14795, '36581': 14796, '558720': 14797, '796715': 14798, '543225': 14799, '1191240': 14800, '1358362': 14801, '586648': 14802, '755774': 14803, '556776': 14804, '2024797': 14805, '986524': 14806, '2491189': 14807, '2461535': 14808, '386156': 14809, '1931338': 14810, '1312732': 14811, '253047': 14812, '270692': 14813, '26124': 14814, '870391': 14815, '659305': 14816, '1055456': 14817, '237736': 14818, '1803828': 14819, '2516211': 14820, '2049139': 14821, '2118159': 14822, '2504147': 14823, '2575999': 14824, '488116': 14825, '1318179': 14826, '2086264': 14827, '2075696': 14828, '2056657': 14829, '1230845': 14830, '1452675': 14831, '1877623': 14832, '939846': 14833, '2191884': 14834, '522964': 14835, '2160091': 14836, '2517361': 14837, '1823935': 14838, '476851': 14839, '1395781': 14840, '1894895': 14841, '559893': 14842, '2587314': 14843, '1251170': 14844, '2291589': 14845, '567279': 14846, '982331': 14847, '1754426': 14848, '143120': 14849, '376119': 14850, '1425403': 14851, '1252110': 14852, '1442089': 14853, '1404811': 14854, '1174541': 14855, '1712417': 14856, '983674': 14857, '290916': 14858, '2504803': 14859, '2154022': 14860, '1326360': 14861, '369812': 14862, '1627565': 14863, '2243988': 14864, '1124963': 14865, '2402139': 14866, '2581970': 14867, '2497411': 14868, '273598': 14869, '2146672': 14870, '1312501': 14871, '1779153': 14872, '1456621': 14873, '2401492': 14874, '1877590': 14875, '2217988': 14876, '2143054': 14877, '279944': 14878, '2432848': 14879, '2309047': 14880, '2101288': 14881, '694070': 14882, '2090306': 14883, '1257970': 14884, '2302245': 14885, '2278535': 14886, '2541939': 14887, '644045': 14888, '294330': 14889, '890259': 14890, '1826163': 14891, '2185774': 14892, '2041533': 14893, '1577811': 14894, '371123': 14895, '256935': 14896, '1007768': 14897, '2530642': 14898, '349652': 14899, '2198341': 14900, '194373': 14901, '2026560': 14902, '1101854': 14903, '2238663': 14904, '820252': 14905, '1836014': 14906, '297742': 14907, '1676166': 14908, '1046839': 14909, '2046091': 14910, '9557': 14911, '1409989': 14912, '1261827': 14913, '1824761': 14914, '1691792': 14915, '1472571': 14916, '2439029': 14917, '198845': 14918, '1715603': 14919, '201663': 14920, '359960': 14921, '1750396': 14922, '2641011': 14923, '559344': 14924, '684648': 14925, '2543158': 14926, '2550996': 14927, '2430267': 14928, '687235': 14929, '2258287': 14930, '1830690': 14931, '1161256': 14932, '2257122': 14933, '719170': 14934, '1598488': 14935, '2538123': 14936, '2043339': 14937, '2090242': 14938, '398478': 14939, '2212422': 14940, '1215076': 14941, '1611752': 14942, '2273897': 14943, '443572': 14944, '1918704': 14945, '1462211': 14946, '1240186': 14947, '2486321': 14948, '1375430': 14949, '1785931': 14950, '2463546': 14951, '1819118': 14952, '2409816': 14953, '123707': 14954, '691272': 14955, '890669': 14956, '1948594': 14957, '1085469': 14958, '291503': 14959, '2185062': 14960, '2117797': 14961, '1015802': 14962, '1017144': 14963, '529088': 14964, '2504752': 14965, '973622': 14966, '2352266': 14967, '2332943': 14968, '431487': 14969, '125687': 14970, '1255348': 14971, '2251815': 14972, '2568779': 14973, '198743': 14974, '431098': 14975, '2264352': 14976, '1191308': 14977, '2497731': 14978, '1331954': 14979, '424387': 14980, '244957': 14981, '2460587': 14982, '2002123': 14983, '2559609': 14984, '1891779': 14985, '345793': 14986, '2097277': 14987, '1099002': 14988, '2260738': 14989, '545699': 14990, '546645': 14991, '2299730': 14992, '1723583': 14993, '2163655': 14994, '731133': 14995, '933855': 14996, '938764': 14997, '915726': 14998, '1270408': 14999, '2385963': 15000, '2321028': 15001, '2411618': 15002, '2226276': 15003, '2283770': 15004, '2381076': 15005, '1730699': 15006, '2249336': 15007, '2630854': 15008, '2002490': 15009, '110260': 15010, '2315211': 15011, '1780876': 15012, '327860': 15013, '1123874': 15014, '1004790': 15015, '707683': 15016, '2279562': 15017, '1246924': 15018, '1645937': 15019, '509860': 15020, '2472546': 15021, '1517519': 15022, '950251': 15023, '1384935': 15024, '676222': 15025, '384188': 15026, '1322467': 15027, '2609784': 15028, '1275794': 15029, '555886': 15030, '1193629': 15031, '378348': 15032, '723219': 15033, '1150912': 15034, '1480607': 15035, '2429626': 15036, '132511': 15037, '1830165': 15038, '2002276': 15039, '1063747': 15040, '1448191': 15041, '2413457': 15042, '106981': 15043, '188613': 15044, '286783': 15045, '2373330': 15046, '597345': 15047, '2398656': 15048, '1241395': 15049, '2000429': 15050, '1290669': 15051, '1685698': 15052, '233392': 15053, '2072762': 15054, '424947': 15055, '1367218': 15056, '1123424': 15057, '2528792': 15058, '1463219': 15059, '1258668': 15060, '2415534': 15061, '1567828': 15062, '1060658': 15063, '2335640': 15064, '1183553': 15065, '1670302': 15066, '2336596': 15067, '447707': 15068, '1995910': 15069, '900303': 15070, '1739691': 15071, '415605': 15072, '1640555': 15073, '1111656': 15074, '1374899': 15075, '2294930': 15076, '1068610': 15077, '39896': 15078, '942668': 15079, '1097058': 15080, '721577': 15081, '1566168': 15082, '2064713': 15083, '163063': 15084, '394622': 15085, '2533726': 15086, '1860023': 15087, '1659847': 15088, '357226': 15089, '205438': 15090, '2450433': 15091, '45837': 15092, '1089184': 15093, '2619914': 15094, '1442949': 15095, '751834': 15096, '1972488': 15097, '1374572': 15098, '1634652': 15099, '1330588': 15100, '313693': 15101, '859734': 15102, '667579': 15103, '2498082': 15104, '2483185': 15105, '129580': 15106, '951709': 15107, '1796212': 15108, '2633061': 15109, '56790': 15110, '757685': 15111, '1060057': 15112, '960983': 15113, '2065686': 15114, '615103': 15115, '2433476': 15116, '1480257': 15117, '1476635': 15118, '1395325': 15119, '1862392': 15120, '2614232': 15121, '1098468': 15122, '476979': 15123, '1299035': 15124, '2089639': 15125, '74670': 15126, '22709': 15127, '1477154': 15128, '2312227': 15129, '2405421': 15130, '1437130': 15131, '1118746': 15132, '1167175': 15133, '667145': 15134, '2251848': 15135, '772534': 15136, '1919985': 15137, '822859': 15138, '363680': 15139, '1937631': 15140, '361763': 15141, '544833': 15142, '878576': 15143, '397126': 15144, '2319621': 15145, '1883088': 15146, '1062804': 15147, '2473781': 15148, '1308722': 15149, '2002196': 15150, '1253980': 15151, '1663211': 15152, '1885422': 15153, '1286787': 15154, '651129': 15155, '648350': 15156, '282842': 15157, '1814098': 15158, '2009801': 15159, '2576505': 15160, '2180836': 15161, '1391668': 15162, '1020130': 15163, '1587792': 15164, '177978': 15165, '1675159': 15166, '2340466': 15167, '824490': 15168, '789408': 15169, '1562015': 15170, '796157': 15171, '1181115': 15172, '2476907': 15173, '2483371': 15174, '1485175': 15175, '1462806': 15176, '570681': 15177, '918950': 15178, '1365272': 15179, '1102923': 15180, '712653': 15181, '223423': 15182, '2503255': 15183, '2560599': 15184, '1311346': 15185, '1476342': 15186, '1376574': 15187, '1844442': 15188, '1263652': 15189, '1875008': 15190, '403247': 15191, '1253718': 15192, '507383': 15193, '764317': 15194, '1079722': 15195, '238705': 15196, '178588': 15197, '377334': 15198, '175631': 15199, '469525': 15200, '2237950': 15201, '2099107': 15202, '1671947': 15203, '1853510': 15204, '1878548': 15205, '1721354': 15206, '1380372': 15207, '1555238': 15208, '1805874': 15209, '222025': 15210, '1807143': 15211, '1166373': 15212, '1575876': 15213, '782528': 15214, '945578': 15215, '861532': 15216, '1108065': 15217, '1333708': 15218, '1441559': 15219, '1522321': 15220, '170487': 15221, '1552015': 15222, '744129': 15223, '559608': 15224, '1368548': 15225, '936183': 15226, '16355': 15227, '2626881': 15228, '2551483': 15229, '1819300': 15230, '1046393': 15231, '1802979': 15232, '2455340': 15233, '2324873': 15234, '2475538': 15235, '1892661': 15236, '683604': 15237, '1014989': 15238, '816639': 15239, '727006': 15240, '2030777': 15241, '698125': 15242, '2471386': 15243, '2002781': 15244, '822193': 15245, '2376125': 15246, '1992962': 15247, '620943': 15248, '1703573': 15249, '1603694': 15250, '68056': 15251, '2648730': 15252, '491769': 15253, '1149566': 15254, '1087182': 15255, '2516717': 15256, '978104': 15257, '1844915': 15258, '1769766': 15259, '629120': 15260, '2068865': 15261, '603878': 15262, '2134424': 15263, '923149': 15264, '329751': 15265, '1899288': 15266, '1276473': 15267, '1416948': 15268, '1903877': 15269, '1630184': 15270, '1257438': 15271, '2635943': 15272, '2247785': 15273, '113383': 15274, '687573': 15275, '2481718': 15276, '1969230': 15277, '806891': 15278, '809943': 15279, '1172516': 15280, '74701': 15281, '1159683': 15282, '2519397': 15283, '682716': 15284, '1540360': 15285, '1377693': 15286, '1774825': 15287, '2407866': 15288, '577674': 15289, '676124': 15290, '1532336': 15291, '1979488': 15292, '2256708': 15293, '431326': 15294, '1719780': 15295, '651010': 15296, '1148103': 15297, '618011': 15298, '256562': 15299, '827240': 15300, '2011000': 15301, '1107448': 15302, '2634805': 15303, '665128': 15304, '2174241': 15305, '859175': 15306, '684056': 15307, '2318762': 15308, '866277': 15309, '1349433': 15310, '1562968': 15311, '345083': 15312, '1379440': 15313, '56310': 15314, '2130442': 15315, '1178330': 15316, '1119859': 15317, '377214': 15318, '2244589': 15319, '1286183': 15320, '1694379': 15321, '1459122': 15322, '2288564': 15323, '2500722': 15324, '56741': 15325, '1136807': 15326, '1699606': 15327, '1620735': 15328, '1101357': 15329, '871970': 15330, '1744381': 15331, '1601558': 15332, '1862272': 15333, '1300687': 15334, '275850': 15335, '225674': 15336, '448086': 15337, '2516053': 15338, '2648734': 15339, '1381955': 15340, '2338809': 15341, '1802658': 15342, '2226577': 15343, '493830': 15344, '2403480': 15345, '1546535': 15346, '250643': 15347, '1252798': 15348, '763779': 15349, '307975': 15350, '1780200': 15351, '505558': 15352, '678384': 15353, '2592716': 15354, '2330704': 15355, '2021366': 15356, '542907': 15357, '2496479': 15358, '709182': 15359, '138834': 15360, '139964': 15361, '2434614': 15362, '1888846': 15363, '788769': 15364, '912309': 15365, '522278': 15366, '10268': 15367, '2238010': 15368, '2234653': 15369, '629249': 15370, '2196083': 15371, '2502329': 15372, '2109326': 15373, '248151': 15374, '1377877': 15375, '2475844': 15376, '1306304': 15377, '1185782': 15378, '758932': 15379, '2374340': 15380, '862710': 15381, '2500166': 15382, '245884': 15383, '1068044': 15384, '535261': 15385, '1368132': 15386, '2432717': 15387, '304409': 15388, '1790918': 15389, '1928961': 15390, '1417279': 15391, '2125035': 15392, '1673078': 15393, '2260612': 15394, '2101803': 15395, '2431802': 15396, '2503089': 15397, '642621': 15398, '6544': 15399, '1821073': 15400, '2368618': 15401, '1662751': 15402, '1245317': 15403, '1240130': 15404, '152958': 15405, '899796': 15406, '2232853': 15407, '1806991': 15408, '2357450': 15409, '930837': 15410, '1151120': 15411, '942016': 15412, '2628708': 15413, '1843626': 15414, '62753': 15415, '1641753': 15416, '191666': 15417, '1729276': 15418, '1074718': 15419, '2084678': 15420, '1423668': 15421, '2265055': 15422, '853256': 15423, '910979': 15424, '315751': 15425, '1941368': 15426, '944944': 15427, '2182398': 15428, '139994': 15429, '1306287': 15430, '1254363': 15431, '717332': 15432, '2127496': 15433, '2135073': 15434, '1932884': 15435, '1418637': 15436, '524619': 15437, '1394426': 15438, '972253': 15439, '1148933': 15440, '2349225': 15441, '1868486': 15442, '1554139': 15443, '2174575': 15444, '767904': 15445, '1398961': 15446, '1613882': 15447, '2495108': 15448, '2022235': 15449, '1478244': 15450, '1062246': 15451, '2535787': 15452, '2568149': 15453, '2167041': 15454, '1625109': 15455, '1177152': 15456, '1633134': 15457, '1692152': 15458, '285031': 15459, '898979': 15460, '2447051': 15461, '143938': 15462, '2361606': 15463, '2627394': 15464, '2646115': 15465, '1794573': 15466, '1917657': 15467, '537601': 15468, '672801': 15469, '1565851': 15470, '2349059': 15471, '439240': 15472, '816435': 15473, '1287727': 15474, '2297136': 15475, '2043555': 15476, '989704': 15477, '2398373': 15478, '2450378': 15479, '1988735': 15480, '1892529': 15481, '2139762': 15482, '2247938': 15483, '1910699': 15484, '318032': 15485, '1815101': 15486, '2481827': 15487, '2291750': 15488, '2595156': 15489, '1025290': 15490, '136030': 15491, '1930496': 15492, '2251258': 15493, '2338794': 15494, '1709963': 15495, '1787269': 15496, '982191': 15497, '2644945': 15498, '2154657': 15499, '2412833': 15500, '977606': 15501, '982888': 15502, '2556129': 15503, '2375581': 15504, '294948': 15505, '709817': 15506, '753485': 15507, '1612915': 15508, '2245965': 15509, '1663564': 15510, '1324815': 15511, '2420666': 15512, '1621315': 15513, '2560328': 15514, '1158806': 15515, '1578237': 15516, '1263404': 15517, '2180090': 15518, '2352094': 15519, '2382354': 15520, '1132203': 15521, '1739170': 15522, '1403432': 15523, '506088': 15524, '1218586': 15525, '1566875': 15526, '1210717': 15527, '968784': 15528, '1655692': 15529, '2360665': 15530, '1490243': 15531, '208579': 15532, '1961021': 15533, '159266': 15534, '1148143': 15535, '2320222': 15536, '2096540': 15537, '868406': 15538, '84462': 15539, '1727351': 15540, '1434685': 15541, '2239881': 15542, '1936617': 15543, '2262258': 15544, '1123394': 15545, '2344045': 15546, '1746455': 15547, '118445': 15548, '1087649': 15549, '851525': 15550, '2423718': 15551, '2482438': 15552, '1187089': 15553, '1100934': 15554, '326804': 15555, '1279821': 15556, '2518168': 15557, '2524846': 15558, '1190094': 15559, '68472': 15560, '1630758': 15561, '922591': 15562, '1346081': 15563, '1410683': 15564, '1572717': 15565, '1224367': 15566, '2445470': 15567, '1898263': 15568, '940298': 15569, '1762695': 15570, '744698': 15571, '427902': 15572, '864061': 15573, '835353': 15574, '561733': 15575, '1723416': 15576, '868424': 15577, '98387': 15578, '1029449': 15579, '1573230': 15580, '345588': 15581, '577324': 15582, '514262': 15583, '519020': 15584, '2095640': 15585, '81150': 15586, '1988095': 15587, '1500014': 15588, '2417151': 15589, '2459229': 15590, '247940': 15591, '1815614': 15592, '1602407': 15593, '390505': 15594, '2267514': 15595, '269689': 15596, '1401310': 15597, '167974': 15598, '1810235': 15599, '2787': 15600, '171096': 15601, '959714': 15602, '1394815': 15603, '2589398': 15604, '1524354': 15605, '330526': 15606, '852097': 15607, '386953': 15608, '1159926': 15609, '2094579': 15610, '221091': 15611, '2310373': 15612, '1562707': 15613, '54333': 15614, '1010831': 15615, '2633320': 15616, '1939988': 15617, '1512175': 15618, '1487091': 15619, '682561': 15620, '1016721': 15621, '1379561': 15622, '2349702': 15623, '2111271': 15624, '1509808': 15625, '2450525': 15626, '2250121': 15627, '2413272': 15628, '1064752': 15629, '1675183': 15630, '2362548': 15631, '78523': 15632, '340751': 15633, '878341': 15634, '998104': 15635, '1197978': 15636, '1022254': 15637, '157646': 15638, '754443': 15639, '1794003': 15640, '2596873': 15641, '772337': 15642, '1853781': 15643, '670382': 15644, '941611': 15645, '2588222': 15646, '1909326': 15647, '2427965': 15648, '724256': 15649, '1067018': 15650, '1954386': 15651, '1933849': 15652, '2195326': 15653, '37931': 15654, '363230': 15655, '527559': 15656, '1261789': 15657, '2210857': 15658, '82457': 15659, '1416455': 15660, '1768181': 15661, '2484001': 15662, '2507392': 15663, '1797997': 15664, '1767265': 15665, '575207': 15666, '727423': 15667, '2458826': 15668, '1223966': 15669, '165720': 15670, '2342019': 15671, '180200': 15672, '354439': 15673, '1298304': 15674, '2181794': 15675, '1737529': 15676, '643641': 15677, '2284673': 15678, '1441624': 15679, '1023101': 15680, '669274': 15681, '629010': 15682, '478558': 15683, '2232338': 15684, '1832478': 15685, '489530': 15686, '1736710': 15687, '76916': 15688, '2018759': 15689, '1072159': 15690, '888125': 15691, '1113647': 15692, '683427': 15693, '864647': 15694, '748592': 15695, '4306': 15696, '1962300': 15697, '1369550': 15698, '1232675': 15699, '2629246': 15700, '1355138': 15701, '1579371': 15702, '1432044': 15703, '107435': 15704, '1261084': 15705, '1675619': 15706, '1366847': 15707, '774088': 15708, '584437': 15709, '1653052': 15710, '614096': 15711, '2496561': 15712, '591844': 15713, '998502': 15714, '1315370': 15715, '2448838': 15716, '1654854': 15717, '253061': 15718, '154481': 15719, '1953585': 15720, '516343': 15721, '1781198': 15722, '502305': 15723, '681050': 15724, '329712': 15725, '2289956': 15726, '2046976': 15727, '803596': 15728, '807738': 15729, '411396': 15730, '161533': 15731, '1360000': 15732, '837619': 15733, '1187457': 15734, '2458868': 15735, '653515': 15736, '1826722': 15737, '687690': 15738, '2307327': 15739, '1977685': 15740, '71393': 15741, '815635': 15742, '677314': 15743, '2398044': 15744, '462231': 15745, '1418126': 15746, '785992': 15747, '1547977': 15748, '1774452': 15749, '206954': 15750, '2145781': 15751, '1377943': 15752, '525945': 15753, '2330618': 15754, '499718': 15755, '1539730': 15756, '1215087': 15757, '2221791': 15758, '1952776': 15759, '2132002': 15760, '1659478': 15761, '549619': 15762, '1930717': 15763, '2331946': 15764, '2308155': 15765, '1020583': 15766, '2378561': 15767, '360347': 15768, '2600558': 15769, '2166586': 15770, '776931': 15771, '1199688': 15772, '1489344': 15773, '2030201': 15774, '600362': 15775, '2153439': 15776, '2587506': 15777, '1901496': 15778, '2513903': 15779, '1885042': 15780, '2275545': 15781, '1925701': 15782, '1177848': 15783, '1251745': 15784, '902049': 15785, '2129592': 15786, '2494105': 15787, '2573701': 15788, '559886': 15789, '256348': 15790, '746270': 15791, '1480235': 15792, '1486636': 15793, '1568024': 15794, '1872926': 15795, '2014346': 15796, '410389': 15797, '2479842': 15798, '2535249': 15799, '1692069': 15800, '468254': 15801, '439332': 15802, '236290': 15803, '1315670': 15804, '2539772': 15805, '2460074': 15806, '2152310': 15807, '2201286': 15808, '1252392': 15809, '795380': 15810, '749124': 15811, '1066990': 15812, '2438413': 15813, '722298': 15814, '1944206': 15815, '516192': 15816, '206222': 15817, '1022452': 15818, '669758': 15819, '2096501': 15820, '101554': 15821, '2230491': 15822, '2076055': 15823, '730628': 15824, '1885132': 15825, '2112242': 15826, '1351211': 15827, '754953': 15828, '2132950': 15829, '75673': 15830, '2049454': 15831, '1250260': 15832, '992363': 15833, '27870': 15834, '717137': 15835, '1365750': 15836, '1600209': 15837, '2436452': 15838, '1993723': 15839, '1286347': 15840, '787052': 15841, '836945': 15842, '97157': 15843, '978983': 15844, '475537': 15845, '1761324': 15846, '701962': 15847, '2311233': 15848, '323798': 15849, '461931': 15850, '1618695': 15851, '2199270': 15852, '1321596': 15853, '2618096': 15854, '716096': 15855, '1765734': 15856, '2455068': 15857, '833271': 15858, '2265054': 15859, '2345098': 15860, '1062351': 15861, '284823': 15862, '1765211': 15863, '1514886': 15864, '1497131': 15865, '1461334': 15866, '1262446': 15867, '1058761': 15868, '459060': 15869, '349285': 15870, '807782': 15871, '2633767': 15872, '72541': 15873, '814013': 15874, '1333453': 15875, '1097099': 15876, '1397022': 15877, '1467206': 15878, '1905989': 15879, '2618484': 15880, '129250': 15881, '1784150': 15882, '1050678': 15883, '1885718': 15884, '1096119': 15885, '142492': 15886, '1644346': 15887, '320856': 15888, '2458825': 15889, '752702': 15890, '2279052': 15891, '2216264': 15892, '242171': 15893, '2421283': 15894, '330027': 15895, '1557927': 15896, '918206': 15897, '976192': 15898, '1037088': 15899, '1293027': 15900, '2347098': 15901, '1446845': 15902, '1139518': 15903, '1454357': 15904, '1865846': 15905, '410989': 15906, '1277092': 15907, '971361': 15908, '1373140': 15909, '2284552': 15910, '2012675': 15911, '870288': 15912, '96013': 15913, '2275574': 15914, '2259960': 15915, '557449': 15916, '255988': 15917, '2442531': 15918, '2637886': 15919, '1829350': 15920, '1225643': 15921, '1824389': 15922, '2359428': 15923, '474700': 15924, '428465': 15925, '701176': 15926, '1651874': 15927, '2231861': 15928, '1275196': 15929, '2238110': 15930, '2050555': 15931, '460526': 15932, '1392598': 15933, '504440': 15934, '1265716': 15935, '1827242': 15936, '833951': 15937, '2387961': 15938, '537732': 15939, '1315392': 15940, '765090': 15941, '2379200': 15942, '31835': 15943, '806546': 15944, '975592': 15945, '830599': 15946, '1994798': 15947, '1329769': 15948, '1011794': 15949, '483483': 15950, '786950': 15951, '2624474': 15952, '1482288': 15953, '2376367': 15954, '2643435': 15955, '1340495': 15956, '1603751': 15957, '418970': 15958, '940917': 15959, '2233803': 15960, '171430': 15961, '2101713': 15962, '450465': 15963, '2518732': 15964, '1323717': 15965, '1396967': 15966, '780579': 15967, '760390': 15968, '185319': 15969, '2219361': 15970, '1822560': 15971, '1034375': 15972, '1635850': 15973, '203299': 15974, '1191821': 15975, '2636012': 15976, '1267500': 15977, '445409': 15978, '1918794': 15979, '761787': 15980, '1335416': 15981, '872215': 15982, '1278864': 15983, '2229752': 15984, '864334': 15985, '483288': 15986, '1714116': 15987, '2277171': 15988, '194351': 15989, '1406452': 15990, '1405379': 15991, '2365340': 15992, '1355003': 15993, '34669': 15994, '565510': 15995, '89248': 15996, '263571': 15997, '449213': 15998, '688182': 15999, '984874': 16000, '2631605': 16001, '1651763': 16002, '2390575': 16003, '1709795': 16004, '1908051': 16005, '551785': 16006, '1488460': 16007, '2402132': 16008, '2178203': 16009, '2594574': 16010, '761478': 16011, '1756513': 16012, '2126175': 16013, '515261': 16014, '476805': 16015, '2576015': 16016, '2301570': 16017, '139147': 16018, '1953981': 16019, '2265877': 16020, '1198828': 16021, '1821560': 16022, '466151': 16023, '2388820': 16024, '926350': 16025, '1274406': 16026, '2121810': 16027, '1349014': 16028, '1338247': 16029, '979865': 16030, '1399294': 16031, '1077363': 16032, '2547661': 16033, '252124': 16034, '2520834': 16035, '2040097': 16036, '2264726': 16037, '962151': 16038, '2393933': 16039, '395672': 16040, '232421': 16041, '1234567': 16042, '1964980': 16043, '575167': 16044, '1756533': 16045, '2522284': 16046, '1897824': 16047, '674927': 16048, '1973244': 16049, '849485': 16050, '772278': 16051, '874610': 16052, '1089983': 16053, '906675': 16054, '1407936': 16055, '378364': 16056, '599480': 16057, '2153970': 16058, '1629450': 16059, '106254': 16060, '2022292': 16061, '1437166': 16062, '1143510': 16063, '328353': 16064, '1666805': 16065, '257095': 16066, '2423154': 16067, '1422981': 16068, '617275': 16069, '2453812': 16070, '991725': 16071, '1700597': 16072, '1686713': 16073, '122019': 16074, '123974': 16075, '2616705': 16076, '695332': 16077, '1367949': 16078, '2560655': 16079, '2315135': 16080, '862641': 16081, '2429724': 16082, '2385741': 16083, '1447828': 16084, '710421': 16085, '279477': 16086, '742589': 16087, '647860': 16088, '164647': 16089, '481523': 16090, '1529299': 16091, '1471977': 16092, '1718526': 16093, '86365': 16094, '1770828': 16095, '1376266': 16096, '2009400': 16097, '1989258': 16098, '565075': 16099, '912867': 16100, '2101921': 16101, '1582575': 16102, '418339': 16103, '1868196': 16104, '752696': 16105, '189629': 16106, '2127196': 16107, '2488897': 16108, '2085613': 16109, '122987': 16110, '1026298': 16111, '875956': 16112, '1003753': 16113, '2498810': 16114, '2597326': 16115, '2297199': 16116, '1501761': 16117, '453043': 16118, '326356': 16119, '1809112': 16120, '1710237': 16121, '280978': 16122, '320897': 16123, '1622338': 16124, '1706364': 16125, '115267': 16126, '1842369': 16127, '1285516': 16128, '1967891': 16129, '1447591': 16130, '1341553': 16131, '993438': 16132, '743633': 16133, '1105158': 16134, '505449': 16135, '1919770': 16136, '2401136': 16137, '2448561': 16138, '801884': 16139, '1429452': 16140, '761403': 16141, '1720513': 16142, '1212887': 16143, '2154144': 16144, '203999': 16145, '1242071': 16146, '1040587': 16147, '1055451': 16148, '2110575': 16149, '854575': 16150, '1713085': 16151, '2440674': 16152, '1120498': 16153, '1600392': 16154, '499837': 16155, '2566731': 16156, '257501': 16157, '1746736': 16158, '818752': 16159, '1585829': 16160, '2134981': 16161, '953276': 16162, '2334416': 16163, '1482568': 16164, '483077': 16165, '1930483': 16166, '1303244': 16167, '1483251': 16168, '2412160': 16169, '324887': 16170, '2455503': 16171, '5652': 16172, '822400': 16173, '2594373': 16174, '740562': 16175, '291198': 16176, '1772538': 16177, '2352662': 16178, '851463': 16179, '2396197': 16180, '1181784': 16181, '523416': 16182, '1930601': 16183, '895443': 16184, '2187741': 16185, '459145': 16186, '197102': 16187, '930318': 16188, '1119094': 16189, '1968542': 16190, '2343113': 16191, '2474661': 16192, '899799': 16193, '1539828': 16194, '1930402': 16195, '2179596': 16196, '888326': 16197, '1343381': 16198, '885386': 16199, '2071416': 16200, '2557710': 16201, '2548738': 16202, '907760': 16203, '1345929': 16204, '12798': 16205, '1551094': 16206, '1538815': 16207, '2457781': 16208, '1254945': 16209, '339837': 16210, '673671': 16211, '485973': 16212, '2514291': 16213, '1711710': 16214, '1394198': 16215, '2035462': 16216, '767691': 16217, '1931870': 16218, '1602278': 16219, '2030198': 16220, '919106': 16221, '1336817': 16222, '2331642': 16223, '1655969': 16224, '873862': 16225, '1260217': 16226, '431066': 16227, '2114885': 16228, '1539184': 16229, '2486584': 16230, '29815': 16231, '680576': 16232, '663118': 16233, '1709569': 16234, '821883': 16235, '2427376': 16236, '1974599': 16237, '511899': 16238, '663880': 16239, '278882': 16240, '1787721': 16241, '2640656': 16242, '507094': 16243, '1143244': 16244, '1469447': 16245, '1043901': 16246, '1432767': 16247, '1407299': 16248, '276860': 16249, '574007': 16250, '1528639': 16251, '489702': 16252, '2264286': 16253, '1891693': 16254, '2100359': 16255, '946014': 16256, '2282361': 16257, '461110': 16258, '1790158': 16259, '786667': 16260, '379605': 16261, '177123': 16262, '485334': 16263, '1448459': 16264, '433891': 16265, '331432': 16266, '2352305': 16267, '1667595': 16268, '1467867': 16269, '2163939': 16270, '19930': 16271, '123384': 16272, '888747': 16273, '1662724': 16274, '507921': 16275, '844451': 16276, '2375683': 16277, '916704': 16278, '19080': 16279, '2612172': 16280, '2047145': 16281, '2559843': 16282, '141920': 16283, '1553545': 16284, '87328': 16285, '2603398': 16286, '758694': 16287, '2502403': 16288, '1796886': 16289, '1969536': 16290, '1390264': 16291, '1984813': 16292, '429072': 16293, '928948': 16294, '2518678': 16295, '1742476': 16296, '229472': 16297, '88283': 16298, '2449919': 16299, '582768': 16300, '364764': 16301, '466977': 16302, '1284036': 16303, '337144': 16304, '1827543': 16305, '296149': 16306, '723408': 16307, '1856669': 16308, '2357353': 16309, '982694': 16310, '1381552': 16311, '1247689': 16312, '1288105': 16313, '2392201': 16314, '2530531': 16315, '2357791': 16316, '600546': 16317, '2343135': 16318, '508609': 16319, '2620858': 16320, '1542060': 16321, '1551945': 16322, '973703': 16323, '1994630': 16324, '2518550': 16325, '116160': 16326, '330156': 16327, '466985': 16328, '1980175': 16329, '327401': 16330, '1464315': 16331, '440555': 16332, '1772565': 16333, '633256': 16334, '131938': 16335, '1029120': 16336, '1998654': 16337, '641138': 16338, '1086832': 16339, '2456613': 16340, '2213137': 16341, '1249029': 16342, '2252223': 16343, '1597367': 16344, '804841': 16345, '2625306': 16346, '533713': 16347, '710207': 16348, '2386443': 16349, '940706': 16350, '1062078': 16351, '799672': 16352, '1486225': 16353, '642090': 16354, '803287': 16355, '2115175': 16356, '1714542': 16357, '1521983': 16358, '2188296': 16359, '1521233': 16360, '1401895': 16361, '2489783': 16362, '1765966': 16363, '2220559': 16364, '1497845': 16365, '1015868': 16366, '2517535': 16367, '2372415': 16368, '1364307': 16369, '2457851': 16370, '433803': 16371, '151528': 16372, '2204244': 16373, '698509': 16374, '591207': 16375, '999378': 16376, '1723068': 16377, '109285': 16378, '2566795': 16379, '1100816': 16380, '2195865': 16381, '411537': 16382, '744631': 16383, '1958584': 16384, '1017918': 16385, '2179686': 16386, '891625': 16387, '976385': 16388, '1591572': 16389, '1118643': 16390, '148550': 16391, '1539119': 16392, '1877332': 16393, '2605785': 16394, '2543825': 16395, '1167767': 16396, '2089541': 16397, '2457968': 16398, '655617': 16399, '200098': 16400, '873056': 16401, '2606540': 16402, '935151': 16403, '1528019': 16404, '2119848': 16405, '1659831': 16406, '67769': 16407, '1377236': 16408, '1529449': 16409, '2079036': 16410, '278913': 16411, '1202646': 16412, '1731826': 16413, '1468066': 16414, '1840194': 16415, '1262684': 16416, '933259': 16417, '2068869': 16418, '1094850': 16419, '2367680': 16420, '2440182': 16421, '166205': 16422, '2434187': 16423, '1913457': 16424, '1974194': 16425, '2444204': 16426, '2304943': 16427, '1341525': 16428, '795714': 16429, '570929': 16430, '200551': 16431, '947483': 16432, '1480932': 16433, '396855': 16434, '1955628': 16435, '895218': 16436, '280207': 16437, '759549': 16438, '2181591': 16439, '117193': 16440, '1172252': 16441, '671869': 16442, '867967': 16443, '2025577': 16444, '1870288': 16445, '2246410': 16446, '1746613': 16447, '844391': 16448, '2009638': 16449, '484343': 16450, '510103': 16451, '773251': 16452, '2613976': 16453, '1060407': 16454, '934163': 16455, '493190': 16456, '1392053': 16457, '2176431': 16458, '1458814': 16459, '1959800': 16460, '1315285': 16461, '1558950': 16462, '1722153': 16463, '2412161': 16464, '2096157': 16465, '2270041': 16466, '208724': 16467, '2043617': 16468, '1547711': 16469, '618551': 16470, '1442622': 16471, '2059635': 16472, '1573566': 16473, '2053378': 16474, '2057611': 16475, '989112': 16476, '2053907': 16477, '1851757': 16478, '1545267': 16479, '1553720': 16480, '1842511': 16481, '408284': 16482, '2226346': 16483, '1140762': 16484, '2309792': 16485, '2361340': 16486, '1737974': 16487, '2302897': 16488, '1531467': 16489, '386915': 16490, '541980': 16491, '2454575': 16492, '1409417': 16493, '1735893': 16494, '437955': 16495, '2365876': 16496, '2171749': 16497, '283559': 16498, '2086904': 16499, '1982279': 16500, '1677203': 16501, '2516265': 16502, '1693814': 16503, '2198115': 16504, '2136742': 16505, '417898': 16506, '50669': 16507, '2567279': 16508, '558924': 16509, '1755396': 16510, '807751': 16511, '2391200': 16512, '2301550': 16513, '740649': 16514, '2228457': 16515, '531630': 16516, '822164': 16517, '1708765': 16518, '400103': 16519, '1252150': 16520, '212985': 16521, '1043768': 16522, '761476': 16523, '1384003': 16524, '2538550': 16525, '709905': 16526, '2027278': 16527, '1714066': 16528, '1198545': 16529, '2450534': 16530, '424228': 16531, '1259696': 16532, '678155': 16533, '1374832': 16534, '1677833': 16535, '1615800': 16536, '7063': 16537, '787736': 16538, '471064': 16539, '610622': 16540, '2307724': 16541, '972399': 16542, '936113': 16543, '887963': 16544, '1892170': 16545, '1224253': 16546, '642060': 16547, '2617068': 16548, '2247045': 16549, '1676265': 16550, '169316': 16551, '1470838': 16552, '301889': 16553, '823666': 16554, '908662': 16555, '1874317': 16556, '2976': 16557, '1083069': 16558, '2086396': 16559, '638651': 16560, '577350': 16561, '1383836': 16562, '2554860': 16563, '1923886': 16564, '354344': 16565, '2404146': 16566, '1946601': 16567, '1408341': 16568, '1665636': 16569, '1657258': 16570, '1677216': 16571, '452494': 16572, '441949': 16573, '2464049': 16574, '2434253': 16575, '2040005': 16576, '1686741': 16577, '640679': 16578, '1134084': 16579, '454635': 16580, '914059': 16581, '937361': 16582, '1704384': 16583, '2406958': 16584, '824655': 16585, '2416960': 16586, '2479932': 16587, '1046765': 16588, '2087355': 16589, '366815': 16590, '2631313': 16591, '1489846': 16592, '2359486': 16593, '94191': 16594, '2269379': 16595, '1715766': 16596, '948108': 16597, '1266755': 16598, '2018010': 16599, '1634558': 16600, '683254': 16601, '761741': 16602, '1206822': 16603, '1362044': 16604, '2029979': 16605, '1335658': 16606, '699305': 16607, '1241521': 16608, '1419816': 16609, '2618750': 16610, '1226877': 16611, '875556': 16612, '1898310': 16613, '1734512': 16614, '264923': 16615, '1217553': 16616, '2317031': 16617, '1113878': 16618, '2439537': 16619, '2184504': 16620, '1693750': 16621, '1076614': 16622, '943265': 16623, '38284': 16624, '2550612': 16625, '2337729': 16626, '175138': 16627, '1483731': 16628, '2539096': 16629, '931005': 16630, '2232395': 16631, '15420': 16632, '282447': 16633, '1913241': 16634, '1467076': 16635, '970364': 16636, '78922': 16637, '845192': 16638, '475631': 16639, '482113': 16640, '1934089': 16641, '408459': 16642, '1496095': 16643, '1544409': 16644, '571460': 16645, '1132239': 16646, '301501': 16647, '1283577': 16648, '1320959': 16649, '73678': 16650, '667102': 16651, '372730': 16652, '986875': 16653, '2482881': 16654, '2424683': 16655, '2034632': 16656, '2173152': 16657, '1754507': 16658, '1653796': 16659, '535671': 16660, '862234': 16661, '382186': 16662, '1902959': 16663, '1294471': 16664, '365996': 16665, '169462': 16666, '1503631': 16667, '2437697': 16668, '2020685': 16669, '750617': 16670, '1350497': 16671, '278336': 16672, '709536': 16673, '212729': 16674, '853087': 16675, '2233703': 16676, '1680375': 16677, '1232060': 16678, '1095395': 16679, '1966687': 16680, '2473345': 16681, '2209039': 16682, '2133463': 16683, '83687': 16684, '2187764': 16685, '1085127': 16686, '1133763': 16687, '1636738': 16688, '1317871': 16689, '1880119': 16690, '75761': 16691, '41412': 16692, '2418634': 16693, '119029': 16694, '2009204': 16695, '912285': 16696, '877460': 16697, '1636987': 16698, '2350212': 16699, '2281332': 16700, '2067117': 16701, '1828966': 16702, '240923': 16703, '1262848': 16704, '149625': 16705, '2292731': 16706, '2588510': 16707, '1774584': 16708, '1525381': 16709, '2015927': 16710, '2542703': 16711, '933091': 16712, '1041084': 16713, '2104114': 16714, '852166': 16715, '1968074': 16716, '2078524': 16717, '1890819': 16718, '371806': 16719, '296307': 16720, '1188144': 16721, '27165': 16722, '2170750': 16723, '56854': 16724, '1439407': 16725, '785573': 16726, '1088920': 16727, '408200': 16728, '1008399': 16729, '1654496': 16730, '1607747': 16731, '1711351': 16732, '2617185': 16733, '1004453': 16734, '1691277': 16735, '2358095': 16736, '701179': 16737, '201085': 16738, '96837': 16739, '296452': 16740, '232138': 16741, '447410': 16742, '606292': 16743, '2298725': 16744, '2100834': 16745, '1336925': 16746, '2177221': 16747, '1041130': 16748, '315146': 16749, '1091336': 16750, '2190053': 16751, '912999': 16752, '1446927': 16753, '1399783': 16754, '1147594': 16755, '1349682': 16756, '158607': 16757, '631747': 16758, '1398225': 16759, '328001': 16760, '197483': 16761, '1511136': 16762, '129710': 16763, '402325': 16764, '1874618': 16765, '873264': 16766, '2195606': 16767, '1606342': 16768, '2377145': 16769, '1324871': 16770, '1685083': 16771, '1755455': 16772, '1396332': 16773, '2587160': 16774, '1958984': 16775, '632448': 16776, '1663055': 16777, '117758': 16778, '1666800': 16779, '112790': 16780, '1726869': 16781, '1849454': 16782, '202501': 16783, '866430': 16784, '442899': 16785, '1012590': 16786, '400294': 16787, '48282': 16788, '2429449': 16789, '2055340': 16790, '1501422': 16791, '1117356': 16792, '1523671': 16793, '2518881': 16794, '2119555': 16795, '354091': 16796, '1358358': 16797, '337431': 16798, '962779': 16799, '510765': 16800, '2292354': 16801, '1211946': 16802, '2569044': 16803, '1236105': 16804, '249288': 16805, '2019083': 16806, '1462172': 16807, '161223': 16808, '1126041': 16809, '2374424': 16810, '1140172': 16811, '372650': 16812, '2386069': 16813, '2370571': 16814, '2563582': 16815, '2223369': 16816, '890183': 16817, '1354763': 16818, '753532': 16819, '640455': 16820, '220330': 16821, '1094010': 16822, '1065658': 16823, '678276': 16824, '1860768': 16825, '138833': 16826, '1279283': 16827, '245430': 16828, '274652': 16829, '607775': 16830, '562361': 16831, '2243515': 16832, '1209880': 16833, '113767': 16834, '1229774': 16835, '2246362': 16836, '2000004': 16837, '2041319': 16838, '811903': 16839, '2295763': 16840, '500648': 16841, '966158': 16842, '6206': 16843, '1970495': 16844, '697734': 16845, '578869': 16846, '141876': 16847, '1621374': 16848, '2214487': 16849, '640464': 16850, '637815': 16851, '1167477': 16852, '2559537': 16853, '829101': 16854, '1505821': 16855, '1908699': 16856, '1500810': 16857, '2359796': 16858, '2036637': 16859, '521562': 16860, '696244': 16861, '1834374': 16862, '82404': 16863, '2187083': 16864, '1737325': 16865, '2174801': 16866, '253326': 16867, '678552': 16868, '521646': 16869, '958634': 16870, '1830420': 16871, '30270': 16872, '2423318': 16873, '537389': 16874, '295182': 16875, '1339428': 16876, '893789': 16877, '854460': 16878, '2442177': 16879, '2455638': 16880, '610132': 16881, '761371': 16882, '1882093': 16883, '1394012': 16884, '2036299': 16885, '1114321': 16886, '2089287': 16887, '28346': 16888, '1313632': 16889, '800638': 16890, '1753758': 16891, '722218': 16892, '135545': 16893, '878073': 16894, '1124559': 16895, '1724291': 16896, '536414': 16897, '948447': 16898, '1656837': 16899, '2305404': 16900, '765441': 16901, '2182532': 16902, '1179658': 16903, '425935': 16904, '1988704': 16905, '1316700': 16906, '244718': 16907, '2388831': 16908, '612275': 16909, '1355066': 16910, '2178672': 16911, '819462': 16912, '1927730': 16913, '1670876': 16914, '1470113': 16915, '821315': 16916, '1041552': 16917, '1327792': 16918, '2589259': 16919, '1323156': 16920, '1297529': 16921, '260187': 16922, '211761': 16923, '2071995': 16924, '2012052': 16925, '1132912': 16926, '1744656': 16927, '1319658': 16928, '498686': 16929, '2633092': 16930, '1799009': 16931, '1908191': 16932, '851231': 16933, '2554548': 16934, '1945029': 16935, '1111556': 16936, '1557208': 16937, '255378': 16938, '1697451': 16939, '1979820': 16940, '1358962': 16941, '472021': 16942, '571263': 16943, '787428': 16944, '2445481': 16945, '1345636': 16946, '1141044': 16947, '1884737': 16948, '314159': 16949, '2086214': 16950, '1309403': 16951, '1124163': 16952, '2051376': 16953, '1687663': 16954, '400076': 16955, '1180972': 16956, '2047045': 16957, '327366': 16958, '917571': 16959, '1787676': 16960, '166399': 16961, '1568103': 16962, '559019': 16963, '2346704': 16964, '152441': 16965, '1852037': 16966, '2118155': 16967, '1475790': 16968, '935459': 16969, '1126218': 16970, '1153365': 16971, '2216803': 16972, '305197': 16973, '1214691': 16974, '943314': 16975, '1204809': 16976, '2151618': 16977, '656809': 16978, '2088784': 16979, '2442353': 16980, '1111764': 16981, '2287125': 16982, '1722054': 16983, '1402612': 16984, '2230652': 16985, '1912389': 16986, '2065106': 16987, '633303': 16988, '1413183': 16989, '2305583': 16990, '452919': 16991, '1531342': 16992, '1545312': 16993, '1903910': 16994, '2096888': 16995, '2006011': 16996, '1539341': 16997, '2616318': 16998, '895096': 16999, '779760': 17000, '1415739': 17001, '841620': 17002, '683719': 17003, '1977925': 17004, '953264': 17005, '442276': 17006, '125275': 17007, '33696': 17008, '847917': 17009, '2117189': 17010, '2596179': 17011, '520286': 17012, '1115400': 17013, '2209044': 17014, '124961': 17015, '1203374': 17016, '2626675': 17017, '1234139': 17018, '922033': 17019, '1801709': 17020, '527953': 17021, '2437254': 17022, '1119488': 17023, '1595876': 17024, '902603': 17025, '971434': 17026, '568620': 17027, '1551591': 17028, '830282': 17029, '666367': 17030, '1635220': 17031, '991671': 17032, '14728': 17033, '460492': 17034, '340996': 17035, '473621': 17036, '267040': 17037, '212883': 17038, '765279': 17039, '1857572': 17040, '2593960': 17041, '1926320': 17042, '2296243': 17043, '1460897': 17044, '2421428': 17045, '1092677': 17046, '679415': 17047, '295135': 17048, '1806884': 17049, '991916': 17050, '224358': 17051, '1750544': 17052, '2368891': 17053, '503179': 17054, '1933592': 17055, '881711': 17056, '2067671': 17057, '1773760': 17058, '753531': 17059, '1113980': 17060, '2409092': 17061, '352590': 17062, '2051584': 17063, '254078': 17064, '2384512': 17065, '2223740': 17066, '2615816': 17067, '623155': 17068, '876850': 17069, '1330487': 17070, '1715337': 17071, '1828179': 17072, '570414': 17073, '2224013': 17074, '2491272': 17075, '2281685': 17076, '2396097': 17077, '762165': 17078, '2394802': 17079, '1087457': 17080, '1948804': 17081, '1145003': 17082, '959079': 17083, '2360721': 17084, '926896': 17085, '1472203': 17086, '2308382': 17087, '508042': 17088, '1909349': 17089, '1044120': 17090, '2398821': 17091, '1709921': 17092, '2449569': 17093, '824577': 17094, '497196': 17095, '2484282': 17096, '2153952': 17097, '96757': 17098, '1160505': 17099, '741486': 17100, '550659': 17101, '2494903': 17102, '1389725': 17103, '966375': 17104, '360888': 17105, '2286536': 17106, '1896062': 17107, '752931': 17108, '2094287': 17109, '2613654': 17110, '2050590': 17111, '445926': 17112, '942771': 17113, '1026638': 17114, '489871': 17115, '1631617': 17116, '1294335': 17117, '841091': 17118, '550365': 17119, '851702': 17120, '2480144': 17121, '1548908': 17122, '2078018': 17123, '2471478': 17124, '1051945': 17125, '875288': 17126, '1306957': 17127, '1455336': 17128, '705645': 17129, '763840': 17130, '879221': 17131, '179881': 17132, '1986551': 17133, '1041187': 17134, '1587216': 17135, '1618381': 17136, '1067761': 17137, '703996': 17138, '255879': 17139, '1280553': 17140, '1370190': 17141, '1704892': 17142, '2189638': 17143, '1144279': 17144, '627935': 17145, '1235851': 17146, '669124': 17147, '1999275': 17148, '1041555': 17149, '466322': 17150, '800983': 17151, '784007': 17152, '828045': 17153, '1407034': 17154, '488551': 17155, '1499926': 17156, '2439017': 17157, '1675269': 17158, '667573': 17159, '1425680': 17160, '388549': 17161, '481496': 17162, '1347523': 17163, '2456113': 17164, '950299': 17165, '1268483': 17166, '1135143': 17167, '867275': 17168, '2152668': 17169, '2290778': 17170, '1622150': 17171, '1236929': 17172, '429565': 17173, '387829': 17174, '2188398': 17175, '1738784': 17176, '2374825': 17177, '1536728': 17178, '2494428': 17179, '1425875': 17180, '2584126': 17181, '415244': 17182, '1149289': 17183, '1634654': 17184, '983097': 17185, '1932106': 17186, '1279012': 17187, '1987727': 17188, '2038939': 17189, '1333220': 17190, '2264677': 17191, '1621089': 17192, '115183': 17193, '1838160': 17194, '913927': 17195, '212895': 17196, '1681055': 17197, '115937': 17198, '591794': 17199, '2201566': 17200, '2560910': 17201, '450285': 17202, '1627613': 17203, '921345': 17204, '876370': 17205, '828287': 17206, '668065': 17207, '1384585': 17208, '1713284': 17209, '1144508': 17210, '556100': 17211, '2193903': 17212, '2100210': 17213, '726171': 17214, '2626033': 17215, '409327': 17216, '1278832': 17217, '1250231': 17218, '248932': 17219, '1745463': 17220, '2082452': 17221, '1229372': 17222, '1742122': 17223, '1504595': 17224, '876697': 17225, '1990316': 17226, '2173758': 17227, '863916': 17228, '535720': 17229, '2482819': 17230, '670488': 17231, '1227730': 17232, '2191370': 17233, '1486942': 17234, '905922': 17235, '2417066': 17236, '577616': 17237, '1834097': 17238, '823557': 17239, '752338': 17240, '1760487': 17241, '1616746': 17242, '1409728': 17243, '26210': 17244, '1058427': 17245, '1149359': 17246, '1413561': 17247, '301726': 17248, '1595644': 17249, '2643933': 17250, '2210909': 17251, '888912': 17252, '1673934': 17253, '1761955': 17254, '1974864': 17255, '2185616': 17256, '1454756': 17257, '1340872': 17258, '1966699': 17259, '510834': 17260, '1758572': 17261, '270702': 17262, '719534': 17263, '1684797': 17264, '47236': 17265, '644827': 17266, '1101668': 17267, '1484808': 17268, '303677': 17269, '1494162': 17270, '1278877': 17271, '2043854': 17272, '2219523': 17273, '2581379': 17274, '1607555': 17275, '2115291': 17276, '1893292': 17277, '1886995': 17278, '161104': 17279, '2042162': 17280, '427120': 17281, '2595310': 17282, '2235548': 17283, '581616': 17284, '1507727': 17285, '1471629': 17286, '551943': 17287, '1350639': 17288, '1400870': 17289, '1961542': 17290, '1465103': 17291, '904882': 17292, '127317': 17293, '1401369': 17294, '1048813': 17295, '958125': 17296, '1285643': 17297, '719755': 17298, '918750': 17299, '1862352': 17300, '1613373': 17301, '2520506': 17302, '35824': 17303, '613002': 17304, '29000': 17305, '2119007': 17306, '113090': 17307, '2223310': 17308, '1088073': 17309, '2376428': 17310, '2439391': 17311, '2207806': 17312, '1187678': 17313, '2046649': 17314, '1089335': 17315, '1577696': 17316, '2005154': 17317, '1959929': 17318, '672989': 17319, '1140532': 17320, '660945': 17321, '1471913': 17322, '855933': 17323, '416556': 17324, '856918': 17325, '1511920': 17326, '46231': 17327, '193925': 17328, '972651': 17329, '987574': 17330, '2152097': 17331, '2586598': 17332, '341868': 17333, '477988': 17334, '1215759': 17335, '916669': 17336, '1097721': 17337, '508852': 17338, '397898': 17339, '1129493': 17340, '1086544': 17341, '1509371': 17342, '326912': 17343, '811388': 17344, '99750': 17345, '1096353': 17346, '921585': 17347, '1953202': 17348, '2158527': 17349, '236772': 17350, '473327': 17351, '1237916': 17352, '895914': 17353, '1782775': 17354, '468584': 17355, '1745527': 17356, '1682531': 17357, '1750881': 17358, '335938': 17359, '470781': 17360, '973443': 17361, '2042548': 17362, '2400678': 17363, '827057': 17364, '109207': 17365, '93917': 17366, '1369582': 17367, '1997963': 17368, '55339': 17369, '651376': 17370, '1945838': 17371, '116353': 17372, '496658': 17373, '1181056': 17374, '1260001': 17375, '174972': 17376, '2021943': 17377, '102442': 17378, '1539697': 17379, '61863': 17380, '175371': 17381, '2400647': 17382, '2215788': 17383, '1329619': 17384, '2254664': 17385, '2004524': 17386, '1470972': 17387, '726543': 17388, '2208809': 17389, '1250006': 17390, '68271': 17391, '989812': 17392, '469068': 17393, '668669': 17394, '2392084': 17395, '106615': 17396, '1336791': 17397, '506044': 17398, '2351402': 17399, '2462919': 17400, '2645671': 17401, '856146': 17402, '831151': 17403, '1501056': 17404, '2507964': 17405, '1724541': 17406, '2465662': 17407, '508534': 17408, '1357428': 17409, '1178171': 17410, '1183357': 17411, '2647162': 17412, '707367': 17413, '1782900': 17414, '2330565': 17415, '1262329': 17416, '1963921': 17417, '1205593': 17418, '1219858': 17419, '263361': 17420, '2131676': 17421, '1993836': 17422, '1354649': 17423, '928497': 17424, '1578807': 17425, '1899399': 17426, '2143486': 17427, '1926199': 17428, '472180': 17429, '2344418': 17430, '1747818': 17431, '474566': 17432, '1729432': 17433, '1440126': 17434, '964244': 17435, '64663': 17436, '681701': 17437, '1435252': 17438, '1090319': 17439, '1927369': 17440, '1918910': 17441, '100400': 17442, '1280254': 17443, '909744': 17444, '2180413': 17445, '1569585': 17446, '710621': 17447, '1620319': 17448, '23316': 17449, '1835359': 17450, '1127519': 17451, '691833': 17452, '1788346': 17453, '1141479': 17454, '1960214': 17455, '166605': 17456, '742873': 17457, '20814': 17458, '642349': 17459, '1709984': 17460, '330802': 17461, '2117911': 17462, '593749': 17463, '2633375': 17464, '2558401': 17465, '488083': 17466, '328364': 17467, '2186231': 17468, '1378838': 17469, '469045': 17470, '915472': 17471, '1567970': 17472, '710933': 17473, '2549156': 17474, '374000': 17475, '1389153': 17476, '2373185': 17477, '1921954': 17478, '2108623': 17479, '1066018': 17480, '1479892': 17481, '486255': 17482, '2274163': 17483, '887273': 17484, '2459573': 17485, '1685948': 17486, '1637405': 17487, '892994': 17488, '2022256': 17489, '2630158': 17490, '1907373': 17491, '1368422': 17492, '401206': 17493, '879131': 17494, '1077173': 17495, '896407': 17496, '1388664': 17497, '310049': 17498, '1478875': 17499, '614465': 17500, '495174': 17501, '440983': 17502, '2210867': 17503, '363163': 17504, '1587148': 17505, '36822': 17506, '359141': 17507, '1977209': 17508, '2362950': 17509, '2279651': 17510, '2192840': 17511, '1054773': 17512, '2457662': 17513, '1385580': 17514, '91892': 17515, '128921': 17516, '1498198': 17517, '1239496': 17518, '1330494': 17519, '2633644': 17520, '460283': 17521, '1152644': 17522, '2629765': 17523, '246200': 17524, '1508061': 17525, '822774': 17526, '1360690': 17527, '1888243': 17528, '1122390': 17529, '1135374': 17530, '2449942': 17531, '635056': 17532, '1759957': 17533, '32885': 17534, '2396038': 17535, '1726192': 17536, '2337348': 17537, '2172303': 17538, '1715752': 17539, '1582412': 17540, '2509588': 17541, '971925': 17542, '2461433': 17543, '2517870': 17544, '2195802': 17545, '562026': 17546, '2155716': 17547, '2000256': 17548, '963705': 17549, '1769615': 17550, '2192781': 17551, '2552319': 17552, '2632990': 17553, '395606': 17554, '152713': 17555, '2426691': 17556, '1576991': 17557, '559622': 17558, '1949341': 17559, '1704440': 17560, '419238': 17561, '1535724': 17562, '2102846': 17563, '1228106': 17564, '1321630': 17565, '948109': 17566, '1706668': 17567, '2503230': 17568, '521738': 17569, '410076': 17570, '2445424': 17571, '201303': 17572, '2377247': 17573, '1119242': 17574, '2286741': 17575, '1264935': 17576, '1848548': 17577, '243739': 17578, '702103': 17579, '304887': 17580, '1508003': 17581, '276272': 17582, '466205': 17583, '1654264': 17584, '2222089': 17585, '600590': 17586, '2561151': 17587, '1023052': 17588, '891800': 17589, '1777762': 17590, '1625086': 17591, '1288391': 17592, '1281579': 17593, '791291': 17594, '222832': 17595, '2586121': 17596, '2239209': 17597, '1463511': 17598, '1838852': 17599, '1743759': 17600, '1130999': 17601, '664809': 17602, '506155': 17603, '1381258': 17604, '1859649': 17605, '2618551': 17606, '2186742': 17607, '1225914': 17608, '1725515': 17609, '2320808': 17610, '1407104': 17611, '1631532': 17612, '292595': 17613, '586636': 17614, '381625': 17615, '438535': 17616, '2400866': 17617, '830948': 17618, '2414191': 17619, '168729': 17620, '572037': 17621, '471879': 17622, '1210948': 17623, '1243711': 17624, '1858243': 17625, '538855': 17626, '831272': 17627, '360089': 17628, '1458218': 17629, '666480': 17630, '987197': 17631, '750275': 17632, '2516288': 17633, '1814310': 17634, '2548362': 17635, '2252432': 17636, '1160646': 17637, '124806': 17638, '1236627': 17639, '1659178': 17640, '1512574': 17641, '1836980': 17642, '1535968': 17643, '2490348': 17644, '2160829': 17645, '2529418': 17646, '2473782': 17647, '1204323': 17648, '329966': 17649, '390112': 17650, '2277758': 17651, '588344': 17652, '2643785': 17653, '466765': 17654, '216312': 17655, '409260': 17656, '972391': 17657, '1784723': 17658, '1479380': 17659, '404924': 17660, '1143242': 17661, '2555482': 17662, '90682': 17663, '846859': 17664, '2133136': 17665, '1094786': 17666, '127884': 17667, '766680': 17668, '201341': 17669, '2598730': 17670, '477782': 17671, '1384691': 17672, '195120': 17673, '1266917': 17674, '1125803': 17675, '504503': 17676, '1751764': 17677, '2492108': 17678, '1624976': 17679, '2345340': 17680, '690754': 17681, '1204833': 17682, '1325876': 17683, '1935856': 17684, '1823851': 17685, '873447': 17686, '16565': 17687, '2552767': 17688, '24705': 17689, '1780039': 17690, '1049332': 17691, '1841951': 17692, '827478': 17693, '1754009': 17694, '1362439': 17695, '1190468': 17696, '1527': 17697, '1025642': 17698, '1457728': 17699, '437680': 17700, '2444438': 17701, '1926431': 17702, '944229': 17703, '185867': 17704, '2045297': 17705, '562542': 17706, '882322': 17707, '754329': 17708, '1632338': 17709, '2591704': 17710, '2361605': 17711, '1302375': 17712, '2285713': 17713, '488494': 17714, '2270619': 17715, '1146375': 17716, '1425656': 17717, '2400258': 17718, '2573624': 17719, '2337634': 17720, '1425899': 17721, '37591': 17722, '1143430': 17723, '1673689': 17724, '1489224': 17725, '336595': 17726, '1185600': 17727, '114873': 17728, '1106186': 17729, '661089': 17730, '1897965': 17731, '149041': 17732, '279835': 17733, '87134': 17734, '1029633': 17735, '2533024': 17736, '2518772': 17737, '435450': 17738, '2482554': 17739, '713536': 17740, '1659198': 17741, '145514': 17742, '1390621': 17743, '1055757': 17744, '1517632': 17745, '890444': 17746, '1444287': 17747, '600835': 17748, '236621': 17749, '239137': 17750, '1146038': 17751, '424620': 17752, '2379864': 17753, '847018': 17754, '1425876': 17755, '1952121': 17756, '2229960': 17757, '2065445': 17758, '49330': 17759, '1348148': 17760, '774736': 17761, '2553247': 17762, '1270565': 17763, '2333435': 17764, '929122': 17765, '139942': 17766, '1291710': 17767, '146070': 17768, '504981': 17769, '1888772': 17770, '1903977': 17771, '613712': 17772, '2119859': 17773, '2425662': 17774, '2388917': 17775, '2246159': 17776, '67900': 17777, '803945': 17778, '2474184': 17779, '1433935': 17780, '2508958': 17781, '702593': 17782, '815238': 17783, '1083543': 17784, '1888738': 17785, '1890847': 17786, '1826257': 17787, '2035003': 17788, '2640626': 17789, '2420683': 17790, '1176683': 17791, '671440': 17792, '2424587': 17793, '2399030': 17794, '13891': 17795, '35036': 17796, '320187': 17797, '275803': 17798, '2534508': 17799, '726339': 17800, '59005': 17801, '944189': 17802, '1580917': 17803, '1090853': 17804, '1315827': 17805, '1169796': 17806, '2144951': 17807, '778243': 17808, '435009': 17809, '910404': 17810, '135657': 17811, '768876': 17812, '1985225': 17813, '1390205': 17814, '1167634': 17815, '113416': 17816, '376701': 17817, '2522549': 17818, '333455': 17819, '2016801': 17820, '214850': 17821, '310799': 17822, '2647871': 17823, '394409': 17824, '658081': 17825, '679084': 17826, '150950': 17827, '2572055': 17828, '250618': 17829, '2469190': 17830, '1201294': 17831, '1010649': 17832, '749158': 17833, '62499': 17834, '2256454': 17835, '1006156': 17836, '348244': 17837, '2421651': 17838, '1049259': 17839, '952981': 17840, '1943174': 17841, '1043135': 17842, '1698887': 17843, '739683': 17844, '2110982': 17845, '1844813': 17846, '440398': 17847, '1377158': 17848, '331430': 17849, '2274990': 17850, '1675105': 17851, '1784950': 17852, '1929487': 17853, '1365299': 17854, '240447': 17855, '2542255': 17856, '2042159': 17857, '1389812': 17858, '978437': 17859, '670464': 17860, '1427590': 17861, '475278': 17862, '626073': 17863, '458962': 17864, '224252': 17865, '1919401': 17866, '2146579': 17867, '79257': 17868, '1537969': 17869, '1427482': 17870, '2315679': 17871, '1746701': 17872, '2501054': 17873, '761585': 17874, '2394974': 17875, '2516486': 17876, '1286400': 17877, '930968': 17878, '168108': 17879, '876635': 17880, '2080663': 17881, '152244': 17882, '117060': 17883, '2573323': 17884, '1542460': 17885, '1414980': 17886, '1540127': 17887, '1580571': 17888, '1810896': 17889, '2254385': 17890, '1108004': 17891, '1945693': 17892, '1389844': 17893, '2543090': 17894, '2304247': 17895, '1806750': 17896, '681642': 17897, '1893724': 17898, '14756': 17899, '760733': 17900, '975229': 17901, '851520': 17902, '160114': 17903, '308088': 17904, '2510301': 17905, '202667': 17906, '566325': 17907, '2279366': 17908, '2188580': 17909, '427967': 17910, '2415495': 17911, '2298323': 17912, '2105772': 17913, '324092': 17914, '616548': 17915, '1444923': 17916, '1731106': 17917, '1905513': 17918, '1810022': 17919, '713765': 17920, '2044473': 17921, '1217193': 17922, '1481825': 17923, '475253': 17924, '430983': 17925, '1699240': 17926, '1600254': 17927, '1772737': 17928, '616997': 17929, '1031887': 17930, '971052': 17931, '62452': 17932, '1497251': 17933, '1938581': 17934, '2439795': 17935, '335030': 17936, '415279': 17937, '2320450': 17938, '2276382': 17939, '2628869': 17940, '2387904': 17941, '85550': 17942, '39771': 17943, '764126': 17944, '2276130': 17945, '2348692': 17946, '1751084': 17947, '643312': 17948, '725734': 17949, '299218': 17950, '2641173': 17951, '769235': 17952, '1112907': 17953, '718303': 17954, '2196366': 17955, '1343027': 17956, '2283398': 17957, '3595': 17958, '396942': 17959, '161063': 17960, '983523': 17961, '316031': 17962, '198609': 17963, '1546472': 17964, '2117446': 17965, '2316556': 17966, '872028': 17967, '955278': 17968, '2197982': 17969, '2105516': 17970, '2024808': 17971, '1857979': 17972, '2267371': 17973, '1837439': 17974, '1247452': 17975, '2262558': 17976, '2347320': 17977, '225691': 17978, '1372635': 17979, '1835026': 17980, '1330849': 17981, '662550': 17982, '164861': 17983, '2581018': 17984, '1776165': 17985, '1545512': 17986, '1632934': 17987, '1637246': 17988, '1840435': 17989, '1614424': 17990, '282902': 17991, '217938': 17992, '2634386': 17993, '970628': 17994, '1872419': 17995, '509213': 17996, '604949': 17997, '2197402': 17998, '31387': 17999, '1820247': 18000, '101620': 18001, '1849620': 18002, '1291419': 18003, '2428151': 18004, '1762314': 18005, '64059': 18006, '7601': 18007, '445501': 18008, '1581439': 18009, '2437552': 18010, '538005': 18011, '978667': 18012, '1304853': 18013, '2273385': 18014, '2140945': 18015, '2207643': 18016, '609908': 18017, '2426754': 18018, '735710': 18019, '100093': 18020, '1985841': 18021, '936354': 18022, '1860332': 18023, '1022657': 18024, '1163948': 18025, '1690473': 18026, '2587540': 18027, '840419': 18028, '603409': 18029, '836701': 18030, '1432681': 18031, '1917470': 18032, '458656': 18033, '2212610': 18034, '1788942': 18035, '1935937': 18036, '1133966': 18037, '1943605': 18038, '582631': 18039, '1504146': 18040, '796191': 18041, '2162539': 18042, '137309': 18043, '713608': 18044, '1144520': 18045, '846743': 18046, '2572942': 18047, '228194': 18048, '2550324': 18049, '2440481': 18050, '499225': 18051, '1868691': 18052, '2150095': 18053, '1893120': 18054, '138649': 18055, '135997': 18056, '2125956': 18057, '1304264': 18058, '891694': 18059, '196140': 18060, '1427332': 18061, '2284938': 18062, '1774642': 18063, '20223': 18064, '417759': 18065, '1168143': 18066, '2379857': 18067, '2239227': 18068, '708226': 18069, '1715533': 18070, '2263006': 18071, '2106758': 18072, '2628018': 18073, '2377457': 18074, '2205734': 18075, '1320082': 18076, '522942': 18077, '1976216': 18078, '1795821': 18079, '2412596': 18080, '147653': 18081, '150998': 18082, '2427770': 18083, '1353286': 18084, '2649285': 18085, '1928175': 18086, '1517290': 18087, '285164': 18088, '2633545': 18089, '1575539': 18090, '1118120': 18091, '2446265': 18092, '36185': 18093, '569773': 18094, '58863': 18095, '2315073': 18096, '2611773': 18097, '2307923': 18098, '1544909': 18099, '1419139': 18100, '2441830': 18101, '1539122': 18102, '1197493': 18103, '957535': 18104, '1262327': 18105, '649969': 18106, '2560469': 18107, '2274452': 18108, '2566318': 18109, '2014280': 18110, '1967395': 18111, '1844636': 18112, '1203614': 18113, '2640203': 18114, '370641': 18115, '2086901': 18116, '286969': 18117, '1385029': 18118, '1019603': 18119, '585137': 18120, '1194356': 18121, '1604329': 18122, '329653': 18123, '2172013': 18124, '584973': 18125, '1228654': 18126, '1887749': 18127, '1395849': 18128, '580829': 18129, '1157185': 18130, '1781280': 18131, '947425': 18132, '1925832': 18133, '2624124': 18134, '1135847': 18135, '2289991': 18136, '2610031': 18137, '2372141': 18138, '1819642': 18139, '940806': 18140, '1106200': 18141, '10943': 18142, '2296144': 18143, '1844991': 18144, '1539389': 18145, '1811579': 18146, '1245640': 18147, '2142230': 18148, '1262971': 18149, '1518446': 18150, '655837': 18151, '2639129': 18152, '2535052': 18153, '468837': 18154, '511340': 18155, '2169063': 18156, '2564796': 18157, '2560582': 18158, '684777': 18159, '2386274': 18160, '344216': 18161, '248801': 18162, '995169': 18163, '2635348': 18164, '93124': 18165, '707290': 18166, '2045981': 18167, '44518': 18168, '699593': 18169, '2567935': 18170, '257710': 18171, '2145178': 18172, '590239': 18173, '1849872': 18174, '1566455': 18175, '938804': 18176, '1351112': 18177, '2300261': 18178, '2358564': 18179, '859167': 18180, '2366229': 18181, '2166365': 18182, '1495976': 18183, '1675966': 18184, '2402990': 18185, '2622098': 18186, '225972': 18187, '2007761': 18188, '576984': 18189, '519744': 18190, '1901876': 18191, '76249': 18192, '2484058': 18193, '660354': 18194, '1615997': 18195, '2420366': 18196, '2140471': 18197, '2126168': 18198, '1635708': 18199, '2412698': 18200, '1150475': 18201, '1320864': 18202, '2491063': 18203, '353281': 18204, '1591705': 18205, '1825242': 18206, '2208977': 18207, '78573': 18208, '653164': 18209, '629794': 18210, '482868': 18211, '370735': 18212, '1714546': 18213, '109659': 18214, '1600659': 18215, '1749866': 18216, '59397': 18217, '1426049': 18218, '1730558': 18219, '1905415': 18220, '1688249': 18221, '1788855': 18222, '2337325': 18223, '2563204': 18224, '1153585': 18225, '2363249': 18226, '2296718': 18227, '2136856': 18228, '700019': 18229, '2446442': 18230, '1413286': 18231, '1549026': 18232, '2019983': 18233, '40112': 18234, '455962': 18235, '709867': 18236, '800924': 18237, '2046241': 18238, '2247242': 18239, '134617': 18240, '471673': 18241, '547902': 18242, '2278738': 18243, '1531029': 18244, '1343436': 18245, '249241': 18246, '469727': 18247, '1317589': 18248, '1617721': 18249, '1166323': 18250, '115691': 18251, '2532661': 18252, '1607009': 18253, '1401245': 18254, '1328847': 18255, '2500070': 18256, '266023': 18257, '2196868': 18258, '1156245': 18259, '1937449': 18260, '2444052': 18261, '1174079': 18262, '740695': 18263, '922459': 18264, '2124693': 18265, '2642389': 18266, '2392623': 18267, '896279': 18268, '2308483': 18269, '74175': 18270, '2154901': 18271, '937245': 18272, '1309683': 18273, '1235018': 18274, '1489900': 18275, '1117838': 18276, '2304849': 18277, '306175': 18278, '1876443': 18279, '300074': 18280, '1099722': 18281, '559971': 18282, '98676': 18283, '728569': 18284, '2129374': 18285, '2452906': 18286, '2422606': 18287, '1002688': 18288, '611083': 18289, '881975': 18290, '1061911': 18291, '1848661': 18292, '1159247': 18293, '1767421': 18294, '224933': 18295, '1431134': 18296, '426741': 18297, '344411': 18298, '1647674': 18299, '1315379': 18300, '1037713': 18301, '914358': 18302, '697889': 18303, '1244918': 18304, '1119579': 18305, '1805888': 18306, '547130': 18307, '2531111': 18308, '222417': 18309, '367727': 18310, '2036973': 18311, '215554': 18312, '1661229': 18313, '809831': 18314, '461070': 18315, '2302374': 18316, '1666419': 18317, '753151': 18318, '624035': 18319, '1594074': 18320, '734603': 18321, '2329061': 18322, '2032698': 18323, '1146055': 18324, '2476195': 18325, '2336502': 18326, '727646': 18327, '585766': 18328, '1911127': 18329, '1800955': 18330, '2012254': 18331, '166809': 18332, '1021023': 18333, '308031': 18334, '1826801': 18335, '1041749': 18336, '1467756': 18337, '385102': 18338, '809353': 18339, '1092189': 18340, '1259776': 18341, '364208': 18342, '2288023': 18343, '276813': 18344, '1473381': 18345, '1620733': 18346, '844335': 18347, '310948': 18348, '571810': 18349, '2007993': 18350, '291443': 18351, '883136': 18352, '2390353': 18353, '238703': 18354, '1682087': 18355, '1153067': 18356, '438116': 18357, '1469029': 18358, '1958458': 18359, '546994': 18360, '1981741': 18361, '742283': 18362, '2211057': 18363, '2315870': 18364, '1009405': 18365, '2381805': 18366, '792379': 18367, '1848593': 18368, '1713604': 18369, '1098018': 18370, '47898': 18371, '935922': 18372, '147078': 18373, '1281487': 18374, '2520398': 18375, '2600616': 18376, '2128971': 18377, '2155333': 18378, '1241893': 18379, '2369939': 18380, '1663216': 18381, '1042087': 18382, '280802': 18383, '2084049': 18384, '1500307': 18385, '85764': 18386, '830932': 18387, '265915': 18388, '1900118': 18389, '2260267': 18390, '962736': 18391, '2554379': 18392, '2429310': 18393, '505109': 18394, '806214': 18395, '162348': 18396, '425978': 18397, '50677': 18398, '2041742': 18399, '245488': 18400, '1529376': 18401, '2171656': 18402, '823372': 18403, '1751471': 18404, '1340396': 18405, '305701': 18406, '585900': 18407, '2647406': 18408, '1816485': 18409, '178113': 18410, '1815588': 18411, '1049321': 18412, '212071': 18413, '2448892': 18414, '2351412': 18415, '2108751': 18416, '1861482': 18417, '603908': 18418, '2521619': 18419, '1287939': 18420, '2399157': 18421, '160449': 18422, '979169': 18423, '688892': 18424, '452784': 18425, '817878': 18426, '462344': 18427, '506372': 18428, '203708': 18429, '2599664': 18430, '1653320': 18431, '2584740': 18432, '1565068': 18433, '366915': 18434, '2499981': 18435, '1201058': 18436, '1721636': 18437, '914955': 18438, '190071': 18439, '1025897': 18440, '579959': 18441, '189814': 18442, '26762': 18443, '905467': 18444, '2073205': 18445, '643813': 18446, '1175419': 18447, '722402': 18448, '2208132': 18449, '337434': 18450, '2299681': 18451, '2090060': 18452, '414875': 18453, '1016303': 18454, '2608976': 18455, '1021435': 18456, '1700006': 18457, '1990874': 18458, '2197373': 18459, '1154874': 18460, '2259174': 18461, '1705743': 18462, '2119826': 18463, '2143946': 18464, '2080171': 18465, '2359766': 18466, '1164575': 18467, '502355': 18468, '224944': 18469, '2154855': 18470, '1837827': 18471, '1347915': 18472, '1528606': 18473, '1088677': 18474, '2089379': 18475, '875404': 18476, '55023': 18477, '2569199': 18478, '1801221': 18479, '960950': 18480, '1795018': 18481, '1831664': 18482, '1976465': 18483, '234949': 18484, '1843540': 18485, '1936518': 18486, '754082': 18487, '328223': 18488, '931279': 18489, '1929044': 18490, '2506581': 18491, '1265606': 18492, '1574068': 18493, '2456593': 18494, '2509503': 18495, '1693868': 18496, '1334401': 18497, '1940797': 18498, '507167': 18499, '1836358': 18500, '905537': 18501, '90332': 18502, '330282': 18503, '906829': 18504, '1565184': 18505, '736825': 18506, '2407468': 18507, '1600592': 18508, '491060': 18509, '390751': 18510, '2292257': 18511, '799817': 18512, '64928': 18513, '2018877': 18514, '1392168': 18515, '2232571': 18516, '2043681': 18517, '1018210': 18518, '2130756': 18519, '1799922': 18520, '97608': 18521, '1483333': 18522, '2346853': 18523, '561321': 18524, '1255033': 18525, '264160': 18526, '1894534': 18527, '2229399': 18528, '85488': 18529, '14081': 18530, '1082476': 18531, '1963576': 18532, '1233091': 18533, '1115050': 18534, '2206502': 18535, '1865396': 18536, '1058930': 18537, '1987360': 18538, '1567328': 18539, '1237674': 18540, '460500': 18541, '1379133': 18542, '2441692': 18543, '2135415': 18544, '395104': 18545, '1579747': 18546, '2370967': 18547, '774918': 18548, '17421': 18549, '2088226': 18550, '806045': 18551, '399643': 18552, '385977': 18553, '2174467': 18554, '1919203': 18555, '2507646': 18556, '299805': 18557, '972616': 18558, '13013': 18559, '2597530': 18560, '1268751': 18561, '1173657': 18562, '1033825': 18563, '2131880': 18564, '671876': 18565, '762651': 18566, '1635449': 18567, '1731658': 18568, '841869': 18569, '2346150': 18570, '2519096': 18571, '1688316': 18572, '2242513': 18573, '1459971': 18574, '1156220': 18575, '1367152': 18576, '947232': 18577, '387469': 18578, '1732302': 18579, '850008': 18580, '819867': 18581, '2209880': 18582, '399533': 18583, '1372229': 18584, '1665250': 18585, '1339354': 18586, '2340465': 18587, '1610263': 18588, '1721795': 18589, '1490567': 18590, '1321481': 18591, '875209': 18592, '1318946': 18593, '2274652': 18594, '1245150': 18595, '1252460': 18596, '2155399': 18597, '807988': 18598, '1981147': 18599, '2524708': 18600, '1539884': 18601, '1527359': 18602, '2285967': 18603, '622453': 18604, '1028480': 18605, '902498': 18606, '1476458': 18607, '888162': 18608, '2581605': 18609, '1611338': 18610, '1571642': 18611, '622742': 18612, '1961236': 18613, '1810656': 18614, '1671302': 18615, '459448': 18616, '1647443': 18617, '1265312': 18618, '1943866': 18619, '1685049': 18620, '1508328': 18621, '2503600': 18622, '1997842': 18623, '1137159': 18624, '1907843': 18625, '940016': 18626, '707012': 18627, '250162': 18628, '2531303': 18629, '1856775': 18630, '2239213': 18631, '1324910': 18632, '588280': 18633, '2609187': 18634, '2380810': 18635, '612690': 18636, '306286': 18637, '999528': 18638, '314146': 18639, '333843': 18640, '2162151': 18641, '2034970': 18642, '2060403': 18643, '1384810': 18644, '663405': 18645, '768911': 18646, '1916315': 18647, '1941091': 18648, '679080': 18649, '2610660': 18650, '1062213': 18651, '1494238': 18652, '2307508': 18653, '110104': 18654, '1604357': 18655, '1963758': 18656, '2128588': 18657, '71594': 18658, '1571713': 18659, '1772954': 18660, '140935': 18661, '1949876': 18662, '1536121': 18663, '2334279': 18664, '1386822': 18665, '861911': 18666, '2332894': 18667, '120368': 18668, '534043': 18669, '1696279': 18670, '1862405': 18671, '237405': 18672, '115507': 18673, '531747': 18674, '2372128': 18675, '38955': 18676, '176934': 18677, '296153': 18678, '2517588': 18679, '246980': 18680, '474149': 18681, '2347526': 18682, '2629195': 18683, '1664712': 18684, '2187693': 18685, '834395': 18686, '219957': 18687, '526149': 18688, '1574148': 18689, '761595': 18690, '1460170': 18691, '603510': 18692, '842962': 18693, '780871': 18694, '1886077': 18695, '1970583': 18696, '1370246': 18697, '1167841': 18698, '2021115': 18699, '2429294': 18700, '2271535': 18701, '2419258': 18702, '636451': 18703, '1358164': 18704, '1193661': 18705, '668693': 18706, '493287': 18707, '2621129': 18708, '2615317': 18709, '704850': 18710, '99847': 18711, '2291535': 18712, '1051993': 18713, '1999342': 18714, '2603624': 18715, '667911': 18716, '2122411': 18717, '146078': 18718, '1658397': 18719, '529356': 18720, '636256': 18721, '2507985': 18722, '1339451': 18723, '1567167': 18724, '957286': 18725, '722033': 18726, '1489666': 18727, '2338855': 18728, '933167': 18729, '2483744': 18730, '342396': 18731, '1192969': 18732, '120801': 18733, '2567147': 18734, '2178470': 18735, '2239812': 18736, '785329': 18737, '657081': 18738, '1418521': 18739, '2271389': 18740, '2099780': 18741, '1711999': 18742, '606698': 18743, '667280': 18744, '1961619': 18745, '773325': 18746, '2468139': 18747, '2257811': 18748, '995935': 18749, '2362880': 18750, '1883706': 18751, '1026368': 18752, '804044': 18753, '577849': 18754, '1653438': 18755, '67258': 18756, '88897': 18757, '186946': 18758, '1412961': 18759, '2353302': 18760, '2099701': 18761, '1503916': 18762, '1767457': 18763, '569989': 18764, '1870333': 18765, '1906868': 18766, '1621666': 18767, '264305': 18768, '1984358': 18769, '45392': 18770, '1821068': 18771, '1796812': 18772, '1201988': 18773, '1826552': 18774, '1111964': 18775, '2376801': 18776, '1671085': 18777, '96162': 18778, '274650': 18779, '167410': 18780, '1270812': 18781, '2225637': 18782, '2134425': 18783, '1789619': 18784, '1306621': 18785, '1981464': 18786, '1972735': 18787, '1852206': 18788, '84748': 18789, '870065': 18790, '46222': 18791, '968906': 18792, '322199': 18793, '675774': 18794, '1726499': 18795, '1981970': 18796, '299365': 18797, '1314463': 18798, '1826924': 18799, '2427329': 18800, '864618': 18801, '2128808': 18802, '2441229': 18803, '660871': 18804, '1336345': 18805, '2421781': 18806, '575288': 18807, '13586': 18808, '2059898': 18809, '527134': 18810, '2508768': 18811, '1823782': 18812, '1090765': 18813, '484044': 18814, '2547949': 18815, '25382': 18816, '1097806': 18817, '273267': 18818, '2056909': 18819, '198251': 18820, '291830': 18821, '280930': 18822, '1679822': 18823, '1539813': 18824, '125392': 18825, '2394666': 18826, '1600259': 18827, '1927676': 18828, '910792': 18829, '1816372': 18830, '2521402': 18831, '676758': 18832, '863163': 18833, '2288858': 18834, '1884152': 18835, '1784946': 18836, '1621561': 18837, '1157143': 18838, '1203646': 18839, '2095697': 18840, '987337': 18841, '169204': 18842, '2246428': 18843, '1555813': 18844, '1479054': 18845, '2503994': 18846, '305343': 18847, '2347755': 18848, '1490320': 18849, '2405561': 18850, '25755': 18851, '71426': 18852, '2640210': 18853, '342343': 18854, '851730': 18855, '2068497': 18856, '2213715': 18857, '1487349': 18858, '1538396': 18859, '1024350': 18860, '133993': 18861, '477158': 18862, '2381925': 18863, '1663168': 18864, '171839': 18865, '1627382': 18866, '1014151': 18867, '2052520': 18868, '39375': 18869, '1817731': 18870, '1401726': 18871, '37188': 18872, '971176': 18873, '2641559': 18874, '455745': 18875, '36194': 18876, '2226294': 18877, '1789450': 18878, '88334': 18879, '704862': 18880, '2622229': 18881, '2182816': 18882, '504175': 18883, '306564': 18884, '930113': 18885, '2437320': 18886, '572423': 18887, '1460776': 18888, '36212': 18889, '471462': 18890, '1535398': 18891, '1389180': 18892, '69528': 18893, '2547993': 18894, '2127998': 18895, '869097': 18896, '567875': 18897, '1083496': 18898, '352684': 18899, '1048579': 18900, '1258687': 18901, '1456369': 18902, '1304014': 18903, '398994': 18904, '446606': 18905, '1438498': 18906, '849966': 18907, '1305625': 18908, '1135154': 18909, '475881': 18910, '867925': 18911, '1981621': 18912, '2252502': 18913, '340715': 18914, '1957175': 18915, '796192': 18916, '196069': 18917, '554383': 18918, '1539551': 18919, '2157879': 18920, '113654': 18921, '377975': 18922, '352380': 18923, '2501295': 18924, '1311480': 18925, '1968107': 18926, '817616': 18927, '376153': 18928, '2408309': 18929, '482021': 18930, '1933788': 18931, '98388': 18932, '418316': 18933, '1498913': 18934, '1835914': 18935, '729029': 18936, '1348368': 18937, '1126751': 18938, '911021': 18939, '826896': 18940, '2077168': 18941, '1772362': 18942, '2534701': 18943, '2524965': 18944, '2107249': 18945, '2100306': 18946, '1712930': 18947, '290965': 18948, '1941095': 18949, '1632243': 18950, '195806': 18951, '1605728': 18952, '776134': 18953, '1419576': 18954, '220259': 18955, '665996': 18956, '124067': 18957, '1600196': 18958, '403531': 18959, '1584159': 18960, '658645': 18961, '2047318': 18962, '1922405': 18963, '161313': 18964, '854459': 18965, '1843135': 18966, '1900910': 18967, '1176296': 18968, '1817069': 18969, '335635': 18970, '77225': 18971, '2374287': 18972, '1325145': 18973, '212329': 18974, '502080': 18975, '1862805': 18976, '2571885': 18977, '1182899': 18978, '1250757': 18979, '89453': 18980, '361407': 18981, '785769': 18982, '2563596': 18983, '1718002': 18984, '1700035': 18985, '731217': 18986, '674232': 18987, '1564968': 18988, '722394': 18989, '452873': 18990, '2074808': 18991, '2520933': 18992, '1489065': 18993, '774061': 18994, '2077101': 18995, '2291746': 18996, '1393946': 18997, '2205314': 18998, '963962': 18999, '560086': 19000, '105802': 19001, '1268760': 19002, '2502299': 19003, '2645446': 19004, '2083964': 19005, '1208894': 19006, '1414512': 19007, '614909': 19008, '325376': 19009, '239740': 19010, '1538824': 19011, '1391837': 19012, '2255529': 19013, '642537': 19014, '1531520': 19015, '388609': 19016, '892278': 19017, '744232': 19018, '1215574': 19019, '1500388': 19020, '984474': 19021, '2280372': 19022, '470744': 19023, '2441175': 19024, '1954032': 19025, '57565': 19026, '1555081': 19027, '1501738': 19028, '1697078': 19029, '1641914': 19030, '466669': 19031, '1750288': 19032, '2513157': 19033, '2334289': 19034, '2144037': 19035, '2134641': 19036, '412221': 19037, '796136': 19038, '2581488': 19039, '1683667': 19040, '1927136': 19041, '1000596': 19042, '1591522': 19043, '1151427': 19044, '524610': 19045, '446309': 19046, '1964336': 19047, '188769': 19048, '173067': 19049, '1725885': 19050, '188809': 19051, '92056': 19052, '2432714': 19053, '2546703': 19054, '1080282': 19055, '663488': 19056, '1241706': 19057, '1814975': 19058, '1562441': 19059, '302162': 19060, '1873315': 19061, '1249686': 19062, '1888060': 19063, '669086': 19064, '1210088': 19065, '2061360': 19066, '1538864': 19067, '1817033': 19068, '1879437': 19069, '135785': 19070, '1893596': 19071, '2291170': 19072, '2334642': 19073, '757556': 19074, '2131235': 19075, '13227': 19076, '1691081': 19077, '1515156': 19078, '1848018': 19079, '2296586': 19080, '2414964': 19081, '13856': 19082, '592132': 19083, '477297': 19084, '417746': 19085, '1478210': 19086, '1099918': 19087, '1982129': 19088, '2587117': 19089, '1046467': 19090, '918562': 19091, '1401861': 19092, '451640': 19093, '917063': 19094, '1407227': 19095, '695423': 19096, '81922': 19097, '313391': 19098, '314057': 19099, '1102045': 19100, '2556603': 19101, '1151192': 19102, '1809528': 19103, '2033589': 19104, '2375231': 19105, '71874': 19106, '2203182': 19107, '410924': 19108, '594729': 19109, '765159': 19110, '1441959': 19111, '2111124': 19112, '2195549': 19113, '649264': 19114, '388863': 19115, '1982967': 19116, '752492': 19117, '1421091': 19118, '509703': 19119, '343555': 19120, '1992139': 19121, '2056593': 19122, '280167': 19123, '2015780': 19124, '155279': 19125, '1252263': 19126, '1581500': 19127, '84721': 19128, '1029224': 19129, '23042': 19130, '807603': 19131, '1102039': 19132, '2506660': 19133, '564895': 19134, '2097749': 19135, '2332186': 19136, '1944201': 19137, '1091776': 19138, '2527740': 19139, '2443471': 19140, '2542528': 19141, '1661271': 19142, '2305706': 19143, '940538': 19144, '1092131': 19145, '1859358': 19146, '767537': 19147, '1536419': 19148, '1168164': 19149, '621779': 19150, '1173994': 19151, '1836124': 19152, '39450': 19153, '2038357': 19154, '2391281': 19155, '131887': 19156, '956647': 19157, '1229067': 19158, '626118': 19159, '737905': 19160, '53878': 19161, '1352800': 19162, '1889106': 19163, '596964': 19164, '780984': 19165, '898713': 19166, '932272': 19167, '1219621': 19168, '1277457': 19169, '1526640': 19170, '920088': 19171, '2537502': 19172, '781505': 19173, '2543482': 19174, '1450558': 19175, '705906': 19176, '2601274': 19177, '713326': 19178, '2522229': 19179, '602959': 19180, '558480': 19181, '1838390': 19182, '730007': 19183, '2628863': 19184, '1738133': 19185, '1950559': 19186, '1769109': 19187, '1960129': 19188, '1023010': 19189, '389506': 19190, '2096652': 19191, '1727478': 19192, '2539408': 19193, '2245932': 19194, '733225': 19195, '1322839': 19196, '886520': 19197, '2187474': 19198, '1434153': 19199, '2516386': 19200, '1386513': 19201, '1455281': 19202, '2161052': 19203, '912687': 19204, '1806731': 19205, '1578952': 19206, '232286': 19207, '1411722': 19208, '5399': 19209, '769404': 19210, '471177': 19211, '2282019': 19212, '873369': 19213, '1860613': 19214, '2201302': 19215, '1820593': 19216, '2139300': 19217, '1552111': 19218, '1752638': 19219, '640624': 19220, '2009414': 19221, '2516189': 19222, '1259969': 19223, '2563721': 19224, '2471417': 19225, '1436645': 19226, '1919422': 19227, '2059751': 19228, '1500625': 19229, '2161891': 19230, '424379': 19231, '247797': 19232, '2384246': 19233, '341933': 19234, '1838252': 19235, '581199': 19236, '2286538': 19237, '862850': 19238, '963711': 19239, '1228200': 19240, '1508393': 19241, '650634': 19242, '1782516': 19243, '893731': 19244, '530675': 19245, '1455730': 19246, '1473095': 19247, '1330226': 19248, '319529': 19249, '2336531': 19250, '1845071': 19251, '1416445': 19252, '479092': 19253, '1718042': 19254, '2363228': 19255, '144556': 19256, '749591': 19257, '2362305': 19258, '516722': 19259, '1198528': 19260, '1638735': 19261, '1120712': 19262, '51086': 19263, '1020676': 19264, '2062763': 19265, '1067664': 19266, '385743': 19267, '1036641': 19268, '1361124': 19269, '449597': 19270, '755820': 19271, '1954125': 19272, '1977655': 19273, '2453603': 19274, '353481': 19275, '1744695': 19276, '1763740': 19277, '1427259': 19278, '1442105': 19279, '738379': 19280, '1993568': 19281, '884578': 19282, '2214360': 19283, '2617902': 19284, '2348253': 19285, '708831': 19286, '1187565': 19287, '555962': 19288, '2491817': 19289, '1397829': 19290, '934923': 19291, '1038737': 19292, '737081': 19293, '1816898': 19294, '7628': 19295, '1259454': 19296, '895523': 19297, '1342591': 19298, '452501': 19299, '1682749': 19300, '2135692': 19301, '1444640': 19302, '2535541': 19303, '2001447': 19304, '1708758': 19305, '2356355': 19306, '1444657': 19307, '2209849': 19308, '2225399': 19309, '2458087': 19310, '155233': 19311, '1401561': 19312, '168837': 19313, '2061879': 19314, '1499785': 19315, '236873': 19316, '2346201': 19317, '2507459': 19318, '2573509': 19319, '1574503': 19320, '67813': 19321, '1416817': 19322, '1674731': 19323, '1540611': 19324, '133060': 19325, '361702': 19326, '892029': 19327, '2009821': 19328, '1731888': 19329, '442222': 19330, '2338841': 19331, '2493903': 19332, '1077088': 19333, '2427474': 19334, '1961649': 19335, '1035499': 19336, '1305271': 19337, '2050066': 19338, '1810093': 19339, '2431150': 19340, '2527951': 19341, '798394': 19342, '2453282': 19343, '1443200': 19344, '428859': 19345, '2614562': 19346, '733228': 19347, '1701654': 19348, '831134': 19349, '2398969': 19350, '1085864': 19351, '2567237': 19352, '2498797': 19353, '609555': 19354, '1486911': 19355, '715607': 19356, '2526370': 19357, '2628206': 19358, '1592434': 19359, '496436': 19360, '1125519': 19361, '2162531': 19362, '2152838': 19363, '775569': 19364, '465717': 19365, '1259643': 19366, '1905715': 19367, '545639': 19368, '1449810': 19369, '10901': 19370, '440750': 19371, '231489': 19372, '1131917': 19373, '80697': 19374, '1805679': 19375, '1340358': 19376, '115055': 19377, '1006470': 19378, '2162659': 19379, '189623': 19380, '243868': 19381, '313311': 19382, '2542731': 19383, '1225596': 19384, '1470152': 19385, '2531469': 19386, '1719591': 19387, '2089308': 19388, '2420478': 19389, '754135': 19390, '2556571': 19391, '607735': 19392, '446797': 19393, '1701081': 19394, '2621071': 19395, '954555': 19396, '1501288': 19397, '1052539': 19398, '1785266': 19399, '756493': 19400, '1227576': 19401, '1290442': 19402, '1090771': 19403, '1283156': 19404, '1414072': 19405, '786982': 19406, '1232144': 19407, '2446344': 19408, '831988': 19409, '322178': 19410, '1928964': 19411, '1047834': 19412, '2618515': 19413, '842706': 19414, '2261465': 19415, '1471541': 19416, '1080173': 19417, '1351769': 19418, '286106': 19419, '64741': 19420, '364145': 19421, '241772': 19422, '2168778': 19423, '1479374': 19424, '1850615': 19425, '2303773': 19426, '1573102': 19427, '2487508': 19428, '2447861': 19429, '264313': 19430, '1513038': 19431, '2510785': 19432, '2379541': 19433, '2527376': 19434, '704254': 19435, '2508242': 19436, '2078202': 19437, '2501215': 19438, '108161': 19439, '2490948': 19440, '1470272': 19441, '204178': 19442, '1197032': 19443, '270049': 19444, '333277': 19445, '1353938': 19446, '638279': 19447, '2054870': 19448, '134845': 19449, '455707': 19450, '1673904': 19451, '1370666': 19452, '2270830': 19453, '1732461': 19454, '72398': 19455, '1018928': 19456, '2073292': 19457, '2412878': 19458, '354928': 19459, '1336330': 19460, '1433690': 19461, '773145': 19462, '728413': 19463, '311124': 19464, '1512369': 19465, '1679793': 19466, '1752955': 19467, '2225392': 19468, '2186857': 19469, '862592': 19470, '479148': 19471, '2585154': 19472, '1771748': 19473, '516237': 19474, '1928222': 19475, '2470194': 19476, '647111': 19477, '1961791': 19478, '364517': 19479, '859384': 19480, '1325578': 19481, '544690': 19482, '1437440': 19483, '1990743': 19484, '726621': 19485, '1660196': 19486, '1783799': 19487, '1496902': 19488, '2216080': 19489, '2645431': 19490, '1905177': 19491, '801573': 19492, '987299': 19493, '721590': 19494, '1583311': 19495, '185495': 19496, '33430': 19497, '650911': 19498, '1087451': 19499, '47891': 19500, '375199': 19501, '724097': 19502, '260616': 19503, '1289074': 19504, '771805': 19505, '1019912': 19506, '2563494': 19507, '1002870': 19508, '917160': 19509, '379787': 19510, '2262525': 19511, '1655469': 19512, '2501886': 19513, '2511987': 19514, '2141105': 19515, '46929': 19516, '1243196': 19517, '344131': 19518, '2446512': 19519, '2204684': 19520, '1885347': 19521, '2136480': 19522, '79553': 19523, '768483': 19524, '1716976': 19525, '1679999': 19526, '2199182': 19527, '1810074': 19528, '570909': 19529, '1391652': 19530, '546161': 19531, '1768590': 19532, '2601294': 19533, '881486': 19534, '351002': 19535, '1001454': 19536, '176805': 19537, '1331196': 19538, '2575367': 19539, '1294652': 19540, '730649': 19541, '2227924': 19542, '1799995': 19543, '2602874': 19544, '946102': 19545, '1690104': 19546, '1501011': 19547, '235092': 19548, '28338': 19549, '2053251': 19550, '2463133': 19551, '949667': 19552, '885635': 19553, '1481142': 19554, '1426838': 19555, '985122': 19556, '1315776': 19557, '1123870': 19558, '2491569': 19559, '1951367': 19560, '2480001': 19561, '1298629': 19562, '2429098': 19563, '2013678': 19564, '1131186': 19565, '969495': 19566, '1919782': 19567, '433126': 19568, '1707541': 19569, '1438386': 19570, '1007545': 19571, '472083': 19572, '2492994': 19573, '1167511': 19574, '2165484': 19575, '1938678': 19576, '45018': 19577, '1591751': 19578, '1167439': 19579, '2365871': 19580, '2440595': 19581, '1022388': 19582, '330866': 19583, '710801': 19584, '239658': 19585, '1182659': 19586, '287114': 19587, '1125171': 19588, '676718': 19589, '928607': 19590, '1187252': 19591, '1405485': 19592, '383442': 19593, '851222': 19594, '1714727': 19595, '655111': 19596, '94874': 19597, '786054': 19598, '1312448': 19599, '332269': 19600, '2252435': 19601, '704050': 19602, '1256120': 19603, '1690251': 19604, '2061394': 19605, '1877238': 19606, '123356': 19607, '1284186': 19608, '2230416': 19609, '2299847': 19610, '2497827': 19611, '1037770': 19612, '1362341': 19613, '442118': 19614, '2313697': 19615, '1097064': 19616, '1179020': 19617, '2266937': 19618, '2243690': 19619, '1436183': 19620, '759470': 19621, '629234': 19622, '545306': 19623, '83858': 19624, '2404300': 19625, '1802414': 19626, '1184388': 19627, '934835': 19628, '375405': 19629, '1538439': 19630, '1148074': 19631, '970269': 19632, '841432': 19633, '844784': 19634, '1947240': 19635, '2115962': 19636, '1418058': 19637, '511942': 19638, '2592889': 19639, '2487958': 19640, '1722278': 19641, '1874777': 19642, '884078': 19643, '809505': 19644, '2536012': 19645, '330424': 19646, '818736': 19647, '235562': 19648, '501203': 19649, '465616': 19650, '2326664': 19651, '109667': 19652, '137065': 19653, '1666957': 19654, '427485': 19655, '657985': 19656, '1783789': 19657, '1289511': 19658, '1006350': 19659, '589950': 19660, '919719': 19661, '1640546': 19662, '478755': 19663, '177755': 19664, '221441': 19665, '182031': 19666, '2355940': 19667, '982690': 19668, '2610356': 19669, '2532855': 19670, '1445117': 19671, '1676373': 19672, '968798': 19673, '1617647': 19674, '913820': 19675, '306179': 19676, '844637': 19677, '1892654': 19678, '1074020': 19679, '2039168': 19680, '2483928': 19681, '1910236': 19682, '227295': 19683, '952636': 19684, '1468574': 19685, '1411511': 19686, '1952339': 19687, '138391': 19688, '1939739': 19689, '2385565': 19690, '787595': 19691, '1117550': 19692, '2289098': 19693, '84094': 19694, '158954': 19695, '2164117': 19696, '2140569': 19697, '2336549': 19698, '466192': 19699, '403671': 19700, '275685': 19701, '175887': 19702, '2597161': 19703, '759213': 19704, '1661702': 19705, '1357202': 19706, '2574102': 19707, '2490423': 19708, '2109211': 19709, '118036': 19710, '2004105': 19711, '1522371': 19712, '1323425': 19713, '290466': 19714, '1430398': 19715, '2632377': 19716, '506953': 19717, '1973032': 19718, '1558299': 19719, '1059789': 19720, '774251': 19721, '2514186': 19722, '1071547': 19723, '1222167': 19724, '359345': 19725, '332466': 19726, '181666': 19727, '16051': 19728, '2255786': 19729, '2056324': 19730, '1183437': 19731, '2394097': 19732, '880097': 19733, '1955169': 19734, '220936': 19735, '357252': 19736, '2618624': 19737, '521765': 19738, '855281': 19739, '1850620': 19740, '2190792': 19741, '1402250': 19742, '966992': 19743, '1019660': 19744, '2592095': 19745, '2085265': 19746, '1014995': 19747, '1085738': 19748, '712115': 19749, '756359': 19750, '1116035': 19751, '245181': 19752, '559883': 19753, '2540945': 19754, '593173': 19755, '675655': 19756, '660233': 19757, '1228535': 19758, '733453': 19759, '921684': 19760, '2561861': 19761, '508573': 19762, '38908': 19763, '761014': 19764, '1015558': 19765, '2383405': 19766, '1476270': 19767, '905479': 19768, '833998': 19769, '1181089': 19770, '2558351': 19771, '1861500': 19772, '821292': 19773, '2287919': 19774, '2581695': 19775, '399637': 19776, '653682': 19777, '740226': 19778, '2271716': 19779, '1190335': 19780, '2325667': 19781, '2279919': 19782, '2609478': 19783, '153102': 19784, '2402629': 19785, '1135509': 19786, '1189588': 19787, '521082': 19788, '1186032': 19789, '2229846': 19790, '2260761': 19791, '1165469': 19792, '1392553': 19793, '559829': 19794, '433593': 19795, '129097': 19796, '223379': 19797, '1476797': 19798, '1467436': 19799, '2155100': 19800, '633730': 19801, '361375': 19802, '1993420': 19803, '1614728': 19804, '1141105': 19805, '237752': 19806, '1308242': 19807, '212479': 19808, '1293508': 19809, '1233457': 19810, '1504853': 19811, '626772': 19812, '440723': 19813, '2282845': 19814, '2138831': 19815, '1807166': 19816, '2642403': 19817, '2465894': 19818, '2497891': 19819, '1487570': 19820, '2035777': 19821, '858942': 19822, '27349': 19823, '895863': 19824, '2018721': 19825, '1070584': 19826, '2073647': 19827, '900899': 19828, '2167190': 19829, '1715300': 19830, '1665415': 19831, '638004': 19832, '2028283': 19833, '987125': 19834, '1217641': 19835, '1475293': 19836, '1951175': 19837, '762194': 19838, '471303': 19839, '962273': 19840, '778937': 19841, '1787038': 19842, '1079253': 19843, '1078549': 19844, '635417': 19845, '1478013': 19846, '2615035': 19847, '522637': 19848, '2015956': 19849, '268813': 19850, '2230795': 19851, '2448380': 19852, '859826': 19853, '928604': 19854, '1222337': 19855, '593440': 19856, '970756': 19857, '999397': 19858, '507516': 19859, '1082263': 19860, '1854584': 19861, '1027371': 19862, '2596548': 19863, '974174': 19864, '1787399': 19865, '2237101': 19866, '1944420': 19867, '1518963': 19868, '661571': 19869, '2225817': 19870, '1372532': 19871, '1219833': 19872, '2006759': 19873, '765938': 19874, '77708': 19875, '2192420': 19876, '1860246': 19877, '976615': 19878, '2596383': 19879, '1117379': 19880, '2373176': 19881, '1470890': 19882, '180030': 19883, '1191566': 19884, '722289': 19885, '818884': 19886, '1955464': 19887, '1522015': 19888, '2427632': 19889, '460448': 19890, '563705': 19891, '2502336': 19892, '1208420': 19893, '2247406': 19894, '598038': 19895, '2535916': 19896, '503178': 19897, '124251': 19898, '22853': 19899, '985776': 19900, '300146': 19901, '418653': 19902, '1511593': 19903, '2037038': 19904, '1130826': 19905, '1026479': 19906, '1635381': 19907, '1897819': 19908, '976668': 19909, '1557449': 19910, '1437996': 19911, '1792510': 19912, '142909': 19913, '1622098': 19914, '2374978': 19915, '982635': 19916, '2489526': 19917, '942769': 19918, '2183290': 19919, '919393': 19920, '2616306': 19921, '447282': 19922, '1564927': 19923, '2165619': 19924, '887393': 19925, '2438675': 19926, '219746': 19927, '1966998': 19928, '1555581': 19929, '1861514': 19930, '1444177': 19931, '33089': 19932, '954111': 19933, '1269749': 19934, '1712147': 19935, '1374758': 19936, '1746482': 19937, '1694254': 19938, '1131759': 19939, '2464928': 19940, '2170206': 19941, '2069625': 19942, '2194337': 19943, '1961864': 19944, '479898': 19945, '1587543': 19946, '1526063': 19947, '2236554': 19948, '2072840': 19949, '718043': 19950, '264772': 19951, '1839246': 19952, '774693': 19953, '21386': 19954, '1796166': 19955, '1501766': 19956, '1974838': 19957, '2212463': 19958, '1071084': 19959, '246119': 19960, '2210403': 19961, '2340450': 19962, '347605': 19963, '136854': 19964, '121098': 19965, '2084726': 19966, '833659': 19967, '1932255': 19968, '1084626': 19969, '884558': 19970, '1002367': 19971, '1119020': 19972, '984786': 19973, '841727': 19974, '1876896': 19975, '1554725': 19976, '622462': 19977, '1070629': 19978, '1108304': 19979, '1512836': 19980, '1159506': 19981, '1939221': 19982, '980485': 19983, '1510334': 19984, '1341779': 19985, '497900': 19986, '992650': 19987, '2547639': 19988, '328642': 19989, '1876697': 19990, '907347': 19991, '1526205': 19992, '1654947': 19993, '1969216': 19994, '2092244': 19995, '2070820': 19996, '480206': 19997, '1652205': 19998, '416881': 19999, '1006655': 20000, '630111': 20001, '2603678': 20002, '2221229': 20003, '396595': 20004, '1013802': 20005, '731610': 20006, '827805': 20007, '604568': 20008, '2309963': 20009, '1080361': 20010, '317060': 20011, '1897404': 20012, '263600': 20013, '1687459': 20014, '606497': 20015, '902622': 20016, '2509200': 20017, '1028541': 20018, '464571': 20019, '597100': 20020, '633054': 20021, '1612505': 20022, '102225': 20023, '1004007': 20024, '531125': 20025, '1427343': 20026, '1546862': 20027, '2070085': 20028, '1919713': 20029, '669296': 20030, '1818981': 20031, '945992': 20032, '58995': 20033, '70328': 20034, '657641': 20035, '791811': 20036, '502758': 20037, '2021988': 20038, '2558018': 20039, '736652': 20040, '1737972': 20041, '1662104': 20042, '2365226': 20043, '1667925': 20044, '1546659': 20045, '2344346': 20046, '1318530': 20047, '832928': 20048, '1968161': 20049, '1812657': 20050, '2473258': 20051, '1528680': 20052, '648614': 20053, '1194911': 20054, '1214135': 20055, '2062595': 20056, '1331636': 20057, '1654721': 20058, '1000079': 20059, '2128254': 20060, '172575': 20061, '1224064': 20062, '255177': 20063, '755112': 20064, '690837': 20065, '1957071': 20066, '2133016': 20067, '638075': 20068, '982059': 20069, '860589': 20070, '223890': 20071, '2053334': 20072, '4906': 20073, '2375867': 20074, '1212397': 20075, '1639386': 20076, '2495584': 20077, '827257': 20078, '688751': 20079, '1160808': 20080, '1452537': 20081, '701960': 20082, '772538': 20083, '904803': 20084, '1777696': 20085, '2354382': 20086, '1642992': 20087, '1456657': 20088, '1952756': 20089, '2622904': 20090, '431691': 20091, '18360': 20092, '2108079': 20093, '2557296': 20094, '1842902': 20095, '2605948': 20096, '366160': 20097, '2597934': 20098, '2437854': 20099, '1936837': 20100, '2069981': 20101, '1475516': 20102, '252476': 20103, '1635523': 20104, '1994785': 20105, '2643382': 20106, '169854': 20107, '2167210': 20108, '1971766': 20109, '415693': 20110, '1053828': 20111, '2310390': 20112, '471624': 20113, '425179': 20114, '1562593': 20115, '2483306': 20116, '527592': 20117, '615711': 20118, '1367596': 20119, '778430': 20120, '2400569': 20121, '1238762': 20122, '1678660': 20123, '2048620': 20124, '1788836': 20125, '1896177': 20126, '1866818': 20127, '864068': 20128, '124255': 20129, '29827': 20130, '2305266': 20131, '798104': 20132, '1509458': 20133, '496831': 20134, '2296095': 20135, '1899613': 20136, '1678903': 20137, '419660': 20138, '2442218': 20139, '472332': 20140, '1252539': 20141, '2302840': 20142, '970975': 20143, '689091': 20144, '2360817': 20145, '73988': 20146, '756558': 20147, '2177576': 20148, '2260008': 20149, '973137': 20150, '2188622': 20151, '1729518': 20152, '2434675': 20153, '1494988': 20154, '857699': 20155, '114576': 20156, '1816834': 20157, '529545': 20158, '2533118': 20159, '1813114': 20160, '2072238': 20161, '2396631': 20162, '2127722': 20163, '920912': 20164, '1247329': 20165, '2417042': 20166, '2086130': 20167, '29395': 20168, '1466382': 20169, '275551': 20170, '1427330': 20171, '409343': 20172, '1090911': 20173, '2616210': 20174, '1581163': 20175, '239262': 20176, '1156011': 20177, '811817': 20178, '2260540': 20179, '848036': 20180, '2513067': 20181, '2455164': 20182, '2141441': 20183, '1091113': 20184, '2016453': 20185, '530860': 20186, '2171718': 20187, '1941094': 20188, '983558': 20189, '62346': 20190, '2124788': 20191, '1931453': 20192, '2016667': 20193, '2574990': 20194, '2282657': 20195, '2110213': 20196, '680507': 20197, '1586924': 20198, '767570': 20199, '2021291': 20200, '217609': 20201, '2346813': 20202, '695333': 20203, '1848868': 20204, '2596745': 20205, '919486': 20206, '998059': 20207, '2032327': 20208, '1182342': 20209, '1567322': 20210, '1354427': 20211, '2379395': 20212, '258894': 20213, '2209986': 20214, '1851595': 20215, '377329': 20216, '1126546': 20217, '63493': 20218, '1711975': 20219, '316752': 20220, '144265': 20221, '2400283': 20222, '1683507': 20223, '2087189': 20224, '1864582': 20225, '231025': 20226, '258332': 20227, '691210': 20228, '1220571': 20229, '2132051': 20230, '136596': 20231, '779877': 20232, '863016': 20233, '243619': 20234, '15191': 20235, '2098373': 20236, '1450159': 20237, '1572469': 20238, '1969751': 20239, '1583129': 20240, '42416': 20241, '1501048': 20242, '1438214': 20243, '1694205': 20244, '169028': 20245, '2631668': 20246, '324115': 20247, '2616417': 20248, '1087551': 20249, '862396': 20250, '2254991': 20251, '834102': 20252, '2502499': 20253, '1978173': 20254, '1603774': 20255, '1537599': 20256, '1750386': 20257, '795658': 20258, '1872828': 20259, '2261631': 20260, '569333': 20261, '2176056': 20262, '204011': 20263, '2256674': 20264, '543507': 20265, '568603': 20266, '2571411': 20267, '2640879': 20268, '2499019': 20269, '1095409': 20270, '440852': 20271, '1181676': 20272, '887729': 20273, '1252311': 20274, '1824353': 20275, '2172301': 20276, '447437': 20277, '1534723': 20278, '437371': 20279, '1145831': 20280, '1643106': 20281, '2322405': 20282, '80445': 20283, '2515736': 20284, '2040501': 20285, '647249': 20286, '633156': 20287, '846480': 20288, '2383798': 20289, '827785': 20290, '2621846': 20291, '2169737': 20292, '1345597': 20293, '673619': 20294, '1902117': 20295, '2031435': 20296, '111657': 20297, '1979633': 20298, '500090': 20299, '35256': 20300, '2080743': 20301, '693527': 20302, '1071305': 20303, '2596673': 20304, '2151531': 20305, '960004': 20306, '1047634': 20307, '2416168': 20308, '627503': 20309, '2024984': 20310, '1703680': 20311, '1828866': 20312, '2173514': 20313, '302304': 20314, '950498': 20315, '1355423': 20316, '2414164': 20317, '542786': 20318, '673040': 20319, '223641': 20320, '2222341': 20321, '168902': 20322, '2038778': 20323, '271921': 20324, '2479086': 20325, '429038': 20326, '1607785': 20327, '1742381': 20328, '2126435': 20329, '582273': 20330, '470306': 20331, '984936': 20332, '2573288': 20333, '1166750': 20334, '2102669': 20335, '477168': 20336, '1390581': 20337, '604867': 20338, '914056': 20339, '755773': 20340, '722175': 20341, '482328': 20342, '1786296': 20343, '1746966': 20344, '2414659': 20345, '2033641': 20346, '1857952': 20347, '1912807': 20348, '2506246': 20349, '2111942': 20350, '207201': 20351, '2307866': 20352, '516036': 20353, '1001464': 20354, '1353216': 20355, '2032861': 20356, '34762': 20357, '1076056': 20358, '2238894': 20359, '1260894': 20360, '251595': 20361, '2055615': 20362, '1553699': 20363, '47269': 20364, '2099429': 20365, '436023': 20366, '2256295': 20367, '2592256': 20368, '1932258': 20369, '829911': 20370, '1995067': 20371, '1370144': 20372, '554424': 20373, '2184630': 20374, '1195600': 20375, '2049057': 20376, '2008504': 20377, '2458072': 20378, '2329672': 20379, '546576': 20380, '2607731': 20381, '187515': 20382, '1649513': 20383, '1544026': 20384, '2130601': 20385, '1167549': 20386, '962188': 20387, '889897': 20388, '1490035': 20389, '273541': 20390, '1434880': 20391, '1470143': 20392, '1658868': 20393, '1222393': 20394, '2099073': 20395, '1585125': 20396, '1685361': 20397, '1366312': 20398, '1609831': 20399, '2634348': 20400, '259516': 20401, '1916277': 20402, '2479960': 20403, '1178284': 20404, '145654': 20405, '1860860': 20406, '127079': 20407, '872126': 20408, '1217897': 20409, '2341939': 20410, '2290481': 20411, '1615446': 20412, '2436541': 20413, '2334626': 20414, '2072811': 20415, '929756': 20416, '1998719': 20417, '2625471': 20418, '1595389': 20419, '1523544': 20420, '324754': 20421, '966983': 20422, '945594': 20423, '1598669': 20424, '1569028': 20425, '91803': 20426, '888488': 20427, '319499': 20428, '1168291': 20429, '510641': 20430, '355834': 20431, '1091730': 20432, '1619911': 20433, '1999685': 20434, '1104620': 20435, '105221': 20436, '1816425': 20437, '1566775': 20438, '481862': 20439, '1317009': 20440, '503356': 20441, '1591646': 20442, '113262': 20443, '1156035': 20444, '1005439': 20445, '2079888': 20446, '600724': 20447, '2110928': 20448, '1523919': 20449, '582957': 20450, '1891782': 20451, '708596': 20452, '121619': 20453, '1100373': 20454, '1824675': 20455, '1457793': 20456, '1795873': 20457, '437921': 20458, '465713': 20459, '382405': 20460, '19475': 20461, '1637299': 20462, '236699': 20463, '1336875': 20464, '1483098': 20465, '539186': 20466, '2164224': 20467, '1445521': 20468, '743636': 20469, '1551042': 20470, '1281037': 20471, '1850399': 20472, '2018945': 20473, '1847231': 20474, '1589537': 20475, '1756258': 20476, '1142246': 20477, '566842': 20478, '26101': 20479, '38859': 20480, '1445262': 20481, '2277086': 20482, '2142951': 20483, '1708934': 20484, '1978837': 20485, '48657': 20486, '2491918': 20487, '2428674': 20488, '1713587': 20489, '2528026': 20490, '2328754': 20491, '2016653': 20492, '1413636': 20493, '263643': 20494, '1359724': 20495, '2070271': 20496, '1698949': 20497, '394125': 20498, '1281982': 20499, '1890837': 20500, '1964698': 20501, '738983': 20502, '553078': 20503, '2635349': 20504, '1431184': 20505, '718564': 20506, '255096': 20507, '1046137': 20508, '618928': 20509, '2179550': 20510, '1665484': 20511, '1014111': 20512, '2319353': 20513, '1611173': 20514, '534508': 20515, '2152576': 20516, '983990': 20517, '2246350': 20518, '2532100': 20519, '1576111': 20520, '1033266': 20521, '1754594': 20522, '2606295': 20523, '2358238': 20524, '955719': 20525, '1020215': 20526, '2019936': 20527, '1002453': 20528, '2025855': 20529, '1385255': 20530, '125903': 20531, '2511101': 20532, '1707099': 20533, '1313079': 20534, '897762': 20535, '539354': 20536, '353900': 20537, '761471': 20538, '2354125': 20539, '754397': 20540, '999410': 20541, '410753': 20542, '2503583': 20543, '782920': 20544, '2259855': 20545, '1486688': 20546, '2119484': 20547, '51130': 20548, '2258231': 20549, '797525': 20550, '1478134': 20551, '1654137': 20552, '643372': 20553, '921320': 20554, '2429513': 20555, '1556647': 20556, '2377061': 20557, '1602973': 20558, '1143036': 20559, '386474': 20560, '2140917': 20561, '1453265': 20562, '2375988': 20563, '2236190': 20564, '110390': 20565, '92249': 20566, '1063193': 20567, '1885503': 20568, '581930': 20569, '2078812': 20570, '1331154': 20571, '1279939': 20572, '1827080': 20573, '610692': 20574, '1317259': 20575, '992670': 20576, '1147893': 20577, '578236': 20578, '844999': 20579, '1709110': 20580, '348960': 20581, '2397454': 20582, '1731102': 20583, '1047298': 20584, '1466086': 20585, '2345385': 20586, '1626426': 20587, '1927891': 20588, '1372729': 20589, '1293893': 20590, '2249111': 20591, '2056855': 20592, '86298': 20593, '492555': 20594, '731232': 20595, '454878': 20596, '1188440': 20597, '2025883': 20598, '2512180': 20599, '1800072': 20600, '2305164': 20601, '898468': 20602, '313673': 20603, '2283630': 20604, '2502315': 20605, '1331887': 20606, '1377526': 20607, '2477965': 20608, '153319': 20609, '773432': 20610, '1631676': 20611, '495800': 20612, '1541814': 20613, '1801490': 20614, '1371592': 20615, '272881': 20616, '1134129': 20617, '1891442': 20618, '1533355': 20619, '724592': 20620, '2204072': 20621, '2116843': 20622, '777010': 20623, '699787': 20624, '1218802': 20625, '1157883': 20626, '407828': 20627, '1753286': 20628, '2120432': 20629, '1234382': 20630, '1478617': 20631, '406024': 20632, '1985760': 20633, '538321': 20634, '1490506': 20635, '269316': 20636, '2451368': 20637, '1154507': 20638, '901069': 20639, '934389': 20640, '583344': 20641, '2360300': 20642, '1432885': 20643, '991649': 20644, '732682': 20645, '1046809': 20646, '2488386': 20647, '441200': 20648, '748091': 20649, '1617710': 20650, '2073760': 20651, '26334': 20652, '348070': 20653, '2315038': 20654, '540778': 20655, '2067793': 20656, '2577882': 20657, '404342': 20658, '661979': 20659, '1182456': 20660, '1124877': 20661, '1307002': 20662, '1458301': 20663, '2117885': 20664, '365840': 20665, '1944148': 20666, '2315741': 20667, '1570397': 20668, '300720': 20669, '2315404': 20670, '1847778': 20671, '1538750': 20672, '2531820': 20673, '2086206': 20674, '1301764': 20675, '2443463': 20676, '1633691': 20677, '2172616': 20678, '2491110': 20679, '376589': 20680, '1294781': 20681, '2220099': 20682, '669857': 20683, '1475475': 20684, '1708788': 20685, '1759015': 20686, '1154579': 20687, '2257979': 20688, '2418200': 20689, '1494552': 20690, '1711278': 20691, '2047851': 20692, '30941': 20693, '1841541': 20694, '58399': 20695, '2406895': 20696, '22670': 20697, '335615': 20698, '2555761': 20699, '846325': 20700, '148242': 20701, '1802986': 20702, '664209': 20703, '2177165': 20704, '1251028': 20705, '2057828': 20706, '827387': 20707, '525715': 20708, '10638': 20709, '1646383': 20710, '709185': 20711, '2213534': 20712, '1276999': 20713, '1046646': 20714, '1420080': 20715, '2121720': 20716, '936393': 20717, '2538157': 20718, '57344': 20719, '1608091': 20720, '2612086': 20721, '2134385': 20722, '1067999': 20723, '1833332': 20724, '2299488': 20725, '1579732': 20726, '1900750': 20727, '2215309': 20728, '1900424': 20729, '2257113': 20730, '1650205': 20731, '2014656': 20732, '170552': 20733, '1522205': 20734, '1214273': 20735, '645994': 20736, '637343': 20737, '1889384': 20738, '871833': 20739, '2228058': 20740, '1498538': 20741, '2326386': 20742, '1822001': 20743, '1810565': 20744, '1114339': 20745, '1197043': 20746, '113256': 20747, '1606826': 20748, '1374216': 20749, '2065772': 20750, '262068': 20751, '1263695': 20752, '1160772': 20753, '1222279': 20754, '2390221': 20755, '1147853': 20756, '801495': 20757, '2224525': 20758, '1265998': 20759, '2440322': 20760, '1138277': 20761, '2274913': 20762, '988885': 20763, '820600': 20764, '1452454': 20765, '2455393': 20766, '2315006': 20767, '286530': 20768, '471831': 20769, '263288': 20770, '2288027': 20771, '1298126': 20772, '860723': 20773, '1930480': 20774, '866048': 20775, '1185461': 20776, '2044587': 20777, '2580300': 20778, '2637328': 20779, '1384373': 20780, '2534574': 20781, '1829062': 20782, '609366': 20783, '141543': 20784, '1391586': 20785, '743611': 20786, '223488': 20787, '1840368': 20788, '1350353': 20789, '515038': 20790, '1580125': 20791, '1274584': 20792, '1225226': 20793, '2589781': 20794, '147239': 20795, '2267950': 20796, '701730': 20797, '1962305': 20798, '2582052': 20799, '2193995': 20800, '757996': 20801, '548053': 20802, '41153': 20803, '2222827': 20804, '1303962': 20805, '918101': 20806, '1013375': 20807, '1430664': 20808, '1019056': 20809, '1682724': 20810, '156300': 20811, '2311304': 20812, '25435': 20813, '778730': 20814, '1242475': 20815, '1062450': 20816, '899431': 20817, '2178924': 20818, '22018': 20819, '2062052': 20820, '460376': 20821, '1212882': 20822, '2477534': 20823, '597192': 20824, '296788': 20825, '1441263': 20826, '253785': 20827}\n",
            "{4007: 0, 2372: 1, 4080: 2, 401: 3, 4432: 4, 674: 5, 424: 6, 554: 7, 1744: 8, 2379: 9, 3522: 10, 3480: 11, 28: 12, 1123: 13, 711: 14, 1020: 15, 3009: 16, 3917: 17, 1466: 18, 4369: 19, 2395: 20, 2751: 21, 2348: 22, 3216: 23, 299: 24, 175: 25, 720: 26, 2525: 27, 3427: 28, 1972: 29, 4100: 30, 2780: 31, 2001: 32, 148: 33, 571: 34, 3190: 35, 3342: 36, 3715: 37, 3385: 38, 3860: 39, 1743: 40, 378: 41, 3464: 42, 1509: 43, 708: 44, 2128: 45, 989: 46, 2577: 47, 599: 48, 197: 49, 257: 50, 4271: 51, 1435: 52, 463: 53, 4310: 54, 2775: 55, 295: 56, 2594: 57, 3784: 58, 2743: 59, 2290: 60, 4056: 61, 313: 62, 4306: 63, 2905: 64, 4266: 65, 3170: 66, 3990: 67, 2012: 68, 2580: 69, 4256: 70, 937: 71, 2804: 72, 3079: 73, 2174: 74, 3433: 75, 3888: 76, 3610: 77, 2251: 78, 359: 79, 4380: 80, 275: 81, 2209: 82, 47: 83, 191: 84, 1324: 85, 798: 86, 3254: 87, 862: 88, 1094: 89, 1795: 90, 2823: 91, 758: 92, 305: 93, 1650: 94, 1905: 95, 348: 96, 2617: 97, 3253: 98, 4302: 99, 4355: 100, 4315: 101, 4227: 102, 783: 103, 1145: 104, 241: 105, 1794: 106, 1026: 107, 2992: 108, 3071: 109, 2441: 110, 312: 111, 2590: 112, 393: 113, 1467: 114, 248: 115, 1962: 116, 4342: 117, 2660: 118, 2986: 119, 1502: 120, 1488: 121, 3650: 122, 3364: 123, 1213: 124, 1406: 125, 2164: 126, 3282: 127, 2015: 128, 3730: 129, 2554: 130, 4135: 131, 3350: 132, 1625: 133, 4145: 134, 3375: 135, 1604: 136, 534: 137, 1590: 138, 483: 139, 3078: 140, 1202: 141, 55: 142, 353: 143, 1035: 144, 4098: 145, 3756: 146, 2800: 147, 1532: 148, 2613: 149, 580: 150, 3128: 151, 1087: 152, 252: 153, 1571: 154, 330: 155, 143: 156, 2690: 157, 1692: 158, 3441: 159, 3274: 160, 3905: 161, 3315: 162, 1843: 163, 1862: 164, 1262: 165, 1668: 166, 3742: 167, 788: 168, 4339: 169, 1770: 170, 1110: 171, 187: 172, 3777: 173, 290: 174, 2851: 175, 1578: 176, 2465: 177, 2302: 178, 1615: 179, 267: 180, 3900: 181, 3571: 182, 1659: 183, 1046: 184, 4159: 185, 1357: 186, 2152: 187, 849: 188, 789: 189, 1865: 190, 3267: 191, 3138: 192, 3689: 193, 111: 194, 3824: 195, 79: 196, 479: 197, 2499: 198, 30: 199, 2140: 200, 4345: 201, 1039: 202, 2848: 203, 1837: 204, 273: 205, 2566: 206, 285: 207, 420: 208, 3640: 209, 3734: 210, 413: 211, 2464: 212, 822: 213, 3701: 214, 1144: 215, 3617: 216, 1220: 217, 607: 218, 3135: 219, 1317: 220, 416: 221, 4330: 222, 427: 223, 1305: 224, 1148: 225, 2612: 226, 1367: 227, 2137: 228, 988: 229, 1542: 230, 2803: 231, 2735: 232, 3093: 233, 1073: 234, 2037: 235, 908: 236, 457: 237, 3570: 238, 4341: 239, 1799: 240, 4210: 241, 533: 242, 1757: 243, 2136: 244, 1877: 245, 3012: 246, 2391: 247, 2284: 248, 2457: 249, 3463: 250, 1047: 251, 3106: 252, 283: 253, 956: 254, 18: 255, 3500: 256, 1307: 257, 817: 258, 3801: 259, 3021: 260, 2874: 261, 3107: 262, 984: 263, 1810: 264, 2332: 265, 3371: 266, 3182: 267, 209: 268, 1250: 269, 3988: 270, 985: 271, 819: 272, 3224: 273, 4269: 274, 2153: 275, 2199: 276, 2865: 277, 3403: 278, 2400: 279, 1421: 280, 954: 281, 32: 282, 3151: 283, 563: 284, 2045: 285, 746: 286, 1939: 287, 3285: 288, 3605: 289, 963: 290, 2913: 291, 1001: 292, 3003: 293, 4356: 294, 872: 295, 2852: 296, 940: 297, 3936: 298, 705: 299, 1789: 300, 240: 301, 696: 302, 1735: 303, 2771: 304, 1384: 305, 3865: 306, 2539: 307, 3954: 308, 734: 309, 535: 310, 4262: 311, 4496: 312, 3817: 313, 1482: 314, 2430: 315, 3379: 316, 3942: 317, 2009: 318, 3825: 319, 1885: 320, 524: 321, 3054: 322, 2163: 323, 215: 324, 3713: 325, 3921: 326, 1255: 327, 1102: 328, 1803: 329, 1012: 330, 2161: 331, 2595: 332, 808: 333, 223: 334, 270: 335, 4472: 336, 2757: 337, 2866: 338, 3161: 339, 2762: 340, 3320: 341, 3265: 342, 269: 343, 3168: 344, 4270: 345, 2192: 346, 843: 347, 456: 348, 4449: 349, 4389: 350, 2942: 351, 2162: 352, 2847: 353, 4136: 354, 2698: 355, 1210: 356, 3870: 357, 4207: 358, 1994: 359, 3962: 360, 1553: 361, 4384: 362, 2475: 363, 3893: 364, 2017: 365, 1086: 366, 1655: 367, 2675: 368, 585: 369, 3611: 370, 1783: 371, 357: 372, 3148: 373, 3153: 374, 1518: 375, 3290: 376, 1295: 377, 1931: 378, 692: 379, 3222: 380, 3113: 381, 2277: 382, 1245: 383, 3165: 384, 2171: 385, 1530: 386, 1163: 387, 4123: 388, 4171: 389, 2252: 390, 1866: 391, 1289: 392, 1746: 393, 4157: 394, 3398: 395, 2000: 396, 4490: 397, 4141: 398, 152: 399, 2778: 400, 2479: 401, 2178: 402, 1633: 403, 4479: 404, 643: 405, 1058: 406, 575: 407, 3239: 408, 3975: 409, 1130: 410, 3743: 411, 4043: 412, 4364: 413, 3925: 414, 4260: 415, 2122: 416, 3354: 417, 2135: 418, 1704: 419, 1408: 420, 2452: 421, 3256: 422, 3491: 423, 4127: 424, 752: 425, 3000: 426, 2433: 427, 2394: 428, 2521: 429, 1884: 430, 1974: 431, 1582: 432, 723: 433, 2734: 434, 3840: 435, 2908: 436, 501: 437, 4320: 438, 550: 439, 4420: 440, 3225: 441, 118: 442, 1854: 443, 168: 444, 4219: 445, 2269: 446, 1200: 447, 1585: 448, 4078: 449, 77: 450, 3923: 451, 1654: 452, 1426: 453, 4031: 454, 1652: 455, 2862: 456, 494: 457, 3102: 458, 3960: 459, 2912: 460, 707: 461, 3999: 462, 133: 463, 3420: 464, 4418: 465, 732: 466, 689: 467, 329: 468, 2167: 469, 857: 470, 436: 471, 3276: 472, 1481: 473, 2443: 474, 1902: 475, 3773: 476, 1682: 477, 4392: 478, 3174: 479, 3017: 480, 33: 481, 4197: 482, 2699: 483, 2360: 484, 3266: 485, 3489: 486, 2212: 487, 3535: 488, 3544: 489, 2371: 490, 1359: 491, 2423: 492, 3816: 493, 3835: 494, 1741: 495, 4049: 496, 2920: 497, 3030: 498, 331: 499, 840: 500, 831: 501, 3368: 502, 4042: 503, 3563: 504, 2462: 505, 4488: 506, 2922: 507, 1291: 508, 199: 509, 4027: 510, 3830: 511, 4149: 512, 2186: 513, 811: 514, 4060: 515, 3095: 516, 1231: 517, 367: 518, 3728: 519, 2072: 520, 1703: 521, 2470: 522, 1399: 523, 3648: 524, 3082: 525, 658: 526, 468: 527, 2890: 528, 489: 529, 3515: 530, 3035: 531, 3932: 532, 443: 533, 1754: 534, 3348: 535, 2200: 536, 2386: 537, 1098: 538, 2814: 539, 3526: 540, 502: 541, 256: 542, 3972: 543, 3798: 544, 1066: 545, 4187: 546, 3159: 547, 2409: 548, 4427: 549, 1798: 550, 3355: 551, 3725: 552, 1180: 553, 3920: 554, 2375: 555, 2173: 556, 1845: 557, 4331: 558, 3624: 559, 1011: 560, 3466: 561, 3612: 562, 334: 563, 395: 564, 2876: 565, 2782: 566, 1176: 567, 2095: 568, 97: 569, 3833: 570, 338: 571, 3626: 572, 2422: 573, 459: 574, 2362: 575, 3538: 576, 3680: 577, 3826: 578, 1819: 579, 2383: 580, 2519: 581, 3446: 582, 3858: 583, 3226: 584, 2498: 585, 1428: 586, 1901: 587, 517: 588, 2335: 589, 2456: 590, 1721: 591, 662: 592, 358: 593, 1116: 594, 2559: 595, 4089: 596, 2950: 597, 859: 598, 2813: 599, 749: 600, 44: 601, 3807: 602, 851: 603, 1969: 604, 2388: 605, 3147: 606, 2172: 607, 1561: 608, 2779: 609, 3509: 610, 3864: 611, 564: 612, 3295: 613, 3944: 614, 2112: 615, 3418: 616, 1963: 617, 3557: 618, 268: 619, 3875: 620, 344: 621, 3058: 622, 1722: 623, 1983: 624, 3638: 625, 2195: 626, 3782: 627, 3684: 628, 84: 629, 829: 630, 3812: 631, 2574: 632, 2548: 633, 759: 634, 1174: 635, 1645: 636, 3269: 637, 1632: 638, 3414: 639, 1637: 640, 3197: 641, 4441: 642, 3623: 643, 2189: 644, 2132: 645, 1848: 646, 2111: 647, 1832: 648, 2578: 649, 1365: 650, 3376: 651, 3686: 652, 4144: 653, 825: 654, 3397: 655, 3935: 656, 1100: 657, 1918: 658, 3310: 659, 224: 660, 3416: 661, 341: 662, 750: 663, 499: 664, 1096: 665, 1173: 666, 2955: 667, 818: 668, 1394: 669, 1971: 670, 3740: 671, 2139: 672, 1790: 673, 2755: 674, 896: 675, 1027: 676, 3116: 677, 3928: 678, 433: 679, 467: 680, 980: 681, 992: 682, 1756: 683, 2938: 684, 2680: 685, 2754: 686, 1278: 687, 3198: 688, 1370: 689, 1470: 690, 3938: 691, 886: 692, 2809: 693, 3085: 694, 1792: 695, 83: 696, 1151: 697, 3331: 698, 2314: 699, 108: 700, 1476: 701, 232: 702, 3312: 703, 4086: 704, 1226: 705, 961: 706, 1455: 707, 4072: 708, 2276: 709, 3434: 710, 3894: 711, 390: 712, 1299: 713, 4390: 714, 964: 715, 1719: 716, 897: 717, 1037: 718, 3590: 719, 3579: 720, 2528: 721, 2533: 722, 1661: 723, 1525: 724, 1495: 725, 1673: 726, 621: 727, 4393: 728, 1915: 729, 3321: 730, 4484: 731, 2040: 732, 3314: 733, 2448: 734, 4147: 735, 473: 736, 1602: 737, 1267: 738, 763: 739, 2217: 740, 1126: 741, 636: 742, 2047: 743, 1547: 744, 2558: 745, 1329: 746, 4287: 747, 1844: 748, 1175: 749, 3765: 750, 2505: 751, 672: 752, 1216: 753, 3513: 754, 3625: 755, 3787: 756, 4216: 757, 442: 758, 3481: 759, 1814: 760, 1840: 761, 189: 762, 4429: 763, 3020: 764, 2662: 765, 579: 766, 4411: 767, 2731: 768, 2460: 769, 78: 770, 2873: 771, 3015: 772, 3582: 773, 4474: 774, 1882: 775, 166: 776, 4064: 777, 2940: 778, 1771: 779, 2326: 780, 1443: 781, 4033: 782, 638: 783, 4185: 784, 2414: 785, 2853: 786, 4045: 787, 837: 788, 4402: 789, 1142: 790, 3150: 791, 2120: 792, 2300: 793, 1089: 794, 3437: 795, 1111: 796, 4386: 797, 641: 798, 1709: 799, 528: 800, 4290: 801, 2798: 802, 2495: 803, 1800: 804, 3098: 805, 2043: 806, 1861: 807, 4224: 808, 2654: 809, 3966: 810, 1642: 811, 3316: 812, 239: 813, 3221: 814, 1656: 815, 3324: 816, 2352: 817, 289: 818, 2109: 819, 2953: 820, 3391: 821, 4085: 822, 1689: 823, 1172: 824, 2329: 825, 4097: 826, 3887: 827, 1666: 828, 4483: 829, 3326: 830, 3469: 831, 4055: 832, 3496: 833, 3192: 834, 551: 835, 1923: 836, 670: 837, 1589: 838, 262: 839, 127: 840, 1976: 841, 615: 842, 2304: 843, 3369: 844, 2057: 845, 3333: 846, 1260: 847, 1788: 848, 4054: 849, 4346: 850, 588: 851, 1336: 852, 2551: 853, 216: 854, 3814: 855, 2965: 856, 1543: 857, 2897: 858, 3046: 859, 2181: 860, 629: 861, 3505: 862, 2129: 863, 1955: 864, 1646: 865, 3768: 866, 426: 867, 58: 868, 3408: 869, 4040: 870, 165: 871, 1528: 872, 4492: 873, 3404: 874, 1441: 875, 180: 876, 1521: 877, 2188: 878, 754: 879, 1129: 880, 4117: 881, 577: 882, 1017: 883, 507: 884, 2668: 885, 2640: 886, 311: 887, 2149: 888, 1068: 889, 3890: 890, 1760: 891, 381: 892, 3487: 893, 4328: 894, 1693: 895, 482: 896, 1765: 897, 600: 898, 4167: 899, 4352: 900, 2945: 901, 4253: 902, 1170: 903, 1638: 904, 3120: 905, 2016: 906, 1167: 907, 4179: 908, 1074: 909, 1503: 910, 2954: 911, 438: 912, 3907: 913, 3394: 914, 2523: 915, 3309: 916, 1707: 917, 2346: 918, 3275: 919, 4353: 920, 4485: 921, 3439: 922, 2385: 923, 990: 924, 1619: 925, 16: 926, 488: 927, 2701: 928, 3808: 929, 2228: 930, 677: 931, 2216: 932, 1700: 933, 3181: 934, 4465: 935, 3569: 936, 4109: 937, 1298: 938, 2693: 939, 4284: 940, 717: 941, 3862: 942, 652: 943, 2972: 944, 405: 945, 3804: 946, 1044: 947, 3794: 948, 3541: 949, 2712: 950, 4115: 951, 1318: 952, 2102: 953, 400: 954, 3525: 955, 4267: 956, 1524: 957, 1300: 958, 1060: 959, 3084: 960, 1925: 961, 3232: 962, 2376: 963, 3581: 964, 361: 965, 2279: 966, 2144: 967, 104: 968, 2411: 969, 3668: 970, 3670: 971, 4413: 972, 3475: 973, 2271: 974, 4146: 975, 2356: 976, 660: 977, 2471: 978, 156: 979, 1959: 980, 3703: 981, 999: 982, 1293: 983, 3334: 984, 3047: 985, 1392: 986, 408: 987, 4282: 988, 4214: 989, 676: 990, 953: 991, 3160: 992, 2889: 993, 1033: 994, 1890: 995, 2796: 996, 962: 997, 2692: 998, 4092: 999, 4442: 1000, 2340: 1001, 3879: 1002, 406: 1003, 881: 1004, 3796: 1005, 584: 1006, 799: 1007, 1221: 1008, 942: 1009, 201: 1010, 3958: 1011, 3183: 1012, 722: 1013, 1922: 1014, 2493: 1015, 993: 1016, 2944: 1017, 1833: 1018, 2080: 1019, 4289: 1020, 3810: 1021, 2435: 1022, 173: 1023, 642: 1024, 1851: 1025, 3077: 1026, 2795: 1027, 17: 1028, 1105: 1029, 1222: 1030, 2708: 1031, 2960: 1032, 1687: 1033, 3690: 1034, 3841: 1035, 934: 1036, 2078: 1037, 2791: 1038, 4173: 1039, 673: 1040, 3551: 1041, 3449: 1042, 1140: 1043, 2342: 1044, 445: 1045, 3323: 1046, 3013: 1047, 138: 1048, 659: 1049, 2783: 1050, 1395: 1051, 2572: 1052, 2949: 1053, 2705: 1054, 2408: 1055, 3747: 1056, 2176: 1057, 255: 1058, 425: 1059, 548: 1060, 316: 1061, 253: 1062, 3043: 1063, 1975: 1064, 4122: 1065, 2405: 1066, 2328: 1067, 730: 1068, 492: 1069, 185: 1070, 3716: 1071, 4387: 1072, 417: 1073, 996: 1074, 751: 1075, 4138: 1076, 3903: 1077, 4225: 1078, 3542: 1079, 110: 1080, 2482: 1081, 4374: 1082, 3978: 1083, 4281: 1084, 1552: 1085, 1595: 1086, 1708: 1087, 1853: 1088, 4450: 1089, 1032: 1090, 3615: 1091, 342: 1092, 1050: 1093, 3422: 1094, 2518: 1095, 2896: 1096, 516: 1097, 2711: 1098, 3423: 1099, 2108: 1100, 1201: 1101, 3736: 1102, 4405: 1103, 2254: 1104, 733: 1105, 2256: 1106, 1224: 1107, 4360: 1108, 3072: 1109, 238: 1110, 3529: 1111, 477: 1112, 686: 1113, 833: 1114, 2235: 1115, 1373: 1116, 3478: 1117, 3444: 1118, 2380: 1119, 3587: 1120, 952: 1121, 3262: 1122, 883: 1123, 1274: 1124, 4074: 1125, 898: 1126, 1599: 1127, 2916: 1128, 1363: 1129, 71: 1130, 3090: 1131, 2243: 1132, 3145: 1133, 2177: 1134, 3453: 1135, 2843: 1136, 486: 1137, 1104: 1138, 667: 1139, 1479: 1140, 4248: 1141, 3: 1142, 1665: 1143, 1728: 1144, 4398: 1145, 4383: 1146, 167: 1147, 3210: 1148, 2868: 1149, 3955: 1150, 3599: 1151, 1158: 1152, 668: 1153, 2900: 1154, 2114: 1155, 2789: 1156, 474: 1157, 3583: 1158, 774: 1159, 2331: 1160, 2316: 1161, 1558: 1162, 3227: 1163, 422: 1164, 4482: 1165, 2467: 1166, 362: 1167, 3593: 1168, 2687: 1169, 363: 1170, 2737: 1171, 2884: 1172, 681: 1173, 1432: 1174, 1277: 1175, 2988: 1176, 4067: 1177, 1208: 1178, 3283: 1179, 4298: 1180, 3510: 1181, 645: 1182, 657: 1183, 4283: 1184, 3854: 1185, 900: 1186, 1218: 1187, 1856: 1188, 2603: 1189, 2727: 1190, 3758: 1191, 1594: 1192, 1912: 1193, 8: 1194, 1134: 1195, 2601: 1196, 2104: 1197, 3306: 1198, 2663: 1199, 2182: 1200, 384: 1201, 2287: 1202, 432: 1203, 371: 1204, 2418: 1205, 3949: 1206, 3456: 1207, 1573: 1208, 682: 1209, 543: 1210, 4438: 1211, 919: 1212, 2266: 1213, 1075: 1214, 807: 1215, 4340: 1216, 2565: 1217, 1412: 1218, 3595: 1219, 2861: 1220, 3062: 1221, 1266: 1222, 2059: 1223, 2299: 1224, 1229: 1225, 1860: 1226, 2674: 1227, 2880: 1228, 776: 1229, 1401: 1230, 755: 1231, 6: 1232, 1121: 1233, 2622: 1234, 2585: 1235, 3710: 1236, 1999: 1237, 1314: 1238, 2478: 1239, 1193: 1240, 3220: 1241, 4012: 1242, 1256: 1243, 4370: 1244, 1061: 1245, 1768: 1246, 3573: 1247, 2899: 1248, 56: 1249, 3268: 1250, 2319: 1251, 3769: 1252, 3672: 1253, 2077: 1254, 2022: 1255, 122: 1256, 1243: 1257, 3662: 1258, 3301: 1259, 45: 1260, 1179: 1261, 2651: 1262, 1816: 1263, 2882: 1264, 3208: 1265, 171: 1266, 1139: 1267, 1766: 1268, 3530: 1269, 4299: 1270, 3026: 1271, 181: 1272, 3521: 1273, 2389: 1274, 3649: 1275, 3143: 1276, 3880: 1277, 76: 1278, 661: 1279, 2074: 1280, 2638: 1281, 1867: 1282, 3506: 1283, 242: 1284, 809: 1285, 1195: 1286, 178: 1287, 3111: 1288, 1780: 1289, 4478: 1290, 1834: 1291, 350: 1292, 1021: 1293, 3872: 1294, 2366: 1295, 505: 1296, 385: 1297, 748: 1298, 2338: 1299, 718: 1300, 3086: 1301, 880: 1302, 476: 1303, 1254: 1304, 894: 1305, 1600: 1306, 971: 1307, 2532: 1308, 414: 1309, 532: 1310, 4155: 1311, 1236: 1312, 2756: 1313, 4463: 1314, 2834: 1315, 1103: 1316, 569: 1317, 2738: 1318, 125: 1319, 2306: 1320, 1270: 1321, 3926: 1322, 3946: 1323, 2063: 1324, 4249: 1325, 511: 1326, 978: 1327, 471: 1328, 2341: 1329, 646: 1330, 3196: 1331, 1425: 1332, 2599: 1333, 2872: 1334, 1120: 1335, 3523: 1336, 4407: 1337, 2301: 1338, 582: 1339, 227: 1340, 1778: 1341, 3495: 1342, 1375: 1343, 4493: 1344, 3657: 1345, 4454: 1346, 4366: 1347, 429: 1348, 2981: 1349, 1252: 1350, 4489: 1351, 3421: 1352, 3313: 1353, 3390: 1354, 337: 1355, 3984: 1356, 1364: 1357, 3634: 1358, 4254: 1359, 1264: 1360, 451: 1361, 4394: 1362, 2013: 1363, 634: 1364, 977: 1365, 4052: 1366, 1694: 1367, 3965: 1368, 1203: 1369, 5: 1370, 931: 1371, 1138: 1372, 3237: 1373, 2180: 1374, 504: 1375, 1947: 1376, 3565: 1377, 1610: 1378, 3613: 1379, 1080: 1380, 1618: 1381, 994: 1382, 4198: 1383, 3451: 1384, 1191: 1385, 2051: 1386, 1450: 1387, 24: 1388, 1775: 1389, 3828: 1390, 1160: 1391, 2150: 1392, 4396: 1393, 2440: 1394, 251: 1395, 3524: 1396, 4166: 1397, 4285: 1398, 986: 1399, 1372: 1400, 2218: 1401, 1045: 1402, 2113: 1403, 3546: 1404, 596: 1405, 693: 1406, 3622: 1407, 46: 1408, 2262: 1409, 345: 1410, 2486: 1411, 2643: 1412, 2527: 1413, 2980: 1414, 680: 1415, 1759: 1416, 918: 1417, 586: 1418, 1956: 1419, 2175: 1420, 3207: 1421, 1022: 1422, 4184: 1423, 4189: 1424, 761: 1425, 52: 1426, 1801: 1427, 1607: 1428, 2974: 1429, 213: 1430, 2732: 1431, 3685: 1432, 3410: 1433, 26: 1434, 3766: 1435, 4119: 1436, 3532: 1437, 1043: 1438, 1092: 1439, 2020: 1440, 2006: 1441, 1234: 1442, 1660: 1443, 4201: 1444, 1276: 1445, 850: 1446, 3073: 1447, 3859: 1448, 1249: 1449, 3212: 1450, 4238: 1451, 398: 1452, 4354: 1453, 700: 1454, 631: 1455, 325: 1456, 2828: 1457, 1556: 1458, 2808: 1459, 3809: 1460, 452: 1461, 3993: 1462, 3223: 1463, 3005: 1464, 1346: 1465, 4278: 1466, 3081: 1467, 3775: 1468, 2370: 1469, 846: 1470, 1514: 1471, 1084: 1472, 1132: 1473, 4255: 1474, 394: 1475, 2989: 1476, 3384: 1477, 2093: 1478, 2647: 1479, 4177: 1480, 1664: 1481, 2529: 1482, 3152: 1483, 4460: 1484, 4011: 1485, 3405: 1486, 3076: 1487, 4229: 1488, 1773: 1489, 3642: 1490, 1734: 1491, 4381: 1492, 375: 1493, 947: 1494, 2472: 1495, 2226: 1496, 1913: 1497, 1839: 1498, 4150: 1499, 57: 1500, 1627: 1501, 2350: 1502, 561: 1503, 3124: 1504, 4336: 1505, 943: 1506, 281: 1507, 3347: 1508, 4268: 1509, 1031: 1510, 3442: 1511, 2520: 1512, 2513: 1513, 2420: 1514, 2967: 1515, 1155: 1516, 3863: 1517, 3696: 1518, 2288: 1519, 3163: 1520, 3272: 1521, 3335: 1522, 1352: 1523, 2921: 1524, 1055: 1525, 3419: 1526, 2610: 1527, 4069: 1528, 725: 1529, 4247: 1530, 4377: 1531, 2097: 1532, 3667: 1533, 4237: 1534, 2339: 1535, 1807: 1536, 4372: 1537, 1821: 1538, 960: 1539, 685: 1540, 2023: 1541, 4131: 1542, 2407: 1543, 2857: 1544, 3374: 1545, 1157: 1546, 2503: 1547, 208: 1548, 430: 1549, 2033: 1550, 356: 1551, 3763: 1552, 1749: 1553, 731: 1554, 25: 1555, 2431: 1556, 4163: 1557, 2831: 1558, 4106: 1559, 2994: 1560, 2337: 1561, 4414: 1562, 1658: 1563, 3943: 1564, 1238: 1565, 4168: 1566, 368: 1567, 4291: 1568, 1282: 1569, 454: 1570, 1389: 1571, 2684: 1572, 3264: 1573, 518: 1574, 3567: 1575, 2658: 1576, 555: 1577, 762: 1578, 560: 1579, 1297: 1580, 3970: 1581, 304: 1582, 1292: 1583, 2769: 1584, 2310: 1585, 4456: 1586, 3927: 1587, 1911: 1588, 2512: 1589, 3896: 1590, 485: 1591, 4010: 1592, 1998: 1593, 2410: 1594, 4279: 1595, 1802: 1596, 907: 1597, 1878: 1598, 2103: 1599, 2510: 1600, 2130: 1601, 2285: 1602, 2724: 1603, 475: 1604, 2101: 1605, 1316: 1606, 3023: 1607, 431: 1608, 4103: 1609, 1631: 1610, 3305: 1611, 602: 1612, 3886: 1613, 2096: 1614, 225: 1615, 1051: 1616, 126: 1617, 4005: 1618, 760: 1619, 48: 1620, 595: 1621, 982: 1622, 624: 1623, 4308: 1624, 2424: 1625, 1004: 1626, 2213: 1627, 1513: 1628, 2203: 1629, 4367: 1630, 2524: 1631, 2801: 1632, 3215: 1633, 4124: 1634, 3976: 1635, 1114: 1636, 1323: 1637, 3714: 1638, 2927: 1639, 871: 1640, 3184: 1641, 2962: 1642, 1526: 1643, 4385: 1644, 4244: 1645, 1739: 1646, 1460: 1647, 3746: 1648, 1606: 1649, 2168: 1650, 3733: 1651, 1500: 1652, 4468: 1653, 3749: 1654, 2374: 1655, 116: 1656, 1804: 1657, 1041: 1658, 3229: 1659, 1581: 1660, 3889: 1661, 1991: 1662, 3608: 1663, 3029: 1664, 4419: 1665, 386: 1666, 206: 1667, 4415: 1668, 724: 1669, 2317: 1670, 1917: 1671, 4165: 1672, 3057: 1673, 3122: 1674, 2749: 1675, 4327: 1676, 410: 1677, 2463: 1678, 889: 1679, 1447: 1680, 2398: 1681, 360: 1682, 3533: 1683, 3998: 1684, 2958: 1685, 1507: 1686, 832: 1687, 3010: 1688, 188: 1689, 3911: 1690, 3438: 1691, 1409: 1692, 1118: 1693, 3559: 1694, 949: 1695, 1926: 1696, 2127: 1697, 3591: 1698, 2893: 1699, 1067: 1700, 1987: 1701, 3455: 1702, 2155: 1703, 1818: 1704, 873: 1705, 113: 1706, 2686: 1707, 895: 1708, 3129: 1709, 2659: 1710, 288: 1711, 2568: 1712, 3367: 1713, 1471: 1714, 3882: 1715, 3847: 1716, 4161: 1717, 2870: 1718, 3881: 1719, 418: 1720, 1941: 1721, 68: 1722, 3778: 1723, 4068: 1724, 297: 1725, 4164: 1726, 1485: 1727, 4263: 1728, 3759: 1729, 1596: 1730, 3986: 1731, 3242: 1732, 3934: 1733, 2384: 1734, 3461: 1735, 2939: 1736, 81: 1737, 1613: 1738, 2019: 1739, 1296: 1740}\n"
          ]
        }
      ]
    },
    {
      "cell_type": "code",
      "execution_count": 42,
      "metadata": {
        "id": "4vjVBUM724Gj"
      },
      "outputs": [],
      "source": [
        "# use dataframe map function to map users & movies to mapped ids based on above mapping\n",
        "train_user_data = df_train['User'].map(user_id_mapping)\n",
        "train_movie_data = df_train['Movie'].map(movie_id_mapping)"
      ]
    },
    {
      "cell_type": "code",
      "source": [
        "#print(df_train.head())\n",
        "print(train_user_data)\n",
        "print(train_movie_data)"
      ],
      "metadata": {
        "colab": {
          "base_uri": "https://localhost:8080/"
        },
        "id": "ahRcFQh7wpG5",
        "outputId": "de719942-36a3-4d7b-bd30-d6a81bff8e41"
      },
      "execution_count": 43,
      "outputs": [
        {
          "output_type": "stream",
          "name": "stdout",
          "text": [
            "0              0\n",
            "1              1\n",
            "2              2\n",
            "3              3\n",
            "4              4\n",
            "           ...  \n",
            "5830576     6306\n",
            "5830577    14374\n",
            "5830578     7475\n",
            "5830579    13353\n",
            "5830580     7768\n",
            "Name: User, Length: 5830581, dtype: int64\n",
            "0            0\n",
            "1            1\n",
            "2            2\n",
            "3            3\n",
            "4            4\n",
            "          ... \n",
            "5830576    175\n",
            "5830577    328\n",
            "5830578    252\n",
            "5830579    658\n",
            "5830580    634\n",
            "Name: Movie, Length: 5830581, dtype: int64\n"
          ]
        }
      ]
    },
    {
      "cell_type": "code",
      "execution_count": 44,
      "metadata": {
        "id": "_lpKylKD24Gl"
      },
      "outputs": [],
      "source": [
        "# do the same for test data\n",
        "test_user_data = df_test['User'].map(user_id_mapping)\n",
        "test_movie_data = df_test['Movie'].map(movie_id_mapping)"
      ]
    },
    {
      "cell_type": "code",
      "execution_count": 45,
      "metadata": {
        "id": "GME8vJLp24Gn"
      },
      "outputs": [],
      "source": [
        "# Get input variable-sizes\n",
        "users = len(user_id_mapping)\n",
        "movies = len(movie_id_mapping)\n",
        "embedding_size = 100"
      ]
    },
    {
      "cell_type": "markdown",
      "metadata": {
        "id": "enO8VNVP24Gp"
      },
      "source": [
        "#### Construct Deep Learning Model Architecture"
      ]
    },
    {
      "cell_type": "code",
      "execution_count": 46,
      "metadata": {
        "id": "GSXpYgst24Gq"
      },
      "outputs": [],
      "source": [
        "# use Input() to create tensors for - 'user' and 'movie'\n",
        "user_id_input = Input(shape=(1,), name='user')\n",
        "movie_id_input = Input(shape=(1,), name=\"movie\")"
      ]
    },
    {
      "cell_type": "code",
      "execution_count": 47,
      "metadata": {
        "id": "gdV4lJri24Gs"
      },
      "outputs": [],
      "source": [
        "# Create embedding layer for users \n",
        "user_embedding = Embedding(output_dim=embedding_size, \n",
        "                           input_dim=users,\n",
        "                           input_length=1, \n",
        "                           name='user_embedding')(user_id_input)\n",
        "\n",
        "# create embedding layer for movies just like users\n",
        "movie_embedding = Embedding(output_dim=embedding_size, \n",
        "                           input_dim=movies,\n",
        "                           input_length=1, \n",
        "                           name='movie_embedding')(movie_id_input)"
      ]
    },
    {
      "cell_type": "code",
      "execution_count": 48,
      "metadata": {
        "id": "cLpdb0pu24Gu"
      },
      "outputs": [],
      "source": [
        "# Reshape the embedding layers\n",
        "user_vector = Reshape([embedding_size])(user_embedding)\n",
        "movie_vector = Reshape([embedding_size])(movie_embedding)"
      ]
    },
    {
      "cell_type": "code",
      "execution_count": 49,
      "metadata": {
        "id": "S-RxXy5B24Gw"
      },
      "outputs": [],
      "source": [
        "# Compute dot-product of reshaped embedding layers as prediction\n",
        "y = Dot(1, normalize=False)([user_vector, movie_vector])"
      ]
    },
    {
      "cell_type": "code",
      "execution_count": 50,
      "metadata": {
        "id": "5wWeeSfR24Gy",
        "colab": {
          "base_uri": "https://localhost:8080/"
        },
        "outputId": "e76df5e4-ffcf-4af5-8a51-fd0fce6533e9"
      },
      "outputs": [
        {
          "output_type": "stream",
          "name": "stdout",
          "text": [
            "Model: \"model\"\n",
            "__________________________________________________________________________________________________\n",
            " Layer (type)                   Output Shape         Param #     Connected to                     \n",
            "==================================================================================================\n",
            " user (InputLayer)              [(None, 1)]          0           []                               \n",
            "                                                                                                  \n",
            " movie (InputLayer)             [(None, 1)]          0           []                               \n",
            "                                                                                                  \n",
            " user_embedding (Embedding)     (None, 1, 100)       2082800     ['user[0][0]']                   \n",
            "                                                                                                  \n",
            " movie_embedding (Embedding)    (None, 1, 100)       174100      ['movie[0][0]']                  \n",
            "                                                                                                  \n",
            " reshape (Reshape)              (None, 100)          0           ['user_embedding[0][0]']         \n",
            "                                                                                                  \n",
            " reshape_1 (Reshape)            (None, 100)          0           ['movie_embedding[0][0]']        \n",
            "                                                                                                  \n",
            " dot (Dot)                      (None, 1)            0           ['reshape[0][0]',                \n",
            "                                                                  'reshape_1[0][0]']              \n",
            "                                                                                                  \n",
            "==================================================================================================\n",
            "Total params: 2,256,900\n",
            "Trainable params: 2,256,900\n",
            "Non-trainable params: 0\n",
            "__________________________________________________________________________________________________\n"
          ]
        }
      ],
      "source": [
        "# Setup model\n",
        "model = Model(inputs=[user_id_input, movie_id_input], outputs=y)\n",
        "model.compile(loss='mse', optimizer='adam')\n",
        "model.summary()"
      ]
    },
    {
      "cell_type": "markdown",
      "metadata": {
        "id": "g0COamq25owq"
      },
      "source": [
        "#### Train and Test the Model"
      ]
    },
    {
      "cell_type": "code",
      "execution_count": 51,
      "metadata": {
        "id": "nK6aBtQN24Gz",
        "colab": {
          "base_uri": "https://localhost:8080/"
        },
        "outputId": "2fddc1f4-72c0-4808-f61f-17185985b728"
      },
      "outputs": [
        {
          "output_type": "stream",
          "name": "stdout",
          "text": [
            "Epoch 1/5\n",
            "5125/5125 [==============================] - 17s 3ms/step - loss: 2.1091 - val_loss: 0.7774\n",
            "Epoch 2/5\n",
            "5125/5125 [==============================] - 13s 3ms/step - loss: 0.7375 - val_loss: 0.7263\n",
            "Epoch 3/5\n",
            "5125/5125 [==============================] - 13s 3ms/step - loss: 0.6734 - val_loss: 0.6993\n",
            "Epoch 4/5\n",
            "5125/5125 [==============================] - 14s 3ms/step - loss: 0.6114 - val_loss: 0.6893\n",
            "Epoch 5/5\n",
            "5125/5125 [==============================] - 14s 3ms/step - loss: 0.5482 - val_loss: 0.6997\n"
          ]
        },
        {
          "output_type": "execute_result",
          "data": {
            "text/plain": [
              "<keras.callbacks.History at 0x7fc77837ac10>"
            ]
          },
          "metadata": {},
          "execution_count": 51
        }
      ],
      "source": [
        "# Fit model\n",
        "X = [train_user_data, train_movie_data]\n",
        "y = df_train['Rating']\n",
        "\n",
        "batch_size = 1024\n",
        "epochs = 5\n",
        "validation_split = 0.1\n",
        "\n",
        "model.fit(X, y,\n",
        "          batch_size=batch_size, \n",
        "          epochs=epochs,\n",
        "          validation_split=validation_split,\n",
        "          shuffle=True,\n",
        "          verbose=1)"
      ]
    },
    {
      "cell_type": "code",
      "execution_count": 52,
      "metadata": {
        "id": "RZLw4PX3AUkz",
        "colab": {
          "base_uri": "https://localhost:8080/"
        },
        "outputId": "cd9301fc-2877-4542-a4c0-76fa95ce946f"
      },
      "outputs": [
        {
          "output_type": "stream",
          "name": "stdout",
          "text": [
            "\n",
            "\n",
            "Testing Result With DL Matrix-Factorization: 0.8350 RMSE\n"
          ]
        }
      ],
      "source": [
        "# Test model by making predictions on test data\n",
        "y_pred = model.predict([test_user_data, test_movie_data]).ravel()\n",
        "# clip upper and lower ratings\n",
        "y_pred = list(map(lambda x: 1.0 if x < 1 else 5.0 if x > 5.0 else x, y_pred))\n",
        "# get true labels\n",
        "y_true = df_test['Rating'].values\n",
        "\n",
        "#  Compute RMSE\n",
        "rmse = np.sqrt(mean_squared_error(y_pred=y_pred, y_true=y_true))\n",
        "print('\\n\\nTesting Result With DL Matrix-Factorization: {:.4f} RMSE'.format(rmse))"
      ]
    },
    {
      "cell_type": "code",
      "execution_count": 53,
      "metadata": {
        "id": "oAX4MABlCm-9",
        "colab": {
          "base_uri": "https://localhost:8080/",
          "height": 677
        },
        "outputId": "f0eec925-28b8-46c2-f496-a10a1976dfab"
      },
      "outputs": [
        {
          "output_type": "execute_result",
          "data": {
            "text/plain": [
              "    User ID  Movie ID                                         Movie Name  \\\n",
              "0      2878       831                                Tupac: Resurrection   \n",
              "1      7268      1084                                      Bright Leaves   \n",
              "2     15939        13                                 Nature: Antarctica   \n",
              "3      3260       335                                         The Driver   \n",
              "4      3184       302                           Les Liaisons Dangereuses   \n",
              "5     19895       842                                     Mansfield Park   \n",
              "6      7639      1156                                        Chinese Box   \n",
              "7     14133       264  The Jeff Corwin Experience: Costa Rica and the...   \n",
              "8     20580       332                    Mail Call: The Best of Season 2   \n",
              "9     16537        97              The Battle of Algiers: Bonus Material   \n",
              "10    13111       757                                         Mean Girls   \n",
              "11    19756       358                      Absolutely Fabulous: Series 5   \n",
              "12    16358        34                    Ferngully 2: The Magical Rescue   \n",
              "13    15762      1250                                       Frankenthumb   \n",
              "14    16275       327                           Deftones: Live in Hawaii   \n",
              "15    12882      1585     Marihuana / Assassin of Youth / Reefer Madness   \n",
              "16      384       396                              A Night in Casablanca   \n",
              "17    19698       563                                         Predator 2   \n",
              "18    16232       732                                       Dead Ringers   \n",
              "19      996       505                Blank Generation / Dancin' Barefoot   \n",
              "\n",
              "    Predicted Rating  Actual Rating  \n",
              "0                3.9            3.0  \n",
              "1                4.1            3.0  \n",
              "2                3.5            4.0  \n",
              "3                2.6            1.0  \n",
              "4                2.8            2.0  \n",
              "5                3.4            3.0  \n",
              "6                4.1            4.0  \n",
              "7                3.9            3.0  \n",
              "8                3.6            4.0  \n",
              "9                3.3            4.0  \n",
              "10               2.9            4.0  \n",
              "11               5.0            5.0  \n",
              "12               3.5            3.0  \n",
              "13               3.6            5.0  \n",
              "14               2.8            4.0  \n",
              "15               3.6            4.0  \n",
              "16               3.2            3.0  \n",
              "17               3.8            2.0  \n",
              "18               4.4            5.0  \n",
              "19               5.0            4.0  "
            ],
            "text/html": [
              "\n",
              "  <div id=\"df-c3a7c1f7-6127-4642-b5d1-754bc0cf734b\">\n",
              "    <div class=\"colab-df-container\">\n",
              "      <div>\n",
              "<style scoped>\n",
              "    .dataframe tbody tr th:only-of-type {\n",
              "        vertical-align: middle;\n",
              "    }\n",
              "\n",
              "    .dataframe tbody tr th {\n",
              "        vertical-align: top;\n",
              "    }\n",
              "\n",
              "    .dataframe thead th {\n",
              "        text-align: right;\n",
              "    }\n",
              "</style>\n",
              "<table border=\"1\" class=\"dataframe\">\n",
              "  <thead>\n",
              "    <tr style=\"text-align: right;\">\n",
              "      <th></th>\n",
              "      <th>User ID</th>\n",
              "      <th>Movie ID</th>\n",
              "      <th>Movie Name</th>\n",
              "      <th>Predicted Rating</th>\n",
              "      <th>Actual Rating</th>\n",
              "    </tr>\n",
              "  </thead>\n",
              "  <tbody>\n",
              "    <tr>\n",
              "      <th>0</th>\n",
              "      <td>2878</td>\n",
              "      <td>831</td>\n",
              "      <td>Tupac: Resurrection</td>\n",
              "      <td>3.9</td>\n",
              "      <td>3.0</td>\n",
              "    </tr>\n",
              "    <tr>\n",
              "      <th>1</th>\n",
              "      <td>7268</td>\n",
              "      <td>1084</td>\n",
              "      <td>Bright Leaves</td>\n",
              "      <td>4.1</td>\n",
              "      <td>3.0</td>\n",
              "    </tr>\n",
              "    <tr>\n",
              "      <th>2</th>\n",
              "      <td>15939</td>\n",
              "      <td>13</td>\n",
              "      <td>Nature: Antarctica</td>\n",
              "      <td>3.5</td>\n",
              "      <td>4.0</td>\n",
              "    </tr>\n",
              "    <tr>\n",
              "      <th>3</th>\n",
              "      <td>3260</td>\n",
              "      <td>335</td>\n",
              "      <td>The Driver</td>\n",
              "      <td>2.6</td>\n",
              "      <td>1.0</td>\n",
              "    </tr>\n",
              "    <tr>\n",
              "      <th>4</th>\n",
              "      <td>3184</td>\n",
              "      <td>302</td>\n",
              "      <td>Les Liaisons Dangereuses</td>\n",
              "      <td>2.8</td>\n",
              "      <td>2.0</td>\n",
              "    </tr>\n",
              "    <tr>\n",
              "      <th>5</th>\n",
              "      <td>19895</td>\n",
              "      <td>842</td>\n",
              "      <td>Mansfield Park</td>\n",
              "      <td>3.4</td>\n",
              "      <td>3.0</td>\n",
              "    </tr>\n",
              "    <tr>\n",
              "      <th>6</th>\n",
              "      <td>7639</td>\n",
              "      <td>1156</td>\n",
              "      <td>Chinese Box</td>\n",
              "      <td>4.1</td>\n",
              "      <td>4.0</td>\n",
              "    </tr>\n",
              "    <tr>\n",
              "      <th>7</th>\n",
              "      <td>14133</td>\n",
              "      <td>264</td>\n",
              "      <td>The Jeff Corwin Experience: Costa Rica and the...</td>\n",
              "      <td>3.9</td>\n",
              "      <td>3.0</td>\n",
              "    </tr>\n",
              "    <tr>\n",
              "      <th>8</th>\n",
              "      <td>20580</td>\n",
              "      <td>332</td>\n",
              "      <td>Mail Call: The Best of Season 2</td>\n",
              "      <td>3.6</td>\n",
              "      <td>4.0</td>\n",
              "    </tr>\n",
              "    <tr>\n",
              "      <th>9</th>\n",
              "      <td>16537</td>\n",
              "      <td>97</td>\n",
              "      <td>The Battle of Algiers: Bonus Material</td>\n",
              "      <td>3.3</td>\n",
              "      <td>4.0</td>\n",
              "    </tr>\n",
              "    <tr>\n",
              "      <th>10</th>\n",
              "      <td>13111</td>\n",
              "      <td>757</td>\n",
              "      <td>Mean Girls</td>\n",
              "      <td>2.9</td>\n",
              "      <td>4.0</td>\n",
              "    </tr>\n",
              "    <tr>\n",
              "      <th>11</th>\n",
              "      <td>19756</td>\n",
              "      <td>358</td>\n",
              "      <td>Absolutely Fabulous: Series 5</td>\n",
              "      <td>5.0</td>\n",
              "      <td>5.0</td>\n",
              "    </tr>\n",
              "    <tr>\n",
              "      <th>12</th>\n",
              "      <td>16358</td>\n",
              "      <td>34</td>\n",
              "      <td>Ferngully 2: The Magical Rescue</td>\n",
              "      <td>3.5</td>\n",
              "      <td>3.0</td>\n",
              "    </tr>\n",
              "    <tr>\n",
              "      <th>13</th>\n",
              "      <td>15762</td>\n",
              "      <td>1250</td>\n",
              "      <td>Frankenthumb</td>\n",
              "      <td>3.6</td>\n",
              "      <td>5.0</td>\n",
              "    </tr>\n",
              "    <tr>\n",
              "      <th>14</th>\n",
              "      <td>16275</td>\n",
              "      <td>327</td>\n",
              "      <td>Deftones: Live in Hawaii</td>\n",
              "      <td>2.8</td>\n",
              "      <td>4.0</td>\n",
              "    </tr>\n",
              "    <tr>\n",
              "      <th>15</th>\n",
              "      <td>12882</td>\n",
              "      <td>1585</td>\n",
              "      <td>Marihuana / Assassin of Youth / Reefer Madness</td>\n",
              "      <td>3.6</td>\n",
              "      <td>4.0</td>\n",
              "    </tr>\n",
              "    <tr>\n",
              "      <th>16</th>\n",
              "      <td>384</td>\n",
              "      <td>396</td>\n",
              "      <td>A Night in Casablanca</td>\n",
              "      <td>3.2</td>\n",
              "      <td>3.0</td>\n",
              "    </tr>\n",
              "    <tr>\n",
              "      <th>17</th>\n",
              "      <td>19698</td>\n",
              "      <td>563</td>\n",
              "      <td>Predator 2</td>\n",
              "      <td>3.8</td>\n",
              "      <td>2.0</td>\n",
              "    </tr>\n",
              "    <tr>\n",
              "      <th>18</th>\n",
              "      <td>16232</td>\n",
              "      <td>732</td>\n",
              "      <td>Dead Ringers</td>\n",
              "      <td>4.4</td>\n",
              "      <td>5.0</td>\n",
              "    </tr>\n",
              "    <tr>\n",
              "      <th>19</th>\n",
              "      <td>996</td>\n",
              "      <td>505</td>\n",
              "      <td>Blank Generation / Dancin' Barefoot</td>\n",
              "      <td>5.0</td>\n",
              "      <td>4.0</td>\n",
              "    </tr>\n",
              "  </tbody>\n",
              "</table>\n",
              "</div>\n",
              "      <button class=\"colab-df-convert\" onclick=\"convertToInteractive('df-c3a7c1f7-6127-4642-b5d1-754bc0cf734b')\"\n",
              "              title=\"Convert this dataframe to an interactive table.\"\n",
              "              style=\"display:none;\">\n",
              "        \n",
              "  <svg xmlns=\"http://www.w3.org/2000/svg\" height=\"24px\"viewBox=\"0 0 24 24\"\n",
              "       width=\"24px\">\n",
              "    <path d=\"M0 0h24v24H0V0z\" fill=\"none\"/>\n",
              "    <path d=\"M18.56 5.44l.94 2.06.94-2.06 2.06-.94-2.06-.94-.94-2.06-.94 2.06-2.06.94zm-11 1L8.5 8.5l.94-2.06 2.06-.94-2.06-.94L8.5 2.5l-.94 2.06-2.06.94zm10 10l.94 2.06.94-2.06 2.06-.94-2.06-.94-.94-2.06-.94 2.06-2.06.94z\"/><path d=\"M17.41 7.96l-1.37-1.37c-.4-.4-.92-.59-1.43-.59-.52 0-1.04.2-1.43.59L10.3 9.45l-7.72 7.72c-.78.78-.78 2.05 0 2.83L4 21.41c.39.39.9.59 1.41.59.51 0 1.02-.2 1.41-.59l7.78-7.78 2.81-2.81c.8-.78.8-2.07 0-2.86zM5.41 20L4 18.59l7.72-7.72 1.47 1.35L5.41 20z\"/>\n",
              "  </svg>\n",
              "      </button>\n",
              "      \n",
              "  <style>\n",
              "    .colab-df-container {\n",
              "      display:flex;\n",
              "      flex-wrap:wrap;\n",
              "      gap: 12px;\n",
              "    }\n",
              "\n",
              "    .colab-df-convert {\n",
              "      background-color: #E8F0FE;\n",
              "      border: none;\n",
              "      border-radius: 50%;\n",
              "      cursor: pointer;\n",
              "      display: none;\n",
              "      fill: #1967D2;\n",
              "      height: 32px;\n",
              "      padding: 0 0 0 0;\n",
              "      width: 32px;\n",
              "    }\n",
              "\n",
              "    .colab-df-convert:hover {\n",
              "      background-color: #E2EBFA;\n",
              "      box-shadow: 0px 1px 2px rgba(60, 64, 67, 0.3), 0px 1px 3px 1px rgba(60, 64, 67, 0.15);\n",
              "      fill: #174EA6;\n",
              "    }\n",
              "\n",
              "    [theme=dark] .colab-df-convert {\n",
              "      background-color: #3B4455;\n",
              "      fill: #D2E3FC;\n",
              "    }\n",
              "\n",
              "    [theme=dark] .colab-df-convert:hover {\n",
              "      background-color: #434B5C;\n",
              "      box-shadow: 0px 1px 3px 1px rgba(0, 0, 0, 0.15);\n",
              "      filter: drop-shadow(0px 1px 2px rgba(0, 0, 0, 0.3));\n",
              "      fill: #FFFFFF;\n",
              "    }\n",
              "  </style>\n",
              "\n",
              "      <script>\n",
              "        const buttonEl =\n",
              "          document.querySelector('#df-c3a7c1f7-6127-4642-b5d1-754bc0cf734b button.colab-df-convert');\n",
              "        buttonEl.style.display =\n",
              "          google.colab.kernel.accessAllowed ? 'block' : 'none';\n",
              "\n",
              "        async function convertToInteractive(key) {\n",
              "          const element = document.querySelector('#df-c3a7c1f7-6127-4642-b5d1-754bc0cf734b');\n",
              "          const dataTable =\n",
              "            await google.colab.kernel.invokeFunction('convertToInteractive',\n",
              "                                                     [key], {});\n",
              "          if (!dataTable) return;\n",
              "\n",
              "          const docLinkHtml = 'Like what you see? Visit the ' +\n",
              "            '<a target=\"_blank\" href=https://colab.research.google.com/notebooks/data_table.ipynb>data table notebook</a>'\n",
              "            + ' to learn more about interactive tables.';\n",
              "          element.innerHTML = '';\n",
              "          dataTable['output_type'] = 'display_data';\n",
              "          await google.colab.output.renderOutput(dataTable, element);\n",
              "          const docLink = document.createElement('div');\n",
              "          docLink.innerHTML = docLinkHtml;\n",
              "          element.appendChild(docLink);\n",
              "        }\n",
              "      </script>\n",
              "    </div>\n",
              "  </div>\n",
              "  "
            ]
          },
          "metadata": {},
          "execution_count": 53
        }
      ],
      "source": [
        "## Let's see how our collaborative model performs by seeing the predicted and actual rating for the given user and movie pair\n",
        "results_df = pd.DataFrame({\n",
        "    'User ID': test_user_data.values,\n",
        "    'Movie ID': test_movie_data.values,\n",
        "    'Movie Name': [movie_titles['Name'].iloc[item] for item in test_movie_data],\n",
        "    'Predicted Rating': np.round(y_pred, 1),\n",
        "    'Actual Rating': y_true\n",
        "})\n",
        "\n",
        "results_df.head(20)"
      ]
    },
    {
      "cell_type": "markdown",
      "metadata": {
        "id": "Gaq-sJqpc_B_"
      },
      "source": [
        "## 8.4: Hybrid Recommendation System (Content & Collaborative)\n",
        "\n",
        "One advantage of deep learning models is, that movie-metadata can easily be added to the model.\n",
        "We will tf-idf transform the short description of all movies to a sparse vector. The model will learn to reduce the dimensionality of this vector and how to combine metadata with the embedding of the user-id and the movie-id. In this way we can add any additional metadata to our own recommender.\n",
        "These kind of hybrid systems can learn how to reduce the impact of the cold start problem.\n",
        "\n",
        "Deep learning models require lots of data to train and predict. To provide our model with more data, we will include the movie metadata as well. We will do the following:\n",
        "\n",
        "\n",
        "*   Use movie metadata to combine with user and movie matrices in order to get more data\n",
        "*   Use tf-idf transform to vectorize movie metadata (Sparse Layer)\n",
        "*   Create an embedding of the metadata 512 -> 256 \n",
        "*   Combine all embeddings for movie tf-idf vectors, user and ratings to arrive at a common embedding space (256 sized embeddings per entity)\n",
        "*   Use the embeddings to train the model and get predictions on the test data\n",
        "\n",
        "\n",
        "\n",
        "\n",
        "\n"
      ]
    },
    {
      "cell_type": "markdown",
      "metadata": {
        "id": "gw7fwxvQc4DV"
      },
      "source": [
        "### Additional Hints:\n",
        "\n",
        "Dense layer setup :\n",
        "[Dense](https://www.tensorflow.org/api_docs/python/tf/keras/layers/Dense#example_2)\n",
        "\n",
        "Create model using tf.keras API : \n",
        "[Model](https://www.tensorflow.org/api_docs/python/tf/keras/Model#used-in-the-notebooks)\n",
        "\n",
        "Compile model using : [Compile](https://www.tensorflow.org/api_docs/python/tf/keras/Model#compile)\n",
        "\n",
        "Fit model : \n",
        "[fit](https://www.tensorflow.org/api_docs/python/tf/keras/Model#fit)\n",
        "\n",
        "Predict accuracy: [mean_squared_error](https://scikit-learn.org/stable/modules/generated/sklearn.metrics.mean_squared_error.html)\n",
        "\n"
      ]
    },
    {
      "cell_type": "markdown",
      "metadata": {
        "id": "hINM6pCk3yKz"
      },
      "source": [
        "### Q8.3: Building a Deep Learning Hybrid Recommendation System\n",
        "\n",
        "We will be building the following hybrid deep learning recommendation model as scene in the following schematic.\n",
        "\n",
        "![](./images/hybrid-dl-model.png)\n",
        "\n",
        "__Your Turn:__ Fill in the necessary blank code snippets in the following sections to train your own DL hybrid recommendation system\n",
        "\n",
        "#### Create Configuration Parameters"
      ]
    },
    {
      "cell_type": "code",
      "execution_count": 54,
      "metadata": {
        "id": "QmOFI6gNZOYy"
      },
      "outputs": [],
      "source": [
        "# ceate a copy of the filtered data frame\n",
        "df_filtered_cp = df_filtered.copy(deep=True)"
      ]
    },
    {
      "cell_type": "code",
      "execution_count": 55,
      "metadata": {
        "id": "eknbQW6mHsKN"
      },
      "outputs": [],
      "source": [
        "# Create user- & movie-id mapping\n",
        "user_id_mapping = {id:i for i, id in enumerate(df_filtered_cp['User'].unique())}\n",
        "movie_id_mapping = {id:i for i, id in enumerate(df_filtered_cp['Movie'].unique())}"
      ]
    },
    {
      "cell_type": "code",
      "execution_count": 56,
      "metadata": {
        "id": "yLHTi2NsIEAM"
      },
      "outputs": [],
      "source": [
        "# use dataframe map function to map users & movies to mapped ids based on above mapping\n",
        "df_filtered_cp['User'] = df_filtered_cp['User'].map(user_id_mapping)\n",
        "df_filtered_cp['Movie'] = df_filtered_cp['Movie'].map(movie_id_mapping)"
      ]
    },
    {
      "cell_type": "markdown",
      "metadata": {
        "id": "fh1Bg5Q_38mF"
      },
      "source": [
        "#### Create Movie Description Dataset (Content)"
      ]
    },
    {
      "cell_type": "code",
      "execution_count": 57,
      "metadata": {
        "id": "CoAHPk1SIECT",
        "colab": {
          "base_uri": "https://localhost:8080/",
          "height": 255
        },
        "outputId": "3ff3fb9d-8557-4047-b3a8-1a602aa72424"
      },
      "outputs": [
        {
          "output_type": "stream",
          "name": "stdout",
          "text": [
            "Movie Description DF Shape: (6939, 1)\n"
          ]
        },
        {
          "output_type": "execute_result",
          "data": {
            "text/plain": [
              "                                                overview\n",
              "Id                                                      \n",
              "16182  daryl zero is a private investigator. along wi...\n",
              "15233  clear the runway for derek zoolander, vh1's th...\n",
              "1210   a newly arrived governor finds his province un...\n",
              "17631  in 1879, during the zulu wars, man of the peop...\n",
              "17631  as a child, ali neuman narrowly escaped being ..."
            ],
            "text/html": [
              "\n",
              "  <div id=\"df-3c3d71bd-c2e4-4678-91e9-a874ec63c97e\">\n",
              "    <div class=\"colab-df-container\">\n",
              "      <div>\n",
              "<style scoped>\n",
              "    .dataframe tbody tr th:only-of-type {\n",
              "        vertical-align: middle;\n",
              "    }\n",
              "\n",
              "    .dataframe tbody tr th {\n",
              "        vertical-align: top;\n",
              "    }\n",
              "\n",
              "    .dataframe thead th {\n",
              "        text-align: right;\n",
              "    }\n",
              "</style>\n",
              "<table border=\"1\" class=\"dataframe\">\n",
              "  <thead>\n",
              "    <tr style=\"text-align: right;\">\n",
              "      <th></th>\n",
              "      <th>overview</th>\n",
              "    </tr>\n",
              "    <tr>\n",
              "      <th>Id</th>\n",
              "      <th></th>\n",
              "    </tr>\n",
              "  </thead>\n",
              "  <tbody>\n",
              "    <tr>\n",
              "      <th>16182</th>\n",
              "      <td>daryl zero is a private investigator. along wi...</td>\n",
              "    </tr>\n",
              "    <tr>\n",
              "      <th>15233</th>\n",
              "      <td>clear the runway for derek zoolander, vh1's th...</td>\n",
              "    </tr>\n",
              "    <tr>\n",
              "      <th>1210</th>\n",
              "      <td>a newly arrived governor finds his province un...</td>\n",
              "    </tr>\n",
              "    <tr>\n",
              "      <th>17631</th>\n",
              "      <td>in 1879, during the zulu wars, man of the peop...</td>\n",
              "    </tr>\n",
              "    <tr>\n",
              "      <th>17631</th>\n",
              "      <td>as a child, ali neuman narrowly escaped being ...</td>\n",
              "    </tr>\n",
              "  </tbody>\n",
              "</table>\n",
              "</div>\n",
              "      <button class=\"colab-df-convert\" onclick=\"convertToInteractive('df-3c3d71bd-c2e4-4678-91e9-a874ec63c97e')\"\n",
              "              title=\"Convert this dataframe to an interactive table.\"\n",
              "              style=\"display:none;\">\n",
              "        \n",
              "  <svg xmlns=\"http://www.w3.org/2000/svg\" height=\"24px\"viewBox=\"0 0 24 24\"\n",
              "       width=\"24px\">\n",
              "    <path d=\"M0 0h24v24H0V0z\" fill=\"none\"/>\n",
              "    <path d=\"M18.56 5.44l.94 2.06.94-2.06 2.06-.94-2.06-.94-.94-2.06-.94 2.06-2.06.94zm-11 1L8.5 8.5l.94-2.06 2.06-.94-2.06-.94L8.5 2.5l-.94 2.06-2.06.94zm10 10l.94 2.06.94-2.06 2.06-.94-2.06-.94-.94-2.06-.94 2.06-2.06.94z\"/><path d=\"M17.41 7.96l-1.37-1.37c-.4-.4-.92-.59-1.43-.59-.52 0-1.04.2-1.43.59L10.3 9.45l-7.72 7.72c-.78.78-.78 2.05 0 2.83L4 21.41c.39.39.9.59 1.41.59.51 0 1.02-.2 1.41-.59l7.78-7.78 2.81-2.81c.8-.78.8-2.07 0-2.86zM5.41 20L4 18.59l7.72-7.72 1.47 1.35L5.41 20z\"/>\n",
              "  </svg>\n",
              "      </button>\n",
              "      \n",
              "  <style>\n",
              "    .colab-df-container {\n",
              "      display:flex;\n",
              "      flex-wrap:wrap;\n",
              "      gap: 12px;\n",
              "    }\n",
              "\n",
              "    .colab-df-convert {\n",
              "      background-color: #E8F0FE;\n",
              "      border: none;\n",
              "      border-radius: 50%;\n",
              "      cursor: pointer;\n",
              "      display: none;\n",
              "      fill: #1967D2;\n",
              "      height: 32px;\n",
              "      padding: 0 0 0 0;\n",
              "      width: 32px;\n",
              "    }\n",
              "\n",
              "    .colab-df-convert:hover {\n",
              "      background-color: #E2EBFA;\n",
              "      box-shadow: 0px 1px 2px rgba(60, 64, 67, 0.3), 0px 1px 3px 1px rgba(60, 64, 67, 0.15);\n",
              "      fill: #174EA6;\n",
              "    }\n",
              "\n",
              "    [theme=dark] .colab-df-convert {\n",
              "      background-color: #3B4455;\n",
              "      fill: #D2E3FC;\n",
              "    }\n",
              "\n",
              "    [theme=dark] .colab-df-convert:hover {\n",
              "      background-color: #434B5C;\n",
              "      box-shadow: 0px 1px 3px 1px rgba(0, 0, 0, 0.15);\n",
              "      filter: drop-shadow(0px 1px 2px rgba(0, 0, 0, 0.3));\n",
              "      fill: #FFFFFF;\n",
              "    }\n",
              "  </style>\n",
              "\n",
              "      <script>\n",
              "        const buttonEl =\n",
              "          document.querySelector('#df-3c3d71bd-c2e4-4678-91e9-a874ec63c97e button.colab-df-convert');\n",
              "        buttonEl.style.display =\n",
              "          google.colab.kernel.accessAllowed ? 'block' : 'none';\n",
              "\n",
              "        async function convertToInteractive(key) {\n",
              "          const element = document.querySelector('#df-3c3d71bd-c2e4-4678-91e9-a874ec63c97e');\n",
              "          const dataTable =\n",
              "            await google.colab.kernel.invokeFunction('convertToInteractive',\n",
              "                                                     [key], {});\n",
              "          if (!dataTable) return;\n",
              "\n",
              "          const docLinkHtml = 'Like what you see? Visit the ' +\n",
              "            '<a target=\"_blank\" href=https://colab.research.google.com/notebooks/data_table.ipynb>data table notebook</a>'\n",
              "            + ' to learn more about interactive tables.';\n",
              "          element.innerHTML = '';\n",
              "          dataTable['output_type'] = 'display_data';\n",
              "          await google.colab.output.renderOutput(dataTable, element);\n",
              "          const docLink = document.createElement('div');\n",
              "          docLink.innerHTML = docLinkHtml;\n",
              "          element.appendChild(docLink);\n",
              "        }\n",
              "      </script>\n",
              "    </div>\n",
              "  </div>\n",
              "  "
            ]
          },
          "metadata": {},
          "execution_count": 57
        }
      ],
      "source": [
        "# Preprocess metadata\n",
        "tmp_metadata = movie_metadata.copy()\n",
        "tmp_metadata.index = tmp_metadata.index.str.lower()\n",
        "\n",
        "# Preprocess titles\n",
        "tmp_titles = movie_titles.drop('Year', axis=1).copy()\n",
        "tmp_titles = tmp_titles.reset_index().set_index('Name')\n",
        "tmp_titles.index = tmp_titles.index.str.lower()\n",
        "\n",
        "# Combine titles and metadata\n",
        "df_id_descriptions = tmp_titles.join(tmp_metadata).dropna().set_index('Id')\n",
        "df_id_descriptions['overview'] = df_id_descriptions['overview'].str.lower()\n",
        "#del tmp_metadata,tmp_titles\n",
        "print('Movie Description DF Shape:', df_id_descriptions.shape)\n",
        "df_id_descriptions.tail()"
      ]
    },
    {
      "cell_type": "markdown",
      "metadata": {
        "id": "R7__gU8E44m-"
      },
      "source": [
        "#### Create User-Rating Filtered Dataset (Collaborative)\n",
        "\n",
        "Here we filter out movie-user-ratings where movies don't have descriptions (content)"
      ]
    },
    {
      "cell_type": "code",
      "execution_count": 58,
      "metadata": {
        "id": "w-NM3bV_JOG_",
        "colab": {
          "base_uri": "https://localhost:8080/",
          "height": 224
        },
        "outputId": "00b83e39-5e3d-468d-f62e-4bc52626a2ab"
      },
      "outputs": [
        {
          "output_type": "stream",
          "name": "stdout",
          "text": [
            "Movie-User-Rating DF Shape: (2351323, 3)\n"
          ]
        },
        {
          "output_type": "execute_result",
          "data": {
            "text/plain": [
              "   Movie  User  Rating\n",
              "0     12    12     4.0\n",
              "1     12   740     5.0\n",
              "2     12  1066     4.0\n",
              "3     12  1934     4.0\n",
              "4     12  2000     2.0"
            ],
            "text/html": [
              "\n",
              "  <div id=\"df-cbe8c45f-3ec4-4b33-9e56-d471cf8f800e\">\n",
              "    <div class=\"colab-df-container\">\n",
              "      <div>\n",
              "<style scoped>\n",
              "    .dataframe tbody tr th:only-of-type {\n",
              "        vertical-align: middle;\n",
              "    }\n",
              "\n",
              "    .dataframe tbody tr th {\n",
              "        vertical-align: top;\n",
              "    }\n",
              "\n",
              "    .dataframe thead th {\n",
              "        text-align: right;\n",
              "    }\n",
              "</style>\n",
              "<table border=\"1\" class=\"dataframe\">\n",
              "  <thead>\n",
              "    <tr style=\"text-align: right;\">\n",
              "      <th></th>\n",
              "      <th>Movie</th>\n",
              "      <th>User</th>\n",
              "      <th>Rating</th>\n",
              "    </tr>\n",
              "  </thead>\n",
              "  <tbody>\n",
              "    <tr>\n",
              "      <th>0</th>\n",
              "      <td>12</td>\n",
              "      <td>12</td>\n",
              "      <td>4.0</td>\n",
              "    </tr>\n",
              "    <tr>\n",
              "      <th>1</th>\n",
              "      <td>12</td>\n",
              "      <td>740</td>\n",
              "      <td>5.0</td>\n",
              "    </tr>\n",
              "    <tr>\n",
              "      <th>2</th>\n",
              "      <td>12</td>\n",
              "      <td>1066</td>\n",
              "      <td>4.0</td>\n",
              "    </tr>\n",
              "    <tr>\n",
              "      <th>3</th>\n",
              "      <td>12</td>\n",
              "      <td>1934</td>\n",
              "      <td>4.0</td>\n",
              "    </tr>\n",
              "    <tr>\n",
              "      <th>4</th>\n",
              "      <td>12</td>\n",
              "      <td>2000</td>\n",
              "      <td>2.0</td>\n",
              "    </tr>\n",
              "  </tbody>\n",
              "</table>\n",
              "</div>\n",
              "      <button class=\"colab-df-convert\" onclick=\"convertToInteractive('df-cbe8c45f-3ec4-4b33-9e56-d471cf8f800e')\"\n",
              "              title=\"Convert this dataframe to an interactive table.\"\n",
              "              style=\"display:none;\">\n",
              "        \n",
              "  <svg xmlns=\"http://www.w3.org/2000/svg\" height=\"24px\"viewBox=\"0 0 24 24\"\n",
              "       width=\"24px\">\n",
              "    <path d=\"M0 0h24v24H0V0z\" fill=\"none\"/>\n",
              "    <path d=\"M18.56 5.44l.94 2.06.94-2.06 2.06-.94-2.06-.94-.94-2.06-.94 2.06-2.06.94zm-11 1L8.5 8.5l.94-2.06 2.06-.94-2.06-.94L8.5 2.5l-.94 2.06-2.06.94zm10 10l.94 2.06.94-2.06 2.06-.94-2.06-.94-.94-2.06-.94 2.06-2.06.94z\"/><path d=\"M17.41 7.96l-1.37-1.37c-.4-.4-.92-.59-1.43-.59-.52 0-1.04.2-1.43.59L10.3 9.45l-7.72 7.72c-.78.78-.78 2.05 0 2.83L4 21.41c.39.39.9.59 1.41.59.51 0 1.02-.2 1.41-.59l7.78-7.78 2.81-2.81c.8-.78.8-2.07 0-2.86zM5.41 20L4 18.59l7.72-7.72 1.47 1.35L5.41 20z\"/>\n",
              "  </svg>\n",
              "      </button>\n",
              "      \n",
              "  <style>\n",
              "    .colab-df-container {\n",
              "      display:flex;\n",
              "      flex-wrap:wrap;\n",
              "      gap: 12px;\n",
              "    }\n",
              "\n",
              "    .colab-df-convert {\n",
              "      background-color: #E8F0FE;\n",
              "      border: none;\n",
              "      border-radius: 50%;\n",
              "      cursor: pointer;\n",
              "      display: none;\n",
              "      fill: #1967D2;\n",
              "      height: 32px;\n",
              "      padding: 0 0 0 0;\n",
              "      width: 32px;\n",
              "    }\n",
              "\n",
              "    .colab-df-convert:hover {\n",
              "      background-color: #E2EBFA;\n",
              "      box-shadow: 0px 1px 2px rgba(60, 64, 67, 0.3), 0px 1px 3px 1px rgba(60, 64, 67, 0.15);\n",
              "      fill: #174EA6;\n",
              "    }\n",
              "\n",
              "    [theme=dark] .colab-df-convert {\n",
              "      background-color: #3B4455;\n",
              "      fill: #D2E3FC;\n",
              "    }\n",
              "\n",
              "    [theme=dark] .colab-df-convert:hover {\n",
              "      background-color: #434B5C;\n",
              "      box-shadow: 0px 1px 3px 1px rgba(0, 0, 0, 0.15);\n",
              "      filter: drop-shadow(0px 1px 2px rgba(0, 0, 0, 0.3));\n",
              "      fill: #FFFFFF;\n",
              "    }\n",
              "  </style>\n",
              "\n",
              "      <script>\n",
              "        const buttonEl =\n",
              "          document.querySelector('#df-cbe8c45f-3ec4-4b33-9e56-d471cf8f800e button.colab-df-convert');\n",
              "        buttonEl.style.display =\n",
              "          google.colab.kernel.accessAllowed ? 'block' : 'none';\n",
              "\n",
              "        async function convertToInteractive(key) {\n",
              "          const element = document.querySelector('#df-cbe8c45f-3ec4-4b33-9e56-d471cf8f800e');\n",
              "          const dataTable =\n",
              "            await google.colab.kernel.invokeFunction('convertToInteractive',\n",
              "                                                     [key], {});\n",
              "          if (!dataTable) return;\n",
              "\n",
              "          const docLinkHtml = 'Like what you see? Visit the ' +\n",
              "            '<a target=\"_blank\" href=https://colab.research.google.com/notebooks/data_table.ipynb>data table notebook</a>'\n",
              "            + ' to learn more about interactive tables.';\n",
              "          element.innerHTML = '';\n",
              "          dataTable['output_type'] = 'display_data';\n",
              "          await google.colab.output.renderOutput(dataTable, element);\n",
              "          const docLink = document.createElement('div');\n",
              "          docLink.innerHTML = docLinkHtml;\n",
              "          element.appendChild(docLink);\n",
              "        }\n",
              "      </script>\n",
              "    </div>\n",
              "  </div>\n",
              "  "
            ]
          },
          "metadata": {},
          "execution_count": 58
        }
      ],
      "source": [
        "df_hybrid = (df_filtered_cp.set_index('Movie')\n",
        "               .join(df_id_descriptions)\n",
        "               .dropna()\n",
        "               .drop('overview', axis=1)\n",
        "               .reset_index().rename({'index':'Movie'}, \n",
        "                                      axis=1))\n",
        "print('Movie-User-Rating DF Shape:', df_hybrid.shape)\n",
        "df_hybrid.head()"
      ]
    },
    {
      "cell_type": "code",
      "execution_count": 88,
      "metadata": {
        "id": "j7CHcKM_JOOw",
        "colab": {
          "base_uri": "https://localhost:8080/"
        },
        "outputId": "15921754-1455-499b-9f27-d77f95157be0"
      },
      "outputs": [
        {
          "output_type": "execute_result",
          "data": {
            "text/plain": [
              "((2051323, 3), (300000, 3))"
            ]
          },
          "metadata": {},
          "execution_count": 88
        }
      ],
      "source": [
        "# Split train- & testset\n",
        "#n = 300000 #Had to reduce this to not blow up ram on the machine-inculding on google colab!\n",
        "#df_hybrid = df_hybrid.sample(frac=1).reset_index(drop=True)\n",
        "#df_hybrid_train = df_hybrid[0:200000]\n",
        "#df_hybrid_test = df_hybrid[200001:250000]\n",
        "#df_hybrid_train.shape, df_hybrid_test.shape\n",
        "\n",
        "\n",
        "# Split train- & testset\n",
        "n = 300000\n",
        "df_hybrid = df_hybrid.sample(frac=1).reset_index(drop=True)\n",
        "df_hybrid_train = df_hybrid[:-n]\n",
        "df_hybrid_test = df_hybrid[-n:]\n",
        "df_hybrid_train.shape, df_hybrid_test.shape"
      ]
    },
    {
      "cell_type": "markdown",
      "metadata": {
        "id": "k33OwrFO5RpF"
      },
      "source": [
        "#### Generate TFIDF Vectors for Train and Test Datasets (Movie Descriptions)"
      ]
    },
    {
      "cell_type": "code",
      "execution_count": 89,
      "metadata": {
        "id": "ZqiyhdelU775"
      },
      "outputs": [],
      "source": [
        "# Create tf-idf matrix for movie description vectors - HINT: check the overview column of df_id_description\n",
        "tfidf = TfidfVectorizer(stop_words='english')\n",
        "tfidf_hybrid = tfidf.fit_transform(df_id_descriptions['overview'])"
      ]
    },
    {
      "cell_type": "code",
      "execution_count": 90,
      "metadata": {
        "id": "RgxZz-0wU7-C"
      },
      "outputs": [],
      "source": [
        "# Get mapping from movie-ids to indices in tfidf-matrix\n",
        "movie_idx_mapping = {id:i for i, id in enumerate(df_id_descriptions.index)}"
      ]
    },
    {
      "cell_type": "code",
      "execution_count": 91,
      "metadata": {
        "id": "HemfBsDqU8AL",
        "colab": {
          "base_uri": "https://localhost:8080/"
        },
        "outputId": "9fdeac81-b064-451f-8ce5-700ca90ce14b"
      },
      "outputs": [
        {
          "output_type": "stream",
          "name": "stderr",
          "text": [
            "100%|██████████| 2051323/2051323 [02:32<00:00, 13459.82it/s]\n"
          ]
        },
        {
          "output_type": "execute_result",
          "data": {
            "text/plain": [
              "2051323"
            ]
          },
          "metadata": {},
          "execution_count": 91
        }
      ],
      "source": [
        "# get train data tfidf vectors\n",
        "train_tfidf = []\n",
        "\n",
        "# Iterate over all movie-ids and save the tfidf-vectors (sparse format for memory efficiency)\n",
        "for idx in tqdm(df_hybrid_train['Movie'].values):\n",
        "    index = movie_idx_mapping[idx]\n",
        "    train_tfidf.append(tfidf_hybrid[index])\n",
        "\n",
        "len(train_tfidf)"
      ]
    },
    {
      "cell_type": "code",
      "execution_count": 92,
      "metadata": {
        "id": "7AqgNsqrU8CZ",
        "colab": {
          "base_uri": "https://localhost:8080/"
        },
        "outputId": "7d9f6b16-3fcc-4cf2-c352-2cbdc6cc1775"
      },
      "outputs": [
        {
          "output_type": "stream",
          "name": "stderr",
          "text": [
            "100%|██████████| 300000/300000 [00:22<00:00, 13491.41it/s]\n"
          ]
        },
        {
          "output_type": "execute_result",
          "data": {
            "text/plain": [
              "300000"
            ]
          },
          "metadata": {},
          "execution_count": 92
        }
      ],
      "source": [
        "# get test data tfidf vectors\n",
        "test_tfidf = []\n",
        "\n",
        "# Iterate over all movie-ids and save the tfidf-vectors (sparse format for memory efficiency)\n",
        "for idx in tqdm(df_hybrid_test['Movie'].values):\n",
        "    index = movie_idx_mapping[idx]\n",
        "    test_tfidf.append(tfidf_hybrid[index])\n",
        "\n",
        "len(test_tfidf)"
      ]
    },
    {
      "cell_type": "code",
      "execution_count": 93,
      "metadata": {
        "id": "3dyKQnCNdQTc",
        "colab": {
          "base_uri": "https://localhost:8080/"
        },
        "outputId": "280ac920-02bc-4433-dcae-51d1e5698964"
      },
      "outputs": [
        {
          "output_type": "execute_result",
          "data": {
            "text/plain": [
              "((2051323, 24144), (300000, 24144))"
            ]
          },
          "metadata": {},
          "execution_count": 93
        }
      ],
      "source": [
        "# Stack the sparse matrices\n",
        "train_tfidf = vstack(train_tfidf)\n",
        "test_tfidf = vstack(test_tfidf)\n",
        "\n",
        "train_tfidf.shape, test_tfidf.shape"
      ]
    },
    {
      "cell_type": "code",
      "execution_count": 94,
      "metadata": {
        "id": "dMI3SxfNdwNQ",
        "colab": {
          "base_uri": "https://localhost:8080/"
        },
        "outputId": "1746ff84-f28d-4d1e-ceee-8fa0ae55234a"
      },
      "outputs": [
        {
          "output_type": "execute_result",
          "data": {
            "text/plain": [
              "scipy.sparse.csr.csr_matrix"
            ]
          },
          "metadata": {},
          "execution_count": 94
        }
      ],
      "source": [
        "type(train_tfidf)"
      ]
    },
    {
      "cell_type": "code",
      "source": [
        "train_tfidf.shape, test_tfidf.shape, tfidf_hybrid.shape"
      ],
      "metadata": {
        "colab": {
          "base_uri": "https://localhost:8080/"
        },
        "id": "MqcIxqLw89PK",
        "outputId": "4ea03058-7b4d-42b4-abc0-2c8d08277d34"
      },
      "execution_count": 95,
      "outputs": [
        {
          "output_type": "execute_result",
          "data": {
            "text/plain": [
              "((2051323, 24144), (300000, 24144), (6939, 24144))"
            ]
          },
          "metadata": {},
          "execution_count": 95
        }
      ]
    },
    {
      "cell_type": "code",
      "source": [
        "type(train_tfidf)"
      ],
      "metadata": {
        "colab": {
          "base_uri": "https://localhost:8080/"
        },
        "id": "AFgPevoB_xdU",
        "outputId": "b2fdeb3e-f954-422f-e7aa-59d69a936e8a"
      },
      "execution_count": 96,
      "outputs": [
        {
          "output_type": "execute_result",
          "data": {
            "text/plain": [
              "scipy.sparse.csr.csr_matrix"
            ]
          },
          "metadata": {},
          "execution_count": 96
        }
      ]
    },
    {
      "cell_type": "markdown",
      "metadata": {
        "id": "M4m5y7Zv5ZuK"
      },
      "source": [
        "This shows we are using sparse matrices to represent the vectors as dense vectors would typically give a out of memory error!"
      ]
    },
    {
      "cell_type": "markdown",
      "metadata": {
        "id": "rCZjFT6JeIDs"
      },
      "source": [
        "#### Construct Deep Learning Model Architecture"
      ]
    },
    {
      "cell_type": "code",
      "execution_count": 97,
      "metadata": {
        "id": "y_WYqzMpeJby"
      },
      "outputs": [],
      "source": [
        "# setup NN parameters\n",
        "user_embed_dim = 256\n",
        "movie_embed_dim = 256\n",
        "userid_input_shape = 1\n",
        "movieid_input_shape = 1\n",
        "tfidf_input_shape = tfidf_hybrid.shape[1]"
      ]
    },
    {
      "cell_type": "code",
      "execution_count": 98,
      "metadata": {
        "id": "Ea74tynzeqGB"
      },
      "outputs": [],
      "source": [
        "# Create the input layers\n",
        "\n",
        "# user and movie input layers\n",
        "user_id_input = Input(shape=(userid_input_shape,), name='user')\n",
        "movie_id_input = Input(shape=(movieid_input_shape,), name='movie')\n",
        "\n",
        "# tfidf input layer\n",
        "tfidf_input = Input(shape=(tfidf_input_shape,), name='tfidf', sparse=True)"
      ]
    },
    {
      "cell_type": "code",
      "execution_count": 99,
      "metadata": {
        "id": "zc_bGQ6ne3Cj"
      },
      "outputs": [],
      "source": [
        "# Create embeddings layers for users and movies\n",
        "\n",
        "# user embedding\n",
        "user_embedding = Embedding(output_dim=user_embed_dim,\n",
        "                           input_dim=len(user_id_mapping),\n",
        "                           input_length=userid_input_shape,\n",
        "                           name='user_embedding')(user_id_input)\n",
        "\n",
        "# movie embedding\n",
        "movie_embedding = Embedding(output_dim=movie_embed_dim,\n",
        "                           input_dim=len(movie_id_mapping),\n",
        "                           input_length=movieid_input_shape,\n",
        "                           name='movie_embedding')(movie_id_input)"
      ]
    },
    {
      "cell_type": "code",
      "execution_count": 100,
      "metadata": {
        "id": "pm_H8CaXe3Gn"
      },
      "outputs": [],
      "source": [
        "# Dimensionality reduction with Dense layers\n",
        "tfidf_vectors = Dense(512, activation='relu')(tfidf_input)\n",
        "tfidf_vectors = Dense(256, activation='relu')(tfidf_vectors)"
      ]
    },
    {
      "cell_type": "code",
      "execution_count": 101,
      "metadata": {
        "id": "rlNBswdYe3I8"
      },
      "outputs": [],
      "source": [
        "# Reshape both user and movie embedding layers\n",
        "user_vectors = Reshape([user_embed_dim])(user_embedding)\n",
        "movie_vectors = Reshape([movie_embed_dim])(movie_embedding)"
      ]
    },
    {
      "cell_type": "code",
      "execution_count": 102,
      "metadata": {
        "id": "LfcefQQEe3E2"
      },
      "outputs": [],
      "source": [
        "# Concatenate all layers into one \n",
        "hybrid_layer = Concatenate()([user_vectors, movie_vectors, tfidf_vectors])"
      ]
    },
    {
      "cell_type": "code",
      "execution_count": 103,
      "metadata": {
        "id": "WfZK5Dg9oxVA"
      },
      "outputs": [],
      "source": [
        "# add in dense and output layers\n",
        "dense = Dense(512, activation='relu')(hybrid_layer)\n",
        "dense = Dropout(0.2)(dense)\n",
        "output = Dense(1)(dense)"
      ]
    },
    {
      "cell_type": "code",
      "execution_count": 104,
      "metadata": {
        "id": "odLeDjgzoxYA",
        "colab": {
          "base_uri": "https://localhost:8080/"
        },
        "outputId": "2b71a941-2bf6-415e-932f-3190dc51d314"
      },
      "outputs": [
        {
          "output_type": "stream",
          "name": "stdout",
          "text": [
            "Model: \"model_2\"\n",
            "__________________________________________________________________________________________________\n",
            " Layer (type)                   Output Shape         Param #     Connected to                     \n",
            "==================================================================================================\n",
            " user (InputLayer)              [(None, 1)]          0           []                               \n",
            "                                                                                                  \n",
            " movie (InputLayer)             [(None, 1)]          0           []                               \n",
            "                                                                                                  \n",
            " tfidf (InputLayer)             [(None, 24144)]      0           []                               \n",
            "                                                                                                  \n",
            " user_embedding (Embedding)     (None, 1, 256)       5331968     ['user[0][0]']                   \n",
            "                                                                                                  \n",
            " movie_embedding (Embedding)    (None, 1, 256)       445696      ['movie[0][0]']                  \n",
            "                                                                                                  \n",
            " dense_4 (Dense)                (None, 512)          12362240    ['tfidf[0][0]']                  \n",
            "                                                                                                  \n",
            " reshape_4 (Reshape)            (None, 256)          0           ['user_embedding[0][0]']         \n",
            "                                                                                                  \n",
            " reshape_5 (Reshape)            (None, 256)          0           ['movie_embedding[0][0]']        \n",
            "                                                                                                  \n",
            " dense_5 (Dense)                (None, 256)          131328      ['dense_4[0][0]']                \n",
            "                                                                                                  \n",
            " concatenate_1 (Concatenate)    (None, 768)          0           ['reshape_4[0][0]',              \n",
            "                                                                  'reshape_5[0][0]',              \n",
            "                                                                  'dense_5[0][0]']                \n",
            "                                                                                                  \n",
            " dense_6 (Dense)                (None, 512)          393728      ['concatenate_1[0][0]']          \n",
            "                                                                                                  \n",
            " dropout_1 (Dropout)            (None, 512)          0           ['dense_6[0][0]']                \n",
            "                                                                                                  \n",
            " dense_7 (Dense)                (None, 1)            513         ['dropout_1[0][0]']              \n",
            "                                                                                                  \n",
            "==================================================================================================\n",
            "Total params: 18,665,473\n",
            "Trainable params: 18,665,473\n",
            "Non-trainable params: 0\n",
            "__________________________________________________________________________________________________\n"
          ]
        }
      ],
      "source": [
        "# create and view model summary\n",
        "model = Model(inputs=[user_id_input, movie_id_input, tfidf_input], outputs=output)\n",
        "model.compile(loss='mse', optimizer='adam')\n",
        "model.summary()"
      ]
    },
    {
      "cell_type": "markdown",
      "metadata": {
        "id": "upDnm3r76Ivj"
      },
      "source": [
        "#### Train and Test the Model"
      ]
    },
    {
      "cell_type": "code",
      "source": [
        "type(train_tfidf)"
      ],
      "metadata": {
        "colab": {
          "base_uri": "https://localhost:8080/"
        },
        "id": "MYdoCQNI-I3x",
        "outputId": "48ad7e6f-ef6d-4bba-9339-9f6487330abf"
      },
      "execution_count": 105,
      "outputs": [
        {
          "output_type": "execute_result",
          "data": {
            "text/plain": [
              "scipy.sparse.csr.csr_matrix"
            ]
          },
          "metadata": {},
          "execution_count": 105
        }
      ]
    },
    {
      "cell_type": "code",
      "source": [
        "def convert_sparse_matrix_to_sparse_tensor(X):\n",
        "    coo = X.tocoo()\n",
        "    indices = np.mat([coo.row, coo.col]).transpose()\n",
        "    return tf.SparseTensor(indices, coo.data, coo.shape)"
      ],
      "metadata": {
        "id": "03-PgkRzA2nU"
      },
      "execution_count": 106,
      "outputs": []
    },
    {
      "cell_type": "code",
      "source": [
        "sparse_train_tfidf= convert_sparse_matrix_to_sparse_tensor(train_tfidf)\n",
        "train_tfidf"
      ],
      "metadata": {
        "colab": {
          "base_uri": "https://localhost:8080/"
        },
        "id": "T7K26ttABIZk",
        "outputId": "e04a75aa-bd49-4d9d-8f76-8a4a44f9808d"
      },
      "execution_count": 107,
      "outputs": [
        {
          "output_type": "execute_result",
          "data": {
            "text/plain": [
              "<2051323x24144 sparse matrix of type '<class 'numpy.float64'>'\n",
              "\twith 52007856 stored elements in Compressed Sparse Row format>"
            ]
          },
          "metadata": {},
          "execution_count": 107
        }
      ]
    },
    {
      "cell_type": "code",
      "source": [
        "type(sparse_train_tfidf)\n",
        "sparse_train_tfidf.shape"
      ],
      "metadata": {
        "colab": {
          "base_uri": "https://localhost:8080/"
        },
        "id": "GVAdM2hUBOSv",
        "outputId": "c15b9b56-f6b3-4783-db60-b0a8c9cb4e5b"
      },
      "execution_count": 108,
      "outputs": [
        {
          "output_type": "execute_result",
          "data": {
            "text/plain": [
              "TensorShape([2051323, 24144])"
            ]
          },
          "metadata": {},
          "execution_count": 108
        }
      ]
    },
    {
      "cell_type": "code",
      "source": [
        "from tensorflow.keras.optimizers import Adam\n",
        "from tensorflow.keras.losses import MSE"
      ],
      "metadata": {
        "id": "0hIRZvYwOt_K"
      },
      "execution_count": 109,
      "outputs": []
    },
    {
      "cell_type": "code",
      "source": [
        "batch_size=1024\n",
        "epochs=5\n",
        "optimizer = Adam()\n",
        "X = [df_hybrid_train['User'], df_hybrid_train['Movie'], train_tfidf]\n",
        "y = df_hybrid_train['Rating']\n",
        "\n",
        "n_batch = y.shape[0]//batch_size+1\n",
        "idx = np.arange(0, y.shape[0], batch_size)\n",
        "idx = np.concatenate((idx, [y.shape[0]]))"
      ],
      "metadata": {
        "id": "hZerKDYTCHLO"
      },
      "execution_count": 110,
      "outputs": []
    },
    {
      "cell_type": "code",
      "source": [
        "#DOES NOT WORK FOR TENSORFLOW 2\n",
        "# # fit the model\n",
        "# batch_size=1024\n",
        "# epochs=10\n",
        "# X = [df_hybrid_train['User'], df_hybrid_train['Movie'], train_tfidf]\n",
        "# y = df_hybrid_train['Rating']\n",
        "# model.fit(X, y,\n",
        "#           batch_size=batch_size, \n",
        "#           epochs=epochs, ## Change the epochs to find better improved model.\n",
        "#           validation_split=0.1,\n",
        "#           shuffle=True)"
      ],
      "metadata": {
        "id": "yqIdNO_SR9W8"
      },
      "execution_count": null,
      "outputs": []
    },
    {
      "cell_type": "markdown",
      "source": [
        "# **NOTE :Issues faced with tensorflow 2.x and Sparse data**\n",
        "#*Issues:*\n",
        "\"scipy.sparse.csr.csr_matrix\" is not supported as input to Tensorflow. \n",
        "\n",
        "#*Attempts to Solve:*\n",
        "1.Tried converting it into sparse tensor using the \"convert_sparse_matrix_to_sparse_tensor\" coded by above. This was found after researching the issue online.\n",
        "However, even sparse tensor is not supported by tensorflow.\n",
        "\n",
        "2.Tried using .toarray() method of csr_matrix\n",
        "However, this lead to runtime crashes due to RAM on GPU with higher ram as well.\n",
        "\n",
        "3. Tried looking through slack channle and found solution there.\n",
        "\n",
        "#*Solution:*\n",
        "Another Student has seen same problem and their mentor provided them with updated code to work with Tensorflow 2.x where custome training step was coded.\n",
        "Using the same to complete the solution"
      ],
      "metadata": {
        "id": "lCQSn6e9QOGK"
      }
    },
    {
      "cell_type": "code",
      "execution_count": 111,
      "metadata": {
        "id": "SmzWu6Xhoxnt",
        "colab": {
          "base_uri": "https://localhost:8080/"
        },
        "outputId": "72d5319f-dae1-4dee-9b36-e608236dfb15"
      },
      "outputs": [
        {
          "output_type": "stream",
          "name": "stdout",
          "text": [
            "\n",
            "Start of epoch 0\n",
            "Step: 0\n",
            "Training loss: 13.61\n",
            "Step: 100\n",
            "Training loss: 1.21\n",
            "Step: 200\n",
            "Training loss: 1.25\n",
            "Step: 300\n",
            "Training loss: 1.12\n",
            "Step: 400\n",
            "Training loss: 1.25\n",
            "Step: 500\n",
            "Training loss: 1.15\n",
            "Step: 600\n",
            "Training loss: 1.14\n",
            "Step: 700\n",
            "Training loss: 1.22\n",
            "Step: 800\n",
            "Training loss: 1.16\n",
            "Step: 900\n",
            "Training loss: 1.14\n",
            "Step: 1000\n",
            "Training loss: 1.21\n",
            "Step: 1100\n",
            "Training loss: 1.20\n",
            "Step: 1200\n",
            "Training loss: 1.24\n",
            "Step: 1300\n",
            "Training loss: 1.25\n",
            "Step: 1400\n",
            "Training loss: 1.21\n",
            "Step: 1500\n",
            "Training loss: 1.16\n",
            "Step: 1600\n",
            "Training loss: 1.14\n",
            "Step: 1700\n",
            "Training loss: 1.23\n",
            "Step: 1800\n",
            "Training loss: 1.10\n",
            "Step: 1900\n",
            "Training loss: 1.10\n",
            "Step: 2000\n",
            "Training loss: 1.23\n",
            "\n",
            "Start of epoch 1\n",
            "Step: 0\n",
            "Training loss: 1.14\n",
            "Step: 100\n",
            "Training loss: 1.21\n",
            "Step: 200\n",
            "Training loss: 1.24\n",
            "Step: 300\n",
            "Training loss: 1.12\n",
            "Step: 400\n",
            "Training loss: 1.26\n",
            "Step: 500\n",
            "Training loss: 1.14\n",
            "Step: 600\n",
            "Training loss: 1.13\n",
            "Step: 700\n",
            "Training loss: 1.22\n",
            "Step: 800\n",
            "Training loss: 1.15\n",
            "Step: 900\n",
            "Training loss: 1.13\n",
            "Step: 1000\n",
            "Training loss: 1.24\n",
            "Step: 1100\n",
            "Training loss: 1.20\n",
            "Step: 1200\n",
            "Training loss: 1.22\n",
            "Step: 1300\n",
            "Training loss: 1.24\n",
            "Step: 1400\n",
            "Training loss: 1.21\n",
            "Step: 1500\n",
            "Training loss: 1.15\n",
            "Step: 1600\n",
            "Training loss: 1.13\n",
            "Step: 1700\n",
            "Training loss: 1.22\n",
            "Step: 1800\n",
            "Training loss: 1.10\n",
            "Step: 1900\n",
            "Training loss: 1.11\n",
            "Step: 2000\n",
            "Training loss: 1.21\n",
            "\n",
            "Start of epoch 2\n",
            "Step: 0\n",
            "Training loss: 1.12\n",
            "Step: 100\n",
            "Training loss: 1.21\n",
            "Step: 200\n",
            "Training loss: 1.25\n",
            "Step: 300\n",
            "Training loss: 1.14\n",
            "Step: 400\n",
            "Training loss: 1.25\n",
            "Step: 500\n",
            "Training loss: 1.14\n",
            "Step: 600\n",
            "Training loss: 1.13\n",
            "Step: 700\n",
            "Training loss: 1.21\n",
            "Step: 800\n",
            "Training loss: 1.15\n",
            "Step: 900\n",
            "Training loss: 1.13\n",
            "Step: 1000\n",
            "Training loss: 1.22\n",
            "Step: 1100\n",
            "Training loss: 1.22\n",
            "Step: 1200\n",
            "Training loss: 1.22\n",
            "Step: 1300\n",
            "Training loss: 1.24\n",
            "Step: 1400\n",
            "Training loss: 1.21\n",
            "Step: 1500\n",
            "Training loss: 1.14\n",
            "Step: 1600\n",
            "Training loss: 1.13\n",
            "Step: 1700\n",
            "Training loss: 1.22\n",
            "Step: 1800\n",
            "Training loss: 1.10\n",
            "Step: 1900\n",
            "Training loss: 1.10\n",
            "Step: 2000\n",
            "Training loss: 1.20\n",
            "\n",
            "Start of epoch 3\n",
            "Step: 0\n",
            "Training loss: 1.12\n",
            "Step: 100\n",
            "Training loss: 1.21\n",
            "Step: 200\n",
            "Training loss: 1.25\n",
            "Step: 300\n",
            "Training loss: 1.10\n",
            "Step: 400\n",
            "Training loss: 1.26\n",
            "Step: 500\n",
            "Training loss: 1.14\n",
            "Step: 600\n",
            "Training loss: 1.14\n",
            "Step: 700\n",
            "Training loss: 1.21\n",
            "Step: 800\n",
            "Training loss: 1.15\n",
            "Step: 900\n",
            "Training loss: 1.13\n",
            "Step: 1000\n",
            "Training loss: 1.21\n",
            "Step: 1100\n",
            "Training loss: 1.23\n",
            "Step: 1200\n",
            "Training loss: 1.22\n",
            "Step: 1300\n",
            "Training loss: 1.24\n",
            "Step: 1400\n",
            "Training loss: 1.20\n",
            "Step: 1500\n",
            "Training loss: 1.14\n",
            "Step: 1600\n",
            "Training loss: 1.13\n",
            "Step: 1700\n",
            "Training loss: 1.22\n",
            "Step: 1800\n",
            "Training loss: 1.09\n",
            "Step: 1900\n",
            "Training loss: 1.09\n",
            "Step: 2000\n",
            "Training loss: 1.21\n",
            "\n",
            "Start of epoch 4\n",
            "Step: 0\n",
            "Training loss: 1.13\n",
            "Step: 100\n",
            "Training loss: 1.20\n",
            "Step: 200\n",
            "Training loss: 1.24\n",
            "Step: 300\n",
            "Training loss: 1.10\n",
            "Step: 400\n",
            "Training loss: 1.25\n",
            "Step: 500\n",
            "Training loss: 1.13\n",
            "Step: 600\n",
            "Training loss: 1.13\n",
            "Step: 700\n",
            "Training loss: 1.21\n",
            "Step: 800\n",
            "Training loss: 1.15\n",
            "Step: 900\n",
            "Training loss: 1.13\n",
            "Step: 1000\n",
            "Training loss: 1.20\n",
            "Step: 1100\n",
            "Training loss: 1.25\n",
            "Step: 1200\n",
            "Training loss: 1.22\n",
            "Step: 1300\n",
            "Training loss: 1.24\n",
            "Step: 1400\n",
            "Training loss: 1.20\n",
            "Step: 1500\n",
            "Training loss: 1.15\n",
            "Step: 1600\n",
            "Training loss: 1.13\n",
            "Step: 1700\n",
            "Training loss: 1.22\n",
            "Step: 1800\n",
            "Training loss: 1.09\n",
            "Step: 1900\n",
            "Training loss: 1.09\n",
            "Step: 2000\n",
            "Training loss: 1.21\n"
          ]
        }
      ],
      "source": [
        "@tf.function\n",
        "def train_step(x, y):\n",
        "    with tf.GradientTape() as tape:\n",
        "        y_hat = model(x, training=True)\n",
        "        loss_value = MSE(y, y_hat)\n",
        "    grads = tape.gradient(loss_value, model.trainable_weights)\n",
        "    optimizer.apply_gradients(zip(grads, model.trainable_weights))\n",
        "    return loss_value\n",
        "\n",
        "for epoch in range(epochs):\n",
        "    print(\"\\nStart of epoch %d\" % (epoch,))\n",
        "\n",
        "    # Iterate over the batches of the dataset.\n",
        "    for i in range(0, n_batch):\n",
        "        start_idx = idx[i]\n",
        "        end_idx = idx[i+1]\n",
        "        x_batch_train = [X[0][start_idx:end_idx], X[1][start_idx:end_idx], np.array(X[2][start_idx:end_idx].todense())]\n",
        "        y_batch_train = y[start_idx:end_idx]\n",
        "\n",
        "        loss_value = train_step(x_batch_train, y_batch_train)\n",
        "        if i % 100 == 0:\n",
        "            print('Step: '+str(i))\n",
        "            print('Training loss: %.2f'%float(np.nanmean(loss_value)))"
      ]
    },
    {
      "cell_type": "code",
      "execution_count": 113,
      "metadata": {
        "id": "ZLkTXmxhpK7r",
        "colab": {
          "base_uri": "https://localhost:8080/"
        },
        "outputId": "0e0d3a42-ea50-4f8d-cce7-22a996394208"
      },
      "outputs": [
        {
          "output_type": "stream",
          "name": "stdout",
          "text": [
            "\n",
            "\n",
            "Testing Result With DL Hybrid Recommender: 1.0658 RMSE\n"
          ]
        }
      ],
      "source": [
        "# create test input data and true outputs\n",
        "X_test = [df_hybrid_test['User'][:100], df_hybrid_test['Movie'][:100], np.array(test_tfidf[:100].todense())]\n",
        "y_true = df_hybrid_test['Rating'].values[:100]\n",
        "\n",
        "# Test model by making predictions on test data\n",
        "y_pred = model.predict(X_test).ravel()\n",
        "# clip upper and lower ratings\n",
        "y_pred = list(map(lambda x: 1.0 if x < 1 else 5.0 if x > 5.0 else x, y_pred))\n",
        "\n",
        "#  Compute RMSE\n",
        "rmse = np.sqrt(mean_squared_error(y_pred=y_pred, y_true=y_true))\n",
        "print('\\n\\nTesting Result With DL Hybrid Recommender: {:.4f} RMSE'.format(rmse))"
      ]
    },
    {
      "cell_type": "code",
      "execution_count": 114,
      "metadata": {
        "id": "ecgDG4C9pLAG",
        "colab": {
          "base_uri": "https://localhost:8080/",
          "height": 677
        },
        "outputId": "c8bbd9af-5c8c-4edb-b827-26e3c5ecd375"
      },
      "outputs": [
        {
          "output_type": "execute_result",
          "data": {
            "text/plain": [
              "    User ID  Movie ID                                     Movie Name  \\\n",
              "0      4398       384                             The Santa Clause 2   \n",
              "1      5932        24  Inspector Morse 31: Death Is Now My Neighbour   \n",
              "2     16433       181                                     Moby: Play   \n",
              "3     14775      1602                                    Eaten Alive   \n",
              "4     10848      1373                     Profile of a Serial Killer   \n",
              "5      6769       980                         How I Got into College   \n",
              "6      5819      1556                                          Dolls   \n",
              "7     18921       807                             Dead Man on Campus   \n",
              "8     12688       156                   Laird: White Knuckle Extreme   \n",
              "9      2135       798                          Teen Titans: Season 1   \n",
              "10     7198       607                          The Lickerish Quartet   \n",
              "11      266      1220                           Seems Like Old Times   \n",
              "12     7271       171                                           Jack   \n",
              "13    14921       384                             The Santa Clause 2   \n",
              "14    10221       949                                Explosive Dance   \n",
              "15    17587       711         Homicide: Life on the Street: Season 7   \n",
              "16    20363      1074                                           Tape   \n",
              "17    18071       526                                Barbarian Queen   \n",
              "18     6418        78                                    The Killing   \n",
              "19    19024       716                                   Testosterone   \n",
              "\n",
              "    Predicted Rating  Actual Rating  \n",
              "0                3.4            3.0  \n",
              "1                3.5            4.0  \n",
              "2                3.6            5.0  \n",
              "3                3.4            3.0  \n",
              "4                3.4            2.0  \n",
              "5                3.5            2.0  \n",
              "6                3.4            5.0  \n",
              "7                3.4            4.0  \n",
              "8                3.5            4.0  \n",
              "9                3.5            4.0  \n",
              "10               3.5            4.0  \n",
              "11               3.5            4.0  \n",
              "12               3.4            3.0  \n",
              "13               3.4            4.0  \n",
              "14               3.5            5.0  \n",
              "15               3.5            3.0  \n",
              "16               3.5            2.0  \n",
              "17               3.5            4.0  \n",
              "18               3.5            4.0  \n",
              "19               3.5            3.0  "
            ],
            "text/html": [
              "\n",
              "  <div id=\"df-8568ec0b-06a2-492b-a07a-03d27874ff8d\">\n",
              "    <div class=\"colab-df-container\">\n",
              "      <div>\n",
              "<style scoped>\n",
              "    .dataframe tbody tr th:only-of-type {\n",
              "        vertical-align: middle;\n",
              "    }\n",
              "\n",
              "    .dataframe tbody tr th {\n",
              "        vertical-align: top;\n",
              "    }\n",
              "\n",
              "    .dataframe thead th {\n",
              "        text-align: right;\n",
              "    }\n",
              "</style>\n",
              "<table border=\"1\" class=\"dataframe\">\n",
              "  <thead>\n",
              "    <tr style=\"text-align: right;\">\n",
              "      <th></th>\n",
              "      <th>User ID</th>\n",
              "      <th>Movie ID</th>\n",
              "      <th>Movie Name</th>\n",
              "      <th>Predicted Rating</th>\n",
              "      <th>Actual Rating</th>\n",
              "    </tr>\n",
              "  </thead>\n",
              "  <tbody>\n",
              "    <tr>\n",
              "      <th>0</th>\n",
              "      <td>4398</td>\n",
              "      <td>384</td>\n",
              "      <td>The Santa Clause 2</td>\n",
              "      <td>3.4</td>\n",
              "      <td>3.0</td>\n",
              "    </tr>\n",
              "    <tr>\n",
              "      <th>1</th>\n",
              "      <td>5932</td>\n",
              "      <td>24</td>\n",
              "      <td>Inspector Morse 31: Death Is Now My Neighbour</td>\n",
              "      <td>3.5</td>\n",
              "      <td>4.0</td>\n",
              "    </tr>\n",
              "    <tr>\n",
              "      <th>2</th>\n",
              "      <td>16433</td>\n",
              "      <td>181</td>\n",
              "      <td>Moby: Play</td>\n",
              "      <td>3.6</td>\n",
              "      <td>5.0</td>\n",
              "    </tr>\n",
              "    <tr>\n",
              "      <th>3</th>\n",
              "      <td>14775</td>\n",
              "      <td>1602</td>\n",
              "      <td>Eaten Alive</td>\n",
              "      <td>3.4</td>\n",
              "      <td>3.0</td>\n",
              "    </tr>\n",
              "    <tr>\n",
              "      <th>4</th>\n",
              "      <td>10848</td>\n",
              "      <td>1373</td>\n",
              "      <td>Profile of a Serial Killer</td>\n",
              "      <td>3.4</td>\n",
              "      <td>2.0</td>\n",
              "    </tr>\n",
              "    <tr>\n",
              "      <th>5</th>\n",
              "      <td>6769</td>\n",
              "      <td>980</td>\n",
              "      <td>How I Got into College</td>\n",
              "      <td>3.5</td>\n",
              "      <td>2.0</td>\n",
              "    </tr>\n",
              "    <tr>\n",
              "      <th>6</th>\n",
              "      <td>5819</td>\n",
              "      <td>1556</td>\n",
              "      <td>Dolls</td>\n",
              "      <td>3.4</td>\n",
              "      <td>5.0</td>\n",
              "    </tr>\n",
              "    <tr>\n",
              "      <th>7</th>\n",
              "      <td>18921</td>\n",
              "      <td>807</td>\n",
              "      <td>Dead Man on Campus</td>\n",
              "      <td>3.4</td>\n",
              "      <td>4.0</td>\n",
              "    </tr>\n",
              "    <tr>\n",
              "      <th>8</th>\n",
              "      <td>12688</td>\n",
              "      <td>156</td>\n",
              "      <td>Laird: White Knuckle Extreme</td>\n",
              "      <td>3.5</td>\n",
              "      <td>4.0</td>\n",
              "    </tr>\n",
              "    <tr>\n",
              "      <th>9</th>\n",
              "      <td>2135</td>\n",
              "      <td>798</td>\n",
              "      <td>Teen Titans: Season 1</td>\n",
              "      <td>3.5</td>\n",
              "      <td>4.0</td>\n",
              "    </tr>\n",
              "    <tr>\n",
              "      <th>10</th>\n",
              "      <td>7198</td>\n",
              "      <td>607</td>\n",
              "      <td>The Lickerish Quartet</td>\n",
              "      <td>3.5</td>\n",
              "      <td>4.0</td>\n",
              "    </tr>\n",
              "    <tr>\n",
              "      <th>11</th>\n",
              "      <td>266</td>\n",
              "      <td>1220</td>\n",
              "      <td>Seems Like Old Times</td>\n",
              "      <td>3.5</td>\n",
              "      <td>4.0</td>\n",
              "    </tr>\n",
              "    <tr>\n",
              "      <th>12</th>\n",
              "      <td>7271</td>\n",
              "      <td>171</td>\n",
              "      <td>Jack</td>\n",
              "      <td>3.4</td>\n",
              "      <td>3.0</td>\n",
              "    </tr>\n",
              "    <tr>\n",
              "      <th>13</th>\n",
              "      <td>14921</td>\n",
              "      <td>384</td>\n",
              "      <td>The Santa Clause 2</td>\n",
              "      <td>3.4</td>\n",
              "      <td>4.0</td>\n",
              "    </tr>\n",
              "    <tr>\n",
              "      <th>14</th>\n",
              "      <td>10221</td>\n",
              "      <td>949</td>\n",
              "      <td>Explosive Dance</td>\n",
              "      <td>3.5</td>\n",
              "      <td>5.0</td>\n",
              "    </tr>\n",
              "    <tr>\n",
              "      <th>15</th>\n",
              "      <td>17587</td>\n",
              "      <td>711</td>\n",
              "      <td>Homicide: Life on the Street: Season 7</td>\n",
              "      <td>3.5</td>\n",
              "      <td>3.0</td>\n",
              "    </tr>\n",
              "    <tr>\n",
              "      <th>16</th>\n",
              "      <td>20363</td>\n",
              "      <td>1074</td>\n",
              "      <td>Tape</td>\n",
              "      <td>3.5</td>\n",
              "      <td>2.0</td>\n",
              "    </tr>\n",
              "    <tr>\n",
              "      <th>17</th>\n",
              "      <td>18071</td>\n",
              "      <td>526</td>\n",
              "      <td>Barbarian Queen</td>\n",
              "      <td>3.5</td>\n",
              "      <td>4.0</td>\n",
              "    </tr>\n",
              "    <tr>\n",
              "      <th>18</th>\n",
              "      <td>6418</td>\n",
              "      <td>78</td>\n",
              "      <td>The Killing</td>\n",
              "      <td>3.5</td>\n",
              "      <td>4.0</td>\n",
              "    </tr>\n",
              "    <tr>\n",
              "      <th>19</th>\n",
              "      <td>19024</td>\n",
              "      <td>716</td>\n",
              "      <td>Testosterone</td>\n",
              "      <td>3.5</td>\n",
              "      <td>3.0</td>\n",
              "    </tr>\n",
              "  </tbody>\n",
              "</table>\n",
              "</div>\n",
              "      <button class=\"colab-df-convert\" onclick=\"convertToInteractive('df-8568ec0b-06a2-492b-a07a-03d27874ff8d')\"\n",
              "              title=\"Convert this dataframe to an interactive table.\"\n",
              "              style=\"display:none;\">\n",
              "        \n",
              "  <svg xmlns=\"http://www.w3.org/2000/svg\" height=\"24px\"viewBox=\"0 0 24 24\"\n",
              "       width=\"24px\">\n",
              "    <path d=\"M0 0h24v24H0V0z\" fill=\"none\"/>\n",
              "    <path d=\"M18.56 5.44l.94 2.06.94-2.06 2.06-.94-2.06-.94-.94-2.06-.94 2.06-2.06.94zm-11 1L8.5 8.5l.94-2.06 2.06-.94-2.06-.94L8.5 2.5l-.94 2.06-2.06.94zm10 10l.94 2.06.94-2.06 2.06-.94-2.06-.94-.94-2.06-.94 2.06-2.06.94z\"/><path d=\"M17.41 7.96l-1.37-1.37c-.4-.4-.92-.59-1.43-.59-.52 0-1.04.2-1.43.59L10.3 9.45l-7.72 7.72c-.78.78-.78 2.05 0 2.83L4 21.41c.39.39.9.59 1.41.59.51 0 1.02-.2 1.41-.59l7.78-7.78 2.81-2.81c.8-.78.8-2.07 0-2.86zM5.41 20L4 18.59l7.72-7.72 1.47 1.35L5.41 20z\"/>\n",
              "  </svg>\n",
              "      </button>\n",
              "      \n",
              "  <style>\n",
              "    .colab-df-container {\n",
              "      display:flex;\n",
              "      flex-wrap:wrap;\n",
              "      gap: 12px;\n",
              "    }\n",
              "\n",
              "    .colab-df-convert {\n",
              "      background-color: #E8F0FE;\n",
              "      border: none;\n",
              "      border-radius: 50%;\n",
              "      cursor: pointer;\n",
              "      display: none;\n",
              "      fill: #1967D2;\n",
              "      height: 32px;\n",
              "      padding: 0 0 0 0;\n",
              "      width: 32px;\n",
              "    }\n",
              "\n",
              "    .colab-df-convert:hover {\n",
              "      background-color: #E2EBFA;\n",
              "      box-shadow: 0px 1px 2px rgba(60, 64, 67, 0.3), 0px 1px 3px 1px rgba(60, 64, 67, 0.15);\n",
              "      fill: #174EA6;\n",
              "    }\n",
              "\n",
              "    [theme=dark] .colab-df-convert {\n",
              "      background-color: #3B4455;\n",
              "      fill: #D2E3FC;\n",
              "    }\n",
              "\n",
              "    [theme=dark] .colab-df-convert:hover {\n",
              "      background-color: #434B5C;\n",
              "      box-shadow: 0px 1px 3px 1px rgba(0, 0, 0, 0.15);\n",
              "      filter: drop-shadow(0px 1px 2px rgba(0, 0, 0, 0.3));\n",
              "      fill: #FFFFFF;\n",
              "    }\n",
              "  </style>\n",
              "\n",
              "      <script>\n",
              "        const buttonEl =\n",
              "          document.querySelector('#df-8568ec0b-06a2-492b-a07a-03d27874ff8d button.colab-df-convert');\n",
              "        buttonEl.style.display =\n",
              "          google.colab.kernel.accessAllowed ? 'block' : 'none';\n",
              "\n",
              "        async function convertToInteractive(key) {\n",
              "          const element = document.querySelector('#df-8568ec0b-06a2-492b-a07a-03d27874ff8d');\n",
              "          const dataTable =\n",
              "            await google.colab.kernel.invokeFunction('convertToInteractive',\n",
              "                                                     [key], {});\n",
              "          if (!dataTable) return;\n",
              "\n",
              "          const docLinkHtml = 'Like what you see? Visit the ' +\n",
              "            '<a target=\"_blank\" href=https://colab.research.google.com/notebooks/data_table.ipynb>data table notebook</a>'\n",
              "            + ' to learn more about interactive tables.';\n",
              "          element.innerHTML = '';\n",
              "          dataTable['output_type'] = 'display_data';\n",
              "          await google.colab.output.renderOutput(dataTable, element);\n",
              "          const docLink = document.createElement('div');\n",
              "          docLink.innerHTML = docLinkHtml;\n",
              "          element.appendChild(docLink);\n",
              "        }\n",
              "      </script>\n",
              "    </div>\n",
              "  </div>\n",
              "  "
            ]
          },
          "metadata": {},
          "execution_count": 114
        }
      ],
      "source": [
        "## Let's see how our collaborative model performs by seeing the predicted and actual rating for the given user and movie pair\n",
        "results_df = pd.DataFrame({\n",
        "    'User ID': df_hybrid_test['User'].values[:100],\n",
        "    'Movie ID': df_hybrid_test['Movie'].values[:100],\n",
        "    'Movie Name': [movie_titles['Name'].iloc[item] for item in df_hybrid_test['Movie']][:100],\n",
        "    'Predicted Rating': np.round(y_pred, 1),\n",
        "    'Actual Rating': y_true[:100]\n",
        "})\n",
        "\n",
        "results_df.head(20)"
      ]
    },
    {
      "cell_type": "code",
      "source": [
        ""
      ],
      "metadata": {
        "id": "dZlpPr-4P2cb"
      },
      "execution_count": null,
      "outputs": []
    }
  ],
  "metadata": {
    "colab": {
      "collapsed_sections": [],
      "name": "Mini_Project_Recommendation_Systems.ipynb",
      "provenance": [],
      "background_execution": "on",
      "machine_shape": "hm",
      "include_colab_link": true
    },
    "kernelspec": {
      "display_name": "Python 3",
      "language": "python",
      "name": "python3"
    },
    "language_info": {
      "codemirror_mode": {
        "name": "ipython",
        "version": 3
      },
      "file_extension": ".py",
      "mimetype": "text/x-python",
      "name": "python",
      "nbconvert_exporter": "python",
      "pygments_lexer": "ipython3",
      "version": "3.7.6-final"
    },
    "gpuClass": "standard",
    "accelerator": "GPU"
  },
  "nbformat": 4,
  "nbformat_minor": 0
}