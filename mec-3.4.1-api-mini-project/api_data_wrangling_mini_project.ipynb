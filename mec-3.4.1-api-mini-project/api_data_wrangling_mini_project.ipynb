{
  "nbformat": 4,
  "nbformat_minor": 0,
  "metadata": {
    "kernelspec": {
      "display_name": "Python 3",
      "language": "python",
      "name": "python3"
    },
    "language_info": {
      "codemirror_mode": {
        "name": "ipython",
        "version": 3
      },
      "file_extension": ".py",
      "mimetype": "text/x-python",
      "name": "python",
      "nbconvert_exporter": "python",
      "pygments_lexer": "ipython3",
      "version": "3.6.4"
    },
    "colab": {
      "name": "api_data_wrangling_mini_project.ipynb",
      "provenance": [],
      "include_colab_link": true
    }
  },
  "cells": [
    {
      "cell_type": "markdown",
      "metadata": {
        "id": "view-in-github",
        "colab_type": "text"
      },
      "source": [
        "<a href=\"https://colab.research.google.com/github/rpmallya/mec-mini-projects/blob/master/mec-3.4.1-api-mini-project/api_data_wrangling_mini_project.ipynb\" target=\"_parent\"><img src=\"https://colab.research.google.com/assets/colab-badge.svg\" alt=\"Open In Colab\"/></a>"
      ]
    },
    {
      "cell_type": "markdown",
      "metadata": {
        "id": "PXIjsvVJeaMq"
      },
      "source": [
        "This exercise will require you to pull some data from the Qunadl API. Qaundl is currently the most widely used aggregator of financial market data."
      ]
    },
    {
      "cell_type": "markdown",
      "metadata": {
        "id": "U5Ge5q_TeaMs"
      },
      "source": [
        "As a first step, you will need to register a free account on the http://www.quandl.com website."
      ]
    },
    {
      "cell_type": "markdown",
      "metadata": {
        "id": "zdbqZz8UeaMs"
      },
      "source": [
        "After you register, you will be provided with a unique API key, that you should store:"
      ]
    },
    {
      "cell_type": "code",
      "metadata": {
        "collapsed": true,
        "id": "EaUpke5YeaMs",
        "colab": {
          "base_uri": "https://localhost:8080/"
        },
        "outputId": "07a1fd79-efbc-4486-bba9-5cfef99f4d15"
      },
      "source": [
        "# Store the API key as a string - according to PEP8, constants are always named in all upper case\n",
        "API_KEY = 'i4yPkAGi7kE3oPJpnfu_'"
      ],
      "execution_count": null,
      "outputs": [
        {
          "output_type": "stream",
          "text": [
            "API_KEY\n"
          ],
          "name": "stdout"
        }
      ]
    },
    {
      "cell_type": "code",
      "metadata": {
        "id": "81GGBV5-sc1N",
        "colab": {
          "base_uri": "https://localhost:8080/",
          "height": 35
        },
        "outputId": "f343b8a0-fad3-4e59-ff1f-58247615c552"
      },
      "source": [
        "import sys\n",
        "sys.version"
      ],
      "execution_count": null,
      "outputs": [
        {
          "output_type": "execute_result",
          "data": {
            "application/vnd.google.colaboratory.intrinsic+json": {
              "type": "string"
            },
            "text/plain": [
              "'3.7.11 (default, Jul  3 2021, 18:01:19) \\n[GCC 7.5.0]'"
            ]
          },
          "metadata": {
            "tags": []
          },
          "execution_count": 60
        }
      ]
    },
    {
      "cell_type": "markdown",
      "metadata": {
        "id": "72_hvidJeaMt"
      },
      "source": [
        "Qaundl has a large number of data sources, but, unfortunately, most of them require a Premium subscription. Still, there are also a good number of free datasets."
      ]
    },
    {
      "cell_type": "markdown",
      "metadata": {
        "id": "WcMWQ5hreaMt"
      },
      "source": [
        "For this mini project, we will focus on equities data from the Frankfurt Stock Exhange (FSE), which is available for free. We'll try and analyze the stock prices of a company called Carl Zeiss Meditec, which manufactures tools for eye examinations, as well as medical lasers for laser eye surgery: https://www.zeiss.com/meditec/int/home.html. The company is listed under the stock ticker AFX_X."
      ]
    },
    {
      "cell_type": "markdown",
      "metadata": {
        "id": "HvxW4SEseaMt"
      },
      "source": [
        "You can find the detailed Quandl API instructions here: https://docs.quandl.com/docs/time-series"
      ]
    },
    {
      "cell_type": "markdown",
      "metadata": {
        "id": "7X4hemrweaMu"
      },
      "source": [
        "While there is a dedicated Python package for connecting to the Quandl API, we would prefer that you use the *requests* package, which can be easily downloaded using *pip* or *conda*. You can find the documentation for the package here: http://docs.python-requests.org/en/master/ "
      ]
    },
    {
      "cell_type": "markdown",
      "metadata": {
        "id": "JnXax_KBiL0P"
      },
      "source": [
        ""
      ]
    },
    {
      "cell_type": "markdown",
      "metadata": {
        "id": "UDlcSeXgeaMu"
      },
      "source": [
        "Finally, apart from the *requests* package, you are encouraged to not use any third party Python packages, such as *pandas*, and instead focus on what's available in the Python Standard Library (the *collections* module might come in handy: https://pymotw.com/3/collections/).\n",
        "Also, since you won't have access to DataFrames, you are encouraged to us Python's native data structures - preferably dictionaries, though some questions can also be answered using lists.\n",
        "You can read more on these data structures here: https://docs.python.org/3/tutorial/datastructures.html"
      ]
    },
    {
      "cell_type": "markdown",
      "metadata": {
        "id": "OtCWBpmleaMu"
      },
      "source": [
        "Keep in mind that the JSON responses you will be getting from the API map almost one-to-one to Python's dictionaries. Unfortunately, they can be very nested, so make sure you read up on indexing dictionaries in the documentation provided above."
      ]
    },
    {
      "cell_type": "code",
      "metadata": {
        "collapsed": true,
        "id": "9zfemdVPeaMv"
      },
      "source": [
        "# First, import the relevant modules\n",
        "import requests\n",
        "import json\n"
      ],
      "execution_count": null,
      "outputs": []
    },
    {
      "cell_type": "code",
      "metadata": {
        "collapsed": true,
        "id": "gia_BWm5eaMv"
      },
      "source": [
        "# Now, call the Quandl API and pull out a small sample of the data (only one day) to get a glimpse\n",
        "# into the JSON structure that will be returned\n",
        "params_dict={}\n",
        "TICKER=\"QCOM\"\n",
        "#\"https://www.quandl.com/api/v3/datasets/XFRA/AGB2_UADJ?start_date=2018-11-28&end_date=2018-11-30&api_key=i4yPkAGi7kE3oPJpnfu_\"\n",
        "START_DATE=\"2017-01-01\"\n",
        "END_DATE=\"2017-12-31\"\n",
        "myurl=\"https://www.quandl.com/api/v3/datasets/WIKI/{0}/data.json?start_date={2}&end_date={3}&api_key={1}\".format(TICKER,API_KEY, START_DATE, END_DATE)\n",
        "data= requests.request(\"GET\",myurl)"
      ],
      "execution_count": null,
      "outputs": []
    },
    {
      "cell_type": "code",
      "metadata": {
        "id": "Q-buCdTGm_bg",
        "colab": {
          "base_uri": "https://localhost:8080/"
        },
        "outputId": "44afc6f5-c2f8-4ab0-c172-60b7f09ea6ef"
      },
      "source": [
        "print(\"Request Call is {}\".format(myurl))"
      ],
      "execution_count": null,
      "outputs": [
        {
          "output_type": "stream",
          "text": [
            "Request Call is https://www.quandl.com/api/v3/datasets/WIKI/QCOM/data.json?start_date=2017-01-01&end_date=2017-12-31&api_key=\n"
          ],
          "name": "stdout"
        }
      ]
    },
    {
      "cell_type": "code",
      "metadata": {
        "id": "RpcBRlGPgb2K",
        "colab": {
          "base_uri": "https://localhost:8080/"
        },
        "outputId": "af53c3b2-d449-48c0-82c4-a2cd0e22f979"
      },
      "source": [
        "if (data.ok):\n",
        "  print(\"Data retrieval successful\")\n",
        "else:\n",
        "  print(\"ERROR:Data retrieval not successful\")"
      ],
      "execution_count": null,
      "outputs": [
        {
          "output_type": "stream",
          "text": [
            "Data retrieval successful\n"
          ],
          "name": "stdout"
        }
      ]
    },
    {
      "cell_type": "code",
      "metadata": {
        "id": "WYEHdtfCg6F7"
      },
      "source": [
        "ddict =  json.loads(data.content)\n"
      ],
      "execution_count": 72,
      "outputs": []
    },
    {
      "cell_type": "markdown",
      "metadata": {
        "id": "eLv7u4BzsCAD"
      },
      "source": [
        "type("
      ]
    },
    {
      "cell_type": "code",
      "metadata": {
        "collapsed": true,
        "colab": {
          "base_uri": "https://localhost:8080/"
        },
        "id": "ve8d4p4UeaMv",
        "outputId": "b7c88700-d1b6-402c-feb2-9772395d5ba0"
      },
      "source": [
        "#find the highest and lowest\n",
        "#\"Date\",\"Open\",\"High\",\"Low\",\"Close\",\"Volume\"\n",
        "prev_close=0\n",
        "trading_vol=0\n",
        "no_days=0\n",
        "med_trading=0\n",
        "#use reversed list to compare days delta in increasing order-default list was in decreasing order\n",
        "for (no,item) in  enumerate(list(reversed(ddict['dataset_data']['data']))):\n",
        "  day = item[0]\n",
        "  day_open = item[1] \n",
        "  day_high= item[2]\n",
        "  day_low=item[3]\n",
        "  day_close=item[4]\n",
        "  day_volume=item[5]\n",
        "  day_change= day_high-day_low\n",
        "  delta = day_close- prev_close\n",
        "\n",
        "  #for trading volume only working/market open days considered. So count the same\n",
        "  trading_vol=trading_vol+ day_volume\n",
        "  no_days=no_days+1\n",
        "\n",
        "  if (no==0):\n",
        "    high_date=day\n",
        "    high=day_open\n",
        "    low= day_open\n",
        "    low_date=day\n",
        "    highest_change= day_change\n",
        "    highest_change_day=day\n",
        "  elif (no==1):\n",
        "    #highest delta between 2 days- also print the days\n",
        "    delta_2days=delta\n",
        "    delta_day0= prev_day\n",
        "    delta_day1= day\n",
        "  else:\n",
        "    if (day_open) > high:\n",
        "      high=day_high\n",
        "      high_day=day\n",
        "    if (day_open) < low:\n",
        "      low=day_low\n",
        "      low_day=day\n",
        "    if(day_change > highest_change):\n",
        "      highest_change= day_change\n",
        "      highest_change_day= day\n",
        "    if(delta > delta_2days):\n",
        "      delta_2days=delta\n",
        "      delta_day0= prev_day\n",
        "      delta_day1= day\n",
        "    \n",
        "  prev_close= day_close\n",
        "  prev_day=day\n",
        "\n",
        "ave_trading= trading_vol/no_days\n",
        "ave_trading= int(round(ave_trading,0))\n",
        "print(\"RESULT3a: Day with highest opening price {} price {}\".format(high_day, high))\n",
        "print(\"RESULT3b: Day with lowest  opening price {} price {}\".format(low_day,  low)) \n",
        "print(\"RESULT4: Day with highest changes (based on high and low) {} change {}\".format(highest_change_day,  highest_change))\n",
        "print(\"RESULT5: Largest change was between {} and {}. Change={}\".format(delta_day0, delta_day1, delta_2days))\n",
        "print(\"RESULT6: Average daily trading volume for {} day the market was open was {}\".format(no_days,ave_trading))\n",
        "print(\"RESULT7: Median daily trading volume for the year with {} trading days {}\".format(no_days,med_trading))"
      ],
      "execution_count": 77,
      "outputs": [
        {
          "output_type": "stream",
          "text": [
            "RESULT3a: Day with highest opening price 2017-11-24 price 69.28\n",
            "RESULT3b: Day with lowest  opening price 2017-09-06 price 49.83\n",
            "RESULT4: Day with highest changes (based on high and low) 2017-11-03 change 10.779999999999994\n",
            "RESULT5: Largest change was between 2017-11-02 and 2017-11-03. Change=6.969999999999999\n",
            "RESULT6: Average daily trading volume for 249 day the market was open was 10836789\n",
            "RESULT7: Median daily trading volume for the year with 249 trading days 0\n"
          ],
          "name": "stdout"
        }
      ]
    },
    {
      "cell_type": "markdown",
      "metadata": {
        "id": "_3_ruAYOeaMv"
      },
      "source": [
        "These are your tasks for this mini project:\n",
        "\n",
        "1. Collect data from the Franfurt Stock Exchange, for the ticker AFX_X, for the whole year 2017 (keep in mind that the date format is YYYY-MM-DD).\n",
        "2. Convert the returned JSON object into a Python dictionary.\n",
        "3. Calculate what the highest and lowest opening prices were for the stock in this period.\n",
        "4. What was the largest change in any one day (based on High and Low price)?\n",
        "5. What was the largest change between any two days (based on Closing Price)?\n",
        "6. What was the average daily trading volume during this year?\n",
        "7. (Optional) What was the median trading volume during this year. (Note: you may need to implement your own function for calculating the median.)"
      ]
    },
    {
      "cell_type": "code",
      "metadata": {
        "collapsed": true,
        "id": "s10GARVkeaMw"
      },
      "source": [
        ""
      ],
      "execution_count": null,
      "outputs": []
    }
  ]
}