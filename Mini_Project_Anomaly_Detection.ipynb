{
  "cells": [
    {
      "cell_type": "markdown",
      "metadata": {
        "id": "view-in-github",
        "colab_type": "text"
      },
      "source": [
        "<a href=\"https://colab.research.google.com/github/rpmallya/mec-mini-projects/blob/master/Mini_Project_Anomaly_Detection.ipynb\" target=\"_parent\"><img src=\"https://colab.research.google.com/assets/colab-badge.svg\" alt=\"Open In Colab\"/></a>"
      ]
    },
    {
      "cell_type": "markdown",
      "metadata": {
        "id": "fjlmj8hqHwUW"
      },
      "source": [
        "# Anomaly Detection of Retail Store Sales\n",
        "\n",
        "> Indented block\n",
        "\n",
        "\n",
        "\n",
        "This hands-on mini-project will enable you to reinforce your learnings pertaining to anomaly detection in this unit. By now, you must already be aware of the key objective of anomaly detection. Just to refresh your memory, anomaly detection is the identification of outliers or rare event items in a dataset which potentially exhibit abnormal behavior or properties as compared to the rest of the datapoints.\n",
        "\n",
        "There are a wide variety of anomaly detection methods including supervised, unsupervised and semi-supervised. Typically you can perform anomaly detection on univariate data, multivariate data as well as data which is temporal in nature. In this mini-project you will leverage state-of-the-art anomaly detection models from frameworks like [__`scikit-learn`__](https://scikit-learn.org/stable/modules/outlier_detection.html) and [__`PyOD`__](https://pyod.readthedocs.io/en/latest/index.html).\n",
        "\n",
        "\n",
        "By the end of this mini-project, you will have successfully applied these techniques to find out potential outliers pertaining to sales transactional data in a retail store dataset and also learnt how to visualize outliers similar to the following plot.\n",
        "\n",
        "![](outlier_ex.png)\n",
        "\n",
        "We will be performing anomaly detection on both univariate and multivariate data and leverage the following anomaly detection techniques.\n",
        "\n",
        "- Simple Statistical Models (mean & standard deviation: the three-sigma rule)\n",
        "- Isolation Forest\n",
        "- Clustering-Based Local Outlier Factor\n",
        "- Auto-encoders"
      ]
    },
    {
      "cell_type": "code",
      "source": [
        "#connect google drive and read the worksheet from the same\n",
        "from google.colab import drive\n",
        "drive.mount('/content/drive')"
      ],
      "metadata": {
        "colab": {
          "base_uri": "https://localhost:8080/"
        },
        "outputId": "9dd94a41-9e56-4c3d-e92e-eb3f0a93a97b",
        "id": "hOF4fAJiySbO"
      },
      "execution_count": 1,
      "outputs": [
        {
          "output_type": "stream",
          "name": "stdout",
          "text": [
            "Mounted at /content/drive\n"
          ]
        }
      ]
    },
    {
      "cell_type": "markdown",
      "metadata": {
        "id": "tAXGpb87HwUa"
      },
      "source": [
        "# 1. Getting and Loading the Dataset\n",
        "\n",
        "The first step towards solving any data science or machine learning problem is to obtain the necessary data. In this scenario, we will be dealing with a popular retail dataset known as the [SuperStore Sales Dataset](https://community.tableau.com/docs/DOC-1236) which consists of transactional data pertaining to a retail store.\n",
        "\n",
        "#### Please download the required dataset from [here](https://community.tableau.com/docs/DOC-1236) if necessary, although it will also be provided to you along with this notebook for this mini-project\n",
        "\n",
        "Once we have the necessary data, we will load up the dataset and perform some initial exploratory data analysis"
      ]
    },
    {
      "cell_type": "markdown",
      "metadata": {
        "id": "YbQK7D11HwUa"
      },
      "source": [
        "# 2. Exploratory Data Analysis\n",
        "\n",
        "It's time to do some basic exploratory analysis on the retail store transactional data. We start by loading up the dataset into a pandas dataframe."
      ]
    },
    {
      "cell_type": "code",
      "source": [
        "!pip3 install xlrd==1.2.0"
      ],
      "metadata": {
        "colab": {
          "base_uri": "https://localhost:8080/"
        },
        "id": "80zXJRn7Igoa",
        "outputId": "2189ed82-9c5c-4c6e-91a0-2f78e18960e4"
      },
      "execution_count": 2,
      "outputs": [
        {
          "output_type": "stream",
          "name": "stdout",
          "text": [
            "Looking in indexes: https://pypi.org/simple, https://us-python.pkg.dev/colab-wheels/public/simple/\n",
            "Collecting xlrd==1.2.0\n",
            "  Downloading xlrd-1.2.0-py2.py3-none-any.whl (103 kB)\n",
            "\u001b[K     |████████████████████████████████| 103 kB 7.9 MB/s \n",
            "\u001b[?25hInstalling collected packages: xlrd\n",
            "  Attempting uninstall: xlrd\n",
            "    Found existing installation: xlrd 1.1.0\n",
            "    Uninstalling xlrd-1.1.0:\n",
            "      Successfully uninstalled xlrd-1.1.0\n",
            "Successfully installed xlrd-1.2.0\n"
          ]
        }
      ]
    },
    {
      "cell_type": "code",
      "execution_count": 3,
      "metadata": {
        "colab": {
          "base_uri": "https://localhost:8080/"
        },
        "id": "fmQhcCusHwUb",
        "outputId": "0561c147-920f-416c-d773-96b680aafdea"
      },
      "outputs": [
        {
          "output_type": "stream",
          "name": "stdout",
          "text": [
            "<class 'pandas.core.frame.DataFrame'>\n",
            "RangeIndex: 9994 entries, 0 to 9993\n",
            "Data columns (total 21 columns):\n",
            " #   Column         Non-Null Count  Dtype         \n",
            "---  ------         --------------  -----         \n",
            " 0   Row ID         9994 non-null   int64         \n",
            " 1   Order ID       9994 non-null   object        \n",
            " 2   Order Date     9994 non-null   datetime64[ns]\n",
            " 3   Ship Date      9994 non-null   datetime64[ns]\n",
            " 4   Ship Mode      9994 non-null   object        \n",
            " 5   Customer ID    9994 non-null   object        \n",
            " 6   Customer Name  9994 non-null   object        \n",
            " 7   Segment        9994 non-null   object        \n",
            " 8   Country        9994 non-null   object        \n",
            " 9   City           9994 non-null   object        \n",
            " 10  State          9994 non-null   object        \n",
            " 11  Postal Code    9994 non-null   int64         \n",
            " 12  Region         9994 non-null   object        \n",
            " 13  Product ID     9994 non-null   object        \n",
            " 14  Category       9994 non-null   object        \n",
            " 15  Sub-Category   9994 non-null   object        \n",
            " 16  Product Name   9994 non-null   object        \n",
            " 17  Sales          9994 non-null   float64       \n",
            " 18  Quantity       9994 non-null   int64         \n",
            " 19  Discount       9994 non-null   float64       \n",
            " 20  Profit         9994 non-null   float64       \n",
            "dtypes: datetime64[ns](2), float64(3), int64(3), object(13)\n",
            "memory usage: 1.6+ MB\n"
          ]
        }
      ],
      "source": [
        "import pandas as pd\n",
        "import numpy as np\n",
        "import matplotlib.pyplot as plt\n",
        "import seaborn as sns\n",
        "import matplotlib\n",
        "import warnings\n",
        "warnings.filterwarnings('ignore')\n",
        "\n",
        "%matplotlib inline\n",
        "\n",
        "\n",
        "\n",
        "df = pd.read_excel(\"/content/drive/MyDrive/Colab Notebooks/mec16/mec-16.4.1-anomaly-detection-mini-project/Superstore.xls\")\n",
        "df.info()"
      ]
    },
    {
      "cell_type": "markdown",
      "metadata": {
        "id": "uQvr2Vq2HwUc"
      },
      "source": [
        "We don't have any major missing values in our dataset and we can now look at a sample subset of the data"
      ]
    },
    {
      "cell_type": "code",
      "execution_count": 4,
      "metadata": {
        "id": "eg1CVohKHwUc",
        "colab": {
          "base_uri": "https://localhost:8080/"
        },
        "outputId": "b2d527a2-a48a-46a3-dcf5-3a433c2bf662"
      },
      "outputs": [
        {
          "output_type": "stream",
          "name": "stdout",
          "text": [
            "(9994, 21)\n",
            "   Row ID        Order ID Order Date  Ship Date       Ship Mode Customer ID  \\\n",
            "0       1  CA-2016-152156 2016-11-08 2016-11-11    Second Class    CG-12520   \n",
            "1       2  CA-2016-152156 2016-11-08 2016-11-11    Second Class    CG-12520   \n",
            "2       3  CA-2016-138688 2016-06-12 2016-06-16    Second Class    DV-13045   \n",
            "3       4  US-2015-108966 2015-10-11 2015-10-18  Standard Class    SO-20335   \n",
            "4       5  US-2015-108966 2015-10-11 2015-10-18  Standard Class    SO-20335   \n",
            "\n",
            "     Customer Name    Segment        Country             City  ...  \\\n",
            "0      Claire Gute   Consumer  United States        Henderson  ...   \n",
            "1      Claire Gute   Consumer  United States        Henderson  ...   \n",
            "2  Darrin Van Huff  Corporate  United States      Los Angeles  ...   \n",
            "3   Sean O'Donnell   Consumer  United States  Fort Lauderdale  ...   \n",
            "4   Sean O'Donnell   Consumer  United States  Fort Lauderdale  ...   \n",
            "\n",
            "  Postal Code  Region       Product ID         Category Sub-Category  \\\n",
            "0       42420   South  FUR-BO-10001798        Furniture    Bookcases   \n",
            "1       42420   South  FUR-CH-10000454        Furniture       Chairs   \n",
            "2       90036    West  OFF-LA-10000240  Office Supplies       Labels   \n",
            "3       33311   South  FUR-TA-10000577        Furniture       Tables   \n",
            "4       33311   South  OFF-ST-10000760  Office Supplies      Storage   \n",
            "\n",
            "                                        Product Name     Sales  Quantity  \\\n",
            "0                  Bush Somerset Collection Bookcase  261.9600         2   \n",
            "1  Hon Deluxe Fabric Upholstered Stacking Chairs,...  731.9400         3   \n",
            "2  Self-Adhesive Address Labels for Typewriters b...   14.6200         2   \n",
            "3      Bretford CR4500 Series Slim Rectangular Table  957.5775         5   \n",
            "4                     Eldon Fold 'N Roll Cart System   22.3680         2   \n",
            "\n",
            "   Discount    Profit  \n",
            "0      0.00   41.9136  \n",
            "1      0.00  219.5820  \n",
            "2      0.00    6.8714  \n",
            "3      0.45 -383.0310  \n",
            "4      0.20    2.5164  \n",
            "\n",
            "[5 rows x 21 columns]\n"
          ]
        }
      ],
      "source": [
        "print(df.shape)\n",
        "print(df.head())"
      ]
    },
    {
      "cell_type": "markdown",
      "metadata": {
        "id": "dLFOwci9HwUc"
      },
      "source": [
        "## Visualize Sales vs. Order Date \n",
        "\n",
        "Let's look more closely at the __`Sales`__ attribute of the dataset in the next few cells. We'll start by looking at typical sales over time "
      ]
    },
    {
      "cell_type": "code",
      "execution_count": 5,
      "metadata": {
        "id": "chUASVRrHwUd",
        "colab": {
          "base_uri": "https://localhost:8080/",
          "height": 392
        },
        "outputId": "d7f3fa27-06a3-4021-8c12-4e12adf58143"
      },
      "outputs": [
        {
          "output_type": "display_data",
          "data": {
            "text/plain": [
              "<Figure size 864x432 with 1 Axes>"
            ],
            "image/png": "[encoded data removed]"
          },
          "metadata": {
            "needs_background": "light"
          }
        }
      ],
      "source": [
        "fig, ax = plt.subplots(1, 1, figsize=(12, 6))\n",
        "sns.lineplot(x=df['Order Date'], y=df['Sales']);"
      ]
    },
    {
      "cell_type": "markdown",
      "metadata": {
        "id": "jmIOKr-3HwUe"
      },
      "source": [
        "## Visualize Sales Distribution\n",
        "\n",
        "\n",
        "Let's now look at the data distribution for __`Sales`__"
      ]
    },
    {
      "cell_type": "code",
      "execution_count": 6,
      "metadata": {
        "id": "6wXsu2wTHwUe",
        "colab": {
          "base_uri": "https://localhost:8080/",
          "height": 295
        },
        "outputId": "beea334e-972a-4919-be67-7d40d98f9627"
      },
      "outputs": [
        {
          "output_type": "display_data",
          "data": {
            "text/plain": [
              "<Figure size 432x288 with 1 Axes>"
            ],
            "image/png": "[encoded data removed]"
          },
          "metadata": {
            "needs_background": "light"
          }
        }
      ],
      "source": [
        "sns.distplot(df['Sales'])\n",
        "plt.title(\"Sales Distribution\");"
      ]
    },
    {
      "cell_type": "code",
      "execution_count": 7,
      "metadata": {
        "id": "YBwf3RQcHwUf",
        "colab": {
          "base_uri": "https://localhost:8080/"
        },
        "outputId": "2176d227-800c-42d2-8339-5b7a5c359f09"
      },
      "outputs": [
        {
          "output_type": "execute_result",
          "data": {
            "text/plain": [
              "count     9994.000000\n",
              "mean       229.858001\n",
              "std        623.245101\n",
              "min          0.444000\n",
              "25%         17.280000\n",
              "50%         54.490000\n",
              "75%        209.940000\n",
              "max      22638.480000\n",
              "Name: Sales, dtype: float64"
            ]
          },
          "metadata": {},
          "execution_count": 7
        }
      ],
      "source": [
        "df['Sales'].describe()"
      ]
    },
    {
      "cell_type": "markdown",
      "metadata": {
        "id": "HLieP-OqHwUf"
      },
      "source": [
        "We can definitely see the presence of potential outliers in terms of the min or max values as compared to the meat of the distribution in the interquartile range as observed in the distribution statistics"
      ]
    },
    {
      "cell_type": "markdown",
      "metadata": {
        "id": "YG1aI8mVHwUf"
      },
      "source": [
        "## Q 2.1: Visualize Profit vs. Order Date \n",
        "\n",
        "Let's now look closely at the __`Profit`__ attribute of the dataset in the next few cells. We'll start by looking at typical profits over time.\n",
        "\n",
        "__Your turn: Plot `Order Date` vs. `Profit` using a line plot__"
      ]
    },
    {
      "cell_type": "code",
      "execution_count": 8,
      "metadata": {
        "id": "DRhbtKJ4HwUg",
        "colab": {
          "base_uri": "https://localhost:8080/",
          "height": 421
        },
        "outputId": "0b029c23-0972-4a75-a930-10f684de0d92"
      },
      "outputs": [
        {
          "output_type": "execute_result",
          "data": {
            "text/plain": [
              "Text(0.5, 1.0, 'Order Date VS Profit')"
            ]
          },
          "metadata": {},
          "execution_count": 8
        },
        {
          "output_type": "display_data",
          "data": {
            "text/plain": [
              "<Figure size 864x432 with 1 Axes>"
            ],
            "image/png": "[encoded data removed]"
          },
          "metadata": {
            "needs_background": "light"
          }
        }
      ],
      "source": [
        "fig, ax = plt.subplots(1, 1, figsize=(12, 6))\n",
        "sns.lineplot(x=df['Order Date'], y=df['Profit']);\n",
        "plt.title(\"Order Date VS Profit\")"
      ]
    },
    {
      "cell_type": "markdown",
      "metadata": {
        "id": "oinSMtLvHwUg"
      },
      "source": [
        "## Q 2.2: Visualize Profit Distribution\n",
        "\n",
        "Let's now look at the data distribution for __`Profit`__\n",
        "\n",
        "__Your turn: Plot the distribution for `Profit`__"
      ]
    },
    {
      "cell_type": "code",
      "execution_count": 9,
      "metadata": {
        "id": "gIVDk3qzHwUg",
        "colab": {
          "base_uri": "https://localhost:8080/",
          "height": 295
        },
        "outputId": "98c3cece-98fb-4838-d34a-9db3332c14bb"
      },
      "outputs": [
        {
          "output_type": "display_data",
          "data": {
            "text/plain": [
              "<Figure size 432x288 with 1 Axes>"
            ],
            "image/png": "[encoded data removed]"
          },
          "metadata": {
            "needs_background": "light"
          }
        }
      ],
      "source": [
        "sns.distplot(df['Profit'])\n",
        "plt.title(\"Profit Distribution\");"
      ]
    },
    {
      "cell_type": "markdown",
      "metadata": {
        "id": "AUqn9e4eHwUg"
      },
      "source": [
        "__Your turn: Get the essential descriptive statistics for `Profit` using an appropriate function__"
      ]
    },
    {
      "cell_type": "code",
      "execution_count": 10,
      "metadata": {
        "id": "d6pPQJRBHwUh",
        "colab": {
          "base_uri": "https://localhost:8080/"
        },
        "outputId": "837be3a0-6792-4a83-d5df-4cdad524fa05"
      },
      "outputs": [
        {
          "output_type": "execute_result",
          "data": {
            "text/plain": [
              "count    9994.000000\n",
              "mean       28.656896\n",
              "std       234.260108\n",
              "min     -6599.978000\n",
              "25%         1.728750\n",
              "50%         8.666500\n",
              "75%        29.364000\n",
              "max      8399.976000\n",
              "Name: Profit, dtype: float64"
            ]
          },
          "metadata": {},
          "execution_count": 10
        }
      ],
      "source": [
        "df.Profit.describe()"
      ]
    },
    {
      "cell_type": "markdown",
      "metadata": {
        "id": "IiFUKPAxHwUh"
      },
      "source": [
        "__Your turn: Do you notice anything interesting about the distribution?__"
      ]
    },
    {
      "cell_type": "markdown",
      "metadata": {
        "id": "m6tAwgNRHwUh"
      },
      "source": [
        "We have both positive and negative values in profits since it indicates either a profit or a loss based on the sales and original price of the items."
      ]
    },
    {
      "cell_type": "markdown",
      "metadata": {
        "id": "IWtLb0KiHwUh"
      },
      "source": [
        "## Visualize Discount vs. Profit"
      ]
    },
    {
      "cell_type": "code",
      "execution_count": 11,
      "metadata": {
        "id": "TRIwjZAwHwUh",
        "colab": {
          "base_uri": "https://localhost:8080/",
          "height": 312
        },
        "outputId": "1908d910-534e-4d2a-f89f-38d4edc828af"
      },
      "outputs": [
        {
          "output_type": "execute_result",
          "data": {
            "text/plain": [
              "Text(0.5, 1.0, 'Discout vs Profit')"
            ]
          },
          "metadata": {},
          "execution_count": 11
        },
        {
          "output_type": "display_data",
          "data": {
            "text/plain": [
              "<Figure size 432x288 with 1 Axes>"
            ],
            "image/png": "[encoded data removed]"
          },
          "metadata": {
            "needs_background": "light"
          }
        }
      ],
      "source": [
        "sns.scatterplot(x=\"Discount\", y=\"Profit\", data=df);\n",
        "plt.title(\"Discout vs Profit\")"
      ]
    },
    {
      "cell_type": "markdown",
      "metadata": {
        "id": "t1_0cq4rHwUi"
      },
      "source": [
        "In the above visual, we look at a scatter plot showing the distribution of profits w.r.t discounts given"
      ]
    },
    {
      "cell_type": "markdown",
      "metadata": {
        "id": "SpoOrurXHwUi"
      },
      "source": [
        "# 3. Univariate Anomaly Detection\n",
        "\n",
        "Univariate is basically analysis done on a single attribute or feature. In this section, we will perform anomaly detection on a single attribute using the following methods.\n",
        "\n",
        "- Statistical Process Control Methods (mean + 3sigma thresholding)\n",
        "- Isolation Forest\n",
        "\n",
        "We will start off by demonstrating both these techniques on the __`Sales`__ attribute and later on, you will implement similar techniques on the __`Profit`__ attribute."
      ]
    },
    {
      "cell_type": "markdown",
      "metadata": {
        "id": "ms0TlZfDHwUi"
      },
      "source": [
        "## 3.1: Univariate Anomaly Detection on Sales using Statistical Modeling\n",
        "\n",
        "Here we start off by implementing anomaly detecting using statistical modeling on the __`Sales`__ attribute"
      ]
    },
    {
      "cell_type": "markdown",
      "metadata": {
        "id": "EatJLoPJHwUi"
      },
      "source": [
        "### Obtain Upper Limit Threshold for Sales\n",
        "\n",
        "Here we are concerned about transactions with high sales values so we compute the upper limit using the $\\mu$ + 3$\\sigma$ rule where $\\mu$ is the mean of the distribution and $\\sigma$ is the standard deviation of the distribution."
      ]
    },
    {
      "cell_type": "code",
      "execution_count": 12,
      "metadata": {
        "id": "bXovBPGUHwUj",
        "colab": {
          "base_uri": "https://localhost:8080/"
        },
        "outputId": "61c43761-8674-4e93-cf6e-864425dba857"
      },
      "outputs": [
        {
          "output_type": "stream",
          "name": "stdout",
          "text": [
            "Threshold Sales: 2099.593302356541\n"
          ]
        }
      ],
      "source": [
        "mean_sales = df['Sales'].mean()\n",
        "sigma_sales = df['Sales'].std()\n",
        "three_sigma_sales = 3*sigma_sales\n",
        "\n",
        "threshold_sales_value = mean_sales + three_sigma_sales\n",
        "print('Threshold Sales:', threshold_sales_value)"
      ]
    },
    {
      "cell_type": "markdown",
      "metadata": {
        "id": "-6vJCN0HHwUj"
      },
      "source": [
        "### Visualize Outlier Region"
      ]
    },
    {
      "cell_type": "code",
      "execution_count": 13,
      "metadata": {
        "id": "-x3hc4jmHwUj",
        "colab": {
          "base_uri": "https://localhost:8080/",
          "height": 404
        },
        "outputId": "ed9007c6-d822-480d-ff46-cc0340aa51e4"
      },
      "outputs": [
        {
          "output_type": "display_data",
          "data": {
            "text/plain": [
              "<Figure size 864x432 with 1 Axes>"
            ],
            "image/png": "[encoded data removed]"
          },
          "metadata": {
            "needs_background": "light"
          }
        }
      ],
      "source": [
        "fig, ax = plt.subplots(1, 1, figsize=(12, 6))\n",
        "\n",
        "sns.distplot(df['Sales'])\n",
        "plt.axvspan(threshold_sales_value, df['Sales'].max(), facecolor='r', alpha=0.3)\n",
        "plt.title(\"Sales Distribution with Outlier Region\");"
      ]
    },
    {
      "cell_type": "markdown",
      "metadata": {
        "id": "3GmAmKTuHwUj"
      },
      "source": [
        "### Filter and Sort Outliers\n",
        "\n",
        "Here we filter out the outlier observations and sort by descending order and view the top 5 outlier values"
      ]
    },
    {
      "cell_type": "code",
      "execution_count": 14,
      "metadata": {
        "id": "0nIalWWoHwUj",
        "colab": {
          "base_uri": "https://localhost:8080/"
        },
        "outputId": "30b483d8-58dc-4d54-cc05-aae2f2a70058"
      },
      "outputs": [
        {
          "output_type": "stream",
          "name": "stdout",
          "text": [
            "Total Sales Outliers: 127\n"
          ]
        },
        {
          "output_type": "execute_result",
          "data": {
            "text/plain": [
              "2697    22638.480\n",
              "6826    17499.950\n",
              "8153    13999.960\n",
              "2623    11199.968\n",
              "4190    10499.970\n",
              "Name: Sales, dtype: float64"
            ]
          },
          "metadata": {},
          "execution_count": 14
        }
      ],
      "source": [
        "sales_outliers_df = df['Sales'][df['Sales'] > threshold_sales_value]\n",
        "print('Total Sales Outliers:', len(sales_outliers_df))\n",
        "sales_outliers_sorted = sales_outliers_df.sort_values(ascending=False)\n",
        "sales_outliers_sorted.head(5)"
      ]
    },
    {
      "cell_type": "markdown",
      "metadata": {
        "id": "TywU5cNaHwUj"
      },
      "source": [
        "### View Top 10 Outlier Transactions"
      ]
    },
    {
      "cell_type": "code",
      "execution_count": 15,
      "metadata": {
        "id": "MrHgZjhrHwUk",
        "colab": {
          "base_uri": "https://localhost:8080/",
          "height": 363
        },
        "outputId": "2137aa50-179a-4a44-dea8-7ef93e0513ec"
      },
      "outputs": [
        {
          "output_type": "execute_result",
          "data": {
            "text/plain": [
              "               City         Category Sub-Category  \\\n",
              "2697   Jacksonville       Technology     Machines   \n",
              "6826      Lafayette       Technology      Copiers   \n",
              "8153        Seattle       Technology      Copiers   \n",
              "2623  New York City       Technology      Copiers   \n",
              "4190         Newark       Technology      Copiers   \n",
              "9039        Detroit  Office Supplies      Binders   \n",
              "4098    Minneapolis  Office Supplies      Binders   \n",
              "4277       Lakewood       Technology     Machines   \n",
              "8488      Arlington       Technology     Machines   \n",
              "6425   Philadelphia       Technology      Copiers   \n",
              "\n",
              "                                           Product Name      Sales  Quantity  \\\n",
              "2697  Cisco TelePresence System EX90 Videoconferenci...  22638.480         6   \n",
              "6826              Canon imageCLASS 2200 Advanced Copier  17499.950         5   \n",
              "8153              Canon imageCLASS 2200 Advanced Copier  13999.960         4   \n",
              "2623              Canon imageCLASS 2200 Advanced Copier  11199.968         4   \n",
              "4190              Canon imageCLASS 2200 Advanced Copier  10499.970         3   \n",
              "9039   GBC Ibimaster 500 Manual ProClick Binding System   9892.740        13   \n",
              "4098               Ibico EPK-21 Electric Binding System   9449.950         5   \n",
              "4277   3D Systems Cube Printer, 2nd Generation, Magenta   9099.930         7   \n",
              "8488  HP Designjet T520 Inkjet Large Format Printer ...   8749.950         5   \n",
              "6425              Canon imageCLASS 2200 Advanced Copier   8399.976         4   \n",
              "\n",
              "      Discount     Profit  \n",
              "2697       0.5 -1811.0784  \n",
              "6826       0.0  8399.9760  \n",
              "8153       0.0  6719.9808  \n",
              "2623       0.2  3919.9888  \n",
              "4190       0.0  5039.9856  \n",
              "9039       0.0  4946.3700  \n",
              "4098       0.0  4630.4755  \n",
              "4277       0.0  2365.9818  \n",
              "8488       0.0  2799.9840  \n",
              "6425       0.4  1119.9968  "
            ],
            "text/html": [
              "\n",
              "  <div id=\"df-03d37b33-bcdf-4cf2-a347-a4d43cd1c31d\">\n",
              "    <div class=\"colab-df-container\">\n",
              "      <div>\n",
              "<style scoped>\n",
              "    .dataframe tbody tr th:only-of-type {\n",
              "        vertical-align: middle;\n",
              "    }\n",
              "\n",
              "    .dataframe tbody tr th {\n",
              "        vertical-align: top;\n",
              "    }\n",
              "\n",
              "    .dataframe thead th {\n",
              "        text-align: right;\n",
              "    }\n",
              "</style>\n",
              "<table border=\"1\" class=\"dataframe\">\n",
              "  <thead>\n",
              "    <tr style=\"text-align: right;\">\n",
              "      <th></th>\n",
              "      <th>City</th>\n",
              "      <th>Category</th>\n",
              "      <th>Sub-Category</th>\n",
              "      <th>Product Name</th>\n",
              "      <th>Sales</th>\n",
              "      <th>Quantity</th>\n",
              "      <th>Discount</th>\n",
              "      <th>Profit</th>\n",
              "    </tr>\n",
              "  </thead>\n",
              "  <tbody>\n",
              "    <tr>\n",
              "      <th>2697</th>\n",
              "      <td>Jacksonville</td>\n",
              "      <td>Technology</td>\n",
              "      <td>Machines</td>\n",
              "      <td>Cisco TelePresence System EX90 Videoconferenci...</td>\n",
              "      <td>22638.480</td>\n",
              "      <td>6</td>\n",
              "      <td>0.5</td>\n",
              "      <td>-1811.0784</td>\n",
              "    </tr>\n",
              "    <tr>\n",
              "      <th>6826</th>\n",
              "      <td>Lafayette</td>\n",
              "      <td>Technology</td>\n",
              "      <td>Copiers</td>\n",
              "      <td>Canon imageCLASS 2200 Advanced Copier</td>\n",
              "      <td>17499.950</td>\n",
              "      <td>5</td>\n",
              "      <td>0.0</td>\n",
              "      <td>8399.9760</td>\n",
              "    </tr>\n",
              "    <tr>\n",
              "      <th>8153</th>\n",
              "      <td>Seattle</td>\n",
              "      <td>Technology</td>\n",
              "      <td>Copiers</td>\n",
              "      <td>Canon imageCLASS 2200 Advanced Copier</td>\n",
              "      <td>13999.960</td>\n",
              "      <td>4</td>\n",
              "      <td>0.0</td>\n",
              "      <td>6719.9808</td>\n",
              "    </tr>\n",
              "    <tr>\n",
              "      <th>2623</th>\n",
              "      <td>New York City</td>\n",
              "      <td>Technology</td>\n",
              "      <td>Copiers</td>\n",
              "      <td>Canon imageCLASS 2200 Advanced Copier</td>\n",
              "      <td>11199.968</td>\n",
              "      <td>4</td>\n",
              "      <td>0.2</td>\n",
              "      <td>3919.9888</td>\n",
              "    </tr>\n",
              "    <tr>\n",
              "      <th>4190</th>\n",
              "      <td>Newark</td>\n",
              "      <td>Technology</td>\n",
              "      <td>Copiers</td>\n",
              "      <td>Canon imageCLASS 2200 Advanced Copier</td>\n",
              "      <td>10499.970</td>\n",
              "      <td>3</td>\n",
              "      <td>0.0</td>\n",
              "      <td>5039.9856</td>\n",
              "    </tr>\n",
              "    <tr>\n",
              "      <th>9039</th>\n",
              "      <td>Detroit</td>\n",
              "      <td>Office Supplies</td>\n",
              "      <td>Binders</td>\n",
              "      <td>GBC Ibimaster 500 Manual ProClick Binding System</td>\n",
              "      <td>9892.740</td>\n",
              "      <td>13</td>\n",
              "      <td>0.0</td>\n",
              "      <td>4946.3700</td>\n",
              "    </tr>\n",
              "    <tr>\n",
              "      <th>4098</th>\n",
              "      <td>Minneapolis</td>\n",
              "      <td>Office Supplies</td>\n",
              "      <td>Binders</td>\n",
              "      <td>Ibico EPK-21 Electric Binding System</td>\n",
              "      <td>9449.950</td>\n",
              "      <td>5</td>\n",
              "      <td>0.0</td>\n",
              "      <td>4630.4755</td>\n",
              "    </tr>\n",
              "    <tr>\n",
              "      <th>4277</th>\n",
              "      <td>Lakewood</td>\n",
              "      <td>Technology</td>\n",
              "      <td>Machines</td>\n",
              "      <td>3D Systems Cube Printer, 2nd Generation, Magenta</td>\n",
              "      <td>9099.930</td>\n",
              "      <td>7</td>\n",
              "      <td>0.0</td>\n",
              "      <td>2365.9818</td>\n",
              "    </tr>\n",
              "    <tr>\n",
              "      <th>8488</th>\n",
              "      <td>Arlington</td>\n",
              "      <td>Technology</td>\n",
              "      <td>Machines</td>\n",
              "      <td>HP Designjet T520 Inkjet Large Format Printer ...</td>\n",
              "      <td>8749.950</td>\n",
              "      <td>5</td>\n",
              "      <td>0.0</td>\n",
              "      <td>2799.9840</td>\n",
              "    </tr>\n",
              "    <tr>\n",
              "      <th>6425</th>\n",
              "      <td>Philadelphia</td>\n",
              "      <td>Technology</td>\n",
              "      <td>Copiers</td>\n",
              "      <td>Canon imageCLASS 2200 Advanced Copier</td>\n",
              "      <td>8399.976</td>\n",
              "      <td>4</td>\n",
              "      <td>0.4</td>\n",
              "      <td>1119.9968</td>\n",
              "    </tr>\n",
              "  </tbody>\n",
              "</table>\n",
              "</div>\n",
              "      <button class=\"colab-df-convert\" onclick=\"convertToInteractive('df-03d37b33-bcdf-4cf2-a347-a4d43cd1c31d')\"\n",
              "              title=\"Convert this dataframe to an interactive table.\"\n",
              "              style=\"display:none;\">\n",
              "        \n",
              "  <svg xmlns=\"http://www.w3.org/2000/svg\" height=\"24px\"viewBox=\"0 0 24 24\"\n",
              "       width=\"24px\">\n",
              "    <path d=\"M0 0h24v24H0V0z\" fill=\"none\"/>\n",
              "    <path d=\"M18.56 5.44l.94 2.06.94-2.06 2.06-.94-2.06-.94-.94-2.06-.94 2.06-2.06.94zm-11 1L8.5 8.5l.94-2.06 2.06-.94-2.06-.94L8.5 2.5l-.94 2.06-2.06.94zm10 10l.94 2.06.94-2.06 2.06-.94-2.06-.94-.94-2.06-.94 2.06-2.06.94z\"/><path d=\"M17.41 7.96l-1.37-1.37c-.4-.4-.92-.59-1.43-.59-.52 0-1.04.2-1.43.59L10.3 9.45l-7.72 7.72c-.78.78-.78 2.05 0 2.83L4 21.41c.39.39.9.59 1.41.59.51 0 1.02-.2 1.41-.59l7.78-7.78 2.81-2.81c.8-.78.8-2.07 0-2.86zM5.41 20L4 18.59l7.72-7.72 1.47 1.35L5.41 20z\"/>\n",
              "  </svg>\n",
              "      </button>\n",
              "      \n",
              "  <style>\n",
              "    .colab-df-container {\n",
              "      display:flex;\n",
              "      flex-wrap:wrap;\n",
              "      gap: 12px;\n",
              "    }\n",
              "\n",
              "    .colab-df-convert {\n",
              "      background-color: #E8F0FE;\n",
              "      border: none;\n",
              "      border-radius: 50%;\n",
              "      cursor: pointer;\n",
              "      display: none;\n",
              "      fill: #1967D2;\n",
              "      height: 32px;\n",
              "      padding: 0 0 0 0;\n",
              "      width: 32px;\n",
              "    }\n",
              "\n",
              "    .colab-df-convert:hover {\n",
              "      background-color: #E2EBFA;\n",
              "      box-shadow: 0px 1px 2px rgba(60, 64, 67, 0.3), 0px 1px 3px 1px rgba(60, 64, 67, 0.15);\n",
              "      fill: #174EA6;\n",
              "    }\n",
              "\n",
              "    [theme=dark] .colab-df-convert {\n",
              "      background-color: #3B4455;\n",
              "      fill: #D2E3FC;\n",
              "    }\n",
              "\n",
              "    [theme=dark] .colab-df-convert:hover {\n",
              "      background-color: #434B5C;\n",
              "      box-shadow: 0px 1px 3px 1px rgba(0, 0, 0, 0.15);\n",
              "      filter: drop-shadow(0px 1px 2px rgba(0, 0, 0, 0.3));\n",
              "      fill: #FFFFFF;\n",
              "    }\n",
              "  </style>\n",
              "\n",
              "      <script>\n",
              "        const buttonEl =\n",
              "          document.querySelector('#df-03d37b33-bcdf-4cf2-a347-a4d43cd1c31d button.colab-df-convert');\n",
              "        buttonEl.style.display =\n",
              "          google.colab.kernel.accessAllowed ? 'block' : 'none';\n",
              "\n",
              "        async function convertToInteractive(key) {\n",
              "          const element = document.querySelector('#df-03d37b33-bcdf-4cf2-a347-a4d43cd1c31d');\n",
              "          const dataTable =\n",
              "            await google.colab.kernel.invokeFunction('convertToInteractive',\n",
              "                                                     [key], {});\n",
              "          if (!dataTable) return;\n",
              "\n",
              "          const docLinkHtml = 'Like what you see? Visit the ' +\n",
              "            '<a target=\"_blank\" href=https://colab.research.google.com/notebooks/data_table.ipynb>data table notebook</a>'\n",
              "            + ' to learn more about interactive tables.';\n",
              "          element.innerHTML = '';\n",
              "          dataTable['output_type'] = 'display_data';\n",
              "          await google.colab.output.renderOutput(dataTable, element);\n",
              "          const docLink = document.createElement('div');\n",
              "          docLink.innerHTML = docLinkHtml;\n",
              "          element.appendChild(docLink);\n",
              "        }\n",
              "      </script>\n",
              "    </div>\n",
              "  </div>\n",
              "  "
            ]
          },
          "metadata": {},
          "execution_count": 15
        }
      ],
      "source": [
        "(df.loc[sales_outliers_sorted.index.tolist()][['City', 'Category', 'Sub-Category', 'Product Name', \n",
        "                                              'Sales', 'Quantity', 'Discount', 'Profit']]).head(10)"
      ]
    },
    {
      "cell_type": "markdown",
      "metadata": {
        "id": "mjXdpy03HwUk"
      },
      "source": [
        "### View Bottom 10 Outlier Transactions"
      ]
    },
    {
      "cell_type": "code",
      "execution_count": 16,
      "metadata": {
        "id": "bIDut-gPHwUk",
        "colab": {
          "base_uri": "https://localhost:8080/",
          "height": 363
        },
        "outputId": "58b1331e-1126-4668-9e5e-576047e6fd47"
      },
      "outputs": [
        {
          "output_type": "execute_result",
          "data": {
            "text/plain": [
              "               City         Category Sub-Category  \\\n",
              "5300    Springfield        Furniture       Tables   \n",
              "6101  New York City        Furniture       Chairs   \n",
              "4881      Henderson       Technology  Accessories   \n",
              "7487          Dover       Technology  Accessories   \n",
              "1155   Harrisonburg        Furniture       Tables   \n",
              "8699      Nashville       Technology       Phones   \n",
              "9774    San Antonio  Office Supplies      Binders   \n",
              "8424       Lakewood        Furniture    Bookcases   \n",
              "6534        Buffalo  Office Supplies      Binders   \n",
              "8680       Richmond  Office Supplies   Appliances   \n",
              "\n",
              "                                           Product Name     Sales  Quantity  \\\n",
              "5300                  Hon Rectangular Conference Tables  2275.500        10   \n",
              "6101      Global Troy Executive Leather Low-Back Tilter  2254.410         5   \n",
              "4881                      Logitech diNovo Edge Keyboard  2249.910         9   \n",
              "7487                      Logitech diNovo Edge Keyboard  2249.910         9   \n",
              "1155  Chromcraft 48\" x 96\" Racetrack Double Pedestal...  2244.480         7   \n",
              "8699  Samsung Galaxy S III - 16GB - pebble blue (T-M...  2239.936         8   \n",
              "9774          GBC DocuBind P400 Electric Binding System  2177.584         8   \n",
              "8424  Global Adaptabilites Bookcase, Cherry/Storm Gr...  2154.900         5   \n",
              "6534         GBC DocuBind TL300 Electric Binding System  2152.776         3   \n",
              "8680  Honeywell Enviracaire Portable HEPA Air Cleane...  2104.550         7   \n",
              "\n",
              "      Discount     Profit  \n",
              "5300       0.0   386.8350  \n",
              "6101       0.1   375.7350  \n",
              "4881       0.0   517.4793  \n",
              "7487       0.0   517.4793  \n",
              "1155       0.0   493.7856  \n",
              "8699       0.2   223.9936  \n",
              "9774       0.8 -3701.8928  \n",
              "8424       0.0   129.2940  \n",
              "6534       0.2   726.5619  \n",
              "8680       0.0   694.5015  "
            ],
            "text/html": [
              "\n",
              "  <div id=\"df-48fe9bc1-4263-4048-a47c-7d0f391c0a27\">\n",
              "    <div class=\"colab-df-container\">\n",
              "      <div>\n",
              "<style scoped>\n",
              "    .dataframe tbody tr th:only-of-type {\n",
              "        vertical-align: middle;\n",
              "    }\n",
              "\n",
              "    .dataframe tbody tr th {\n",
              "        vertical-align: top;\n",
              "    }\n",
              "\n",
              "    .dataframe thead th {\n",
              "        text-align: right;\n",
              "    }\n",
              "</style>\n",
              "<table border=\"1\" class=\"dataframe\">\n",
              "  <thead>\n",
              "    <tr style=\"text-align: right;\">\n",
              "      <th></th>\n",
              "      <th>City</th>\n",
              "      <th>Category</th>\n",
              "      <th>Sub-Category</th>\n",
              "      <th>Product Name</th>\n",
              "      <th>Sales</th>\n",
              "      <th>Quantity</th>\n",
              "      <th>Discount</th>\n",
              "      <th>Profit</th>\n",
              "    </tr>\n",
              "  </thead>\n",
              "  <tbody>\n",
              "    <tr>\n",
              "      <th>5300</th>\n",
              "      <td>Springfield</td>\n",
              "      <td>Furniture</td>\n",
              "      <td>Tables</td>\n",
              "      <td>Hon Rectangular Conference Tables</td>\n",
              "      <td>2275.500</td>\n",
              "      <td>10</td>\n",
              "      <td>0.0</td>\n",
              "      <td>386.8350</td>\n",
              "    </tr>\n",
              "    <tr>\n",
              "      <th>6101</th>\n",
              "      <td>New York City</td>\n",
              "      <td>Furniture</td>\n",
              "      <td>Chairs</td>\n",
              "      <td>Global Troy Executive Leather Low-Back Tilter</td>\n",
              "      <td>2254.410</td>\n",
              "      <td>5</td>\n",
              "      <td>0.1</td>\n",
              "      <td>375.7350</td>\n",
              "    </tr>\n",
              "    <tr>\n",
              "      <th>4881</th>\n",
              "      <td>Henderson</td>\n",
              "      <td>Technology</td>\n",
              "      <td>Accessories</td>\n",
              "      <td>Logitech diNovo Edge Keyboard</td>\n",
              "      <td>2249.910</td>\n",
              "      <td>9</td>\n",
              "      <td>0.0</td>\n",
              "      <td>517.4793</td>\n",
              "    </tr>\n",
              "    <tr>\n",
              "      <th>7487</th>\n",
              "      <td>Dover</td>\n",
              "      <td>Technology</td>\n",
              "      <td>Accessories</td>\n",
              "      <td>Logitech diNovo Edge Keyboard</td>\n",
              "      <td>2249.910</td>\n",
              "      <td>9</td>\n",
              "      <td>0.0</td>\n",
              "      <td>517.4793</td>\n",
              "    </tr>\n",
              "    <tr>\n",
              "      <th>1155</th>\n",
              "      <td>Harrisonburg</td>\n",
              "      <td>Furniture</td>\n",
              "      <td>Tables</td>\n",
              "      <td>Chromcraft 48\" x 96\" Racetrack Double Pedestal...</td>\n",
              "      <td>2244.480</td>\n",
              "      <td>7</td>\n",
              "      <td>0.0</td>\n",
              "      <td>493.7856</td>\n",
              "    </tr>\n",
              "    <tr>\n",
              "      <th>8699</th>\n",
              "      <td>Nashville</td>\n",
              "      <td>Technology</td>\n",
              "      <td>Phones</td>\n",
              "      <td>Samsung Galaxy S III - 16GB - pebble blue (T-M...</td>\n",
              "      <td>2239.936</td>\n",
              "      <td>8</td>\n",
              "      <td>0.2</td>\n",
              "      <td>223.9936</td>\n",
              "    </tr>\n",
              "    <tr>\n",
              "      <th>9774</th>\n",
              "      <td>San Antonio</td>\n",
              "      <td>Office Supplies</td>\n",
              "      <td>Binders</td>\n",
              "      <td>GBC DocuBind P400 Electric Binding System</td>\n",
              "      <td>2177.584</td>\n",
              "      <td>8</td>\n",
              "      <td>0.8</td>\n",
              "      <td>-3701.8928</td>\n",
              "    </tr>\n",
              "    <tr>\n",
              "      <th>8424</th>\n",
              "      <td>Lakewood</td>\n",
              "      <td>Furniture</td>\n",
              "      <td>Bookcases</td>\n",
              "      <td>Global Adaptabilites Bookcase, Cherry/Storm Gr...</td>\n",
              "      <td>2154.900</td>\n",
              "      <td>5</td>\n",
              "      <td>0.0</td>\n",
              "      <td>129.2940</td>\n",
              "    </tr>\n",
              "    <tr>\n",
              "      <th>6534</th>\n",
              "      <td>Buffalo</td>\n",
              "      <td>Office Supplies</td>\n",
              "      <td>Binders</td>\n",
              "      <td>GBC DocuBind TL300 Electric Binding System</td>\n",
              "      <td>2152.776</td>\n",
              "      <td>3</td>\n",
              "      <td>0.2</td>\n",
              "      <td>726.5619</td>\n",
              "    </tr>\n",
              "    <tr>\n",
              "      <th>8680</th>\n",
              "      <td>Richmond</td>\n",
              "      <td>Office Supplies</td>\n",
              "      <td>Appliances</td>\n",
              "      <td>Honeywell Enviracaire Portable HEPA Air Cleane...</td>\n",
              "      <td>2104.550</td>\n",
              "      <td>7</td>\n",
              "      <td>0.0</td>\n",
              "      <td>694.5015</td>\n",
              "    </tr>\n",
              "  </tbody>\n",
              "</table>\n",
              "</div>\n",
              "      <button class=\"colab-df-convert\" onclick=\"convertToInteractive('df-48fe9bc1-4263-4048-a47c-7d0f391c0a27')\"\n",
              "              title=\"Convert this dataframe to an interactive table.\"\n",
              "              style=\"display:none;\">\n",
              "        \n",
              "  <svg xmlns=\"http://www.w3.org/2000/svg\" height=\"24px\"viewBox=\"0 0 24 24\"\n",
              "       width=\"24px\">\n",
              "    <path d=\"M0 0h24v24H0V0z\" fill=\"none\"/>\n",
              "    <path d=\"M18.56 5.44l.94 2.06.94-2.06 2.06-.94-2.06-.94-.94-2.06-.94 2.06-2.06.94zm-11 1L8.5 8.5l.94-2.06 2.06-.94-2.06-.94L8.5 2.5l-.94 2.06-2.06.94zm10 10l.94 2.06.94-2.06 2.06-.94-2.06-.94-.94-2.06-.94 2.06-2.06.94z\"/><path d=\"M17.41 7.96l-1.37-1.37c-.4-.4-.92-.59-1.43-.59-.52 0-1.04.2-1.43.59L10.3 9.45l-7.72 7.72c-.78.78-.78 2.05 0 2.83L4 21.41c.39.39.9.59 1.41.59.51 0 1.02-.2 1.41-.59l7.78-7.78 2.81-2.81c.8-.78.8-2.07 0-2.86zM5.41 20L4 18.59l7.72-7.72 1.47 1.35L5.41 20z\"/>\n",
              "  </svg>\n",
              "      </button>\n",
              "      \n",
              "  <style>\n",
              "    .colab-df-container {\n",
              "      display:flex;\n",
              "      flex-wrap:wrap;\n",
              "      gap: 12px;\n",
              "    }\n",
              "\n",
              "    .colab-df-convert {\n",
              "      background-color: #E8F0FE;\n",
              "      border: none;\n",
              "      border-radius: 50%;\n",
              "      cursor: pointer;\n",
              "      display: none;\n",
              "      fill: #1967D2;\n",
              "      height: 32px;\n",
              "      padding: 0 0 0 0;\n",
              "      width: 32px;\n",
              "    }\n",
              "\n",
              "    .colab-df-convert:hover {\n",
              "      background-color: #E2EBFA;\n",
              "      box-shadow: 0px 1px 2px rgba(60, 64, 67, 0.3), 0px 1px 3px 1px rgba(60, 64, 67, 0.15);\n",
              "      fill: #174EA6;\n",
              "    }\n",
              "\n",
              "    [theme=dark] .colab-df-convert {\n",
              "      background-color: #3B4455;\n",
              "      fill: #D2E3FC;\n",
              "    }\n",
              "\n",
              "    [theme=dark] .colab-df-convert:hover {\n",
              "      background-color: #434B5C;\n",
              "      box-shadow: 0px 1px 3px 1px rgba(0, 0, 0, 0.15);\n",
              "      filter: drop-shadow(0px 1px 2px rgba(0, 0, 0, 0.3));\n",
              "      fill: #FFFFFF;\n",
              "    }\n",
              "  </style>\n",
              "\n",
              "      <script>\n",
              "        const buttonEl =\n",
              "          document.querySelector('#df-48fe9bc1-4263-4048-a47c-7d0f391c0a27 button.colab-df-convert');\n",
              "        buttonEl.style.display =\n",
              "          google.colab.kernel.accessAllowed ? 'block' : 'none';\n",
              "\n",
              "        async function convertToInteractive(key) {\n",
              "          const element = document.querySelector('#df-48fe9bc1-4263-4048-a47c-7d0f391c0a27');\n",
              "          const dataTable =\n",
              "            await google.colab.kernel.invokeFunction('convertToInteractive',\n",
              "                                                     [key], {});\n",
              "          if (!dataTable) return;\n",
              "\n",
              "          const docLinkHtml = 'Like what you see? Visit the ' +\n",
              "            '<a target=\"_blank\" href=https://colab.research.google.com/notebooks/data_table.ipynb>data table notebook</a>'\n",
              "            + ' to learn more about interactive tables.';\n",
              "          element.innerHTML = '';\n",
              "          dataTable['output_type'] = 'display_data';\n",
              "          await google.colab.output.renderOutput(dataTable, element);\n",
              "          const docLink = document.createElement('div');\n",
              "          docLink.innerHTML = docLinkHtml;\n",
              "          element.appendChild(docLink);\n",
              "        }\n",
              "      </script>\n",
              "    </div>\n",
              "  </div>\n",
              "  "
            ]
          },
          "metadata": {},
          "execution_count": 16
        }
      ],
      "source": [
        "(df.loc[sales_outliers_sorted.index.tolist()][['City', 'Category', 'Sub-Category', 'Product Name', \n",
        "                                              'Sales', 'Quantity', 'Discount', 'Profit']]).tail(10)"
      ]
    },
    {
      "cell_type": "markdown",
      "metadata": {
        "id": "s6PAs9XlHwUk"
      },
      "source": [
        "## Q 3.2: Univariate Anomaly Detection on Profit using Statistical Modeling\n",
        "\n",
        "In this section you will use the learning from Section 3.1 and implement anomaly detecting using statistical modeling on the __`Profit`__ attribute. Since we have both +ve (profits) and -ve (losses) values in the distribution, we will try to find anomalies for each."
      ]
    },
    {
      "cell_type": "markdown",
      "metadata": {
        "id": "OVKnYPd6HwUk"
      },
      "source": [
        "### Obtain Upper Limit Threshold for Profit\n",
        "\n",
        "__Your turn:__ Compute the upper and lower limits using the  𝜇  + 3 𝜎  rule where  𝜇  is the mean of the distribution and  𝜎  is the standard deviation of the distribution."
      ]
    },
    {
      "cell_type": "code",
      "execution_count": 17,
      "metadata": {
        "id": "UsgdKljGHwUl",
        "colab": {
          "base_uri": "https://localhost:8080/"
        },
        "outputId": "1da1df24-253f-481e-8e12-09b6f29432ff"
      },
      "outputs": [
        {
          "output_type": "stream",
          "name": "stdout",
          "text": [
            "Thresholds Profit: -1639.877300695544 2099.593302356541\n"
          ]
        }
      ],
      "source": [
        "mean_profit = df.Profit.mean()\n",
        "sigma_profit = df.Profit.std()\n",
        "three_sigma_profit = 3*sigma_profit\n",
        "\n",
        "threshold_profit_upper_limit = mean_sales + three_sigma_sales\n",
        "threshold_profit_lower_limit = mean_sales - three_sigma_sales\n",
        "\n",
        "print('Thresholds Profit:', threshold_profit_lower_limit, threshold_profit_upper_limit)"
      ]
    },
    {
      "cell_type": "markdown",
      "metadata": {
        "id": "1Ckix3nLHwUl"
      },
      "source": [
        "### Visualize Outlier Regions\n",
        "\n",
        "__Your turn:__ Visualize the upper and lower outlier regions in the distribution similar to what you did in 3.1"
      ]
    },
    {
      "cell_type": "code",
      "execution_count": 18,
      "metadata": {
        "id": "92KTVDTFHwUl",
        "colab": {
          "base_uri": "https://localhost:8080/",
          "height": 404
        },
        "outputId": "c9cb0101-75f1-4542-bb2a-665059206c78"
      },
      "outputs": [
        {
          "output_type": "display_data",
          "data": {
            "text/plain": [
              "<Figure size 864x432 with 1 Axes>"
            ],
            "image/png": "[encoded data removed]"
          },
          "metadata": {
            "needs_background": "light"
          }
        }
      ],
      "source": [
        "fig, ax = plt.subplots(1, 1, figsize=(12, 6))\n",
        "\n",
        "sns.distplot(df['Profit'])\n",
        "plt.axvspan(threshold_profit_upper_limit, df.Profit.max(), facecolor='b', alpha=0.3)\n",
        "plt.axvspan(df.Profit.min(), threshold_profit_lower_limit, facecolor='g', alpha=0.3)\n",
        "plt.title(\"Profit Distribution with Outlier Region\");"
      ]
    },
    {
      "cell_type": "markdown",
      "metadata": {
        "id": "1FLETFtsHwUl"
      },
      "source": [
        "### Filter and Sort Outliers\n",
        "\n",
        "__Your turn:__ Filter out the outlier observations and sort by descending order and view the top 5 outlier values"
      ]
    },
    {
      "cell_type": "code",
      "execution_count": 19,
      "metadata": {
        "id": "NG8xekxeHwUl",
        "colab": {
          "base_uri": "https://localhost:8080/"
        },
        "outputId": "c262461c-2f39-4bb8-ab54-475c13feb2c2"
      },
      "outputs": [
        {
          "output_type": "stream",
          "name": "stdout",
          "text": [
            "Total Upper Profit  Outliers : 15\n",
            "6826    8399.9760\n",
            "8153    6719.9808\n",
            "4190    5039.9856\n",
            "9039    4946.3700\n",
            "4098    4630.4755\n",
            "Name: Profit, dtype: float64\n",
            "-----------------------------------\n",
            "Total Lower  Profit/Loss Outliers : 11\n",
            "7772   -6599.9780\n",
            "683    -3839.9904\n",
            "9774   -3701.8928\n",
            "3011   -3399.9800\n",
            "4991   -2929.4845\n",
            "Name: Profit, dtype: float64\n"
          ]
        }
      ],
      "source": [
        "profits_outliers_df = df['Profit'][df['Profit'] > threshold_profit_upper_limit]\n",
        "print('Total Upper Profit  Outliers :', len(profits_outliers_df))\n",
        "profits_outliers_sorted = profits_outliers_df.sort_values(ascending=False)\n",
        "print(profits_outliers_sorted.head(5))\n",
        "\n",
        "#Separately report lower limit\n",
        "print(\"-----------------------------------\")\n",
        "loss_outliers_df = df['Profit'][df['Profit'] < threshold_profit_lower_limit]\n",
        "print('Total Lower  Profit/Loss Outliers :', len(loss_outliers_df))\n",
        "loss_outliers_sorted = loss_outliers_df.sort_values(ascending=True)\n",
        "print(loss_outliers_sorted.head(5))"
      ]
    },
    {
      "cell_type": "markdown",
      "metadata": {
        "id": "M1B1u6udHwUl"
      },
      "source": [
        "### View Top 10 Outlier Transactions\n",
        "\n",
        "__Your turn:__ View the top ten transactions based on highest profits"
      ]
    },
    {
      "cell_type": "code",
      "execution_count": 20,
      "metadata": {
        "id": "aDK7hCaGHwUm",
        "colab": {
          "base_uri": "https://localhost:8080/",
          "height": 363
        },
        "outputId": "660107e1-c264-488d-b810-34d07b2c2a68"
      },
      "outputs": [
        {
          "output_type": "execute_result",
          "data": {
            "text/plain": [
              "               City         Category Sub-Category  \\\n",
              "6826      Lafayette       Technology      Copiers   \n",
              "8153        Seattle       Technology      Copiers   \n",
              "4190         Newark       Technology      Copiers   \n",
              "9039        Detroit  Office Supplies      Binders   \n",
              "4098    Minneapolis  Office Supplies      Binders   \n",
              "2623  New York City       Technology      Copiers   \n",
              "509         Atlanta  Office Supplies      Binders   \n",
              "8488      Arlington       Technology     Machines   \n",
              "7666     Providence       Technology      Copiers   \n",
              "6520        Jackson  Office Supplies      Binders   \n",
              "\n",
              "                                           Product Name      Sales  Quantity  \\\n",
              "6826              Canon imageCLASS 2200 Advanced Copier  17499.950         5   \n",
              "8153              Canon imageCLASS 2200 Advanced Copier  13999.960         4   \n",
              "4190              Canon imageCLASS 2200 Advanced Copier  10499.970         3   \n",
              "9039   GBC Ibimaster 500 Manual ProClick Binding System   9892.740        13   \n",
              "4098               Ibico EPK-21 Electric Binding System   9449.950         5   \n",
              "2623              Canon imageCLASS 2200 Advanced Copier  11199.968         4   \n",
              "509   Fellowes PB500 Electric Punch Plastic Comb Bin...   6354.950         5   \n",
              "8488  HP Designjet T520 Inkjet Large Format Printer ...   8749.950         5   \n",
              "7666               Hewlett Packard LaserJet 3310 Copier   5399.910         9   \n",
              "6520          GBC DocuBind P400 Electric Binding System   5443.960         4   \n",
              "\n",
              "      Discount     Profit  \n",
              "6826       0.0  8399.9760  \n",
              "8153       0.0  6719.9808  \n",
              "4190       0.0  5039.9856  \n",
              "9039       0.0  4946.3700  \n",
              "4098       0.0  4630.4755  \n",
              "2623       0.2  3919.9888  \n",
              "509        0.0  3177.4750  \n",
              "8488       0.0  2799.9840  \n",
              "7666       0.0  2591.9568  \n",
              "6520       0.0  2504.2216  "
            ],
            "text/html": [
              "\n",
              "  <div id=\"df-02bc68d9-1d0c-420e-81a6-3c742a80f5a2\">\n",
              "    <div class=\"colab-df-container\">\n",
              "      <div>\n",
              "<style scoped>\n",
              "    .dataframe tbody tr th:only-of-type {\n",
              "        vertical-align: middle;\n",
              "    }\n",
              "\n",
              "    .dataframe tbody tr th {\n",
              "        vertical-align: top;\n",
              "    }\n",
              "\n",
              "    .dataframe thead th {\n",
              "        text-align: right;\n",
              "    }\n",
              "</style>\n",
              "<table border=\"1\" class=\"dataframe\">\n",
              "  <thead>\n",
              "    <tr style=\"text-align: right;\">\n",
              "      <th></th>\n",
              "      <th>City</th>\n",
              "      <th>Category</th>\n",
              "      <th>Sub-Category</th>\n",
              "      <th>Product Name</th>\n",
              "      <th>Sales</th>\n",
              "      <th>Quantity</th>\n",
              "      <th>Discount</th>\n",
              "      <th>Profit</th>\n",
              "    </tr>\n",
              "  </thead>\n",
              "  <tbody>\n",
              "    <tr>\n",
              "      <th>6826</th>\n",
              "      <td>Lafayette</td>\n",
              "      <td>Technology</td>\n",
              "      <td>Copiers</td>\n",
              "      <td>Canon imageCLASS 2200 Advanced Copier</td>\n",
              "      <td>17499.950</td>\n",
              "      <td>5</td>\n",
              "      <td>0.0</td>\n",
              "      <td>8399.9760</td>\n",
              "    </tr>\n",
              "    <tr>\n",
              "      <th>8153</th>\n",
              "      <td>Seattle</td>\n",
              "      <td>Technology</td>\n",
              "      <td>Copiers</td>\n",
              "      <td>Canon imageCLASS 2200 Advanced Copier</td>\n",
              "      <td>13999.960</td>\n",
              "      <td>4</td>\n",
              "      <td>0.0</td>\n",
              "      <td>6719.9808</td>\n",
              "    </tr>\n",
              "    <tr>\n",
              "      <th>4190</th>\n",
              "      <td>Newark</td>\n",
              "      <td>Technology</td>\n",
              "      <td>Copiers</td>\n",
              "      <td>Canon imageCLASS 2200 Advanced Copier</td>\n",
              "      <td>10499.970</td>\n",
              "      <td>3</td>\n",
              "      <td>0.0</td>\n",
              "      <td>5039.9856</td>\n",
              "    </tr>\n",
              "    <tr>\n",
              "      <th>9039</th>\n",
              "      <td>Detroit</td>\n",
              "      <td>Office Supplies</td>\n",
              "      <td>Binders</td>\n",
              "      <td>GBC Ibimaster 500 Manual ProClick Binding System</td>\n",
              "      <td>9892.740</td>\n",
              "      <td>13</td>\n",
              "      <td>0.0</td>\n",
              "      <td>4946.3700</td>\n",
              "    </tr>\n",
              "    <tr>\n",
              "      <th>4098</th>\n",
              "      <td>Minneapolis</td>\n",
              "      <td>Office Supplies</td>\n",
              "      <td>Binders</td>\n",
              "      <td>Ibico EPK-21 Electric Binding System</td>\n",
              "      <td>9449.950</td>\n",
              "      <td>5</td>\n",
              "      <td>0.0</td>\n",
              "      <td>4630.4755</td>\n",
              "    </tr>\n",
              "    <tr>\n",
              "      <th>2623</th>\n",
              "      <td>New York City</td>\n",
              "      <td>Technology</td>\n",
              "      <td>Copiers</td>\n",
              "      <td>Canon imageCLASS 2200 Advanced Copier</td>\n",
              "      <td>11199.968</td>\n",
              "      <td>4</td>\n",
              "      <td>0.2</td>\n",
              "      <td>3919.9888</td>\n",
              "    </tr>\n",
              "    <tr>\n",
              "      <th>509</th>\n",
              "      <td>Atlanta</td>\n",
              "      <td>Office Supplies</td>\n",
              "      <td>Binders</td>\n",
              "      <td>Fellowes PB500 Electric Punch Plastic Comb Bin...</td>\n",
              "      <td>6354.950</td>\n",
              "      <td>5</td>\n",
              "      <td>0.0</td>\n",
              "      <td>3177.4750</td>\n",
              "    </tr>\n",
              "    <tr>\n",
              "      <th>8488</th>\n",
              "      <td>Arlington</td>\n",
              "      <td>Technology</td>\n",
              "      <td>Machines</td>\n",
              "      <td>HP Designjet T520 Inkjet Large Format Printer ...</td>\n",
              "      <td>8749.950</td>\n",
              "      <td>5</td>\n",
              "      <td>0.0</td>\n",
              "      <td>2799.9840</td>\n",
              "    </tr>\n",
              "    <tr>\n",
              "      <th>7666</th>\n",
              "      <td>Providence</td>\n",
              "      <td>Technology</td>\n",
              "      <td>Copiers</td>\n",
              "      <td>Hewlett Packard LaserJet 3310 Copier</td>\n",
              "      <td>5399.910</td>\n",
              "      <td>9</td>\n",
              "      <td>0.0</td>\n",
              "      <td>2591.9568</td>\n",
              "    </tr>\n",
              "    <tr>\n",
              "      <th>6520</th>\n",
              "      <td>Jackson</td>\n",
              "      <td>Office Supplies</td>\n",
              "      <td>Binders</td>\n",
              "      <td>GBC DocuBind P400 Electric Binding System</td>\n",
              "      <td>5443.960</td>\n",
              "      <td>4</td>\n",
              "      <td>0.0</td>\n",
              "      <td>2504.2216</td>\n",
              "    </tr>\n",
              "  </tbody>\n",
              "</table>\n",
              "</div>\n",
              "      <button class=\"colab-df-convert\" onclick=\"convertToInteractive('df-02bc68d9-1d0c-420e-81a6-3c742a80f5a2')\"\n",
              "              title=\"Convert this dataframe to an interactive table.\"\n",
              "              style=\"display:none;\">\n",
              "        \n",
              "  <svg xmlns=\"http://www.w3.org/2000/svg\" height=\"24px\"viewBox=\"0 0 24 24\"\n",
              "       width=\"24px\">\n",
              "    <path d=\"M0 0h24v24H0V0z\" fill=\"none\"/>\n",
              "    <path d=\"M18.56 5.44l.94 2.06.94-2.06 2.06-.94-2.06-.94-.94-2.06-.94 2.06-2.06.94zm-11 1L8.5 8.5l.94-2.06 2.06-.94-2.06-.94L8.5 2.5l-.94 2.06-2.06.94zm10 10l.94 2.06.94-2.06 2.06-.94-2.06-.94-.94-2.06-.94 2.06-2.06.94z\"/><path d=\"M17.41 7.96l-1.37-1.37c-.4-.4-.92-.59-1.43-.59-.52 0-1.04.2-1.43.59L10.3 9.45l-7.72 7.72c-.78.78-.78 2.05 0 2.83L4 21.41c.39.39.9.59 1.41.59.51 0 1.02-.2 1.41-.59l7.78-7.78 2.81-2.81c.8-.78.8-2.07 0-2.86zM5.41 20L4 18.59l7.72-7.72 1.47 1.35L5.41 20z\"/>\n",
              "  </svg>\n",
              "      </button>\n",
              "      \n",
              "  <style>\n",
              "    .colab-df-container {\n",
              "      display:flex;\n",
              "      flex-wrap:wrap;\n",
              "      gap: 12px;\n",
              "    }\n",
              "\n",
              "    .colab-df-convert {\n",
              "      background-color: #E8F0FE;\n",
              "      border: none;\n",
              "      border-radius: 50%;\n",
              "      cursor: pointer;\n",
              "      display: none;\n",
              "      fill: #1967D2;\n",
              "      height: 32px;\n",
              "      padding: 0 0 0 0;\n",
              "      width: 32px;\n",
              "    }\n",
              "\n",
              "    .colab-df-convert:hover {\n",
              "      background-color: #E2EBFA;\n",
              "      box-shadow: 0px 1px 2px rgba(60, 64, 67, 0.3), 0px 1px 3px 1px rgba(60, 64, 67, 0.15);\n",
              "      fill: #174EA6;\n",
              "    }\n",
              "\n",
              "    [theme=dark] .colab-df-convert {\n",
              "      background-color: #3B4455;\n",
              "      fill: #D2E3FC;\n",
              "    }\n",
              "\n",
              "    [theme=dark] .colab-df-convert:hover {\n",
              "      background-color: #434B5C;\n",
              "      box-shadow: 0px 1px 3px 1px rgba(0, 0, 0, 0.15);\n",
              "      filter: drop-shadow(0px 1px 2px rgba(0, 0, 0, 0.3));\n",
              "      fill: #FFFFFF;\n",
              "    }\n",
              "  </style>\n",
              "\n",
              "      <script>\n",
              "        const buttonEl =\n",
              "          document.querySelector('#df-02bc68d9-1d0c-420e-81a6-3c742a80f5a2 button.colab-df-convert');\n",
              "        buttonEl.style.display =\n",
              "          google.colab.kernel.accessAllowed ? 'block' : 'none';\n",
              "\n",
              "        async function convertToInteractive(key) {\n",
              "          const element = document.querySelector('#df-02bc68d9-1d0c-420e-81a6-3c742a80f5a2');\n",
              "          const dataTable =\n",
              "            await google.colab.kernel.invokeFunction('convertToInteractive',\n",
              "                                                     [key], {});\n",
              "          if (!dataTable) return;\n",
              "\n",
              "          const docLinkHtml = 'Like what you see? Visit the ' +\n",
              "            '<a target=\"_blank\" href=https://colab.research.google.com/notebooks/data_table.ipynb>data table notebook</a>'\n",
              "            + ' to learn more about interactive tables.';\n",
              "          element.innerHTML = '';\n",
              "          dataTable['output_type'] = 'display_data';\n",
              "          await google.colab.output.renderOutput(dataTable, element);\n",
              "          const docLink = document.createElement('div');\n",
              "          docLink.innerHTML = docLinkHtml;\n",
              "          element.appendChild(docLink);\n",
              "        }\n",
              "      </script>\n",
              "    </div>\n",
              "  </div>\n",
              "  "
            ]
          },
          "metadata": {},
          "execution_count": 20
        }
      ],
      "source": [
        "(df.loc[profits_outliers_sorted.index.tolist()][['City', 'Category', 'Sub-Category', 'Product Name', \n",
        "                                              'Sales', 'Quantity', 'Discount', 'Profit']]).head(10)"
      ]
    },
    {
      "cell_type": "markdown",
      "metadata": {
        "id": "okvMhsnSHwUm"
      },
      "source": [
        "### Q: Do you notice any interesting insights based on these transactions?"
      ]
    },
    {
      "cell_type": "markdown",
      "metadata": {
        "id": "cdmGefReHwUm"
      },
      "source": [
        "__A:__ Most of these are purchases for Copiers and Binders , looks like Canon products yielded some good profits`"
      ]
    },
    {
      "cell_type": "markdown",
      "metadata": {
        "id": "74bXLjLHHwUm"
      },
      "source": [
        "### View Bottom 10 Outlier Transactions\n",
        "\n",
        "__Your turn:__ View the bottom ten transactions based on lowest profits (highest losses)"
      ]
    },
    {
      "cell_type": "code",
      "execution_count": 21,
      "metadata": {
        "id": "0vv9VsRqHwUm",
        "colab": {
          "base_uri": "https://localhost:8080/",
          "height": 363
        },
        "outputId": "f19214fa-3635-40ca-b843-929aa493c0b0"
      },
      "outputs": [
        {
          "output_type": "execute_result",
          "data": {
            "text/plain": [
              "              City         Category Sub-Category  \\\n",
              "7772     Lancaster       Technology     Machines   \n",
              "683     Burlington       Technology     Machines   \n",
              "9774   San Antonio  Office Supplies      Binders   \n",
              "3011    Louisville       Technology     Machines   \n",
              "4991       Chicago  Office Supplies      Binders   \n",
              "3151        Newark       Technology     Machines   \n",
              "5310       Houston  Office Supplies      Binders   \n",
              "9639       Concord        Furniture       Tables   \n",
              "1199       Houston  Office Supplies      Binders   \n",
              "2697  Jacksonville       Technology     Machines   \n",
              "\n",
              "                                           Product Name      Sales  Quantity  \\\n",
              "7772          Cubify CubeX 3D Printer Double Head Print   4499.985         5   \n",
              "683           Cubify CubeX 3D Printer Triple Head Print   7999.980         4   \n",
              "9774          GBC DocuBind P400 Electric Binding System   2177.584         8   \n",
              "3011          Lexmark MX611dhe Monochrome Laser Printer   2549.985         5   \n",
              "4991               Ibico EPK-21 Electric Binding System   1889.990         5   \n",
              "3151          Cubify CubeX 3D Printer Double Head Print   1799.994         2   \n",
              "5310  Fellowes PB500 Electric Punch Plastic Comb Bin...   1525.188         6   \n",
              "9639  Chromcraft Bull-Nose Wood Oval Conference Tabl...   4297.644        13   \n",
              "1199          GBC DocuBind P400 Electric Binding System   1088.792         4   \n",
              "2697  Cisco TelePresence System EX90 Videoconferenci...  22638.480         6   \n",
              "\n",
              "      Discount     Profit  \n",
              "7772       0.7 -6599.9780  \n",
              "683        0.5 -3839.9904  \n",
              "9774       0.8 -3701.8928  \n",
              "3011       0.7 -3399.9800  \n",
              "4991       0.8 -2929.4845  \n",
              "3151       0.7 -2639.9912  \n",
              "5310       0.8 -2287.7820  \n",
              "9639       0.4 -1862.3124  \n",
              "1199       0.8 -1850.9464  \n",
              "2697       0.5 -1811.0784  "
            ],
            "text/html": [
              "\n",
              "  <div id=\"df-f5dc1202-74b5-4bde-9e92-3b071965b3ce\">\n",
              "    <div class=\"colab-df-container\">\n",
              "      <div>\n",
              "<style scoped>\n",
              "    .dataframe tbody tr th:only-of-type {\n",
              "        vertical-align: middle;\n",
              "    }\n",
              "\n",
              "    .dataframe tbody tr th {\n",
              "        vertical-align: top;\n",
              "    }\n",
              "\n",
              "    .dataframe thead th {\n",
              "        text-align: right;\n",
              "    }\n",
              "</style>\n",
              "<table border=\"1\" class=\"dataframe\">\n",
              "  <thead>\n",
              "    <tr style=\"text-align: right;\">\n",
              "      <th></th>\n",
              "      <th>City</th>\n",
              "      <th>Category</th>\n",
              "      <th>Sub-Category</th>\n",
              "      <th>Product Name</th>\n",
              "      <th>Sales</th>\n",
              "      <th>Quantity</th>\n",
              "      <th>Discount</th>\n",
              "      <th>Profit</th>\n",
              "    </tr>\n",
              "  </thead>\n",
              "  <tbody>\n",
              "    <tr>\n",
              "      <th>7772</th>\n",
              "      <td>Lancaster</td>\n",
              "      <td>Technology</td>\n",
              "      <td>Machines</td>\n",
              "      <td>Cubify CubeX 3D Printer Double Head Print</td>\n",
              "      <td>4499.985</td>\n",
              "      <td>5</td>\n",
              "      <td>0.7</td>\n",
              "      <td>-6599.9780</td>\n",
              "    </tr>\n",
              "    <tr>\n",
              "      <th>683</th>\n",
              "      <td>Burlington</td>\n",
              "      <td>Technology</td>\n",
              "      <td>Machines</td>\n",
              "      <td>Cubify CubeX 3D Printer Triple Head Print</td>\n",
              "      <td>7999.980</td>\n",
              "      <td>4</td>\n",
              "      <td>0.5</td>\n",
              "      <td>-3839.9904</td>\n",
              "    </tr>\n",
              "    <tr>\n",
              "      <th>9774</th>\n",
              "      <td>San Antonio</td>\n",
              "      <td>Office Supplies</td>\n",
              "      <td>Binders</td>\n",
              "      <td>GBC DocuBind P400 Electric Binding System</td>\n",
              "      <td>2177.584</td>\n",
              "      <td>8</td>\n",
              "      <td>0.8</td>\n",
              "      <td>-3701.8928</td>\n",
              "    </tr>\n",
              "    <tr>\n",
              "      <th>3011</th>\n",
              "      <td>Louisville</td>\n",
              "      <td>Technology</td>\n",
              "      <td>Machines</td>\n",
              "      <td>Lexmark MX611dhe Monochrome Laser Printer</td>\n",
              "      <td>2549.985</td>\n",
              "      <td>5</td>\n",
              "      <td>0.7</td>\n",
              "      <td>-3399.9800</td>\n",
              "    </tr>\n",
              "    <tr>\n",
              "      <th>4991</th>\n",
              "      <td>Chicago</td>\n",
              "      <td>Office Supplies</td>\n",
              "      <td>Binders</td>\n",
              "      <td>Ibico EPK-21 Electric Binding System</td>\n",
              "      <td>1889.990</td>\n",
              "      <td>5</td>\n",
              "      <td>0.8</td>\n",
              "      <td>-2929.4845</td>\n",
              "    </tr>\n",
              "    <tr>\n",
              "      <th>3151</th>\n",
              "      <td>Newark</td>\n",
              "      <td>Technology</td>\n",
              "      <td>Machines</td>\n",
              "      <td>Cubify CubeX 3D Printer Double Head Print</td>\n",
              "      <td>1799.994</td>\n",
              "      <td>2</td>\n",
              "      <td>0.7</td>\n",
              "      <td>-2639.9912</td>\n",
              "    </tr>\n",
              "    <tr>\n",
              "      <th>5310</th>\n",
              "      <td>Houston</td>\n",
              "      <td>Office Supplies</td>\n",
              "      <td>Binders</td>\n",
              "      <td>Fellowes PB500 Electric Punch Plastic Comb Bin...</td>\n",
              "      <td>1525.188</td>\n",
              "      <td>6</td>\n",
              "      <td>0.8</td>\n",
              "      <td>-2287.7820</td>\n",
              "    </tr>\n",
              "    <tr>\n",
              "      <th>9639</th>\n",
              "      <td>Concord</td>\n",
              "      <td>Furniture</td>\n",
              "      <td>Tables</td>\n",
              "      <td>Chromcraft Bull-Nose Wood Oval Conference Tabl...</td>\n",
              "      <td>4297.644</td>\n",
              "      <td>13</td>\n",
              "      <td>0.4</td>\n",
              "      <td>-1862.3124</td>\n",
              "    </tr>\n",
              "    <tr>\n",
              "      <th>1199</th>\n",
              "      <td>Houston</td>\n",
              "      <td>Office Supplies</td>\n",
              "      <td>Binders</td>\n",
              "      <td>GBC DocuBind P400 Electric Binding System</td>\n",
              "      <td>1088.792</td>\n",
              "      <td>4</td>\n",
              "      <td>0.8</td>\n",
              "      <td>-1850.9464</td>\n",
              "    </tr>\n",
              "    <tr>\n",
              "      <th>2697</th>\n",
              "      <td>Jacksonville</td>\n",
              "      <td>Technology</td>\n",
              "      <td>Machines</td>\n",
              "      <td>Cisco TelePresence System EX90 Videoconferenci...</td>\n",
              "      <td>22638.480</td>\n",
              "      <td>6</td>\n",
              "      <td>0.5</td>\n",
              "      <td>-1811.0784</td>\n",
              "    </tr>\n",
              "  </tbody>\n",
              "</table>\n",
              "</div>\n",
              "      <button class=\"colab-df-convert\" onclick=\"convertToInteractive('df-f5dc1202-74b5-4bde-9e92-3b071965b3ce')\"\n",
              "              title=\"Convert this dataframe to an interactive table.\"\n",
              "              style=\"display:none;\">\n",
              "        \n",
              "  <svg xmlns=\"http://www.w3.org/2000/svg\" height=\"24px\"viewBox=\"0 0 24 24\"\n",
              "       width=\"24px\">\n",
              "    <path d=\"M0 0h24v24H0V0z\" fill=\"none\"/>\n",
              "    <path d=\"M18.56 5.44l.94 2.06.94-2.06 2.06-.94-2.06-.94-.94-2.06-.94 2.06-2.06.94zm-11 1L8.5 8.5l.94-2.06 2.06-.94-2.06-.94L8.5 2.5l-.94 2.06-2.06.94zm10 10l.94 2.06.94-2.06 2.06-.94-2.06-.94-.94-2.06-.94 2.06-2.06.94z\"/><path d=\"M17.41 7.96l-1.37-1.37c-.4-.4-.92-.59-1.43-.59-.52 0-1.04.2-1.43.59L10.3 9.45l-7.72 7.72c-.78.78-.78 2.05 0 2.83L4 21.41c.39.39.9.59 1.41.59.51 0 1.02-.2 1.41-.59l7.78-7.78 2.81-2.81c.8-.78.8-2.07 0-2.86zM5.41 20L4 18.59l7.72-7.72 1.47 1.35L5.41 20z\"/>\n",
              "  </svg>\n",
              "      </button>\n",
              "      \n",
              "  <style>\n",
              "    .colab-df-container {\n",
              "      display:flex;\n",
              "      flex-wrap:wrap;\n",
              "      gap: 12px;\n",
              "    }\n",
              "\n",
              "    .colab-df-convert {\n",
              "      background-color: #E8F0FE;\n",
              "      border: none;\n",
              "      border-radius: 50%;\n",
              "      cursor: pointer;\n",
              "      display: none;\n",
              "      fill: #1967D2;\n",
              "      height: 32px;\n",
              "      padding: 0 0 0 0;\n",
              "      width: 32px;\n",
              "    }\n",
              "\n",
              "    .colab-df-convert:hover {\n",
              "      background-color: #E2EBFA;\n",
              "      box-shadow: 0px 1px 2px rgba(60, 64, 67, 0.3), 0px 1px 3px 1px rgba(60, 64, 67, 0.15);\n",
              "      fill: #174EA6;\n",
              "    }\n",
              "\n",
              "    [theme=dark] .colab-df-convert {\n",
              "      background-color: #3B4455;\n",
              "      fill: #D2E3FC;\n",
              "    }\n",
              "\n",
              "    [theme=dark] .colab-df-convert:hover {\n",
              "      background-color: #434B5C;\n",
              "      box-shadow: 0px 1px 3px 1px rgba(0, 0, 0, 0.15);\n",
              "      filter: drop-shadow(0px 1px 2px rgba(0, 0, 0, 0.3));\n",
              "      fill: #FFFFFF;\n",
              "    }\n",
              "  </style>\n",
              "\n",
              "      <script>\n",
              "        const buttonEl =\n",
              "          document.querySelector('#df-f5dc1202-74b5-4bde-9e92-3b071965b3ce button.colab-df-convert');\n",
              "        buttonEl.style.display =\n",
              "          google.colab.kernel.accessAllowed ? 'block' : 'none';\n",
              "\n",
              "        async function convertToInteractive(key) {\n",
              "          const element = document.querySelector('#df-f5dc1202-74b5-4bde-9e92-3b071965b3ce');\n",
              "          const dataTable =\n",
              "            await google.colab.kernel.invokeFunction('convertToInteractive',\n",
              "                                                     [key], {});\n",
              "          if (!dataTable) return;\n",
              "\n",
              "          const docLinkHtml = 'Like what you see? Visit the ' +\n",
              "            '<a target=\"_blank\" href=https://colab.research.google.com/notebooks/data_table.ipynb>data table notebook</a>'\n",
              "            + ' to learn more about interactive tables.';\n",
              "          element.innerHTML = '';\n",
              "          dataTable['output_type'] = 'display_data';\n",
              "          await google.colab.output.renderOutput(dataTable, element);\n",
              "          const docLink = document.createElement('div');\n",
              "          docLink.innerHTML = docLinkHtml;\n",
              "          element.appendChild(docLink);\n",
              "        }\n",
              "      </script>\n",
              "    </div>\n",
              "  </div>\n",
              "  "
            ]
          },
          "metadata": {},
          "execution_count": 21
        }
      ],
      "source": [
        "(df.loc[loss_outliers_sorted.index.tolist()][['City', 'Category', 'Sub-Category', 'Product Name', \n",
        "                                              'Sales', 'Quantity', 'Discount', 'Profit']]).head(10)"
      ]
    },
    {
      "cell_type": "markdown",
      "metadata": {
        "id": "Un_y2bldHwUm"
      },
      "source": [
        "### Q: Do you notice any interesting insights based on these transactions?"
      ]
    },
    {
      "cell_type": "markdown",
      "metadata": {
        "id": "T0cpUAbUHwUm"
      },
      "source": [
        "__A:__ Most of these are purchases for Machines and Binders , looks like Cibify 3D Printers yielded high losses"
      ]
    },
    {
      "cell_type": "markdown",
      "metadata": {
        "id": "_LWrAdkeHwUm"
      },
      "source": [
        "## 3.3: Univariate Anomaly Detection on Sales using Isolation Forest\n",
        "\n",
        "You might have already learnt about this model from the curriculum. Just to briefly recap, the Isolation Forest model,  'isolates' observations by randomly selecting a feature and then randomly selecting a split value between the maximum and minimum values of the selected feature.\n",
        "\n",
        "Recursive partitioning can be represented by a tree structure. Hence, the number of splittings required to isolate a sample is equivalent to the path length from the root node to the terminating node. This path length, averaged over a forest of such random trees, is a measure of normality and our decision function.\n",
        "\n",
        "Random partitioning produces noticeably shorter paths for anomalies. Hence, when a forest of random trees collectively produce shorter path lengths for particular samples, they are highly likely to be anomalies.\n",
        "\n",
        "More details are available in this [User Guide](https://scikit-learn.org/stable/modules/outlier_detection.html#isolation-forest)"
      ]
    },
    {
      "cell_type": "markdown",
      "metadata": {
        "id": "pZnv4pT-HwUn"
      },
      "source": [
        "### Initialize and Train Model\n",
        "\n",
        "Here we initialize the isolation forest model with some hyperparameters assuming the proportion of outliers to be 1% of the total data (using the `contamination` setting)"
      ]
    },
    {
      "cell_type": "code",
      "execution_count": 22,
      "metadata": {
        "id": "IC5NG2ElHwUn",
        "colab": {
          "base_uri": "https://localhost:8080/"
        },
        "outputId": "67b33b71-a12c-438a-8d0a-a2060c488ca2"
      },
      "outputs": [
        {
          "output_type": "execute_result",
          "data": {
            "text/plain": [
              "IsolationForest(contamination=0.01)"
            ]
          },
          "metadata": {},
          "execution_count": 22
        }
      ],
      "source": [
        "from sklearn.ensemble import IsolationForest\n",
        "\n",
        "sales_ifmodel = IsolationForest(n_estimators=100,\n",
        "                                contamination=0.01)\n",
        "sales_ifmodel.fit(df[['Sales']])"
      ]
    },
    {
      "cell_type": "markdown",
      "metadata": {
        "id": "p3HzjG-AHwUn"
      },
      "source": [
        "### Visualize Outlier Region\n",
        "\n",
        "Here we visualize the outlier region in the data distribution"
      ]
    },
    {
      "cell_type": "code",
      "source": [
        "x_in=np.linspace(df.Profit.min(), df.Profit.max(),len(df.Profit)).reshape(-1,1)\n",
        "print(x_in[3000])\n",
        "df.Profit.sort_values().head(3)"
      ],
      "metadata": {
        "colab": {
          "base_uri": "https://localhost:8080/"
        },
        "id": "E7rxZM3WK7vO",
        "outputId": "8695c9cb-663b-4e9b-8be9-be070c41a0de"
      },
      "execution_count": 44,
      "outputs": [
        {
          "output_type": "stream",
          "name": "stdout",
          "text": [
            "[-2096.83960312]\n"
          ]
        },
        {
          "output_type": "execute_result",
          "data": {
            "text/plain": [
              "7772   -6599.9780\n",
              "683    -3839.9904\n",
              "9774   -3701.8928\n",
              "Name: Profit, dtype: float64"
            ]
          },
          "metadata": {},
          "execution_count": 44
        }
      ]
    },
    {
      "cell_type": "code",
      "execution_count": null,
      "metadata": {
        "scrolled": false,
        "id": "Rk-fRGpxHwUn",
        "colab": {
          "base_uri": "https://localhost:8080/",
          "height": 388
        },
        "outputId": "db4991ba-6aef-4e17-f928-580e13101e91"
      },
      "outputs": [
        {
          "output_type": "display_data",
          "data": {
            "text/plain": [
              "<Figure size 864x432 with 1 Axes>"
            ],
            "image/png": "[encoded data removed]"
          },
          "metadata": {
            "needs_background": "light"
          }
        }
      ],
      "source": [
        "xx = np.linspace(df['Sales'].min(), df['Sales'].max(), len(df)).reshape(-1,1)\n",
        "anomaly_score = sales_ifmodel.decision_function(xx)\n",
        "outlier = sales_ifmodel.predict(xx)\n",
        "plt.figure(figsize=(12, 6))\n",
        "plt.plot(xx, anomaly_score, label='anomaly score')\n",
        "plt.fill_between(xx.T[0], np.min(anomaly_score), np.max(anomaly_score), \n",
        "                 where=outlier==-1, color='r', \n",
        "                 alpha=.4, label='outlier region')\n",
        "plt.legend()\n",
        "plt.ylabel('anomaly score')\n",
        "plt.xlabel('Sales');"
      ]
    },
    {
      "cell_type": "markdown",
      "metadata": {
        "id": "WIm96ysmHwUn"
      },
      "source": [
        "### Filter and Sort Outliers\n",
        "\n",
        "Here we predict outliers in our dataset using our trained model and filter out the outlier observations and sort by descending order and view the top 5 outlier values"
      ]
    },
    {
      "cell_type": "code",
      "execution_count": null,
      "metadata": {
        "id": "nqggW5XRHwUn",
        "colab": {
          "base_uri": "https://localhost:8080/"
        },
        "outputId": "561a0d08-5e90-4685-d3b5-17eaf568d89b"
      },
      "outputs": [
        {
          "output_type": "stream",
          "name": "stdout",
          "text": [
            "Total Sales Outliers: 99\n"
          ]
        },
        {
          "output_type": "execute_result",
          "data": {
            "text/plain": [
              "2697    22638.480\n",
              "6826    17499.950\n",
              "8153    13999.960\n",
              "2623    11199.968\n",
              "4190    10499.970\n",
              "Name: Sales, dtype: float64"
            ]
          },
          "metadata": {},
          "execution_count": 36
        }
      ],
      "source": [
        "outlier_predictions = sales_ifmodel.predict(df[['Sales']])\n",
        "\n",
        "sales_outliers_df = df[['Sales']]\n",
        "sales_outliers_df['Outlier'] = outlier_predictions\n",
        "sales_outliers_df = sales_outliers_df[sales_outliers_df['Outlier'] == -1]['Sales']\n",
        "\n",
        "print('Total Sales Outliers:', len(sales_outliers_df))\n",
        "sales_outliers_sorted = sales_outliers_df.sort_values(ascending=False)\n",
        "sales_outliers_sorted.head(5)"
      ]
    },
    {
      "cell_type": "markdown",
      "metadata": {
        "id": "J9d3moCoHwUn"
      },
      "source": [
        "### View Top 10 Outlier Transactions"
      ]
    },
    {
      "cell_type": "code",
      "execution_count": null,
      "metadata": {
        "id": "BBnGgcxPHwUo",
        "colab": {
          "base_uri": "https://localhost:8080/",
          "height": 363
        },
        "outputId": "0b014f55-3cf3-47c5-da4a-851770028a43"
      },
      "outputs": [
        {
          "output_type": "execute_result",
          "data": {
            "text/plain": [
              "               City         Category Sub-Category  \\\n",
              "2697   Jacksonville       Technology     Machines   \n",
              "6826      Lafayette       Technology      Copiers   \n",
              "8153        Seattle       Technology      Copiers   \n",
              "2623  New York City       Technology      Copiers   \n",
              "4190         Newark       Technology      Copiers   \n",
              "9039        Detroit  Office Supplies      Binders   \n",
              "4098    Minneapolis  Office Supplies      Binders   \n",
              "4277       Lakewood       Technology     Machines   \n",
              "8488      Arlington       Technology     Machines   \n",
              "6425   Philadelphia       Technology      Copiers   \n",
              "\n",
              "                                           Product Name      Sales  Quantity  \\\n",
              "2697  Cisco TelePresence System EX90 Videoconferenci...  22638.480         6   \n",
              "6826              Canon imageCLASS 2200 Advanced Copier  17499.950         5   \n",
              "8153              Canon imageCLASS 2200 Advanced Copier  13999.960         4   \n",
              "2623              Canon imageCLASS 2200 Advanced Copier  11199.968         4   \n",
              "4190              Canon imageCLASS 2200 Advanced Copier  10499.970         3   \n",
              "9039   GBC Ibimaster 500 Manual ProClick Binding System   9892.740        13   \n",
              "4098               Ibico EPK-21 Electric Binding System   9449.950         5   \n",
              "4277   3D Systems Cube Printer, 2nd Generation, Magenta   9099.930         7   \n",
              "8488  HP Designjet T520 Inkjet Large Format Printer ...   8749.950         5   \n",
              "6425              Canon imageCLASS 2200 Advanced Copier   8399.976         4   \n",
              "\n",
              "      Discount     Profit  \n",
              "2697       0.5 -1811.0784  \n",
              "6826       0.0  8399.9760  \n",
              "8153       0.0  6719.9808  \n",
              "2623       0.2  3919.9888  \n",
              "4190       0.0  5039.9856  \n",
              "9039       0.0  4946.3700  \n",
              "4098       0.0  4630.4755  \n",
              "4277       0.0  2365.9818  \n",
              "8488       0.0  2799.9840  \n",
              "6425       0.4  1119.9968  "
            ],
            "text/html": [
              "\n",
              "  <div id=\"df-a61b22dd-27d0-45de-8288-6e0d877c8681\">\n",
              "    <div class=\"colab-df-container\">\n",
              "      <div>\n",
              "<style scoped>\n",
              "    .dataframe tbody tr th:only-of-type {\n",
              "        vertical-align: middle;\n",
              "    }\n",
              "\n",
              "    .dataframe tbody tr th {\n",
              "        vertical-align: top;\n",
              "    }\n",
              "\n",
              "    .dataframe thead th {\n",
              "        text-align: right;\n",
              "    }\n",
              "</style>\n",
              "<table border=\"1\" class=\"dataframe\">\n",
              "  <thead>\n",
              "    <tr style=\"text-align: right;\">\n",
              "      <th></th>\n",
              "      <th>City</th>\n",
              "      <th>Category</th>\n",
              "      <th>Sub-Category</th>\n",
              "      <th>Product Name</th>\n",
              "      <th>Sales</th>\n",
              "      <th>Quantity</th>\n",
              "      <th>Discount</th>\n",
              "      <th>Profit</th>\n",
              "    </tr>\n",
              "  </thead>\n",
              "  <tbody>\n",
              "    <tr>\n",
              "      <th>2697</th>\n",
              "      <td>Jacksonville</td>\n",
              "      <td>Technology</td>\n",
              "      <td>Machines</td>\n",
              "      <td>Cisco TelePresence System EX90 Videoconferenci...</td>\n",
              "      <td>22638.480</td>\n",
              "      <td>6</td>\n",
              "      <td>0.5</td>\n",
              "      <td>-1811.0784</td>\n",
              "    </tr>\n",
              "    <tr>\n",
              "      <th>6826</th>\n",
              "      <td>Lafayette</td>\n",
              "      <td>Technology</td>\n",
              "      <td>Copiers</td>\n",
              "      <td>Canon imageCLASS 2200 Advanced Copier</td>\n",
              "      <td>17499.950</td>\n",
              "      <td>5</td>\n",
              "      <td>0.0</td>\n",
              "      <td>8399.9760</td>\n",
              "    </tr>\n",
              "    <tr>\n",
              "      <th>8153</th>\n",
              "      <td>Seattle</td>\n",
              "      <td>Technology</td>\n",
              "      <td>Copiers</td>\n",
              "      <td>Canon imageCLASS 2200 Advanced Copier</td>\n",
              "      <td>13999.960</td>\n",
              "      <td>4</td>\n",
              "      <td>0.0</td>\n",
              "      <td>6719.9808</td>\n",
              "    </tr>\n",
              "    <tr>\n",
              "      <th>2623</th>\n",
              "      <td>New York City</td>\n",
              "      <td>Technology</td>\n",
              "      <td>Copiers</td>\n",
              "      <td>Canon imageCLASS 2200 Advanced Copier</td>\n",
              "      <td>11199.968</td>\n",
              "      <td>4</td>\n",
              "      <td>0.2</td>\n",
              "      <td>3919.9888</td>\n",
              "    </tr>\n",
              "    <tr>\n",
              "      <th>4190</th>\n",
              "      <td>Newark</td>\n",
              "      <td>Technology</td>\n",
              "      <td>Copiers</td>\n",
              "      <td>Canon imageCLASS 2200 Advanced Copier</td>\n",
              "      <td>10499.970</td>\n",
              "      <td>3</td>\n",
              "      <td>0.0</td>\n",
              "      <td>5039.9856</td>\n",
              "    </tr>\n",
              "    <tr>\n",
              "      <th>9039</th>\n",
              "      <td>Detroit</td>\n",
              "      <td>Office Supplies</td>\n",
              "      <td>Binders</td>\n",
              "      <td>GBC Ibimaster 500 Manual ProClick Binding System</td>\n",
              "      <td>9892.740</td>\n",
              "      <td>13</td>\n",
              "      <td>0.0</td>\n",
              "      <td>4946.3700</td>\n",
              "    </tr>\n",
              "    <tr>\n",
              "      <th>4098</th>\n",
              "      <td>Minneapolis</td>\n",
              "      <td>Office Supplies</td>\n",
              "      <td>Binders</td>\n",
              "      <td>Ibico EPK-21 Electric Binding System</td>\n",
              "      <td>9449.950</td>\n",
              "      <td>5</td>\n",
              "      <td>0.0</td>\n",
              "      <td>4630.4755</td>\n",
              "    </tr>\n",
              "    <tr>\n",
              "      <th>4277</th>\n",
              "      <td>Lakewood</td>\n",
              "      <td>Technology</td>\n",
              "      <td>Machines</td>\n",
              "      <td>3D Systems Cube Printer, 2nd Generation, Magenta</td>\n",
              "      <td>9099.930</td>\n",
              "      <td>7</td>\n",
              "      <td>0.0</td>\n",
              "      <td>2365.9818</td>\n",
              "    </tr>\n",
              "    <tr>\n",
              "      <th>8488</th>\n",
              "      <td>Arlington</td>\n",
              "      <td>Technology</td>\n",
              "      <td>Machines</td>\n",
              "      <td>HP Designjet T520 Inkjet Large Format Printer ...</td>\n",
              "      <td>8749.950</td>\n",
              "      <td>5</td>\n",
              "      <td>0.0</td>\n",
              "      <td>2799.9840</td>\n",
              "    </tr>\n",
              "    <tr>\n",
              "      <th>6425</th>\n",
              "      <td>Philadelphia</td>\n",
              "      <td>Technology</td>\n",
              "      <td>Copiers</td>\n",
              "      <td>Canon imageCLASS 2200 Advanced Copier</td>\n",
              "      <td>8399.976</td>\n",
              "      <td>4</td>\n",
              "      <td>0.4</td>\n",
              "      <td>1119.9968</td>\n",
              "    </tr>\n",
              "  </tbody>\n",
              "</table>\n",
              "</div>\n",
              "      <button class=\"colab-df-convert\" onclick=\"convertToInteractive('df-a61b22dd-27d0-45de-8288-6e0d877c8681')\"\n",
              "              title=\"Convert this dataframe to an interactive table.\"\n",
              "              style=\"display:none;\">\n",
              "        \n",
              "  <svg xmlns=\"http://www.w3.org/2000/svg\" height=\"24px\"viewBox=\"0 0 24 24\"\n",
              "       width=\"24px\">\n",
              "    <path d=\"M0 0h24v24H0V0z\" fill=\"none\"/>\n",
              "    <path d=\"M18.56 5.44l.94 2.06.94-2.06 2.06-.94-2.06-.94-.94-2.06-.94 2.06-2.06.94zm-11 1L8.5 8.5l.94-2.06 2.06-.94-2.06-.94L8.5 2.5l-.94 2.06-2.06.94zm10 10l.94 2.06.94-2.06 2.06-.94-2.06-.94-.94-2.06-.94 2.06-2.06.94z\"/><path d=\"M17.41 7.96l-1.37-1.37c-.4-.4-.92-.59-1.43-.59-.52 0-1.04.2-1.43.59L10.3 9.45l-7.72 7.72c-.78.78-.78 2.05 0 2.83L4 21.41c.39.39.9.59 1.41.59.51 0 1.02-.2 1.41-.59l7.78-7.78 2.81-2.81c.8-.78.8-2.07 0-2.86zM5.41 20L4 18.59l7.72-7.72 1.47 1.35L5.41 20z\"/>\n",
              "  </svg>\n",
              "      </button>\n",
              "      \n",
              "  <style>\n",
              "    .colab-df-container {\n",
              "      display:flex;\n",
              "      flex-wrap:wrap;\n",
              "      gap: 12px;\n",
              "    }\n",
              "\n",
              "    .colab-df-convert {\n",
              "      background-color: #E8F0FE;\n",
              "      border: none;\n",
              "      border-radius: 50%;\n",
              "      cursor: pointer;\n",
              "      display: none;\n",
              "      fill: #1967D2;\n",
              "      height: 32px;\n",
              "      padding: 0 0 0 0;\n",
              "      width: 32px;\n",
              "    }\n",
              "\n",
              "    .colab-df-convert:hover {\n",
              "      background-color: #E2EBFA;\n",
              "      box-shadow: 0px 1px 2px rgba(60, 64, 67, 0.3), 0px 1px 3px 1px rgba(60, 64, 67, 0.15);\n",
              "      fill: #174EA6;\n",
              "    }\n",
              "\n",
              "    [theme=dark] .colab-df-convert {\n",
              "      background-color: #3B4455;\n",
              "      fill: #D2E3FC;\n",
              "    }\n",
              "\n",
              "    [theme=dark] .colab-df-convert:hover {\n",
              "      background-color: #434B5C;\n",
              "      box-shadow: 0px 1px 3px 1px rgba(0, 0, 0, 0.15);\n",
              "      filter: drop-shadow(0px 1px 2px rgba(0, 0, 0, 0.3));\n",
              "      fill: #FFFFFF;\n",
              "    }\n",
              "  </style>\n",
              "\n",
              "      <script>\n",
              "        const buttonEl =\n",
              "          document.querySelector('#df-a61b22dd-27d0-45de-8288-6e0d877c8681 button.colab-df-convert');\n",
              "        buttonEl.style.display =\n",
              "          google.colab.kernel.accessAllowed ? 'block' : 'none';\n",
              "\n",
              "        async function convertToInteractive(key) {\n",
              "          const element = document.querySelector('#df-a61b22dd-27d0-45de-8288-6e0d877c8681');\n",
              "          const dataTable =\n",
              "            await google.colab.kernel.invokeFunction('convertToInteractive',\n",
              "                                                     [key], {});\n",
              "          if (!dataTable) return;\n",
              "\n",
              "          const docLinkHtml = 'Like what you see? Visit the ' +\n",
              "            '<a target=\"_blank\" href=https://colab.research.google.com/notebooks/data_table.ipynb>data table notebook</a>'\n",
              "            + ' to learn more about interactive tables.';\n",
              "          element.innerHTML = '';\n",
              "          dataTable['output_type'] = 'display_data';\n",
              "          await google.colab.output.renderOutput(dataTable, element);\n",
              "          const docLink = document.createElement('div');\n",
              "          docLink.innerHTML = docLinkHtml;\n",
              "          element.appendChild(docLink);\n",
              "        }\n",
              "      </script>\n",
              "    </div>\n",
              "  </div>\n",
              "  "
            ]
          },
          "metadata": {},
          "execution_count": 37
        }
      ],
      "source": [
        "(df.loc[sales_outliers_sorted.index.tolist()][['City', 'Category', 'Sub-Category', 'Product Name', \n",
        "                                              'Sales', 'Quantity', 'Discount', 'Profit']]).head(10)"
      ]
    },
    {
      "cell_type": "markdown",
      "metadata": {
        "id": "HU9oUZZ1HwUo"
      },
      "source": [
        "### View Bottom 10 Outlier Transactions"
      ]
    },
    {
      "cell_type": "code",
      "execution_count": null,
      "metadata": {
        "id": "cWtlhv2CHwUo",
        "colab": {
          "base_uri": "https://localhost:8080/",
          "height": 363
        },
        "outputId": "cb4b7866-7ba8-49bb-eb46-8ce9ff72eb03"
      },
      "outputs": [
        {
          "output_type": "execute_result",
          "data": {
            "text/plain": [
              "               City         Category Sub-Category  \\\n",
              "3986     Plainfield  Office Supplies      Storage   \n",
              "1805    Los Angeles       Technology       Phones   \n",
              "7474      Henderson        Furniture       Chairs   \n",
              "6884    Minneapolis        Furniture       Chairs   \n",
              "8271  New York City        Furniture       Chairs   \n",
              "3011     Louisville       Technology     Machines   \n",
              "6010    Los Angeles       Technology     Machines   \n",
              "7280       Columbia  Office Supplies      Binders   \n",
              "263         Houston       Technology     Machines   \n",
              "7937      Brentwood  Office Supplies   Appliances   \n",
              "\n",
              "                                           Product Name     Sales  Quantity  \\\n",
              "3986      Tennsco 16-Compartment Lockers with Coat Rack  2591.560         4   \n",
              "1805                              Samsung Galaxy Note 2  2575.944         7   \n",
              "7474            Global Deluxe High-Back Manager's Chair  2573.820         9   \n",
              "6884                         Hon Pagoda Stacking Chairs  2567.840         8   \n",
              "8271  Hon 4700 Series Mobuis Mid-Back Task Chairs wi...  2563.056         8   \n",
              "3011          Lexmark MX611dhe Monochrome Laser Printer  2549.985         5   \n",
              "6010  Zebra GX420t Direct Thermal/Thermal Transfer P...  2548.560         6   \n",
              "7280  Fellowes PB500 Electric Punch Plastic Comb Bin...  2541.980         2   \n",
              "263   Xerox WorkCentre 6505DN Laser Multifunction Pr...  2519.958         7   \n",
              "7937  Sanyo 2.5 Cubic Foot Mid-Size Office Refrigera...  2518.290         9   \n",
              "\n",
              "      Discount     Profit  \n",
              "3986       0.0   621.9744  \n",
              "1805       0.2   257.5944  \n",
              "7474       0.0   746.4078  \n",
              "6884       0.0   770.3520  \n",
              "8271       0.1   313.2624  \n",
              "3011       0.7 -3399.9800  \n",
              "6010       0.2   286.7130  \n",
              "7280       0.0  1270.9900  \n",
              "263        0.4  -251.9958  \n",
              "7937       0.0   654.7554  "
            ],
            "text/html": [
              "\n",
              "  <div id=\"df-452da941-ea27-4dd9-ba93-69e08c6c6c01\">\n",
              "    <div class=\"colab-df-container\">\n",
              "      <div>\n",
              "<style scoped>\n",
              "    .dataframe tbody tr th:only-of-type {\n",
              "        vertical-align: middle;\n",
              "    }\n",
              "\n",
              "    .dataframe tbody tr th {\n",
              "        vertical-align: top;\n",
              "    }\n",
              "\n",
              "    .dataframe thead th {\n",
              "        text-align: right;\n",
              "    }\n",
              "</style>\n",
              "<table border=\"1\" class=\"dataframe\">\n",
              "  <thead>\n",
              "    <tr style=\"text-align: right;\">\n",
              "      <th></th>\n",
              "      <th>City</th>\n",
              "      <th>Category</th>\n",
              "      <th>Sub-Category</th>\n",
              "      <th>Product Name</th>\n",
              "      <th>Sales</th>\n",
              "      <th>Quantity</th>\n",
              "      <th>Discount</th>\n",
              "      <th>Profit</th>\n",
              "    </tr>\n",
              "  </thead>\n",
              "  <tbody>\n",
              "    <tr>\n",
              "      <th>3986</th>\n",
              "      <td>Plainfield</td>\n",
              "      <td>Office Supplies</td>\n",
              "      <td>Storage</td>\n",
              "      <td>Tennsco 16-Compartment Lockers with Coat Rack</td>\n",
              "      <td>2591.560</td>\n",
              "      <td>4</td>\n",
              "      <td>0.0</td>\n",
              "      <td>621.9744</td>\n",
              "    </tr>\n",
              "    <tr>\n",
              "      <th>1805</th>\n",
              "      <td>Los Angeles</td>\n",
              "      <td>Technology</td>\n",
              "      <td>Phones</td>\n",
              "      <td>Samsung Galaxy Note 2</td>\n",
              "      <td>2575.944</td>\n",
              "      <td>7</td>\n",
              "      <td>0.2</td>\n",
              "      <td>257.5944</td>\n",
              "    </tr>\n",
              "    <tr>\n",
              "      <th>7474</th>\n",
              "      <td>Henderson</td>\n",
              "      <td>Furniture</td>\n",
              "      <td>Chairs</td>\n",
              "      <td>Global Deluxe High-Back Manager's Chair</td>\n",
              "      <td>2573.820</td>\n",
              "      <td>9</td>\n",
              "      <td>0.0</td>\n",
              "      <td>746.4078</td>\n",
              "    </tr>\n",
              "    <tr>\n",
              "      <th>6884</th>\n",
              "      <td>Minneapolis</td>\n",
              "      <td>Furniture</td>\n",
              "      <td>Chairs</td>\n",
              "      <td>Hon Pagoda Stacking Chairs</td>\n",
              "      <td>2567.840</td>\n",
              "      <td>8</td>\n",
              "      <td>0.0</td>\n",
              "      <td>770.3520</td>\n",
              "    </tr>\n",
              "    <tr>\n",
              "      <th>8271</th>\n",
              "      <td>New York City</td>\n",
              "      <td>Furniture</td>\n",
              "      <td>Chairs</td>\n",
              "      <td>Hon 4700 Series Mobuis Mid-Back Task Chairs wi...</td>\n",
              "      <td>2563.056</td>\n",
              "      <td>8</td>\n",
              "      <td>0.1</td>\n",
              "      <td>313.2624</td>\n",
              "    </tr>\n",
              "    <tr>\n",
              "      <th>3011</th>\n",
              "      <td>Louisville</td>\n",
              "      <td>Technology</td>\n",
              "      <td>Machines</td>\n",
              "      <td>Lexmark MX611dhe Monochrome Laser Printer</td>\n",
              "      <td>2549.985</td>\n",
              "      <td>5</td>\n",
              "      <td>0.7</td>\n",
              "      <td>-3399.9800</td>\n",
              "    </tr>\n",
              "    <tr>\n",
              "      <th>6010</th>\n",
              "      <td>Los Angeles</td>\n",
              "      <td>Technology</td>\n",
              "      <td>Machines</td>\n",
              "      <td>Zebra GX420t Direct Thermal/Thermal Transfer P...</td>\n",
              "      <td>2548.560</td>\n",
              "      <td>6</td>\n",
              "      <td>0.2</td>\n",
              "      <td>286.7130</td>\n",
              "    </tr>\n",
              "    <tr>\n",
              "      <th>7280</th>\n",
              "      <td>Columbia</td>\n",
              "      <td>Office Supplies</td>\n",
              "      <td>Binders</td>\n",
              "      <td>Fellowes PB500 Electric Punch Plastic Comb Bin...</td>\n",
              "      <td>2541.980</td>\n",
              "      <td>2</td>\n",
              "      <td>0.0</td>\n",
              "      <td>1270.9900</td>\n",
              "    </tr>\n",
              "    <tr>\n",
              "      <th>263</th>\n",
              "      <td>Houston</td>\n",
              "      <td>Technology</td>\n",
              "      <td>Machines</td>\n",
              "      <td>Xerox WorkCentre 6505DN Laser Multifunction Pr...</td>\n",
              "      <td>2519.958</td>\n",
              "      <td>7</td>\n",
              "      <td>0.4</td>\n",
              "      <td>-251.9958</td>\n",
              "    </tr>\n",
              "    <tr>\n",
              "      <th>7937</th>\n",
              "      <td>Brentwood</td>\n",
              "      <td>Office Supplies</td>\n",
              "      <td>Appliances</td>\n",
              "      <td>Sanyo 2.5 Cubic Foot Mid-Size Office Refrigera...</td>\n",
              "      <td>2518.290</td>\n",
              "      <td>9</td>\n",
              "      <td>0.0</td>\n",
              "      <td>654.7554</td>\n",
              "    </tr>\n",
              "  </tbody>\n",
              "</table>\n",
              "</div>\n",
              "      <button class=\"colab-df-convert\" onclick=\"convertToInteractive('df-452da941-ea27-4dd9-ba93-69e08c6c6c01')\"\n",
              "              title=\"Convert this dataframe to an interactive table.\"\n",
              "              style=\"display:none;\">\n",
              "        \n",
              "  <svg xmlns=\"http://www.w3.org/2000/svg\" height=\"24px\"viewBox=\"0 0 24 24\"\n",
              "       width=\"24px\">\n",
              "    <path d=\"M0 0h24v24H0V0z\" fill=\"none\"/>\n",
              "    <path d=\"M18.56 5.44l.94 2.06.94-2.06 2.06-.94-2.06-.94-.94-2.06-.94 2.06-2.06.94zm-11 1L8.5 8.5l.94-2.06 2.06-.94-2.06-.94L8.5 2.5l-.94 2.06-2.06.94zm10 10l.94 2.06.94-2.06 2.06-.94-2.06-.94-.94-2.06-.94 2.06-2.06.94z\"/><path d=\"M17.41 7.96l-1.37-1.37c-.4-.4-.92-.59-1.43-.59-.52 0-1.04.2-1.43.59L10.3 9.45l-7.72 7.72c-.78.78-.78 2.05 0 2.83L4 21.41c.39.39.9.59 1.41.59.51 0 1.02-.2 1.41-.59l7.78-7.78 2.81-2.81c.8-.78.8-2.07 0-2.86zM5.41 20L4 18.59l7.72-7.72 1.47 1.35L5.41 20z\"/>\n",
              "  </svg>\n",
              "      </button>\n",
              "      \n",
              "  <style>\n",
              "    .colab-df-container {\n",
              "      display:flex;\n",
              "      flex-wrap:wrap;\n",
              "      gap: 12px;\n",
              "    }\n",
              "\n",
              "    .colab-df-convert {\n",
              "      background-color: #E8F0FE;\n",
              "      border: none;\n",
              "      border-radius: 50%;\n",
              "      cursor: pointer;\n",
              "      display: none;\n",
              "      fill: #1967D2;\n",
              "      height: 32px;\n",
              "      padding: 0 0 0 0;\n",
              "      width: 32px;\n",
              "    }\n",
              "\n",
              "    .colab-df-convert:hover {\n",
              "      background-color: #E2EBFA;\n",
              "      box-shadow: 0px 1px 2px rgba(60, 64, 67, 0.3), 0px 1px 3px 1px rgba(60, 64, 67, 0.15);\n",
              "      fill: #174EA6;\n",
              "    }\n",
              "\n",
              "    [theme=dark] .colab-df-convert {\n",
              "      background-color: #3B4455;\n",
              "      fill: #D2E3FC;\n",
              "    }\n",
              "\n",
              "    [theme=dark] .colab-df-convert:hover {\n",
              "      background-color: #434B5C;\n",
              "      box-shadow: 0px 1px 3px 1px rgba(0, 0, 0, 0.15);\n",
              "      filter: drop-shadow(0px 1px 2px rgba(0, 0, 0, 0.3));\n",
              "      fill: #FFFFFF;\n",
              "    }\n",
              "  </style>\n",
              "\n",
              "      <script>\n",
              "        const buttonEl =\n",
              "          document.querySelector('#df-452da941-ea27-4dd9-ba93-69e08c6c6c01 button.colab-df-convert');\n",
              "        buttonEl.style.display =\n",
              "          google.colab.kernel.accessAllowed ? 'block' : 'none';\n",
              "\n",
              "        async function convertToInteractive(key) {\n",
              "          const element = document.querySelector('#df-452da941-ea27-4dd9-ba93-69e08c6c6c01');\n",
              "          const dataTable =\n",
              "            await google.colab.kernel.invokeFunction('convertToInteractive',\n",
              "                                                     [key], {});\n",
              "          if (!dataTable) return;\n",
              "\n",
              "          const docLinkHtml = 'Like what you see? Visit the ' +\n",
              "            '<a target=\"_blank\" href=https://colab.research.google.com/notebooks/data_table.ipynb>data table notebook</a>'\n",
              "            + ' to learn more about interactive tables.';\n",
              "          element.innerHTML = '';\n",
              "          dataTable['output_type'] = 'display_data';\n",
              "          await google.colab.output.renderOutput(dataTable, element);\n",
              "          const docLink = document.createElement('div');\n",
              "          docLink.innerHTML = docLinkHtml;\n",
              "          element.appendChild(docLink);\n",
              "        }\n",
              "      </script>\n",
              "    </div>\n",
              "  </div>\n",
              "  "
            ]
          },
          "metadata": {},
          "execution_count": 38
        }
      ],
      "source": [
        "(df.loc[sales_outliers_sorted.index.tolist()][['City', 'Category', 'Sub-Category', 'Product Name', \n",
        "                                              'Sales', 'Quantity', 'Discount', 'Profit']]).tail(10)"
      ]
    },
    {
      "cell_type": "markdown",
      "metadata": {
        "id": "7C-P75sfHwUo"
      },
      "source": [
        "## Q 3.4: Univariate Anomaly Detection on Profit using Isolation Forest\n",
        "\n",
        "In this section you will use the learning from Section 3.3 and implement anomaly detecting using isolation on the __`Profit`__ attribute. Since we have both +ve (profits) and -ve (losses) values in the distribution, we will try to find anomalies for each."
      ]
    },
    {
      "cell_type": "markdown",
      "metadata": {
        "id": "WOTbzHTLHwUo"
      },
      "source": [
        "### Initialize and Train Model\n",
        "\n",
        "__Your Turn:__ Initialize the isolation forest model with similar hyperparameters as Section 3.3 and also assuming the proportion of outliers to be 1% of the total data (using the contamination setting)"
      ]
    },
    {
      "cell_type": "code",
      "execution_count": 56,
      "metadata": {
        "id": "lK0E80QkHwUo",
        "colab": {
          "base_uri": "https://localhost:8080/"
        },
        "outputId": "07a40b14-da53-44c2-cff2-cc7896a7298e"
      },
      "outputs": [
        {
          "output_type": "execute_result",
          "data": {
            "text/plain": [
              "IsolationForest(contamination=0.01)"
            ]
          },
          "metadata": {},
          "execution_count": 56
        }
      ],
      "source": [
        "from sklearn.ensemble import IsolationForest\n",
        "#define IS with contamination factor of 1%\n",
        "profit_ifmodel= IsolationForest(n_estimators=100,contamination=0.01)\n",
        "#Train the data on profir\n",
        "profit_ifmodel.fit(df[[\"Profit\"]])"
      ]
    },
    {
      "cell_type": "code",
      "source": [
        "#below is like creating custom dataset for validation/testing\n",
        "x_val= np.linspace(df.Profit.min(), df.Profit.max(), num=len((df)) ).reshape(-1,1)\n",
        "print(x_val)"
      ],
      "metadata": {
        "colab": {
          "base_uri": "https://localhost:8080/"
        },
        "id": "LiepWJ1EQT16",
        "outputId": "f707e907-545f-43e7-a0a3-79599776df1d"
      },
      "execution_count": 57,
      "outputs": [
        {
          "output_type": "stream",
          "name": "stdout",
          "text": [
            "[[-6599.978     ]\n",
            " [-6598.47695387]\n",
            " [-6596.97590774]\n",
            " ...\n",
            " [ 8396.97390774]\n",
            " [ 8398.47495387]\n",
            " [ 8399.976     ]]\n"
          ]
        }
      ]
    },
    {
      "cell_type": "code",
      "source": [
        "#get the anomaly scores and outlier predictions\n",
        "profit_ascore= profit_ifmodel.decision_function(x_val)\n",
        "profit_outliers= profit_ifmodel.predict(x_val)"
      ],
      "metadata": {
        "id": "FRXyyBnkZH3Y"
      },
      "execution_count": 62,
      "outputs": []
    },
    {
      "cell_type": "markdown",
      "metadata": {
        "id": "12xrD0-9HwUp"
      },
      "source": [
        "### Visualize Outlier Regions\n",
        "\n",
        "__Your turn:__ Visualize the upper and lower outlier regions in the distribution similar to what you did in 3.3"
      ]
    },
    {
      "cell_type": "code",
      "execution_count": 78,
      "metadata": {
        "id": "4RuWDFpwHwUp",
        "colab": {
          "base_uri": "https://localhost:8080/",
          "height": 440
        },
        "outputId": "e8cbd322-078c-4683-8120-6972287ee6b6"
      },
      "outputs": [
        {
          "output_type": "stream",
          "name": "stderr",
          "text": [
            "WARNING:matplotlib.legend:No handles with labels found to put in legend.\n"
          ]
        },
        {
          "output_type": "execute_result",
          "data": {
            "text/plain": [
              "<matplotlib.collections.PolyCollection at 0x7f80a10021d0>"
            ]
          },
          "metadata": {},
          "execution_count": 78
        },
        {
          "output_type": "display_data",
          "data": {
            "text/plain": [
              "<Figure size 864x432 with 1 Axes>"
            ],
            "image/png": "[encoded data removed]"
          },
          "metadata": {
            "needs_background": "light"
          }
        }
      ],
      "source": [
        "plt.figure(figsize=(12,6))\n",
        "plt.plot(x_val, profit_ascore)\n",
        "plt.xlabel(\"Profit (x_val)\")\n",
        "plt.ylabel(\"Anomaly Score\")\n",
        "plt.title(\"Anomaly Score VS Profit\")\n",
        "plt.legend()\n",
        "plt.fill_between(x_val.T[0], np.min(profit_ascore), np.max(profit_ascore), \n",
        "                 where=profit_outliers==-1, color='b', \n",
        "                 alpha=.4, label='outlier region')"
      ]
    },
    {
      "cell_type": "markdown",
      "metadata": {
        "id": "MNlBiuv0HwUp"
      },
      "source": [
        "### Filter and Sort Outliers\n",
        "\n",
        "__Your Turn:__ Predict outliers in our dataset using our trained model and filter out the outlier observations and sort by descending order and view the top 5 outlier values similar to 3.3"
      ]
    },
    {
      "cell_type": "code",
      "execution_count": 89,
      "metadata": {
        "id": "wS4W2Xb4HwUp",
        "colab": {
          "base_uri": "https://localhost:8080/"
        },
        "outputId": "29e83031-860f-424b-a4b3-3bad4f3edea3"
      },
      "outputs": [
        {
          "output_type": "stream",
          "name": "stdout",
          "text": [
            "Total Profit Outliers: 98\n",
            "Profit Outliers...\n",
            "6826    8399.9760\n",
            "8153    6719.9808\n",
            "4190    5039.9856\n",
            "9039    4946.3700\n",
            "4098    4630.4755\n",
            "Name: Profit, dtype: float64\n",
            "=======================\n",
            "Loss Outliers...\n",
            "7772   -6599.9780\n",
            "683    -3839.9904\n",
            "9774   -3701.8928\n",
            "3011   -3399.9800\n",
            "4991   -2929.4845\n",
            "Name: Profit, dtype: float64\n"
          ]
        }
      ],
      "source": [
        "profit_outliers_predicted= profit_ifmodel.predict(df[[\"Profit\"]])\n",
        "profit_outliers_df = df[['Profit']]\n",
        "profit_outliers_df['Outlier'] = profit_outliers_predicted\n",
        "profit_outliers_df = profit_outliers_df[profit_outliers_df['Outlier'] == -1]['Profit']\n",
        "\n",
        "print('Total Profit Outliers:', len(profit_outliers_df))\n",
        "profit_outliers_sorted = profit_outliers_df.sort_values(ascending=False)\n",
        "loss_outliers_sorted = profit_outliers_df.sort_values(ascending=True)\n",
        "print(\"Profit Outliers...\")\n",
        "print(profit_outliers_sorted.head(5))\n",
        "print(\"=======================\")\n",
        "print(\"Loss Outliers...\")\n",
        "print(loss_outliers_sorted.head(5))"
      ]
    },
    {
      "cell_type": "markdown",
      "metadata": {
        "id": "6hGjC9RDHwUp"
      },
      "source": [
        "### View Top 10 Outlier Transactions\n",
        "\n",
        "__Your turn:__ View the top ten transactions based on highest profits"
      ]
    },
    {
      "cell_type": "code",
      "execution_count": 90,
      "metadata": {
        "id": "Y2FL1DCWHwUp",
        "colab": {
          "base_uri": "https://localhost:8080/",
          "height": 363
        },
        "outputId": "bf1ef32d-2fef-4a15-8d0d-face6eeae9a0"
      },
      "outputs": [
        {
          "output_type": "execute_result",
          "data": {
            "text/plain": [
              "               City         Category Sub-Category  \\\n",
              "6826      Lafayette       Technology      Copiers   \n",
              "8153        Seattle       Technology      Copiers   \n",
              "4190         Newark       Technology      Copiers   \n",
              "9039        Detroit  Office Supplies      Binders   \n",
              "4098    Minneapolis  Office Supplies      Binders   \n",
              "2623  New York City       Technology      Copiers   \n",
              "509         Atlanta  Office Supplies      Binders   \n",
              "8488      Arlington       Technology     Machines   \n",
              "7666     Providence       Technology      Copiers   \n",
              "6520        Jackson  Office Supplies      Binders   \n",
              "\n",
              "                                           Product Name      Sales  Quantity  \\\n",
              "6826              Canon imageCLASS 2200 Advanced Copier  17499.950         5   \n",
              "8153              Canon imageCLASS 2200 Advanced Copier  13999.960         4   \n",
              "4190              Canon imageCLASS 2200 Advanced Copier  10499.970         3   \n",
              "9039   GBC Ibimaster 500 Manual ProClick Binding System   9892.740        13   \n",
              "4098               Ibico EPK-21 Electric Binding System   9449.950         5   \n",
              "2623              Canon imageCLASS 2200 Advanced Copier  11199.968         4   \n",
              "509   Fellowes PB500 Electric Punch Plastic Comb Bin...   6354.950         5   \n",
              "8488  HP Designjet T520 Inkjet Large Format Printer ...   8749.950         5   \n",
              "7666               Hewlett Packard LaserJet 3310 Copier   5399.910         9   \n",
              "6520          GBC DocuBind P400 Electric Binding System   5443.960         4   \n",
              "\n",
              "      Discount     Profit  \n",
              "6826       0.0  8399.9760  \n",
              "8153       0.0  6719.9808  \n",
              "4190       0.0  5039.9856  \n",
              "9039       0.0  4946.3700  \n",
              "4098       0.0  4630.4755  \n",
              "2623       0.2  3919.9888  \n",
              "509        0.0  3177.4750  \n",
              "8488       0.0  2799.9840  \n",
              "7666       0.0  2591.9568  \n",
              "6520       0.0  2504.2216  "
            ],
            "text/html": [
              "\n",
              "  <div id=\"df-824e23f2-8e23-4025-9bbd-cfa75b9f2f17\">\n",
              "    <div class=\"colab-df-container\">\n",
              "      <div>\n",
              "<style scoped>\n",
              "    .dataframe tbody tr th:only-of-type {\n",
              "        vertical-align: middle;\n",
              "    }\n",
              "\n",
              "    .dataframe tbody tr th {\n",
              "        vertical-align: top;\n",
              "    }\n",
              "\n",
              "    .dataframe thead th {\n",
              "        text-align: right;\n",
              "    }\n",
              "</style>\n",
              "<table border=\"1\" class=\"dataframe\">\n",
              "  <thead>\n",
              "    <tr style=\"text-align: right;\">\n",
              "      <th></th>\n",
              "      <th>City</th>\n",
              "      <th>Category</th>\n",
              "      <th>Sub-Category</th>\n",
              "      <th>Product Name</th>\n",
              "      <th>Sales</th>\n",
              "      <th>Quantity</th>\n",
              "      <th>Discount</th>\n",
              "      <th>Profit</th>\n",
              "    </tr>\n",
              "  </thead>\n",
              "  <tbody>\n",
              "    <tr>\n",
              "      <th>6826</th>\n",
              "      <td>Lafayette</td>\n",
              "      <td>Technology</td>\n",
              "      <td>Copiers</td>\n",
              "      <td>Canon imageCLASS 2200 Advanced Copier</td>\n",
              "      <td>17499.950</td>\n",
              "      <td>5</td>\n",
              "      <td>0.0</td>\n",
              "      <td>8399.9760</td>\n",
              "    </tr>\n",
              "    <tr>\n",
              "      <th>8153</th>\n",
              "      <td>Seattle</td>\n",
              "      <td>Technology</td>\n",
              "      <td>Copiers</td>\n",
              "      <td>Canon imageCLASS 2200 Advanced Copier</td>\n",
              "      <td>13999.960</td>\n",
              "      <td>4</td>\n",
              "      <td>0.0</td>\n",
              "      <td>6719.9808</td>\n",
              "    </tr>\n",
              "    <tr>\n",
              "      <th>4190</th>\n",
              "      <td>Newark</td>\n",
              "      <td>Technology</td>\n",
              "      <td>Copiers</td>\n",
              "      <td>Canon imageCLASS 2200 Advanced Copier</td>\n",
              "      <td>10499.970</td>\n",
              "      <td>3</td>\n",
              "      <td>0.0</td>\n",
              "      <td>5039.9856</td>\n",
              "    </tr>\n",
              "    <tr>\n",
              "      <th>9039</th>\n",
              "      <td>Detroit</td>\n",
              "      <td>Office Supplies</td>\n",
              "      <td>Binders</td>\n",
              "      <td>GBC Ibimaster 500 Manual ProClick Binding System</td>\n",
              "      <td>9892.740</td>\n",
              "      <td>13</td>\n",
              "      <td>0.0</td>\n",
              "      <td>4946.3700</td>\n",
              "    </tr>\n",
              "    <tr>\n",
              "      <th>4098</th>\n",
              "      <td>Minneapolis</td>\n",
              "      <td>Office Supplies</td>\n",
              "      <td>Binders</td>\n",
              "      <td>Ibico EPK-21 Electric Binding System</td>\n",
              "      <td>9449.950</td>\n",
              "      <td>5</td>\n",
              "      <td>0.0</td>\n",
              "      <td>4630.4755</td>\n",
              "    </tr>\n",
              "    <tr>\n",
              "      <th>2623</th>\n",
              "      <td>New York City</td>\n",
              "      <td>Technology</td>\n",
              "      <td>Copiers</td>\n",
              "      <td>Canon imageCLASS 2200 Advanced Copier</td>\n",
              "      <td>11199.968</td>\n",
              "      <td>4</td>\n",
              "      <td>0.2</td>\n",
              "      <td>3919.9888</td>\n",
              "    </tr>\n",
              "    <tr>\n",
              "      <th>509</th>\n",
              "      <td>Atlanta</td>\n",
              "      <td>Office Supplies</td>\n",
              "      <td>Binders</td>\n",
              "      <td>Fellowes PB500 Electric Punch Plastic Comb Bin...</td>\n",
              "      <td>6354.950</td>\n",
              "      <td>5</td>\n",
              "      <td>0.0</td>\n",
              "      <td>3177.4750</td>\n",
              "    </tr>\n",
              "    <tr>\n",
              "      <th>8488</th>\n",
              "      <td>Arlington</td>\n",
              "      <td>Technology</td>\n",
              "      <td>Machines</td>\n",
              "      <td>HP Designjet T520 Inkjet Large Format Printer ...</td>\n",
              "      <td>8749.950</td>\n",
              "      <td>5</td>\n",
              "      <td>0.0</td>\n",
              "      <td>2799.9840</td>\n",
              "    </tr>\n",
              "    <tr>\n",
              "      <th>7666</th>\n",
              "      <td>Providence</td>\n",
              "      <td>Technology</td>\n",
              "      <td>Copiers</td>\n",
              "      <td>Hewlett Packard LaserJet 3310 Copier</td>\n",
              "      <td>5399.910</td>\n",
              "      <td>9</td>\n",
              "      <td>0.0</td>\n",
              "      <td>2591.9568</td>\n",
              "    </tr>\n",
              "    <tr>\n",
              "      <th>6520</th>\n",
              "      <td>Jackson</td>\n",
              "      <td>Office Supplies</td>\n",
              "      <td>Binders</td>\n",
              "      <td>GBC DocuBind P400 Electric Binding System</td>\n",
              "      <td>5443.960</td>\n",
              "      <td>4</td>\n",
              "      <td>0.0</td>\n",
              "      <td>2504.2216</td>\n",
              "    </tr>\n",
              "  </tbody>\n",
              "</table>\n",
              "</div>\n",
              "      <button class=\"colab-df-convert\" onclick=\"convertToInteractive('df-824e23f2-8e23-4025-9bbd-cfa75b9f2f17')\"\n",
              "              title=\"Convert this dataframe to an interactive table.\"\n",
              "              style=\"display:none;\">\n",
              "        \n",
              "  <svg xmlns=\"http://www.w3.org/2000/svg\" height=\"24px\"viewBox=\"0 0 24 24\"\n",
              "       width=\"24px\">\n",
              "    <path d=\"M0 0h24v24H0V0z\" fill=\"none\"/>\n",
              "    <path d=\"M18.56 5.44l.94 2.06.94-2.06 2.06-.94-2.06-.94-.94-2.06-.94 2.06-2.06.94zm-11 1L8.5 8.5l.94-2.06 2.06-.94-2.06-.94L8.5 2.5l-.94 2.06-2.06.94zm10 10l.94 2.06.94-2.06 2.06-.94-2.06-.94-.94-2.06-.94 2.06-2.06.94z\"/><path d=\"M17.41 7.96l-1.37-1.37c-.4-.4-.92-.59-1.43-.59-.52 0-1.04.2-1.43.59L10.3 9.45l-7.72 7.72c-.78.78-.78 2.05 0 2.83L4 21.41c.39.39.9.59 1.41.59.51 0 1.02-.2 1.41-.59l7.78-7.78 2.81-2.81c.8-.78.8-2.07 0-2.86zM5.41 20L4 18.59l7.72-7.72 1.47 1.35L5.41 20z\"/>\n",
              "  </svg>\n",
              "      </button>\n",
              "      \n",
              "  <style>\n",
              "    .colab-df-container {\n",
              "      display:flex;\n",
              "      flex-wrap:wrap;\n",
              "      gap: 12px;\n",
              "    }\n",
              "\n",
              "    .colab-df-convert {\n",
              "      background-color: #E8F0FE;\n",
              "      border: none;\n",
              "      border-radius: 50%;\n",
              "      cursor: pointer;\n",
              "      display: none;\n",
              "      fill: #1967D2;\n",
              "      height: 32px;\n",
              "      padding: 0 0 0 0;\n",
              "      width: 32px;\n",
              "    }\n",
              "\n",
              "    .colab-df-convert:hover {\n",
              "      background-color: #E2EBFA;\n",
              "      box-shadow: 0px 1px 2px rgba(60, 64, 67, 0.3), 0px 1px 3px 1px rgba(60, 64, 67, 0.15);\n",
              "      fill: #174EA6;\n",
              "    }\n",
              "\n",
              "    [theme=dark] .colab-df-convert {\n",
              "      background-color: #3B4455;\n",
              "      fill: #D2E3FC;\n",
              "    }\n",
              "\n",
              "    [theme=dark] .colab-df-convert:hover {\n",
              "      background-color: #434B5C;\n",
              "      box-shadow: 0px 1px 3px 1px rgba(0, 0, 0, 0.15);\n",
              "      filter: drop-shadow(0px 1px 2px rgba(0, 0, 0, 0.3));\n",
              "      fill: #FFFFFF;\n",
              "    }\n",
              "  </style>\n",
              "\n",
              "      <script>\n",
              "        const buttonEl =\n",
              "          document.querySelector('#df-824e23f2-8e23-4025-9bbd-cfa75b9f2f17 button.colab-df-convert');\n",
              "        buttonEl.style.display =\n",
              "          google.colab.kernel.accessAllowed ? 'block' : 'none';\n",
              "\n",
              "        async function convertToInteractive(key) {\n",
              "          const element = document.querySelector('#df-824e23f2-8e23-4025-9bbd-cfa75b9f2f17');\n",
              "          const dataTable =\n",
              "            await google.colab.kernel.invokeFunction('convertToInteractive',\n",
              "                                                     [key], {});\n",
              "          if (!dataTable) return;\n",
              "\n",
              "          const docLinkHtml = 'Like what you see? Visit the ' +\n",
              "            '<a target=\"_blank\" href=https://colab.research.google.com/notebooks/data_table.ipynb>data table notebook</a>'\n",
              "            + ' to learn more about interactive tables.';\n",
              "          element.innerHTML = '';\n",
              "          dataTable['output_type'] = 'display_data';\n",
              "          await google.colab.output.renderOutput(dataTable, element);\n",
              "          const docLink = document.createElement('div');\n",
              "          docLink.innerHTML = docLinkHtml;\n",
              "          element.appendChild(docLink);\n",
              "        }\n",
              "      </script>\n",
              "    </div>\n",
              "  </div>\n",
              "  "
            ]
          },
          "metadata": {},
          "execution_count": 90
        }
      ],
      "source": [
        "(df.loc[profit_outliers_sorted.index.tolist()][['City', 'Category', 'Sub-Category', 'Product Name', \n",
        "                                              'Sales', 'Quantity', 'Discount', 'Profit']]).head(10)"
      ]
    },
    {
      "cell_type": "markdown",
      "metadata": {
        "id": "5-oEW_Z3HwUp"
      },
      "source": [
        "### View Bottom 10 Outlier Transactions\n",
        "\n",
        "__Your turn:__ View the bottom ten transactions based on lowest profits (highest losses)"
      ]
    },
    {
      "cell_type": "code",
      "execution_count": 91,
      "metadata": {
        "id": "2nEgR7YwHwUp",
        "colab": {
          "base_uri": "https://localhost:8080/",
          "height": 363
        },
        "outputId": "284042b3-1c46-48d2-c9bf-0f6e1bb3a297"
      },
      "outputs": [
        {
          "output_type": "execute_result",
          "data": {
            "text/plain": [
              "              City         Category Sub-Category  \\\n",
              "7772     Lancaster       Technology     Machines   \n",
              "683     Burlington       Technology     Machines   \n",
              "9774   San Antonio  Office Supplies      Binders   \n",
              "3011    Louisville       Technology     Machines   \n",
              "4991       Chicago  Office Supplies      Binders   \n",
              "3151        Newark       Technology     Machines   \n",
              "5310       Houston  Office Supplies      Binders   \n",
              "9639       Concord        Furniture       Tables   \n",
              "1199       Houston  Office Supplies      Binders   \n",
              "2697  Jacksonville       Technology     Machines   \n",
              "\n",
              "                                           Product Name      Sales  Quantity  \\\n",
              "7772          Cubify CubeX 3D Printer Double Head Print   4499.985         5   \n",
              "683           Cubify CubeX 3D Printer Triple Head Print   7999.980         4   \n",
              "9774          GBC DocuBind P400 Electric Binding System   2177.584         8   \n",
              "3011          Lexmark MX611dhe Monochrome Laser Printer   2549.985         5   \n",
              "4991               Ibico EPK-21 Electric Binding System   1889.990         5   \n",
              "3151          Cubify CubeX 3D Printer Double Head Print   1799.994         2   \n",
              "5310  Fellowes PB500 Electric Punch Plastic Comb Bin...   1525.188         6   \n",
              "9639  Chromcraft Bull-Nose Wood Oval Conference Tabl...   4297.644        13   \n",
              "1199          GBC DocuBind P400 Electric Binding System   1088.792         4   \n",
              "2697  Cisco TelePresence System EX90 Videoconferenci...  22638.480         6   \n",
              "\n",
              "      Discount     Profit  \n",
              "7772       0.7 -6599.9780  \n",
              "683        0.5 -3839.9904  \n",
              "9774       0.8 -3701.8928  \n",
              "3011       0.7 -3399.9800  \n",
              "4991       0.8 -2929.4845  \n",
              "3151       0.7 -2639.9912  \n",
              "5310       0.8 -2287.7820  \n",
              "9639       0.4 -1862.3124  \n",
              "1199       0.8 -1850.9464  \n",
              "2697       0.5 -1811.0784  "
            ],
            "text/html": [
              "\n",
              "  <div id=\"df-8dd7b2ea-63a7-4172-be08-f091cf020e99\">\n",
              "    <div class=\"colab-df-container\">\n",
              "      <div>\n",
              "<style scoped>\n",
              "    .dataframe tbody tr th:only-of-type {\n",
              "        vertical-align: middle;\n",
              "    }\n",
              "\n",
              "    .dataframe tbody tr th {\n",
              "        vertical-align: top;\n",
              "    }\n",
              "\n",
              "    .dataframe thead th {\n",
              "        text-align: right;\n",
              "    }\n",
              "</style>\n",
              "<table border=\"1\" class=\"dataframe\">\n",
              "  <thead>\n",
              "    <tr style=\"text-align: right;\">\n",
              "      <th></th>\n",
              "      <th>City</th>\n",
              "      <th>Category</th>\n",
              "      <th>Sub-Category</th>\n",
              "      <th>Product Name</th>\n",
              "      <th>Sales</th>\n",
              "      <th>Quantity</th>\n",
              "      <th>Discount</th>\n",
              "      <th>Profit</th>\n",
              "    </tr>\n",
              "  </thead>\n",
              "  <tbody>\n",
              "    <tr>\n",
              "      <th>7772</th>\n",
              "      <td>Lancaster</td>\n",
              "      <td>Technology</td>\n",
              "      <td>Machines</td>\n",
              "      <td>Cubify CubeX 3D Printer Double Head Print</td>\n",
              "      <td>4499.985</td>\n",
              "      <td>5</td>\n",
              "      <td>0.7</td>\n",
              "      <td>-6599.9780</td>\n",
              "    </tr>\n",
              "    <tr>\n",
              "      <th>683</th>\n",
              "      <td>Burlington</td>\n",
              "      <td>Technology</td>\n",
              "      <td>Machines</td>\n",
              "      <td>Cubify CubeX 3D Printer Triple Head Print</td>\n",
              "      <td>7999.980</td>\n",
              "      <td>4</td>\n",
              "      <td>0.5</td>\n",
              "      <td>-3839.9904</td>\n",
              "    </tr>\n",
              "    <tr>\n",
              "      <th>9774</th>\n",
              "      <td>San Antonio</td>\n",
              "      <td>Office Supplies</td>\n",
              "      <td>Binders</td>\n",
              "      <td>GBC DocuBind P400 Electric Binding System</td>\n",
              "      <td>2177.584</td>\n",
              "      <td>8</td>\n",
              "      <td>0.8</td>\n",
              "      <td>-3701.8928</td>\n",
              "    </tr>\n",
              "    <tr>\n",
              "      <th>3011</th>\n",
              "      <td>Louisville</td>\n",
              "      <td>Technology</td>\n",
              "      <td>Machines</td>\n",
              "      <td>Lexmark MX611dhe Monochrome Laser Printer</td>\n",
              "      <td>2549.985</td>\n",
              "      <td>5</td>\n",
              "      <td>0.7</td>\n",
              "      <td>-3399.9800</td>\n",
              "    </tr>\n",
              "    <tr>\n",
              "      <th>4991</th>\n",
              "      <td>Chicago</td>\n",
              "      <td>Office Supplies</td>\n",
              "      <td>Binders</td>\n",
              "      <td>Ibico EPK-21 Electric Binding System</td>\n",
              "      <td>1889.990</td>\n",
              "      <td>5</td>\n",
              "      <td>0.8</td>\n",
              "      <td>-2929.4845</td>\n",
              "    </tr>\n",
              "    <tr>\n",
              "      <th>3151</th>\n",
              "      <td>Newark</td>\n",
              "      <td>Technology</td>\n",
              "      <td>Machines</td>\n",
              "      <td>Cubify CubeX 3D Printer Double Head Print</td>\n",
              "      <td>1799.994</td>\n",
              "      <td>2</td>\n",
              "      <td>0.7</td>\n",
              "      <td>-2639.9912</td>\n",
              "    </tr>\n",
              "    <tr>\n",
              "      <th>5310</th>\n",
              "      <td>Houston</td>\n",
              "      <td>Office Supplies</td>\n",
              "      <td>Binders</td>\n",
              "      <td>Fellowes PB500 Electric Punch Plastic Comb Bin...</td>\n",
              "      <td>1525.188</td>\n",
              "      <td>6</td>\n",
              "      <td>0.8</td>\n",
              "      <td>-2287.7820</td>\n",
              "    </tr>\n",
              "    <tr>\n",
              "      <th>9639</th>\n",
              "      <td>Concord</td>\n",
              "      <td>Furniture</td>\n",
              "      <td>Tables</td>\n",
              "      <td>Chromcraft Bull-Nose Wood Oval Conference Tabl...</td>\n",
              "      <td>4297.644</td>\n",
              "      <td>13</td>\n",
              "      <td>0.4</td>\n",
              "      <td>-1862.3124</td>\n",
              "    </tr>\n",
              "    <tr>\n",
              "      <th>1199</th>\n",
              "      <td>Houston</td>\n",
              "      <td>Office Supplies</td>\n",
              "      <td>Binders</td>\n",
              "      <td>GBC DocuBind P400 Electric Binding System</td>\n",
              "      <td>1088.792</td>\n",
              "      <td>4</td>\n",
              "      <td>0.8</td>\n",
              "      <td>-1850.9464</td>\n",
              "    </tr>\n",
              "    <tr>\n",
              "      <th>2697</th>\n",
              "      <td>Jacksonville</td>\n",
              "      <td>Technology</td>\n",
              "      <td>Machines</td>\n",
              "      <td>Cisco TelePresence System EX90 Videoconferenci...</td>\n",
              "      <td>22638.480</td>\n",
              "      <td>6</td>\n",
              "      <td>0.5</td>\n",
              "      <td>-1811.0784</td>\n",
              "    </tr>\n",
              "  </tbody>\n",
              "</table>\n",
              "</div>\n",
              "      <button class=\"colab-df-convert\" onclick=\"convertToInteractive('df-8dd7b2ea-63a7-4172-be08-f091cf020e99')\"\n",
              "              title=\"Convert this dataframe to an interactive table.\"\n",
              "              style=\"display:none;\">\n",
              "        \n",
              "  <svg xmlns=\"http://www.w3.org/2000/svg\" height=\"24px\"viewBox=\"0 0 24 24\"\n",
              "       width=\"24px\">\n",
              "    <path d=\"M0 0h24v24H0V0z\" fill=\"none\"/>\n",
              "    <path d=\"M18.56 5.44l.94 2.06.94-2.06 2.06-.94-2.06-.94-.94-2.06-.94 2.06-2.06.94zm-11 1L8.5 8.5l.94-2.06 2.06-.94-2.06-.94L8.5 2.5l-.94 2.06-2.06.94zm10 10l.94 2.06.94-2.06 2.06-.94-2.06-.94-.94-2.06-.94 2.06-2.06.94z\"/><path d=\"M17.41 7.96l-1.37-1.37c-.4-.4-.92-.59-1.43-.59-.52 0-1.04.2-1.43.59L10.3 9.45l-7.72 7.72c-.78.78-.78 2.05 0 2.83L4 21.41c.39.39.9.59 1.41.59.51 0 1.02-.2 1.41-.59l7.78-7.78 2.81-2.81c.8-.78.8-2.07 0-2.86zM5.41 20L4 18.59l7.72-7.72 1.47 1.35L5.41 20z\"/>\n",
              "  </svg>\n",
              "      </button>\n",
              "      \n",
              "  <style>\n",
              "    .colab-df-container {\n",
              "      display:flex;\n",
              "      flex-wrap:wrap;\n",
              "      gap: 12px;\n",
              "    }\n",
              "\n",
              "    .colab-df-convert {\n",
              "      background-color: #E8F0FE;\n",
              "      border: none;\n",
              "      border-radius: 50%;\n",
              "      cursor: pointer;\n",
              "      display: none;\n",
              "      fill: #1967D2;\n",
              "      height: 32px;\n",
              "      padding: 0 0 0 0;\n",
              "      width: 32px;\n",
              "    }\n",
              "\n",
              "    .colab-df-convert:hover {\n",
              "      background-color: #E2EBFA;\n",
              "      box-shadow: 0px 1px 2px rgba(60, 64, 67, 0.3), 0px 1px 3px 1px rgba(60, 64, 67, 0.15);\n",
              "      fill: #174EA6;\n",
              "    }\n",
              "\n",
              "    [theme=dark] .colab-df-convert {\n",
              "      background-color: #3B4455;\n",
              "      fill: #D2E3FC;\n",
              "    }\n",
              "\n",
              "    [theme=dark] .colab-df-convert:hover {\n",
              "      background-color: #434B5C;\n",
              "      box-shadow: 0px 1px 3px 1px rgba(0, 0, 0, 0.15);\n",
              "      filter: drop-shadow(0px 1px 2px rgba(0, 0, 0, 0.3));\n",
              "      fill: #FFFFFF;\n",
              "    }\n",
              "  </style>\n",
              "\n",
              "      <script>\n",
              "        const buttonEl =\n",
              "          document.querySelector('#df-8dd7b2ea-63a7-4172-be08-f091cf020e99 button.colab-df-convert');\n",
              "        buttonEl.style.display =\n",
              "          google.colab.kernel.accessAllowed ? 'block' : 'none';\n",
              "\n",
              "        async function convertToInteractive(key) {\n",
              "          const element = document.querySelector('#df-8dd7b2ea-63a7-4172-be08-f091cf020e99');\n",
              "          const dataTable =\n",
              "            await google.colab.kernel.invokeFunction('convertToInteractive',\n",
              "                                                     [key], {});\n",
              "          if (!dataTable) return;\n",
              "\n",
              "          const docLinkHtml = 'Like what you see? Visit the ' +\n",
              "            '<a target=\"_blank\" href=https://colab.research.google.com/notebooks/data_table.ipynb>data table notebook</a>'\n",
              "            + ' to learn more about interactive tables.';\n",
              "          element.innerHTML = '';\n",
              "          dataTable['output_type'] = 'display_data';\n",
              "          await google.colab.output.renderOutput(dataTable, element);\n",
              "          const docLink = document.createElement('div');\n",
              "          docLink.innerHTML = docLinkHtml;\n",
              "          element.appendChild(docLink);\n",
              "        }\n",
              "      </script>\n",
              "    </div>\n",
              "  </div>\n",
              "  "
            ]
          },
          "metadata": {},
          "execution_count": 91
        }
      ],
      "source": [
        "(df.loc[loss_outliers_sorted.index.tolist()][['City', 'Category', 'Sub-Category', 'Product Name', \n",
        "                                              'Sales', 'Quantity', 'Discount', 'Profit']]).head(10)"
      ]
    },
    {
      "cell_type": "markdown",
      "metadata": {
        "id": "P81Kn8YzHwUp"
      },
      "source": [
        "### Q: Do you observe any similarity in the results with the previous method?"
      ]
    },
    {
      "cell_type": "markdown",
      "metadata": {
        "id": "lQkAXhMIHwUq"
      },
      "source": [
        "__A:__ Yes"
      ]
    },
    {
      "cell_type": "markdown",
      "metadata": {
        "id": "QPbEvfs5HwUq"
      },
      "source": [
        "Another interesting approach to check out would be the [Generalized ESD Test for Outliers](https://www.itl.nist.gov/div898/handbook/eda/section3/eda35h3.htm)\n",
        "\n"
      ]
    },
    {
      "cell_type": "markdown",
      "metadata": {
        "id": "Oi19fUkGHwUq"
      },
      "source": [
        "# 4. Multivariate Anomaly Detection\n",
        "\n",
        "Multivariate is basically analysis done on more than one attribute or feature at a time. In this section, we will perform anomaly detection on two attributes (__`Discount`__ & __`Profit`__) using the following methods.\n",
        "\n",
        "- Clustering Based Local Outlier Factor (CBLOF)\n",
        "- Isolation Forest\n",
        "- Auto-Encoders\n",
        "\n",
        "You will learn how to train these models to detect outliers and also visualize these outliers. For this section we will be using the __[`pyod`](https://pyod.readthedocs.io/en/latest/)__ package so make sure you have it installed."
      ]
    },
    {
      "cell_type": "code",
      "execution_count": 92,
      "metadata": {
        "id": "_TLq4f1kHwUq",
        "colab": {
          "base_uri": "https://localhost:8080/"
        },
        "outputId": "850c5beb-af80-490c-8585-aa20a1ec48b0"
      },
      "outputs": [
        {
          "output_type": "stream",
          "name": "stdout",
          "text": [
            "Looking in indexes: https://pypi.org/simple, https://us-python.pkg.dev/colab-wheels/public/simple/\n",
            "Collecting pyod\n",
            "  Downloading pyod-1.0.3.tar.gz (125 kB)\n",
            "\u001b[K     |████████████████████████████████| 125 kB 6.9 MB/s \n",
            "\u001b[?25hRequirement already satisfied: joblib in /usr/local/lib/python3.7/dist-packages (from pyod) (1.1.0)\n",
            "Requirement already satisfied: matplotlib in /usr/local/lib/python3.7/dist-packages (from pyod) (3.2.2)\n",
            "Requirement already satisfied: numpy>=1.19 in /usr/local/lib/python3.7/dist-packages (from pyod) (1.21.6)\n",
            "Requirement already satisfied: numba>=0.51 in /usr/local/lib/python3.7/dist-packages (from pyod) (0.51.2)\n",
            "Requirement already satisfied: scipy>=1.5.1 in /usr/local/lib/python3.7/dist-packages (from pyod) (1.7.3)\n",
            "Requirement already satisfied: scikit_learn>=0.20.0 in /usr/local/lib/python3.7/dist-packages (from pyod) (1.0.2)\n",
            "Requirement already satisfied: six in /usr/local/lib/python3.7/dist-packages (from pyod) (1.15.0)\n",
            "Requirement already satisfied: statsmodels in /usr/local/lib/python3.7/dist-packages (from pyod) (0.10.2)\n",
            "Requirement already satisfied: llvmlite<0.35,>=0.34.0.dev0 in /usr/local/lib/python3.7/dist-packages (from numba>=0.51->pyod) (0.34.0)\n",
            "Requirement already satisfied: setuptools in /usr/local/lib/python3.7/dist-packages (from numba>=0.51->pyod) (57.4.0)\n",
            "Requirement already satisfied: threadpoolctl>=2.0.0 in /usr/local/lib/python3.7/dist-packages (from scikit_learn>=0.20.0->pyod) (3.1.0)\n",
            "Requirement already satisfied: kiwisolver>=1.0.1 in /usr/local/lib/python3.7/dist-packages (from matplotlib->pyod) (1.4.4)\n",
            "Requirement already satisfied: python-dateutil>=2.1 in /usr/local/lib/python3.7/dist-packages (from matplotlib->pyod) (2.8.2)\n",
            "Requirement already satisfied: pyparsing!=2.0.4,!=2.1.2,!=2.1.6,>=2.0.1 in /usr/local/lib/python3.7/dist-packages (from matplotlib->pyod) (3.0.9)\n",
            "Requirement already satisfied: cycler>=0.10 in /usr/local/lib/python3.7/dist-packages (from matplotlib->pyod) (0.11.0)\n",
            "Requirement already satisfied: typing-extensions in /usr/local/lib/python3.7/dist-packages (from kiwisolver>=1.0.1->matplotlib->pyod) (4.1.1)\n",
            "Requirement already satisfied: pandas>=0.19 in /usr/local/lib/python3.7/dist-packages (from statsmodels->pyod) (1.3.5)\n",
            "Requirement already satisfied: patsy>=0.4.0 in /usr/local/lib/python3.7/dist-packages (from statsmodels->pyod) (0.5.2)\n",
            "Requirement already satisfied: pytz>=2017.3 in /usr/local/lib/python3.7/dist-packages (from pandas>=0.19->statsmodels->pyod) (2022.1)\n",
            "Building wheels for collected packages: pyod\n",
            "  Building wheel for pyod (setup.py) ... \u001b[?25l\u001b[?25hdone\n",
            "  Created wheel for pyod: filename=pyod-1.0.3-py3-none-any.whl size=154726 sha256=d7240d5e535d15e7c3f385401f6bccaad143aca260659900792cdc72a5af1d4f\n",
            "  Stored in directory: /root/.cache/pip/wheels/60/1e/04/b42e786399bd7503af674d1ec95d93665b1700309ec3525b65\n",
            "Successfully built pyod\n",
            "Installing collected packages: pyod\n",
            "Successfully installed pyod-1.0.3\n"
          ]
        }
      ],
      "source": [
        "!pip install pyod"
      ]
    },
    {
      "cell_type": "markdown",
      "metadata": {
        "id": "2B9C4hceHwUq"
      },
      "source": [
        "## Extract Subset Data for Outlier Detection"
      ]
    },
    {
      "cell_type": "code",
      "execution_count": 93,
      "metadata": {
        "id": "NkIUMiTtHwUq",
        "colab": {
          "base_uri": "https://localhost:8080/",
          "height": 206
        },
        "outputId": "d90fda7e-d159-4146-846b-40967faf59c9"
      },
      "outputs": [
        {
          "output_type": "execute_result",
          "data": {
            "text/plain": [
              "   Discount    Profit\n",
              "0      0.00   41.9136\n",
              "1      0.00  219.5820\n",
              "2      0.00    6.8714\n",
              "3      0.45 -383.0310\n",
              "4      0.20    2.5164"
            ],
            "text/html": [
              "\n",
              "  <div id=\"df-2a37b117-2366-406c-9134-3e3bf75cb232\">\n",
              "    <div class=\"colab-df-container\">\n",
              "      <div>\n",
              "<style scoped>\n",
              "    .dataframe tbody tr th:only-of-type {\n",
              "        vertical-align: middle;\n",
              "    }\n",
              "\n",
              "    .dataframe tbody tr th {\n",
              "        vertical-align: top;\n",
              "    }\n",
              "\n",
              "    .dataframe thead th {\n",
              "        text-align: right;\n",
              "    }\n",
              "</style>\n",
              "<table border=\"1\" class=\"dataframe\">\n",
              "  <thead>\n",
              "    <tr style=\"text-align: right;\">\n",
              "      <th></th>\n",
              "      <th>Discount</th>\n",
              "      <th>Profit</th>\n",
              "    </tr>\n",
              "  </thead>\n",
              "  <tbody>\n",
              "    <tr>\n",
              "      <th>0</th>\n",
              "      <td>0.00</td>\n",
              "      <td>41.9136</td>\n",
              "    </tr>\n",
              "    <tr>\n",
              "      <th>1</th>\n",
              "      <td>0.00</td>\n",
              "      <td>219.5820</td>\n",
              "    </tr>\n",
              "    <tr>\n",
              "      <th>2</th>\n",
              "      <td>0.00</td>\n",
              "      <td>6.8714</td>\n",
              "    </tr>\n",
              "    <tr>\n",
              "      <th>3</th>\n",
              "      <td>0.45</td>\n",
              "      <td>-383.0310</td>\n",
              "    </tr>\n",
              "    <tr>\n",
              "      <th>4</th>\n",
              "      <td>0.20</td>\n",
              "      <td>2.5164</td>\n",
              "    </tr>\n",
              "  </tbody>\n",
              "</table>\n",
              "</div>\n",
              "      <button class=\"colab-df-convert\" onclick=\"convertToInteractive('df-2a37b117-2366-406c-9134-3e3bf75cb232')\"\n",
              "              title=\"Convert this dataframe to an interactive table.\"\n",
              "              style=\"display:none;\">\n",
              "        \n",
              "  <svg xmlns=\"http://www.w3.org/2000/svg\" height=\"24px\"viewBox=\"0 0 24 24\"\n",
              "       width=\"24px\">\n",
              "    <path d=\"M0 0h24v24H0V0z\" fill=\"none\"/>\n",
              "    <path d=\"M18.56 5.44l.94 2.06.94-2.06 2.06-.94-2.06-.94-.94-2.06-.94 2.06-2.06.94zm-11 1L8.5 8.5l.94-2.06 2.06-.94-2.06-.94L8.5 2.5l-.94 2.06-2.06.94zm10 10l.94 2.06.94-2.06 2.06-.94-2.06-.94-.94-2.06-.94 2.06-2.06.94z\"/><path d=\"M17.41 7.96l-1.37-1.37c-.4-.4-.92-.59-1.43-.59-.52 0-1.04.2-1.43.59L10.3 9.45l-7.72 7.72c-.78.78-.78 2.05 0 2.83L4 21.41c.39.39.9.59 1.41.59.51 0 1.02-.2 1.41-.59l7.78-7.78 2.81-2.81c.8-.78.8-2.07 0-2.86zM5.41 20L4 18.59l7.72-7.72 1.47 1.35L5.41 20z\"/>\n",
              "  </svg>\n",
              "      </button>\n",
              "      \n",
              "  <style>\n",
              "    .colab-df-container {\n",
              "      display:flex;\n",
              "      flex-wrap:wrap;\n",
              "      gap: 12px;\n",
              "    }\n",
              "\n",
              "    .colab-df-convert {\n",
              "      background-color: #E8F0FE;\n",
              "      border: none;\n",
              "      border-radius: 50%;\n",
              "      cursor: pointer;\n",
              "      display: none;\n",
              "      fill: #1967D2;\n",
              "      height: 32px;\n",
              "      padding: 0 0 0 0;\n",
              "      width: 32px;\n",
              "    }\n",
              "\n",
              "    .colab-df-convert:hover {\n",
              "      background-color: #E2EBFA;\n",
              "      box-shadow: 0px 1px 2px rgba(60, 64, 67, 0.3), 0px 1px 3px 1px rgba(60, 64, 67, 0.15);\n",
              "      fill: #174EA6;\n",
              "    }\n",
              "\n",
              "    [theme=dark] .colab-df-convert {\n",
              "      background-color: #3B4455;\n",
              "      fill: #D2E3FC;\n",
              "    }\n",
              "\n",
              "    [theme=dark] .colab-df-convert:hover {\n",
              "      background-color: #434B5C;\n",
              "      box-shadow: 0px 1px 3px 1px rgba(0, 0, 0, 0.15);\n",
              "      filter: drop-shadow(0px 1px 2px rgba(0, 0, 0, 0.3));\n",
              "      fill: #FFFFFF;\n",
              "    }\n",
              "  </style>\n",
              "\n",
              "      <script>\n",
              "        const buttonEl =\n",
              "          document.querySelector('#df-2a37b117-2366-406c-9134-3e3bf75cb232 button.colab-df-convert');\n",
              "        buttonEl.style.display =\n",
              "          google.colab.kernel.accessAllowed ? 'block' : 'none';\n",
              "\n",
              "        async function convertToInteractive(key) {\n",
              "          const element = document.querySelector('#df-2a37b117-2366-406c-9134-3e3bf75cb232');\n",
              "          const dataTable =\n",
              "            await google.colab.kernel.invokeFunction('convertToInteractive',\n",
              "                                                     [key], {});\n",
              "          if (!dataTable) return;\n",
              "\n",
              "          const docLinkHtml = 'Like what you see? Visit the ' +\n",
              "            '<a target=\"_blank\" href=https://colab.research.google.com/notebooks/data_table.ipynb>data table notebook</a>'\n",
              "            + ' to learn more about interactive tables.';\n",
              "          element.innerHTML = '';\n",
              "          dataTable['output_type'] = 'display_data';\n",
              "          await google.colab.output.renderOutput(dataTable, element);\n",
              "          const docLink = document.createElement('div');\n",
              "          docLink.innerHTML = docLinkHtml;\n",
              "          element.appendChild(docLink);\n",
              "        }\n",
              "      </script>\n",
              "    </div>\n",
              "  </div>\n",
              "  "
            ]
          },
          "metadata": {},
          "execution_count": 93
        }
      ],
      "source": [
        "cols = ['Discount', 'Profit']\n",
        "subset_df = df[cols]\n",
        "subset_df.head()"
      ]
    },
    {
      "cell_type": "markdown",
      "metadata": {
        "id": "Wy33bu28HwUq"
      },
      "source": [
        "## Feature Scaling"
      ]
    },
    {
      "cell_type": "code",
      "execution_count": 94,
      "metadata": {
        "id": "J-wXmiUxHwUq",
        "colab": {
          "base_uri": "https://localhost:8080/",
          "height": 206
        },
        "outputId": "8c1761c0-fbf7-48c2-e626-9989ebc1d5e2"
      },
      "outputs": [
        {
          "output_type": "execute_result",
          "data": {
            "text/plain": [
              "   Discount    Profit\n",
              "0    0.0000  0.442794\n",
              "1    0.0000  0.454639\n",
              "2    0.0000  0.440458\n",
              "3    0.5625  0.414464\n",
              "4    0.2500  0.440168"
            ],
            "text/html": [
              "\n",
              "  <div id=\"df-2a25e104-f6fe-485b-8ab0-c6ebc260729e\">\n",
              "    <div class=\"colab-df-container\">\n",
              "      <div>\n",
              "<style scoped>\n",
              "    .dataframe tbody tr th:only-of-type {\n",
              "        vertical-align: middle;\n",
              "    }\n",
              "\n",
              "    .dataframe tbody tr th {\n",
              "        vertical-align: top;\n",
              "    }\n",
              "\n",
              "    .dataframe thead th {\n",
              "        text-align: right;\n",
              "    }\n",
              "</style>\n",
              "<table border=\"1\" class=\"dataframe\">\n",
              "  <thead>\n",
              "    <tr style=\"text-align: right;\">\n",
              "      <th></th>\n",
              "      <th>Discount</th>\n",
              "      <th>Profit</th>\n",
              "    </tr>\n",
              "  </thead>\n",
              "  <tbody>\n",
              "    <tr>\n",
              "      <th>0</th>\n",
              "      <td>0.0000</td>\n",
              "      <td>0.442794</td>\n",
              "    </tr>\n",
              "    <tr>\n",
              "      <th>1</th>\n",
              "      <td>0.0000</td>\n",
              "      <td>0.454639</td>\n",
              "    </tr>\n",
              "    <tr>\n",
              "      <th>2</th>\n",
              "      <td>0.0000</td>\n",
              "      <td>0.440458</td>\n",
              "    </tr>\n",
              "    <tr>\n",
              "      <th>3</th>\n",
              "      <td>0.5625</td>\n",
              "      <td>0.414464</td>\n",
              "    </tr>\n",
              "    <tr>\n",
              "      <th>4</th>\n",
              "      <td>0.2500</td>\n",
              "      <td>0.440168</td>\n",
              "    </tr>\n",
              "  </tbody>\n",
              "</table>\n",
              "</div>\n",
              "      <button class=\"colab-df-convert\" onclick=\"convertToInteractive('df-2a25e104-f6fe-485b-8ab0-c6ebc260729e')\"\n",
              "              title=\"Convert this dataframe to an interactive table.\"\n",
              "              style=\"display:none;\">\n",
              "        \n",
              "  <svg xmlns=\"http://www.w3.org/2000/svg\" height=\"24px\"viewBox=\"0 0 24 24\"\n",
              "       width=\"24px\">\n",
              "    <path d=\"M0 0h24v24H0V0z\" fill=\"none\"/>\n",
              "    <path d=\"M18.56 5.44l.94 2.06.94-2.06 2.06-.94-2.06-.94-.94-2.06-.94 2.06-2.06.94zm-11 1L8.5 8.5l.94-2.06 2.06-.94-2.06-.94L8.5 2.5l-.94 2.06-2.06.94zm10 10l.94 2.06.94-2.06 2.06-.94-2.06-.94-.94-2.06-.94 2.06-2.06.94z\"/><path d=\"M17.41 7.96l-1.37-1.37c-.4-.4-.92-.59-1.43-.59-.52 0-1.04.2-1.43.59L10.3 9.45l-7.72 7.72c-.78.78-.78 2.05 0 2.83L4 21.41c.39.39.9.59 1.41.59.51 0 1.02-.2 1.41-.59l7.78-7.78 2.81-2.81c.8-.78.8-2.07 0-2.86zM5.41 20L4 18.59l7.72-7.72 1.47 1.35L5.41 20z\"/>\n",
              "  </svg>\n",
              "      </button>\n",
              "      \n",
              "  <style>\n",
              "    .colab-df-container {\n",
              "      display:flex;\n",
              "      flex-wrap:wrap;\n",
              "      gap: 12px;\n",
              "    }\n",
              "\n",
              "    .colab-df-convert {\n",
              "      background-color: #E8F0FE;\n",
              "      border: none;\n",
              "      border-radius: 50%;\n",
              "      cursor: pointer;\n",
              "      display: none;\n",
              "      fill: #1967D2;\n",
              "      height: 32px;\n",
              "      padding: 0 0 0 0;\n",
              "      width: 32px;\n",
              "    }\n",
              "\n",
              "    .colab-df-convert:hover {\n",
              "      background-color: #E2EBFA;\n",
              "      box-shadow: 0px 1px 2px rgba(60, 64, 67, 0.3), 0px 1px 3px 1px rgba(60, 64, 67, 0.15);\n",
              "      fill: #174EA6;\n",
              "    }\n",
              "\n",
              "    [theme=dark] .colab-df-convert {\n",
              "      background-color: #3B4455;\n",
              "      fill: #D2E3FC;\n",
              "    }\n",
              "\n",
              "    [theme=dark] .colab-df-convert:hover {\n",
              "      background-color: #434B5C;\n",
              "      box-shadow: 0px 1px 3px 1px rgba(0, 0, 0, 0.15);\n",
              "      filter: drop-shadow(0px 1px 2px rgba(0, 0, 0, 0.3));\n",
              "      fill: #FFFFFF;\n",
              "    }\n",
              "  </style>\n",
              "\n",
              "      <script>\n",
              "        const buttonEl =\n",
              "          document.querySelector('#df-2a25e104-f6fe-485b-8ab0-c6ebc260729e button.colab-df-convert');\n",
              "        buttonEl.style.display =\n",
              "          google.colab.kernel.accessAllowed ? 'block' : 'none';\n",
              "\n",
              "        async function convertToInteractive(key) {\n",
              "          const element = document.querySelector('#df-2a25e104-f6fe-485b-8ab0-c6ebc260729e');\n",
              "          const dataTable =\n",
              "            await google.colab.kernel.invokeFunction('convertToInteractive',\n",
              "                                                     [key], {});\n",
              "          if (!dataTable) return;\n",
              "\n",
              "          const docLinkHtml = 'Like what you see? Visit the ' +\n",
              "            '<a target=\"_blank\" href=https://colab.research.google.com/notebooks/data_table.ipynb>data table notebook</a>'\n",
              "            + ' to learn more about interactive tables.';\n",
              "          element.innerHTML = '';\n",
              "          dataTable['output_type'] = 'display_data';\n",
              "          await google.colab.output.renderOutput(dataTable, element);\n",
              "          const docLink = document.createElement('div');\n",
              "          docLink.innerHTML = docLinkHtml;\n",
              "          element.appendChild(docLink);\n",
              "        }\n",
              "      </script>\n",
              "    </div>\n",
              "  </div>\n",
              "  "
            ]
          },
          "metadata": {},
          "execution_count": 94
        }
      ],
      "source": [
        "from sklearn.preprocessing import MinMaxScaler\n",
        "\n",
        "mms = MinMaxScaler(feature_range=(0, 1))\n",
        "subset_df[cols] = mms.fit_transform(subset_df)\n",
        "subset_df.head()"
      ]
    },
    {
      "cell_type": "markdown",
      "metadata": {
        "id": "aACxJz4tHwUq"
      },
      "source": [
        "## 4.1: Multivariate Anomaly Detection with Clustering Based Local Outlier Factor (CBLOF)\n",
        "\n",
        "The CBLOF model takes as an input the dataset and the cluster model that was generated by a clustering algorithm. It classifies the clusters into small clusters and large clusters using the parameters alpha and beta. The anomaly score is then calculated based on the size of the cluster the point belongs to as well as the distance to the nearest large cluster.\n",
        "\n",
        "By default, kMeans is used for clustering algorithm. You can read more in the [official documentation](https://pyod.readthedocs.io/en/latest/pyod.models.html#module-pyod.models.cblof)"
      ]
    },
    {
      "cell_type": "markdown",
      "metadata": {
        "id": "luaY74NYHwUr"
      },
      "source": [
        "### Initialize and Train Model\n",
        "\n",
        "Here we initialize the CBLOF model with some hyperparameters assuming the proportion of outliers to be 1% of the total data (using the `contamination` setting)"
      ]
    },
    {
      "cell_type": "code",
      "execution_count": 95,
      "metadata": {
        "id": "F-exZ6CXHwUr",
        "colab": {
          "base_uri": "https://localhost:8080/"
        },
        "outputId": "b49ebbb4-8bde-4d80-ac5e-380503a0f5f5"
      },
      "outputs": [
        {
          "output_type": "execute_result",
          "data": {
            "text/plain": [
              "CBLOF(alpha=0.9, beta=5, check_estimator=False, clustering_estimator=None,\n",
              "   contamination=0.01, n_clusters=8, n_jobs=None, random_state=42,\n",
              "   use_weights=False)"
            ]
          },
          "metadata": {},
          "execution_count": 95
        }
      ],
      "source": [
        "from pyod.models import cblof\n",
        "\n",
        "cblof_model = cblof.CBLOF(contamination=0.01, random_state=42)\n",
        "cblof_model.fit(subset_df)"
      ]
    },
    {
      "cell_type": "markdown",
      "metadata": {
        "id": "JReJkcrSHwUr"
      },
      "source": [
        "### Filter and Sort Outliers\n",
        "\n",
        "Here we predict outliers in our dataset using our trained model and filter out the outlier observations and sort by descending order and view the top 5 outlier values"
      ]
    },
    {
      "cell_type": "code",
      "execution_count": 96,
      "metadata": {
        "id": "qyO46oaSHwUr",
        "colab": {
          "base_uri": "https://localhost:8080/",
          "height": 224
        },
        "outputId": "4e10d810-5598-4cf0-d0f2-e54c81fb2034"
      },
      "outputs": [
        {
          "output_type": "stream",
          "name": "stdout",
          "text": [
            "Total Outliers: 100\n"
          ]
        },
        {
          "output_type": "execute_result",
          "data": {
            "text/plain": [
              "      Discount    Profit  Outlier\n",
              "6826       0.0  1.000000        1\n",
              "8153       0.0  0.888000        1\n",
              "4190       0.0  0.776000        1\n",
              "9039       0.0  0.769759        1\n",
              "4098       0.0  0.748699        1"
            ],
            "text/html": [
              "\n",
              "  <div id=\"df-980a2b95-c465-4c61-86df-479d029dcf5c\">\n",
              "    <div class=\"colab-df-container\">\n",
              "      <div>\n",
              "<style scoped>\n",
              "    .dataframe tbody tr th:only-of-type {\n",
              "        vertical-align: middle;\n",
              "    }\n",
              "\n",
              "    .dataframe tbody tr th {\n",
              "        vertical-align: top;\n",
              "    }\n",
              "\n",
              "    .dataframe thead th {\n",
              "        text-align: right;\n",
              "    }\n",
              "</style>\n",
              "<table border=\"1\" class=\"dataframe\">\n",
              "  <thead>\n",
              "    <tr style=\"text-align: right;\">\n",
              "      <th></th>\n",
              "      <th>Discount</th>\n",
              "      <th>Profit</th>\n",
              "      <th>Outlier</th>\n",
              "    </tr>\n",
              "  </thead>\n",
              "  <tbody>\n",
              "    <tr>\n",
              "      <th>6826</th>\n",
              "      <td>0.0</td>\n",
              "      <td>1.000000</td>\n",
              "      <td>1</td>\n",
              "    </tr>\n",
              "    <tr>\n",
              "      <th>8153</th>\n",
              "      <td>0.0</td>\n",
              "      <td>0.888000</td>\n",
              "      <td>1</td>\n",
              "    </tr>\n",
              "    <tr>\n",
              "      <th>4190</th>\n",
              "      <td>0.0</td>\n",
              "      <td>0.776000</td>\n",
              "      <td>1</td>\n",
              "    </tr>\n",
              "    <tr>\n",
              "      <th>9039</th>\n",
              "      <td>0.0</td>\n",
              "      <td>0.769759</td>\n",
              "      <td>1</td>\n",
              "    </tr>\n",
              "    <tr>\n",
              "      <th>4098</th>\n",
              "      <td>0.0</td>\n",
              "      <td>0.748699</td>\n",
              "      <td>1</td>\n",
              "    </tr>\n",
              "  </tbody>\n",
              "</table>\n",
              "</div>\n",
              "      <button class=\"colab-df-convert\" onclick=\"convertToInteractive('df-980a2b95-c465-4c61-86df-479d029dcf5c')\"\n",
              "              title=\"Convert this dataframe to an interactive table.\"\n",
              "              style=\"display:none;\">\n",
              "        \n",
              "  <svg xmlns=\"http://www.w3.org/2000/svg\" height=\"24px\"viewBox=\"0 0 24 24\"\n",
              "       width=\"24px\">\n",
              "    <path d=\"M0 0h24v24H0V0z\" fill=\"none\"/>\n",
              "    <path d=\"M18.56 5.44l.94 2.06.94-2.06 2.06-.94-2.06-.94-.94-2.06-.94 2.06-2.06.94zm-11 1L8.5 8.5l.94-2.06 2.06-.94-2.06-.94L8.5 2.5l-.94 2.06-2.06.94zm10 10l.94 2.06.94-2.06 2.06-.94-2.06-.94-.94-2.06-.94 2.06-2.06.94z\"/><path d=\"M17.41 7.96l-1.37-1.37c-.4-.4-.92-.59-1.43-.59-.52 0-1.04.2-1.43.59L10.3 9.45l-7.72 7.72c-.78.78-.78 2.05 0 2.83L4 21.41c.39.39.9.59 1.41.59.51 0 1.02-.2 1.41-.59l7.78-7.78 2.81-2.81c.8-.78.8-2.07 0-2.86zM5.41 20L4 18.59l7.72-7.72 1.47 1.35L5.41 20z\"/>\n",
              "  </svg>\n",
              "      </button>\n",
              "      \n",
              "  <style>\n",
              "    .colab-df-container {\n",
              "      display:flex;\n",
              "      flex-wrap:wrap;\n",
              "      gap: 12px;\n",
              "    }\n",
              "\n",
              "    .colab-df-convert {\n",
              "      background-color: #E8F0FE;\n",
              "      border: none;\n",
              "      border-radius: 50%;\n",
              "      cursor: pointer;\n",
              "      display: none;\n",
              "      fill: #1967D2;\n",
              "      height: 32px;\n",
              "      padding: 0 0 0 0;\n",
              "      width: 32px;\n",
              "    }\n",
              "\n",
              "    .colab-df-convert:hover {\n",
              "      background-color: #E2EBFA;\n",
              "      box-shadow: 0px 1px 2px rgba(60, 64, 67, 0.3), 0px 1px 3px 1px rgba(60, 64, 67, 0.15);\n",
              "      fill: #174EA6;\n",
              "    }\n",
              "\n",
              "    [theme=dark] .colab-df-convert {\n",
              "      background-color: #3B4455;\n",
              "      fill: #D2E3FC;\n",
              "    }\n",
              "\n",
              "    [theme=dark] .colab-df-convert:hover {\n",
              "      background-color: #434B5C;\n",
              "      box-shadow: 0px 1px 3px 1px rgba(0, 0, 0, 0.15);\n",
              "      filter: drop-shadow(0px 1px 2px rgba(0, 0, 0, 0.3));\n",
              "      fill: #FFFFFF;\n",
              "    }\n",
              "  </style>\n",
              "\n",
              "      <script>\n",
              "        const buttonEl =\n",
              "          document.querySelector('#df-980a2b95-c465-4c61-86df-479d029dcf5c button.colab-df-convert');\n",
              "        buttonEl.style.display =\n",
              "          google.colab.kernel.accessAllowed ? 'block' : 'none';\n",
              "\n",
              "        async function convertToInteractive(key) {\n",
              "          const element = document.querySelector('#df-980a2b95-c465-4c61-86df-479d029dcf5c');\n",
              "          const dataTable =\n",
              "            await google.colab.kernel.invokeFunction('convertToInteractive',\n",
              "                                                     [key], {});\n",
              "          if (!dataTable) return;\n",
              "\n",
              "          const docLinkHtml = 'Like what you see? Visit the ' +\n",
              "            '<a target=\"_blank\" href=https://colab.research.google.com/notebooks/data_table.ipynb>data table notebook</a>'\n",
              "            + ' to learn more about interactive tables.';\n",
              "          element.innerHTML = '';\n",
              "          dataTable['output_type'] = 'display_data';\n",
              "          await google.colab.output.renderOutput(dataTable, element);\n",
              "          const docLink = document.createElement('div');\n",
              "          docLink.innerHTML = docLinkHtml;\n",
              "          element.appendChild(docLink);\n",
              "        }\n",
              "      </script>\n",
              "    </div>\n",
              "  </div>\n",
              "  "
            ]
          },
          "metadata": {},
          "execution_count": 96
        }
      ],
      "source": [
        "outlier_predictions = cblof_model.predict(subset_df)\n",
        "\n",
        "outliers_df = subset_df.copy(deep=True)\n",
        "outliers_df['Outlier'] = outlier_predictions\n",
        "outliers_df = outliers_df[outliers_df['Outlier'] == 1]\n",
        "\n",
        "print('Total Outliers:', len(outliers_df))\n",
        "outliers_sorted = outliers_df.sort_values(by=['Profit', 'Discount'], ascending=False)\n",
        "outliers_sorted.head(5)"
      ]
    },
    {
      "cell_type": "markdown",
      "metadata": {
        "id": "ZAJDmvuiHwUr"
      },
      "source": [
        "### View Bottom 10 Outlier Transactions"
      ]
    },
    {
      "cell_type": "code",
      "execution_count": 97,
      "metadata": {
        "id": "NjclnDVEHwUr",
        "colab": {
          "base_uri": "https://localhost:8080/",
          "height": 363
        },
        "outputId": "197db1aa-5dbd-4a10-ac2c-cce5ddae800f"
      },
      "outputs": [
        {
          "output_type": "execute_result",
          "data": {
            "text/plain": [
              "              City    Category Sub-Category  \\\n",
              "463        Phoenix   Furniture       Tables   \n",
              "4128     Charlotte  Technology     Machines   \n",
              "8993      Columbia   Furniture       Tables   \n",
              "5320     Knoxville   Furniture       Tables   \n",
              "165    San Antonio  Technology     Machines   \n",
              "27    Philadelphia   Furniture    Bookcases   \n",
              "2697  Jacksonville  Technology     Machines   \n",
              "9639       Concord   Furniture       Tables   \n",
              "683     Burlington  Technology     Machines   \n",
              "7772     Lancaster  Technology     Machines   \n",
              "\n",
              "                                           Product Name      Sales  Quantity  \\\n",
              "463   Bush Advantage Collection Racetrack Conference...   1272.630         6   \n",
              "4128  HP Designjet T520 Inkjet Large Format Printer ...   2624.985         3   \n",
              "8993                       Balt Solid Wood Round Tables   1875.258         7   \n",
              "5320  Chromcraft Bull-Nose Wood Oval Conference Tabl...   2314.116         7   \n",
              "165           Lexmark MX611dhe Monochrome Laser Printer   8159.952         8   \n",
              "27    Riverside Palais Royal Lawyers Bookcase, Royal...   3083.430         7   \n",
              "2697  Cisco TelePresence System EX90 Videoconferenci...  22638.480         6   \n",
              "9639  Chromcraft Bull-Nose Wood Oval Conference Tabl...   4297.644        13   \n",
              "683           Cubify CubeX 3D Printer Triple Head Print   7999.980         4   \n",
              "7772          Cubify CubeX 3D Printer Double Head Print   4499.985         5   \n",
              "\n",
              "      Discount     Profit  \n",
              "463        0.5  -814.4832  \n",
              "4128       0.5  -944.9946  \n",
              "8993       0.4  -968.8833  \n",
              "5320       0.4 -1002.7836  \n",
              "165        0.4 -1359.9920  \n",
              "27         0.5 -1665.0522  \n",
              "2697       0.5 -1811.0784  \n",
              "9639       0.4 -1862.3124  \n",
              "683        0.5 -3839.9904  \n",
              "7772       0.7 -6599.9780  "
            ],
            "text/html": [
              "\n",
              "  <div id=\"df-c49b5fe9-687a-4990-b877-8646026a4908\">\n",
              "    <div class=\"colab-df-container\">\n",
              "      <div>\n",
              "<style scoped>\n",
              "    .dataframe tbody tr th:only-of-type {\n",
              "        vertical-align: middle;\n",
              "    }\n",
              "\n",
              "    .dataframe tbody tr th {\n",
              "        vertical-align: top;\n",
              "    }\n",
              "\n",
              "    .dataframe thead th {\n",
              "        text-align: right;\n",
              "    }\n",
              "</style>\n",
              "<table border=\"1\" class=\"dataframe\">\n",
              "  <thead>\n",
              "    <tr style=\"text-align: right;\">\n",
              "      <th></th>\n",
              "      <th>City</th>\n",
              "      <th>Category</th>\n",
              "      <th>Sub-Category</th>\n",
              "      <th>Product Name</th>\n",
              "      <th>Sales</th>\n",
              "      <th>Quantity</th>\n",
              "      <th>Discount</th>\n",
              "      <th>Profit</th>\n",
              "    </tr>\n",
              "  </thead>\n",
              "  <tbody>\n",
              "    <tr>\n",
              "      <th>463</th>\n",
              "      <td>Phoenix</td>\n",
              "      <td>Furniture</td>\n",
              "      <td>Tables</td>\n",
              "      <td>Bush Advantage Collection Racetrack Conference...</td>\n",
              "      <td>1272.630</td>\n",
              "      <td>6</td>\n",
              "      <td>0.5</td>\n",
              "      <td>-814.4832</td>\n",
              "    </tr>\n",
              "    <tr>\n",
              "      <th>4128</th>\n",
              "      <td>Charlotte</td>\n",
              "      <td>Technology</td>\n",
              "      <td>Machines</td>\n",
              "      <td>HP Designjet T520 Inkjet Large Format Printer ...</td>\n",
              "      <td>2624.985</td>\n",
              "      <td>3</td>\n",
              "      <td>0.5</td>\n",
              "      <td>-944.9946</td>\n",
              "    </tr>\n",
              "    <tr>\n",
              "      <th>8993</th>\n",
              "      <td>Columbia</td>\n",
              "      <td>Furniture</td>\n",
              "      <td>Tables</td>\n",
              "      <td>Balt Solid Wood Round Tables</td>\n",
              "      <td>1875.258</td>\n",
              "      <td>7</td>\n",
              "      <td>0.4</td>\n",
              "      <td>-968.8833</td>\n",
              "    </tr>\n",
              "    <tr>\n",
              "      <th>5320</th>\n",
              "      <td>Knoxville</td>\n",
              "      <td>Furniture</td>\n",
              "      <td>Tables</td>\n",
              "      <td>Chromcraft Bull-Nose Wood Oval Conference Tabl...</td>\n",
              "      <td>2314.116</td>\n",
              "      <td>7</td>\n",
              "      <td>0.4</td>\n",
              "      <td>-1002.7836</td>\n",
              "    </tr>\n",
              "    <tr>\n",
              "      <th>165</th>\n",
              "      <td>San Antonio</td>\n",
              "      <td>Technology</td>\n",
              "      <td>Machines</td>\n",
              "      <td>Lexmark MX611dhe Monochrome Laser Printer</td>\n",
              "      <td>8159.952</td>\n",
              "      <td>8</td>\n",
              "      <td>0.4</td>\n",
              "      <td>-1359.9920</td>\n",
              "    </tr>\n",
              "    <tr>\n",
              "      <th>27</th>\n",
              "      <td>Philadelphia</td>\n",
              "      <td>Furniture</td>\n",
              "      <td>Bookcases</td>\n",
              "      <td>Riverside Palais Royal Lawyers Bookcase, Royal...</td>\n",
              "      <td>3083.430</td>\n",
              "      <td>7</td>\n",
              "      <td>0.5</td>\n",
              "      <td>-1665.0522</td>\n",
              "    </tr>\n",
              "    <tr>\n",
              "      <th>2697</th>\n",
              "      <td>Jacksonville</td>\n",
              "      <td>Technology</td>\n",
              "      <td>Machines</td>\n",
              "      <td>Cisco TelePresence System EX90 Videoconferenci...</td>\n",
              "      <td>22638.480</td>\n",
              "      <td>6</td>\n",
              "      <td>0.5</td>\n",
              "      <td>-1811.0784</td>\n",
              "    </tr>\n",
              "    <tr>\n",
              "      <th>9639</th>\n",
              "      <td>Concord</td>\n",
              "      <td>Furniture</td>\n",
              "      <td>Tables</td>\n",
              "      <td>Chromcraft Bull-Nose Wood Oval Conference Tabl...</td>\n",
              "      <td>4297.644</td>\n",
              "      <td>13</td>\n",
              "      <td>0.4</td>\n",
              "      <td>-1862.3124</td>\n",
              "    </tr>\n",
              "    <tr>\n",
              "      <th>683</th>\n",
              "      <td>Burlington</td>\n",
              "      <td>Technology</td>\n",
              "      <td>Machines</td>\n",
              "      <td>Cubify CubeX 3D Printer Triple Head Print</td>\n",
              "      <td>7999.980</td>\n",
              "      <td>4</td>\n",
              "      <td>0.5</td>\n",
              "      <td>-3839.9904</td>\n",
              "    </tr>\n",
              "    <tr>\n",
              "      <th>7772</th>\n",
              "      <td>Lancaster</td>\n",
              "      <td>Technology</td>\n",
              "      <td>Machines</td>\n",
              "      <td>Cubify CubeX 3D Printer Double Head Print</td>\n",
              "      <td>4499.985</td>\n",
              "      <td>5</td>\n",
              "      <td>0.7</td>\n",
              "      <td>-6599.9780</td>\n",
              "    </tr>\n",
              "  </tbody>\n",
              "</table>\n",
              "</div>\n",
              "      <button class=\"colab-df-convert\" onclick=\"convertToInteractive('df-c49b5fe9-687a-4990-b877-8646026a4908')\"\n",
              "              title=\"Convert this dataframe to an interactive table.\"\n",
              "              style=\"display:none;\">\n",
              "        \n",
              "  <svg xmlns=\"http://www.w3.org/2000/svg\" height=\"24px\"viewBox=\"0 0 24 24\"\n",
              "       width=\"24px\">\n",
              "    <path d=\"M0 0h24v24H0V0z\" fill=\"none\"/>\n",
              "    <path d=\"M18.56 5.44l.94 2.06.94-2.06 2.06-.94-2.06-.94-.94-2.06-.94 2.06-2.06.94zm-11 1L8.5 8.5l.94-2.06 2.06-.94-2.06-.94L8.5 2.5l-.94 2.06-2.06.94zm10 10l.94 2.06.94-2.06 2.06-.94-2.06-.94-.94-2.06-.94 2.06-2.06.94z\"/><path d=\"M17.41 7.96l-1.37-1.37c-.4-.4-.92-.59-1.43-.59-.52 0-1.04.2-1.43.59L10.3 9.45l-7.72 7.72c-.78.78-.78 2.05 0 2.83L4 21.41c.39.39.9.59 1.41.59.51 0 1.02-.2 1.41-.59l7.78-7.78 2.81-2.81c.8-.78.8-2.07 0-2.86zM5.41 20L4 18.59l7.72-7.72 1.47 1.35L5.41 20z\"/>\n",
              "  </svg>\n",
              "      </button>\n",
              "      \n",
              "  <style>\n",
              "    .colab-df-container {\n",
              "      display:flex;\n",
              "      flex-wrap:wrap;\n",
              "      gap: 12px;\n",
              "    }\n",
              "\n",
              "    .colab-df-convert {\n",
              "      background-color: #E8F0FE;\n",
              "      border: none;\n",
              "      border-radius: 50%;\n",
              "      cursor: pointer;\n",
              "      display: none;\n",
              "      fill: #1967D2;\n",
              "      height: 32px;\n",
              "      padding: 0 0 0 0;\n",
              "      width: 32px;\n",
              "    }\n",
              "\n",
              "    .colab-df-convert:hover {\n",
              "      background-color: #E2EBFA;\n",
              "      box-shadow: 0px 1px 2px rgba(60, 64, 67, 0.3), 0px 1px 3px 1px rgba(60, 64, 67, 0.15);\n",
              "      fill: #174EA6;\n",
              "    }\n",
              "\n",
              "    [theme=dark] .colab-df-convert {\n",
              "      background-color: #3B4455;\n",
              "      fill: #D2E3FC;\n",
              "    }\n",
              "\n",
              "    [theme=dark] .colab-df-convert:hover {\n",
              "      background-color: #434B5C;\n",
              "      box-shadow: 0px 1px 3px 1px rgba(0, 0, 0, 0.15);\n",
              "      filter: drop-shadow(0px 1px 2px rgba(0, 0, 0, 0.3));\n",
              "      fill: #FFFFFF;\n",
              "    }\n",
              "  </style>\n",
              "\n",
              "      <script>\n",
              "        const buttonEl =\n",
              "          document.querySelector('#df-c49b5fe9-687a-4990-b877-8646026a4908 button.colab-df-convert');\n",
              "        buttonEl.style.display =\n",
              "          google.colab.kernel.accessAllowed ? 'block' : 'none';\n",
              "\n",
              "        async function convertToInteractive(key) {\n",
              "          const element = document.querySelector('#df-c49b5fe9-687a-4990-b877-8646026a4908');\n",
              "          const dataTable =\n",
              "            await google.colab.kernel.invokeFunction('convertToInteractive',\n",
              "                                                     [key], {});\n",
              "          if (!dataTable) return;\n",
              "\n",
              "          const docLinkHtml = 'Like what you see? Visit the ' +\n",
              "            '<a target=\"_blank\" href=https://colab.research.google.com/notebooks/data_table.ipynb>data table notebook</a>'\n",
              "            + ' to learn more about interactive tables.';\n",
              "          element.innerHTML = '';\n",
              "          dataTable['output_type'] = 'display_data';\n",
              "          await google.colab.output.renderOutput(dataTable, element);\n",
              "          const docLink = document.createElement('div');\n",
              "          docLink.innerHTML = docLinkHtml;\n",
              "          element.appendChild(docLink);\n",
              "        }\n",
              "      </script>\n",
              "    </div>\n",
              "  </div>\n",
              "  "
            ]
          },
          "metadata": {},
          "execution_count": 97
        }
      ],
      "source": [
        "(df.loc[outliers_sorted.index.tolist()][['City', 'Category', 'Sub-Category', 'Product Name', \n",
        "                                              'Sales', 'Quantity', 'Discount', 'Profit']]).tail(10)"
      ]
    },
    {
      "cell_type": "markdown",
      "metadata": {
        "id": "1Llz86aRHwUr"
      },
      "source": [
        "We can definitely see some huge losses incurred based on giving higher discounts even if the sales amount was high which is interesting as well as concerning."
      ]
    },
    {
      "cell_type": "markdown",
      "metadata": {
        "id": "6HyUoBJ1HwUr"
      },
      "source": [
        "## Q 4.2: Multivariate Anomaly Detection with Isolation Forest\n",
        "\n",
        "Here you will detect anomalies using the Isolation Forest model and use the learnings from 4.1. Here you will use the [`pyod`](https://pyod.readthedocs.io/en/latest/pyod.models.html#module-pyod.models.iforest) version of [Isolation Forest](https://pyod.readthedocs.io/en/latest/pyod.models.html#module-pyod.models.iforest) which is basically a wrapper over the `scikit-learn` version but with more functionalities."
      ]
    },
    {
      "cell_type": "markdown",
      "metadata": {
        "id": "-6c5kFt9HwUr"
      },
      "source": [
        "### Initialize and Train Model\n",
        "\n",
        "__Your Turn:__ Initialize the isolation forest model with similar hyperparameters as before and also assuming the proportion of outliers to be 1% of the total data (using the contamination setting)"
      ]
    },
    {
      "cell_type": "code",
      "execution_count": 99,
      "metadata": {
        "id": "xb1HvW0dHwUs",
        "colab": {
          "base_uri": "https://localhost:8080/"
        },
        "outputId": "00a92123-a653-4c9e-ddae-4943e8937e94"
      },
      "outputs": [
        {
          "output_type": "execute_result",
          "data": {
            "text/plain": [
              "IsolationForest(contamination=0.01, random_state=99)"
            ]
          },
          "metadata": {},
          "execution_count": 99
        }
      ],
      "source": [
        "from pyod.models import iforest\n",
        "\n",
        "if_model = iforest.IsolationForest(contamination=0.01,random_state=99)\n",
        "if_model.fit(subset_df)"
      ]
    },
    {
      "cell_type": "markdown",
      "metadata": {
        "id": "AkNrz1wIHwUs"
      },
      "source": [
        "### Filter and Sort Outliers\n",
        "\n",
        "__Your Turn:__ Predict outliers in our dataset using our trained model and filter out the outlier observations and sort by descending order and view the top 5 outlier values similar to 4.1"
      ]
    },
    {
      "cell_type": "code",
      "execution_count": 165,
      "metadata": {
        "id": "enlGF8FjHwUs",
        "colab": {
          "base_uri": "https://localhost:8080/",
          "height": 224
        },
        "outputId": "05fcda54-19be-4a3d-85f3-052ddcf702ff"
      },
      "outputs": [
        {
          "output_type": "stream",
          "name": "stdout",
          "text": [
            "Total Outliers: 100\n"
          ]
        },
        {
          "output_type": "execute_result",
          "data": {
            "text/plain": [
              "      Discount    Profit  Outlier\n",
              "6826       0.0  1.000000       -1\n",
              "8153       0.0  0.888000       -1\n",
              "4190       0.0  0.776000       -1\n",
              "9039       0.0  0.769759       -1\n",
              "4098       0.0  0.748699       -1"
            ],
            "text/html": [
              "\n",
              "  <div id=\"df-b7200d3b-cf11-4210-be64-ceebe34d7f5b\">\n",
              "    <div class=\"colab-df-container\">\n",
              "      <div>\n",
              "<style scoped>\n",
              "    .dataframe tbody tr th:only-of-type {\n",
              "        vertical-align: middle;\n",
              "    }\n",
              "\n",
              "    .dataframe tbody tr th {\n",
              "        vertical-align: top;\n",
              "    }\n",
              "\n",
              "    .dataframe thead th {\n",
              "        text-align: right;\n",
              "    }\n",
              "</style>\n",
              "<table border=\"1\" class=\"dataframe\">\n",
              "  <thead>\n",
              "    <tr style=\"text-align: right;\">\n",
              "      <th></th>\n",
              "      <th>Discount</th>\n",
              "      <th>Profit</th>\n",
              "      <th>Outlier</th>\n",
              "    </tr>\n",
              "  </thead>\n",
              "  <tbody>\n",
              "    <tr>\n",
              "      <th>6826</th>\n",
              "      <td>0.0</td>\n",
              "      <td>1.000000</td>\n",
              "      <td>-1</td>\n",
              "    </tr>\n",
              "    <tr>\n",
              "      <th>8153</th>\n",
              "      <td>0.0</td>\n",
              "      <td>0.888000</td>\n",
              "      <td>-1</td>\n",
              "    </tr>\n",
              "    <tr>\n",
              "      <th>4190</th>\n",
              "      <td>0.0</td>\n",
              "      <td>0.776000</td>\n",
              "      <td>-1</td>\n",
              "    </tr>\n",
              "    <tr>\n",
              "      <th>9039</th>\n",
              "      <td>0.0</td>\n",
              "      <td>0.769759</td>\n",
              "      <td>-1</td>\n",
              "    </tr>\n",
              "    <tr>\n",
              "      <th>4098</th>\n",
              "      <td>0.0</td>\n",
              "      <td>0.748699</td>\n",
              "      <td>-1</td>\n",
              "    </tr>\n",
              "  </tbody>\n",
              "</table>\n",
              "</div>\n",
              "      <button class=\"colab-df-convert\" onclick=\"convertToInteractive('df-b7200d3b-cf11-4210-be64-ceebe34d7f5b')\"\n",
              "              title=\"Convert this dataframe to an interactive table.\"\n",
              "              style=\"display:none;\">\n",
              "        \n",
              "  <svg xmlns=\"http://www.w3.org/2000/svg\" height=\"24px\"viewBox=\"0 0 24 24\"\n",
              "       width=\"24px\">\n",
              "    <path d=\"M0 0h24v24H0V0z\" fill=\"none\"/>\n",
              "    <path d=\"M18.56 5.44l.94 2.06.94-2.06 2.06-.94-2.06-.94-.94-2.06-.94 2.06-2.06.94zm-11 1L8.5 8.5l.94-2.06 2.06-.94-2.06-.94L8.5 2.5l-.94 2.06-2.06.94zm10 10l.94 2.06.94-2.06 2.06-.94-2.06-.94-.94-2.06-.94 2.06-2.06.94z\"/><path d=\"M17.41 7.96l-1.37-1.37c-.4-.4-.92-.59-1.43-.59-.52 0-1.04.2-1.43.59L10.3 9.45l-7.72 7.72c-.78.78-.78 2.05 0 2.83L4 21.41c.39.39.9.59 1.41.59.51 0 1.02-.2 1.41-.59l7.78-7.78 2.81-2.81c.8-.78.8-2.07 0-2.86zM5.41 20L4 18.59l7.72-7.72 1.47 1.35L5.41 20z\"/>\n",
              "  </svg>\n",
              "      </button>\n",
              "      \n",
              "  <style>\n",
              "    .colab-df-container {\n",
              "      display:flex;\n",
              "      flex-wrap:wrap;\n",
              "      gap: 12px;\n",
              "    }\n",
              "\n",
              "    .colab-df-convert {\n",
              "      background-color: #E8F0FE;\n",
              "      border: none;\n",
              "      border-radius: 50%;\n",
              "      cursor: pointer;\n",
              "      display: none;\n",
              "      fill: #1967D2;\n",
              "      height: 32px;\n",
              "      padding: 0 0 0 0;\n",
              "      width: 32px;\n",
              "    }\n",
              "\n",
              "    .colab-df-convert:hover {\n",
              "      background-color: #E2EBFA;\n",
              "      box-shadow: 0px 1px 2px rgba(60, 64, 67, 0.3), 0px 1px 3px 1px rgba(60, 64, 67, 0.15);\n",
              "      fill: #174EA6;\n",
              "    }\n",
              "\n",
              "    [theme=dark] .colab-df-convert {\n",
              "      background-color: #3B4455;\n",
              "      fill: #D2E3FC;\n",
              "    }\n",
              "\n",
              "    [theme=dark] .colab-df-convert:hover {\n",
              "      background-color: #434B5C;\n",
              "      box-shadow: 0px 1px 3px 1px rgba(0, 0, 0, 0.15);\n",
              "      filter: drop-shadow(0px 1px 2px rgba(0, 0, 0, 0.3));\n",
              "      fill: #FFFFFF;\n",
              "    }\n",
              "  </style>\n",
              "\n",
              "      <script>\n",
              "        const buttonEl =\n",
              "          document.querySelector('#df-b7200d3b-cf11-4210-be64-ceebe34d7f5b button.colab-df-convert');\n",
              "        buttonEl.style.display =\n",
              "          google.colab.kernel.accessAllowed ? 'block' : 'none';\n",
              "\n",
              "        async function convertToInteractive(key) {\n",
              "          const element = document.querySelector('#df-b7200d3b-cf11-4210-be64-ceebe34d7f5b');\n",
              "          const dataTable =\n",
              "            await google.colab.kernel.invokeFunction('convertToInteractive',\n",
              "                                                     [key], {});\n",
              "          if (!dataTable) return;\n",
              "\n",
              "          const docLinkHtml = 'Like what you see? Visit the ' +\n",
              "            '<a target=\"_blank\" href=https://colab.research.google.com/notebooks/data_table.ipynb>data table notebook</a>'\n",
              "            + ' to learn more about interactive tables.';\n",
              "          element.innerHTML = '';\n",
              "          dataTable['output_type'] = 'display_data';\n",
              "          await google.colab.output.renderOutput(dataTable, element);\n",
              "          const docLink = document.createElement('div');\n",
              "          docLink.innerHTML = docLinkHtml;\n",
              "          element.appendChild(docLink);\n",
              "        }\n",
              "      </script>\n",
              "    </div>\n",
              "  </div>\n",
              "  "
            ]
          },
          "metadata": {},
          "execution_count": 165
        }
      ],
      "source": [
        "if_outlier_predictions = if_model.predict(subset_df)\n",
        "\n",
        "if_outliers_df = subset_df.copy(deep=True)\n",
        "if_outliers_df['Outlier'] = if_outlier_predictions\n",
        "if_outliers_df = if_outliers_df[if_outliers_df['Outlier'] == -1] #this uses -1 as outlier NOT 1 (Good point to remember)\n",
        "\n",
        "print('Total Outliers:', len(if_outliers_df))\n",
        "if_outliers_sorted = if_outliers_df.sort_values(by=['Profit', 'Discount'], ascending=False)\n",
        "if_outliers_sorted.head(5)"
      ]
    },
    {
      "cell_type": "code",
      "source": [
        "copy_if_predictions=if_outlier_predictions"
      ],
      "metadata": {
        "id": "JqaeueduqlCZ"
      },
      "execution_count": 166,
      "outputs": []
    },
    {
      "cell_type": "code",
      "source": [
        "#ADDITIONAL CHECK : CONVERT THE -1 +1 PREDICTIONS TO 0 AND 1 AND CHECK\n",
        "copy_if_predictions[if_outlier_predictions==1]=0\n",
        "copy_if_predictions[if_outlier_predictions==-1]=1\n",
        "copy_if_predictions\n",
        "print(copy_if_predictions.min())\n",
        "print(copy_if_predictions.max())"
      ],
      "metadata": {
        "colab": {
          "base_uri": "https://localhost:8080/"
        },
        "id": "fdxgpHlKqdLf",
        "outputId": "46656be7-a423-4b6d-d6be-cea402f839e2"
      },
      "execution_count": 167,
      "outputs": [
        {
          "output_type": "stream",
          "name": "stdout",
          "text": [
            "0\n",
            "1\n"
          ]
        }
      ]
    },
    {
      "cell_type": "code",
      "source": [
        "if_outliers_df = subset_df.copy(deep=True)\n",
        "if_outliers_df['Outlier'] = copy_if_predictions\n",
        "if_outliers_df = if_outliers_df[if_outliers_df['Outlier'] == 1] #ALREADY CONVERTED TO 0 and 1\n",
        "\n",
        "print('Total Outliers:', len(if_outliers_df))\n",
        "if_outliers_sorted = if_outliers_df.sort_values(by=['Profit', 'Discount'], ascending=False)\n",
        "if_outliers_sorted.head(5)"
      ],
      "metadata": {
        "colab": {
          "base_uri": "https://localhost:8080/",
          "height": 224
        },
        "id": "8cDv4tLTpRkx",
        "outputId": "9c6b2d16-57b4-4d34-906c-17de2f198201"
      },
      "execution_count": 168,
      "outputs": [
        {
          "output_type": "stream",
          "name": "stdout",
          "text": [
            "Total Outliers: 100\n"
          ]
        },
        {
          "output_type": "execute_result",
          "data": {
            "text/plain": [
              "      Discount    Profit  Outlier\n",
              "6826       0.0  1.000000        1\n",
              "8153       0.0  0.888000        1\n",
              "4190       0.0  0.776000        1\n",
              "9039       0.0  0.769759        1\n",
              "4098       0.0  0.748699        1"
            ],
            "text/html": [
              "\n",
              "  <div id=\"df-4496b089-2eb2-4769-9076-21bb801847e7\">\n",
              "    <div class=\"colab-df-container\">\n",
              "      <div>\n",
              "<style scoped>\n",
              "    .dataframe tbody tr th:only-of-type {\n",
              "        vertical-align: middle;\n",
              "    }\n",
              "\n",
              "    .dataframe tbody tr th {\n",
              "        vertical-align: top;\n",
              "    }\n",
              "\n",
              "    .dataframe thead th {\n",
              "        text-align: right;\n",
              "    }\n",
              "</style>\n",
              "<table border=\"1\" class=\"dataframe\">\n",
              "  <thead>\n",
              "    <tr style=\"text-align: right;\">\n",
              "      <th></th>\n",
              "      <th>Discount</th>\n",
              "      <th>Profit</th>\n",
              "      <th>Outlier</th>\n",
              "    </tr>\n",
              "  </thead>\n",
              "  <tbody>\n",
              "    <tr>\n",
              "      <th>6826</th>\n",
              "      <td>0.0</td>\n",
              "      <td>1.000000</td>\n",
              "      <td>1</td>\n",
              "    </tr>\n",
              "    <tr>\n",
              "      <th>8153</th>\n",
              "      <td>0.0</td>\n",
              "      <td>0.888000</td>\n",
              "      <td>1</td>\n",
              "    </tr>\n",
              "    <tr>\n",
              "      <th>4190</th>\n",
              "      <td>0.0</td>\n",
              "      <td>0.776000</td>\n",
              "      <td>1</td>\n",
              "    </tr>\n",
              "    <tr>\n",
              "      <th>9039</th>\n",
              "      <td>0.0</td>\n",
              "      <td>0.769759</td>\n",
              "      <td>1</td>\n",
              "    </tr>\n",
              "    <tr>\n",
              "      <th>4098</th>\n",
              "      <td>0.0</td>\n",
              "      <td>0.748699</td>\n",
              "      <td>1</td>\n",
              "    </tr>\n",
              "  </tbody>\n",
              "</table>\n",
              "</div>\n",
              "      <button class=\"colab-df-convert\" onclick=\"convertToInteractive('df-4496b089-2eb2-4769-9076-21bb801847e7')\"\n",
              "              title=\"Convert this dataframe to an interactive table.\"\n",
              "              style=\"display:none;\">\n",
              "        \n",
              "  <svg xmlns=\"http://www.w3.org/2000/svg\" height=\"24px\"viewBox=\"0 0 24 24\"\n",
              "       width=\"24px\">\n",
              "    <path d=\"M0 0h24v24H0V0z\" fill=\"none\"/>\n",
              "    <path d=\"M18.56 5.44l.94 2.06.94-2.06 2.06-.94-2.06-.94-.94-2.06-.94 2.06-2.06.94zm-11 1L8.5 8.5l.94-2.06 2.06-.94-2.06-.94L8.5 2.5l-.94 2.06-2.06.94zm10 10l.94 2.06.94-2.06 2.06-.94-2.06-.94-.94-2.06-.94 2.06-2.06.94z\"/><path d=\"M17.41 7.96l-1.37-1.37c-.4-.4-.92-.59-1.43-.59-.52 0-1.04.2-1.43.59L10.3 9.45l-7.72 7.72c-.78.78-.78 2.05 0 2.83L4 21.41c.39.39.9.59 1.41.59.51 0 1.02-.2 1.41-.59l7.78-7.78 2.81-2.81c.8-.78.8-2.07 0-2.86zM5.41 20L4 18.59l7.72-7.72 1.47 1.35L5.41 20z\"/>\n",
              "  </svg>\n",
              "      </button>\n",
              "      \n",
              "  <style>\n",
              "    .colab-df-container {\n",
              "      display:flex;\n",
              "      flex-wrap:wrap;\n",
              "      gap: 12px;\n",
              "    }\n",
              "\n",
              "    .colab-df-convert {\n",
              "      background-color: #E8F0FE;\n",
              "      border: none;\n",
              "      border-radius: 50%;\n",
              "      cursor: pointer;\n",
              "      display: none;\n",
              "      fill: #1967D2;\n",
              "      height: 32px;\n",
              "      padding: 0 0 0 0;\n",
              "      width: 32px;\n",
              "    }\n",
              "\n",
              "    .colab-df-convert:hover {\n",
              "      background-color: #E2EBFA;\n",
              "      box-shadow: 0px 1px 2px rgba(60, 64, 67, 0.3), 0px 1px 3px 1px rgba(60, 64, 67, 0.15);\n",
              "      fill: #174EA6;\n",
              "    }\n",
              "\n",
              "    [theme=dark] .colab-df-convert {\n",
              "      background-color: #3B4455;\n",
              "      fill: #D2E3FC;\n",
              "    }\n",
              "\n",
              "    [theme=dark] .colab-df-convert:hover {\n",
              "      background-color: #434B5C;\n",
              "      box-shadow: 0px 1px 3px 1px rgba(0, 0, 0, 0.15);\n",
              "      filter: drop-shadow(0px 1px 2px rgba(0, 0, 0, 0.3));\n",
              "      fill: #FFFFFF;\n",
              "    }\n",
              "  </style>\n",
              "\n",
              "      <script>\n",
              "        const buttonEl =\n",
              "          document.querySelector('#df-4496b089-2eb2-4769-9076-21bb801847e7 button.colab-df-convert');\n",
              "        buttonEl.style.display =\n",
              "          google.colab.kernel.accessAllowed ? 'block' : 'none';\n",
              "\n",
              "        async function convertToInteractive(key) {\n",
              "          const element = document.querySelector('#df-4496b089-2eb2-4769-9076-21bb801847e7');\n",
              "          const dataTable =\n",
              "            await google.colab.kernel.invokeFunction('convertToInteractive',\n",
              "                                                     [key], {});\n",
              "          if (!dataTable) return;\n",
              "\n",
              "          const docLinkHtml = 'Like what you see? Visit the ' +\n",
              "            '<a target=\"_blank\" href=https://colab.research.google.com/notebooks/data_table.ipynb>data table notebook</a>'\n",
              "            + ' to learn more about interactive tables.';\n",
              "          element.innerHTML = '';\n",
              "          dataTable['output_type'] = 'display_data';\n",
              "          await google.colab.output.renderOutput(dataTable, element);\n",
              "          const docLink = document.createElement('div');\n",
              "          docLink.innerHTML = docLinkHtml;\n",
              "          element.appendChild(docLink);\n",
              "        }\n",
              "      </script>\n",
              "    </div>\n",
              "  </div>\n",
              "  "
            ]
          },
          "metadata": {},
          "execution_count": 168
        }
      ]
    },
    {
      "cell_type": "markdown",
      "metadata": {
        "id": "AE5KJPT8HwUs"
      },
      "source": [
        "### View Bottom 10 Outlier Transactions\n",
        "\n",
        "__Your turn:__ View the bottom ten transactions "
      ]
    },
    {
      "cell_type": "code",
      "execution_count": 105,
      "metadata": {
        "id": "SGtsN0NlHwUs",
        "colab": {
          "base_uri": "https://localhost:8080/",
          "height": 363
        },
        "outputId": "2eb8d265-b82c-4233-d48e-d4830bbc048d"
      },
      "outputs": [
        {
          "output_type": "execute_result",
          "data": {
            "text/plain": [
              "              City         Category Sub-Category  \\\n",
              "2697  Jacksonville       Technology     Machines   \n",
              "1199       Houston  Office Supplies      Binders   \n",
              "9639       Concord        Furniture       Tables   \n",
              "5310       Houston  Office Supplies      Binders   \n",
              "3151        Newark       Technology     Machines   \n",
              "4991       Chicago  Office Supplies      Binders   \n",
              "3011    Louisville       Technology     Machines   \n",
              "9774   San Antonio  Office Supplies      Binders   \n",
              "683     Burlington       Technology     Machines   \n",
              "7772     Lancaster       Technology     Machines   \n",
              "\n",
              "                                           Product Name      Sales  Quantity  \\\n",
              "2697  Cisco TelePresence System EX90 Videoconferenci...  22638.480         6   \n",
              "1199          GBC DocuBind P400 Electric Binding System   1088.792         4   \n",
              "9639  Chromcraft Bull-Nose Wood Oval Conference Tabl...   4297.644        13   \n",
              "5310  Fellowes PB500 Electric Punch Plastic Comb Bin...   1525.188         6   \n",
              "3151          Cubify CubeX 3D Printer Double Head Print   1799.994         2   \n",
              "4991               Ibico EPK-21 Electric Binding System   1889.990         5   \n",
              "3011          Lexmark MX611dhe Monochrome Laser Printer   2549.985         5   \n",
              "9774          GBC DocuBind P400 Electric Binding System   2177.584         8   \n",
              "683           Cubify CubeX 3D Printer Triple Head Print   7999.980         4   \n",
              "7772          Cubify CubeX 3D Printer Double Head Print   4499.985         5   \n",
              "\n",
              "      Discount     Profit  \n",
              "2697       0.5 -1811.0784  \n",
              "1199       0.8 -1850.9464  \n",
              "9639       0.4 -1862.3124  \n",
              "5310       0.8 -2287.7820  \n",
              "3151       0.7 -2639.9912  \n",
              "4991       0.8 -2929.4845  \n",
              "3011       0.7 -3399.9800  \n",
              "9774       0.8 -3701.8928  \n",
              "683        0.5 -3839.9904  \n",
              "7772       0.7 -6599.9780  "
            ],
            "text/html": [
              "\n",
              "  <div id=\"df-a9d29172-8c5b-46a8-8754-3c7feecde665\">\n",
              "    <div class=\"colab-df-container\">\n",
              "      <div>\n",
              "<style scoped>\n",
              "    .dataframe tbody tr th:only-of-type {\n",
              "        vertical-align: middle;\n",
              "    }\n",
              "\n",
              "    .dataframe tbody tr th {\n",
              "        vertical-align: top;\n",
              "    }\n",
              "\n",
              "    .dataframe thead th {\n",
              "        text-align: right;\n",
              "    }\n",
              "</style>\n",
              "<table border=\"1\" class=\"dataframe\">\n",
              "  <thead>\n",
              "    <tr style=\"text-align: right;\">\n",
              "      <th></th>\n",
              "      <th>City</th>\n",
              "      <th>Category</th>\n",
              "      <th>Sub-Category</th>\n",
              "      <th>Product Name</th>\n",
              "      <th>Sales</th>\n",
              "      <th>Quantity</th>\n",
              "      <th>Discount</th>\n",
              "      <th>Profit</th>\n",
              "    </tr>\n",
              "  </thead>\n",
              "  <tbody>\n",
              "    <tr>\n",
              "      <th>2697</th>\n",
              "      <td>Jacksonville</td>\n",
              "      <td>Technology</td>\n",
              "      <td>Machines</td>\n",
              "      <td>Cisco TelePresence System EX90 Videoconferenci...</td>\n",
              "      <td>22638.480</td>\n",
              "      <td>6</td>\n",
              "      <td>0.5</td>\n",
              "      <td>-1811.0784</td>\n",
              "    </tr>\n",
              "    <tr>\n",
              "      <th>1199</th>\n",
              "      <td>Houston</td>\n",
              "      <td>Office Supplies</td>\n",
              "      <td>Binders</td>\n",
              "      <td>GBC DocuBind P400 Electric Binding System</td>\n",
              "      <td>1088.792</td>\n",
              "      <td>4</td>\n",
              "      <td>0.8</td>\n",
              "      <td>-1850.9464</td>\n",
              "    </tr>\n",
              "    <tr>\n",
              "      <th>9639</th>\n",
              "      <td>Concord</td>\n",
              "      <td>Furniture</td>\n",
              "      <td>Tables</td>\n",
              "      <td>Chromcraft Bull-Nose Wood Oval Conference Tabl...</td>\n",
              "      <td>4297.644</td>\n",
              "      <td>13</td>\n",
              "      <td>0.4</td>\n",
              "      <td>-1862.3124</td>\n",
              "    </tr>\n",
              "    <tr>\n",
              "      <th>5310</th>\n",
              "      <td>Houston</td>\n",
              "      <td>Office Supplies</td>\n",
              "      <td>Binders</td>\n",
              "      <td>Fellowes PB500 Electric Punch Plastic Comb Bin...</td>\n",
              "      <td>1525.188</td>\n",
              "      <td>6</td>\n",
              "      <td>0.8</td>\n",
              "      <td>-2287.7820</td>\n",
              "    </tr>\n",
              "    <tr>\n",
              "      <th>3151</th>\n",
              "      <td>Newark</td>\n",
              "      <td>Technology</td>\n",
              "      <td>Machines</td>\n",
              "      <td>Cubify CubeX 3D Printer Double Head Print</td>\n",
              "      <td>1799.994</td>\n",
              "      <td>2</td>\n",
              "      <td>0.7</td>\n",
              "      <td>-2639.9912</td>\n",
              "    </tr>\n",
              "    <tr>\n",
              "      <th>4991</th>\n",
              "      <td>Chicago</td>\n",
              "      <td>Office Supplies</td>\n",
              "      <td>Binders</td>\n",
              "      <td>Ibico EPK-21 Electric Binding System</td>\n",
              "      <td>1889.990</td>\n",
              "      <td>5</td>\n",
              "      <td>0.8</td>\n",
              "      <td>-2929.4845</td>\n",
              "    </tr>\n",
              "    <tr>\n",
              "      <th>3011</th>\n",
              "      <td>Louisville</td>\n",
              "      <td>Technology</td>\n",
              "      <td>Machines</td>\n",
              "      <td>Lexmark MX611dhe Monochrome Laser Printer</td>\n",
              "      <td>2549.985</td>\n",
              "      <td>5</td>\n",
              "      <td>0.7</td>\n",
              "      <td>-3399.9800</td>\n",
              "    </tr>\n",
              "    <tr>\n",
              "      <th>9774</th>\n",
              "      <td>San Antonio</td>\n",
              "      <td>Office Supplies</td>\n",
              "      <td>Binders</td>\n",
              "      <td>GBC DocuBind P400 Electric Binding System</td>\n",
              "      <td>2177.584</td>\n",
              "      <td>8</td>\n",
              "      <td>0.8</td>\n",
              "      <td>-3701.8928</td>\n",
              "    </tr>\n",
              "    <tr>\n",
              "      <th>683</th>\n",
              "      <td>Burlington</td>\n",
              "      <td>Technology</td>\n",
              "      <td>Machines</td>\n",
              "      <td>Cubify CubeX 3D Printer Triple Head Print</td>\n",
              "      <td>7999.980</td>\n",
              "      <td>4</td>\n",
              "      <td>0.5</td>\n",
              "      <td>-3839.9904</td>\n",
              "    </tr>\n",
              "    <tr>\n",
              "      <th>7772</th>\n",
              "      <td>Lancaster</td>\n",
              "      <td>Technology</td>\n",
              "      <td>Machines</td>\n",
              "      <td>Cubify CubeX 3D Printer Double Head Print</td>\n",
              "      <td>4499.985</td>\n",
              "      <td>5</td>\n",
              "      <td>0.7</td>\n",
              "      <td>-6599.9780</td>\n",
              "    </tr>\n",
              "  </tbody>\n",
              "</table>\n",
              "</div>\n",
              "      <button class=\"colab-df-convert\" onclick=\"convertToInteractive('df-a9d29172-8c5b-46a8-8754-3c7feecde665')\"\n",
              "              title=\"Convert this dataframe to an interactive table.\"\n",
              "              style=\"display:none;\">\n",
              "        \n",
              "  <svg xmlns=\"http://www.w3.org/2000/svg\" height=\"24px\"viewBox=\"0 0 24 24\"\n",
              "       width=\"24px\">\n",
              "    <path d=\"M0 0h24v24H0V0z\" fill=\"none\"/>\n",
              "    <path d=\"M18.56 5.44l.94 2.06.94-2.06 2.06-.94-2.06-.94-.94-2.06-.94 2.06-2.06.94zm-11 1L8.5 8.5l.94-2.06 2.06-.94-2.06-.94L8.5 2.5l-.94 2.06-2.06.94zm10 10l.94 2.06.94-2.06 2.06-.94-2.06-.94-.94-2.06-.94 2.06-2.06.94z\"/><path d=\"M17.41 7.96l-1.37-1.37c-.4-.4-.92-.59-1.43-.59-.52 0-1.04.2-1.43.59L10.3 9.45l-7.72 7.72c-.78.78-.78 2.05 0 2.83L4 21.41c.39.39.9.59 1.41.59.51 0 1.02-.2 1.41-.59l7.78-7.78 2.81-2.81c.8-.78.8-2.07 0-2.86zM5.41 20L4 18.59l7.72-7.72 1.47 1.35L5.41 20z\"/>\n",
              "  </svg>\n",
              "      </button>\n",
              "      \n",
              "  <style>\n",
              "    .colab-df-container {\n",
              "      display:flex;\n",
              "      flex-wrap:wrap;\n",
              "      gap: 12px;\n",
              "    }\n",
              "\n",
              "    .colab-df-convert {\n",
              "      background-color: #E8F0FE;\n",
              "      border: none;\n",
              "      border-radius: 50%;\n",
              "      cursor: pointer;\n",
              "      display: none;\n",
              "      fill: #1967D2;\n",
              "      height: 32px;\n",
              "      padding: 0 0 0 0;\n",
              "      width: 32px;\n",
              "    }\n",
              "\n",
              "    .colab-df-convert:hover {\n",
              "      background-color: #E2EBFA;\n",
              "      box-shadow: 0px 1px 2px rgba(60, 64, 67, 0.3), 0px 1px 3px 1px rgba(60, 64, 67, 0.15);\n",
              "      fill: #174EA6;\n",
              "    }\n",
              "\n",
              "    [theme=dark] .colab-df-convert {\n",
              "      background-color: #3B4455;\n",
              "      fill: #D2E3FC;\n",
              "    }\n",
              "\n",
              "    [theme=dark] .colab-df-convert:hover {\n",
              "      background-color: #434B5C;\n",
              "      box-shadow: 0px 1px 3px 1px rgba(0, 0, 0, 0.15);\n",
              "      filter: drop-shadow(0px 1px 2px rgba(0, 0, 0, 0.3));\n",
              "      fill: #FFFFFF;\n",
              "    }\n",
              "  </style>\n",
              "\n",
              "      <script>\n",
              "        const buttonEl =\n",
              "          document.querySelector('#df-a9d29172-8c5b-46a8-8754-3c7feecde665 button.colab-df-convert');\n",
              "        buttonEl.style.display =\n",
              "          google.colab.kernel.accessAllowed ? 'block' : 'none';\n",
              "\n",
              "        async function convertToInteractive(key) {\n",
              "          const element = document.querySelector('#df-a9d29172-8c5b-46a8-8754-3c7feecde665');\n",
              "          const dataTable =\n",
              "            await google.colab.kernel.invokeFunction('convertToInteractive',\n",
              "                                                     [key], {});\n",
              "          if (!dataTable) return;\n",
              "\n",
              "          const docLinkHtml = 'Like what you see? Visit the ' +\n",
              "            '<a target=\"_blank\" href=https://colab.research.google.com/notebooks/data_table.ipynb>data table notebook</a>'\n",
              "            + ' to learn more about interactive tables.';\n",
              "          element.innerHTML = '';\n",
              "          dataTable['output_type'] = 'display_data';\n",
              "          await google.colab.output.renderOutput(dataTable, element);\n",
              "          const docLink = document.createElement('div');\n",
              "          docLink.innerHTML = docLinkHtml;\n",
              "          element.appendChild(docLink);\n",
              "        }\n",
              "      </script>\n",
              "    </div>\n",
              "  </div>\n",
              "  "
            ]
          },
          "metadata": {},
          "execution_count": 105
        }
      ],
      "source": [
        "(df.loc[if_outliers_sorted.index.tolist()][['City', 'Category', 'Sub-Category', 'Product Name', \n",
        "                                              'Sales', 'Quantity', 'Discount', 'Profit']]).tail(10)"
      ]
    },
    {
      "cell_type": "markdown",
      "metadata": {
        "id": "8u-idFs1HwUs"
      },
      "source": [
        "### Q: Do you notice any differences in the results with the previous model?"
      ]
    },
    {
      "cell_type": "markdown",
      "metadata": {
        "id": "FWWGdmr-HwUs"
      },
      "source": [
        "We do notice some transactions with 80% discount and high losses"
      ]
    },
    {
      "cell_type": "markdown",
      "metadata": {
        "id": "KfVJWoArHwUs"
      },
      "source": [
        "## Q 4.3: Multivariate Anomaly Detection with Auto-encoders\n",
        "\n",
        "Here you will detect anomalies using the Auto-encoder model and use the learnings from 4.1. Here you will use the [Auto-encoder](https://pyod.readthedocs.io/en/latest/pyod.models.html#module-pyod.models.auto_encoder) model from `pyod` which is a deep learning model often used for learning useful data representations in an unsupervised fashion without any labeled data. \n",
        "\n",
        "![](outlier_ae.png)\n",
        "\n",
        "Similar to PCA, AE could be used to detect outlier objects in the data by calculating the reconstruction errors"
      ]
    },
    {
      "cell_type": "markdown",
      "metadata": {
        "id": "1u0bQrI_HwUs"
      },
      "source": [
        "### Initialize Model\n",
        "\n",
        "Here we initiaze an auto-encoder network with a few hidden layers so that we could train it for a 100 epochs"
      ]
    },
    {
      "cell_type": "code",
      "execution_count": 106,
      "metadata": {
        "id": "bK6rCjOUHwUt"
      },
      "outputs": [],
      "source": [
        "from pyod.models import auto_encoder\n",
        "\n",
        "ae_model = auto_encoder.AutoEncoder(hidden_neurons=[2, 32, 32, 2], \n",
        "                                    hidden_activation='relu',\n",
        "                                    output_activation='sigmoid',\n",
        "                                    epochs=100,\n",
        "                                    batch_size=32,\n",
        "                                    contamination=0.01)"
      ]
    },
    {
      "cell_type": "markdown",
      "metadata": {
        "id": "6pOS6cuiHwUt"
      },
      "source": [
        "### Train Model\n",
        "\n",
        "__Your turn:__ Train the model by calling the `fit()` function on the right data"
      ]
    },
    {
      "cell_type": "code",
      "execution_count": 108,
      "metadata": {
        "id": "MtSPioxeHwUt",
        "colab": {
          "base_uri": "https://localhost:8080/"
        },
        "outputId": "12b0d11a-5e74-4281-bc51-a31a69d27baf"
      },
      "outputs": [
        {
          "output_type": "stream",
          "name": "stdout",
          "text": [
            "Model: \"sequential\"\n",
            "_________________________________________________________________\n",
            " Layer (type)                Output Shape              Param #   \n",
            "=================================================================\n",
            " dense (Dense)               (None, 2)                 6         \n",
            "                                                                 \n",
            " dropout (Dropout)           (None, 2)                 0         \n",
            "                                                                 \n",
            " dense_1 (Dense)             (None, 2)                 6         \n",
            "                                                                 \n",
            " dropout_1 (Dropout)         (None, 2)                 0         \n",
            "                                                                 \n",
            " dense_2 (Dense)             (None, 2)                 6         \n",
            "                                                                 \n",
            " dropout_2 (Dropout)         (None, 2)                 0         \n",
            "                                                                 \n",
            " dense_3 (Dense)             (None, 32)                96        \n",
            "                                                                 \n",
            " dropout_3 (Dropout)         (None, 32)                0         \n",
            "                                                                 \n",
            " dense_4 (Dense)             (None, 32)                1056      \n",
            "                                                                 \n",
            " dropout_4 (Dropout)         (None, 32)                0         \n",
            "                                                                 \n",
            " dense_5 (Dense)             (None, 2)                 66        \n",
            "                                                                 \n",
            " dropout_5 (Dropout)         (None, 2)                 0         \n",
            "                                                                 \n",
            " dense_6 (Dense)             (None, 2)                 6         \n",
            "                                                                 \n",
            "=================================================================\n",
            "Total params: 1,242\n",
            "Trainable params: 1,242\n",
            "Non-trainable params: 0\n",
            "_________________________________________________________________\n",
            "None\n",
            "Epoch 1/100\n",
            "282/282 [==============================] - 5s 5ms/step - loss: 1.5736 - val_loss: 1.1279\n",
            "Epoch 2/100\n",
            "282/282 [==============================] - 1s 3ms/step - loss: 1.3400 - val_loss: 0.9883\n",
            "Epoch 3/100\n",
            "282/282 [==============================] - 1s 2ms/step - loss: 1.2262 - val_loss: 0.9111\n",
            "Epoch 4/100\n",
            "282/282 [==============================] - 1s 2ms/step - loss: 1.1678 - val_loss: 0.8684\n",
            "Epoch 5/100\n",
            "282/282 [==============================] - 1s 2ms/step - loss: 1.1316 - val_loss: 0.8411\n",
            "Epoch 6/100\n",
            "282/282 [==============================] - 1s 2ms/step - loss: 1.1056 - val_loss: 0.8241\n",
            "Epoch 7/100\n",
            "282/282 [==============================] - 1s 2ms/step - loss: 1.0880 - val_loss: 0.8128\n",
            "Epoch 8/100\n",
            "282/282 [==============================] - 1s 2ms/step - loss: 1.0788 - val_loss: 0.8039\n",
            "Epoch 9/100\n",
            "282/282 [==============================] - 1s 2ms/step - loss: 1.0682 - val_loss: 0.7978\n",
            "Epoch 10/100\n",
            "282/282 [==============================] - 1s 2ms/step - loss: 1.0619 - val_loss: 0.7928\n",
            "Epoch 11/100\n",
            "282/282 [==============================] - 1s 2ms/step - loss: 1.0572 - val_loss: 0.7887\n",
            "Epoch 12/100\n",
            "282/282 [==============================] - 1s 2ms/step - loss: 1.0518 - val_loss: 0.7853\n",
            "Epoch 13/100\n",
            "282/282 [==============================] - 1s 2ms/step - loss: 1.0481 - val_loss: 0.7827\n",
            "Epoch 14/100\n",
            "282/282 [==============================] - 1s 2ms/step - loss: 1.0440 - val_loss: 0.7800\n",
            "Epoch 15/100\n",
            "282/282 [==============================] - 1s 2ms/step - loss: 1.0417 - val_loss: 0.7781\n",
            "Epoch 16/100\n",
            "282/282 [==============================] - 1s 2ms/step - loss: 1.0395 - val_loss: 0.7766\n",
            "Epoch 17/100\n",
            "282/282 [==============================] - 1s 2ms/step - loss: 1.0381 - val_loss: 0.7750\n",
            "Epoch 18/100\n",
            "282/282 [==============================] - 1s 2ms/step - loss: 1.0361 - val_loss: 0.7737\n",
            "Epoch 19/100\n",
            "282/282 [==============================] - 1s 2ms/step - loss: 1.0349 - val_loss: 0.7728\n",
            "Epoch 20/100\n",
            "282/282 [==============================] - 1s 2ms/step - loss: 1.0341 - val_loss: 0.7718\n",
            "Epoch 21/100\n",
            "282/282 [==============================] - 1s 2ms/step - loss: 1.0329 - val_loss: 0.7708\n",
            "Epoch 22/100\n",
            "282/282 [==============================] - 1s 2ms/step - loss: 1.0321 - val_loss: 0.7700\n",
            "Epoch 23/100\n",
            "282/282 [==============================] - 1s 2ms/step - loss: 1.0314 - val_loss: 0.7694\n",
            "Epoch 24/100\n",
            "282/282 [==============================] - 1s 2ms/step - loss: 1.0308 - val_loss: 0.7688\n",
            "Epoch 25/100\n",
            "282/282 [==============================] - 1s 2ms/step - loss: 1.0304 - val_loss: 0.7683\n",
            "Epoch 26/100\n",
            "282/282 [==============================] - 1s 2ms/step - loss: 1.0300 - val_loss: 0.7679\n",
            "Epoch 27/100\n",
            "282/282 [==============================] - 1s 2ms/step - loss: 1.0296 - val_loss: 0.7675\n",
            "Epoch 28/100\n",
            "282/282 [==============================] - 1s 2ms/step - loss: 1.0293 - val_loss: 0.7671\n",
            "Epoch 29/100\n",
            "282/282 [==============================] - 1s 2ms/step - loss: 1.0291 - val_loss: 0.7668\n",
            "Epoch 30/100\n",
            "282/282 [==============================] - 1s 2ms/step - loss: 1.0287 - val_loss: 0.7665\n",
            "Epoch 31/100\n",
            "282/282 [==============================] - 1s 2ms/step - loss: 1.0285 - val_loss: 0.7663\n",
            "Epoch 32/100\n",
            "282/282 [==============================] - 1s 2ms/step - loss: 1.0283 - val_loss: 0.7661\n",
            "Epoch 33/100\n",
            "282/282 [==============================] - 1s 2ms/step - loss: 1.0281 - val_loss: 0.7658\n",
            "Epoch 34/100\n",
            "282/282 [==============================] - 1s 2ms/step - loss: 1.0280 - val_loss: 0.7657\n",
            "Epoch 35/100\n",
            "282/282 [==============================] - 1s 2ms/step - loss: 1.0279 - val_loss: 0.7655\n",
            "Epoch 36/100\n",
            "282/282 [==============================] - 1s 2ms/step - loss: 1.0277 - val_loss: 0.7653\n",
            "Epoch 37/100\n",
            "282/282 [==============================] - 1s 2ms/step - loss: 1.0276 - val_loss: 0.7652\n",
            "Epoch 38/100\n",
            "282/282 [==============================] - 1s 2ms/step - loss: 1.0275 - val_loss: 0.7651\n",
            "Epoch 39/100\n",
            "282/282 [==============================] - 1s 2ms/step - loss: 1.0274 - val_loss: 0.7649\n",
            "Epoch 40/100\n",
            "282/282 [==============================] - 1s 2ms/step - loss: 1.0273 - val_loss: 0.7649\n",
            "Epoch 41/100\n",
            "282/282 [==============================] - 1s 2ms/step - loss: 1.0272 - val_loss: 0.7647\n",
            "Epoch 42/100\n",
            "282/282 [==============================] - 1s 2ms/step - loss: 1.0272 - val_loss: 0.7646\n",
            "Epoch 43/100\n",
            "282/282 [==============================] - 1s 2ms/step - loss: 1.0271 - val_loss: 0.7646\n",
            "Epoch 44/100\n",
            "282/282 [==============================] - 1s 2ms/step - loss: 1.0271 - val_loss: 0.7645\n",
            "Epoch 45/100\n",
            "282/282 [==============================] - 1s 2ms/step - loss: 1.0270 - val_loss: 0.7645\n",
            "Epoch 46/100\n",
            "282/282 [==============================] - 1s 2ms/step - loss: 1.0270 - val_loss: 0.7644\n",
            "Epoch 47/100\n",
            "282/282 [==============================] - 1s 2ms/step - loss: 1.0269 - val_loss: 0.7643\n",
            "Epoch 48/100\n",
            "282/282 [==============================] - 1s 2ms/step - loss: 1.0269 - val_loss: 0.7643\n",
            "Epoch 49/100\n",
            "282/282 [==============================] - 1s 2ms/step - loss: 1.0269 - val_loss: 0.7642\n",
            "Epoch 50/100\n",
            "282/282 [==============================] - 1s 2ms/step - loss: 1.0268 - val_loss: 0.7642\n",
            "Epoch 51/100\n",
            "282/282 [==============================] - 1s 2ms/step - loss: 1.0268 - val_loss: 0.7641\n",
            "Epoch 52/100\n",
            "282/282 [==============================] - 1s 2ms/step - loss: 1.0268 - val_loss: 0.7641\n",
            "Epoch 53/100\n",
            "282/282 [==============================] - 1s 2ms/step - loss: 1.0268 - val_loss: 0.7641\n",
            "Epoch 54/100\n",
            "282/282 [==============================] - 1s 2ms/step - loss: 1.0267 - val_loss: 0.7640\n",
            "Epoch 55/100\n",
            "282/282 [==============================] - 1s 2ms/step - loss: 1.0267 - val_loss: 0.7640\n",
            "Epoch 56/100\n",
            "282/282 [==============================] - 1s 2ms/step - loss: 1.0267 - val_loss: 0.7640\n",
            "Epoch 57/100\n",
            "282/282 [==============================] - 1s 2ms/step - loss: 1.0267 - val_loss: 0.7640\n",
            "Epoch 58/100\n",
            "282/282 [==============================] - 1s 2ms/step - loss: 1.0267 - val_loss: 0.7639\n",
            "Epoch 59/100\n",
            "282/282 [==============================] - 1s 2ms/step - loss: 1.0266 - val_loss: 0.7639\n",
            "Epoch 60/100\n",
            "282/282 [==============================] - 1s 2ms/step - loss: 1.0266 - val_loss: 0.7639\n",
            "Epoch 61/100\n",
            "282/282 [==============================] - 1s 2ms/step - loss: 1.0266 - val_loss: 0.7638\n",
            "Epoch 62/100\n",
            "282/282 [==============================] - 1s 2ms/step - loss: 1.0266 - val_loss: 0.7638\n",
            "Epoch 63/100\n",
            "282/282 [==============================] - 1s 3ms/step - loss: 1.0266 - val_loss: 0.7638\n",
            "Epoch 64/100\n",
            "282/282 [==============================] - 1s 2ms/step - loss: 1.0266 - val_loss: 0.7638\n",
            "Epoch 65/100\n",
            "282/282 [==============================] - 1s 2ms/step - loss: 1.0266 - val_loss: 0.7637\n",
            "Epoch 66/100\n",
            "282/282 [==============================] - 1s 2ms/step - loss: 1.0265 - val_loss: 0.7637\n",
            "Epoch 67/100\n",
            "282/282 [==============================] - 1s 3ms/step - loss: 1.0265 - val_loss: 0.7637\n",
            "Epoch 68/100\n",
            "282/282 [==============================] - 1s 2ms/step - loss: 1.0265 - val_loss: 0.7637\n",
            "Epoch 69/100\n",
            "282/282 [==============================] - 1s 2ms/step - loss: 1.0265 - val_loss: 0.7637\n",
            "Epoch 70/100\n",
            "282/282 [==============================] - 1s 2ms/step - loss: 1.0265 - val_loss: 0.7636\n",
            "Epoch 71/100\n",
            "282/282 [==============================] - 1s 2ms/step - loss: 1.0265 - val_loss: 0.7636\n",
            "Epoch 72/100\n",
            "282/282 [==============================] - 1s 2ms/step - loss: 1.0265 - val_loss: 0.7636\n",
            "Epoch 73/100\n",
            "282/282 [==============================] - 1s 2ms/step - loss: 1.0265 - val_loss: 0.7636\n",
            "Epoch 74/100\n",
            "282/282 [==============================] - 1s 2ms/step - loss: 1.0265 - val_loss: 0.7636\n",
            "Epoch 75/100\n",
            "282/282 [==============================] - 1s 2ms/step - loss: 1.0265 - val_loss: 0.7636\n",
            "Epoch 76/100\n",
            "282/282 [==============================] - 1s 2ms/step - loss: 1.0265 - val_loss: 0.7636\n",
            "Epoch 77/100\n",
            "282/282 [==============================] - 1s 2ms/step - loss: 1.0265 - val_loss: 0.7636\n",
            "Epoch 78/100\n",
            "282/282 [==============================] - 1s 2ms/step - loss: 1.0265 - val_loss: 0.7635\n",
            "Epoch 79/100\n",
            "282/282 [==============================] - 1s 2ms/step - loss: 1.0265 - val_loss: 0.7635\n",
            "Epoch 80/100\n",
            "282/282 [==============================] - 1s 3ms/step - loss: 1.0265 - val_loss: 0.7635\n",
            "Epoch 81/100\n",
            "282/282 [==============================] - 1s 2ms/step - loss: 1.0265 - val_loss: 0.7635\n",
            "Epoch 82/100\n",
            "282/282 [==============================] - 1s 2ms/step - loss: 1.0264 - val_loss: 0.7635\n",
            "Epoch 83/100\n",
            "282/282 [==============================] - 1s 2ms/step - loss: 1.0264 - val_loss: 0.7635\n",
            "Epoch 84/100\n",
            "282/282 [==============================] - 1s 3ms/step - loss: 1.0264 - val_loss: 0.7635\n",
            "Epoch 85/100\n",
            "282/282 [==============================] - 1s 2ms/step - loss: 1.0264 - val_loss: 0.7635\n",
            "Epoch 86/100\n",
            "282/282 [==============================] - 1s 2ms/step - loss: 1.0264 - val_loss: 0.7635\n",
            "Epoch 87/100\n",
            "282/282 [==============================] - 1s 2ms/step - loss: 1.0264 - val_loss: 0.7635\n",
            "Epoch 88/100\n",
            "282/282 [==============================] - 1s 2ms/step - loss: 1.0264 - val_loss: 0.7635\n",
            "Epoch 89/100\n",
            "282/282 [==============================] - 1s 2ms/step - loss: 1.0264 - val_loss: 0.7634\n",
            "Epoch 90/100\n",
            "282/282 [==============================] - 1s 2ms/step - loss: 1.0264 - val_loss: 0.7634\n",
            "Epoch 91/100\n",
            "282/282 [==============================] - 1s 2ms/step - loss: 1.0264 - val_loss: 0.7634\n",
            "Epoch 92/100\n",
            "282/282 [==============================] - 1s 2ms/step - loss: 1.0264 - val_loss: 0.7634\n",
            "Epoch 93/100\n",
            "282/282 [==============================] - 1s 2ms/step - loss: 1.0264 - val_loss: 0.7634\n",
            "Epoch 94/100\n",
            "282/282 [==============================] - 1s 2ms/step - loss: 1.0264 - val_loss: 0.7634\n",
            "Epoch 95/100\n",
            "282/282 [==============================] - 1s 2ms/step - loss: 1.0264 - val_loss: 0.7634\n",
            "Epoch 96/100\n",
            "282/282 [==============================] - 1s 2ms/step - loss: 1.0264 - val_loss: 0.7634\n",
            "Epoch 97/100\n",
            "282/282 [==============================] - 1s 2ms/step - loss: 1.0264 - val_loss: 0.7634\n",
            "Epoch 98/100\n",
            "282/282 [==============================] - 1s 2ms/step - loss: 1.0264 - val_loss: 0.7634\n",
            "Epoch 99/100\n",
            "282/282 [==============================] - 1s 2ms/step - loss: 1.0264 - val_loss: 0.7634\n",
            "Epoch 100/100\n",
            "282/282 [==============================] - 1s 2ms/step - loss: 1.0264 - val_loss: 0.7634\n"
          ]
        },
        {
          "output_type": "execute_result",
          "data": {
            "text/plain": [
              "AutoEncoder(batch_size=32, contamination=0.01, dropout_rate=0.2, epochs=100,\n",
              "      hidden_activation='relu', hidden_neurons=[2, 32, 32, 2],\n",
              "      l2_regularizer=0.1,\n",
              "      loss=<function mean_squared_error at 0x7f802d302050>,\n",
              "      optimizer='adam', output_activation='sigmoid', preprocessing=True,\n",
              "      random_state=None, validation_size=0.1, verbose=1)"
            ]
          },
          "metadata": {},
          "execution_count": 108
        }
      ],
      "source": [
        "ae_model.fit(subset_df)"
      ]
    },
    {
      "cell_type": "markdown",
      "metadata": {
        "id": "6HYRTBb7HwUt"
      },
      "source": [
        "### Filter and Sort Outliers\n",
        "\n",
        "__Your Turn:__ Predict outliers in our dataset using our trained model and filter out the outlier observations and sort by descending order and view the top 5 outlier values similar to 4.1"
      ]
    },
    {
      "cell_type": "code",
      "execution_count": 109,
      "metadata": {
        "id": "-eRSIY6THwUt",
        "colab": {
          "base_uri": "https://localhost:8080/",
          "height": 224
        },
        "outputId": "905d2fb1-1a74-495d-b63f-50cb15cd6a21"
      },
      "outputs": [
        {
          "output_type": "stream",
          "name": "stdout",
          "text": [
            "Total Outliers: 100\n"
          ]
        },
        {
          "output_type": "execute_result",
          "data": {
            "text/plain": [
              "      Discount    Profit  Outlier\n",
              "6826       0.0  1.000000        1\n",
              "8153       0.0  0.888000        1\n",
              "4190       0.0  0.776000        1\n",
              "9039       0.0  0.769759        1\n",
              "4098       0.0  0.748699        1"
            ],
            "text/html": [
              "\n",
              "  <div id=\"df-70a3903d-4a27-46ee-9ea7-46dfdb001280\">\n",
              "    <div class=\"colab-df-container\">\n",
              "      <div>\n",
              "<style scoped>\n",
              "    .dataframe tbody tr th:only-of-type {\n",
              "        vertical-align: middle;\n",
              "    }\n",
              "\n",
              "    .dataframe tbody tr th {\n",
              "        vertical-align: top;\n",
              "    }\n",
              "\n",
              "    .dataframe thead th {\n",
              "        text-align: right;\n",
              "    }\n",
              "</style>\n",
              "<table border=\"1\" class=\"dataframe\">\n",
              "  <thead>\n",
              "    <tr style=\"text-align: right;\">\n",
              "      <th></th>\n",
              "      <th>Discount</th>\n",
              "      <th>Profit</th>\n",
              "      <th>Outlier</th>\n",
              "    </tr>\n",
              "  </thead>\n",
              "  <tbody>\n",
              "    <tr>\n",
              "      <th>6826</th>\n",
              "      <td>0.0</td>\n",
              "      <td>1.000000</td>\n",
              "      <td>1</td>\n",
              "    </tr>\n",
              "    <tr>\n",
              "      <th>8153</th>\n",
              "      <td>0.0</td>\n",
              "      <td>0.888000</td>\n",
              "      <td>1</td>\n",
              "    </tr>\n",
              "    <tr>\n",
              "      <th>4190</th>\n",
              "      <td>0.0</td>\n",
              "      <td>0.776000</td>\n",
              "      <td>1</td>\n",
              "    </tr>\n",
              "    <tr>\n",
              "      <th>9039</th>\n",
              "      <td>0.0</td>\n",
              "      <td>0.769759</td>\n",
              "      <td>1</td>\n",
              "    </tr>\n",
              "    <tr>\n",
              "      <th>4098</th>\n",
              "      <td>0.0</td>\n",
              "      <td>0.748699</td>\n",
              "      <td>1</td>\n",
              "    </tr>\n",
              "  </tbody>\n",
              "</table>\n",
              "</div>\n",
              "      <button class=\"colab-df-convert\" onclick=\"convertToInteractive('df-70a3903d-4a27-46ee-9ea7-46dfdb001280')\"\n",
              "              title=\"Convert this dataframe to an interactive table.\"\n",
              "              style=\"display:none;\">\n",
              "        \n",
              "  <svg xmlns=\"http://www.w3.org/2000/svg\" height=\"24px\"viewBox=\"0 0 24 24\"\n",
              "       width=\"24px\">\n",
              "    <path d=\"M0 0h24v24H0V0z\" fill=\"none\"/>\n",
              "    <path d=\"M18.56 5.44l.94 2.06.94-2.06 2.06-.94-2.06-.94-.94-2.06-.94 2.06-2.06.94zm-11 1L8.5 8.5l.94-2.06 2.06-.94-2.06-.94L8.5 2.5l-.94 2.06-2.06.94zm10 10l.94 2.06.94-2.06 2.06-.94-2.06-.94-.94-2.06-.94 2.06-2.06.94z\"/><path d=\"M17.41 7.96l-1.37-1.37c-.4-.4-.92-.59-1.43-.59-.52 0-1.04.2-1.43.59L10.3 9.45l-7.72 7.72c-.78.78-.78 2.05 0 2.83L4 21.41c.39.39.9.59 1.41.59.51 0 1.02-.2 1.41-.59l7.78-7.78 2.81-2.81c.8-.78.8-2.07 0-2.86zM5.41 20L4 18.59l7.72-7.72 1.47 1.35L5.41 20z\"/>\n",
              "  </svg>\n",
              "      </button>\n",
              "      \n",
              "  <style>\n",
              "    .colab-df-container {\n",
              "      display:flex;\n",
              "      flex-wrap:wrap;\n",
              "      gap: 12px;\n",
              "    }\n",
              "\n",
              "    .colab-df-convert {\n",
              "      background-color: #E8F0FE;\n",
              "      border: none;\n",
              "      border-radius: 50%;\n",
              "      cursor: pointer;\n",
              "      display: none;\n",
              "      fill: #1967D2;\n",
              "      height: 32px;\n",
              "      padding: 0 0 0 0;\n",
              "      width: 32px;\n",
              "    }\n",
              "\n",
              "    .colab-df-convert:hover {\n",
              "      background-color: #E2EBFA;\n",
              "      box-shadow: 0px 1px 2px rgba(60, 64, 67, 0.3), 0px 1px 3px 1px rgba(60, 64, 67, 0.15);\n",
              "      fill: #174EA6;\n",
              "    }\n",
              "\n",
              "    [theme=dark] .colab-df-convert {\n",
              "      background-color: #3B4455;\n",
              "      fill: #D2E3FC;\n",
              "    }\n",
              "\n",
              "    [theme=dark] .colab-df-convert:hover {\n",
              "      background-color: #434B5C;\n",
              "      box-shadow: 0px 1px 3px 1px rgba(0, 0, 0, 0.15);\n",
              "      filter: drop-shadow(0px 1px 2px rgba(0, 0, 0, 0.3));\n",
              "      fill: #FFFFFF;\n",
              "    }\n",
              "  </style>\n",
              "\n",
              "      <script>\n",
              "        const buttonEl =\n",
              "          document.querySelector('#df-70a3903d-4a27-46ee-9ea7-46dfdb001280 button.colab-df-convert');\n",
              "        buttonEl.style.display =\n",
              "          google.colab.kernel.accessAllowed ? 'block' : 'none';\n",
              "\n",
              "        async function convertToInteractive(key) {\n",
              "          const element = document.querySelector('#df-70a3903d-4a27-46ee-9ea7-46dfdb001280');\n",
              "          const dataTable =\n",
              "            await google.colab.kernel.invokeFunction('convertToInteractive',\n",
              "                                                     [key], {});\n",
              "          if (!dataTable) return;\n",
              "\n",
              "          const docLinkHtml = 'Like what you see? Visit the ' +\n",
              "            '<a target=\"_blank\" href=https://colab.research.google.com/notebooks/data_table.ipynb>data table notebook</a>'\n",
              "            + ' to learn more about interactive tables.';\n",
              "          element.innerHTML = '';\n",
              "          dataTable['output_type'] = 'display_data';\n",
              "          await google.colab.output.renderOutput(dataTable, element);\n",
              "          const docLink = document.createElement('div');\n",
              "          docLink.innerHTML = docLinkHtml;\n",
              "          element.appendChild(docLink);\n",
              "        }\n",
              "      </script>\n",
              "    </div>\n",
              "  </div>\n",
              "  "
            ]
          },
          "metadata": {},
          "execution_count": 109
        }
      ],
      "source": [
        "ae_outlier_predictions = ae_model.predict(subset_df)\n",
        "\n",
        "ae_outliers_df = subset_df.copy(deep=True)\n",
        "ae_outliers_df['Outlier'] = ae_outlier_predictions\n",
        "ae_outliers_df = ae_outliers_df[ae_outliers_df['Outlier'] == 1]\n",
        "\n",
        "print('Total Outliers:', len(ae_outliers_df))\n",
        "ae_outliers_sorted = ae_outliers_df.sort_values(by=['Profit', 'Discount'], ascending=False)\n",
        "ae_outliers_sorted.head(5)"
      ]
    },
    {
      "cell_type": "code",
      "source": [
        "ae_outlier_predictions"
      ],
      "metadata": {
        "colab": {
          "base_uri": "https://localhost:8080/"
        },
        "id": "exGzORiTpLEj",
        "outputId": "daf25f81-230b-4477-d306-315636aaed2d"
      },
      "execution_count": 117,
      "outputs": [
        {
          "output_type": "execute_result",
          "data": {
            "text/plain": [
              "array([0, 0, 0, ..., 0, 0, 0])"
            ]
          },
          "metadata": {},
          "execution_count": 117
        }
      ]
    },
    {
      "cell_type": "markdown",
      "metadata": {
        "id": "XOS1kfUzHwUt"
      },
      "source": [
        "### View Bottom 10 Outlier Transactions\n",
        "\n",
        "__Your turn:__ View the bottom ten transactions "
      ]
    },
    {
      "cell_type": "code",
      "execution_count": 110,
      "metadata": {
        "id": "OkZObYeOHwUt",
        "colab": {
          "base_uri": "https://localhost:8080/",
          "height": 363
        },
        "outputId": "7c6a6a99-69a8-4303-e2ae-8b954ab2acee"
      },
      "outputs": [
        {
          "output_type": "execute_result",
          "data": {
            "text/plain": [
              "              City         Category Sub-Category  \\\n",
              "2697  Jacksonville       Technology     Machines   \n",
              "1199       Houston  Office Supplies      Binders   \n",
              "9639       Concord        Furniture       Tables   \n",
              "5310       Houston  Office Supplies      Binders   \n",
              "3151        Newark       Technology     Machines   \n",
              "4991       Chicago  Office Supplies      Binders   \n",
              "3011    Louisville       Technology     Machines   \n",
              "9774   San Antonio  Office Supplies      Binders   \n",
              "683     Burlington       Technology     Machines   \n",
              "7772     Lancaster       Technology     Machines   \n",
              "\n",
              "                                           Product Name      Sales  Quantity  \\\n",
              "2697  Cisco TelePresence System EX90 Videoconferenci...  22638.480         6   \n",
              "1199          GBC DocuBind P400 Electric Binding System   1088.792         4   \n",
              "9639  Chromcraft Bull-Nose Wood Oval Conference Tabl...   4297.644        13   \n",
              "5310  Fellowes PB500 Electric Punch Plastic Comb Bin...   1525.188         6   \n",
              "3151          Cubify CubeX 3D Printer Double Head Print   1799.994         2   \n",
              "4991               Ibico EPK-21 Electric Binding System   1889.990         5   \n",
              "3011          Lexmark MX611dhe Monochrome Laser Printer   2549.985         5   \n",
              "9774          GBC DocuBind P400 Electric Binding System   2177.584         8   \n",
              "683           Cubify CubeX 3D Printer Triple Head Print   7999.980         4   \n",
              "7772          Cubify CubeX 3D Printer Double Head Print   4499.985         5   \n",
              "\n",
              "      Discount     Profit  \n",
              "2697       0.5 -1811.0784  \n",
              "1199       0.8 -1850.9464  \n",
              "9639       0.4 -1862.3124  \n",
              "5310       0.8 -2287.7820  \n",
              "3151       0.7 -2639.9912  \n",
              "4991       0.8 -2929.4845  \n",
              "3011       0.7 -3399.9800  \n",
              "9774       0.8 -3701.8928  \n",
              "683        0.5 -3839.9904  \n",
              "7772       0.7 -6599.9780  "
            ],
            "text/html": [
              "\n",
              "  <div id=\"df-e45df4ca-0548-40e5-ad82-f0654950d6c3\">\n",
              "    <div class=\"colab-df-container\">\n",
              "      <div>\n",
              "<style scoped>\n",
              "    .dataframe tbody tr th:only-of-type {\n",
              "        vertical-align: middle;\n",
              "    }\n",
              "\n",
              "    .dataframe tbody tr th {\n",
              "        vertical-align: top;\n",
              "    }\n",
              "\n",
              "    .dataframe thead th {\n",
              "        text-align: right;\n",
              "    }\n",
              "</style>\n",
              "<table border=\"1\" class=\"dataframe\">\n",
              "  <thead>\n",
              "    <tr style=\"text-align: right;\">\n",
              "      <th></th>\n",
              "      <th>City</th>\n",
              "      <th>Category</th>\n",
              "      <th>Sub-Category</th>\n",
              "      <th>Product Name</th>\n",
              "      <th>Sales</th>\n",
              "      <th>Quantity</th>\n",
              "      <th>Discount</th>\n",
              "      <th>Profit</th>\n",
              "    </tr>\n",
              "  </thead>\n",
              "  <tbody>\n",
              "    <tr>\n",
              "      <th>2697</th>\n",
              "      <td>Jacksonville</td>\n",
              "      <td>Technology</td>\n",
              "      <td>Machines</td>\n",
              "      <td>Cisco TelePresence System EX90 Videoconferenci...</td>\n",
              "      <td>22638.480</td>\n",
              "      <td>6</td>\n",
              "      <td>0.5</td>\n",
              "      <td>-1811.0784</td>\n",
              "    </tr>\n",
              "    <tr>\n",
              "      <th>1199</th>\n",
              "      <td>Houston</td>\n",
              "      <td>Office Supplies</td>\n",
              "      <td>Binders</td>\n",
              "      <td>GBC DocuBind P400 Electric Binding System</td>\n",
              "      <td>1088.792</td>\n",
              "      <td>4</td>\n",
              "      <td>0.8</td>\n",
              "      <td>-1850.9464</td>\n",
              "    </tr>\n",
              "    <tr>\n",
              "      <th>9639</th>\n",
              "      <td>Concord</td>\n",
              "      <td>Furniture</td>\n",
              "      <td>Tables</td>\n",
              "      <td>Chromcraft Bull-Nose Wood Oval Conference Tabl...</td>\n",
              "      <td>4297.644</td>\n",
              "      <td>13</td>\n",
              "      <td>0.4</td>\n",
              "      <td>-1862.3124</td>\n",
              "    </tr>\n",
              "    <tr>\n",
              "      <th>5310</th>\n",
              "      <td>Houston</td>\n",
              "      <td>Office Supplies</td>\n",
              "      <td>Binders</td>\n",
              "      <td>Fellowes PB500 Electric Punch Plastic Comb Bin...</td>\n",
              "      <td>1525.188</td>\n",
              "      <td>6</td>\n",
              "      <td>0.8</td>\n",
              "      <td>-2287.7820</td>\n",
              "    </tr>\n",
              "    <tr>\n",
              "      <th>3151</th>\n",
              "      <td>Newark</td>\n",
              "      <td>Technology</td>\n",
              "      <td>Machines</td>\n",
              "      <td>Cubify CubeX 3D Printer Double Head Print</td>\n",
              "      <td>1799.994</td>\n",
              "      <td>2</td>\n",
              "      <td>0.7</td>\n",
              "      <td>-2639.9912</td>\n",
              "    </tr>\n",
              "    <tr>\n",
              "      <th>4991</th>\n",
              "      <td>Chicago</td>\n",
              "      <td>Office Supplies</td>\n",
              "      <td>Binders</td>\n",
              "      <td>Ibico EPK-21 Electric Binding System</td>\n",
              "      <td>1889.990</td>\n",
              "      <td>5</td>\n",
              "      <td>0.8</td>\n",
              "      <td>-2929.4845</td>\n",
              "    </tr>\n",
              "    <tr>\n",
              "      <th>3011</th>\n",
              "      <td>Louisville</td>\n",
              "      <td>Technology</td>\n",
              "      <td>Machines</td>\n",
              "      <td>Lexmark MX611dhe Monochrome Laser Printer</td>\n",
              "      <td>2549.985</td>\n",
              "      <td>5</td>\n",
              "      <td>0.7</td>\n",
              "      <td>-3399.9800</td>\n",
              "    </tr>\n",
              "    <tr>\n",
              "      <th>9774</th>\n",
              "      <td>San Antonio</td>\n",
              "      <td>Office Supplies</td>\n",
              "      <td>Binders</td>\n",
              "      <td>GBC DocuBind P400 Electric Binding System</td>\n",
              "      <td>2177.584</td>\n",
              "      <td>8</td>\n",
              "      <td>0.8</td>\n",
              "      <td>-3701.8928</td>\n",
              "    </tr>\n",
              "    <tr>\n",
              "      <th>683</th>\n",
              "      <td>Burlington</td>\n",
              "      <td>Technology</td>\n",
              "      <td>Machines</td>\n",
              "      <td>Cubify CubeX 3D Printer Triple Head Print</td>\n",
              "      <td>7999.980</td>\n",
              "      <td>4</td>\n",
              "      <td>0.5</td>\n",
              "      <td>-3839.9904</td>\n",
              "    </tr>\n",
              "    <tr>\n",
              "      <th>7772</th>\n",
              "      <td>Lancaster</td>\n",
              "      <td>Technology</td>\n",
              "      <td>Machines</td>\n",
              "      <td>Cubify CubeX 3D Printer Double Head Print</td>\n",
              "      <td>4499.985</td>\n",
              "      <td>5</td>\n",
              "      <td>0.7</td>\n",
              "      <td>-6599.9780</td>\n",
              "    </tr>\n",
              "  </tbody>\n",
              "</table>\n",
              "</div>\n",
              "      <button class=\"colab-df-convert\" onclick=\"convertToInteractive('df-e45df4ca-0548-40e5-ad82-f0654950d6c3')\"\n",
              "              title=\"Convert this dataframe to an interactive table.\"\n",
              "              style=\"display:none;\">\n",
              "        \n",
              "  <svg xmlns=\"http://www.w3.org/2000/svg\" height=\"24px\"viewBox=\"0 0 24 24\"\n",
              "       width=\"24px\">\n",
              "    <path d=\"M0 0h24v24H0V0z\" fill=\"none\"/>\n",
              "    <path d=\"M18.56 5.44l.94 2.06.94-2.06 2.06-.94-2.06-.94-.94-2.06-.94 2.06-2.06.94zm-11 1L8.5 8.5l.94-2.06 2.06-.94-2.06-.94L8.5 2.5l-.94 2.06-2.06.94zm10 10l.94 2.06.94-2.06 2.06-.94-2.06-.94-.94-2.06-.94 2.06-2.06.94z\"/><path d=\"M17.41 7.96l-1.37-1.37c-.4-.4-.92-.59-1.43-.59-.52 0-1.04.2-1.43.59L10.3 9.45l-7.72 7.72c-.78.78-.78 2.05 0 2.83L4 21.41c.39.39.9.59 1.41.59.51 0 1.02-.2 1.41-.59l7.78-7.78 2.81-2.81c.8-.78.8-2.07 0-2.86zM5.41 20L4 18.59l7.72-7.72 1.47 1.35L5.41 20z\"/>\n",
              "  </svg>\n",
              "      </button>\n",
              "      \n",
              "  <style>\n",
              "    .colab-df-container {\n",
              "      display:flex;\n",
              "      flex-wrap:wrap;\n",
              "      gap: 12px;\n",
              "    }\n",
              "\n",
              "    .colab-df-convert {\n",
              "      background-color: #E8F0FE;\n",
              "      border: none;\n",
              "      border-radius: 50%;\n",
              "      cursor: pointer;\n",
              "      display: none;\n",
              "      fill: #1967D2;\n",
              "      height: 32px;\n",
              "      padding: 0 0 0 0;\n",
              "      width: 32px;\n",
              "    }\n",
              "\n",
              "    .colab-df-convert:hover {\n",
              "      background-color: #E2EBFA;\n",
              "      box-shadow: 0px 1px 2px rgba(60, 64, 67, 0.3), 0px 1px 3px 1px rgba(60, 64, 67, 0.15);\n",
              "      fill: #174EA6;\n",
              "    }\n",
              "\n",
              "    [theme=dark] .colab-df-convert {\n",
              "      background-color: #3B4455;\n",
              "      fill: #D2E3FC;\n",
              "    }\n",
              "\n",
              "    [theme=dark] .colab-df-convert:hover {\n",
              "      background-color: #434B5C;\n",
              "      box-shadow: 0px 1px 3px 1px rgba(0, 0, 0, 0.15);\n",
              "      filter: drop-shadow(0px 1px 2px rgba(0, 0, 0, 0.3));\n",
              "      fill: #FFFFFF;\n",
              "    }\n",
              "  </style>\n",
              "\n",
              "      <script>\n",
              "        const buttonEl =\n",
              "          document.querySelector('#df-e45df4ca-0548-40e5-ad82-f0654950d6c3 button.colab-df-convert');\n",
              "        buttonEl.style.display =\n",
              "          google.colab.kernel.accessAllowed ? 'block' : 'none';\n",
              "\n",
              "        async function convertToInteractive(key) {\n",
              "          const element = document.querySelector('#df-e45df4ca-0548-40e5-ad82-f0654950d6c3');\n",
              "          const dataTable =\n",
              "            await google.colab.kernel.invokeFunction('convertToInteractive',\n",
              "                                                     [key], {});\n",
              "          if (!dataTable) return;\n",
              "\n",
              "          const docLinkHtml = 'Like what you see? Visit the ' +\n",
              "            '<a target=\"_blank\" href=https://colab.research.google.com/notebooks/data_table.ipynb>data table notebook</a>'\n",
              "            + ' to learn more about interactive tables.';\n",
              "          element.innerHTML = '';\n",
              "          dataTable['output_type'] = 'display_data';\n",
              "          await google.colab.output.renderOutput(dataTable, element);\n",
              "          const docLink = document.createElement('div');\n",
              "          docLink.innerHTML = docLinkHtml;\n",
              "          element.appendChild(docLink);\n",
              "        }\n",
              "      </script>\n",
              "    </div>\n",
              "  </div>\n",
              "  "
            ]
          },
          "metadata": {},
          "execution_count": 110
        }
      ],
      "source": [
        "(df.loc[ae_outliers_sorted.index.tolist()][['City', 'Category', 'Sub-Category', 'Product Name', \n",
        "                                              'Sales', 'Quantity', 'Discount', 'Profit']]).tail(10)"
      ]
    },
    {
      "cell_type": "markdown",
      "metadata": {
        "id": "fAz_aaScHwUt"
      },
      "source": [
        "## 4.4: Visualize Anomalies and Compare Anomaly Detection Models\n",
        "\n",
        "Here we will look at the visual plots of anomalies as detected by the above three models"
      ]
    },
    {
      "cell_type": "code",
      "execution_count": 264,
      "metadata": {
        "id": "8y08w9xkHwUt"
      },
      "outputs": [],
      "source": [
        "def visualize_anomalies(model, xx, yy, data_df, ax_obj, subplot_title):\n",
        "    \n",
        "    # predict raw anomaly score\n",
        "    print(\"\\n=======\\nProcessing {}\".format(subplot_title))\n",
        "    print(\"Anomaly score\")\n",
        "    print(model.decision_function(data_df))\n",
        "    scores_pred = model.decision_function(data_df) * -1\n",
        "    # prediction of a datapoint category outlier or inlier\n",
        "    y_pred = model.predict(data_df)\n",
        "    #--------------CHANGE THE ISOLATION FOREST RESULTS FROM -1 TO +1 TO 1 (OUTLIER) AND 0 (INLIER)\n",
        "    #print(y_pred)\n",
        "    if(subplot_title==\"Isolation Forest\"):\n",
        "      y_pred_copy=y_pred;\n",
        "      y_pred[y_pred_copy==1]=0\n",
        "      y_pred[y_pred_copy==-1]=1\n",
        "      print(\".....Transforming Isolation Forest Results from -1 to +1 to 1 and 0 respectively\")\n",
        "      print(y_pred.min())\n",
        "      print(y_pred.max())\n",
        "    n_inliers = len(y_pred) - np.count_nonzero(y_pred)\n",
        "    n_outliers = np.count_nonzero(y_pred == 1)\n",
        "    print(\"INFO:Number of outliers for {}={}\".format(subplot_title,n_outliers))\n",
        "\n",
        "    out_df = data_df.copy(deep=True)\n",
        "    out_df['Outlier'] = y_pred.tolist()\n",
        "    # discount - inlier feature 1,  profit - inlier feature 2\n",
        "    inliers_discount = out_df[out_df['Outlier'] == 0]['Discount'].values\n",
        "    inliers_profit = out_df[out_df['Outlier'] == 0]['Profit'].values\n",
        "    # discount - outlier feature 1, profit - outlier feature 2\n",
        "    outliers_discount = out_df[out_df['Outlier'] == 1]['Discount'].values\n",
        "    outliers_profit = out_df[out_df['Outlier'] == 1]['Profit'].values\n",
        "\n",
        "    # Use threshold value to consider a datapoint inlier or outlier\n",
        "    # threshold = stats.scoreatpercentile(scores_pred,100 * outliers_fraction)\n",
        "    threshold = np.percentile(scores_pred, 100 * outliers_fraction)   \n",
        "    # decision function calculates the raw anomaly score for every point\n",
        "    Z = model.decision_function(np.c_[xx.ravel(), yy.ravel()]) * -1\n",
        "    \n",
        "    Z = Z.reshape(xx.shape)\n",
        "    if(subplot_title==\"Isolation Forest\"):\n",
        "      threshold=-0.1\n",
        "    print(\"Zmin {} Threshold{} \".format(Z.min(), threshold))\n",
        " \n",
        "    \n",
        "    #fill blue map colormap from minimum anomaly score to threshold value\n",
        "    ax_obj.contourf(xx, yy, Z, levels=np.linspace(Z.min(), threshold, 7),cmap=plt.cm.Blues_r)\n",
        "    print(\"---- blue contour success\")\n",
        "    # draw red contour line where anomaly score is equal to thresold\n",
        "    a = ax_obj.contour(xx, yy, Z, levels=[threshold],linewidths=2, colors='red')\n",
        "    print(\"---- red  contour success\")\n",
        "    # fill orange contour lines where range of anomaly score is from threshold to maximum anomaly score\n",
        "    ax_obj.contourf(xx, yy, Z, levels=[threshold, Z.max()],colors='orange')\n",
        "    print(\"---- orange  contour success\")\n",
        "    b = ax_obj.scatter(inliers_discount, inliers_profit, c='white',s=20, edgecolor='k')\n",
        "    c = ax_obj.scatter(outliers_discount, outliers_profit, c='black',s=20, edgecolor='k')\n",
        "\n",
        "\n",
        "    ax_obj.legend([a.collections[0], b,c], ['learned decision function', 'inliers','outliers'],\n",
        "               prop=matplotlib.font_manager.FontProperties(size=10),loc='upper right')\n",
        "\n",
        "    ax_obj.set_xlim((0, 1))\n",
        "    ax_obj.set_ylim((0, 1))\n",
        "    ax_obj.set_xlabel('Discount')\n",
        "    ax_obj.set_ylabel('Sales')\n",
        "    ax_obj.set_title(subplot_title)"
      ]
    },
    {
      "cell_type": "code",
      "execution_count": 265,
      "metadata": {
        "id": "0h_TV01ZHwUu",
        "colab": {
          "base_uri": "https://localhost:8080/",
          "height": 977
        },
        "outputId": "dac28782-c1c5-4412-9539-f4f9cbc5a418"
      },
      "outputs": [
        {
          "output_type": "stream",
          "name": "stdout",
          "text": [
            "\n",
            "=======\n",
            "Processing Cluster-based Local Outlier Factor (CBLOF)\n",
            "Anomaly score\n",
            "[0.00166578 0.01017881 0.00400194 ... 0.00035396 0.00357203 0.00040318]\n",
            "INFO:Number of outliers for Cluster-based Local Outlier Factor (CBLOF)=100\n",
            "Zmin -0.6414027176370393 Threshold-0.25018961084608154 \n",
            "---- blue contour success\n",
            "---- red  contour success\n",
            "---- orange  contour success\n",
            "\n",
            "=======\n",
            "Processing Isolation Forest\n",
            "Anomaly score\n",
            "[0.31382644 0.18605098 0.34858838 ... 0.35369941 0.35158335 0.28650757]\n",
            ".....Transforming Isolation Forest Results from -1 to +1 to 1 and 0 respectively\n",
            "0\n",
            "1\n",
            "INFO:Number of outliers for Isolation Forest=100\n",
            "Zmin -0.2958159934400439 Threshold-0.1 \n",
            "---- blue contour success\n",
            "---- red  contour success\n",
            "---- orange  contour success\n",
            "\n",
            "=======\n",
            "Processing Auto-Encoder\n",
            "Anomaly score\n",
            "[0.76537923 1.11044571 0.7707003  ... 0.21059072 0.76753794 0.78481709]\n",
            "INFO:Number of outliers for Auto-Encoder=100\n",
            "Zmin -35.863033032973775 Threshold-3.472439100589137 \n",
            "---- blue contour success\n",
            "---- red  contour success\n",
            "---- orange  contour success\n"
          ]
        },
        {
          "output_type": "display_data",
          "data": {
            "text/plain": [
              "<Figure size 1440x432 with 3 Axes>"
            ],
            "image/png": "[encoded data removed]"
          },
          "metadata": {
            "needs_background": "light"
          }
        }
      ],
      "source": [
        "outliers_fraction = 0.01\n",
        "xx , yy = np.meshgrid(np.linspace(0, 1, 100), np.linspace(0, 1, 100))\n",
        "fig, ax = plt.subplots(1, 3, figsize=(20, 6))\n",
        "\n",
        "ax_objs = [ax[0], ax[1], ax[2]]\n",
        "models = [cblof_model, if_model, ae_model]\n",
        "plot_titles = ['Cluster-based Local Outlier Factor (CBLOF)',\n",
        "               'Isolation Forest',\n",
        "               'Auto-Encoder']\n",
        "\n",
        "for ax_obj, model, plot_title in zip(ax_objs, models, plot_titles):\n",
        "    visualize_anomalies(model=model,\n",
        "                        xx=xx, yy=yy,\n",
        "                        data_df=subset_df,\n",
        "                        ax_obj=ax_obj,\n",
        "                        subplot_title=plot_title)\n",
        "plt.axis('tight');\n"
      ]
    },
    {
      "cell_type": "code",
      "source": [
        ""
      ],
      "metadata": {
        "id": "W4uCDlorBLq5"
      },
      "execution_count": null,
      "outputs": []
    }
  ],
  "metadata": {
    "kernelspec": {
      "display_name": "Python 3",
      "language": "python",
      "name": "python3"
    },
    "language_info": {
      "codemirror_mode": {
        "name": "ipython",
        "version": 3
      },
      "file_extension": ".py",
      "mimetype": "text/x-python",
      "name": "python",
      "nbconvert_exporter": "python",
      "pygments_lexer": "ipython3",
      "version": "3.7.6"
    },
    "colab": {
      "name": "Mini_Project_Anomaly_Detection.ipynb",
      "provenance": [],
      "collapsed_sections": [],
      "include_colab_link": true
    }
  },
  "nbformat": 4,
  "nbformat_minor": 0
}